{
 "cells": [
  {
   "cell_type": "markdown",
   "id": "d92d03b9-073e-45a8-8da3-bc4843249b39",
   "metadata": {
    "tags": []
   },
   "source": [
    "## Imports and Global Definitions"
   ]
  },
  {
   "cell_type": "code",
   "execution_count": 1,
   "id": "d137c238-3cf5-45f8-928c-00acb95b59d6",
   "metadata": {},
   "outputs": [
    {
     "data": {
      "text/html": [
       "<style>\n",
       "        .bk-notebook-logo {\n",
       "            display: block;\n",
       "            width: 20px;\n",
       "            height: 20px;\n",
       "            background-image: url(data:image/png;base64,iVBORw0KGgoAAAANSUhEUgAAABQAAAAUCAYAAACNiR0NAAAABHNCSVQICAgIfAhkiAAAAAlwSFlzAAALEgAACxIB0t1+/AAAABx0RVh0U29mdHdhcmUAQWRvYmUgRmlyZXdvcmtzIENTNui8sowAAAOkSURBVDiNjZRtaJVlGMd/1/08zzln5zjP1LWcU9N0NkN8m2CYjpgQYQXqSs0I84OLIC0hkEKoPtiH3gmKoiJDU7QpLgoLjLIQCpEsNJ1vqUOdO7ppbuec5+V+rj4ctwzd8IIbbi6u+8f1539dt3A78eXC7QizUF7gyV1fD1Yqg4JWz84yffhm0qkFqBogB9rM8tZdtwVsPUhWhGcFJngGeWrPzHm5oaMmkfEg1usvLFyc8jLRqDOMru7AyC8saQr7GG7f5fvDeH7Ej8CM66nIF+8yngt6HWaKh7k49Soy9nXurCi1o3qUbS3zWfrYeQDTB/Qj6kX6Ybhw4B+bOYoLKCC9H3Nu/leUTZ1JdRWkkn2ldcCamzrcf47KKXdAJllSlxAOkRgyHsGC/zRday5Qld9DyoM4/q/rUoy/CXh3jzOu3bHUVZeU+DEn8FInkPBFlu3+nW3Nw0mk6vCDiWg8CeJaxEwuHS3+z5RgY+YBR6V1Z1nxSOfoaPa4LASWxxdNp+VWTk7+4vzaou8v8PN+xo+KY2xsw6une2frhw05CTYOmQvsEhjhWjn0bmXPjpE1+kplmmkP3suftwTubK9Vq22qKmrBhpY4jvd5afdRA3wGjFAgcnTK2s4hY0/GPNIb0nErGMCRxWOOX64Z8RAC4oCXdklmEvcL8o0BfkNK4lUg9HTl+oPlQxdNo3Mg4Nv175e/1LDGzZen30MEjRUtmXSfiTVu1kK8W4txyV6BMKlbgk3lMwYCiusNy9fVfvvwMxv8Ynl6vxoByANLTWplvuj/nF9m2+PDtt1eiHPBr1oIfhCChQMBw6Aw0UulqTKZdfVvfG7VcfIqLG9bcldL/+pdWTLxLUy8Qq38heUIjh4XlzZxzQm19lLFlr8vdQ97rjZVOLf8nclzckbcD4wxXMidpX30sFd37Fv/GtwwhzhxGVAprjbg0gCAEeIgwCZyTV2Z1REEW8O4py0wsjeloKoMr6iCY6dP92H6Vw/oTyICIthibxjm/DfN9lVz8IqtqKYLUXfoKVMVQVVJOElGjrnnUt9T9wbgp8AyYKaGlqingHZU/uG2NTZSVqwHQTWkx9hxjkpWDaCg6Ckj5qebgBVbT3V3NNXMSiWSDdGV3hrtzla7J+duwPOToIg42ChPQOQjspnSlp1V+Gjdged7+8UN5CRAV7a5EdFNwCjEaBR27b3W890TE7g24NAP/mMDXRWrGoFPQI9ls/MWO2dWFAar/xcOIImbbpA3zgAAAABJRU5ErkJggg==);\n",
       "        }\n",
       "    </style>\n",
       "    <div>\n",
       "        <a href=\"https://bokeh.org\" target=\"_blank\" class=\"bk-notebook-logo\"></a>\n",
       "        <span id=\"p1001\">Loading BokehJS ...</span>\n",
       "    </div>\n"
      ]
     },
     "metadata": {},
     "output_type": "display_data"
    },
    {
     "data": {
      "application/javascript": [
       "(function(root) {\n",
       "  function now() {\n",
       "    return new Date();\n",
       "  }\n",
       "\n",
       "  const force = true;\n",
       "\n",
       "  if (typeof root._bokeh_onload_callbacks === \"undefined\" || force === true) {\n",
       "    root._bokeh_onload_callbacks = [];\n",
       "    root._bokeh_is_loading = undefined;\n",
       "  }\n",
       "\n",
       "const JS_MIME_TYPE = 'application/javascript';\n",
       "  const HTML_MIME_TYPE = 'text/html';\n",
       "  const EXEC_MIME_TYPE = 'application/vnd.bokehjs_exec.v0+json';\n",
       "  const CLASS_NAME = 'output_bokeh rendered_html';\n",
       "\n",
       "  /**\n",
       "   * Render data to the DOM node\n",
       "   */\n",
       "  function render(props, node) {\n",
       "    const script = document.createElement(\"script\");\n",
       "    node.appendChild(script);\n",
       "  }\n",
       "\n",
       "  /**\n",
       "   * Handle when an output is cleared or removed\n",
       "   */\n",
       "  function handleClearOutput(event, handle) {\n",
       "    const cell = handle.cell;\n",
       "\n",
       "    const id = cell.output_area._bokeh_element_id;\n",
       "    const server_id = cell.output_area._bokeh_server_id;\n",
       "    // Clean up Bokeh references\n",
       "    if (id != null && id in Bokeh.index) {\n",
       "      Bokeh.index[id].model.document.clear();\n",
       "      delete Bokeh.index[id];\n",
       "    }\n",
       "\n",
       "    if (server_id !== undefined) {\n",
       "      // Clean up Bokeh references\n",
       "      const cmd_clean = \"from bokeh.io.state import curstate; print(curstate().uuid_to_server['\" + server_id + \"'].get_sessions()[0].document.roots[0]._id)\";\n",
       "      cell.notebook.kernel.execute(cmd_clean, {\n",
       "        iopub: {\n",
       "          output: function(msg) {\n",
       "            const id = msg.content.text.trim();\n",
       "            if (id in Bokeh.index) {\n",
       "              Bokeh.index[id].model.document.clear();\n",
       "              delete Bokeh.index[id];\n",
       "            }\n",
       "          }\n",
       "        }\n",
       "      });\n",
       "      // Destroy server and session\n",
       "      const cmd_destroy = \"import bokeh.io.notebook as ion; ion.destroy_server('\" + server_id + \"')\";\n",
       "      cell.notebook.kernel.execute(cmd_destroy);\n",
       "    }\n",
       "  }\n",
       "\n",
       "  /**\n",
       "   * Handle when a new output is added\n",
       "   */\n",
       "  function handleAddOutput(event, handle) {\n",
       "    const output_area = handle.output_area;\n",
       "    const output = handle.output;\n",
       "\n",
       "    // limit handleAddOutput to display_data with EXEC_MIME_TYPE content only\n",
       "    if ((output.output_type != \"display_data\") || (!Object.prototype.hasOwnProperty.call(output.data, EXEC_MIME_TYPE))) {\n",
       "      return\n",
       "    }\n",
       "\n",
       "    const toinsert = output_area.element.find(\".\" + CLASS_NAME.split(' ')[0]);\n",
       "\n",
       "    if (output.metadata[EXEC_MIME_TYPE][\"id\"] !== undefined) {\n",
       "      toinsert[toinsert.length - 1].firstChild.textContent = output.data[JS_MIME_TYPE];\n",
       "      // store reference to embed id on output_area\n",
       "      output_area._bokeh_element_id = output.metadata[EXEC_MIME_TYPE][\"id\"];\n",
       "    }\n",
       "    if (output.metadata[EXEC_MIME_TYPE][\"server_id\"] !== undefined) {\n",
       "      const bk_div = document.createElement(\"div\");\n",
       "      bk_div.innerHTML = output.data[HTML_MIME_TYPE];\n",
       "      const script_attrs = bk_div.children[0].attributes;\n",
       "      for (let i = 0; i < script_attrs.length; i++) {\n",
       "        toinsert[toinsert.length - 1].firstChild.setAttribute(script_attrs[i].name, script_attrs[i].value);\n",
       "        toinsert[toinsert.length - 1].firstChild.textContent = bk_div.children[0].textContent\n",
       "      }\n",
       "      // store reference to server id on output_area\n",
       "      output_area._bokeh_server_id = output.metadata[EXEC_MIME_TYPE][\"server_id\"];\n",
       "    }\n",
       "  }\n",
       "\n",
       "  function register_renderer(events, OutputArea) {\n",
       "\n",
       "    function append_mime(data, metadata, element) {\n",
       "      // create a DOM node to render to\n",
       "      const toinsert = this.create_output_subarea(\n",
       "        metadata,\n",
       "        CLASS_NAME,\n",
       "        EXEC_MIME_TYPE\n",
       "      );\n",
       "      this.keyboard_manager.register_events(toinsert);\n",
       "      // Render to node\n",
       "      const props = {data: data, metadata: metadata[EXEC_MIME_TYPE]};\n",
       "      render(props, toinsert[toinsert.length - 1]);\n",
       "      element.append(toinsert);\n",
       "      return toinsert\n",
       "    }\n",
       "\n",
       "    /* Handle when an output is cleared or removed */\n",
       "    events.on('clear_output.CodeCell', handleClearOutput);\n",
       "    events.on('delete.Cell', handleClearOutput);\n",
       "\n",
       "    /* Handle when a new output is added */\n",
       "    events.on('output_added.OutputArea', handleAddOutput);\n",
       "\n",
       "    /**\n",
       "     * Register the mime type and append_mime function with output_area\n",
       "     */\n",
       "    OutputArea.prototype.register_mime_type(EXEC_MIME_TYPE, append_mime, {\n",
       "      /* Is output safe? */\n",
       "      safe: true,\n",
       "      /* Index of renderer in `output_area.display_order` */\n",
       "      index: 0\n",
       "    });\n",
       "  }\n",
       "\n",
       "  // register the mime type if in Jupyter Notebook environment and previously unregistered\n",
       "  if (root.Jupyter !== undefined) {\n",
       "    const events = require('base/js/events');\n",
       "    const OutputArea = require('notebook/js/outputarea').OutputArea;\n",
       "\n",
       "    if (OutputArea.prototype.mime_types().indexOf(EXEC_MIME_TYPE) == -1) {\n",
       "      register_renderer(events, OutputArea);\n",
       "    }\n",
       "  }\n",
       "  if (typeof (root._bokeh_timeout) === \"undefined\" || force === true) {\n",
       "    root._bokeh_timeout = Date.now() + 5000;\n",
       "    root._bokeh_failed_load = false;\n",
       "  }\n",
       "\n",
       "  const NB_LOAD_WARNING = {'data': {'text/html':\n",
       "     \"<div style='background-color: #fdd'>\\n\"+\n",
       "     \"<p>\\n\"+\n",
       "     \"BokehJS does not appear to have successfully loaded. If loading BokehJS from CDN, this \\n\"+\n",
       "     \"may be due to a slow or bad network connection. Possible fixes:\\n\"+\n",
       "     \"</p>\\n\"+\n",
       "     \"<ul>\\n\"+\n",
       "     \"<li>re-rerun `output_notebook()` to attempt to load from CDN again, or</li>\\n\"+\n",
       "     \"<li>use INLINE resources instead, as so:</li>\\n\"+\n",
       "     \"</ul>\\n\"+\n",
       "     \"<code>\\n\"+\n",
       "     \"from bokeh.resources import INLINE\\n\"+\n",
       "     \"output_notebook(resources=INLINE)\\n\"+\n",
       "     \"</code>\\n\"+\n",
       "     \"</div>\"}};\n",
       "\n",
       "  function display_loaded() {\n",
       "    const el = document.getElementById(\"p1001\");\n",
       "    if (el != null) {\n",
       "      el.textContent = \"BokehJS is loading...\";\n",
       "    }\n",
       "    if (root.Bokeh !== undefined) {\n",
       "      if (el != null) {\n",
       "        el.textContent = \"BokehJS \" + root.Bokeh.version + \" successfully loaded.\";\n",
       "      }\n",
       "    } else if (Date.now() < root._bokeh_timeout) {\n",
       "      setTimeout(display_loaded, 100)\n",
       "    }\n",
       "  }\n",
       "\n",
       "  function run_callbacks() {\n",
       "    try {\n",
       "      root._bokeh_onload_callbacks.forEach(function(callback) {\n",
       "        if (callback != null)\n",
       "          callback();\n",
       "      });\n",
       "    } finally {\n",
       "      delete root._bokeh_onload_callbacks\n",
       "    }\n",
       "    console.debug(\"Bokeh: all callbacks have finished\");\n",
       "  }\n",
       "\n",
       "  function load_libs(css_urls, js_urls, callback) {\n",
       "    if (css_urls == null) css_urls = [];\n",
       "    if (js_urls == null) js_urls = [];\n",
       "\n",
       "    root._bokeh_onload_callbacks.push(callback);\n",
       "    if (root._bokeh_is_loading > 0) {\n",
       "      console.debug(\"Bokeh: BokehJS is being loaded, scheduling callback at\", now());\n",
       "      return null;\n",
       "    }\n",
       "    if (js_urls == null || js_urls.length === 0) {\n",
       "      run_callbacks();\n",
       "      return null;\n",
       "    }\n",
       "    console.debug(\"Bokeh: BokehJS not loaded, scheduling load and callback at\", now());\n",
       "    root._bokeh_is_loading = css_urls.length + js_urls.length;\n",
       "\n",
       "    function on_load() {\n",
       "      root._bokeh_is_loading--;\n",
       "      if (root._bokeh_is_loading === 0) {\n",
       "        console.debug(\"Bokeh: all BokehJS libraries/stylesheets loaded\");\n",
       "        run_callbacks()\n",
       "      }\n",
       "    }\n",
       "\n",
       "    function on_error(url) {\n",
       "      console.error(\"failed to load \" + url);\n",
       "    }\n",
       "\n",
       "    for (let i = 0; i < css_urls.length; i++) {\n",
       "      const url = css_urls[i];\n",
       "      const element = document.createElement(\"link\");\n",
       "      element.onload = on_load;\n",
       "      element.onerror = on_error.bind(null, url);\n",
       "      element.rel = \"stylesheet\";\n",
       "      element.type = \"text/css\";\n",
       "      element.href = url;\n",
       "      console.debug(\"Bokeh: injecting link tag for BokehJS stylesheet: \", url);\n",
       "      document.body.appendChild(element);\n",
       "    }\n",
       "\n",
       "    for (let i = 0; i < js_urls.length; i++) {\n",
       "      const url = js_urls[i];\n",
       "      const element = document.createElement('script');\n",
       "      element.onload = on_load;\n",
       "      element.onerror = on_error.bind(null, url);\n",
       "      element.async = false;\n",
       "      element.src = url;\n",
       "      console.debug(\"Bokeh: injecting script tag for BokehJS library: \", url);\n",
       "      document.head.appendChild(element);\n",
       "    }\n",
       "  };\n",
       "\n",
       "  function inject_raw_css(css) {\n",
       "    const element = document.createElement(\"style\");\n",
       "    element.appendChild(document.createTextNode(css));\n",
       "    document.body.appendChild(element);\n",
       "  }\n",
       "\n",
       "  const js_urls = [\"https://cdn.bokeh.org/bokeh/release/bokeh-3.0.3.min.js\", \"https://cdn.bokeh.org/bokeh/release/bokeh-gl-3.0.3.min.js\", \"https://cdn.bokeh.org/bokeh/release/bokeh-widgets-3.0.3.min.js\", \"https://cdn.bokeh.org/bokeh/release/bokeh-tables-3.0.3.min.js\", \"https://cdn.bokeh.org/bokeh/release/bokeh-mathjax-3.0.3.min.js\"];\n",
       "  const css_urls = [];\n",
       "\n",
       "  const inline_js = [    function(Bokeh) {\n",
       "      Bokeh.set_log_level(\"info\");\n",
       "    },\n",
       "function(Bokeh) {\n",
       "    }\n",
       "  ];\n",
       "\n",
       "  function run_inline_js() {\n",
       "    if (root.Bokeh !== undefined || force === true) {\n",
       "          for (let i = 0; i < inline_js.length; i++) {\n",
       "      inline_js[i].call(root, root.Bokeh);\n",
       "    }\n",
       "if (force === true) {\n",
       "        display_loaded();\n",
       "      }} else if (Date.now() < root._bokeh_timeout) {\n",
       "      setTimeout(run_inline_js, 100);\n",
       "    } else if (!root._bokeh_failed_load) {\n",
       "      console.log(\"Bokeh: BokehJS failed to load within specified timeout.\");\n",
       "      root._bokeh_failed_load = true;\n",
       "    } else if (force !== true) {\n",
       "      const cell = $(document.getElementById(\"p1001\")).parents('.cell').data().cell;\n",
       "      cell.output_area.append_execute_result(NB_LOAD_WARNING)\n",
       "    }\n",
       "  }\n",
       "\n",
       "  if (root._bokeh_is_loading === 0) {\n",
       "    console.debug(\"Bokeh: BokehJS loaded, going straight to plotting\");\n",
       "    run_inline_js();\n",
       "  } else {\n",
       "    load_libs(css_urls, js_urls, function() {\n",
       "      console.debug(\"Bokeh: BokehJS plotting callback run at\", now());\n",
       "      run_inline_js();\n",
       "    });\n",
       "  }\n",
       "}(window));"
      ],
      "application/vnd.bokehjs_load.v0+json": "(function(root) {\n  function now() {\n    return new Date();\n  }\n\n  const force = true;\n\n  if (typeof root._bokeh_onload_callbacks === \"undefined\" || force === true) {\n    root._bokeh_onload_callbacks = [];\n    root._bokeh_is_loading = undefined;\n  }\n\n\n  if (typeof (root._bokeh_timeout) === \"undefined\" || force === true) {\n    root._bokeh_timeout = Date.now() + 5000;\n    root._bokeh_failed_load = false;\n  }\n\n  const NB_LOAD_WARNING = {'data': {'text/html':\n     \"<div style='background-color: #fdd'>\\n\"+\n     \"<p>\\n\"+\n     \"BokehJS does not appear to have successfully loaded. If loading BokehJS from CDN, this \\n\"+\n     \"may be due to a slow or bad network connection. Possible fixes:\\n\"+\n     \"</p>\\n\"+\n     \"<ul>\\n\"+\n     \"<li>re-rerun `output_notebook()` to attempt to load from CDN again, or</li>\\n\"+\n     \"<li>use INLINE resources instead, as so:</li>\\n\"+\n     \"</ul>\\n\"+\n     \"<code>\\n\"+\n     \"from bokeh.resources import INLINE\\n\"+\n     \"output_notebook(resources=INLINE)\\n\"+\n     \"</code>\\n\"+\n     \"</div>\"}};\n\n  function display_loaded() {\n    const el = document.getElementById(\"p1001\");\n    if (el != null) {\n      el.textContent = \"BokehJS is loading...\";\n    }\n    if (root.Bokeh !== undefined) {\n      if (el != null) {\n        el.textContent = \"BokehJS \" + root.Bokeh.version + \" successfully loaded.\";\n      }\n    } else if (Date.now() < root._bokeh_timeout) {\n      setTimeout(display_loaded, 100)\n    }\n  }\n\n  function run_callbacks() {\n    try {\n      root._bokeh_onload_callbacks.forEach(function(callback) {\n        if (callback != null)\n          callback();\n      });\n    } finally {\n      delete root._bokeh_onload_callbacks\n    }\n    console.debug(\"Bokeh: all callbacks have finished\");\n  }\n\n  function load_libs(css_urls, js_urls, callback) {\n    if (css_urls == null) css_urls = [];\n    if (js_urls == null) js_urls = [];\n\n    root._bokeh_onload_callbacks.push(callback);\n    if (root._bokeh_is_loading > 0) {\n      console.debug(\"Bokeh: BokehJS is being loaded, scheduling callback at\", now());\n      return null;\n    }\n    if (js_urls == null || js_urls.length === 0) {\n      run_callbacks();\n      return null;\n    }\n    console.debug(\"Bokeh: BokehJS not loaded, scheduling load and callback at\", now());\n    root._bokeh_is_loading = css_urls.length + js_urls.length;\n\n    function on_load() {\n      root._bokeh_is_loading--;\n      if (root._bokeh_is_loading === 0) {\n        console.debug(\"Bokeh: all BokehJS libraries/stylesheets loaded\");\n        run_callbacks()\n      }\n    }\n\n    function on_error(url) {\n      console.error(\"failed to load \" + url);\n    }\n\n    for (let i = 0; i < css_urls.length; i++) {\n      const url = css_urls[i];\n      const element = document.createElement(\"link\");\n      element.onload = on_load;\n      element.onerror = on_error.bind(null, url);\n      element.rel = \"stylesheet\";\n      element.type = \"text/css\";\n      element.href = url;\n      console.debug(\"Bokeh: injecting link tag for BokehJS stylesheet: \", url);\n      document.body.appendChild(element);\n    }\n\n    for (let i = 0; i < js_urls.length; i++) {\n      const url = js_urls[i];\n      const element = document.createElement('script');\n      element.onload = on_load;\n      element.onerror = on_error.bind(null, url);\n      element.async = false;\n      element.src = url;\n      console.debug(\"Bokeh: injecting script tag for BokehJS library: \", url);\n      document.head.appendChild(element);\n    }\n  };\n\n  function inject_raw_css(css) {\n    const element = document.createElement(\"style\");\n    element.appendChild(document.createTextNode(css));\n    document.body.appendChild(element);\n  }\n\n  const js_urls = [\"https://cdn.bokeh.org/bokeh/release/bokeh-3.0.3.min.js\", \"https://cdn.bokeh.org/bokeh/release/bokeh-gl-3.0.3.min.js\", \"https://cdn.bokeh.org/bokeh/release/bokeh-widgets-3.0.3.min.js\", \"https://cdn.bokeh.org/bokeh/release/bokeh-tables-3.0.3.min.js\", \"https://cdn.bokeh.org/bokeh/release/bokeh-mathjax-3.0.3.min.js\"];\n  const css_urls = [];\n\n  const inline_js = [    function(Bokeh) {\n      Bokeh.set_log_level(\"info\");\n    },\nfunction(Bokeh) {\n    }\n  ];\n\n  function run_inline_js() {\n    if (root.Bokeh !== undefined || force === true) {\n          for (let i = 0; i < inline_js.length; i++) {\n      inline_js[i].call(root, root.Bokeh);\n    }\nif (force === true) {\n        display_loaded();\n      }} else if (Date.now() < root._bokeh_timeout) {\n      setTimeout(run_inline_js, 100);\n    } else if (!root._bokeh_failed_load) {\n      console.log(\"Bokeh: BokehJS failed to load within specified timeout.\");\n      root._bokeh_failed_load = true;\n    } else if (force !== true) {\n      const cell = $(document.getElementById(\"p1001\")).parents('.cell').data().cell;\n      cell.output_area.append_execute_result(NB_LOAD_WARNING)\n    }\n  }\n\n  if (root._bokeh_is_loading === 0) {\n    console.debug(\"Bokeh: BokehJS loaded, going straight to plotting\");\n    run_inline_js();\n  } else {\n    load_libs(css_urls, js_urls, function() {\n      console.debug(\"Bokeh: BokehJS plotting callback run at\", now());\n      run_inline_js();\n    });\n  }\n}(window));"
     },
     "metadata": {},
     "output_type": "display_data"
    }
   ],
   "source": [
    "import pandas as pd\n",
    "import numpy as np\n",
    "import time\n",
    "import datetime\n",
    "import sys\n",
    "import calendar\n",
    "\n",
    "import matplotlib.pyplot as plt\n",
    "from tqdm import tqdm\n",
    "\n",
    "sys.path.append(\"/home/piyush/modeling/my_python_project/lib/\")\n",
    "from ts import tsdata_utils as tu\n",
    "from ts import research_utils as ru\n",
    "from ts import rm_utils as rmu\n",
    "from ts import plot_utils as pu\n",
    "\n",
    "\n",
    "from tsmoothie.smoother import *\n",
    "from tslearn.metrics import lcss as tslearn_metrics_lcss\n",
    "from tslearn.clustering import TimeSeriesKMeans, KShape\n",
    "\n",
    "from joblib import Parallel, delayed\n",
    "\n",
    "from numba import njit\n",
    "\n",
    "@njit\n",
    "def is_year_month_parity(yyyymmdd : str):\n",
    "    return 1 if int(yyyymmdd/10000) % 2 == int((yyyymmdd - int(yyyymmdd/10000) * 10000)/100) % 2 else 0\n",
    "\n",
    "def get_insample(df_inp):\n",
    "    ## year-month parity - \n",
    "    df_inp['YYYYMMDD'] =  np.array(list(map(lambda v: int(str(v.date()).replace('-','')), df_inp.index)))\n",
    "    df_inp['flag'] = df_inp['YYYYMMDD'].apply(lambda v: is_year_month_parity(v))\n",
    "    df_inp = df_inp[df_inp['flag'] == 1]\n",
    "    df_inp = df_inp.drop(columns=['YYYYMMDD', 'flag'])\n",
    "    return df_inp"
   ]
  },
  {
   "cell_type": "code",
   "execution_count": 2,
   "id": "da7ed0e1-3b8d-4078-acfc-21ba017f1f24",
   "metadata": {},
   "outputs": [],
   "source": [
    "uri = \"/home/piyush/modeling/tsdata/nse/returns/market_adjusted/cm/EQ/versions/8-60-True\"\n",
    "univ_uri = \"/home/piyush/modeling/tsdata/nse/universes/cm/EQ\"\n",
    "trading_univ_uri = \"/home/piyush/modeling/tsdata/nse/universes/cm/EQ.trading\"\n",
    "\n",
    "\n",
    "def get_panel(sd, ed):\n",
    "    \n",
    "    df_ret = tu.read_table(uri, sd, ed)\n",
    "    df_univ = tu.read_table(univ_uri, sd, ed)\n",
    "    \n",
    "    if df_ret is None or len(df_ret) == 0 or df_univ is None or len(df_univ) == 0:\n",
    "        return []\n",
    "    \n",
    "    df_ret = tu.left_join(df_univ, df_ret, keys=['SYMBOL'], strict_lookback=False)\n",
    "    \n",
    "    return df_ret\n",
    "\n"
   ]
  },
  {
   "cell_type": "code",
   "execution_count": null,
   "id": "d7ed7907-8866-4d10-8cbb-6d421983bb65",
   "metadata": {},
   "outputs": [],
   "source": []
  },
  {
   "cell_type": "code",
   "execution_count": 3,
   "id": "249b7703-de58-4d7f-966c-095dc59c639f",
   "metadata": {},
   "outputs": [],
   "source": [
    "def get_normalized_timeseries(df_arg, col_to_normalize, keys=[]):\n",
    "    \n",
    "    df_arg_median = df_arg.groupby(keys)[[col_to_normalize]].median()\n",
    "    df_arg = df_arg.reset_index().merge(df_arg_median.reset_index(), how='left', left_on=keys, right_on=keys, suffixes=(\"\", \"_median\"))\n",
    "    df_arg = df_arg.set_index('timestamp').sort_index()\n",
    "    del df_arg_median\n",
    "\n",
    "    df_arg[col_to_normalize+'_ad'] = abs(df_arg[col_to_normalize] - df_arg[col_to_normalize+'_median'])\n",
    "    df_arg_mad = df_arg.groupby(keys)[[col_to_normalize+'_ad']].median().rename(columns={(col_to_normalize+'_ad') : col_to_normalize+\"_mad\"})\n",
    "    df_arg = df_arg.reset_index().merge(df_arg_mad.reset_index(), how='left', left_on=keys, right_on=keys)\n",
    "    df_arg = df_arg.set_index('timestamp').sort_index()\n",
    "    del df_arg_mad\n",
    "\n",
    "    df_arg[col_to_normalize+'_normed'] = df_arg[col_to_normalize+'_ad'] / df_arg[col_to_normalize+'_mad']\n",
    "    df_arg = df_arg.drop(columns=[col_to_normalize+'_median', col_to_normalize+'_ad', col_to_normalize+'_mad'])\n",
    "\n",
    "    return df_arg\n",
    "\n",
    "def get_smoothed_series(data):\n",
    "    # operate smoothing\n",
    "    smoother = LowessSmoother(smooth_fraction=0.05, iterations=1)\n",
    "    smoother.smooth(data)\n",
    "    return smoother.smooth_data[0]\n",
    "\n",
    "def get_time_series_matrix(df_arg, key_col='SYMBOL', timeseries_to_cluster=\"\", pct_invalid_threshold=0.05):\n",
    "    \n",
    "    dfp = df_arg.reset_index().pivot(index='timestamp', columns=key_col,\\\n",
    "                                 values=timeseries_to_cluster)\n",
    "\n",
    "    ## get the list of cols that have more than 'n_pct_th' % of their values set to NaN\n",
    "    n_pct_th = pct_invalid_threshold\n",
    "    cols = list(dfp.columns)\n",
    "    vals = np.zeros(len(cols))\n",
    "    for i in range(len(cols)):\n",
    "        ser = dfp[cols[i]]\n",
    "        vals[i] = len(ser[abs(ser) < 0.0000000001]) ## No. of values that are almost 0.\n",
    "        vals[i] += len(ser[np.isnan(ser)])## No. of values are NaN.\n",
    "        vals[i] += len(ser[np.isinf(ser)])## No. of values are inf.\n",
    "        vals[i] /= len(ser)\n",
    "\n",
    "    less_cols = np.array(cols)[vals < n_pct_th] ## cols that have less than 'n_pct_th'% of their values either 0 or NaN.\n",
    "    pct = len(less_cols) / len(cols)\n",
    "    print([pct, pct*len(cols), len(cols)])\n",
    "\n",
    "    dfp = dfp[ less_cols ]\n",
    "    col_names = list(dfp.columns)\n",
    "    return [dfp.to_numpy(), col_names]\n",
    "\n",
    "\n",
    "\n",
    "\n",
    "def get_eigen_portfolio_residualized_returns(df_arg, ret_type, secid_key='SYMBOL', cov_or_corr = \"cov\",\\\n",
    "                                        window_size=60, reg_window_size=20, strict_lookback=False,\\\n",
    "                                        n_signif_eigvecs = 5, pct_invalid_threshold=0.1):\n",
    "    \n",
    "    df_ret = df_arg[[secid_key, ret_type]]\n",
    "    dfp = df_ret.reset_index().pivot(index='timestamp', columns=secid_key, values=ret_type)\n",
    "\n",
    "\n",
    "    assert ( cov_or_corr in [\"corr\", \"cov\", \"raw\"] )\n",
    "\n",
    "    ## get the list of cols that have more than 'n_pct_th' % of their values set to posinf, neginf, nan, zero\n",
    "    n_pct_th = pct_invalid_threshold\n",
    "    cols = list(dfp.columns)\n",
    "    vals = np.zeros(len(cols))\n",
    "    for i in range(len(cols)):\n",
    "        ser = dfp[cols[i]]\n",
    "        vals[i] = len(ser[abs(ser) < 0.0000000001]) ## No. of values that are almost 0.\n",
    "        vals[i] += len(ser[np.isnan(ser)])## No. of values are NaN.\n",
    "        vals[i] += len(ser[np.isneginf(ser)])## No. of values are inf.\n",
    "        vals[i] += len(ser[np.isposinf(ser)])## No. of values are inf.\n",
    "        vals[i] /= len(ser)\n",
    "\n",
    "    less_cols = np.array(cols)[vals < n_pct_th] ## cols that have less than 'n_pct_th'% of their values either 0 or NaN.\n",
    "    pct = len(less_cols) / len(cols)\n",
    "\n",
    "    dfp = dfp[ less_cols ]\n",
    "\n",
    "    col_names = list(dfp.columns)\n",
    "    orig_indices = dfp.index\n",
    "    X = dfp.to_numpy()\n",
    "\n",
    "    X = np.nan_to_num(X, 0)\n",
    "\n",
    "    ## Computing rolling PCA\n",
    "\n",
    "    rolling_windows = np.lib.stride_tricks.sliding_window_view(X, window_shape=window_size, axis=0).transpose(0, 2, 1)\n",
    "\n",
    "    M_rolling = rolling_windows\n",
    "\n",
    "\n",
    "    if cov_or_corr == \"corr\":\n",
    "        M_mean_rolling = np.mean(M_rolling, axis=1)\n",
    "        M_std_rolling = np.std(M_rolling, axis=1)\n",
    "        M_rolling = (M_rolling - M_mean_rolling[:, np.newaxis,:]) / M_std_rolling[:,np.newaxis,:]\n",
    "\n",
    "        M_rolling = np.nan_to_num(M_rolling, 0.0000001)\n",
    "\n",
    "        ## Note: \n",
    "        ##    At this point, it is possible that M_rolling has some nans or posinf or neginf. \n",
    "        ##    These are most likely a result of divide by zero (stdev for some columns may be 0)   \n",
    "        ##    However, we expect this to happed very rarely as we have removed all those instruments whose time-series\n",
    "        ##    have a high % of posinf, neginf, nan and zeross.\n",
    "\n",
    "    elif cov_or_corr == \"cov\":\n",
    "        \n",
    "        M_mean_rolling = np.mean(M_rolling, axis=1)\n",
    "        M_rolling = M_rolling - M_mean_rolling[:, np.newaxis,:]\n",
    "\n",
    "    elif cov_or_corr == \"raw\":\n",
    "        \n",
    "        ## do nothing\n",
    "        pass\n",
    "    \n",
    "    else:\n",
    "        raise(\"Unsupported value of the argument: 'cov_or_corr'\")\n",
    "\n",
    "\n",
    "\n",
    "    MT_rolling = np.einsum(\"tij -> tji\", M_rolling)\n",
    "    MTM_rolling = np.einsum(\"tij,tjk -> tik\", MT_rolling, M_rolling) \n",
    "\n",
    "    Sigma_rolling = MTM_rolling / X.shape[0]\n",
    "    eigvals, eigvecs = np.linalg.eig(Sigma_rolling)\n",
    "\n",
    "    eigvals = eigvals.real\n",
    "    eigvecs = eigvecs.real\n",
    "\n",
    "    \n",
    "    ## Sort each rolling eig decomposition in decreasing order of its eigenvalues\n",
    "    decreasing_eigval_order = np.argsort(-1*eigvals.real, axis=1)\n",
    "    eigvals = np.stack([ eigvals[i][ decreasing_eigval_order[i] ]  for i in range(decreasing_eigval_order.shape[0]) ], axis=0)\n",
    "    eigvecs = np.stack([ eigvecs[i][:, decreasing_eigval_order[i] ]  for i in range(decreasing_eigval_order.shape[0]) ], axis=0)\n",
    "    \n",
    "    \n",
    "    ## put together all the rolling eigen decomposition results in a dataframe\n",
    "\n",
    "    df_ev_list = [ pd.DataFrame(eigvecs[i], \\\n",
    "                                columns=[\"eigvec_%s\" % str(i) for i in range(eigvecs.shape[2])], \\\n",
    "                                index=pd.Index(col_names, name=secid_key)\\\n",
    "                               ) \\\n",
    "                   for i in range(eigvecs.shape[0])\\\n",
    "                 ]\n",
    "\n",
    "    if not strict_lookback:\n",
    "        df_ev = pd.DataFrame({\"eigen_vectors\" : df_ev_list}, index=orig_indices[window_size-1:])\n",
    "\n",
    "    else:\n",
    "        df_ev = pd.DataFrame({\"eigen_vectors\" : df_ev_list[:-1]}, index=orig_indices[window_size:])\n",
    "\n",
    "\n",
    "\n",
    "    ## make the sign of all the eigen vectors consistent with the eigen vectors in the first cov/corr matrix\n",
    "    ##in the rolling windows\n",
    "\n",
    "    def compute_angle(mat2cols):\n",
    "        v1 = mat2cols[:, 0]\n",
    "        v2 = mat2cols[:, 1]\n",
    "        return round(np.dot(v1, v2) / np.sqrt( np.dot(v1, v1)*np.dot(v2, v2) ), 2)\n",
    "\n",
    "    for idx in range(n_signif_eigvecs):\n",
    "        df_ev['angle_ev%s' % str(idx)] = df_ev.apply(lambda row: compute_angle( row['eigen_vectors'][['eigvec_%s' % str(idx)]]\\\n",
    "                                                                       .merge( df_ev.iloc[0]['eigen_vectors'][['eigvec_%s' % str(idx)]], \\\n",
    "                                                                              how='left', left_index=True, right_index=True, \\\n",
    "                                                                              suffixes=(\"_x\", \"_y\"))\\\n",
    "                                                                       .to_numpy()), axis=1)\n",
    "\n",
    "    mult = np.ones( (n_signif_eigvecs, len(df_ev)) )\n",
    "    for e_idx in range(n_signif_eigvecs):\n",
    "        for idx in range(1, len(df_ev)):\n",
    "            if np.sign(df_ev.iloc[idx]['angle_ev%s' % str(e_idx)]) < 0:\n",
    "                mult[e_idx, idx] = -1\n",
    "            else:\n",
    "                mult[e_idx, idx] = 1\n",
    "\n",
    "    for idx in range(n_signif_eigvecs):\n",
    "        df_ev['mult_%s' % str(idx)] = pd.DataFrame(mult[idx,:], index=df_ev.index)\n",
    "\n",
    "    df_comb = tu.left_join(dfp, df_ev, strict_lookback=False)\n",
    "\n",
    "    \n",
    "    ## compute eigen portfolio returns.\n",
    "    \n",
    "    def get_returns(row, df_evecs, ev_idx):\n",
    "        mult = row['mult_%s' % str(ev_idx)]\n",
    "        series_vec = df_evecs['eigvec_%s' % str(ev_idx)] * mult\n",
    "        return sum([ series_vec.iloc[idx] * row[series_vec.index[idx]] for idx in range(len(series_vec)) ])\n",
    "\n",
    "    ev_ret_cols = []\n",
    "    for ev_index in range(n_signif_eigvecs):\n",
    "        new_col = 'ret_ev%s' % str(ev_index)\n",
    "        ev_ret_cols.append(new_col)\n",
    "        df_comb[new_col] = df_comb.apply(lambda row: None if row['eigen_vectors'] is None or not isinstance(row['eigen_vectors'], pd.DataFrame) else\\\n",
    "                                                            get_returns(row, row[\"eigen_vectors\"], ev_index)\n",
    "                                           , axis=1)\n",
    "\n",
    "    df_ev_rets = df_comb[ev_ret_cols]\n",
    "\n",
    "\n",
    "    ## compute rolling betas to expanding subsets of the eigenvector portfolio returns - \n",
    "    \n",
    "    ## Note that we use all the instruments in the 'df_arg' and not just the ones\n",
    "    ## that were used to compute the rolling PCA because of the low proportion\n",
    "    ## of posinf, neginf, nan and zeros in their time series.\n",
    "    df_ret = tu.left_join(df_arg, df_ev_rets, keys = [], strict_lookback=False) \n",
    "    \n",
    "    use_intercept = True\n",
    "    xcols_list = [ \"ret_ev%s\" % str(i) for i in range(n_signif_eigvecs) ]\n",
    "\n",
    "    if use_intercept:\n",
    "        xcols_list = ['intercept'] + xcols_list\n",
    "        df_ret['intercept'] = 1\n",
    "\n",
    "    \n",
    "    df_ret = tu.rolling_ols_beta(df_inp=df_ret,\\\n",
    "                        reg_name=\"regpca\",\\\n",
    "                        x_cols_list=xcols_list,\\\n",
    "                        y_col=ret_type,\\\n",
    "                        use_intercept=False,\\\n",
    "                        window=reg_window_size,\\\n",
    "                        keys=[secid_key],\\\n",
    "                        strict_lookback=False,\\\n",
    "                        fill_na=True,\\\n",
    "                        fill_na_with=0.0,\\\n",
    "                        only_beta=True,\\\n",
    "                        _debug=False)\n",
    "    \n",
    "    ## compute residualized returns\n",
    "    \n",
    "    t1 = time.time()\n",
    "    beta = df_ret[[ \"regpca_%s_beta\" % xcol  for xcol in xcols_list ]].to_numpy()\n",
    "    beta = np.nan_to_num(beta, 0)\n",
    "    if len(beta.shape) == 1:\n",
    "        beta = beta[:, None]\n",
    "    \n",
    "    X = df_ret[ xcols_list ]\n",
    "    X = np.nan_to_num(X, 0)\n",
    "    if len(X.shape) == 1:\n",
    "        X = X[:, None]\n",
    "    \n",
    "    r = df_ret[[ret_type]].to_numpy()\n",
    "    r = np.nan_to_num(r, 0)\n",
    "    \n",
    "    if len(r.shape) == 1:\n",
    "        r = r[:, None]\n",
    "    \n",
    "    r_exp = np.einsum(\"ij,ij -> i\", X, beta)\n",
    "    \n",
    "    if len(r_exp.shape) == 1:\n",
    "        r_exp = r_exp[:, None]\n",
    "    \n",
    "    r_resid = r - r_exp\n",
    "    r_resid = np.squeeze(r_resid)\n",
    "    \n",
    "    df_ret[ret_type + \"_residpcas\"] = pd.DataFrame(r_resid, index=df_ret.index)\n",
    "    \n",
    "    ## drop all columns that start with \"regpca\"\n",
    "    cols_to_keep = [ c for c in df_ret.columns if not c.startswith('regpca') ]\n",
    "    df_ret = df_ret[cols_to_keep]\n",
    "    \n",
    "    df_ret = df_ret.drop(columns=ev_ret_cols)\n",
    "    \n",
    "    if use_intercept:\n",
    "        df_ret = df_ret.drop(columns=['intercept'])\n",
    "    #\n",
    "    \n",
    "    \n",
    "    return [df_ret, df_ev_rets]\n",
    "\n",
    "\n"
   ]
  },
  {
   "cell_type": "code",
   "execution_count": null,
   "id": "038843a4-c6e8-481d-9023-8bb2d63fe56e",
   "metadata": {},
   "outputs": [],
   "source": [
    "\"\"\"\n",
    "df = get_panel(\"20170101\", \"20171231\")\n",
    "ret = get_eigen_portfolio_residualized_returns(df_arg=df, ret_type=\"open2open_lagging_1dret_robust\", secid_key='SYMBOL', cov_or_corr = \"raw\",\\\n",
    "                                        window_size=60, reg_window_size=20, strict_lookback=False,\\\n",
    "                                        n_signif_eigvecs = 1, pct_invalid_threshold=0.1)\n",
    "\n",
    "df_ret = ret[0]\n",
    "df_ev_ret = ret[1]\n",
    "\"\"\""
   ]
  },
  {
   "cell_type": "code",
   "execution_count": null,
   "id": "13200591-e5e7-445f-92d6-47aa2dafa748",
   "metadata": {},
   "outputs": [],
   "source": []
  },
  {
   "cell_type": "code",
   "execution_count": null,
   "id": "e9084e84-a702-44f8-ae3d-e40d85fcd9d6",
   "metadata": {},
   "outputs": [],
   "source": []
  },
  {
   "cell_type": "markdown",
   "id": "9f01076f-f668-4bbd-b25d-2252845c54a4",
   "metadata": {
    "jp-MarkdownHeadingCollapsed": true,
    "tags": [],
    "toc-hr-collapsed": true
   },
   "source": [
    "## Exploratory Analysis"
   ]
  },
  {
   "cell_type": "code",
   "execution_count": null,
   "id": "daac9559-8e5b-4ce3-a1d9-a306399f6440",
   "metadata": {},
   "outputs": [],
   "source": [
    "#sd = '20170101'\n",
    "#ed = \"20171231\"\n",
    "\n",
    "sd = '20171222'\n",
    "ed = \"20171231\"\n",
    "\n",
    "df_ret = tu.read_table(uri, sd, ed)\n",
    "df_univ = tu.read_table(univ_uri, sd, ed)\n",
    "df_ret = tu.left_join(df_univ, df_ret, keys=['SYMBOL'], strict_lookback=False)\n",
    "\n",
    "df_ret.head(2)\n",
    "#print(df_ret.columns)"
   ]
  },
  {
   "cell_type": "markdown",
   "id": "ff23c9b7-bf35-4806-a42e-1661debc3871",
   "metadata": {
    "jp-MarkdownHeadingCollapsed": true,
    "tags": []
   },
   "source": [
    "### comparing various distance metrics"
   ]
  },
  {
   "cell_type": "code",
   "execution_count": null,
   "id": "d8b08b5d-f4af-43c3-927c-004b2443bcf0",
   "metadata": {
    "scrolled": true,
    "tags": []
   },
   "outputs": [],
   "source": [
    "import tslearn\n",
    "ril  = df_ret[df_ret['SYMBOL'] == 'NTPC']['open2open_lagging_1dret_robust'].dropna().to_numpy()[-50:]\n",
    "ril  = ril / np.std(ril) \n",
    "ril_s = get_smoothed_series(ril)\n",
    "\n",
    "sbin = df_ret[df_ret['SYMBOL'] == 'HDFCBANK']['open2open_lagging_1dret_robust'].dropna().to_numpy()[-50:]\n",
    "sbin = sbin / np.std(sbin)\n",
    "sbin_s = get_smoothed_series(sbin)\n",
    "\n",
    "[tslearn.metrics.lcss(ril, sbin)]#, tslearn.metrics.lcss(ril_s, sbin_s)]\n",
    "#display([tslearn.metrics.dtw(ril, sbin), tslearn.metrics.dtw(ril_s, sbin_s)])\n",
    "\n",
    "def par_run(symbols, i, mat):\n",
    "    dict_list = []\n",
    "    m = np.nan_to_num(mat.copy(), 0)\n",
    "    for j in range(len(symbols)):\n",
    "        if i != j:\n",
    "            try:\n",
    "                x  = m[:, i]\n",
    "                x  = x / np.std(x) \n",
    "                y  = m[:, j]\n",
    "                y  = y / np.std(y) \n",
    "                d1 = tslearn.metrics.lcss(x, y)\n",
    "                d2 = tslearn.metrics.dtw(x, y)\n",
    "                d3 = np.sqrt(np.sum(np.power(x - y, 2)))\n",
    "            except ZeroDivisionError as z:\n",
    "                d1 = np.nan\n",
    "                d2 = np.nan\n",
    "                d3 = np.nan\n",
    "            dict_list.append({'s1' : symbols[i], 's2' : symbols[j], \"lcss\" : d1, \"dtw\" : d2, \"euclid\" : d3})\n",
    "    return dict_list\n",
    "\n",
    "#dfp = df_ret.reset_index().pivot(index=\"timestamp\", columns='SYMBOL', values='open2open_lagging_1dret_mktadj_robust')\n",
    "dfp = df_ret.reset_index().pivot(index=\"timestamp\", columns='SYMBOL', values='open2open_lagging_1dret_robust')\n",
    "mat = dfp.to_numpy()\n",
    "symbols = list(dfp.columns)\n",
    "\n",
    "from joblib import Parallel, delayed\n",
    "res_list = Parallel(n_jobs=15)(delayed(par_run)(symbols, i, mat) for i in range(len(symbols)))\n",
    "#par_run(symbols, 0, mat)"
   ]
  },
  {
   "cell_type": "code",
   "execution_count": null,
   "id": "9e435213-ce3b-4591-bbf2-fc012c7fc06d",
   "metadata": {},
   "outputs": [],
   "source": [
    "lst = res_list[0]\n",
    "for i in range(1, len(res_list)):\n",
    "    lst += res_list[i]\n",
    "df_dist = pd.DataFrame(lst)\n",
    "\n",
    "display(df_dist[['lcss', 'dtw', 'euclid']].corr())\n",
    "\n",
    "df_dist.plot.scatter(x=\"euclid\", y='lcss')\n",
    "df_dist.plot.scatter(x=\"euclid\", y='dtw')\n",
    "df_dist.plot.scatter(x=\"dtw\", y='lcss')"
   ]
  },
  {
   "cell_type": "code",
   "execution_count": null,
   "id": "bb0b1ad8-636a-49af-88d6-756c734672a7",
   "metadata": {},
   "outputs": [],
   "source": [
    "lst = res_list[0]\n",
    "for i in range(1, len(res_list)):\n",
    "    lst += res_list[i]\n",
    "pd.DataFrame(lst)['lcss'].plot.hist(bins=50)\n",
    "pd.DataFrame(lst)[['lcss']].describe([0.01, 0.05, 0.25, 0.5, 0.75, 0.95, 0.99]).transpose()"
   ]
  },
  {
   "cell_type": "code",
   "execution_count": null,
   "id": "f3f7f2ea-daa8-40f9-82c0-d07e334076e5",
   "metadata": {},
   "outputs": [],
   "source": [
    "lst = res_list[0]\n",
    "for i in range(1, len(res_list)):\n",
    "    lst += res_list[i]\n",
    "pd.DataFrame(lst)['lcss'].plot.hist(bins=50)\n",
    "pd.DataFrame(lst)[['lcss']].describe([0.01, 0.05, 0.25, 0.5, 0.75, 0.95, 0.99]).transpose()"
   ]
  },
  {
   "cell_type": "markdown",
   "id": "17f72b00-b283-4ebc-bdca-0ff9cf10ab0a",
   "metadata": {
    "jp-MarkdownHeadingCollapsed": true,
    "tags": []
   },
   "source": [
    "### trying out various clustering algorithms"
   ]
  },
  {
   "cell_type": "code",
   "execution_count": null,
   "id": "ccb1163d-a280-4d65-85d1-3d3351f0b2f0",
   "metadata": {},
   "outputs": [],
   "source": [
    "##################################################################\n",
    "\n",
    "\n",
    "df_panel = df_ret.copy()\n",
    "\n",
    "#ret_type = 'open2open_lagging_1dret'\n",
    "#ret_type = 'open2open_lagging_1dret_robust'\n",
    "ret_type = 'open2open_lagging_1dret_mktadj_robust'\n",
    "#ret_type = 'intraday_ret'\n",
    "\n",
    "timeseries_to_cluster = ret_type\n",
    "#timeseries_to_cluster = \"log_volume_normed\"\n",
    "\n",
    "\n",
    "if 0:\n",
    "    pca_pct_invalid_threshold = 0.1\n",
    "\n",
    "    ret = get_eigen_portfolio_residualized_returns(df_arg=df_panel, \\\n",
    "                                                 ret_type=ret_type, \\\n",
    "                                                 secid_key='SYMBOL', \\\n",
    "                                                 cov_or_corr = \"raw\",\\\n",
    "                                                 window_size=60, \\\n",
    "                                                 reg_window_size=20,\\\n",
    "                                                 strict_lookback=False,\\\n",
    "                                                 n_signif_eigvecs = 20, \\\n",
    "                                                 pct_invalid_threshold=0.1)\n",
    "\n",
    "    df_ret = ret[0]\n",
    "    df_ev_rets = ret[1]\n",
    "\n",
    "    df_panel = df_ret\n",
    "\n",
    "    timeseries_to_cluster = ret_type + \"_residpcas\"\n",
    "\n",
    "\n",
    "    ## removing the extended period that was needed to perform the rolling PCA calculations.\n",
    "    #df_train = df_train.iloc[rolling_pca_window_size:]\n",
    "\n",
    "else:\n",
    "\n",
    "    timeseries_to_cluster = ret_type\n",
    "\n",
    "\n",
    "\n",
    "retmat, col_names = get_time_series_matrix(df_arg=df_panel, key_col=\"SYMBOL\",\\\n",
    "                timeseries_to_cluster=timeseries_to_cluster,\\\n",
    "                pct_invalid_threshold=0.05)\n",
    "\n",
    "## set Nans to Zeros.\n",
    "retmat = np.nan_to_num(retmat, 0)\n",
    "\n",
    "if True:\n",
    "    ## de-mean each column in 'retmat' so that it has a mean of 0.0\n",
    "    retmat = retmat - np.mean(retmat, axis=0)\n",
    "\n",
    "if True:\n",
    "    ## normalize each column in 'retmat' so that it has a std of 1.0\n",
    "    retmat = retmat / np.std(retmat, axis=0)\n",
    "\n",
    "if False:\n",
    "    ## TRYING THE ANALYSIS WITH CUMULATIVE RETURNS ONCE!!\n",
    "    retmat = np.cumsum(retmat, axis=0)\n",
    "\n",
    "if False:\n",
    "    b4 = time.time()\n",
    "    retmat_lowess = np.hstack([ get_smoothed_series(retmat[:,colIdx])[:,np.newaxis]\\\n",
    "                               for colIdx in range(retmat.shape[1])])\n",
    "    after = time.time()\n",
    "    print(after-b4)\n",
    "else:\n",
    "    retmat_lowess = retmat\n",
    "\n",
    "####"
   ]
  },
  {
   "cell_type": "code",
   "execution_count": null,
   "id": "a39c10c2-a3fc-4196-b153-967a55c594f2",
   "metadata": {},
   "outputs": [],
   "source": [
    "b4 = time.time()\n",
    "\n",
    "n_clusters = 10\n",
    "\n",
    "if False:\n",
    "    \n",
    "    if True:\n",
    "        model = TimeSeriesKMeans(n_clusters=n_clusters, metric=\"euclidean\",\n",
    "                                 max_iter=1000, random_state=0, \n",
    "                                 n_jobs=15)\n",
    "    elif False:\n",
    "        from tslearn.clustering import KShape\n",
    "        model = KShape(n_clusters=n_clusters, \n",
    "                                 max_iter=1000, random_state=0)\n",
    "    elif False:\n",
    "        pass\n",
    "\n",
    "    X_train = retmat_lowess.T\n",
    "    display(X_train.shape)\n",
    "    model.fit(X_train)\n",
    "\n",
    "    after = time.time()\n",
    "\n",
    "\n",
    "    display(model.labels_.shape)\n",
    "\n",
    "    L = list(set(list(model.labels_)))\n",
    "\n",
    "    dfz = pd.DataFrame(dict(zip([str(i) for i in L], [  [ list( np.array(col_names)[[i for i in range(len(model.labels_)) if model.labels_[i] == l ]]) ] for l in L]  )))\n",
    "    dfz.columns.name = 'cluster'\n",
    "    dfz = dfz.transpose().reset_index().rename(columns={0: \"inst\"})\n",
    "    dfz['size'] = dfz['inst'].apply(lambda v: len(v))\n",
    "    \n",
    "else:\n",
    "    \n",
    "    from pyclustering.cluster.kmedoids import kmedoids\n",
    "    from pyclustering.cluster.xmeans import xmeans, splitting_type\n",
    "\n",
    "    start_medoids = np.random.choice(np.arange(retmat_lowess.T.shape[0]), size=n_clusters)\n",
    "    if False:\n",
    "        model = kmedoids(data=retmat_lowess.T, initial_index_medoids=start_medoids)\n",
    "        \n",
    "        #model = xmeans(data=retmat_lowess.T, initial_centers= None, kmax=n_clusters, criterion=splitting_type.MINIMUM_NOISELESS_DESCRIPTION_LENGTH)\n",
    "        \n",
    "    else:\n",
    "        import tslearn\n",
    "        from pyclustering.utils import distance_metric, type_metric\n",
    "        \n",
    "        user_function = lambda ts1, ts2: 1.0 - tslearn.metrics.lcss(ts1, ts2)\n",
    "        metric = distance_metric(type_metric.USER_DEFINED, func=user_function)\n",
    "        \n",
    "        model = kmedoids(data=retmat_lowess.T, initial_index_medoids=start_medoids, metric=metric)\n",
    "    \n",
    "    \n",
    "    res = model.process()\n",
    "    clusters = model.get_clusters()\n",
    "\n",
    "    _k = [i for i in range(len(clusters))]\n",
    "    _v = [ [list(np.array(col_names)[clusters[i]])] for i in range(len(clusters)) ]\n",
    "    print(len(_k), len(_v))\n",
    "    dfz = pd.DataFrame(dict(zip( _k, _v )))\n",
    "    dfz.columns.name = 'cluster'\n",
    "    dfz = dfz.transpose().reset_index().rename(columns={0: \"inst\"})\n",
    "    dfz['size'] = dfz['inst'].apply(lambda v: len(v))\n",
    "    dfz\n",
    "\n",
    "###\n",
    "\n",
    "display(dfz)"
   ]
  },
  {
   "cell_type": "code",
   "execution_count": null,
   "id": "5fd86454-5392-4ff5-b620-c8a0982c96dd",
   "metadata": {},
   "outputs": [],
   "source": []
  },
  {
   "cell_type": "code",
   "execution_count": null,
   "id": "1aa24ad1-2e16-447d-8248-afd89ff1321d",
   "metadata": {},
   "outputs": [],
   "source": [
    "if False:\n",
    "    x = np.hstack([ np.mean(retmat_lowess[:, [ col_names.index(inst) for inst in dfz.iloc[cluster_id]['inst']]], axis=1)[:, np.newaxis] for cluster_id in range(n_clusters) ])\n",
    "    plt.plot(x)"
   ]
  },
  {
   "cell_type": "code",
   "execution_count": null,
   "id": "2b18935f-b540-4d95-9151-b9ce6931ba4a",
   "metadata": {
    "tags": []
   },
   "outputs": [],
   "source": [
    "ret = 'open2open_leading_1dret'\n",
    "#ret = 'intraday_ret'\n",
    "\n",
    "dfperf = df_ret\\\n",
    "            .reset_index('timestamp')\\\n",
    "            .merge(\\\n",
    "                       dfz.explode('inst').rename(columns={'inst':'SYMBOL'}), \\\n",
    "                       how='left', left_on='SYMBOL', right_on=\"SYMBOL\"\\\n",
    "                  )\\\n",
    "            .set_index('timestamp')\\\n",
    "            .sort_index()\\\n",
    "            [['SYMBOL', ret, 'cluster']]\\\n",
    "            .dropna(axis=0, subset=['cluster'])\\\n",
    "            .groupby(['timestamp', 'cluster'])\\\n",
    "            [[ret]]\\\n",
    "            .mean()\\\n",
    "            .reset_index(1)\\\n",
    "            .reset_index()\\\n",
    "            .pivot(index='timestamp', columns=\"cluster\", values=ret)\n",
    "\n",
    "dfperf.cumsum().plot(figsize=(10,10), title=\"unnormalized\")\n",
    "\n",
    "if True:\n",
    "    dfperf_sd = dfperf.rolling(20, min_periods=20).std()\n",
    "    dfperf = dfperf / dfperf_sd\n",
    "    \n",
    "dfperf.cumsum().plot(figsize=(10,10), title=\"normalized\")\n",
    "\n",
    "\n",
    "dfd = dfperf.describe().transpose()\n",
    "dfd['annSr'] = np.sqrt(252) * dfd['mean'] / dfd['std']\n",
    "dfd = dfd.sort_values(['annSr'])\n",
    "display(dfd)\n",
    "\n",
    "dfperf_all = pd.DataFrame(dfperf.sum(axis=1)).rename(columns={0: \"all\"})\n",
    "if False:\n",
    "    dfperf_all_sd = dfperf_all.rolling(20, min_periods=20).std()\n",
    "    dfperf_all = dfperf_all / dfperf_all_sd\n",
    "dfperf_all.cumsum().plot()\n",
    "\n",
    "dfd2 = dfperf_all.describe().transpose()\n",
    "dfd2['annSr'] = np.sqrt(252) * dfd2['mean'] / dfd2['std']\n",
    "dfd2 = dfd2.sort_values(['annSr'])\n",
    "dfd2"
   ]
  },
  {
   "cell_type": "code",
   "execution_count": null,
   "id": "d3386b84-fc82-4ae5-9c8d-d06b1495ff7d",
   "metadata": {},
   "outputs": [],
   "source": [
    "dfperf"
   ]
  },
  {
   "cell_type": "code",
   "execution_count": null,
   "id": "de056d64-61fd-446d-b95a-2109c53b120a",
   "metadata": {},
   "outputs": [],
   "source": [
    "w_o = dfd[['annSr']].sort_index().to_numpy()\n",
    "w = w_o - np.mean(w_o, axis=0)\n",
    "\n",
    "P = dfperf.dropna().to_numpy()\n",
    "\n",
    "r = np.matmul(P, w)\n",
    "r = np.squeeze(r)\n",
    "plt.plot(np.cumsum(r))"
   ]
  },
  {
   "cell_type": "code",
   "execution_count": null,
   "id": "5e1cedb6-70b1-4b33-9b35-b007bf09beb4",
   "metadata": {},
   "outputs": [],
   "source": [
    "np.sqrt(252) * np.mean(r) / np.std(r)"
   ]
  },
  {
   "cell_type": "code",
   "execution_count": null,
   "id": "862ec0f4-1e78-4b3f-bc73-ea68d96e7de4",
   "metadata": {},
   "outputs": [],
   "source": []
  },
  {
   "cell_type": "code",
   "execution_count": null,
   "id": "bbf2569e-349b-4d43-b59b-48274cf97cf2",
   "metadata": {},
   "outputs": [],
   "source": []
  },
  {
   "cell_type": "code",
   "execution_count": null,
   "id": "fd97dd43-41d5-4417-8c01-60cc71d97d84",
   "metadata": {},
   "outputs": [],
   "source": []
  },
  {
   "cell_type": "code",
   "execution_count": null,
   "id": "ced3ab07-ec8c-4a1a-8335-2ff3db793ec3",
   "metadata": {},
   "outputs": [],
   "source": []
  },
  {
   "cell_type": "markdown",
   "id": "44da87e6-4a88-4e97-b8fb-70f47714e006",
   "metadata": {
    "tags": []
   },
   "source": [
    "## Monetization"
   ]
  },
  {
   "cell_type": "code",
   "execution_count": 4,
   "id": "ff0663e3-4fdc-44f1-9254-7e5a085606d1",
   "metadata": {
    "scrolled": true,
    "tags": []
   },
   "outputs": [
    {
     "name": "stdout",
     "output_type": "stream",
     "text": [
      "['20160607', '20160607']\n",
      "['20160529', '20160606']\n",
      "['20160601', '20160601']\n",
      "['20160523', '20160531']\n",
      "['20160602', '20160602']\n",
      "['20160524', '20160601']\n",
      "['20160603', '20160603']\n",
      "['20160525', '20160602']\n",
      "['20160604', '20160604']\n",
      "['20160526', '20160603']\n",
      "['20160606', '20160606']\n",
      "['20160528', '20160605']\n",
      "['20160605', '20160605']\n",
      "['20160527', '20160604']\n"
     ]
    },
    {
     "name": "stderr",
     "output_type": "stream",
     "text": [
      "100%|██████████| 10/10 [00:00<00:00, 501.66it/s]\n",
      "100%|██████████| 10/10 [00:00<00:00, 3501.38it/s]\n",
      "100%|██████████| 10/10 [00:00<00:00, 337.97it/s]\n",
      "100%|██████████| 10/10 [00:00<00:00, 311.53it/s]\n",
      "100%|██████████| 10/10 [00:00<00:00, 2280.63it/s]\n",
      "100%|██████████| 10/10 [00:00<00:00, 293.71it/s]\n",
      "100%|██████████| 10/10 [00:00<00:00, 415.76it/s]\n",
      "100%|██████████| 10/10 [00:00<00:00, 2084.13it/s]\n",
      "100%|██████████| 10/10 [00:00<00:00, 2847.46it/s]\n",
      "100%|██████████| 10/10 [00:00<00:00, 2321.27it/s]\n",
      "  0%|          | 0/10 [00:00<?, ?it/s]"
     ]
    },
    {
     "name": "stdout",
     "output_type": "stream",
     "text": [
      "['20160608', '20160608']\n",
      "['20160530', '20160607']\n",
      "['20160612', '20160612']\n",
      "['20160603', '20160611']\n",
      "['20160609', '20160609']\n",
      "['20160531', '20160608']\n",
      "['20160610', '20160610']\n",
      "['20160601', '20160609']\n",
      "['20160614', '20160614']\n",
      "['20160605', '20160613']\n",
      "['20160611', '20160611']\n",
      "['20160602', '20160610']\n",
      "['20160613', '20160613']\n",
      "['20160604', '20160612']\n",
      "['20160615', '20160615']\n",
      "['20160606', '20160614']\n",
      "['20160616', '20160616']\n",
      "['20160607', '20160615']\n",
      "['20160617', '20160617']\n",
      "['20160608', '20160616']\n"
     ]
    },
    {
     "name": "stderr",
     "output_type": "stream",
     "text": [
      "100%|██████████| 10/10 [00:00<00:00, 234.47it/s]\n",
      "100%|██████████| 10/10 [00:00<00:00, 269.73it/s]\n",
      "100%|██████████| 10/10 [00:00<00:00, 245.17it/s]\n",
      "100%|██████████| 10/10 [00:00<00:00, 2071.47it/s]\n",
      "100%|██████████| 10/10 [00:00<00:00, 2062.81it/s]\n",
      "100%|██████████| 10/10 [00:00<00:00, 302.39it/s]\n",
      "100%|██████████| 10/10 [00:00<00:00, 220.73it/s]\n",
      "100%|██████████| 10/10 [00:00<00:00, 218.99it/s]\n",
      "\n",
      "100%|██████████| 10/10 [00:00<00:00, 254.25it/s]\n",
      "100%|██████████| 10/10 [00:00<00:00, 2375.97it/s]\n",
      "100%|██████████| 10/10 [00:00<00:00, 1933.39it/s]\n",
      "100%|██████████| 10/10 [00:00<00:00, 208.56it/s]\n",
      "100%|██████████| 10/10 [00:00<00:00, 1746.54it/s]\n",
      "\n",
      "100%|██████████| 10/10 [00:00<00:00, 219.65it/s]\n",
      "100%|██████████| 10/10 [00:00<00:00, 1697.62it/s]\n",
      "100%|██████████| 10/10 [00:00<00:00, 1583.71it/s]\n",
      "100%|██████████| 10/10 [00:00<00:00, 2050.20it/s]\n",
      "100%|██████████| 10/10 [00:00<00:00, 1688.80it/s]\n",
      "100%|██████████| 10/10 [00:00<00:00, 228.51it/s]\n",
      "100%|██████████| 10/10 [00:00<00:00, 2377.86it/s]\n",
      "100%|██████████| 10/10 [00:00<00:00, 246.07it/s]\n",
      "100%|██████████| 10/10 [00:00<00:00, 2490.53it/s]\n",
      "100%|██████████| 10/10 [00:00<00:00, 321.22it/s]\n",
      "100%|██████████| 10/10 [00:00<00:00, 314.98it/s]\n",
      "100%|██████████| 10/10 [00:00<00:00, 2219.33it/s]\n",
      "100%|██████████| 10/10 [00:00<00:00, 2296.61it/s]\n",
      "100%|██████████| 10/10 [00:00<00:00, 346.31it/s]\n",
      "100%|██████████| 10/10 [00:00<00:00, 326.27it/s]\n",
      "100%|██████████| 10/10 [00:00<00:00, 2275.06it/s]\n",
      "  0%|          | 0/10 [00:00<?, ?it/s]"
     ]
    },
    {
     "name": "stdout",
     "output_type": "stream",
     "text": [
      "['20160618', '20160618']\n",
      "['20160609', '20160617']\n",
      "['20160619', '20160619']\n",
      "['20160610', '20160618']\n",
      "['20160620', '20160620']\n",
      "['20160611', '20160619']\n",
      "['20160621', '20160621']\n",
      "['20160612', '20160620']\n"
     ]
    },
    {
     "name": "stderr",
     "output_type": "stream",
     "text": [
      "100%|██████████| 10/10 [00:00<00:00, 2455.39it/s]\n",
      "100%|██████████| 10/10 [00:00<00:00, 338.27it/s]\n",
      "100%|██████████| 10/10 [00:00<00:00, 290.30it/s]\n",
      "100%|██████████| 10/10 [00:00<00:00, 2278.89it/s]\n",
      "100%|██████████| 10/10 [00:00<00:00, 285.03it/s]\n",
      "100%|██████████| 10/10 [00:00<00:00, 1422.38it/s]\n",
      "100%|██████████| 10/10 [00:00<00:00, 2237.32it/s]\n",
      "100%|██████████| 10/10 [00:00<00:00, 321.36it/s]\n"
     ]
    },
    {
     "name": "stdout",
     "output_type": "stream",
     "text": [
      "[0.0, 0.0, 434]\n",
      "['20160622', '20160622']\n",
      "['20160613', '20160621']\n",
      "[0.0, 0.0, 432]\n",
      "['20160623', '20160623']\n",
      "['20160614', '20160622']\n",
      "[0.0, 0.0, 436]\n",
      "['20160624', '20160624']\n",
      "['20160615', '20160623']\n",
      "[0.0, 0.0, 436]\n",
      "['20160625', '20160625']\n",
      "['20160616', '20160624']\n",
      "[0.0, 0.0, 436]\n",
      "['20160626', '20160626']\n",
      "['20160617', '20160625']\n",
      "[0.0, 0.0, 440]\n",
      "['20160627', '20160627']\n",
      "['20160618', '20160626']\n"
     ]
    },
    {
     "name": "stderr",
     "output_type": "stream",
     "text": [
      "100%|██████████| 10/10 [00:00<00:00, 370.35it/s]\n",
      "100%|██████████| 10/10 [00:00<00:00, 2357.41it/s]\n",
      "100%|██████████| 10/10 [00:00<00:00, 2483.01it/s]\n",
      "100%|██████████| 10/10 [00:00<00:00, 323.69it/s]\n",
      "100%|██████████| 10/10 [00:00<00:00, 2558.91it/s]\n",
      "100%|██████████| 10/10 [00:00<00:00, 322.74it/s]\n",
      "100%|██████████| 10/10 [00:00<00:00, 2591.16it/s]\n",
      "100%|██████████| 10/10 [00:00<00:00, 319.60it/s]\n",
      "100%|██████████| 10/10 [00:00<00:00, 281.04it/s]\n",
      "100%|██████████| 10/10 [00:00<00:00, 313.13it/s]\n",
      "100%|██████████| 10/10 [00:00<00:00, 2168.38it/s]\n",
      "100%|██████████| 10/10 [00:00<00:00, 2103.36it/s]\n",
      "100%|██████████| 10/10 [00:00<00:00, 2222.15it/s]\n"
     ]
    },
    {
     "name": "stdout",
     "output_type": "stream",
     "text": [
      "[0.0, 0.0, 441]\n",
      "['20160628', '20160628']\n",
      "['20160619', '20160627']\n",
      "[0.0, 0.0, 439]\n",
      "['20160629', '20160629']\n",
      "['20160620', '20160628']\n",
      "['20160630', '20160630']\n",
      "['20160621', '20160629']\n",
      "['20160701', '20160701']\n",
      "['20160622', '20160630']\n",
      "[0.7158836689038032, 320.0, 447]\n",
      "['20160702', '20160702']\n",
      "['20160623', '20160701']\n",
      "[0.6943820224719102, 309.0, 445]\n",
      "['20160703', '20160703']\n",
      "['20160624', '20160702']\n",
      "[0.7113636363636363, 313.0, 440]\n",
      "['20160704', '20160704']\n",
      "['20160625', '20160703']\n",
      "['20160705', '20160705']\n",
      "['20160626', '20160704']\n",
      "['20160706', '20160706']\n",
      "['20160627', '20160705']\n",
      "[0.7348314606741573, 327.0, 445]\n",
      "['20160707', '20160707']\n",
      "['20160628', '20160706']\n"
     ]
    },
    {
     "name": "stderr",
     "output_type": "stream",
     "text": [
      "100%|██████████| 10/10 [00:00<00:00, 250.36it/s]\n",
      "100%|██████████| 10/10 [00:00<00:00, 2655.80it/s]\n",
      "100%|██████████| 10/10 [00:00<00:00, 300.57it/s]\n",
      "100%|██████████| 10/10 [00:00<00:00, 2000.91it/s]\n",
      "100%|██████████| 10/10 [00:00<00:00, 430.73it/s]\n",
      "100%|██████████| 10/10 [00:00<00:00, 2908.67it/s]\n",
      "100%|██████████| 10/10 [00:00<00:00, 294.73it/s]\n",
      "100%|██████████| 10/10 [00:00<00:00, 2786.36it/s]\n",
      "100%|██████████| 10/10 [00:00<00:00, 323.12it/s]\n",
      "100%|██████████| 10/10 [00:00<00:00, 2490.53it/s]\n",
      "100%|██████████| 10/10 [00:00<00:00, 336.04it/s]\n",
      "100%|██████████| 10/10 [00:00<00:00, 2371.94it/s]\n",
      "100%|██████████| 10/10 [00:00<00:00, 365.61it/s]\n",
      "100%|██████████| 10/10 [00:00<00:00, 2453.81it/s]\n",
      "100%|██████████| 10/10 [00:00<00:00, 395.65it/s]\n",
      "100%|██████████| 10/10 [00:00<00:00, 1787.55it/s]\n",
      "100%|██████████| 10/10 [00:00<00:00, 429.38it/s]\n",
      "100%|██████████| 10/10 [00:00<00:00, 2638.59it/s]\n",
      "100%|██████████| 10/10 [00:00<00:00, 357.98it/s]\n",
      "100%|██████████| 10/10 [00:00<00:00, 330.04it/s]\n",
      "100%|██████████| 10/10 [00:00<00:00, 309.73it/s]"
     ]
    },
    {
     "name": "stdout",
     "output_type": "stream",
     "text": [
      "['20160708', '20160708']\n",
      "['20160629', '20160707']\n",
      "[0.7348314606741573, 327.0, 445]\n",
      "['20160709', '20160709']\n",
      "['20160630', '20160708']\n",
      "[0.6859688195991092, 308.0, 449]\n",
      "['20160710', '20160710']\n",
      "['20160701', '20160709']\n",
      "[0.7113636363636363, 313.0, 440]\n",
      "['20160711', '20160711']\n",
      "['20160702', '20160710']\n",
      "[0.6928251121076233, 309.0, 446]\n",
      "['20160712', '20160712']\n",
      "['20160703', '20160711']\n",
      "['20160713', '20160713']\n",
      "['20160704', '20160712']\n",
      "[0.7393258426966293, 329.0, 445]\n",
      "['20160714', '20160714']\n",
      "['20160705', '20160713']\n",
      "['20160715', '20160715']\n",
      "['20160706', '20160714']\n",
      "[0.713963963963964, 317.0, 444]\n",
      "['20160716', '20160716']\n",
      "['20160707', '20160715']\n",
      "[0.6897321428571429, 309.0, 448]\n",
      "['20160717', '20160717']\n",
      "['20160708', '20160716']\n"
     ]
    },
    {
     "name": "stderr",
     "output_type": "stream",
     "text": [
      "\n",
      "100%|██████████| 10/10 [00:00<00:00, 243.54it/s]\n",
      "100%|██████████| 10/10 [00:00<00:00, 2603.22it/s]\n",
      "100%|██████████| 10/10 [00:00<00:00, 2369.13it/s]\n",
      "100%|██████████| 10/10 [00:00<00:00, 315.61it/s]\n",
      "100%|██████████| 10/10 [00:00<00:00, 2262.30it/s]\n",
      "100%|██████████| 10/10 [00:00<00:00, 1394.10it/s]\n",
      "100%|██████████| 10/10 [00:00<00:00, 2006.65it/s]\n",
      "100%|██████████| 10/10 [00:00<00:00, 272.42it/s]\n",
      "100%|██████████| 10/10 [00:00<00:00, 245.92it/s]\n",
      "100%|██████████| 10/10 [00:00<00:00, 2248.11it/s]\n",
      "100%|██████████| 10/10 [00:00<00:00, 2595.00it/s]\n",
      "100%|██████████| 10/10 [00:00<00:00, 409.87it/s]\n",
      "100%|██████████| 10/10 [00:00<00:00, 368.28it/s]\n",
      "100%|██████████| 10/10 [00:00<00:00, 1991.69it/s]\n",
      "100%|██████████| 10/10 [00:00<00:00, 1879.59it/s]\n"
     ]
    },
    {
     "name": "stdout",
     "output_type": "stream",
     "text": [
      "['20160718', '20160718']\n",
      "['20160709', '20160717']\n",
      "['20160719', '20160719']\n",
      "['20160710', '20160718']\n",
      "[0.6965065502183406, 319.0, 458]\n",
      "['20160720', '20160720']\n",
      "['20160711', '20160719']\n",
      "[0.6820175438596491, 311.0, 456]\n",
      "['20160721', '20160721']\n",
      "['20160712', '20160720']\n"
     ]
    },
    {
     "name": "stderr",
     "output_type": "stream",
     "text": [
      "100%|██████████| 10/10 [00:00<00:00, 331.99it/s]\n",
      "100%|██████████| 10/10 [00:00<00:00, 1813.67it/s]\n",
      "100%|██████████| 10/10 [00:00<00:00, 146.03it/s]\n",
      "100%|██████████| 10/10 [00:00<00:00, 2272.23it/s]\n",
      "100%|██████████| 10/10 [00:00<00:00, 307.64it/s]\n"
     ]
    },
    {
     "name": "stdout",
     "output_type": "stream",
     "text": [
      "[0.7393258426966293, 329.0, 445]\n",
      "['20160722', '20160722']\n",
      "['20160713', '20160721']\n"
     ]
    },
    {
     "name": "stderr",
     "output_type": "stream",
     "text": [
      "100%|██████████| 10/10 [00:00<00:00, 3013.37it/s]\n"
     ]
    },
    {
     "name": "stdout",
     "output_type": "stream",
     "text": [
      "[0.7086092715231788, 321.0, 453]\n",
      "['20160723', '20160723']\n",
      "['20160714', '20160722']\n",
      "['20160724', '20160724']\n",
      "['20160715', '20160723']\n"
     ]
    },
    {
     "name": "stderr",
     "output_type": "stream",
     "text": [
      "100%|██████████| 10/10 [00:00<00:00, 139.73it/s]\n",
      "100%|██████████| 10/10 [00:00<00:00, 2680.07it/s]\n",
      "100%|██████████| 10/10 [00:00<00:00, 131.03it/s]\n",
      "100%|██████████| 10/10 [00:00<00:00, 2332.89it/s]\n",
      "100%|██████████| 10/10 [00:00<00:00, 337.82it/s]\n",
      "100%|██████████| 10/10 [00:00<00:00, 2700.25it/s]\n",
      "  0%|          | 0/10 [00:00<?, ?it/s]"
     ]
    },
    {
     "name": "stdout",
     "output_type": "stream",
     "text": [
      "['20160725', '20160725']\n",
      "['20160716', '20160724']\n",
      "[0.646551724137931, 300.0, 464]\n",
      "['20160726', '20160726']\n",
      "['20160717', '20160725']\n",
      "[0.6623093681917211, 304.0, 459]\n",
      "['20160727', '20160727']\n",
      "['20160718', '20160726']\n",
      "[0.6805251641137856, 311.0, 457]\n",
      "['20160728', '20160728']\n",
      "['20160719', '20160727']\n"
     ]
    },
    {
     "name": "stderr",
     "output_type": "stream",
     "text": [
      "100%|██████████| 10/10 [00:00<00:00, 368.15it/s]\n",
      "100%|██████████| 10/10 [00:00<00:00, 2473.93it/s]\n",
      "100%|██████████| 10/10 [00:00<00:00, 300.04it/s]\n",
      "100%|██████████| 10/10 [00:00<00:00, 2503.61it/s]\n",
      "100%|██████████| 10/10 [00:00<00:00, 263.74it/s]\n",
      "100%|██████████| 10/10 [00:00<00:00, 1992.64it/s]\n",
      "100%|██████████| 10/10 [00:00<00:00, 296.41it/s]\n",
      "100%|██████████| 10/10 [00:00<00:00, 2366.72it/s]\n"
     ]
    },
    {
     "name": "stdout",
     "output_type": "stream",
     "text": [
      "[0.6805251641137856, 311.0, 457]\n",
      "['20160729', '20160729']\n",
      "['20160720', '20160728']\n",
      "[0.7139689578713969, 322.0, 451]\n",
      "['20160730', '20160730']\n",
      "['20160721', '20160729']\n"
     ]
    },
    {
     "name": "stderr",
     "output_type": "stream",
     "text": [
      "100%|██████████| 10/10 [00:00<00:00, 274.24it/s]\n",
      "100%|██████████| 10/10 [00:00<00:00, 2528.06it/s]\n",
      "100%|██████████| 10/10 [00:00<00:00, 245.20it/s]\n",
      "  0%|          | 0/10 [00:00<?, ?it/s]"
     ]
    },
    {
     "name": "stdout",
     "output_type": "stream",
     "text": [
      "['20160731', '20160731']\n",
      "['20160722', '20160730']\n",
      "[0.7139689578713969, 322.0, 451]\n",
      "['20160801', '20160801']\n",
      "['20160723', '20160731']\n",
      "[0.6753246753246753, 312.0, 462]\n",
      "['20160802', '20160802']\n",
      "['20160724', '20160801']\n",
      "[0.6804347826086956, 313.0, 460]\n",
      "['20160803', '20160803']\n",
      "['20160725', '20160802']\n",
      "['20160804', '20160804']\n",
      "['20160726', '20160803']\n",
      "[0.6919739696312365, 319.0, 461]\n",
      "['20160805', '20160805']\n",
      "['20160727', '20160804']\n"
     ]
    },
    {
     "name": "stderr",
     "output_type": "stream",
     "text": [
      "100%|██████████| 10/10 [00:00<00:00, 1974.07it/s]\n",
      "100%|██████████| 10/10 [00:00<00:00, 280.57it/s]\n",
      "100%|██████████| 10/10 [00:00<00:00, 171.82it/s]\n",
      "100%|██████████| 10/10 [00:00<00:00, 2419.56it/s]\n",
      "100%|██████████| 10/10 [00:00<00:00, 1253.00it/s]\n",
      "100%|██████████| 10/10 [00:00<00:00, 276.28it/s]\n",
      "100%|██████████| 10/10 [00:00<00:00, 279.03it/s]\n",
      "100%|██████████| 10/10 [00:00<00:00, 1961.88it/s]\n",
      "100%|██████████| 10/10 [00:00<00:00, 1739.36it/s]\n",
      "100%|██████████| 10/10 [00:00<00:00, 241.89it/s]\n",
      "100%|██████████| 10/10 [00:00<00:00, 1983.40it/s]\n",
      "100%|██████████| 10/10 [00:00<00:00, 318.60it/s]\n",
      "100%|██████████| 10/10 [00:00<00:00, 2496.61it/s]\n"
     ]
    },
    {
     "name": "stdout",
     "output_type": "stream",
     "text": [
      "[0.6919739696312365, 319.0, 461]\n",
      "['20160806', '20160806']\n",
      "['20160728', '20160805']\n",
      "['20160807', '20160807']\n",
      "['20160729', '20160806']\n",
      "[0.6868250539956804, 318.0, 463]\n",
      "['20160808', '20160808']\n",
      "['20160730', '20160807']\n",
      "[0.6838709677419355, 318.0, 465]\n",
      "['20160809', '20160809']\n",
      "['20160731', '20160808']\n",
      "[0.6865671641791045, 322.0, 469]\n",
      "['20160810', '20160810']\n",
      "['20160801', '20160809']\n"
     ]
    },
    {
     "name": "stderr",
     "output_type": "stream",
     "text": [
      "100%|██████████| 10/10 [00:00<00:00, 395.22it/s]\n",
      "100%|██████████| 10/10 [00:00<00:00, 359.49it/s]\n",
      "100%|██████████| 10/10 [00:00<00:00, 2393.05it/s]\n",
      "100%|██████████| 10/10 [00:00<00:00, 2354.37it/s]\n",
      "100%|██████████| 10/10 [00:00<00:00, 281.14it/s]\n",
      "100%|██████████| 10/10 [00:00<00:00, 2243.18it/s]\n",
      "100%|██████████| 10/10 [00:00<00:00, 279.82it/s]\n",
      "100%|██████████| 10/10 [00:00<00:00, 282.38it/s]\n",
      "100%|██████████| 10/10 [00:00<00:00, 2444.95it/s]\n",
      "100%|██████████| 10/10 [00:00<00:00, 2171.64it/s]\n"
     ]
    },
    {
     "name": "stdout",
     "output_type": "stream",
     "text": [
      "['20160811', '20160811']\n",
      "['20160802', '20160810']\n",
      "[0.6802575107296137, 317.0, 466]\n",
      "['20160812', '20160812']\n",
      "['20160803', '20160811']\n"
     ]
    },
    {
     "name": "stderr",
     "output_type": "stream",
     "text": [
      "100%|██████████| 10/10 [00:00<00:00, 247.36it/s]\n",
      "100%|██████████| 10/10 [00:00<00:00, 2213.12it/s]\n"
     ]
    },
    {
     "name": "stdout",
     "output_type": "stream",
     "text": [
      "[0.7029914529914529, 329.0, 468]\n",
      "['20160813', '20160813']\n",
      "['20160804', '20160812']\n",
      "[0.6390041493775933, 308.0, 482]\n",
      "['20160814', '20160814']\n",
      "['20160805', '20160813']\n",
      "['20160815', '20160815']\n",
      "['20160806', '20160814']\n",
      "['20160817', '20160817']\n",
      "['20160808', '20160816']\n",
      "['20160816', '20160816']\n",
      "['20160807', '20160815']\n"
     ]
    },
    {
     "name": "stderr",
     "output_type": "stream",
     "text": [
      "100%|██████████| 10/10 [00:00<00:00, 368.21it/s]\n",
      "100%|██████████| 10/10 [00:00<00:00, 2559.69it/s]\n",
      "100%|██████████| 10/10 [00:00<00:00, 423.47it/s]\n",
      "100%|██████████| 10/10 [00:00<00:00, 2783.58it/s]\n",
      "100%|██████████| 10/10 [00:00<00:00, 533.82it/s]\n",
      "100%|██████████| 10/10 [00:00<00:00, 2818.94it/s]\n",
      "100%|██████████| 10/10 [00:00<00:00, 437.91it/s]\n",
      "100%|██████████| 10/10 [00:00<00:00, 374.18it/s]\n",
      "100%|██████████| 10/10 [00:00<00:00, 3470.10it/s]\n",
      "100%|██████████| 10/10 [00:00<00:00, 2512.91it/s]\n"
     ]
    },
    {
     "name": "stdout",
     "output_type": "stream",
     "text": [
      "[0.6555323590814196, 314.0, 479]\n",
      "['20160818', '20160818']\n",
      "['20160809', '20160817']\n",
      "[0.7029914529914529, 329.0, 468]\n",
      "['20160819', '20160819']\n",
      "['20160810', '20160818']\n",
      "[0.6331967213114754, 309.0, 488]\n",
      "['20160820', '20160820']\n",
      "['20160811', '20160819']\n",
      "['20160821', '20160821']\n",
      "['20160812', '20160820']\n"
     ]
    },
    {
     "name": "stderr",
     "output_type": "stream",
     "text": [
      "100%|██████████| 10/10 [00:00<00:00, 269.15it/s]\n",
      "100%|██████████| 10/10 [00:00<00:00, 2616.70it/s]\n",
      "100%|██████████| 10/10 [00:00<00:00, 270.81it/s]\n",
      "100%|██████████| 10/10 [00:00<00:00, 293.54it/s]\n",
      "100%|██████████| 10/10 [00:00<00:00, 2605.00it/s]\n",
      "100%|██████████| 10/10 [00:00<00:00, 2697.82it/s]\n",
      "100%|██████████| 10/10 [00:00<00:00, 482.31it/s]\n",
      "100%|██████████| 10/10 [00:00<00:00, 2834.18it/s]\n",
      "100%|██████████| 10/10 [00:00<00:00, 477.61it/s]\n",
      "100%|██████████| 10/10 [00:00<00:00, 2771.44it/s]\n"
     ]
    },
    {
     "name": "stdout",
     "output_type": "stream",
     "text": [
      "['20160822', '20160822']\n",
      "['20160813', '20160821']\n",
      "[0.6528066528066528, 314.0, 481]\n",
      "['20160823', '20160823']\n",
      "['20160814', '20160822']\n"
     ]
    },
    {
     "name": "stderr",
     "output_type": "stream",
     "text": [
      "100%|██████████| 10/10 [00:00<00:00, 395.26it/s]\n",
      "100%|██████████| 10/10 [00:00<00:00, 2514.72it/s]\n",
      "100%|██████████| 10/10 [00:00<00:00, 349.10it/s]\n",
      "100%|██████████| 10/10 [00:00<00:00, 302.53it/s]\n",
      "100%|██████████| 10/10 [00:00<00:00, 2640.09it/s]\n",
      "100%|██████████| 10/10 [00:00<00:00, 311.03it/s]\n",
      "100%|██████████| 10/10 [00:00<00:00, 2453.96it/s]\n",
      "100%|██████████| 10/10 [00:00<00:00, 2260.47it/s]\n"
     ]
    },
    {
     "name": "stdout",
     "output_type": "stream",
     "text": [
      "[0.6399176954732511, 311.0, 486]\n",
      "['20160824', '20160824']\n",
      "['20160815', '20160823']\n",
      "[0.6548117154811716, 313.0, 478]\n",
      "['20160825', '20160825']\n",
      "['20160816', '20160824']\n",
      "[0.6548117154811716, 313.0, 478]\n",
      "['20160826', '20160826']\n",
      "['20160817', '20160825']\n",
      "[0.6680497925311203, 322.0, 482]\n",
      "['20160827', '20160827']\n",
      "['20160818', '20160826']\n"
     ]
    },
    {
     "name": "stderr",
     "output_type": "stream",
     "text": [
      "100%|██████████| 10/10 [00:00<00:00, 318.28it/s]\n",
      "100%|██████████| 10/10 [00:00<00:00, 2434.30it/s]\n",
      "100%|██████████| 10/10 [00:00<00:00, 400.85it/s]\n",
      "100%|██████████| 10/10 [00:00<00:00, 2637.76it/s]\n",
      "100%|██████████| 10/10 [00:00<00:00, 374.74it/s]\n",
      "100%|██████████| 10/10 [00:00<00:00, 2536.01it/s]\n",
      "100%|██████████| 10/10 [00:00<00:00, 354.82it/s]\n",
      "100%|██████████| 10/10 [00:00<00:00, 2627.85it/s]\n"
     ]
    },
    {
     "name": "stdout",
     "output_type": "stream",
     "text": [
      "[0.6900826446280992, 334.0, 484]\n",
      "['20160828', '20160828']\n",
      "['20160819', '20160827']\n",
      "['20160829', '20160829']\n",
      "['20160820', '20160828']\n",
      "['20160830', '20160830']\n",
      "['20160821', '20160829']\n",
      "[0.726890756302521, 346.0, 476]\n",
      "['20160831', '20160831']\n",
      "['20160822', '20160830']\n",
      "[0.6823770491803278, 333.0, 488]\n",
      "['20160901', '20160901']\n",
      "['20160823', '20160831']\n",
      "[0.6728016359918201, 329.0, 489]\n",
      "['20160902', '20160902']\n",
      "['20160824', '20160901']\n",
      "[0.726890756302521, 346.0, 476]\n",
      "['20160903', '20160903']\n",
      "['20160825', '20160902']\n",
      "['20160904', '20160904']\n",
      "['20160826', '20160903']\n"
     ]
    },
    {
     "name": "stderr",
     "output_type": "stream",
     "text": [
      "100%|██████████| 10/10 [00:00<00:00, 316.59it/s]\n",
      "100%|██████████| 10/10 [00:00<00:00, 2376.78it/s]\n",
      "100%|██████████| 10/10 [00:00<00:00, 314.64it/s]\n",
      "100%|██████████| 10/10 [00:00<00:00, 2453.96it/s]\n",
      "100%|██████████| 10/10 [00:00<00:00, 300.55it/s]\n",
      "100%|██████████| 10/10 [00:00<00:00, 378.10it/s]\n",
      "100%|██████████| 10/10 [00:00<00:00, 3025.54it/s]\n",
      "100%|██████████| 10/10 [00:00<00:00, 2131.14it/s]\n",
      "100%|██████████| 10/10 [00:00<00:00, 460.61it/s]\n",
      "100%|██████████| 10/10 [00:00<00:00, 2769.07it/s]\n",
      "100%|██████████| 10/10 [00:00<00:00, 536.89it/s]\n",
      "100%|██████████| 10/10 [00:00<00:00, 3194.69it/s]\n",
      "100%|██████████| 10/10 [00:00<00:00, 538.77it/s]\n",
      "100%|██████████| 10/10 [00:00<00:00, 3785.47it/s]\n",
      "  0%|          | 0/10 [00:00<?, ?it/s]"
     ]
    },
    {
     "name": "stdout",
     "output_type": "stream",
     "text": [
      "['20160905', '20160905']\n",
      "['20160827', '20160904']\n",
      "['20160906', '20160906']\n",
      "['20160828', '20160905']\n",
      "[0.6822810590631364, 335.0, 491]\n",
      "['20160907', '20160907']\n",
      "['20160829', '20160906']\n"
     ]
    },
    {
     "name": "stderr",
     "output_type": "stream",
     "text": [
      "100%|██████████| 10/10 [00:00<00:00, 366.65it/s]\n",
      "100%|██████████| 10/10 [00:00<00:00, 2701.99it/s]\n",
      "100%|██████████| 10/10 [00:00<00:00, 367.12it/s]\n",
      "100%|██████████| 10/10 [00:00<00:00, 2509.16it/s]\n",
      "100%|██████████| 10/10 [00:00<00:00, 364.53it/s]\n",
      "100%|██████████| 10/10 [00:00<00:00, 2630.65it/s]\n",
      "100%|██████████| 10/10 [00:00<00:00, 357.32it/s]\n",
      "100%|██████████| 10/10 [00:00<00:00, 2864.96it/s]\n",
      "  0%|          | 0/10 [00:00<?, ?it/s]"
     ]
    },
    {
     "name": "stdout",
     "output_type": "stream",
     "text": [
      "[0.6821862348178138, 337.0, 494]\n",
      "['20160908', '20160908']\n",
      "['20160830', '20160907']\n",
      "[0.6822810590631364, 335.0, 491]\n",
      "['20160909', '20160909']\n",
      "['20160831', '20160908']\n",
      "[0.6829268292682927, 336.0, 492]\n",
      "['20160910', '20160910']\n",
      "['20160901', '20160909']\n",
      "['20160911', '20160911']\n",
      "['20160902', '20160910']\n"
     ]
    },
    {
     "name": "stderr",
     "output_type": "stream",
     "text": [
      "100%|██████████| 10/10 [00:00<00:00, 416.16it/s]\n",
      "100%|██████████| 10/10 [00:00<00:00, 2745.32it/s]\n",
      "100%|██████████| 10/10 [00:00<00:00, 483.79it/s]\n",
      "100%|██████████| 10/10 [00:00<00:00, 2675.79it/s]\n"
     ]
    },
    {
     "name": "stdout",
     "output_type": "stream",
     "text": [
      "['20160912', '20160912']\n",
      "['20160903', '20160911']\n",
      "[0.6369047619047619, 321.0, 504]\n",
      "['20160913', '20160913']\n",
      "['20160904', '20160912']\n",
      "[0.6619718309859155, 329.0, 497]\n",
      "['20160914', '20160914']\n",
      "['20160905', '20160913']\n"
     ]
    },
    {
     "name": "stderr",
     "output_type": "stream",
     "text": [
      "100%|██████████| 10/10 [00:00<00:00, 403.40it/s]\n",
      "  0%|          | 0/10 [00:00<?, ?it/s]89.28it/s]\n",
      "100%|██████████| 10/10 [00:00<00:00, 2311.55it/s]\n",
      "100%|██████████| 10/10 [00:00<00:00, 2195.97it/s]\n",
      "100%|██████████| 10/10 [00:00<00:00, 335.66it/s]\n",
      "100%|██████████| 10/10 [00:00<00:00, 2439.54it/s]\n",
      "100%|██████████| 10/10 [00:00<00:00, 348.46it/s]\n",
      "100%|██████████| 10/10 [00:00<00:00, 402.70it/s]\n",
      "100%|██████████| 10/10 [00:00<00:00, 2560.47it/s]\n",
      "100%|██████████| 10/10 [00:00<00:00, 2529.74it/s]\n",
      "100%|██████████| 10/10 [00:00<00:00, 456.17it/s]\n",
      "100%|██████████| 10/10 [00:00<00:00, 2395.92it/s]\n",
      "100%|██████████| 10/10 [00:00<00:00, 466.79it/s]\n",
      "  0%|          | 0/10 [00:00<?, ?it/s]"
     ]
    },
    {
     "name": "stdout",
     "output_type": "stream",
     "text": [
      "[0.6579476861167002, 327.0, 497]\n",
      "['20160915', '20160915']\n",
      "['20160906', '20160914']\n",
      "['20160916', '20160916']\n",
      "['20160907', '20160915']\n",
      "[0.6579476861167002, 327.0, 497]\n",
      "['20160917', '20160917']\n",
      "['20160908', '20160916']\n",
      "[0.7057613168724279, 343.0, 486]\n",
      "['20160918', '20160918']\n",
      "['20160909', '20160917']\n",
      "['20160919', '20160919']\n",
      "['20160910', '20160918']\n",
      "[0.621301775147929, 315.0, 507]\n",
      "['20160920', '20160920']\n",
      "['20160911', '20160919']\n",
      "['20160921', '20160921']\n",
      "['20160912', '20160920']\n"
     ]
    },
    {
     "name": "stderr",
     "output_type": "stream",
     "text": [
      "100%|██████████| 10/10 [00:00<00:00, 2704.78it/s]\n",
      "100%|██████████| 10/10 [00:00<00:00, 400.39it/s]\n",
      "100%|██████████| 10/10 [00:00<00:00, 345.39it/s]\n",
      "100%|██████████| 10/10 [00:00<00:00, 2583.49it/s]\n",
      "100%|██████████| 10/10 [00:00<00:00, 2402.51it/s]\n",
      "100%|██████████| 10/10 [00:00<00:00, 348.86it/s]\n"
     ]
    },
    {
     "name": "stdout",
     "output_type": "stream",
     "text": [
      "[0.7057613168724279, 343.0, 486]\n",
      "['20160922', '20160922']\n",
      "['20160913', '20160921']\n",
      "[0.648, 324.0, 500]\n",
      "['20160923', '20160923']\n",
      "['20160914', '20160922']\n",
      "[0.65, 325.0, 500]\n",
      "['20160924', '20160924']\n",
      "['20160915', '20160923']\n"
     ]
    },
    {
     "name": "stderr",
     "output_type": "stream",
     "text": [
      "100%|██████████| 10/10 [00:00<00:00, 2410.38it/s]\n",
      "100%|██████████| 10/10 [00:00<00:00, 297.91it/s]\n",
      "100%|██████████| 10/10 [00:00<00:00, 359.01it/s]\n",
      "100%|██████████| 10/10 [00:00<00:00, 2250.28it/s]\n",
      "100%|██████████| 10/10 [00:00<00:00, 2418.02it/s]\n",
      "  0%|          | 0/10 [00:00<?, ?it/s]"
     ]
    },
    {
     "name": "stdout",
     "output_type": "stream",
     "text": [
      "[0.6461232604373758, 325.0, 503]\n",
      "['20160925', '20160925']\n",
      "['20160916', '20160924']\n",
      "['20160926', '20160926']\n",
      "['20160917', '20160925']\n",
      "['20160927', '20160927']\n",
      "['20160918', '20160926']\n",
      "[0.6795918367346939, 333.0, 490]\n",
      "['20160928', '20160928']\n",
      "['20160919', '20160927']\n"
     ]
    },
    {
     "name": "stderr",
     "output_type": "stream",
     "text": [
      "100%|██████████| 10/10 [00:00<00:00, 294.72it/s]\n",
      "100%|██████████| 10/10 [00:00<00:00, 417.92it/s]\n",
      "100%|██████████| 10/10 [00:00<00:00, 2572.56it/s]\n",
      "100%|██████████| 10/10 [00:00<00:00, 2562.82it/s]\n",
      "100%|██████████| 10/10 [00:00<00:00, 357.02it/s]\n",
      "100%|██████████| 10/10 [00:00<00:00, 315.65it/s]\n",
      "100%|██████████| 10/10 [00:00<00:00, 2546.63it/s]\n",
      "100%|██████████| 10/10 [00:00<00:00, 2585.25it/s]\n"
     ]
    },
    {
     "name": "stdout",
     "output_type": "stream",
     "text": [
      "[0.6795918367346939, 333.0, 490]\n",
      "['20160929', '20160929']\n",
      "['20160920', '20160928']\n"
     ]
    },
    {
     "name": "stderr",
     "output_type": "stream",
     "text": [
      "100%|██████████| 10/10 [00:00<00:00, 311.24it/s]\n",
      "100%|██████████| 10/10 [00:00<00:00, 2385.97it/s]\n"
     ]
    },
    {
     "name": "stdout",
     "output_type": "stream",
     "text": [
      "[0.6505050505050505, 322.0, 495]\n",
      "['20160930', '20160930']\n",
      "['20160921', '20160929']\n",
      "[0.6626016260162602, 326.0, 492]\n",
      "['20161001', '20161001']\n",
      "['20160922', '20160930']\n",
      "[0.6356435643564357, 321.0, 505]\n",
      "['20161002', '20161002']\n",
      "['20160923', '20161001']\n"
     ]
    },
    {
     "name": "stderr",
     "output_type": "stream",
     "text": [
      "100%|██████████| 10/10 [00:00<00:00, 289.38it/s]\n",
      "100%|██████████| 10/10 [00:00<00:00, 2334.84it/s]\n",
      "100%|██████████| 10/10 [00:00<00:00, 149.95it/s]\n",
      "100%|██████████| 10/10 [00:00<00:00, 2493.49it/s]\n",
      "100%|██████████| 10/10 [00:00<00:00, 277.18it/s]\n",
      "100%|██████████| 10/10 [00:00<00:00, 2676.48it/s]\n",
      "100%|██████████| 10/10 [00:00<00:00, 386.67it/s]\n",
      "100%|██████████| 10/10 [00:00<00:00, 2645.75it/s]\n",
      "100%|██████████| 10/10 [00:00<00:00, 349.98it/s]\n",
      "100%|██████████| 10/10 [00:00<00:00, 2394.83it/s]\n",
      "100%|██████████| 10/10 [00:00<00:00, 265.21it/s]\n",
      "100%|██████████| 10/10 [00:00<00:00, 228.19it/s]\n",
      "100%|██████████| 10/10 [00:00<00:00, 2449.80it/s]\n",
      "100%|██████████| 10/10 [00:00<00:00, 2396.61it/s]\n"
     ]
    },
    {
     "name": "stdout",
     "output_type": "stream",
     "text": [
      "[0.6356435643564357, 321.0, 505]\n",
      "['20161003', '20161003']\n",
      "['20160924', '20161002']\n",
      "[0.638671875, 327.0, 512]\n",
      "['20161004', '20161004']\n",
      "['20160925', '20161003']\n",
      "['20161005', '20161005']\n",
      "['20160926', '20161004']\n",
      "['20161006', '20161006']\n",
      "['20160927', '20161005']\n",
      "[0.6626016260162602, 326.0, 492]\n",
      "['20161007', '20161007']\n",
      "['20160928', '20161006']\n",
      "[0.6706586826347305, 336.0, 501]\n",
      "['20161008', '20161008']\n",
      "['20160929', '20161007']\n",
      "[0.6706586826347305, 336.0, 501]\n",
      "['20161009', '20161009']\n",
      "['20160930', '20161008']\n",
      "[0.6361867704280155, 327.0, 514]\n",
      "['20161010', '20161010']\n",
      "['20161001', '20161009']\n",
      "['20161011', '20161011']\n",
      "['20161002', '20161010']\n"
     ]
    },
    {
     "name": "stderr",
     "output_type": "stream",
     "text": [
      "100%|██████████| 10/10 [00:00<00:00, 274.09it/s]\n",
      "100%|██████████| 10/10 [00:00<00:00, 2222.03it/s]\n",
      "100%|██████████| 10/10 [00:00<00:00, 255.81it/s]\n",
      "100%|██████████| 10/10 [00:00<00:00, 2234.94it/s]\n",
      "100%|██████████| 10/10 [00:00<00:00, 323.78it/s]\n",
      "100%|██████████| 10/10 [00:00<00:00, 2677.33it/s]\n",
      "100%|██████████| 10/10 [00:00<00:00, 314.91it/s]\n",
      "100%|██████████| 10/10 [00:00<00:00, 341.44it/s]\n",
      "100%|██████████| 10/10 [00:00<00:00, 2416.21it/s]\n",
      "100%|██████████| 10/10 [00:00<00:00, 2326.55it/s]\n",
      "100%|██████████| 10/10 [00:00<00:00, 332.71it/s]\n",
      "100%|██████████| 10/10 [00:00<00:00, 2314.74it/s]\n",
      "100%|██████████| 10/10 [00:00<00:00, 248.55it/s]\n",
      "100%|██████████| 10/10 [00:00<00:00, 2036.66it/s]\n",
      "100%|██████████| 10/10 [00:00<00:00, 365.13it/s]\n",
      "100%|██████████| 10/10 [00:00<00:00, 2511.86it/s]\n",
      "100%|██████████| 10/10 [00:00<00:00, 440.64it/s]\n",
      "100%|██████████| 10/10 [00:00<00:00, 2654.96it/s]\n",
      "100%|██████████| 10/10 [00:00<00:00, 544.96it/s]\n",
      "100%|██████████| 10/10 [00:00<00:00, 2509.46it/s]\n"
     ]
    },
    {
     "name": "stdout",
     "output_type": "stream",
     "text": [
      "[0.6007677543186181, 313.0, 521]\n",
      "['20161012', '20161012']\n",
      "['20161003', '20161011']\n",
      "['20161013', '20161013']\n",
      "['20161004', '20161012']\n",
      "['20161014', '20161014']\n",
      "['20161005', '20161013']\n",
      "['20161015', '20161015']\n",
      "['20161006', '20161014']\n",
      "[0.6374269005847953, 327.0, 513]\n",
      "['20161016', '20161016']\n",
      "['20161007', '20161015']\n",
      "[0.6274509803921569, 320.0, 510]\n",
      "['20161017', '20161017']\n",
      "['20161008', '20161016']\n",
      "['20161018', '20161018']\n",
      "['20161009', '20161017']\n"
     ]
    },
    {
     "name": "stderr",
     "output_type": "stream",
     "text": [
      "100%|██████████| 10/10 [00:00<00:00, 495.25it/s]\n",
      "100%|██████████| 10/10 [00:00<00:00, 427.43it/s]\n",
      "100%|██████████| 10/10 [00:00<00:00, 2504.51it/s]\n",
      "100%|██████████| 10/10 [00:00<00:00, 2724.64it/s]\n",
      "100%|██████████| 10/10 [00:00<00:00, 360.94it/s]\n",
      "100%|██████████| 10/10 [00:00<00:00, 2432.19it/s]\n",
      "100%|██████████| 10/10 [00:00<00:00, 392.93it/s]\n",
      "100%|██████████| 10/10 [00:00<00:00, 2581.11it/s]\n",
      "100%|██████████| 10/10 [00:00<00:00, 356.74it/s]\n",
      "100%|██████████| 10/10 [00:00<00:00, 2446.80it/s]\n"
     ]
    },
    {
     "name": "stdout",
     "output_type": "stream",
     "text": [
      "['20161019', '20161019']\n",
      "['20161010', '20161018']\n",
      "[0.6374269005847953, 327.0, 513]\n",
      "['20161020', '20161020']\n",
      "['20161011', '20161019']\n",
      "[0.6125954198473282, 321.0, 524]\n",
      "['20161021', '20161021']\n",
      "['20161012', '20161020']\n",
      "[0.6199616122840691, 323.0, 521]\n",
      "['20161022', '20161022']\n",
      "['20161013', '20161021']\n",
      "[0.6192307692307693, 322.0, 520]\n",
      "['20161023', '20161023']\n",
      "['20161014', '20161022']\n",
      "['20161024', '20161024']\n",
      "['20161015', '20161023']\n",
      "['20161025', '20161025']\n",
      "['20161016', '20161024']\n"
     ]
    },
    {
     "name": "stderr",
     "output_type": "stream",
     "text": [
      "100%|██████████| 10/10 [00:00<00:00, 351.35it/s]\n",
      "100%|██████████| 10/10 [00:00<00:00, 393.45it/s]\n",
      "100%|██████████| 10/10 [00:00<00:00, 2665.76it/s]\n",
      "100%|██████████| 10/10 [00:00<00:00, 2670.51it/s]\n",
      "100%|██████████| 10/10 [00:00<00:00, 395.68it/s]\n",
      "100%|██████████| 10/10 [00:00<00:00, 327.84it/s]\n",
      "100%|██████████| 10/10 [00:00<00:00, 2363.79it/s]\n",
      "100%|██████████| 10/10 [00:00<00:00, 2573.51it/s]\n"
     ]
    },
    {
     "name": "stdout",
     "output_type": "stream",
     "text": [
      "[0.6858846918489065, 345.0, 503]\n",
      "['20161026', '20161026']\n",
      "['20161017', '20161025']\n",
      "[0.6858846918489065, 345.0, 503]\n",
      "['20161027', '20161027']\n",
      "['20161018', '20161026']\n",
      "[0.6056603773584905, 321.0, 530]\n",
      "['20161028', '20161028']\n",
      "['20161019', '20161027']\n",
      "[0.6286266924564797, 325.0, 517]\n",
      "['20161029', '20161029']\n",
      "['20161020', '20161028']\n"
     ]
    },
    {
     "name": "stderr",
     "output_type": "stream",
     "text": [
      "100%|██████████| 10/10 [00:00<00:00, 279.44it/s]\n",
      "100%|██████████| 10/10 [00:00<00:00, 2242.22it/s]\n",
      "100%|██████████| 10/10 [00:00<00:00, 301.98it/s]\n",
      "100%|██████████| 10/10 [00:00<00:00, 2516.08it/s]\n",
      "100%|██████████| 10/10 [00:00<00:00, 308.52it/s]\n",
      "100%|██████████| 10/10 [00:00<00:00, 2394.28it/s]\n",
      "100%|██████████| 10/10 [00:00<00:00, 211.09it/s]\n",
      "100%|██████████| 10/10 [00:00<00:00, 2010.50it/s]\n",
      "100%|██████████| 10/10 [00:00<00:00, 323.08it/s]\n",
      "100%|██████████| 10/10 [00:00<00:00, 1597.46it/s]\n",
      "100%|██████████| 10/10 [00:00<00:00, 306.84it/s]\n"
     ]
    },
    {
     "name": "stdout",
     "output_type": "stream",
     "text": [
      "['20161030', '20161030']\n",
      "['20161021', '20161029']\n",
      "[0.6459143968871596, 332.0, 514]\n",
      "['20161031', '20161031']\n",
      "['20161022', '20161030']\n",
      "['20161101', '20161101']\n",
      "['20161023', '20161031']\n",
      "[0.7205882352941176, 343.0, 476]\n",
      "['20161102', '20161102']\n",
      "['20161024', '20161101']\n",
      "[0.611969111969112, 317.0, 518]\n",
      "['20161103', '20161103']\n",
      "['20161025', '20161102']\n",
      "['20161104', '20161104']\n",
      "['20161026', '20161103']\n",
      "[0.6761710794297352, 332.0, 491]\n",
      "['20161105', '20161105']\n",
      "['20161027', '20161104']\n"
     ]
    },
    {
     "name": "stderr",
     "output_type": "stream",
     "text": [
      "100%|██████████| 10/10 [00:00<00:00, 2441.96it/s]\n",
      "100%|██████████| 10/10 [00:00<00:00, 345.82it/s]\n",
      "100%|██████████| 10/10 [00:00<00:00, 2627.85it/s]\n",
      "100%|██████████| 10/10 [00:00<00:00, 326.44it/s]\n",
      "100%|██████████| 10/10 [00:00<00:00, 257.10it/s]\n",
      "100%|██████████| 10/10 [00:00<00:00, 2329.26it/s]\n",
      "100%|██████████| 10/10 [00:00<00:00, 261.98it/s]\n",
      "\n",
      "100%|██████████| 10/10 [00:00<00:00, 2117.91it/s]\n",
      "100%|██████████| 10/10 [00:00<00:00, 1793.05it/s]\n",
      "100%|██████████| 10/10 [00:00<00:00, 2094.95it/s]\n",
      "100%|██████████| 10/10 [00:00<00:00, 333.30it/s]\n",
      "100%|██████████| 10/10 [00:00<00:00, 237.05it/s]\n",
      "100%|██████████| 10/10 [00:00<00:00, 2520.16it/s]\n",
      "100%|██████████| 10/10 [00:00<00:00, 1334.11it/s]\n",
      "100%|██████████| 10/10 [00:00<00:00, 428.23it/s]\n"
     ]
    },
    {
     "name": "stdout",
     "output_type": "stream",
     "text": [
      "[0.6619718309859155, 329.0, 497]\n",
      "['20161106', '20161106']\n",
      "['20161028', '20161105']\n",
      "[0.6227897838899804, 317.0, 509]\n",
      "['20161107', '20161107']\n",
      "['20161029', '20161106']\n",
      "['20161108', '20161108']\n",
      "['20161030', '20161107']\n",
      "['20161109', '20161109']\n",
      "['20161031', '20161108']\n",
      "[0.7205882352941176, 343.0, 476]\n",
      "['20161110', '20161110']\n",
      "['20161101', '20161109']\n"
     ]
    },
    {
     "name": "stderr",
     "output_type": "stream",
     "text": [
      "100%|██████████| 10/10 [00:00<00:00, 2610.02it/s]\n",
      "100%|██████████| 10/10 [00:00<00:00, 329.77it/s]\n",
      "100%|██████████| 10/10 [00:00<00:00, 2618.98it/s]\n",
      "100%|██████████| 10/10 [00:00<00:00, 311.20it/s]\n",
      "100%|██████████| 10/10 [00:00<00:00, 2453.67it/s]\n",
      "  0%|          | 0/10 [00:00<?, ?it/s]"
     ]
    },
    {
     "name": "stdout",
     "output_type": "stream",
     "text": [
      "[0.630859375, 323.0, 512]\n",
      "['20161111', '20161111']\n",
      "['20161102', '20161110']\n"
     ]
    },
    {
     "name": "stderr",
     "output_type": "stream",
     "text": [
      "100%|██████████| 10/10 [00:00<00:00, 308.50it/s]\n",
      "100%|██████████| 10/10 [00:00<00:00, 2505.11it/s]\n"
     ]
    },
    {
     "name": "stdout",
     "output_type": "stream",
     "text": [
      "[0.6700404858299596, 331.0, 494]\n",
      "['20161112', '20161112']\n",
      "['20161103', '20161111']\n",
      "['20161113', '20161113']\n",
      "['20161104', '20161112']\n",
      "[0.607421875, 311.0, 512]\n",
      "['20161114', '20161114']\n",
      "['20161105', '20161113']\n"
     ]
    },
    {
     "name": "stderr",
     "output_type": "stream",
     "text": [
      "100%|██████████| 10/10 [00:00<00:00, 339.48it/s]\n",
      "100%|██████████| 10/10 [00:00<00:00, 2632.96it/s]\n",
      "100%|██████████| 10/10 [00:00<00:00, 313.79it/s]\n",
      "100%|██████████| 10/10 [00:00<00:00, 429.45it/s]\n",
      "100%|██████████| 10/10 [00:00<00:00, 2419.42it/s]\n",
      "100%|██████████| 10/10 [00:00<00:00, 3081.33it/s]\n",
      "  0%|          | 0/10 [00:00<?, ?it/s]"
     ]
    },
    {
     "name": "stdout",
     "output_type": "stream",
     "text": [
      "['20161115', '20161115']\n",
      "['20161106', '20161114']\n",
      "['20161116', '20161116']\n",
      "['20161107', '20161115']\n",
      "[0.607421875, 311.0, 512]\n",
      "['20161117', '20161117']\n",
      "['20161108', '20161116']\n",
      "[0.5758157389635317, 300.0, 521]\n",
      "['20161118', '20161118']\n",
      "['20161109', '20161117']\n",
      "[0.5640535372848948, 295.0, 523]\n",
      "['20161119', '20161119']\n",
      "['20161110', '20161118']\n"
     ]
    },
    {
     "name": "stderr",
     "output_type": "stream",
     "text": [
      "100%|██████████| 10/10 [00:00<00:00, 280.47it/s]\n",
      "100%|██████████| 10/10 [00:00<00:00, 327.66it/s]\n",
      "100%|██████████| 10/10 [00:00<00:00, 2178.86it/s]\n",
      "100%|██████████| 10/10 [00:00<00:00, 2721.63it/s]\n",
      "100%|██████████| 10/10 [00:00<00:00, 343.12it/s]\n",
      "100%|██████████| 10/10 [00:00<00:00, 2580.16it/s]\n",
      "100%|██████████| 10/10 [00:00<00:00, 370.50it/s]\n",
      "100%|██████████| 10/10 [00:00<00:00, 2852.49it/s]\n",
      "100%|██████████| 10/10 [00:00<00:00, 371.63it/s]\n",
      "100%|██████████| 10/10 [00:00<00:00, 2663.73it/s]\n"
     ]
    },
    {
     "name": "stdout",
     "output_type": "stream",
     "text": [
      "['20161120', '20161120']\n",
      "['20161111', '20161119']\n",
      "['20161121', '20161121']\n",
      "['20161112', '20161120']\n",
      "[0.5755258126195029, 301.0, 523]\n",
      "['20161122', '20161122']\n",
      "['20161113', '20161121']\n"
     ]
    },
    {
     "name": "stderr",
     "output_type": "stream",
     "text": [
      "100%|██████████| 10/10 [00:00<00:00, 455.74it/s]\n",
      "100%|██████████| 10/10 [00:00<00:00, 2668.64it/s]\n",
      "100%|██████████| 10/10 [00:00<00:00, 656.28it/s]\n",
      "100%|██████████| 10/10 [00:00<00:00, 3664.11it/s]\n",
      "100%|██████████| 10/10 [00:00<00:00, 417.41it/s]\n",
      "100%|██████████| 10/10 [00:00<00:00, 2396.61it/s]\n"
     ]
    },
    {
     "name": "stdout",
     "output_type": "stream",
     "text": [
      "[0.62426614481409, 319.0, 511]\n",
      "['20161123', '20161123']\n",
      "['20161114', '20161122']\n",
      "[0.6897233201581028, 349.0, 506]\n",
      "['20161124', '20161124']\n",
      "['20161115', '20161123']\n",
      "[0.6897233201581028, 349.0, 506]\n",
      "['20161125', '20161125']\n",
      "['20161116', '20161124']\n"
     ]
    },
    {
     "name": "stderr",
     "output_type": "stream",
     "text": [
      "100%|██████████| 10/10 [00:00<00:00, 347.90it/s]\n",
      "100%|██████████| 10/10 [00:00<00:00, 2579.52it/s]\n",
      "100%|██████████| 10/10 [00:00<00:00, 233.24it/s]\n",
      "100%|██████████| 10/10 [00:00<00:00, 297.77it/s]\n",
      "100%|██████████| 10/10 [00:00<00:00, 2128.22it/s]\n",
      "100%|██████████| 10/10 [00:00<00:00, 2365.92it/s]\n"
     ]
    },
    {
     "name": "stdout",
     "output_type": "stream",
     "text": [
      "[0.623046875, 319.0, 512]\n",
      "['20161126', '20161126']\n",
      "['20161117', '20161125']\n",
      "[0.6268656716417911, 336.0, 536]\n",
      "['20161127', '20161127']\n",
      "['20161118', '20161126']\n",
      "[0.62426614481409, 319.0, 511]\n",
      "['20161128', '20161128']\n",
      "['20161119', '20161127']\n",
      "[0.6356589147286822, 328.0, 516]\n",
      "['20161129', '20161129']\n",
      "['20161120', '20161128']\n",
      "['20161130', '20161130']\n",
      "['20161121', '20161129']\n",
      "['20161201', '20161201']\n",
      "['20161122', '20161130']\n"
     ]
    },
    {
     "name": "stderr",
     "output_type": "stream",
     "text": [
      "100%|██████████| 10/10 [00:00<00:00, 366.57it/s]\n",
      "100%|██████████| 10/10 [00:00<00:00, 216.06it/s]\n",
      "100%|██████████| 10/10 [00:00<00:00, 2106.84it/s]\n",
      "100%|██████████| 10/10 [00:00<00:00, 2127.25it/s]\n",
      "100%|██████████| 10/10 [00:00<00:00, 378.91it/s]\n",
      "100%|██████████| 10/10 [00:00<00:00, 2528.52it/s]\n",
      "100%|██████████| 10/10 [00:00<00:00, 260.40it/s]\n",
      "100%|██████████| 10/10 [00:00<00:00, 287.44it/s]\n",
      "100%|██████████| 10/10 [00:00<00:00, 218.96it/s]\n",
      "100%|██████████| 10/10 [00:00<00:00, 2338.09it/s]\n",
      "100%|██████████| 10/10 [00:00<00:00, 2108.86it/s]\n",
      "100%|██████████| 10/10 [00:00<00:00, 3083.37it/s]\n"
     ]
    },
    {
     "name": "stdout",
     "output_type": "stream",
     "text": [
      "[0.6198501872659176, 331.0, 534]\n",
      "['20161202', '20161202']\n",
      "['20161123', '20161201']\n",
      "[0.6602687140115163, 344.0, 521]\n",
      "['20161203', '20161203']\n",
      "['20161124', '20161202']\n",
      "['20161204', '20161204']\n",
      "['20161125', '20161203']\n"
     ]
    },
    {
     "name": "stderr",
     "output_type": "stream",
     "text": [
      "100%|██████████| 10/10 [00:00<00:00, 327.19it/s]\n",
      "100%|██████████| 10/10 [00:00<00:00, 153.24it/s]\n",
      "100%|██████████| 10/10 [00:00<00:00, 2323.59it/s]\n",
      "100%|██████████| 10/10 [00:00<00:00, 2957.48it/s]\n",
      "100%|██████████| 10/10 [00:00<00:00, 374.40it/s]\n",
      "100%|██████████| 10/10 [00:00<00:00, 2587.32it/s]\n"
     ]
    },
    {
     "name": "stdout",
     "output_type": "stream",
     "text": [
      "['20161205', '20161205']\n",
      "['20161126', '20161204']\n"
     ]
    },
    {
     "name": "stderr",
     "output_type": "stream",
     "text": [
      "100%|██████████| 10/10 [00:00<00:00, 357.34it/s]\n",
      "100%|██████████| 10/10 [00:00<00:00, 2708.27it/s]\n"
     ]
    },
    {
     "name": "stdout",
     "output_type": "stream",
     "text": [
      "[0.6774193548387096, 357.0, 527]\n",
      "['20161206', '20161206']\n",
      "['20161127', '20161205']\n",
      "[0.6774193548387096, 357.0, 527]\n",
      "['20161207', '20161207']\n",
      "['20161128', '20161206']\n",
      "[0.6711026615969582, 353.0, 526]\n",
      "['20161208', '20161208']\n",
      "['20161129', '20161207']\n"
     ]
    },
    {
     "name": "stderr",
     "output_type": "stream",
     "text": [
      "100%|██████████| 10/10 [00:00<00:00, 306.59it/s]\n",
      "100%|██████████| 10/10 [00:00<00:00, 3351.96it/s]\n",
      "100%|██████████| 10/10 [00:00<00:00, 316.52it/s]\n",
      "100%|██████████| 10/10 [00:00<00:00, 2458.99it/s]\n",
      "100%|██████████| 10/10 [00:00<00:00, 318.65it/s]\n",
      "100%|██████████| 10/10 [00:00<00:00, 2047.30it/s]\n"
     ]
    },
    {
     "name": "stdout",
     "output_type": "stream",
     "text": [
      "[0.6959847036328872, 364.0, 523]\n",
      "['20161209', '20161209']\n",
      "['20161130', '20161208']\n",
      "[0.7121212121212122, 376.0, 528]\n",
      "['20161210', '20161210']\n",
      "['20161201', '20161209']\n",
      "['20161211', '20161211']\n",
      "['20161202', '20161210']\n"
     ]
    },
    {
     "name": "stderr",
     "output_type": "stream",
     "text": [
      "100%|██████████| 10/10 [00:00<00:00, 350.70it/s]\n",
      "100%|██████████| 10/10 [00:00<00:00, 2834.18it/s]\n",
      "100%|██████████| 10/10 [00:00<00:00, 307.74it/s]\n",
      "100%|██████████| 10/10 [00:00<00:00, 2490.83it/s]\n",
      "100%|██████████| 10/10 [00:00<00:00, 337.44it/s]\n",
      "100%|██████████| 10/10 [00:00<00:00, 2404.16it/s]\n",
      "100%|██████████| 10/10 [00:00<00:00, 526.68it/s]\n",
      "100%|██████████| 10/10 [00:00<00:00, 3189.34it/s]\n",
      "100%|██████████| 10/10 [00:00<00:00, 321.32it/s]\n",
      "100%|██████████| 10/10 [00:00<00:00, 2589.24it/s]\n"
     ]
    },
    {
     "name": "stdout",
     "output_type": "stream",
     "text": [
      "['20161212', '20161212']\n",
      "['20161203', '20161211']\n",
      "[0.7121212121212122, 376.0, 528]\n",
      "['20161213', '20161213']\n",
      "['20161204', '20161212']\n",
      "[0.6833333333333333, 369.0, 540]\n",
      "['20161214', '20161214']\n",
      "['20161205', '20161213']\n",
      "[0.6140035906642729, 342.0, 557]\n",
      "['20161215', '20161215']\n",
      "['20161206', '20161214']\n"
     ]
    },
    {
     "name": "stderr",
     "output_type": "stream",
     "text": [
      "100%|██████████| 10/10 [00:00<00:00, 315.55it/s]\n",
      "100%|██████████| 10/10 [00:00<00:00, 3105.28it/s]\n",
      "100%|██████████| 10/10 [00:00<00:00, 325.44it/s]\n",
      "100%|██████████| 10/10 [00:00<00:00, 2313.08it/s]\n"
     ]
    },
    {
     "name": "stdout",
     "output_type": "stream",
     "text": [
      "[0.6156648451730419, 338.0, 549]\n",
      "['20161216', '20161216']\n",
      "['20161207', '20161215']\n",
      "[0.6588021778584392, 363.0, 551]\n",
      "['20161217', '20161217']\n",
      "['20161208', '20161216']\n",
      "[0.6453382084095064, 353.0, 547]\n",
      "['20161218', '20161218']\n",
      "['20161209', '20161217']\n",
      "[0.6612021857923497, 363.0, 549]\n",
      "['20161219', '20161219']\n",
      "['20161210', '20161218']\n",
      "['20161220', '20161220']\n",
      "['20161211', '20161219']\n",
      "['20161221', '20161221']\n",
      "['20161212', '20161220']\n",
      "[0.6156648451730419, 338.0, 549]\n",
      "['20161222', '20161222']\n",
      "['20161213', '20161221']\n"
     ]
    },
    {
     "name": "stderr",
     "output_type": "stream",
     "text": [
      "100%|██████████| 10/10 [00:00<00:00, 269.88it/s]\n",
      "100%|██████████| 10/10 [00:00<00:00, 373.27it/s]\n",
      "100%|██████████| 10/10 [00:00<00:00, 291.56it/s]\n",
      "100%|██████████| 10/10 [00:00<00:00, 2412.04it/s]\n",
      "100%|██████████| 10/10 [00:00<00:00, 2383.94it/s]\n",
      "100%|██████████| 10/10 [00:00<00:00, 2415.24it/s]\n",
      "100%|██████████| 10/10 [00:00<00:00, 387.17it/s]\n",
      "100%|██████████| 10/10 [00:00<00:00, 2378.26it/s]\n",
      "100%|██████████| 10/10 [00:00<00:00, 350.07it/s]\n",
      "100%|██████████| 10/10 [00:00<00:00, 293.41it/s]]\n",
      "\n",
      "100%|██████████| 10/10 [00:00<00:00, 2365.52it/s]\n",
      "100%|██████████| 10/10 [00:00<00:00, 305.23it/s]\n",
      "100%|██████████| 10/10 [00:00<00:00, 2464.19it/s]\n",
      "100%|██████████| 10/10 [00:00<00:00, 302.06it/s]\n",
      "100%|██████████| 10/10 [00:00<00:00, 219.73it/s]\n",
      "100%|██████████| 10/10 [00:00<00:00, 2227.46it/s]\n",
      "100%|██████████| 10/10 [00:00<00:00, 2163.24it/s]\n",
      "100%|██████████| 10/10 [00:00<00:00, 387.27it/s]\n",
      "100%|██████████| 10/10 [00:00<00:00, 2196.78it/s]\n",
      "100%|██████████| 10/10 [00:00<00:00, 351.04it/s]\n",
      "100%|██████████| 10/10 [00:00<00:00, 2539.69it/s]\n"
     ]
    },
    {
     "name": "stdout",
     "output_type": "stream",
     "text": [
      "[0.6014362657091562, 335.0, 557]\n",
      "['20161223', '20161223']\n",
      "['20161214', '20161222']\n",
      "[0.618018018018018, 343.0, 555]\n",
      "['20161224', '20161224']\n",
      "['20161215', '20161223']\n",
      "[0.6453382084095064, 353.0, 547]\n",
      "['20161225', '20161225']\n",
      "['20161216', '20161224']\n",
      "['20161226', '20161226']\n",
      "['20161217', '20161225']\n",
      "['20161227', '20161227']\n",
      "['20161218', '20161226']\n"
     ]
    },
    {
     "name": "stderr",
     "output_type": "stream",
     "text": [
      "100%|██████████| 10/10 [00:00<00:00, 326.34it/s]\n",
      "100%|██████████| 10/10 [00:00<00:00, 2184.53it/s]\n",
      "100%|██████████| 10/10 [00:00<00:00, 261.52it/s]\n",
      "100%|██████████| 10/10 [00:00<00:00, 1638.14it/s]\n",
      "100%|██████████| 10/10 [00:00<00:00, 362.67it/s]\n",
      "100%|██████████| 10/10 [00:00<00:00, 2302.03it/s]\n"
     ]
    },
    {
     "name": "stdout",
     "output_type": "stream",
     "text": [
      "[0.5885509838998211, 329.0, 559]\n",
      "['20161228', '20161228']\n",
      "['20161219', '20161227']\n",
      "[0.5845323741007195, 325.0, 556]\n",
      "['20161229', '20161229']\n",
      "['20161220', '20161228']\n",
      "[0.6227106227106227, 340.0, 546]\n",
      "['20161230', '20161230']\n",
      "['20161221', '20161229']\n",
      "[0.5793226381461676, 325.0, 561]\n",
      "['20161231', '20161231']\n",
      "['20161222', '20161230']\n"
     ]
    },
    {
     "name": "stderr",
     "output_type": "stream",
     "text": [
      "100%|██████████| 10/10 [00:00<00:00, 230.32it/s]\n",
      "100%|██████████| 10/10 [00:00<00:00, 2027.90it/s]\n",
      "100%|██████████| 10/10 [00:00<00:00, 74.22it/s]\n",
      "100%|██████████| 10/10 [00:00<00:00, 2129.74it/s]\n"
     ]
    },
    {
     "name": "stdout",
     "output_type": "stream",
     "text": [
      "[0.6227106227106227, 340.0, 546]\n",
      "['20170101', '20170101']\n",
      "['20161223', '20161231']\n",
      "['20170102', '20170102']\n",
      "['20161224', '20170101']\n",
      "['20170103', '20170103']\n",
      "['20161225', '20170102']\n"
     ]
    },
    {
     "name": "stderr",
     "output_type": "stream",
     "text": [
      "100%|██████████| 10/10 [00:00<00:00, 340.27it/s]\n",
      "100%|██████████| 10/10 [00:00<00:00, 340.88it/s]\n",
      "100%|██████████| 10/10 [00:00<00:00, 2545.55it/s]\n",
      "100%|██████████| 10/10 [00:00<00:00, 831.00it/s]\n",
      "100%|██████████| 10/10 [00:00<00:00, 357.90it/s]\n",
      "100%|██████████| 10/10 [00:00<00:00, 2370.47it/s]\n"
     ]
    },
    {
     "name": "stdout",
     "output_type": "stream",
     "text": [
      "[0.6039783001808319, 334.0, 553]\n",
      "['20170104', '20170104']\n",
      "['20161226', '20170103']\n",
      "[0.6598890942698706, 357.0, 541]\n",
      "['20170105', '20170105']\n",
      "['20161227', '20170104']\n",
      "[0.5971223021582733, 332.0, 556]\n",
      "['20170106', '20170106']\n",
      "['20161228', '20170105']\n"
     ]
    },
    {
     "name": "stderr",
     "output_type": "stream",
     "text": [
      "100%|██████████| 10/10 [00:00<00:00, 301.67it/s]\n",
      "100%|██████████| 10/10 [00:00<00:00, 261.11it/s]\n",
      "100%|██████████| 10/10 [00:00<00:00, 2484.48it/s]\n",
      "100%|██████████| 10/10 [00:00<00:00, 3231.61it/s]\n",
      "100%|██████████| 10/10 [00:00<00:00, 277.25it/s]\n",
      "100%|██████████| 10/10 [00:00<00:00, 2444.66it/s]\n"
     ]
    },
    {
     "name": "stdout",
     "output_type": "stream",
     "text": [
      "[0.6148282097649186, 340.0, 553]\n",
      "['20170107', '20170107']\n",
      "['20161229', '20170106']\n",
      "[0.6397058823529411, 348.0, 544]\n",
      "['20170108', '20170108']\n",
      "['20161230', '20170107']\n",
      "['20170109', '20170109']\n",
      "['20161231', '20170108']\n",
      "['20170110', '20170110']\n",
      "['20170101', '20170109']\n",
      "[0.6272401433691757, 350.0, 558]\n",
      "['20170111', '20170111']\n",
      "['20170102', '20170110']\n"
     ]
    },
    {
     "name": "stderr",
     "output_type": "stream",
     "text": [
      "100%|██████████| 10/10 [00:00<00:00, 343.58it/s]\n",
      "100%|██████████| 10/10 [00:00<00:00, 2460.44it/s]\n",
      "100%|██████████| 10/10 [00:00<00:00, 430.05it/s]\n",
      "100%|██████████| 10/10 [00:00<00:00, 2296.36it/s]\n",
      "100%|██████████| 10/10 [00:00<00:00, 359.33it/s]\n",
      "100%|██████████| 10/10 [00:00<00:00, 2401.14it/s]\n",
      "100%|██████████| 10/10 [00:00<00:00, 343.04it/s]\n",
      "100%|██████████| 10/10 [00:00<00:00, 2412.04it/s]\n",
      "100%|██████████| 10/10 [00:00<00:00, 297.82it/s]\n",
      "100%|██████████| 10/10 [00:00<00:00, 2329.52it/s]\n",
      "100%|██████████| 10/10 [00:00<00:00, 294.52it/s]\n",
      "100%|██████████| 10/10 [00:00<00:00, 2473.93it/s]\n"
     ]
    },
    {
     "name": "stdout",
     "output_type": "stream",
     "text": [
      "[0.6598890942698706, 357.0, 541]\n",
      "['20170112', '20170112']\n",
      "['20170103', '20170111']\n",
      "[0.6397058823529411, 348.0, 544]\n",
      "['20170113', '20170113']\n",
      "['20170104', '20170112']\n"
     ]
    },
    {
     "name": "stderr",
     "output_type": "stream",
     "text": [
      "100%|██████████| 10/10 [00:00<00:00, 270.48it/s]\n",
      "100%|██████████| 10/10 [00:00<00:00, 2445.80it/s]\n"
     ]
    },
    {
     "name": "stdout",
     "output_type": "stream",
     "text": [
      "[0.6297640653357531, 347.0, 551]\n",
      "['20170114', '20170114']\n",
      "['20170105', '20170113']\n",
      "[0.6274864376130199, 347.0, 553]\n",
      "['20170115', '20170115']\n",
      "['20170106', '20170114']\n",
      "[0.6347197106690777, 351.0, 553]\n",
      "['20170116', '20170116']\n",
      "['20170107', '20170115']\n",
      "['20170117', '20170117']\n",
      "['20170108', '20170116']\n",
      "['20170118', '20170118']\n",
      "['20170109', '20170117']\n",
      "[0.6319569120287253, 352.0, 557]\n",
      "['20170119', '20170119']\n",
      "['20170110', '20170118']\n"
     ]
    },
    {
     "name": "stderr",
     "output_type": "stream",
     "text": [
      "100%|██████████| 10/10 [00:00<00:00, 303.87it/s]\n",
      "100%|██████████| 10/10 [00:00<00:00, 2300.64it/s]\n",
      "100%|██████████| 10/10 [00:00<00:00, 383.53it/s]\n",
      "100%|██████████| 10/10 [00:00<00:00, 369.01it/s]\n",
      "100%|██████████| 10/10 [00:00<00:00, 2272.47it/s]\n",
      "100%|██████████| 10/10 [00:00<00:00, 2331.46it/s]\n",
      "100%|██████████| 10/10 [00:00<00:00, 325.63it/s]\n",
      "100%|██████████| 10/10 [00:00<00:00, 299.62it/s]\n",
      "100%|██████████| 10/10 [00:00<00:00, 2511.71it/s]\n",
      "100%|██████████| 10/10 [00:00<00:00, 2297.24it/s]\n",
      "100%|██████████| 10/10 [00:00<00:00, 296.17it/s]\n",
      "100%|██████████| 10/10 [00:00<00:00, 2422.77it/s]\n",
      "100%|██████████| 10/10 [00:00<00:00, 256.74it/s]\n",
      "100%|██████████| 10/10 [00:00<00:00, 2120.26it/s]\n",
      "100%|██████████| 10/10 [00:00<00:00, 340.28it/s]\n",
      "100%|██████████| 10/10 [00:00<00:00, 2281.12it/s]\n"
     ]
    },
    {
     "name": "stdout",
     "output_type": "stream",
     "text": [
      "[0.6539162112932605, 359.0, 549]\n",
      "['20170120', '20170120']\n",
      "['20170111', '20170119']\n",
      "[0.6211849192100538, 346.0, 557]\n",
      "['20170121', '20170121']\n",
      "['20170112', '20170120']\n",
      "['20170122', '20170122']\n",
      "['20170113', '20170121']\n",
      "['20170123', '20170123']\n",
      "['20170114', '20170122']\n",
      "[0.6539162112932605, 359.0, 549]\n",
      "['20170124', '20170124']\n",
      "['20170115', '20170123']\n",
      "[0.5890652557319224, 334.0, 567]\n",
      "['20170125', '20170125']\n",
      "['20170116', '20170124']\n",
      "[0.6109154929577465, 347.0, 568]\n",
      "['20170126', '20170126']\n",
      "['20170117', '20170125']\n"
     ]
    },
    {
     "name": "stderr",
     "output_type": "stream",
     "text": [
      "100%|██████████| 10/10 [00:00<00:00, 488.41it/s]\n",
      "100%|██████████| 10/10 [00:00<00:00, 3324.59it/s]\n",
      "100%|██████████| 10/10 [00:00<00:00, 425.64it/s]\n",
      "100%|██████████| 10/10 [00:00<00:00, 3411.95it/s]\n",
      "100%|██████████| 10/10 [00:00<00:00, 337.72it/s]\n",
      "100%|██████████| 10/10 [00:00<00:00, 2409.97it/s]\n",
      "100%|██████████| 10/10 [00:00<00:00, 303.10it/s]\n",
      "100%|██████████| 10/10 [00:00<00:00, 2408.03it/s]\n",
      "100%|██████████| 10/10 [00:00<00:00, 340.88it/s]\n",
      "100%|██████████| 10/10 [00:00<00:00, 2493.64it/s]\n",
      "100%|██████████| 10/10 [00:00<00:00, 316.07it/s]\n",
      "100%|██████████| 10/10 [00:00<00:00, 2478.76it/s]\n",
      "100%|██████████| 10/10 [00:00<00:00, 498.97it/s]\n",
      "100%|██████████| 10/10 [00:00<00:00, 3049.07it/s]\n",
      "100%|██████████| 10/10 [00:00<00:00, 503.62it/s]\n",
      "100%|██████████| 10/10 [00:00<00:00, 3491.76it/s]\n"
     ]
    },
    {
     "name": "stdout",
     "output_type": "stream",
     "text": [
      "[0.6007067137809188, 340.0, 566]\n",
      "['20170127', '20170127']\n",
      "['20170118', '20170126']\n",
      "['20170128', '20170128']\n",
      "['20170119', '20170127']\n",
      "['20170129', '20170129']\n",
      "['20170120', '20170128']\n",
      "['20170130', '20170130']\n",
      "['20170121', '20170129']\n",
      "[0.5897887323943662, 335.0, 568]\n",
      "['20170131', '20170131']\n",
      "['20170122', '20170130']\n",
      "[0.5691768826619965, 325.0, 571]\n",
      "['20170201', '20170201']\n",
      "['20170123', '20170131']\n"
     ]
    },
    {
     "name": "stderr",
     "output_type": "stream",
     "text": [
      "100%|██████████| 10/10 [00:00<00:00, 437.67it/s]\n",
      "100%|██████████| 10/10 [00:00<00:00, 2544.32it/s]\n",
      "100%|██████████| 10/10 [00:00<00:00, 393.16it/s]\n",
      "100%|██████████| 10/10 [00:00<00:00, 2322.04it/s]\n",
      "100%|██████████| 10/10 [00:00<00:00, 347.93it/s]\n",
      "100%|██████████| 10/10 [00:00<00:00, 2398.25it/s]\n"
     ]
    },
    {
     "name": "stdout",
     "output_type": "stream",
     "text": [
      "[0.5719298245614035, 326.0, 570]\n",
      "['20170202', '20170202']\n",
      "['20170124', '20170201']\n",
      "[0.6270566727605119, 343.0, 547]\n",
      "['20170203', '20170203']\n",
      "['20170125', '20170202']\n",
      "[0.610909090909091, 336.0, 550]\n",
      "['20170204', '20170204']\n",
      "['20170126', '20170203']\n",
      "[0.6270566727605119, 343.0, 547]\n",
      "['20170205', '20170205']\n",
      "['20170127', '20170204']\n",
      "[0.610909090909091, 336.0, 550]\n",
      "['20170206', '20170206']\n",
      "['20170128', '20170205']\n"
     ]
    },
    {
     "name": "stderr",
     "output_type": "stream",
     "text": [
      "100%|██████████| 10/10 [00:00<00:00, 331.01it/s]\n",
      "100%|██████████| 10/10 [00:00<00:00, 2497.95it/s]\n",
      "100%|██████████| 10/10 [00:00<00:00, 335.49it/s]\n",
      "100%|██████████| 10/10 [00:00<00:00, 2118.12it/s]\n",
      "100%|██████████| 10/10 [00:00<00:00, 383.95it/s]\n",
      "100%|██████████| 10/10 [00:00<00:00, 380.17it/s]\n",
      "100%|██████████| 10/10 [00:00<00:00, 2477.73it/s]\n",
      "100%|██████████| 10/10 [00:00<00:00, 2489.05it/s]\n",
      "100%|██████████| 10/10 [00:00<00:00, 390.15it/s]\n",
      "100%|██████████| 10/10 [00:00<00:00, 2313.97it/s]\n",
      "100%|██████████| 10/10 [00:00<00:00, 318.64it/s]\n",
      "100%|██████████| 10/10 [00:00<00:00, 280.53it/s]\n",
      "100%|██████████| 10/10 [00:00<00:00, 2368.06it/s]\n",
      "100%|██████████| 10/10 [00:00<00:00, 2174.79it/s]\n",
      "100%|██████████| 10/10 [00:00<00:00, 282.85it/s]\n",
      "100%|██████████| 10/10 [00:00<00:00, 2441.67it/s]\n",
      "100%|██████████| 10/10 [00:00<00:00, 297.59it/s]\n",
      "100%|██████████| 10/10 [00:00<00:00, 2076.59it/s]\n"
     ]
    },
    {
     "name": "stdout",
     "output_type": "stream",
     "text": [
      "['20170207', '20170207']\n",
      "['20170129', '20170206']\n",
      "['20170208', '20170208']\n",
      "['20170130', '20170207']\n",
      "[0.5875, 329.0, 560]\n",
      "['20170209', '20170209']\n",
      "['20170131', '20170208']\n",
      "[0.5864527629233511, 329.0, 561]\n",
      "['20170210', '20170210']\n",
      "['20170201', '20170209']\n",
      "[0.5914742451154529, 332.99999999999994, 563]\n",
      "['20170211', '20170211']\n",
      "['20170202', '20170210']\n",
      "['20170212', '20170212']\n",
      "['20170203', '20170211']\n",
      "[0.5911504424778761, 334.0, 565]\n",
      "['20170213', '20170213']\n",
      "['20170204', '20170212']\n",
      "[0.6314814814814815, 341.0, 540]\n",
      "['20170214', '20170214']\n",
      "['20170205', '20170213']\n",
      "['20170216', '20170216']\n",
      "['20170207', '20170215']\n",
      "[0.5911504424778761, 334.0, 565]\n",
      "['20170215', '20170215']\n",
      "['20170206', '20170214']\n"
     ]
    },
    {
     "name": "stderr",
     "output_type": "stream",
     "text": [
      "100%|██████████| 10/10 [00:00<00:00, 310.54it/s]\n",
      "100%|██████████| 10/10 [00:00<00:00, 2217.68it/s]\n",
      "100%|██████████| 10/10 [00:00<00:00, 335.64it/s]\n",
      "100%|██████████| 10/10 [00:00<00:00, 2563.91it/s]\n",
      "100%|██████████| 10/10 [00:00<00:00, 351.66it/s]\n",
      "100%|██████████| 10/10 [00:00<00:00, 2542.93it/s]\n",
      "100%|██████████| 10/10 [00:00<00:00, 295.82it/s]\n",
      "100%|██████████| 10/10 [00:00<00:00, 299.98it/s]\n",
      "100%|██████████| 10/10 [00:00<00:00, 295.24it/s]\n",
      "100%|██████████| 10/10 [00:00<00:00, 960.85it/s]\n",
      "100%|██████████| 10/10 [00:00<00:00, 2318.45it/s]\n",
      "100%|██████████| 10/10 [00:00<00:00, 2394.42it/s]\n",
      "100%|██████████| 10/10 [00:00<00:00, 317.02it/s]\n",
      "100%|██████████| 10/10 [00:00<00:00, 2180.56it/s]\n",
      "100%|██████████| 10/10 [00:00<00:00, 337.32it/s]\n",
      "100%|██████████| 10/10 [00:00<00:00, 2314.61it/s]\n",
      "100%|██████████| 10/10 [00:00<00:00, 390.93it/s]\n"
     ]
    },
    {
     "name": "stdout",
     "output_type": "stream",
     "text": [
      "[0.573170731707317, 329.0, 574]\n",
      "['20170217', '20170217']\n",
      "['20170208', '20170216']\n",
      "[0.5629370629370629, 322.0, 572]\n",
      "['20170218', '20170218']\n",
      "['20170209', '20170217']\n",
      "[0.6314814814814815, 341.0, 540]\n",
      "['20170219', '20170219']\n",
      "['20170210', '20170218']\n",
      "['20170220', '20170220']\n",
      "['20170211', '20170219']\n",
      "['20170221', '20170221']\n",
      "['20170212', '20170220']\n"
     ]
    },
    {
     "name": "stderr",
     "output_type": "stream",
     "text": [
      "100%|██████████| 10/10 [00:00<00:00, 2412.74it/s]\n",
      "100%|██████████| 10/10 [00:00<00:00, 397.75it/s]\n",
      "100%|██████████| 10/10 [00:00<00:00, 2388.83it/s]\n",
      "100%|██████████| 10/10 [00:00<00:00, 351.89it/s]\n",
      "100%|██████████| 10/10 [00:00<00:00, 2228.29it/s]\n",
      "100%|██████████| 10/10 [00:00<00:00, 278.78it/s]\n",
      "100%|██████████| 10/10 [00:00<00:00, 2431.62it/s]\n"
     ]
    },
    {
     "name": "stdout",
     "output_type": "stream",
     "text": [
      "[0.6050269299820467, 337.0, 557]\n",
      "['20170222', '20170222']\n",
      "['20170213', '20170221']\n",
      "[0.599647266313933, 340.0, 567]\n",
      "['20170223', '20170223']\n",
      "['20170214', '20170222']\n",
      "[0.6358695652173914, 351.0, 552]\n",
      "['20170224', '20170224']\n",
      "['20170215', '20170223']\n",
      "[0.5510204081632653, 323.99999999999994, 588]\n",
      "['20170225', '20170225']\n",
      "['20170216', '20170224']\n",
      "[0.599647266313933, 340.0, 567]\n",
      "['20170226', '20170226']\n",
      "['20170217', '20170225']\n",
      "['20170227', '20170227']\n",
      "['20170218', '20170226']\n",
      "[0.648014440433213, 359.0, 554]\n",
      "['20170228', '20170228']\n",
      "['20170219', '20170227']\n",
      "['20170301', '20170301']\n",
      "['20170220', '20170228']\n"
     ]
    },
    {
     "name": "stderr",
     "output_type": "stream",
     "text": [
      "100%|██████████| 10/10 [00:00<00:00, 315.77it/s]\n",
      "100%|██████████| 10/10 [00:00<00:00, 2246.31it/s]\n",
      "100%|██████████| 10/10 [00:00<00:00, 351.23it/s]\n",
      "100%|██████████| 10/10 [00:00<00:00, 2329.13it/s]\n",
      "100%|██████████| 10/10 [00:00<00:00, 466.12it/s]\n",
      "100%|██████████| 10/10 [00:00<00:00, 307.19it/s]\n",
      "100%|██████████| 10/10 [00:00<00:00, 2499.88it/s]\n",
      "100%|██████████| 10/10 [00:00<00:00, 2391.42it/s]\n",
      "100%|██████████| 10/10 [00:00<00:00, 445.51it/s]\n",
      "100%|██████████| 10/10 [00:00<00:00, 2630.15it/s]\n",
      "100%|██████████| 10/10 [00:00<00:00, 386.75it/s]\n",
      "100%|██████████| 10/10 [00:00<00:00, 336.39it/s]\n",
      "100%|██████████| 10/10 [00:00<00:00, 2365.92it/s]\n",
      "100%|██████████| 10/10 [00:00<00:00, 2368.46it/s]\n",
      "100%|██████████| 10/10 [00:00<00:00, 327.63it/s]\n",
      "100%|██████████| 10/10 [00:00<00:00, 2170.07it/s]\n",
      "  0%|          | 0/10 [00:00<?, ?it/s]"
     ]
    },
    {
     "name": "stdout",
     "output_type": "stream",
     "text": [
      "['20170302', '20170302']\n",
      "['20170221', '20170301']\n",
      "[0.558974358974359, 327.0, 585]\n",
      "['20170303', '20170303']\n",
      "['20170222', '20170302']\n"
     ]
    },
    {
     "name": "stderr",
     "output_type": "stream",
     "text": [
      "  0%|          | 0/10 [00:00<?, ?it/s]44.57it/s]\n",
      "100%|██████████| 10/10 [00:00<00:00, 2262.18it/s]\n",
      "100%|██████████| 10/10 [00:00<00:00, 341.71it/s]\n",
      "100%|██████████| 10/10 [00:00<00:00, 2423.89it/s]\n",
      "100%|██████████| 10/10 [00:00<00:00, 444.58it/s]\n",
      "100%|██████████| 10/10 [00:00<00:00, 2494.83it/s]\n",
      "100%|██████████| 10/10 [00:00<00:00, 397.67it/s]\n"
     ]
    },
    {
     "name": "stdout",
     "output_type": "stream",
     "text": [
      "[0.5489864864864865, 325.0, 592]\n",
      "['20170304', '20170304']\n",
      "['20170223', '20170303']\n",
      "['20170305', '20170305']\n",
      "['20170224', '20170304']\n",
      "['20170306', '20170306']\n",
      "['20170225', '20170305']\n"
     ]
    },
    {
     "name": "stderr",
     "output_type": "stream",
     "text": [
      "100%|██████████| 10/10 [00:00<00:00, 2363.52it/s]\n",
      "100%|██████████| 10/10 [00:00<00:00, 422.84it/s]\n",
      "100%|██████████| 10/10 [00:00<00:00, 3217.48it/s]\n"
     ]
    },
    {
     "name": "stdout",
     "output_type": "stream",
     "text": [
      "[0.5580204778156996, 327.0, 586]\n",
      "['20170307', '20170307']\n",
      "['20170226', '20170306']\n",
      "[0.5527210884353742, 325.0, 588]\n",
      "['20170308', '20170308']\n",
      "['20170227', '20170307']\n",
      "[0.5824561403508772, 332.0, 570]\n",
      "['20170309', '20170309']\n",
      "['20170228', '20170308']\n",
      "[0.5824561403508772, 332.0, 570]\n",
      "['20170310', '20170310']\n",
      "['20170301', '20170309']\n"
     ]
    },
    {
     "name": "stderr",
     "output_type": "stream",
     "text": [
      "100%|██████████| 10/10 [00:00<00:00, 300.33it/s]\n",
      "100%|██████████| 10/10 [00:00<00:00, 2242.94it/s]\n",
      "100%|██████████| 10/10 [00:00<00:00, 311.06it/s]\n",
      "100%|██████████| 10/10 [00:00<00:00, 311.29it/s]\n",
      "100%|██████████| 10/10 [00:00<00:00, 2394.42it/s]\n",
      "100%|██████████| 10/10 [00:00<00:00, 2481.40it/s]\n"
     ]
    },
    {
     "name": "stdout",
     "output_type": "stream",
     "text": [
      "[0.5692307692307692, 333.0, 585]\n",
      "['20170311', '20170311']\n",
      "['20170302', '20170310']\n",
      "[0.632688927943761, 360.0, 569]\n",
      "['20170312', '20170312']\n",
      "['20170303', '20170311']\n",
      "['20170313', '20170313']\n",
      "['20170304', '20170312']\n",
      "['20170314', '20170314']\n",
      "['20170305', '20170313']\n",
      "['20170315', '20170315']\n",
      "['20170306', '20170314']\n"
     ]
    },
    {
     "name": "stderr",
     "output_type": "stream",
     "text": [
      "100%|██████████| 10/10 [00:00<00:00, 344.47it/s]\n",
      "100%|██████████| 10/10 [00:00<00:00, 2462.46it/s]\n",
      "100%|██████████| 10/10 [00:00<00:00, 394.20it/s]\n",
      "100%|██████████| 10/10 [00:00<00:00, 2593.08it/s]\n",
      "100%|██████████| 10/10 [00:00<00:00, 454.25it/s]\n",
      "100%|██████████| 10/10 [00:00<00:00, 2614.25it/s]\n",
      "100%|██████████| 10/10 [00:00<00:00, 394.45it/s]\n",
      "100%|██████████| 10/10 [00:00<00:00, 2578.25it/s]\n",
      "100%|██████████| 10/10 [00:00<00:00, 342.07it/s]\n",
      "100%|██████████| 10/10 [00:00<00:00, 2439.83it/s]\n",
      "100%|██████████| 10/10 [00:00<00:00, 399.63it/s]\n"
     ]
    },
    {
     "name": "stdout",
     "output_type": "stream",
     "text": [
      "[0.5948717948717949, 348.0, 585]\n",
      "['20170316', '20170316']\n",
      "['20170307', '20170315']\n",
      "[0.632688927943761, 360.0, 569]\n",
      "['20170317', '20170317']\n",
      "['20170308', '20170316']\n",
      "[0.5793918918918919, 343.0, 592]\n",
      "['20170318', '20170318']\n",
      "['20170309', '20170317']\n",
      "[0.6341030195381883, 357.0, 563]\n",
      "['20170319', '20170319']\n",
      "['20170310', '20170318']\n"
     ]
    },
    {
     "name": "stderr",
     "output_type": "stream",
     "text": [
      "100%|██████████| 10/10 [00:00<00:00, 2520.92it/s]\n",
      "100%|██████████| 10/10 [00:00<00:00, 315.20it/s]\n",
      "100%|██████████| 10/10 [00:00<00:00, 2242.22it/s]\n",
      "100%|██████████| 10/10 [00:00<00:00, 402.47it/s]\n",
      "100%|██████████| 10/10 [00:00<00:00, 2382.18it/s]\n",
      "100%|██████████| 10/10 [00:00<00:00, 444.22it/s]\n",
      "100%|██████████| 10/10 [00:00<00:00, 2233.86it/s]\n"
     ]
    },
    {
     "name": "stdout",
     "output_type": "stream",
     "text": [
      "[0.6341030195381883, 357.0, 563]\n",
      "['20170320', '20170320']\n",
      "['20170311', '20170319']\n",
      "['20170321', '20170321']\n",
      "['20170312', '20170320']\n",
      "['20170322', '20170322']\n",
      "['20170313', '20170321']\n",
      "[0.5859106529209622, 341.0, 582]\n",
      "['20170323', '20170323']\n",
      "['20170314', '20170322']\n",
      "[0.5661016949152542, 334.0, 590]\n",
      "['20170324', '20170324']\n",
      "['20170315', '20170323']\n"
     ]
    },
    {
     "name": "stderr",
     "output_type": "stream",
     "text": [
      "100%|██████████| 10/10 [00:00<00:00, 370.66it/s]\n",
      "100%|██████████| 10/10 [00:00<00:00, 296.88it/s]\n",
      "100%|██████████| 10/10 [00:00<00:00, 2544.93it/s]\n",
      "100%|██████████| 10/10 [00:00<00:00, 2378.53it/s]\n",
      "100%|██████████| 10/10 [00:00<00:00, 344.78it/s]\n",
      "100%|██████████| 10/10 [00:00<00:00, 2429.65it/s]\n",
      "100%|██████████| 10/10 [00:00<00:00, 313.59it/s]\n",
      "100%|██████████| 10/10 [00:00<00:00, 298.74it/s]\n",
      "100%|██████████| 10/10 [00:00<00:00, 2240.55it/s]\n",
      "100%|██████████| 10/10 [00:00<00:00, 2220.03it/s]\n",
      "100%|██████████| 10/10 [00:00<00:00, 341.60it/s]\n",
      "100%|██████████| 10/10 [00:00<00:00, 2437.98it/s]\n",
      "100%|██████████| 10/10 [00:00<00:00, 383.62it/s]\n",
      "100%|██████████| 10/10 [00:00<00:00, 2456.83it/s]\n",
      "100%|██████████| 10/10 [00:00<00:00, 393.66it/s]\n",
      "100%|██████████| 10/10 [00:00<00:00, 2315.63it/s]\n"
     ]
    },
    {
     "name": "stdout",
     "output_type": "stream",
     "text": [
      "[0.5979202772963604, 345.0, 577]\n",
      "['20170325', '20170325']\n",
      "['20170316', '20170324']\n",
      "[0.5661016949152542, 334.0, 590]\n",
      "['20170326', '20170326']\n",
      "['20170317', '20170325']\n",
      "['20170327', '20170327']\n",
      "['20170318', '20170326']\n",
      "['20170328', '20170328']\n",
      "['20170319', '20170327']\n"
     ]
    },
    {
     "name": "stderr",
     "output_type": "stream",
     "text": [
      "100%|██████████| 10/10 [00:00<00:00, 340.68it/s]\n",
      "100%|██████████| 10/10 [00:00<00:00, 2182.49it/s]\n",
      "100%|██████████| 10/10 [00:00<00:00, 297.48it/s]\n",
      "100%|██████████| 10/10 [00:00<00:00, 2337.83it/s]\n"
     ]
    },
    {
     "name": "stdout",
     "output_type": "stream",
     "text": [
      "[0.5731292517006803, 337.0, 588]\n",
      "['20170329', '20170329']\n",
      "['20170320', '20170328']\n",
      "[0.5431893687707641, 326.99999999999994, 602]\n",
      "['20170330', '20170330']\n",
      "['20170321', '20170329']\n"
     ]
    },
    {
     "name": "stderr",
     "output_type": "stream",
     "text": [
      "100%|██████████| 10/10 [00:00<00:00, 300.90it/s]\n",
      "100%|██████████| 10/10 [00:00<00:00, 2354.50it/s]\n",
      "100%|██████████| 10/10 [00:00<00:00, 270.34it/s]\n"
     ]
    },
    {
     "name": "stdout",
     "output_type": "stream",
     "text": [
      "[0.5469798657718121, 326.0, 596]\n",
      "['20170331', '20170331']\n",
      "['20170322', '20170330']\n",
      "[0.5298013245033113, 320.0, 604]\n",
      "['20170401', '20170401']\n",
      "['20170323', '20170331']\n",
      "['20170402', '20170402']\n",
      "['20170324', '20170401']\n"
     ]
    },
    {
     "name": "stderr",
     "output_type": "stream",
     "text": [
      "100%|██████████| 10/10 [00:00<00:00, 1971.66it/s]\n",
      "100%|██████████| 10/10 [00:00<00:00, 338.43it/s]\n",
      "100%|██████████| 10/10 [00:00<00:00, 2373.01it/s]\n",
      "100%|██████████| 10/10 [00:00<00:00, 393.24it/s]\n",
      "100%|██████████| 10/10 [00:00<00:00, 2259.62it/s]\n",
      "  0%|          | 0/10 [00:00<?, ?it/s]"
     ]
    },
    {
     "name": "stdout",
     "output_type": "stream",
     "text": [
      "['20170403', '20170403']\n",
      "['20170325', '20170402']\n",
      "[0.6013864818024264, 347.0, 577]\n",
      "['20170404', '20170404']\n",
      "['20170326', '20170403']\n",
      "['20170405', '20170405']\n",
      "['20170327', '20170404']\n"
     ]
    },
    {
     "name": "stderr",
     "output_type": "stream",
     "text": [
      "100%|██████████| 10/10 [00:00<00:00, 296.96it/s]\n",
      "100%|██████████| 10/10 [00:00<00:00, 2410.38it/s]\n",
      "100%|██████████| 10/10 [00:00<00:00, 395.64it/s]\n",
      "100%|██████████| 10/10 [00:00<00:00, 2545.09it/s]\n",
      "100%|██████████| 10/10 [00:00<00:00, 318.60it/s]\n",
      "100%|██████████| 10/10 [00:00<00:00, 2246.43it/s]\n"
     ]
    },
    {
     "name": "stdout",
     "output_type": "stream",
     "text": [
      "[0.6027874564459931, 346.0, 574]\n",
      "['20170406', '20170406']\n",
      "['20170328', '20170405']\n",
      "[0.6013864818024264, 347.0, 577]\n",
      "['20170407', '20170407']\n",
      "['20170329', '20170406']\n"
     ]
    },
    {
     "name": "stderr",
     "output_type": "stream",
     "text": [
      "100%|██████████| 10/10 [00:00<00:00, 321.31it/s]\n",
      "100%|██████████| 10/10 [00:00<00:00, 2443.09it/s]\n",
      "100%|██████████| 10/10 [00:00<00:00, 354.61it/s]\n",
      "100%|██████████| 10/10 [00:00<00:00, 2408.31it/s]\n"
     ]
    },
    {
     "name": "stdout",
     "output_type": "stream",
     "text": [
      "[0.6137566137566137, 348.0, 567]\n",
      "['20170408', '20170408']\n",
      "['20170330', '20170407']\n",
      "[0.6144366197183099, 349.0, 568]\n",
      "['20170409', '20170409']\n",
      "['20170331', '20170408']\n",
      "['20170410', '20170410']\n",
      "['20170401', '20170409']\n",
      "['20170411', '20170411']\n",
      "['20170402', '20170410']\n",
      "[0.5425709515859767, 325.00000000000006, 599]\n",
      "['20170412', '20170412']\n",
      "['20170403', '20170411']\n"
     ]
    },
    {
     "name": "stderr",
     "output_type": "stream",
     "text": [
      "100%|██████████| 10/10 [00:00<00:00, 442.28it/s]\n",
      "100%|██████████| 10/10 [00:00<00:00, 293.49it/s]\n",
      "100%|██████████| 10/10 [00:00<00:00, 2489.94it/s]\n",
      "100%|██████████| 10/10 [00:00<00:00, 2447.94it/s]\n",
      "100%|██████████| 10/10 [00:00<00:00, 454.94it/s]\n",
      "100%|██████████| 10/10 [00:00<00:00, 383.76it/s]\n",
      "100%|██████████| 10/10 [00:00<00:00, 2233.75it/s]\n",
      "100%|██████████| 10/10 [00:00<00:00, 2159.79it/s]\n",
      "  0%|          | 0/10 [00:00<?, ?it/s]"
     ]
    },
    {
     "name": "stdout",
     "output_type": "stream",
     "text": [
      "[0.5685279187817259, 336.0, 591]\n",
      "['20170413', '20170413']\n",
      "['20170404', '20170412']\n",
      "[0.6144366197183099, 349.0, 568]\n",
      "['20170414', '20170414']\n",
      "['20170405', '20170413']\n"
     ]
    },
    {
     "name": "stderr",
     "output_type": "stream",
     "text": [
      "100%|██████████| 10/10 [00:00<00:00, 296.95it/s]\n",
      "100%|██████████| 10/10 [00:00<00:00, 2234.70it/s]\n",
      "100%|██████████| 10/10 [00:00<00:00, 340.59it/s]\n",
      "100%|██████████| 10/10 [00:00<00:00, 2438.69it/s]\n",
      "100%|██████████| 10/10 [00:00<00:00, 234.94it/s]\n",
      "100%|██████████| 10/10 [00:00<00:00, 2024.67it/s]\n"
     ]
    },
    {
     "name": "stdout",
     "output_type": "stream",
     "text": [
      "['20170415', '20170415']\n",
      "['20170406', '20170414']\n",
      "[0.5869191049913941, 341.0, 581]\n",
      "['20170416', '20170416']\n",
      "['20170407', '20170415']\n"
     ]
    },
    {
     "name": "stderr",
     "output_type": "stream",
     "text": [
      "100%|██████████| 10/10 [00:00<00:00, 359.70it/s]\n",
      "100%|██████████| 10/10 [00:00<00:00, 2316.40it/s]\n"
     ]
    },
    {
     "name": "stdout",
     "output_type": "stream",
     "text": [
      "[0.5555555555555556, 330.0, 594]\n",
      "['20170417', '20170417']\n",
      "['20170408', '20170416']\n",
      "[0.5869191049913941, 341.0, 581]\n",
      "['20170418', '20170418']\n",
      "['20170409', '20170417']\n",
      "['20170419', '20170419']\n",
      "['20170410', '20170418']\n",
      "['20170420', '20170420']\n",
      "['20170411', '20170419']\n"
     ]
    },
    {
     "name": "stderr",
     "output_type": "stream",
     "text": [
      "100%|██████████| 10/10 [00:00<00:00, 340.52it/s]\n",
      "100%|██████████| 10/10 [00:00<00:00, 2258.77it/s]\n",
      "100%|██████████| 10/10 [00:00<00:00, 424.49it/s]\n",
      "100%|██████████| 10/10 [00:00<00:00, 344.89it/s]\n",
      "100%|██████████| 10/10 [00:00<00:00, 2554.85it/s]\n",
      "100%|██████████| 10/10 [00:00<00:00, 2441.67it/s]\n",
      "100%|██████████| 10/10 [00:00<00:00, 350.30it/s]\n",
      "100%|██████████| 10/10 [00:00<00:00, 2283.36it/s]\n",
      "100%|██████████| 10/10 [00:00<00:00, 324.91it/s]\n",
      "100%|██████████| 10/10 [00:00<00:00, 2165.36it/s]\n",
      "100%|██████████| 10/10 [00:00<00:00, 335.36it/s]\n",
      "100%|██████████| 10/10 [00:00<00:00, 1619.36it/s]\n",
      "100%|██████████| 10/10 [00:00<00:00, 416.16it/s]\n",
      "100%|██████████| 10/10 [00:00<00:00, 1943.52it/s]\n",
      "100%|██████████| 10/10 [00:00<00:00, 425.90it/s]\n",
      "100%|██████████| 10/10 [00:00<00:00, 2312.70it/s]\n",
      "100%|██████████| 10/10 [00:00<00:00, 386.85it/s]\n",
      "100%|██████████| 10/10 [00:00<00:00, 2430.35it/s]\n"
     ]
    },
    {
     "name": "stdout",
     "output_type": "stream",
     "text": [
      "[0.5434782608695652, 325.0, 598]\n",
      "['20170421', '20170421']\n",
      "['20170412', '20170420']\n",
      "[0.523102310231023, 316.99999999999994, 606]\n",
      "['20170422', '20170422']\n",
      "['20170413', '20170421']\n",
      "[0.5546218487394958, 330.0, 595]\n",
      "['20170423', '20170423']\n",
      "['20170414', '20170422']\n",
      "['20170424', '20170424']\n",
      "['20170415', '20170423']\n",
      "['20170425', '20170425']\n",
      "['20170416', '20170424']\n"
     ]
    },
    {
     "name": "stderr",
     "output_type": "stream",
     "text": [
      "100%|██████████| 10/10 [00:00<00:00, 342.49it/s]\n",
      "100%|██████████| 10/10 [00:00<00:00, 2278.52it/s]\n"
     ]
    },
    {
     "name": "stdout",
     "output_type": "stream",
     "text": [
      "[0.5049342105263158, 307.0, 608]\n",
      "['20170426', '20170426']\n",
      "['20170417', '20170425']\n",
      "[0.543918918918919, 322.00000000000006, 592]\n",
      "['20170427', '20170427']\n",
      "['20170418', '20170426']\n"
     ]
    },
    {
     "name": "stderr",
     "output_type": "stream",
     "text": [
      "100%|██████████| 10/10 [00:00<00:00, 232.91it/s]\n",
      "100%|██████████| 10/10 [00:00<00:00, 2296.74it/s]\n",
      "100%|██████████| 10/10 [00:00<00:00, 277.87it/s]\n",
      "100%|██████████| 10/10 [00:00<00:00, 2158.23it/s]\n"
     ]
    },
    {
     "name": "stdout",
     "output_type": "stream",
     "text": [
      "[0.5333333333333333, 320.0, 600]\n",
      "['20170428', '20170428']\n",
      "['20170419', '20170427']\n",
      "[0.5824742268041238, 339.0, 582]\n",
      "['20170429', '20170429']\n",
      "['20170420', '20170428']\n",
      "[0.5824742268041238, 339.0, 582]\n",
      "['20170430', '20170430']\n",
      "['20170421', '20170429']\n"
     ]
    },
    {
     "name": "stderr",
     "output_type": "stream",
     "text": [
      "100%|██████████| 10/10 [00:00<00:00, 311.01it/s]\n",
      "100%|██████████| 10/10 [00:00<00:00, 2309.89it/s]\n",
      "100%|██████████| 10/10 [00:00<00:00, 395.34it/s]\n",
      "100%|██████████| 10/10 [00:00<00:00, 342.55it/s]\n",
      "100%|██████████| 10/10 [00:00<00:00, 2357.41it/s]\n",
      "100%|██████████| 10/10 [00:00<00:00, 2342.53it/s]\n",
      "100%|██████████| 10/10 [00:00<00:00, 475.06it/s]\n",
      "100%|██████████| 10/10 [00:00<00:00, 3266.08it/s]\n",
      "100%|██████████| 10/10 [00:00<00:00, 192.72it/s]\n",
      "100%|██████████| 10/10 [00:00<00:00, 769.85it/s]\n"
     ]
    },
    {
     "name": "stdout",
     "output_type": "stream",
     "text": [
      "['20170501', '20170501']\n",
      "['20170422', '20170430']\n",
      "['20170502', '20170502']\n",
      "['20170423', '20170501']\n",
      "[0.5420875420875421, 322.0, 594]\n",
      "['20170503', '20170503']\n",
      "['20170424', '20170502']\n",
      "['20170504', '20170504']\n",
      "['20170425', '20170503']\n",
      "[0.5620689655172414, 326.0, 580]\n",
      "['20170505', '20170505']\n",
      "['20170426', '20170504']\n",
      "[0.6236363636363637, 343.0, 550]\n",
      "['20170506', '20170506']\n",
      "['20170427', '20170505']\n",
      "[0.5601374570446735, 326.0, 582]\n",
      "['20170507', '20170507']\n",
      "['20170428', '20170506']\n"
     ]
    },
    {
     "name": "stderr",
     "output_type": "stream",
     "text": [
      "100%|██████████| 10/10 [00:00<00:00, 350.57it/s]\n",
      "100%|██████████| 10/10 [00:00<00:00, 345.73it/s]\n",
      "100%|██████████| 10/10 [00:00<00:00, 2419.98it/s]\n",
      "100%|██████████| 10/10 [00:00<00:00, 2305.70it/s]\n",
      "100%|██████████| 10/10 [00:00<00:00, 351.29it/s]\n",
      "100%|██████████| 10/10 [00:00<00:00, 2236.84it/s]\n",
      "100%|██████████| 10/10 [00:00<00:00, 354.64it/s]\n",
      "100%|██████████| 10/10 [00:00<00:00, 2169.28it/s]\n",
      "100%|██████████| 10/10 [00:00<00:00, 381.40it/s]\n",
      "100%|██████████| 10/10 [00:00<00:00, 1578.65it/s]\n",
      "100%|██████████| 10/10 [00:00<00:00, 382.07it/s]\n",
      "100%|██████████| 10/10 [00:00<00:00, 1653.45it/s]\n",
      "100%|██████████| 10/10 [00:00<00:00, 355.90it/s]\n",
      "100%|██████████| 10/10 [00:00<00:00, 307.37it/s]\n",
      "100%|██████████| 10/10 [00:00<00:00, 2247.75it/s]\n",
      "100%|██████████| 10/10 [00:00<00:00, 2383.40it/s]\n",
      "100%|██████████| 10/10 [00:00<00:00, 293.04it/s]\n",
      "100%|██████████| 10/10 [00:00<00:00, 1858.27it/s]\n",
      "100%|██████████| 10/10 [00:00<00:00, 287.16it/s]\n",
      "  0%|          | 0/10 [00:00<?, ?it/s]"
     ]
    },
    {
     "name": "stdout",
     "output_type": "stream",
     "text": [
      "[0.5477815699658704, 321.0, 586]\n",
      "['20170508', '20170508']\n",
      "['20170429', '20170507']\n",
      "['20170509', '20170509']\n",
      "['20170430', '20170508']\n",
      "[0.5570469798657718, 332.0, 596]\n",
      "['20170510', '20170510']\n",
      "['20170501', '20170509']\n",
      "['20170511', '20170511']\n",
      "['20170502', '20170510']\n",
      "[0.5570469798657718, 332.0, 596]\n",
      "['20170512', '20170512']\n",
      "['20170503', '20170511']\n",
      "[0.6236363636363637, 343.0, 550]\n",
      "['20170513', '20170513']\n",
      "['20170504', '20170512']\n"
     ]
    },
    {
     "name": "stderr",
     "output_type": "stream",
     "text": [
      "100%|██████████| 10/10 [00:00<00:00, 2151.04it/s]\n",
      "100%|██████████| 10/10 [00:00<00:00, 335.85it/s]\n",
      "100%|██████████| 10/10 [00:00<00:00, 2412.74it/s]\n",
      "100%|██████████| 10/10 [00:00<00:00, 375.92it/s]\n",
      "100%|██████████| 10/10 [00:00<00:00, 2402.92it/s]\n",
      "  0%|          | 0/10 [00:00<?, ?it/s]"
     ]
    },
    {
     "name": "stdout",
     "output_type": "stream",
     "text": [
      "['20170514', '20170514']\n",
      "['20170505', '20170513']\n",
      "[0.5521367521367522, 323.0, 585]\n",
      "['20170515', '20170515']\n",
      "['20170506', '20170514']\n",
      "['20170516', '20170516']\n",
      "['20170507', '20170515']\n",
      "[0.5570469798657718, 332.0, 596]\n",
      "['20170517', '20170517']\n",
      "['20170508', '20170516']\n"
     ]
    },
    {
     "name": "stderr",
     "output_type": "stream",
     "text": [
      "100%|██████████| 10/10 [00:00<00:00, 287.96it/s]\n",
      "100%|██████████| 10/10 [00:00<00:00, 319.98it/s]\n",
      "100%|██████████| 10/10 [00:00<00:00, 2014.07it/s]\n",
      "100%|██████████| 10/10 [00:00<00:00, 2297.75it/s]\n",
      "100%|██████████| 10/10 [00:00<00:00, 357.59it/s]\n",
      "100%|██████████| 10/10 [00:00<00:00, 2251.49it/s]\n"
     ]
    },
    {
     "name": "stdout",
     "output_type": "stream",
     "text": [
      "[0.5171288743882545, 317.0, 613]\n",
      "['20170518', '20170518']\n",
      "['20170509', '20170517']\n",
      "[0.528830313014827, 320.99999999999994, 607]\n",
      "['20170519', '20170519']\n",
      "['20170510', '20170518']\n"
     ]
    },
    {
     "name": "stderr",
     "output_type": "stream",
     "text": [
      "100%|██████████| 10/10 [00:00<00:00, 255.26it/s]\n",
      "100%|██████████| 10/10 [00:00<00:00, 2004.93it/s]\n",
      "100%|██████████| 10/10 [00:00<00:00, 317.74it/s]\n",
      "100%|██████████| 10/10 [00:00<00:00, 2345.28it/s]\n"
     ]
    },
    {
     "name": "stdout",
     "output_type": "stream",
     "text": [
      "[0.6466431095406361, 366.0, 566]\n",
      "['20170520', '20170520']\n",
      "['20170511', '20170519']\n",
      "['20170521', '20170521']\n",
      "['20170512', '20170520']\n",
      "[0.5958904109589042, 348.00000000000006, 584]\n",
      "['20170522', '20170522']\n",
      "['20170513', '20170521']\n",
      "['20170523', '20170523']\n",
      "['20170514', '20170522']\n",
      "[0.5856164383561644, 342.0, 584]\n",
      "['20170524', '20170524']\n",
      "['20170515', '20170523']\n",
      "[0.5856164383561644, 342.0, 584]\n",
      "['20170525', '20170525']\n",
      "['20170516', '20170524']\n"
     ]
    },
    {
     "name": "stderr",
     "output_type": "stream",
     "text": [
      "100%|██████████| 10/10 [00:00<00:00, 509.04it/s]\n",
      "100%|██████████| 10/10 [00:00<00:00, 3244.11it/s]\n",
      "100%|██████████| 10/10 [00:00<00:00, 431.55it/s]\n",
      "100%|██████████| 10/10 [00:00<00:00, 3349.82it/s]\n",
      "100%|██████████| 10/10 [00:00<00:00, 409.72it/s]\n",
      "100%|██████████| 10/10 [00:00<00:00, 2332.24it/s]\n",
      "100%|██████████| 10/10 [00:00<00:00, 444.71it/s]\n",
      "100%|██████████| 10/10 [00:00<00:00, 2403.34it/s]\n",
      "100%|██████████| 10/10 [00:00<00:00, 318.76it/s]\n",
      "100%|██████████| 10/10 [00:00<00:00, 310.61it/s]\n",
      "100%|██████████| 10/10 [00:00<00:00, 2214.64it/s]\n",
      "100%|██████████| 10/10 [00:00<00:00, 2290.34it/s]\n",
      "100%|██████████| 10/10 [00:00<00:00, 330.90it/s]\n",
      "100%|██████████| 10/10 [00:00<00:00, 2234.10it/s]\n"
     ]
    },
    {
     "name": "stdout",
     "output_type": "stream",
     "text": [
      "[0.5322314049586777, 322.0, 605]\n",
      "['20170526', '20170526']\n",
      "['20170517', '20170525']\n",
      "[0.6065292096219931, 353.0, 582]\n",
      "['20170527', '20170527']\n",
      "['20170518', '20170526']\n",
      "[0.6466431095406361, 366.0, 566]\n",
      "['20170528', '20170528']\n",
      "['20170519', '20170527']\n"
     ]
    },
    {
     "name": "stderr",
     "output_type": "stream",
     "text": [
      "100%|██████████| 10/10 [00:00<00:00, 351.59it/s]\n",
      "100%|██████████| 10/10 [00:00<00:00, 401.21it/s]\n",
      "100%|██████████| 10/10 [00:00<00:00, 2426.14it/s]\n",
      "100%|██████████| 10/10 [00:00<00:00, 2371.00it/s]\n",
      "100%|██████████| 10/10 [00:00<00:00, 387.74it/s]\n",
      "100%|██████████| 10/10 [00:00<00:00, 338.80it/s]\n",
      "100%|██████████| 10/10 [00:00<00:00, 2264.62it/s]\n",
      "100%|██████████| 10/10 [00:00<00:00, 2447.37it/s]\n"
     ]
    },
    {
     "name": "stdout",
     "output_type": "stream",
     "text": [
      "['20170529', '20170529']\n",
      "['20170520', '20170528']\n",
      "['20170530', '20170530']\n",
      "['20170521', '20170529']\n",
      "[0.5668358714043993, 335.0, 591]\n",
      "['20170531', '20170531']\n",
      "['20170522', '20170530']\n",
      "[0.5644891122278057, 337.0, 597]\n",
      "['20170601', '20170601']\n",
      "['20170523', '20170531']\n"
     ]
    },
    {
     "name": "stderr",
     "output_type": "stream",
     "text": [
      "100%|██████████| 10/10 [00:00<00:00, 313.16it/s]\n",
      "100%|██████████| 10/10 [00:00<00:00, 2256.09it/s]\n",
      "100%|██████████| 10/10 [00:00<00:00, 305.42it/s]\n",
      "100%|██████████| 10/10 [00:00<00:00, 2127.14it/s]\n",
      "100%|██████████| 10/10 [00:00<00:00, 299.42it/s]\n",
      "100%|██████████| 10/10 [00:00<00:00, 2120.69it/s]\n",
      "100%|██████████| 10/10 [00:00<00:00, 328.57it/s]\n"
     ]
    },
    {
     "name": "stdout",
     "output_type": "stream",
     "text": [
      "[0.6041308089500861, 351.0, 581]\n",
      "['20170602', '20170602']\n",
      "['20170524', '20170601']\n",
      "[0.6145833333333334, 354.0, 576]\n",
      "['20170603', '20170603']\n",
      "['20170525', '20170602']\n",
      "[0.5738255033557047, 342.0, 596]\n",
      "['20170604', '20170604']\n",
      "['20170526', '20170603']\n",
      "['20170605', '20170605']\n",
      "['20170527', '20170604']\n",
      "['20170606', '20170606']\n",
      "['20170528', '20170605']\n"
     ]
    },
    {
     "name": "stderr",
     "output_type": "stream",
     "text": [
      "100%|██████████| 10/10 [00:00<00:00, 378.40it/s]\n",
      "100%|██████████| 10/10 [00:00<00:00, 2170.85it/s]\n",
      "100%|██████████| 10/10 [00:00<00:00, 2209.74it/s]\n",
      "100%|██████████| 10/10 [00:00<00:00, 384.70it/s]\n",
      "100%|██████████| 10/10 [00:00<00:00, 338.12it/s]\n",
      "100%|██████████| 10/10 [00:00<00:00, 2240.67it/s]\n",
      "100%|██████████| 10/10 [00:00<00:00, 2165.58it/s]\n",
      "100%|██████████| 10/10 [00:00<00:00, 298.24it/s]\n",
      "100%|██████████| 10/10 [00:00<00:00, 2277.29it/s]\n"
     ]
    },
    {
     "name": "stdout",
     "output_type": "stream",
     "text": [
      "[0.6145833333333334, 354.0, 576]\n",
      "['20170607', '20170607']\n",
      "['20170529', '20170606']\n"
     ]
    },
    {
     "name": "stderr",
     "output_type": "stream",
     "text": [
      "100%|██████████| 10/10 [00:00<00:00, 293.54it/s]\n",
      "100%|██████████| 10/10 [00:00<00:00, 2327.71it/s]\n",
      "100%|██████████| 10/10 [00:00<00:00, 295.57it/s]\n",
      "100%|██████████| 10/10 [00:00<00:00, 2198.85it/s]\n",
      "  0%|          | 0/10 [00:00<?, ?it/s]"
     ]
    },
    {
     "name": "stdout",
     "output_type": "stream",
     "text": [
      "[0.5454545454545454, 330.0, 605]\n",
      "['20170608', '20170608']\n",
      "['20170530', '20170607']\n",
      "[0.5854483925549916, 346.00000000000006, 591]\n",
      "['20170609', '20170609']\n",
      "['20170531', '20170608']\n",
      "[0.5635451505016722, 337.0, 598]\n",
      "['20170610', '20170610']\n",
      "['20170601', '20170609']\n"
     ]
    },
    {
     "name": "stderr",
     "output_type": "stream",
     "text": [
      "100%|██████████| 10/10 [00:00<00:00, 343.10it/s]\n",
      "100%|██████████| 10/10 [00:00<00:00, 2228.17it/s]\n",
      "100%|██████████| 10/10 [00:00<00:00, 393.77it/s]\n",
      "100%|██████████| 10/10 [00:00<00:00, 2221.91it/s]\n",
      "  0%|          | 0/10 [00:00<?, ?it/s]"
     ]
    },
    {
     "name": "stdout",
     "output_type": "stream",
     "text": [
      "['20170611', '20170611']\n",
      "['20170602', '20170610']\n",
      "['20170612', '20170612']\n",
      "['20170603', '20170611']\n"
     ]
    },
    {
     "name": "stderr",
     "output_type": "stream",
     "text": [
      "100%|██████████| 10/10 [00:00<00:00, 369.15it/s]\n",
      "100%|██████████| 10/10 [00:00<00:00, 1324.38it/s]\n"
     ]
    },
    {
     "name": "stdout",
     "output_type": "stream",
     "text": [
      "[0.5500821018062397, 335.0, 609]\n",
      "['20170613', '20170613']\n",
      "['20170604', '20170612']\n",
      "[0.5613747954173486, 343.0, 611]\n",
      "['20170614', '20170614']\n",
      "['20170605', '20170613']\n",
      "[0.5854483925549916, 346.00000000000006, 591]\n",
      "['20170615', '20170615']\n",
      "['20170606', '20170614']\n"
     ]
    },
    {
     "name": "stderr",
     "output_type": "stream",
     "text": [
      "100%|██████████| 10/10 [00:00<00:00, 275.69it/s]\n",
      "100%|██████████| 10/10 [00:00<00:00, 2281.00it/s]\n",
      "100%|██████████| 10/10 [00:00<00:00, 245.49it/s]\n",
      "100%|██████████| 10/10 [00:00<00:00, 2898.42it/s]\n",
      "100%|██████████| 10/10 [00:00<00:00, 235.11it/s]\n",
      "100%|██████████| 10/10 [00:00<00:00, 2172.54it/s]\n"
     ]
    },
    {
     "name": "stdout",
     "output_type": "stream",
     "text": [
      "[0.5973154362416108, 356.0, 596]\n",
      "['20170616', '20170616']\n",
      "['20170607', '20170615']\n",
      "[0.5848434925864909, 355.0, 607]\n",
      "['20170617', '20170617']\n",
      "['20170608', '20170616']\n",
      "[0.5973154362416108, 356.0, 596]\n",
      "['20170618', '20170618']\n",
      "['20170609', '20170617']\n"
     ]
    },
    {
     "name": "stderr",
     "output_type": "stream",
     "text": [
      "100%|██████████| 10/10 [00:00<00:00, 317.01it/s]\n",
      "100%|██████████| 10/10 [00:00<00:00, 2215.34it/s]\n",
      "100%|██████████| 10/10 [00:00<00:00, 347.65it/s]\n",
      "100%|██████████| 10/10 [00:00<00:00, 2207.99it/s]\n",
      "  0%|          | 0/10 [00:00<?, ?it/s]"
     ]
    },
    {
     "name": "stdout",
     "output_type": "stream",
     "text": [
      "['20170619', '20170619']\n",
      "['20170610', '20170618']\n",
      "['20170620', '20170620']\n",
      "['20170611', '20170619']\n",
      "[0.5617792421746294, 341.00000000000006, 607]\n",
      "['20170621', '20170621']\n",
      "['20170612', '20170620']\n",
      "[0.5332252836304701, 329.0, 617]\n",
      "['20170622', '20170622']\n",
      "['20170613', '20170621']\n",
      "[0.5502471169686985, 334.0, 607]\n",
      "['20170623', '20170623']\n",
      "['20170614', '20170622']\n"
     ]
    },
    {
     "name": "stderr",
     "output_type": "stream",
     "text": [
      "100%|██████████| 10/10 [00:00<00:00, 383.33it/s]\n",
      "100%|██████████| 10/10 [00:00<00:00, 2285.23it/s]\n",
      "100%|██████████| 10/10 [00:00<00:00, 371.06it/s]\n",
      "100%|██████████| 10/10 [00:00<00:00, 2497.80it/s]\n",
      "100%|██████████| 10/10 [00:00<00:00, 341.04it/s]\n",
      "100%|██████████| 10/10 [00:00<00:00, 2176.82it/s]\n",
      "100%|██████████| 10/10 [00:00<00:00, 285.64it/s]\n",
      "100%|██████████| 10/10 [00:00<00:00, 2250.16it/s]\n",
      "100%|██████████| 10/10 [00:00<00:00, 222.22it/s]\n",
      "100%|██████████| 10/10 [00:00<00:00, 288.54it/s]\n",
      "100%|██████████| 10/10 [00:00<00:00, 2034.98it/s]\n",
      "100%|██████████| 10/10 [00:00<00:00, 2215.22it/s]\n",
      "100%|██████████| 10/10 [00:00<00:00, 402.94it/s]\n",
      "100%|██████████| 10/10 [00:00<00:00, 3168.86it/s]\n",
      "100%|██████████| 10/10 [00:00<00:00, 379.28it/s]\n",
      "100%|██████████| 10/10 [00:00<00:00, 529.95it/s]\n",
      "100%|██████████| 10/10 [00:00<00:00, 2258.77it/s]\n",
      "100%|██████████| 10/10 [00:00<00:00, 2366.72it/s]\n",
      "100%|██████████| 10/10 [00:00<00:00, 369.95it/s]\n",
      "100%|██████████| 10/10 [00:00<00:00, 2178.63it/s]\n",
      "100%|██████████| 10/10 [00:00<00:00, 364.53it/s]\n"
     ]
    },
    {
     "name": "stdout",
     "output_type": "stream",
     "text": [
      "[0.5233494363929146, 325.0, 621]\n",
      "['20170624', '20170624']\n",
      "['20170615', '20170623']\n",
      "[0.5442622950819672, 332.0, 610]\n",
      "['20170625', '20170625']\n",
      "['20170616', '20170624']\n",
      "['20170626', '20170626']\n",
      "['20170617', '20170625']\n",
      "[0.5502471169686985, 334.0, 607]\n",
      "['20170627', '20170627']\n",
      "['20170618', '20170626']\n",
      "['20170628', '20170628']\n",
      "['20170619', '20170627']\n",
      "['20170629', '20170629']\n",
      "['20170620', '20170628']\n"
     ]
    },
    {
     "name": "stderr",
     "output_type": "stream",
     "text": [
      "100%|██████████| 10/10 [00:00<00:00, 2307.86it/s]\n",
      "100%|██████████| 10/10 [00:00<00:00, 323.22it/s]\n",
      "100%|██████████| 10/10 [00:00<00:00, 2195.05it/s]\n",
      "100%|██████████| 10/10 [00:00<00:00, 336.95it/s]\n",
      "100%|██████████| 10/10 [00:00<00:00, 379.21it/s]\n"
     ]
    },
    {
     "name": "stdout",
     "output_type": "stream",
     "text": [
      "[0.5513245033112583, 333.0, 604]\n",
      "['20170630', '20170630']\n",
      "['20170621', '20170629']\n",
      "[0.5349593495934959, 329.0, 615]\n",
      "['20170701', '20170701']\n",
      "['20170622', '20170630']\n",
      "['20170702', '20170702']\n",
      "['20170623', '20170701']\n",
      "['20170703', '20170703']\n",
      "['20170624', '20170702']\n"
     ]
    },
    {
     "name": "stderr",
     "output_type": "stream",
     "text": [
      "100%|██████████| 10/10 [00:00<00:00, 2351.73it/s]\n",
      "100%|██████████| 10/10 [00:00<00:00, 2425.57it/s]\n",
      "100%|██████████| 10/10 [00:00<00:00, 450.04it/s]\n",
      "100%|██████████| 10/10 [00:00<00:00, 2355.95it/s]\n",
      "100%|██████████| 10/10 [00:00<00:00, 398.70it/s]\n",
      "100%|██████████| 10/10 [00:00<00:00, 2081.13it/s]\n"
     ]
    },
    {
     "name": "stdout",
     "output_type": "stream",
     "text": [
      "[0.5540765391014975, 332.99999999999994, 601]\n",
      "['20170704', '20170704']\n",
      "['20170625', '20170703']\n",
      "[0.5951557093425606, 344.0, 578]\n",
      "['20170705', '20170705']\n",
      "['20170626', '20170704']\n"
     ]
    },
    {
     "name": "stderr",
     "output_type": "stream",
     "text": [
      "100%|██████████| 10/10 [00:00<00:00, 398.28it/s]\n",
      "100%|██████████| 10/10 [00:00<00:00, 2144.66it/s]\n",
      "100%|██████████| 10/10 [00:00<00:00, 347.87it/s]\n",
      "100%|██████████| 10/10 [00:00<00:00, 2411.91it/s]\n",
      "100%|██████████| 10/10 [00:00<00:00, 292.33it/s]\n",
      "100%|██████████| 10/10 [00:00<00:00, 2322.17it/s]\n",
      "100%|██████████| 10/10 [00:00<00:00, 279.93it/s]\n",
      "100%|██████████| 10/10 [00:00<00:00, 2266.46it/s]\n"
     ]
    },
    {
     "name": "stdout",
     "output_type": "stream",
     "text": [
      "[0.5951557093425606, 344.0, 578]\n",
      "['20170706', '20170706']\n",
      "['20170627', '20170705']\n",
      "[0.561344537815126, 334.0, 595]\n",
      "['20170707', '20170707']\n",
      "['20170628', '20170706']\n",
      "[0.5173553719008265, 313.0, 605]\n",
      "['20170708', '20170708']\n",
      "['20170629', '20170707']\n",
      "[0.5564784053156147, 335.0, 602]\n",
      "['20170709', '20170709']\n",
      "['20170630', '20170708']\n",
      "[0.5314569536423841, 321.0, 604]\n",
      "['20170710', '20170710']\n",
      "['20170701', '20170709']\n",
      "[0.5704584040747029, 336.00000000000006, 589]\n",
      "['20170711', '20170711']\n",
      "['20170702', '20170710']\n",
      "['20170712', '20170712']\n",
      "['20170703', '20170711']\n",
      "['20170713', '20170713']\n",
      "['20170704', '20170712']\n",
      "[0.5704584040747029, 336.00000000000006, 589]\n",
      "['20170714', '20170714']\n",
      "['20170705', '20170713']\n"
     ]
    },
    {
     "name": "stderr",
     "output_type": "stream",
     "text": [
      "100%|██████████| 10/10 [00:00<00:00, 331.03it/s]\n",
      "100%|██████████| 10/10 [00:00<00:00, 384.29it/s]\n",
      "100%|██████████| 10/10 [00:00<00:00, 2173.78it/s]\n",
      "100%|██████████| 10/10 [00:00<00:00, 2284.23it/s]\n",
      "100%|██████████| 10/10 [00:00<00:00, 369.06it/s]\n",
      "100%|██████████| 10/10 [00:00<00:00, 2456.83it/s]\n",
      "100%|██████████| 10/10 [00:00<00:00, 321.18it/s]\n",
      "100%|██████████| 10/10 [00:00<00:00, 2144.33it/s]\n",
      "100%|██████████| 10/10 [00:00<00:00, 294.94it/s]\n",
      "100%|██████████| 10/10 [00:00<00:00, 285.79it/s]\n",
      "100%|██████████| 10/10 [00:00<00:00, 2073.31it/s]\n",
      "100%|██████████| 10/10 [00:00<00:00, 2091.92it/s]\n",
      "100%|██████████| 10/10 [00:00<00:00, 295.93it/s]\n",
      "100%|██████████| 10/10 [00:00<00:00, 2114.70it/s]\n",
      "100%|██████████| 10/10 [00:00<00:00, 370.12it/s]\n",
      "100%|██████████| 10/10 [00:00<00:00, 3113.35it/s]\n",
      "100%|██████████| 10/10 [00:00<00:00, 368.66it/s]\n",
      "100%|██████████| 10/10 [00:00<00:00, 2245.22it/s]\n",
      "100%|██████████| 10/10 [00:00<00:00, 368.62it/s]\n",
      "100%|██████████| 10/10 [00:00<00:00, 2197.01it/s]\n",
      "100%|██████████| 10/10 [00:00<00:00, 415.88it/s]\n",
      "100%|██████████| 10/10 [00:00<00:00, 2627.35it/s]\n",
      "100%|██████████| 10/10 [00:00<00:00, 293.62it/s]\n",
      "100%|██████████| 10/10 [00:00<00:00, 2132.55it/s]\n",
      "  0%|          | 0/10 [00:00<?, ?it/s]"
     ]
    },
    {
     "name": "stdout",
     "output_type": "stream",
     "text": [
      "[0.5894378194207837, 346.0, 587]\n",
      "['20170715', '20170715']\n",
      "['20170706', '20170714']\n",
      "[0.5598650927487352, 331.99999999999994, 593]\n",
      "['20170716', '20170716']\n",
      "['20170707', '20170715']\n",
      "[0.5182724252491694, 312.0, 602]\n",
      "['20170717', '20170717']\n",
      "['20170708', '20170716']\n",
      "['20170718', '20170718']\n",
      "['20170709', '20170717']\n",
      "['20170719', '20170719']\n",
      "['20170710', '20170718']\n",
      "[0.5612244897959183, 330.0, 588]\n",
      "['20170720', '20170720']\n",
      "['20170711', '20170719']\n",
      "[0.5612244897959183, 330.0, 588]\n",
      "['20170721', '20170721']\n",
      "['20170712', '20170720']\n"
     ]
    },
    {
     "name": "stderr",
     "output_type": "stream",
     "text": [
      "100%|██████████| 10/10 [00:00<00:00, 293.41it/s]\n",
      "100%|██████████| 10/10 [00:00<00:00, 291.22it/s]\n",
      "100%|██████████| 10/10 [00:00<00:00, 2039.14it/s]\n",
      "100%|██████████| 10/10 [00:00<00:00, 2287.97it/s]\n"
     ]
    },
    {
     "name": "stdout",
     "output_type": "stream",
     "text": [
      "[0.6313932980599647, 358.0, 567]\n",
      "['20170722', '20170722']\n",
      "['20170713', '20170721']\n",
      "['20170723', '20170723']\n",
      "['20170714', '20170722']\n",
      "['20170724', '20170724']\n",
      "['20170715', '20170723']\n"
     ]
    },
    {
     "name": "stderr",
     "output_type": "stream",
     "text": [
      "100%|██████████| 10/10 [00:00<00:00, 340.72it/s]\n",
      "100%|██████████| 10/10 [00:00<00:00, 2420.68it/s]\n",
      "100%|██████████| 10/10 [00:00<00:00, 382.02it/s]\n",
      "100%|██████████| 10/10 [00:00<00:00, 2509.46it/s]\n",
      "100%|██████████| 10/10 [00:00<00:00, 397.31it/s]\n",
      "100%|██████████| 10/10 [00:00<00:00, 2507.21it/s]\n"
     ]
    },
    {
     "name": "stdout",
     "output_type": "stream",
     "text": [
      "[0.5830508474576271, 344.0, 590]\n",
      "['20170725', '20170725']\n",
      "['20170716', '20170724']\n",
      "[0.5300813008130081, 325.99999999999994, 615]\n",
      "['20170726', '20170726']\n",
      "['20170717', '20170725']\n"
     ]
    },
    {
     "name": "stderr",
     "output_type": "stream",
     "text": [
      "100%|██████████| 10/10 [00:00<00:00, 315.14it/s]\n",
      "100%|██████████| 10/10 [00:00<00:00, 2233.98it/s]\n",
      "100%|██████████| 10/10 [00:00<00:00, 258.41it/s]\n",
      "100%|██████████| 10/10 [00:00<00:00, 2317.81it/s]\n",
      "100%|██████████| 10/10 [00:00<00:00, 267.58it/s]\n",
      "100%|██████████| 10/10 [00:00<00:00, 2335.10it/s]\n",
      "  0%|          | 0/10 [00:00<?, ?it/s]"
     ]
    },
    {
     "name": "stdout",
     "output_type": "stream",
     "text": [
      "[0.6313932980599647, 358.0, 567]\n",
      "['20170727', '20170727']\n",
      "['20170718', '20170726']\n",
      "[0.5450081833060556, 333.0, 611]\n",
      "['20170728', '20170728']\n",
      "['20170719', '20170727']\n"
     ]
    },
    {
     "name": "stderr",
     "output_type": "stream",
     "text": [
      "100%|██████████| 10/10 [00:00<00:00, 304.60it/s]\n",
      "100%|██████████| 10/10 [00:00<00:00, 2291.59it/s]\n",
      "100%|██████████| 10/10 [00:00<00:00, 303.97it/s]\n",
      "100%|██████████| 10/10 [00:00<00:00, 2005.50it/s]\n",
      "100%|██████████| 10/10 [00:00<00:00, 306.76it/s]\n",
      "100%|██████████| 10/10 [00:00<00:00, 2300.14it/s]\n",
      "100%|██████████| 10/10 [00:00<00:00, 287.78it/s]\n",
      "100%|██████████| 10/10 [00:00<00:00, 2125.42it/s]\n",
      "100%|██████████| 10/10 [00:00<00:00, 249.56it/s]\n"
     ]
    },
    {
     "name": "stdout",
     "output_type": "stream",
     "text": [
      "[0.5726643598615917, 331.0, 578]\n",
      "['20170729', '20170729']\n",
      "['20170720', '20170728']\n",
      "[0.5121163166397416, 317.0, 619]\n",
      "['20170730', '20170730']\n",
      "['20170721', '20170729']\n",
      "[0.5363036303630363, 325.0, 606]\n",
      "['20170731', '20170731']\n",
      "['20170722', '20170730']\n",
      "['20170801', '20170801']\n",
      "['20170723', '20170731']\n"
     ]
    },
    {
     "name": "stderr",
     "output_type": "stream",
     "text": [
      "100%|██████████| 10/10 [00:00<00:00, 1495.78it/s]\n",
      "100%|██████████| 10/10 [00:00<00:00, 257.43it/s]\n",
      "100%|██████████| 10/10 [00:00<00:00, 251.02it/s]\n",
      "100%|██████████| 10/10 [00:00<00:00, 1942.80it/s]\n",
      "100%|██████████| 10/10 [00:00<00:00, 2193.33it/s]\n",
      "100%|██████████| 10/10 [00:00<00:00, 236.27it/s]\n",
      "100%|██████████| 10/10 [00:00<00:00, 1906.24it/s]\n",
      "100%|██████████| 10/10 [00:00<00:00, 269.61it/s]\n",
      "100%|██████████| 10/10 [00:00<00:00, 2223.09it/s]\n"
     ]
    },
    {
     "name": "stdout",
     "output_type": "stream",
     "text": [
      "['20170802', '20170802']\n",
      "['20170724', '20170801']\n",
      "[0.5363036303630363, 325.0, 606]\n",
      "['20170803', '20170803']\n",
      "['20170725', '20170802']\n",
      "[0.5146103896103896, 317.0, 616]\n",
      "['20170804', '20170804']\n",
      "['20170726', '20170803']\n",
      "[0.5040128410914928, 314.0, 623]\n",
      "['20170805', '20170805']\n",
      "['20170727', '20170804']\n",
      "['20170806', '20170806']\n",
      "['20170728', '20170805']\n",
      "[0.5384615384615384, 322.0, 598]\n",
      "['20170807', '20170807']\n",
      "['20170729', '20170806']\n"
     ]
    },
    {
     "name": "stderr",
     "output_type": "stream",
     "text": [
      "100%|██████████| 10/10 [00:00<00:00, 383.08it/s]\n",
      "100%|██████████| 10/10 [00:00<00:00, 263.35it/s]\n",
      "100%|██████████| 10/10 [00:00<00:00, 2093.38it/s]\n",
      "100%|██████████| 10/10 [00:00<00:00, 2185.56it/s]\n",
      "100%|██████████| 10/10 [00:00<00:00, 238.33it/s]\n",
      "100%|██████████| 10/10 [00:00<00:00, 242.87it/s]\n",
      "100%|██████████| 10/10 [00:00<00:00, 250.82it/s]\n",
      "100%|██████████| 10/10 [00:00<00:00, 1693.85it/s]\n",
      "100%|██████████| 10/10 [00:00<00:00, 261.23it/s]\n",
      "100%|██████████| 10/10 [00:00<00:00, 1966.85it/s]\n",
      "100%|██████████| 10/10 [00:00<00:00, 1957.76it/s]\n",
      "100%|██████████| 10/10 [00:00<00:00, 1637.25it/s]\n"
     ]
    },
    {
     "name": "stdout",
     "output_type": "stream",
     "text": [
      "[0.5465116279069767, 329.0, 602]\n",
      "['20170808', '20170808']\n",
      "['20170730', '20170807']\n",
      "[0.5726643598615917, 331.0, 578]\n",
      "['20170809', '20170809']\n",
      "['20170731', '20170808']\n",
      "[0.5546218487394958, 330.0, 595]\n",
      "['20170810', '20170810']\n",
      "['20170801', '20170809']\n",
      "['20170811', '20170811']\n",
      "['20170802', '20170810']\n",
      "[0.5740432612312812, 345.0, 601]\n",
      "['20170812', '20170812']\n",
      "['20170803', '20170811']\n",
      "['20170813', '20170813']\n",
      "['20170804', '20170812']\n",
      "['20170814', '20170814']\n",
      "['20170805', '20170813']\n"
     ]
    },
    {
     "name": "stderr",
     "output_type": "stream",
     "text": [
      "100%|██████████| 10/10 [00:00<00:00, 346.14it/s]\n",
      "100%|██████████| 10/10 [00:00<00:00, 2336.79it/s]\n",
      "100%|██████████| 10/10 [00:00<00:00, 397.98it/s]\n",
      "100%|██████████| 10/10 [00:00<00:00, 2471.89it/s]\n",
      "100%|██████████| 10/10 [00:00<00:00, 400.72it/s]\n",
      "100%|██████████| 10/10 [00:00<00:00, 2466.66it/s]\n"
     ]
    },
    {
     "name": "stdout",
     "output_type": "stream",
     "text": [
      "[0.5740432612312812, 345.0, 601]\n",
      "['20170815', '20170815']\n",
      "['20170806', '20170814']\n",
      "[0.5434083601286174, 338.0, 622]\n",
      "['20170816', '20170816']\n",
      "['20170807', '20170815']\n",
      "['20170817', '20170817']\n",
      "['20170808', '20170816']\n",
      "[0.5918367346938775, 348.0, 588]\n",
      "['20170818', '20170818']\n",
      "['20170809', '20170817']\n",
      "[0.5513866231647635, 338.0, 613]\n",
      "['20170819', '20170819']\n",
      "['20170810', '20170818']\n",
      "[0.5492730210016155, 339.99999999999994, 619]\n",
      "['20170820', '20170820']\n",
      "['20170811', '20170819']\n"
     ]
    },
    {
     "name": "stderr",
     "output_type": "stream",
     "text": [
      "100%|██████████| 10/10 [00:00<00:00, 397.56it/s]\n",
      "100%|██████████| 10/10 [00:00<00:00, 2442.24it/s]\n",
      "100%|██████████| 10/10 [00:00<00:00, 340.29it/s]\n",
      "100%|██████████| 10/10 [00:00<00:00, 339.09it/s]\n",
      "100%|██████████| 10/10 [00:00<00:00, 2374.36it/s]\n",
      "100%|██████████| 10/10 [00:00<00:00, 2391.14it/s]\n",
      "100%|██████████| 10/10 [00:00<00:00, 379.14it/s]\n",
      "100%|██████████| 10/10 [00:00<00:00, 342.66it/s]\n",
      "100%|██████████| 10/10 [00:00<00:00, 2426.00it/s]\n",
      "100%|██████████| 10/10 [00:00<00:00, 419.10it/s]\n",
      "100%|██████████| 10/10 [00:00<00:00, 3264.30it/s]\n",
      "100%|██████████| 10/10 [00:00<00:00, 2394.15it/s]\n"
     ]
    },
    {
     "name": "stdout",
     "output_type": "stream",
     "text": [
      "['20170821', '20170821']\n",
      "['20170812', '20170820']\n",
      "['20170822', '20170822']\n",
      "['20170813', '20170821']\n",
      "[0.5508885298869144, 341.0, 619]\n",
      "['20170823', '20170823']\n",
      "['20170814', '20170822']\n",
      "[0.5918367346938775, 348.0, 588]\n",
      "['20170824', '20170824']\n",
      "['20170815', '20170823']\n"
     ]
    },
    {
     "name": "stderr",
     "output_type": "stream",
     "text": [
      "100%|██████████| 10/10 [00:00<00:00, 442.87it/s]\n",
      "100%|██████████| 10/10 [00:00<00:00, 2508.40it/s]\n",
      "100%|██████████| 10/10 [00:00<00:00, 368.88it/s]\n",
      "100%|██████████| 10/10 [00:00<00:00, 2437.84it/s]\n",
      "100%|██████████| 10/10 [00:00<00:00, 303.77it/s]\n",
      "100%|██████████| 10/10 [00:00<00:00, 2432.04it/s]\n",
      "100%|██████████| 10/10 [00:00<00:00, 280.65it/s]\n",
      "100%|██████████| 10/10 [00:00<00:00, 2222.38it/s]\n",
      "  0%|          | 0/10 [00:00<?, ?it/s]"
     ]
    },
    {
     "name": "stdout",
     "output_type": "stream",
     "text": [
      "[0.551219512195122, 339.0, 615]\n",
      "['20170825', '20170825']\n",
      "['20170816', '20170824']\n",
      "[0.5533980582524272, 342.0, 618]\n",
      "['20170826', '20170826']\n",
      "['20170817', '20170825']\n",
      "['20170827', '20170827']\n",
      "['20170818', '20170826']\n",
      "[0.6013400335008375, 359.0, 597]\n",
      "['20170828', '20170828']\n",
      "['20170819', '20170827']\n",
      "['20170829', '20170829']\n",
      "['20170820', '20170828']\n",
      "[0.6013400335008375, 359.0, 597]\n",
      "['20170830', '20170830']\n",
      "['20170821', '20170829']\n"
     ]
    },
    {
     "name": "stderr",
     "output_type": "stream",
     "text": [
      "100%|██████████| 10/10 [00:00<00:00, 308.94it/s]\n",
      "100%|██████████| 10/10 [00:00<00:00, 2257.55it/s]\n",
      "100%|██████████| 10/10 [00:00<00:00, 378.04it/s]\n",
      "100%|██████████| 10/10 [00:00<00:00, 2303.17it/s]\n",
      "100%|██████████| 10/10 [00:00<00:00, 443.59it/s]\n",
      "100%|██████████| 10/10 [00:00<00:00, 2253.79it/s]\n",
      "100%|██████████| 10/10 [00:00<00:00, 425.34it/s]\n",
      "100%|██████████| 10/10 [00:00<00:00, 2482.13it/s]\n",
      "100%|██████████| 10/10 [00:00<00:00, 372.18it/s]\n",
      "100%|██████████| 10/10 [00:00<00:00, 328.66it/s]"
     ]
    },
    {
     "name": "stdout",
     "output_type": "stream",
     "text": [
      "['20170831', '20170831']\n",
      "['20170822', '20170830']\n",
      "[0.5943708609271523, 359.0, 604]\n",
      "['20170901', '20170901']\n",
      "['20170823', '20170831']\n",
      "[0.5700325732899023, 350.0, 614]\n",
      "['20170902', '20170902']\n",
      "['20170824', '20170901']\n",
      "[0.5781758957654723, 355.0, 614]\n",
      "['20170903', '20170903']\n",
      "['20170825', '20170902']\n",
      "['20170904', '20170904']\n",
      "['20170826', '20170903']\n"
     ]
    },
    {
     "name": "stderr",
     "output_type": "stream",
     "text": [
      "\n",
      "100%|██████████| 10/10 [00:00<00:00, 314.67it/s]\n",
      "100%|██████████| 10/10 [00:00<00:00, 2171.53it/s]\n",
      "100%|██████████| 10/10 [00:00<00:00, 2253.06it/s]\n",
      "100%|██████████| 10/10 [00:00<00:00, 3135.69it/s]\n",
      "100%|██████████| 10/10 [00:00<00:00, 320.21it/s]\n",
      "100%|██████████| 10/10 [00:00<00:00, 2337.31it/s]\n",
      "100%|██████████| 10/10 [00:00<00:00, 365.12it/s]\n",
      "100%|██████████| 10/10 [00:00<00:00, 518.42it/s]\n",
      "100%|██████████| 10/10 [00:00<00:00, 2483.75it/s]\n",
      "100%|██████████| 10/10 [00:00<00:00, 3287.33it/s]\n",
      "100%|██████████| 10/10 [00:00<00:00, 405.41it/s]\n",
      "100%|██████████| 10/10 [00:00<00:00, 3249.64it/s]\n",
      "100%|██████████| 10/10 [00:00<00:00, 331.49it/s]\n"
     ]
    },
    {
     "name": "stdout",
     "output_type": "stream",
     "text": [
      "['20170905', '20170905']\n",
      "['20170827', '20170904']\n"
     ]
    },
    {
     "name": "stderr",
     "output_type": "stream",
     "text": [
      "100%|██████████| 10/10 [00:00<00:00, 2418.16it/s]\n"
     ]
    },
    {
     "name": "stdout",
     "output_type": "stream",
     "text": [
      "[0.6294416243654822, 372.0, 591]\n",
      "['20170906', '20170906']\n",
      "['20170828', '20170905']\n"
     ]
    },
    {
     "name": "stderr",
     "output_type": "stream",
     "text": [
      "100%|██████████| 10/10 [00:00<00:00, 314.66it/s]\n",
      "100%|██████████| 10/10 [00:00<00:00, 2341.88it/s]\n",
      "100%|██████████| 10/10 [00:00<00:00, 314.75it/s]\n",
      "100%|██████████| 10/10 [00:00<00:00, 2436.99it/s]\n"
     ]
    },
    {
     "name": "stdout",
     "output_type": "stream",
     "text": [
      "[0.6216666666666667, 373.0, 600]\n",
      "['20170907', '20170907']\n",
      "['20170829', '20170906']\n",
      "[0.6529209621993127, 380.0, 582]\n",
      "['20170908', '20170908']\n",
      "['20170830', '20170907']\n",
      "[0.6151260504201681, 366.0, 595]\n",
      "['20170909', '20170909']\n",
      "['20170831', '20170908']\n",
      "['20170910', '20170910']\n",
      "['20170901', '20170909']\n",
      "[0.6529209621993127, 380.0, 582]\n",
      "['20170911', '20170911']\n",
      "['20170902', '20170910']\n",
      "[0.5918032786885246, 361.0, 610]\n",
      "['20170912', '20170912']\n",
      "['20170903', '20170911']\n",
      "['20170913', '20170913']\n",
      "['20170904', '20170912']\n"
     ]
    },
    {
     "name": "stderr",
     "output_type": "stream",
     "text": [
      "100%|██████████| 10/10 [00:00<00:00, 327.58it/s]\n",
      "100%|██████████| 10/10 [00:00<00:00, 304.54it/s]\n",
      "100%|██████████| 10/10 [00:00<00:00, 2438.27it/s]\n",
      "100%|██████████| 10/10 [00:00<00:00, 2397.43it/s]\n",
      "100%|██████████| 10/10 [00:00<00:00, 378.98it/s]\n",
      "100%|██████████| 10/10 [00:00<00:00, 365.25it/s]\n",
      "100%|██████████| 10/10 [00:00<00:00, 331.31it/s]\n",
      "100%|██████████| 10/10 [00:00<00:00, 2310.78it/s]\n",
      "100%|██████████| 10/10 [00:00<00:00, 2498.25it/s]\n",
      "100%|██████████| 10/10 [00:00<00:00, 2194.36it/s]\n",
      "100%|██████████| 10/10 [00:00<00:00, 301.43it/s]\n",
      "100%|██████████| 10/10 [00:00<00:00, 2146.85it/s]\n",
      "100%|██████████| 10/10 [00:00<00:00, 290.47it/s]\n",
      "100%|██████████| 10/10 [00:00<00:00, 2271.00it/s]\n",
      "100%|██████████| 10/10 [00:00<00:00, 299.72it/s]\n",
      "100%|██████████| 10/10 [00:00<00:00, 2155.57it/s]\n",
      "100%|██████████| 10/10 [00:00<00:00, 333.09it/s]\n",
      "100%|██████████| 10/10 [00:00<00:00, 2210.90it/s]\n",
      "  0%|          | 0/10 [00:00<?, ?it/s]"
     ]
    },
    {
     "name": "stdout",
     "output_type": "stream",
     "text": [
      "[0.6212121212121212, 369.0, 594]\n",
      "['20170914', '20170914']\n",
      "['20170905', '20170913']\n",
      "[0.6290050590219224, 373.0, 593]\n",
      "['20170915', '20170915']\n",
      "['20170906', '20170914']\n",
      "[0.6388415672913118, 375.00000000000006, 587]\n",
      "['20170916', '20170916']\n",
      "['20170907', '20170915']\n",
      "[0.664323374340949, 378.0, 569]\n",
      "['20170917', '20170917']\n",
      "['20170908', '20170916']\n",
      "['20170918', '20170918']\n",
      "['20170909', '20170917']\n"
     ]
    },
    {
     "name": "stderr",
     "output_type": "stream",
     "text": [
      "100%|██████████| 10/10 [00:00<00:00, 376.08it/s]\n",
      "100%|██████████| 10/10 [00:00<00:00, 367.42it/s]\n",
      "100%|██████████| 10/10 [00:00<00:00, 2254.15it/s]\n",
      "100%|██████████| 10/10 [00:00<00:00, 2193.79it/s]\n",
      "100%|██████████| 10/10 [00:00<00:00, 338.57it/s]\n",
      "100%|██████████| 10/10 [00:00<00:00, 2284.98it/s]\n",
      "100%|██████████| 10/10 [00:00<00:00, 392.70it/s]\n",
      "100%|██████████| 10/10 [00:00<00:00, 3240.85it/s]\n"
     ]
    },
    {
     "name": "stdout",
     "output_type": "stream",
     "text": [
      "['20170919', '20170919']\n",
      "['20170910', '20170918']\n",
      "[0.664323374340949, 378.0, 569]\n",
      "['20170920', '20170920']\n",
      "['20170911', '20170919']\n",
      "[0.6256323777403036, 371.0, 593]\n",
      "['20170921', '20170921']\n",
      "['20170912', '20170920']\n",
      "[0.6134453781512605, 365.0, 595]\n",
      "['20170922', '20170922']\n",
      "['20170913', '20170921']\n"
     ]
    },
    {
     "name": "stderr",
     "output_type": "stream",
     "text": [
      "100%|██████████| 10/10 [00:00<00:00, 301.85it/s]\n",
      "100%|██████████| 10/10 [00:00<00:00, 2400.31it/s]\n",
      "100%|██████████| 10/10 [00:00<00:00, 248.67it/s]\n",
      "100%|██████████| 10/10 [00:00<00:00, 2220.27it/s]\n"
     ]
    },
    {
     "name": "stdout",
     "output_type": "stream",
     "text": [
      "[0.5966386554621849, 355.0, 595]\n",
      "['20170923', '20170923']\n",
      "['20170914', '20170922']\n",
      "[0.5966386554621849, 355.0, 595]\n",
      "['20170924', '20170924']\n",
      "['20170915', '20170923']\n",
      "['20170925', '20170925']\n",
      "['20170916', '20170924']\n",
      "['20170926', '20170926']\n",
      "['20170917', '20170925']\n"
     ]
    },
    {
     "name": "stderr",
     "output_type": "stream",
     "text": [
      "100%|██████████| 10/10 [00:00<00:00, 342.68it/s]\n",
      "100%|██████████| 10/10 [00:00<00:00, 2344.50it/s]\n",
      "100%|██████████| 10/10 [00:00<00:00, 467.67it/s]\n",
      "100%|██████████| 10/10 [00:00<00:00, 3226.14it/s]\n",
      "100%|██████████| 10/10 [00:00<00:00, 383.38it/s]\n",
      "100%|██████████| 10/10 [00:00<00:00, 2448.37it/s]\n",
      "100%|██████████| 10/10 [00:00<00:00, 419.54it/s]\n",
      "100%|██████████| 10/10 [00:00<00:00, 3131.48it/s]\n"
     ]
    },
    {
     "name": "stdout",
     "output_type": "stream",
     "text": [
      "[0.5697865353037767, 347.0, 609]\n",
      "['20170927', '20170927']\n",
      "['20170918', '20170926']\n",
      "[0.5938566552901023, 348.0, 586]\n",
      "['20170928', '20170928']\n",
      "['20170919', '20170927']\n",
      "[0.5640599001663894, 339.00000000000006, 601]\n",
      "['20170929', '20170929']\n",
      "['20170920', '20170928']\n"
     ]
    },
    {
     "name": "stderr",
     "output_type": "stream",
     "text": [
      "100%|██████████| 10/10 [00:00<00:00, 314.07it/s]\n",
      "100%|██████████| 10/10 [00:00<00:00, 2335.10it/s]\n",
      "100%|██████████| 10/10 [00:00<00:00, 290.48it/s]\n",
      "100%|██████████| 10/10 [00:00<00:00, 300.39it/s]\n",
      "100%|██████████| 10/10 [00:00<00:00, 2240.79it/s]\n",
      "100%|██████████| 10/10 [00:00<00:00, 2082.68it/s]\n"
     ]
    },
    {
     "name": "stdout",
     "output_type": "stream",
     "text": [
      "[0.5540983606557377, 338.0, 610]\n",
      "['20170930', '20170930']\n",
      "['20170921', '20170929']\n",
      "[0.5938566552901023, 348.0, 586]\n",
      "['20171001', '20171001']\n",
      "['20170922', '20170930']\n",
      "[0.5638474295190713, 340.0, 603]\n",
      "['20171002', '20171002']\n",
      "['20170923', '20171001']\n",
      "[0.5619834710743802, 340.0, 605]\n",
      "['20171003', '20171003']\n",
      "['20170924', '20171002']\n",
      "[0.5544554455445545, 336.00000000000006, 606]\n",
      "['20171004', '20171004']\n",
      "['20170925', '20171003']\n",
      "['20171005', '20171005']\n",
      "['20170926', '20171004']\n",
      "['20171006', '20171006']\n",
      "['20170927', '20171005']\n",
      "['20171007', '20171007']\n",
      "['20170928', '20171006']\n"
     ]
    },
    {
     "name": "stderr",
     "output_type": "stream",
     "text": [
      "100%|██████████| 10/10 [00:00<00:00, 337.14it/s]\n",
      "100%|██████████| 10/10 [00:00<00:00, 2165.47it/s]\n",
      "100%|██████████| 10/10 [00:00<00:00, 373.34it/s]\n",
      "100%|██████████| 10/10 [00:00<00:00, 2230.42it/s]\n",
      "100%|██████████| 10/10 [00:00<00:00, 415.88it/s]\n",
      "100%|██████████| 10/10 [00:00<00:00, 360.71it/s]\n",
      "100%|██████████| 10/10 [00:00<00:00, 2377.18it/s]\n",
      "100%|██████████| 10/10 [00:00<00:00, 2316.53it/s]\n",
      "100%|██████████| 10/10 [00:00<00:00, 319.47it/s]\n",
      "100%|██████████| 10/10 [00:00<00:00, 2224.15it/s]\n",
      "100%|██████████| 10/10 [00:00<00:00, 272.57it/s]\n",
      "100%|██████████| 10/10 [00:00<00:00, 2069.12it/s]\n",
      "100%|██████████| 10/10 [00:00<00:00, 311.25it/s]\n",
      "100%|██████████| 10/10 [00:00<00:00, 2123.81it/s]\n",
      "100%|██████████| 10/10 [00:00<00:00, 268.96it/s]\n",
      "100%|██████████| 10/10 [00:00<00:00, 2198.50it/s]\n",
      "100%|██████████| 10/10 [00:00<00:00, 455.72it/s]\n",
      "100%|██████████| 10/10 [00:00<00:00, 454.11it/s]\n",
      "100%|██████████| 10/10 [00:00<00:00, 2334.84it/s]\n",
      "100%|██████████| 10/10 [00:00<00:00, 2242.22it/s]\n",
      "100%|██████████| 10/10 [00:00<00:00, 329.68it/s]\n"
     ]
    },
    {
     "name": "stdout",
     "output_type": "stream",
     "text": [
      "[0.5533661740558292, 337.0, 609]\n",
      "['20171008', '20171008']\n",
      "['20170929', '20171007']\n",
      "['20171009', '20171009']\n",
      "['20170930', '20171008']\n",
      "['20171011', '20171011']\n",
      "['20171002', '20171010']\n",
      "[0.5619834710743802, 340.0, 605]\n",
      "['20171010', '20171010']\n",
      "['20171001', '20171009']\n",
      "[0.5297906602254429, 329.0, 621]\n",
      "['20171012', '20171012']\n",
      "['20171003', '20171011']\n"
     ]
    },
    {
     "name": "stderr",
     "output_type": "stream",
     "text": [
      "100%|██████████| 10/10 [00:00<00:00, 380.25it/s]\n",
      "100%|██████████| 10/10 [00:00<00:00, 2106.10it/s]\n",
      "100%|██████████| 10/10 [00:00<00:00, 1993.68it/s]\n",
      "100%|██████████| 10/10 [00:00<00:00, 295.94it/s]\n",
      "100%|██████████| 10/10 [00:00<00:00, 2271.73it/s]\n",
      "100%|██████████| 10/10 [00:00<00:00, 298.79it/s]\n",
      "100%|██████████| 10/10 [00:00<00:00, 2033.70it/s]\n"
     ]
    },
    {
     "name": "stdout",
     "output_type": "stream",
     "text": [
      "[0.5308441558441559, 327.00000000000006, 616]\n",
      "['20171013', '20171013']\n",
      "['20171004', '20171012']\n",
      "[0.5136436597110754, 319.99999999999994, 623]\n",
      "['20171014', '20171014']\n",
      "['20171005', '20171013']\n"
     ]
    },
    {
     "name": "stderr",
     "output_type": "stream",
     "text": [
      "100%|██████████| 10/10 [00:00<00:00, 334.03it/s]\n",
      "100%|██████████| 10/10 [00:00<00:00, 2169.84it/s]\n",
      "100%|██████████| 10/10 [00:00<00:00, 385.92it/s]\n",
      "100%|██████████| 10/10 [00:00<00:00, 376.92it/s]\n",
      "100%|██████████| 10/10 [00:00<00:00, 2487.87it/s]\n",
      "100%|██████████| 10/10 [00:00<00:00, 2020.96it/s]\n"
     ]
    },
    {
     "name": "stdout",
     "output_type": "stream",
     "text": [
      "[0.5928449744463373, 348.0, 587]\n",
      "['20171015', '20171015']\n",
      "['20171006', '20171014']\n",
      "['20171016', '20171016']\n",
      "['20171007', '20171015']\n",
      "['20171017', '20171017']\n",
      "['20171008', '20171016']\n"
     ]
    },
    {
     "name": "stderr",
     "output_type": "stream",
     "text": [
      "100%|██████████| 10/10 [00:00<00:00, 340.64it/s]\n",
      "100%|██████████| 10/10 [00:00<00:00, 2403.75it/s]\n"
     ]
    },
    {
     "name": "stdout",
     "output_type": "stream",
     "text": [
      "[0.5928449744463373, 348.0, 587]\n",
      "['20171018', '20171018']\n",
      "['20171009', '20171017']\n"
     ]
    },
    {
     "name": "stderr",
     "output_type": "stream",
     "text": [
      "100%|██████████| 10/10 [00:00<00:00, 292.89it/s]\n",
      "100%|██████████| 10/10 [00:00<00:00, 2255.73it/s]\n"
     ]
    },
    {
     "name": "stdout",
     "output_type": "stream",
     "text": [
      "[0.5893155258764607, 353.0, 599]\n",
      "['20171019', '20171019']\n",
      "['20171010', '20171018']\n",
      "[0.5690515806988353, 342.00000000000006, 601]\n",
      "['20171020', '20171020']\n",
      "['20171011', '20171019']\n",
      "[0.6462346760070052, 369.0, 571]\n",
      "['20171021', '20171021']\n",
      "['20171012', '20171020']\n"
     ]
    },
    {
     "name": "stderr",
     "output_type": "stream",
     "text": [
      "100%|██████████| 10/10 [00:00<00:00, 305.87it/s]\n",
      "100%|██████████| 10/10 [00:00<00:00, 2422.07it/s]\n",
      "100%|██████████| 10/10 [00:00<00:00, 387.63it/s]\n",
      "100%|██████████| 10/10 [00:00<00:00, 248.24it/s]\n",
      "100%|██████████| 10/10 [00:00<00:00, 2416.49it/s]\n",
      "100%|██████████| 10/10 [00:00<00:00, 2199.77it/s]\n",
      "100%|██████████| 10/10 [00:00<00:00, 444.42it/s]\n",
      "100%|██████████| 10/10 [00:00<00:00, 2457.84it/s]\n",
      "100%|██████████| 10/10 [00:00<00:00, 443.64it/s]\n",
      "100%|██████████| 10/10 [00:00<00:00, 378.93it/s]\n",
      "100%|██████████| 10/10 [00:00<00:00, 2411.35it/s]\n",
      "100%|██████████| 10/10 [00:00<00:00, 2414.40it/s]\n",
      "100%|██████████| 10/10 [00:00<00:00, 335.61it/s]\n",
      "100%|██████████| 10/10 [00:00<00:00, 2271.73it/s]\n",
      "100%|██████████| 10/10 [00:00<00:00, 331.44it/s]\n",
      "  0%|          | 0/10 [00:00<?, ?it/s]"
     ]
    },
    {
     "name": "stdout",
     "output_type": "stream",
     "text": [
      "[0.6462346760070052, 369.0, 571]\n",
      "['20171022', '20171022']\n",
      "['20171013', '20171021']\n",
      "['20171023', '20171023']\n",
      "['20171014', '20171022']\n",
      "['20171024', '20171024']\n",
      "['20171015', '20171023']\n",
      "[0.6153846153846154, 360.0, 585]\n",
      "['20171025', '20171025']\n",
      "['20171016', '20171024']\n",
      "['20171026', '20171026']\n",
      "['20171017', '20171025']\n"
     ]
    },
    {
     "name": "stderr",
     "output_type": "stream",
     "text": [
      "100%|██████████| 10/10 [00:00<00:00, 2312.82it/s]\n",
      "100%|██████████| 10/10 [00:00<00:00, 330.25it/s]\n",
      "100%|██████████| 10/10 [00:00<00:00, 2105.79it/s]\n",
      "100%|██████████| 10/10 [00:00<00:00, 356.82it/s]\n"
     ]
    },
    {
     "name": "stdout",
     "output_type": "stream",
     "text": [
      "[0.6329787234042553, 357.0, 564]\n",
      "['20171027', '20171027']\n",
      "['20171018', '20171026']\n",
      "[0.6016806722689075, 358.0, 595]\n",
      "['20171028', '20171028']\n",
      "['20171019', '20171027']\n",
      "['20171029', '20171029']\n",
      "['20171020', '20171028']\n",
      "[0.6329787234042553, 357.0, 564]\n",
      "['20171030', '20171030']\n",
      "['20171021', '20171029']\n"
     ]
    },
    {
     "name": "stderr",
     "output_type": "stream",
     "text": [
      "100%|██████████| 10/10 [00:00<00:00, 2083.40it/s]\n",
      "100%|██████████| 10/10 [00:00<00:00, 445.43it/s]\n",
      "100%|██████████| 10/10 [00:00<00:00, 2281.99it/s]\n",
      "100%|██████████| 10/10 [00:00<00:00, 359.31it/s]\n",
      "100%|██████████| 10/10 [00:00<00:00, 2197.01it/s]\n",
      "100%|██████████| 10/10 [00:00<00:00, 321.04it/s]\n",
      "100%|██████████| 10/10 [00:00<00:00, 282.23it/s]\n",
      "100%|██████████| 10/10 [00:00<00:00, 286.57it/s]\n"
     ]
    },
    {
     "name": "stdout",
     "output_type": "stream",
     "text": [
      "[0.583904109589041, 340.99999999999994, 584]\n",
      "['20171031', '20171031']\n",
      "['20171022', '20171030']\n",
      "[0.5487012987012987, 338.0, 616]\n",
      "['20171101', '20171101']\n",
      "['20171023', '20171031']\n",
      "['20171102', '20171102']\n",
      "['20171024', '20171101']\n",
      "[0.6363636363636364, 364.0, 572]\n",
      "['20171103', '20171103']\n",
      "['20171025', '20171102']\n",
      "[0.5864406779661017, 346.0, 590]\n",
      "['20171104', '20171104']\n",
      "['20171026', '20171103']\n",
      "[0.5426731078904992, 337.0, 621]\n",
      "['20171105', '20171105']\n",
      "['20171027', '20171104']\n",
      "['20171106', '20171106']\n",
      "['20171028', '20171105']\n"
     ]
    },
    {
     "name": "stderr",
     "output_type": "stream",
     "text": [
      "100%|██████████| 10/10 [00:00<00:00, 2007.04it/s]\n",
      "100%|██████████| 10/10 [00:00<00:00, 2067.08it/s]\n",
      "100%|██████████| 10/10 [00:00<00:00, 2121.44it/s]\n",
      "100%|██████████| 10/10 [00:00<00:00, 156.70it/s]\n",
      "100%|██████████| 10/10 [00:00<00:00, 149.13it/s]\n",
      "100%|██████████| 10/10 [00:00<00:00, 2121.87it/s]\n",
      "100%|██████████| 10/10 [00:00<00:00, 2074.54it/s]\n",
      "100%|██████████| 10/10 [00:00<00:00, 365.13it/s]\n",
      "100%|██████████| 10/10 [00:00<00:00, 2291.34it/s]\n",
      "100%|██████████| 10/10 [00:00<00:00, 356.20it/s]\n",
      "100%|██████████| 10/10 [00:00<00:00, 2375.84it/s]\n"
     ]
    },
    {
     "name": "stdout",
     "output_type": "stream",
     "text": [
      "['20171107', '20171107']\n",
      "['20171029', '20171106']\n"
     ]
    },
    {
     "name": "stderr",
     "output_type": "stream",
     "text": [
      "100%|██████████| 10/10 [00:00<00:00, 335.75it/s]\n",
      "100%|██████████| 10/10 [00:00<00:00, 2089.00it/s]\n"
     ]
    },
    {
     "name": "stdout",
     "output_type": "stream",
     "text": [
      "[0.556836902800659, 338.0, 607]\n",
      "['20171108', '20171108']\n",
      "['20171030', '20171107']\n"
     ]
    },
    {
     "name": "stderr",
     "output_type": "stream",
     "text": [
      "100%|██████████| 10/10 [00:00<00:00, 282.43it/s]\n",
      "100%|██████████| 10/10 [00:00<00:00, 1861.16it/s]\n"
     ]
    },
    {
     "name": "stdout",
     "output_type": "stream",
     "text": [
      "[0.583904109589041, 340.99999999999994, 584]\n",
      "['20171109', '20171109']\n",
      "['20171031', '20171108']\n"
     ]
    },
    {
     "name": "stderr",
     "output_type": "stream",
     "text": [
      "100%|██████████| 10/10 [00:00<00:00, 308.86it/s]\n",
      "100%|██████████| 10/10 [00:00<00:00, 2168.50it/s]\n"
     ]
    },
    {
     "name": "stdout",
     "output_type": "stream",
     "text": [
      "[0.5586776859504132, 338.0, 605]\n",
      "['20171110', '20171110']\n",
      "['20171101', '20171109']\n"
     ]
    },
    {
     "name": "stderr",
     "output_type": "stream",
     "text": [
      "100%|██████████| 10/10 [00:00<00:00, 278.21it/s]\n",
      "100%|██████████| 10/10 [00:00<00:00, 2398.66it/s]\n"
     ]
    },
    {
     "name": "stdout",
     "output_type": "stream",
     "text": [
      "[0.64568345323741, 359.0, 556]\n",
      "['20171111', '20171111']\n",
      "['20171102', '20171110']\n",
      "['20171112', '20171112']\n",
      "['20171103', '20171111']\n",
      "[0.64568345323741, 359.0, 556]\n",
      "['20171113', '20171113']\n",
      "['20171104', '20171112']\n"
     ]
    },
    {
     "name": "stderr",
     "output_type": "stream",
     "text": [
      "100%|██████████| 10/10 [00:00<00:00, 341.35it/s]\n",
      "100%|██████████| 10/10 [00:00<00:00, 2528.52it/s]\n",
      "100%|██████████| 10/10 [00:00<00:00, 382.44it/s]\n",
      "100%|██████████| 10/10 [00:00<00:00, 2632.79it/s]\n",
      "100%|██████████| 10/10 [00:00<00:00, 396.47it/s]\n",
      "100%|██████████| 10/10 [00:00<00:00, 2226.63it/s]\n",
      "  0%|          | 0/10 [00:00<?, ?it/s]"
     ]
    },
    {
     "name": "stdout",
     "output_type": "stream",
     "text": [
      "['20171114', '20171114']\n",
      "['20171105', '20171113']\n",
      "[0.6090750436300174, 349.0, 573]\n",
      "['20171115', '20171115']\n",
      "['20171106', '20171114']\n",
      "[0.5481239804241436, 336.0, 613]\n",
      "['20171116', '20171116']\n",
      "['20171107', '20171115']\n"
     ]
    },
    {
     "name": "stderr",
     "output_type": "stream",
     "text": [
      "100%|██████████| 10/10 [00:00<00:00, 331.98it/s]\n",
      "100%|██████████| 10/10 [00:00<00:00, 2437.27it/s]\n",
      "100%|██████████| 10/10 [00:00<00:00, 232.38it/s]\n",
      "100%|██████████| 10/10 [00:00<00:00, 2165.92it/s]\n",
      "100%|██████████| 10/10 [00:00<00:00, 153.37it/s]\n",
      "100%|██████████| 10/10 [00:00<00:00, 2075.05it/s]\n",
      "100%|██████████| 10/10 [00:00<00:00, 262.90it/s]\n",
      "100%|██████████| 10/10 [00:00<00:00, 274.91it/s]\n",
      "100%|██████████| 10/10 [00:00<00:00, 2127.58it/s]\n",
      "100%|██████████| 10/10 [00:00<00:00, 2106.63it/s]\n",
      "100%|██████████| 10/10 [00:00<00:00, 383.00it/s]\n",
      "100%|██████████| 10/10 [00:00<00:00, 2112.04it/s]\n",
      "  0%|          | 0/10 [00:00<?, ?it/s]"
     ]
    },
    {
     "name": "stdout",
     "output_type": "stream",
     "text": [
      "[0.5784982935153583, 338.99999999999994, 586]\n",
      "['20171117', '20171117']\n",
      "['20171108', '20171116']\n",
      "[0.5888324873096447, 348.0, 591]\n",
      "['20171118', '20171118']\n",
      "['20171109', '20171117']\n",
      "[0.5888324873096447, 348.0, 591]\n",
      "['20171119', '20171119']\n",
      "['20171110', '20171118']\n",
      "['20171120', '20171120']\n",
      "['20171111', '20171119']\n",
      "[0.5503246753246753, 339.0, 616]\n",
      "['20171121', '20171121']\n",
      "['20171112', '20171120']\n",
      "[0.5420711974110033, 335.00000000000006, 618]\n",
      "['20171122', '20171122']\n",
      "['20171113', '20171121']\n"
     ]
    },
    {
     "name": "stderr",
     "output_type": "stream",
     "text": [
      "100%|██████████| 10/10 [00:00<00:00, 300.91it/s]\n",
      "100%|██████████| 10/10 [00:00<00:00, 218.11it/s]\n",
      "100%|██████████| 10/10 [00:00<00:00, 1897.70it/s]\n",
      "100%|██████████| 10/10 [00:00<00:00, 1501.13it/s]\n",
      "100%|██████████| 10/10 [00:00<00:00, 291.96it/s]\n",
      "100%|██████████| 10/10 [00:00<00:00, 259.17it/s]\n",
      "100%|██████████| 10/10 [00:00<00:00, 2183.96it/s]\n",
      "100%|██████████| 10/10 [00:00<00:00, 291.16it/s]]\n",
      "\n",
      "100%|██████████| 10/10 [00:00<00:00, 315.30it/s]\n",
      "100%|██████████| 10/10 [00:00<00:00, 1989.90it/s]\n",
      "100%|██████████| 10/10 [00:00<00:00, 2087.03it/s]\n",
      "100%|██████████| 10/10 [00:00<00:00, 353.53it/s]\n"
     ]
    },
    {
     "name": "stdout",
     "output_type": "stream",
     "text": [
      "['20171123', '20171123']\n",
      "['20171114', '20171122']\n",
      "[0.5348460291734197, 329.99999999999994, 617]\n",
      "['20171124', '20171124']\n",
      "['20171115', '20171123']\n",
      "[0.5481239804241436, 336.0, 613]\n",
      "['20171125', '20171125']\n",
      "['20171116', '20171124']\n",
      "[0.5989492119089317, 342.0, 571]\n",
      "['20171126', '20171126']\n",
      "['20171117', '20171125']\n",
      "['20171127', '20171127']\n",
      "['20171118', '20171126']\n"
     ]
    },
    {
     "name": "stderr",
     "output_type": "stream",
     "text": [
      "100%|██████████| 10/10 [00:00<00:00, 2122.84it/s]\n",
      "100%|██████████| 10/10 [00:00<00:00, 350.85it/s]\n",
      "100%|██████████| 10/10 [00:00<00:00, 2376.91it/s]\n",
      "100%|██████████| 10/10 [00:00<00:00, 332.06it/s]\n",
      "100%|██████████| 10/10 [00:00<00:00, 2067.18it/s]\n",
      "  0%|          | 0/10 [00:00<?, ?it/s]"
     ]
    },
    {
     "name": "stdout",
     "output_type": "stream",
     "text": [
      "['20171128', '20171128']\n",
      "['20171119', '20171127']\n",
      "[0.5303514376996805, 332.0, 626]\n",
      "['20171129', '20171129']\n",
      "['20171120', '20171128']\n"
     ]
    },
    {
     "name": "stderr",
     "output_type": "stream",
     "text": [
      "100%|██████████| 10/10 [00:00<00:00, 286.64it/s]\n",
      "100%|██████████| 10/10 [00:00<00:00, 1990.37it/s]\n",
      "100%|██████████| 10/10 [00:00<00:00, 301.03it/s]\n",
      "100%|██████████| 10/10 [00:00<00:00, 2086.20it/s]\n"
     ]
    },
    {
     "name": "stdout",
     "output_type": "stream",
     "text": [
      "[0.5333333333333333, 336.0, 630]\n",
      "['20171130', '20171130']\n",
      "['20171121', '20171129']\n",
      "[0.0, 0.0, 605]\n",
      "['20171201', '20171201']\n",
      "['20171122', '20171130']\n",
      "[0.0, 0.0, 592]\n",
      "['20171202', '20171202']\n",
      "['20171123', '20171201']\n",
      "[0.0, 0.0, 592]\n",
      "['20171203', '20171203']\n",
      "['20171124', '20171202']\n"
     ]
    },
    {
     "name": "stderr",
     "output_type": "stream",
     "text": [
      "100%|██████████| 10/10 [00:00<00:00, 277.97it/s]\n",
      "100%|██████████| 10/10 [00:00<00:00, 2049.50it/s]\n",
      "100%|██████████| 10/10 [00:00<00:00, 321.41it/s]\n",
      "100%|██████████| 10/10 [00:00<00:00, 345.34it/s]\n",
      "100%|██████████| 10/10 [00:00<00:00, 2059.77it/s]\n",
      "100%|██████████| 10/10 [00:00<00:00, 1177.15it/s]\n",
      "100%|██████████| 10/10 [00:00<00:00, 363.52it/s]\n",
      "100%|██████████| 10/10 [00:00<00:00, 323.36it/s]\n",
      "100%|██████████| 10/10 [00:00<00:00, 2248.59it/s]\n",
      "100%|██████████| 10/10 [00:00<00:00, 2250.40it/s]\n",
      "  0%|          | 0/10 [00:00<?, ?it/s]"
     ]
    },
    {
     "name": "stdout",
     "output_type": "stream",
     "text": [
      "[0.0, 0.0, 611]\n",
      "['20171204', '20171204']\n",
      "['20171125', '20171203']\n",
      "[0.0, 0.0, 609]\n",
      "['20171205', '20171205']\n",
      "['20171126', '20171204']\n",
      "['20171206', '20171206']\n",
      "['20171127', '20171205']\n",
      "[0.0, 0.0, 612]\n",
      "['20171207', '20171207']\n",
      "['20171128', '20171206']\n",
      "['20171208', '20171208']\n",
      "['20171129', '20171207']\n"
     ]
    },
    {
     "name": "stderr",
     "output_type": "stream",
     "text": [
      "100%|██████████| 10/10 [00:00<00:00, 287.16it/s]\n",
      "100%|██████████| 10/10 [00:00<00:00, 2102.30it/s]\n",
      "100%|██████████| 10/10 [00:00<00:00, 231.31it/s]\n",
      "100%|██████████| 10/10 [00:00<00:00, 2263.77it/s]\n",
      "100%|██████████| 10/10 [00:00<00:00, 134.26it/s]\n",
      "100%|██████████| 10/10 [00:00<00:00, 480.04it/s]\n",
      "100%|██████████| 10/10 [00:00<00:00, 244.08it/s]\n",
      "100%|██████████| 10/10 [00:00<00:00, 2356.48it/s]\n",
      "100%|██████████| 10/10 [00:00<00:00, 389.35it/s]\n",
      "100%|██████████| 10/10 [00:00<00:00, 2447.37it/s]\n"
     ]
    },
    {
     "name": "stdout",
     "output_type": "stream",
     "text": [
      "[0.5398089171974523, 339.00000000000006, 628]\n",
      "['20171209', '20171209']\n",
      "['20171130', '20171208']\n",
      "['20171210', '20171210']\n",
      "['20171201', '20171209']\n",
      "['20171211', '20171211']\n",
      "['20171202', '20171210']\n",
      "[0.5891341256366723, 347.0, 589]\n",
      "['20171212', '20171212']\n",
      "['20171203', '20171211']\n"
     ]
    },
    {
     "name": "stderr",
     "output_type": "stream",
     "text": [
      "100%|██████████| 10/10 [00:00<00:00, 407.14it/s]\n",
      "100%|██████████| 10/10 [00:00<00:00, 2582.22it/s]\n",
      "100%|██████████| 10/10 [00:00<00:00, 354.08it/s]\n",
      "100%|██████████| 10/10 [00:00<00:00, 2306.59it/s]\n"
     ]
    },
    {
     "name": "stdout",
     "output_type": "stream",
     "text": [
      "[0.5891341256366723, 347.0, 589]\n",
      "['20171213', '20171213']\n",
      "['20171204', '20171212']\n",
      "[0.5548281505728314, 339.0, 611]\n",
      "['20171214', '20171214']\n",
      "['20171205', '20171213']\n"
     ]
    },
    {
     "name": "stderr",
     "output_type": "stream",
     "text": [
      "100%|██████████| 10/10 [00:00<00:00, 168.77it/s]\n",
      "100%|██████████| 10/10 [00:00<00:00, 2241.50it/s]\n",
      "100%|██████████| 10/10 [00:00<00:00, 312.17it/s]\n",
      "100%|██████████| 10/10 [00:00<00:00, 2302.41it/s]\n"
     ]
    },
    {
     "name": "stdout",
     "output_type": "stream",
     "text": [
      "[0.545751633986928, 333.99999999999994, 612]\n",
      "['20171215', '20171215']\n",
      "['20171206', '20171214']\n",
      "[0.5481727574750831, 330.0, 602]\n",
      "['20171216', '20171216']\n",
      "['20171207', '20171215']\n"
     ]
    },
    {
     "name": "stderr",
     "output_type": "stream",
     "text": [
      "100%|██████████| 10/10 [00:00<00:00, 315.33it/s]\n",
      "100%|██████████| 10/10 [00:00<00:00, 2263.28it/s]\n",
      "100%|██████████| 10/10 [00:00<00:00, 353.82it/s]\n",
      "100%|██████████| 10/10 [00:00<00:00, 2420.68it/s]\n",
      "100%|██████████| 10/10 [00:00<00:00, 397.18it/s]\n",
      "100%|██████████| 10/10 [00:00<00:00, 244.39it/s]\n",
      "100%|██████████| 10/10 [00:00<00:00, 2161.01it/s]\n",
      "100%|██████████| 10/10 [00:00<00:00, 2158.34it/s]\n",
      "  0%|          | 0/10 [00:00<?, ?it/s]"
     ]
    },
    {
     "name": "stdout",
     "output_type": "stream",
     "text": [
      "[0.5721561969439728, 337.0, 589]\n",
      "['20171217', '20171217']\n",
      "['20171208', '20171216']\n",
      "['20171218', '20171218']\n",
      "['20171209', '20171217']\n",
      "['20171219', '20171219']\n",
      "['20171210', '20171218']\n"
     ]
    },
    {
     "name": "stderr",
     "output_type": "stream",
     "text": [
      "100%|██████████| 10/10 [00:00<00:00, 346.99it/s]\n",
      "100%|██████████| 10/10 [00:00<00:00, 2094.53it/s]\n",
      "100%|██████████| 10/10 [00:00<00:00, 234.22it/s]\n",
      "100%|██████████| 10/10 [00:00<00:00, 2168.83it/s]\n",
      "100%|██████████| 10/10 [00:00<00:00, 207.42it/s]\n",
      "100%|██████████| 10/10 [00:00<00:00, 2261.81it/s]\n",
      "100%|██████████| 10/10 [00:00<00:00, 311.44it/s]\n",
      "  0%|          | 0/10 [00:00<?, ?it/s]"
     ]
    },
    {
     "name": "stdout",
     "output_type": "stream",
     "text": [
      "[0.5527638190954773, 329.99999999999994, 597]\n",
      "['20171220', '20171220']\n",
      "['20171211', '20171219']\n",
      "[0.5252854812398042, 322.0, 613]\n",
      "['20171221', '20171221']\n",
      "['20171212', '20171220']\n",
      "[0.5721561969439728, 337.0, 589]\n",
      "['20171222', '20171222']\n",
      "['20171213', '20171221']\n",
      "[0.5553691275167785, 330.99999999999994, 596]\n",
      "['20171223', '20171223']\n",
      "['20171214', '20171222']\n"
     ]
    },
    {
     "name": "stderr",
     "output_type": "stream",
     "text": [
      "100%|██████████| 10/10 [00:00<00:00, 2260.47it/s]\n",
      "100%|██████████| 10/10 [00:00<00:00, 348.59it/s]\n",
      "100%|██████████| 10/10 [00:00<00:00, 2170.74it/s]\n",
      "100%|██████████| 10/10 [00:00<00:00, 395.00it/s]\n",
      "100%|██████████| 10/10 [00:00<00:00, 2241.74it/s]\n",
      "100%|██████████| 10/10 [00:00<00:00, 465.21it/s]\n"
     ]
    },
    {
     "name": "stdout",
     "output_type": "stream",
     "text": [
      "[0.5325732899022801, 327.0, 614]\n",
      "['20171224', '20171224']\n",
      "['20171215', '20171223']\n",
      "['20171225', '20171225']\n",
      "['20171216', '20171224']\n",
      "['20171227', '20171227']\n",
      "['20171218', '20171226']\n",
      "[0.5382113821138211, 331.0, 615]\n",
      "['20171226', '20171226']\n",
      "['20171217', '20171225']\n"
     ]
    },
    {
     "name": "stderr",
     "output_type": "stream",
     "text": [
      "100%|██████████| 10/10 [00:00<00:00, 392.28it/s]\n",
      "100%|██████████| 10/10 [00:00<00:00, 2141.37it/s]\n",
      "100%|██████████| 10/10 [00:00<00:00, 2359.80it/s]\n",
      "100%|██████████| 10/10 [00:00<00:00, 172.55it/s]\n",
      "100%|██████████| 10/10 [00:00<00:00, 2333.54it/s]\n",
      "100%|██████████| 10/10 [00:00<00:00, 347.67it/s]\n",
      "100%|██████████| 10/10 [00:00<00:00, 2155.68it/s]\n"
     ]
    },
    {
     "name": "stdout",
     "output_type": "stream",
     "text": [
      "['20171228', '20171228']\n",
      "['20171219', '20171227']\n",
      "[0.5553691275167785, 330.99999999999994, 596]\n",
      "['20171229', '20171229']\n",
      "['20171220', '20171228']\n"
     ]
    },
    {
     "name": "stderr",
     "output_type": "stream",
     "text": [
      "100%|██████████| 10/10 [00:00<00:00, 333.48it/s]\n",
      "100%|██████████| 10/10 [00:00<00:00, 2056.74it/s]\n"
     ]
    },
    {
     "name": "stdout",
     "output_type": "stream",
     "text": [
      "[0.5384615384615384, 329.0, 611]\n",
      "['20171230', '20171230']\n",
      "['20171221', '20171229']\n",
      "['20171231', '20171231']\n",
      "['20171222', '20171230']\n",
      "[0.583756345177665, 345.0, 591]\n",
      "['20180101', '20180101']\n",
      "['20171223', '20171231']\n"
     ]
    },
    {
     "name": "stderr",
     "output_type": "stream",
     "text": [
      "100%|██████████| 10/10 [00:00<00:00, 382.68it/s]\n",
      "100%|██████████| 10/10 [00:00<00:00, 2160.34it/s]\n",
      "100%|██████████| 10/10 [00:00<00:00, 445.33it/s]\n",
      "\n",
      "100%|██████████| 10/10 [00:00<00:00, 2196.09it/s]\n",
      "\n",
      "100%|██████████| 10/10 [00:00<00:00, 373.36it/s]\n",
      "100%|██████████| 10/10 [00:00<00:00, 2241.27it/s]\n",
      "100%|██████████| 10/10 [00:00<00:00, 342.83it/s]\n",
      "100%|██████████| 10/10 [00:00<00:00, 2249.80it/s]\n",
      "100%|██████████| 10/10 [00:00<00:00, 307.80it/s]\n",
      "100%|██████████| 10/10 [00:00<00:00, 2197.35it/s]\n"
     ]
    },
    {
     "name": "stdout",
     "output_type": "stream",
     "text": [
      "[0.583756345177665, 345.0, 591]\n",
      "['20180102', '20180102']\n",
      "['20171224', '20180101']\n",
      "['20180103', '20180103']\n",
      "['20171225', '20180102']\n",
      "[0.5529801324503312, 334.00000000000006, 604]\n",
      "['20180104', '20180104']\n",
      "['20171226', '20180103']\n",
      "[0.5441176470588235, 333.0, 612]\n",
      "['20180105', '20180105']\n",
      "['20171227', '20180104']\n",
      "[0.5475409836065573, 334.0, 610]\n",
      "['20180106', '20180106']\n",
      "['20171228', '20180105']\n"
     ]
    },
    {
     "name": "stderr",
     "output_type": "stream",
     "text": [
      "100%|██████████| 10/10 [00:00<00:00, 320.07it/s]\n",
      "100%|██████████| 10/10 [00:00<00:00, 2275.31it/s]\n",
      "100%|██████████| 10/10 [00:00<00:00, 186.37it/s]\n",
      "100%|██████████| 10/10 [00:00<00:00, 2301.78it/s]\n"
     ]
    },
    {
     "name": "stdout",
     "output_type": "stream",
     "text": [
      "['20180107', '20180107']\n",
      "['20171229', '20180106']\n",
      "['20180108', '20180108']\n",
      "['20171230', '20180107']\n"
     ]
    },
    {
     "name": "stderr",
     "output_type": "stream",
     "text": [
      "100%|██████████| 10/10 [00:00<00:00, 410.98it/s]\n",
      "100%|██████████| 10/10 [00:00<00:00, 2319.86it/s]\n",
      "100%|██████████| 10/10 [00:00<00:00, 410.68it/s]\n",
      "100%|██████████| 10/10 [00:00<00:00, 2391.28it/s]\n"
     ]
    },
    {
     "name": "stdout",
     "output_type": "stream",
     "text": [
      "[0.5965811965811966, 349.0, 585]\n",
      "['20180109', '20180109']\n",
      "['20171231', '20180108']\n",
      "[0.5966386554621849, 355.0, 595]\n",
      "['20180110', '20180110']\n",
      "['20180101', '20180109']\n"
     ]
    },
    {
     "name": "stderr",
     "output_type": "stream",
     "text": [
      "100%|██████████| 10/10 [00:00<00:00, 337.20it/s]\n",
      "100%|██████████| 10/10 [00:00<00:00, 2141.04it/s]\n",
      "100%|██████████| 10/10 [00:00<00:00, 310.64it/s]\n",
      "100%|██████████| 10/10 [00:00<00:00, 2258.04it/s]\n"
     ]
    },
    {
     "name": "stdout",
     "output_type": "stream",
     "text": [
      "[0.5592105263157895, 340.0, 608]\n",
      "['20180111', '20180111']\n",
      "['20180102', '20180110']\n",
      "[0.5965811965811966, 349.0, 585]\n",
      "['20180112', '20180112']\n",
      "['20180103', '20180111']\n"
     ]
    },
    {
     "name": "stderr",
     "output_type": "stream",
     "text": [
      "100%|██████████| 10/10 [00:00<00:00, 297.48it/s]\n",
      "100%|██████████| 10/10 [00:00<00:00, 1964.82it/s]\n",
      "100%|██████████| 10/10 [00:00<00:00, 321.92it/s]\n",
      "100%|██████████| 10/10 [00:00<00:00, 2138.86it/s]\n"
     ]
    },
    {
     "name": "stdout",
     "output_type": "stream",
     "text": [
      "[0.5668896321070234, 339.0, 598]\n",
      "['20180113', '20180113']\n",
      "['20180104', '20180112']\n",
      "[0.5668896321070234, 339.0, 598]\n",
      "['20180114', '20180114']\n",
      "['20180105', '20180113']\n",
      "[0.6086956521739131, 350.0, 575]\n",
      "['20180115', '20180115']\n",
      "['20180106', '20180114']\n",
      "[0.5590682196339434, 335.99999999999994, 601]\n",
      "['20180116', '20180116']\n",
      "['20180107', '20180115']\n",
      "['20180117', '20180117']\n",
      "['20180108', '20180116']\n",
      "['20180118', '20180118']\n",
      "['20180109', '20180117']\n"
     ]
    },
    {
     "name": "stderr",
     "output_type": "stream",
     "text": [
      "100%|██████████| 10/10 [00:00<00:00, 362.19it/s]\n",
      "100%|██████████| 10/10 [00:00<00:00, 2310.15it/s]\n",
      "100%|██████████| 10/10 [00:00<00:00, 396.34it/s]\n",
      "100%|██████████| 10/10 [00:00<00:00, 2349.75it/s]\n",
      "100%|██████████| 10/10 [00:00<00:00, 344.67it/s]\n",
      "100%|██████████| 10/10 [00:00<00:00, 2050.20it/s]\n",
      "100%|██████████| 10/10 [00:00<00:00, 178.27it/s]\n",
      "100%|██████████| 10/10 [00:00<00:00, 279.08it/s]\n",
      "100%|██████████| 10/10 [00:00<00:00, 2247.03it/s]\n",
      "  0%|          | 0/10 [00:00<?, ?it/s]\n",
      "100%|██████████| 10/10 [00:00<00:00, 2083.09it/s]\n",
      "100%|██████████| 10/10 [00:00<00:00, 2037.36it/s]\n"
     ]
    },
    {
     "name": "stdout",
     "output_type": "stream",
     "text": [
      "[0.5733333333333334, 344.0, 600]\n",
      "['20180119', '20180119']\n",
      "['20180110', '20180118']\n",
      "[0.5702341137123745, 341.0, 598]\n",
      "['20180120', '20180120']\n",
      "['20180111', '20180119']\n",
      "[0.5659432387312187, 339.0, 599]\n",
      "['20180121', '20180121']\n",
      "['20180112', '20180120']\n",
      "['20180122', '20180122']\n",
      "['20180113', '20180121']\n",
      "['20180123', '20180123']\n",
      "['20180114', '20180122']\n"
     ]
    },
    {
     "name": "stderr",
     "output_type": "stream",
     "text": [
      "100%|██████████| 10/10 [00:00<00:00, 205.32it/s]\n",
      "100%|██████████| 10/10 [00:00<00:00, 274.95it/s]\n",
      "100%|██████████| 10/10 [00:00<00:00, 2045.10it/s]\n",
      "100%|██████████| 10/10 [00:00<00:00, 2124.13it/s]\n",
      "100%|██████████| 10/10 [00:00<00:00, 395.30it/s]\n",
      "100%|██████████| 10/10 [00:00<00:00, 2301.15it/s]\n",
      "100%|██████████| 10/10 [00:00<00:00, 405.72it/s]\n",
      "100%|██████████| 10/10 [00:00<00:00, 2173.67it/s]\n",
      "100%|██████████| 10/10 [00:00<00:00, 310.54it/s]\n",
      "100%|██████████| 10/10 [00:00<00:00, 2256.22it/s]\n"
     ]
    },
    {
     "name": "stdout",
     "output_type": "stream",
     "text": [
      "[0.5289389067524116, 329.0, 622]\n",
      "['20180124', '20180124']\n",
      "['20180115', '20180123']\n",
      "[0.6086956521739131, 350.0, 575]\n",
      "['20180125', '20180125']\n",
      "['20180116', '20180124']\n",
      "[0.5353697749196141, 333.0, 622]\n",
      "['20180126', '20180126']\n",
      "['20180117', '20180125']\n"
     ]
    },
    {
     "name": "stderr",
     "output_type": "stream",
     "text": [
      "100%|██████████| 10/10 [00:00<00:00, 312.86it/s]\n",
      "100%|██████████| 10/10 [00:00<00:00, 2068.40it/s]\n",
      "100%|██████████| 10/10 [00:00<00:00, 156.44it/s]\n",
      "100%|██████████| 10/10 [00:00<00:00, 2266.46it/s]\n",
      "100%|██████████| 10/10 [00:00<00:00, 357.03it/s]\n",
      "100%|██████████| 10/10 [00:00<00:00, 2257.43it/s]\n",
      "100%|██████████| 10/10 [00:00<00:00, 411.92it/s]\n",
      "100%|██████████| 10/10 [00:00<00:00, 2410.94it/s]\n",
      "100%|██████████| 10/10 [00:00<00:00, 467.60it/s]\n",
      "  0%|          | 0/10 [00:00<?, ?it/s]"
     ]
    },
    {
     "name": "stdout",
     "output_type": "stream",
     "text": [
      "['20180127', '20180127']\n",
      "['20180118', '20180126']\n",
      "[0.5524590163934426, 337.0, 610]\n",
      "['20180128', '20180128']\n",
      "['20180119', '20180127']\n",
      "['20180129', '20180129']\n",
      "['20180120', '20180128']\n",
      "['20180130', '20180130']\n",
      "['20180121', '20180129']\n"
     ]
    },
    {
     "name": "stderr",
     "output_type": "stream",
     "text": [
      "100%|██████████| 10/10 [00:00<00:00, 1703.75it/s]\n",
      "100%|██████████| 10/10 [00:00<00:00, 448.05it/s]\n",
      "100%|██████████| 10/10 [00:00<00:00, 2376.51it/s]\n",
      "100%|██████████| 10/10 [00:00<00:00, 364.66it/s]\n",
      "100%|██████████| 10/10 [00:00<00:00, 2458.56it/s]\n",
      "  0%|          | 0/10 [00:00<?, ?it/s]"
     ]
    },
    {
     "name": "stdout",
     "output_type": "stream",
     "text": [
      "[0.5524590163934426, 337.0, 610]\n",
      "['20180131', '20180131']\n",
      "['20180122', '20180130']\n",
      "[0.5085536547433903, 327.0, 643]\n",
      "['20180201', '20180201']\n",
      "['20180123', '20180131']\n"
     ]
    },
    {
     "name": "stderr",
     "output_type": "stream",
     "text": [
      "100%|██████████| 10/10 [00:00<00:00, 346.88it/s]\n",
      "100%|██████████| 10/10 [00:00<00:00, 2130.82it/s]\n",
      "100%|██████████| 10/10 [00:00<00:00, 360.03it/s]\n",
      "100%|██████████| 10/10 [00:00<00:00, 2283.24it/s]\n"
     ]
    },
    {
     "name": "stdout",
     "output_type": "stream",
     "text": [
      "[0.5222929936305732, 328.0, 628]\n",
      "['20180202', '20180202']\n",
      "['20180124', '20180201']\n",
      "[0.540453074433657, 334.0, 618]\n",
      "['20180203', '20180203']\n",
      "['20180125', '20180202']\n",
      "[0.540453074433657, 334.0, 618]\n",
      "['20180204', '20180204']\n",
      "['20180126', '20180203']\n"
     ]
    },
    {
     "name": "stderr",
     "output_type": "stream",
     "text": [
      "100%|██████████| 10/10 [00:00<00:00, 350.39it/s]\n",
      "100%|██████████| 10/10 [00:00<00:00, 2097.36it/s]\n",
      "100%|██████████| 10/10 [00:00<00:00, 284.98it/s]\n",
      "100%|██████████| 10/10 [00:00<00:00, 319.61it/s]\n",
      "100%|██████████| 10/10 [00:00<00:00, 2374.76it/s]\n",
      "100%|██████████| 10/10 [00:00<00:00, 2373.15it/s]\n",
      "100%|██████████| 10/10 [00:00<00:00, 222.03it/s]\n",
      "100%|██████████| 10/10 [00:00<00:00, 2276.17it/s]\n",
      "100%|██████████| 10/10 [00:00<00:00, 346.91it/s]\n",
      "100%|██████████| 10/10 [00:00<00:00, 2313.72it/s]\n",
      "100%|██████████| 10/10 [00:00<00:00, 308.52it/s]\n",
      "100%|██████████| 10/10 [00:00<00:00, 2255.12it/s]\n"
     ]
    },
    {
     "name": "stdout",
     "output_type": "stream",
     "text": [
      "[0.5133437990580848, 327.0, 637]\n",
      "['20180205', '20180205']\n",
      "['20180127', '20180204']\n",
      "[0.5086342229199372, 324.0, 637]\n",
      "['20180206', '20180206']\n",
      "['20180128', '20180205']\n",
      "['20180207', '20180207']\n",
      "['20180129', '20180206']\n",
      "['20180208', '20180208']\n",
      "['20180130', '20180207']\n"
     ]
    },
    {
     "name": "stderr",
     "output_type": "stream",
     "text": [
      "100%|██████████| 10/10 [00:00<00:00, 154.27it/s]\n",
      "100%|██████████| 10/10 [00:00<00:00, 2225.57it/s]\n",
      "100%|██████████| 10/10 [00:00<00:00, 304.46it/s]\n",
      "100%|██████████| 10/10 [00:00<00:00, 2141.26it/s]\n",
      "  0%|          | 0/10 [00:00<?, ?it/s]"
     ]
    },
    {
     "name": "stdout",
     "output_type": "stream",
     "text": [
      "[0.5276461295418642, 334.0, 633]\n",
      "['20180209', '20180209']\n",
      "['20180131', '20180208']\n",
      "[0.5296875, 339.0, 640]\n",
      "['20180210', '20180210']\n",
      "['20180201', '20180209']\n"
     ]
    },
    {
     "name": "stderr",
     "output_type": "stream",
     "text": [
      "100%|██████████| 10/10 [00:00<00:00, 266.19it/s]\n",
      "100%|██████████| 10/10 [00:00<00:00, 2305.45it/s]\n",
      "100%|██████████| 10/10 [00:00<00:00, 383.30it/s]\n",
      "100%|██████████| 10/10 [00:00<00:00, 2394.28it/s]\n",
      "  0%|          | 0/10 [00:00<?, ?it/s]"
     ]
    },
    {
     "name": "stdout",
     "output_type": "stream",
     "text": [
      "['20180211', '20180211']\n",
      "['20180202', '20180210']\n",
      "['20180213', '20180213']\n",
      "['20180204', '20180212']\n",
      "[0.5573248407643312, 350.0, 628]\n",
      "['20180212', '20180212']\n",
      "['20180203', '20180211']\n"
     ]
    },
    {
     "name": "stderr",
     "output_type": "stream",
     "text": [
      "100%|██████████| 10/10 [00:00<00:00, 383.35it/s]\n",
      "100%|██████████| 10/10 [00:00<00:00, 216.52it/s]\n",
      "100%|██████████| 10/10 [00:00<00:00, 2154.46it/s]\n",
      "100%|██████████| 10/10 [00:00<00:00, 2316.27it/s]\n",
      "100%|██████████| 10/10 [00:00<00:00, 334.91it/s]\n",
      "  0%|          | 0/10 [00:00<?, ?it/s]195.17it/s]\n",
      "100%|██████████| 10/10 [00:00<00:00, 216.71it/s]\n"
     ]
    },
    {
     "name": "stdout",
     "output_type": "stream",
     "text": [
      "[0.59375, 361.0, 608]\n",
      "['20180214', '20180214']\n",
      "['20180205', '20180213']\n",
      "['20180215', '20180215']\n",
      "['20180206', '20180214']\n"
     ]
    },
    {
     "name": "stderr",
     "output_type": "stream",
     "text": [
      "100%|██████████| 10/10 [00:00<00:00, 2222.85it/s]\n",
      "100%|██████████| 10/10 [00:00<00:00, 314.46it/s]\n",
      "100%|██████████| 10/10 [00:00<00:00, 2283.36it/s]\n"
     ]
    },
    {
     "name": "stdout",
     "output_type": "stream",
     "text": [
      "[0.59375, 361.0, 608]\n",
      "['20180216', '20180216']\n",
      "['20180207', '20180215']\n",
      "[0.6460481099656358, 376.0, 582]\n",
      "['20180217', '20180217']\n",
      "['20180208', '20180216']\n",
      "['20180218', '20180218']\n",
      "['20180209', '20180217']\n",
      "[0.5625, 351.0, 624]\n",
      "['20180219', '20180219']\n",
      "['20180210', '20180218']\n",
      "[0.606312292358804, 365.0, 602]\n",
      "['20180220', '20180220']\n",
      "['20180211', '20180219']\n",
      "['20180221', '20180221']\n",
      "['20180212', '20180220']\n"
     ]
    },
    {
     "name": "stderr",
     "output_type": "stream",
     "text": [
      "100%|██████████| 10/10 [00:00<00:00, 372.69it/s]\n",
      "100%|██████████| 10/10 [00:00<00:00, 2355.82it/s]\n",
      "100%|██████████| 10/10 [00:00<00:00, 431.21it/s]\n",
      "100%|██████████| 10/10 [00:00<00:00, 2468.11it/s]\n",
      "100%|██████████| 10/10 [00:00<00:00, 430.13it/s]\n",
      "100%|██████████| 10/10 [00:00<00:00, 2413.15it/s]\n",
      "100%|██████████| 10/10 [00:00<00:00, 356.77it/s]\n",
      "100%|██████████| 10/10 [00:00<00:00, 2313.21it/s]\n",
      "100%|██████████| 10/10 [00:00<00:00, 306.61it/s]\n",
      "100%|██████████| 10/10 [00:00<00:00, 2324.49it/s]\n",
      "100%|██████████| 10/10 [00:00<00:00, 320.23it/s]\n",
      "100%|██████████| 10/10 [00:00<00:00, 2355.69it/s]\n"
     ]
    },
    {
     "name": "stdout",
     "output_type": "stream",
     "text": [
      "[0.6460481099656358, 376.0, 582]\n",
      "['20180222', '20180222']\n",
      "['20180213', '20180221']\n",
      "[0.6164154103852596, 368.0, 597]\n",
      "['20180223', '20180223']\n",
      "['20180214', '20180222']\n"
     ]
    },
    {
     "name": "stderr",
     "output_type": "stream",
     "text": [
      "100%|██████████| 10/10 [00:00<00:00, 294.79it/s]\n",
      "100%|██████████| 10/10 [00:00<00:00, 2237.44it/s]\n"
     ]
    },
    {
     "name": "stdout",
     "output_type": "stream",
     "text": [
      "[0.6241721854304636, 377.0, 604]\n",
      "['20180224', '20180224']\n",
      "['20180215', '20180223']\n",
      "['20180225', '20180225']\n",
      "['20180216', '20180224']\n",
      "[0.6079077429983526, 369.0, 607]\n",
      "['20180226', '20180226']\n",
      "['20180217', '20180225']\n"
     ]
    },
    {
     "name": "stderr",
     "output_type": "stream",
     "text": [
      "100%|██████████| 10/10 [00:00<00:00, 336.18it/s]\n",
      "100%|██████████| 10/10 [00:00<00:00, 2321.91it/s]\n",
      "100%|██████████| 10/10 [00:00<00:00, 252.45it/s]\n",
      "100%|██████████| 10/10 [00:00<00:00, 363.69it/s]\n",
      "100%|██████████| 10/10 [00:00<00:00, 2233.27it/s]\n",
      "\n",
      "100%|██████████| 10/10 [00:00<00:00, 329.16it/s]\n",
      "100%|██████████| 10/10 [00:00<00:00, 2250.04it/s]\n",
      "100%|██████████| 10/10 [00:00<00:00, 284.43it/s]\n"
     ]
    },
    {
     "name": "stdout",
     "output_type": "stream",
     "text": [
      "['20180227', '20180227']\n",
      "['20180218', '20180226']\n",
      "[0.5916398713826366, 368.0, 622]\n",
      "['20180228', '20180228']\n",
      "['20180219', '20180227']\n",
      "[0.6241721854304636, 377.0, 604]\n",
      "['20180301', '20180301']\n",
      "['20180220', '20180228']\n"
     ]
    },
    {
     "name": "stderr",
     "output_type": "stream",
     "text": [
      "100%|██████████| 10/10 [00:00<00:00, 2185.79it/s]\n",
      "100%|██████████| 10/10 [00:00<00:00, 280.08it/s]\n",
      "100%|██████████| 10/10 [00:00<00:00, 305.20it/s]\n",
      "100%|██████████| 10/10 [00:00<00:00, 295.84it/s]\n"
     ]
    },
    {
     "name": "stdout",
     "output_type": "stream",
     "text": [
      "[0.5967741935483871, 370.0, 620]\n",
      "['20180302', '20180302']\n",
      "['20180221', '20180301']\n",
      "[0.5904, 369.0, 625]\n",
      "['20180303', '20180303']\n",
      "['20180222', '20180302']\n",
      "['20180304', '20180304']\n",
      "['20180223', '20180303']\n",
      "['20180305', '20180305']\n",
      "['20180224', '20180304']\n"
     ]
    },
    {
     "name": "stderr",
     "output_type": "stream",
     "text": [
      "100%|██████████| 10/10 [00:00<00:00, 2023.89it/s]\n",
      "100%|██████████| 10/10 [00:00<00:00, 345.95it/s]\n",
      "100%|██████████| 10/10 [00:00<00:00, 2266.46it/s]\n",
      "100%|██████████| 10/10 [00:00<00:00, 399.24it/s]\n",
      "100%|██████████| 10/10 [00:00<00:00, 423.91it/s]\n",
      "100%|██████████| 10/10 [00:00<00:00, 2302.03it/s]\n",
      "100%|██████████| 10/10 [00:00<00:00, 2463.33it/s]\n",
      "  0%|          | 0/10 [00:00<?, ?it/s]"
     ]
    },
    {
     "name": "stdout",
     "output_type": "stream",
     "text": [
      "['20180306', '20180306']\n",
      "['20180225', '20180305']\n",
      "[0.5682888540031397, 361.99999999999994, 637]\n",
      "['20180307', '20180307']\n",
      "['20180226', '20180306']\n"
     ]
    },
    {
     "name": "stderr",
     "output_type": "stream",
     "text": [
      "100%|██████████| 10/10 [00:00<00:00, 361.72it/s]\n",
      "100%|██████████| 10/10 [00:00<00:00, 2315.12it/s]\n",
      "100%|██████████| 10/10 [00:00<00:00, 327.21it/s]\n",
      "100%|██████████| 10/10 [00:00<00:00, 2252.10it/s]\n"
     ]
    },
    {
     "name": "stdout",
     "output_type": "stream",
     "text": [
      "[0.6058158319870759, 375.0, 619]\n",
      "['20180308', '20180308']\n",
      "['20180227', '20180307']\n"
     ]
    },
    {
     "name": "stderr",
     "output_type": "stream",
     "text": [
      "100%|██████████| 10/10 [00:00<00:00, 330.29it/s]\n",
      "100%|██████████| 10/10 [00:00<00:00, 2272.47it/s]\n"
     ]
    },
    {
     "name": "stdout",
     "output_type": "stream",
     "text": [
      "[0.5893719806763285, 365.99999999999994, 621]\n",
      "['20180309', '20180309']\n",
      "['20180228', '20180308']\n"
     ]
    },
    {
     "name": "stderr",
     "output_type": "stream",
     "text": [
      "100%|██████████| 10/10 [00:00<00:00, 331.58it/s]\n",
      "100%|██████████| 10/10 [00:00<00:00, 2269.52it/s]\n"
     ]
    },
    {
     "name": "stdout",
     "output_type": "stream",
     "text": [
      "[0.5831987075928917, 361.0, 619]\n",
      "['20180310', '20180310']\n",
      "['20180301', '20180309']\n",
      "['20180311', '20180311']\n",
      "['20180302', '20180310']\n",
      "[0.6357504215851602, 376.99999999999994, 593]\n",
      "['20180312', '20180312']\n",
      "['20180303', '20180311']\n"
     ]
    },
    {
     "name": "stderr",
     "output_type": "stream",
     "text": [
      "100%|██████████| 10/10 [00:00<00:00, 236.49it/s]\n",
      "100%|██████████| 10/10 [00:00<00:00, 610.37it/s]\n",
      "100%|██████████| 10/10 [00:00<00:00, 413.79it/s]\n",
      "100%|██████████| 10/10 [00:00<00:00, 2452.24it/s]\n",
      "100%|██████████| 10/10 [00:00<00:00, 373.42it/s]\n",
      "100%|██████████| 10/10 [00:00<00:00, 2425.86it/s]\n",
      "100%|██████████| 10/10 [00:00<00:00, 318.52it/s]\n",
      "100%|██████████| 10/10 [00:00<00:00, 2239.47it/s]\n"
     ]
    },
    {
     "name": "stdout",
     "output_type": "stream",
     "text": [
      "['20180313', '20180313']\n",
      "['20180304', '20180312']\n",
      "[0.6357504215851602, 376.99999999999994, 593]\n",
      "['20180315', '20180315']\n",
      "['20180306', '20180314']\n",
      "[0.6088379705400983, 372.00000000000006, 611]\n",
      "['20180314', '20180314']\n",
      "['20180305', '20180313']\n"
     ]
    },
    {
     "name": "stderr",
     "output_type": "stream",
     "text": [
      "100%|██████████| 10/10 [00:00<00:00, 276.47it/s]\n",
      "100%|██████████| 10/10 [00:00<00:00, 2311.55it/s]\n",
      "100%|██████████| 10/10 [00:00<00:00, 126.47it/s]\n",
      "100%|██████████| 10/10 [00:00<00:00, 288.79it/s]\n",
      "100%|██████████| 10/10 [00:00<00:00, 579.22it/s]\n",
      "100%|██████████| 10/10 [00:00<00:00, 2216.51it/s]\n"
     ]
    },
    {
     "name": "stdout",
     "output_type": "stream",
     "text": [
      "[0.5974025974025974, 368.0, 616]\n",
      "['20180316', '20180316']\n",
      "['20180307', '20180315']\n",
      "[0.6125827814569537, 370.0, 604]\n",
      "['20180317', '20180317']\n",
      "['20180308', '20180316']\n",
      "[0.5798722044728435, 363.0, 626]\n",
      "['20180318', '20180318']\n",
      "['20180309', '20180317']\n",
      "['20180319', '20180319']\n",
      "['20180310', '20180318']\n",
      "['20180320', '20180320']\n",
      "['20180311', '20180319']\n"
     ]
    },
    {
     "name": "stderr",
     "output_type": "stream",
     "text": [
      "100%|██████████| 10/10 [00:00<00:00, 324.98it/s]\n",
      "100%|██████████| 10/10 [00:00<00:00, 2057.34it/s]\n",
      "100%|██████████| 10/10 [00:00<00:00, 373.28it/s]\n",
      "100%|██████████| 10/10 [00:00<00:00, 2381.10it/s]\n",
      "100%|██████████| 10/10 [00:00<00:00, 289.23it/s]\n",
      "100%|██████████| 10/10 [00:00<00:00, 332.60it/s]\n",
      "100%|██████████| 10/10 [00:00<00:00, 2280.63it/s]\n",
      "100%|██████████| 10/10 [00:00<00:00, 2316.14it/s]\n",
      "100%|██████████| 10/10 [00:00<00:00, 290.24it/s]\n",
      "100%|██████████| 10/10 [00:00<00:00, 2071.06it/s]\n",
      "100%|██████████| 10/10 [00:00<00:00, 288.93it/s]\n",
      "100%|██████████| 10/10 [00:00<00:00, 1996.62it/s]\n"
     ]
    },
    {
     "name": "stdout",
     "output_type": "stream",
     "text": [
      "[0.5801282051282052, 362.00000000000006, 624]\n",
      "['20180321', '20180321']\n",
      "['20180312', '20180320']\n",
      "[0.6125827814569537, 370.0, 604]\n",
      "['20180322', '20180322']\n",
      "['20180313', '20180321']\n",
      "[0.6457627118644068, 381.0, 590]\n",
      "['20180323', '20180323']\n",
      "['20180314', '20180322']\n"
     ]
    },
    {
     "name": "stderr",
     "output_type": "stream",
     "text": [
      "100%|██████████| 10/10 [00:00<00:00, 290.22it/s]\n",
      "100%|██████████| 10/10 [00:00<00:00, 2251.73it/s]\n"
     ]
    },
    {
     "name": "stdout",
     "output_type": "stream",
     "text": [
      "[0.5808, 363.0, 625]\n",
      "['20180324', '20180324']\n",
      "['20180315', '20180323']\n",
      "[0.6059113300492611, 369.0, 609]\n",
      "['20180325', '20180325']\n",
      "['20180316', '20180324']\n",
      "['20180326', '20180326']\n",
      "['20180317', '20180325']\n",
      "['20180327', '20180327']\n",
      "['20180318', '20180326']\n"
     ]
    },
    {
     "name": "stderr",
     "output_type": "stream",
     "text": [
      "100%|██████████| 10/10 [00:00<00:00, 215.41it/s]\n",
      "100%|██████████| 10/10 [00:00<00:00, 2316.14it/s]\n",
      "100%|██████████| 10/10 [00:00<00:00, 362.68it/s]\n",
      "100%|██████████| 10/10 [00:00<00:00, 2256.22it/s]\n",
      "100%|██████████| 10/10 [00:00<00:00, 378.34it/s]\n",
      "100%|██████████| 10/10 [00:00<00:00, 2415.10it/s]\n",
      "100%|██████████| 10/10 [00:00<00:00, 314.40it/s]\n",
      "100%|██████████| 10/10 [00:00<00:00, 2082.06it/s]\n",
      "100%|██████████| 10/10 [00:00<00:00, 297.05it/s]\n",
      "100%|██████████| 10/10 [00:00<00:00, 2200.69it/s]\n"
     ]
    },
    {
     "name": "stdout",
     "output_type": "stream",
     "text": [
      "[0.6457627118644068, 381.0, 590]\n",
      "['20180328', '20180328']\n",
      "['20180319', '20180327']\n",
      "[0.6088379705400983, 372.00000000000006, 611]\n",
      "['20180329', '20180329']\n",
      "['20180320', '20180328']\n",
      "[0.6148760330578512, 372.0, 605]\n",
      "['20180330', '20180330']\n",
      "['20180321', '20180329']\n",
      "['20180331', '20180331']\n",
      "['20180322', '20180330']\n",
      "['20180401', '20180401']\n",
      "['20180323', '20180331']\n"
     ]
    },
    {
     "name": "stderr",
     "output_type": "stream",
     "text": [
      "100%|██████████| 10/10 [00:00<00:00, 328.90it/s]\n",
      "100%|██████████| 10/10 [00:00<00:00, 2279.27it/s]\n",
      "  0%|          | 0/10 [00:00<?, ?it/s]71.19it/s]\n",
      "100%|██████████| 10/10 [00:00<00:00, 2231.84it/s]\n",
      "100%|██████████| 10/10 [00:00<00:00, 433.90it/s]\n",
      "100%|██████████| 10/10 [00:00<00:00, 2333.15it/s]\n",
      "  0%|          | 0/10 [00:00<?, ?it/s]"
     ]
    },
    {
     "name": "stdout",
     "output_type": "stream",
     "text": [
      "['20180402', '20180402']\n",
      "['20180324', '20180401']\n",
      "['20180403', '20180403']\n",
      "['20180325', '20180402']\n"
     ]
    },
    {
     "name": "stderr",
     "output_type": "stream",
     "text": [
      "100%|██████████| 10/10 [00:00<00:00, 520.27it/s]\n",
      "100%|██████████| 10/10 [00:00<00:00, 483.61it/s]\n",
      "100%|██████████| 10/10 [00:00<00:00, 2357.54it/s]\n",
      "100%|██████████| 10/10 [00:00<00:00, 1867.46it/s]\n",
      "100%|██████████| 10/10 [00:00<00:00, 421.82it/s]\n",
      "100%|██████████| 10/10 [00:00<00:00, 2409.55it/s]\n"
     ]
    },
    {
     "name": "stdout",
     "output_type": "stream",
     "text": [
      "[0.6357615894039735, 384.0, 604]\n",
      "['20180404', '20180404']\n",
      "['20180326', '20180403']\n",
      "[0.6357615894039735, 384.0, 604]\n",
      "['20180405', '20180405']\n",
      "['20180327', '20180404']\n"
     ]
    },
    {
     "name": "stderr",
     "output_type": "stream",
     "text": [
      "100%|██████████| 10/10 [00:00<00:00, 360.86it/s]\n",
      "100%|██████████| 10/10 [00:00<00:00, 2326.29it/s]\n",
      "100%|██████████| 10/10 [00:00<00:00, 293.50it/s]\n",
      "100%|██████████| 10/10 [00:00<00:00, 2387.74it/s]\n",
      "100%|██████████| 10/10 [00:00<00:00, 371.46it/s]\n",
      "100%|██████████| 10/10 [00:00<00:00, 2308.88it/s]\n"
     ]
    },
    {
     "name": "stdout",
     "output_type": "stream",
     "text": [
      "[0.6172638436482085, 379.00000000000006, 614]\n",
      "['20180406', '20180406']\n",
      "['20180328', '20180405']\n",
      "[0.6064516129032258, 376.0, 620]\n",
      "['20180407', '20180407']\n",
      "['20180329', '20180406']\n",
      "[0.5791139240506329, 366.0, 632]\n",
      "['20180408', '20180408']\n",
      "['20180330', '20180407']\n",
      "[0.6087662337662337, 375.0, 616]\n",
      "['20180409', '20180409']\n",
      "['20180331', '20180408']\n",
      "['20180410', '20180410']\n",
      "['20180401', '20180409']\n",
      "['20180411', '20180411']\n",
      "['20180402', '20180410']\n",
      "[0.6067961165048543, 374.99999999999994, 618]\n",
      "['20180412', '20180412']\n",
      "['20180403', '20180411']\n"
     ]
    },
    {
     "name": "stderr",
     "output_type": "stream",
     "text": [
      "100%|██████████| 10/10 [00:00<00:00, 427.41it/s]\n",
      "100%|██████████| 10/10 [00:00<00:00, 2429.09it/s]\n",
      "100%|██████████| 10/10 [00:00<00:00, 435.85it/s]\n",
      "100%|██████████| 10/10 [00:00<00:00, 2224.98it/s]\n",
      "100%|██████████| 10/10 [00:00<00:00, 360.13it/s]\n",
      "100%|██████████| 10/10 [00:00<00:00, 2388.15it/s]\n",
      "100%|██████████| 10/10 [00:00<00:00, 315.80it/s]\n",
      "100%|██████████| 10/10 [00:00<00:00, 2290.09it/s]\n",
      "100%|██████████| 10/10 [00:00<00:00, 286.20it/s]\n",
      "100%|██████████| 10/10 [00:00<00:00, 1956.85it/s]\n",
      "100%|██████████| 10/10 [00:00<00:00, 285.59it/s]\n",
      "100%|██████████| 10/10 [00:00<00:00, 2249.80it/s]\n",
      "100%|██████████| 10/10 [00:00<00:00, 302.27it/s]\n",
      "100%|██████████| 10/10 [00:00<00:00, 2108.86it/s]\n"
     ]
    },
    {
     "name": "stdout",
     "output_type": "stream",
     "text": [
      "[0.5821371610845295, 365.0, 627]\n",
      "['20180413', '20180413']\n",
      "['20180404', '20180412']\n",
      "[0.6067961165048543, 374.99999999999994, 618]\n",
      "['20180414', '20180414']\n",
      "['20180405', '20180413']\n"
     ]
    },
    {
     "name": "stderr",
     "output_type": "stream",
     "text": [
      "100%|██████████| 10/10 [00:00<00:00, 334.05it/s]\n",
      "100%|██████████| 10/10 [00:00<00:00, 2394.56it/s]\n",
      "100%|██████████| 10/10 [00:00<00:00, 383.21it/s]\n",
      "100%|██████████| 10/10 [00:00<00:00, 2473.20it/s]\n",
      "  0%|          | 0/10 [00:00<?, ?it/s]"
     ]
    },
    {
     "name": "stdout",
     "output_type": "stream",
     "text": [
      "['20180415', '20180415']\n",
      "['20180406', '20180414']\n",
      "['20180416', '20180416']\n",
      "['20180407', '20180415']\n"
     ]
    },
    {
     "name": "stderr",
     "output_type": "stream",
     "text": [
      "100%|██████████| 10/10 [00:00<00:00, 377.67it/s]\n",
      "100%|██████████| 10/10 [00:00<00:00, 2484.48it/s]\n",
      "100%|██████████| 10/10 [00:00<00:00, 342.07it/s]\n",
      "100%|██████████| 10/10 [00:00<00:00, 2180.10it/s]\n"
     ]
    },
    {
     "name": "stdout",
     "output_type": "stream",
     "text": [
      "[0.5775316455696202, 365.0, 632]\n",
      "['20180417', '20180417']\n",
      "['20180408', '20180416']\n",
      "[0.6245901639344262, 381.0, 610]\n",
      "['20180418', '20180418']\n",
      "['20180409', '20180417']\n",
      "[0.6245901639344262, 381.0, 610]\n",
      "['20180419', '20180419']\n",
      "['20180410', '20180418']\n"
     ]
    },
    {
     "name": "stderr",
     "output_type": "stream",
     "text": [
      "100%|██████████| 10/10 [00:00<00:00, 311.47it/s]\n",
      "100%|██████████| 10/10 [00:00<00:00, 2217.33it/s]\n",
      "100%|██████████| 10/10 [00:00<00:00, 304.24it/s]\n",
      "100%|██████████| 10/10 [00:00<00:00, 2350.54it/s]\n"
     ]
    },
    {
     "name": "stdout",
     "output_type": "stream",
     "text": [
      "[0.626465661641541, 374.0, 597]\n",
      "['20180420', '20180420']\n",
      "['20180411', '20180419']\n",
      "[0.5971337579617835, 375.0, 628]\n",
      "['20180421', '20180421']\n",
      "['20180412', '20180420']\n",
      "[0.6807017543859649, 388.0, 570]\n",
      "['20180422', '20180422']\n",
      "['20180413', '20180421']\n"
     ]
    },
    {
     "name": "stderr",
     "output_type": "stream",
     "text": [
      "100%|██████████| 10/10 [00:00<00:00, 301.34it/s]\n",
      "100%|██████████| 10/10 [00:00<00:00, 2251.98it/s]\n",
      "100%|██████████| 10/10 [00:00<00:00, 336.38it/s]\n",
      "100%|██████████| 10/10 [00:00<00:00, 2325.52it/s]\n",
      "100%|██████████| 10/10 [00:00<00:00, 380.14it/s]\n",
      "100%|██████████| 10/10 [00:00<00:00, 2378.13it/s]\n"
     ]
    },
    {
     "name": "stdout",
     "output_type": "stream",
     "text": [
      "['20180423', '20180423']\n",
      "['20180414', '20180422']\n",
      "['20180424', '20180424']\n",
      "['20180415', '20180423']\n",
      "[0.6289517470881864, 378.0, 601]\n",
      "['20180425', '20180425']\n",
      "['20180416', '20180424']\n"
     ]
    },
    {
     "name": "stderr",
     "output_type": "stream",
     "text": [
      "100%|██████████| 10/10 [00:00<00:00, 369.94it/s]\n",
      "100%|██████████| 10/10 [00:00<00:00, 2345.41it/s]\n",
      "100%|██████████| 10/10 [00:00<00:00, 334.51it/s]\n",
      "100%|██████████| 10/10 [00:00<00:00, 2314.87it/s]\n",
      "100%|██████████| 10/10 [00:00<00:00, 302.55it/s]\n",
      "100%|██████████| 10/10 [00:00<00:00, 2091.40it/s]\n"
     ]
    },
    {
     "name": "stdout",
     "output_type": "stream",
     "text": [
      "[0.6193656093489148, 371.0, 599]\n",
      "['20180426', '20180426']\n",
      "['20180417', '20180425']\n",
      "[0.5669291338582677, 360.0, 635]\n",
      "['20180427', '20180427']\n",
      "['20180418', '20180426']\n"
     ]
    },
    {
     "name": "stderr",
     "output_type": "stream",
     "text": [
      "100%|██████████| 10/10 [00:00<00:00, 366.51it/s]\n",
      "100%|██████████| 10/10 [00:00<00:00, 2940.28it/s]\n",
      "  0%|          | 0/10 [00:00<?, ?it/s]"
     ]
    },
    {
     "name": "stdout",
     "output_type": "stream",
     "text": [
      "[0.6807017543859649, 388.0, 570]\n",
      "['20180428', '20180428']\n",
      "['20180419', '20180427']\n",
      "[0.6026058631921825, 370.0, 614]\n",
      "['20180429', '20180429']\n",
      "['20180420', '20180428']\n",
      "['20180430', '20180430']\n",
      "['20180421', '20180429']\n",
      "['20180501', '20180501']\n",
      "['20180422', '20180430']\n",
      "[0.5581761006289309, 355.0, 636]\n",
      "['20180502', '20180502']\n",
      "['20180423', '20180501']\n"
     ]
    },
    {
     "name": "stderr",
     "output_type": "stream",
     "text": [
      "100%|██████████| 10/10 [00:00<00:00, 278.03it/s]\n",
      "100%|██████████| 10/10 [00:00<00:00, 2268.66it/s]\n",
      "100%|██████████| 10/10 [00:00<00:00, 434.81it/s]\n",
      "100%|██████████| 10/10 [00:00<00:00, 321.63it/s]\n",
      "100%|██████████| 10/10 [00:00<00:00, 3137.34it/s]\n",
      "100%|██████████| 10/10 [00:00<00:00, 2298.75it/s]\n",
      "100%|██████████| 10/10 [00:00<00:00, 426.79it/s]\n",
      "100%|██████████| 10/10 [00:00<00:00, 2286.10it/s]\n",
      "100%|██████████| 10/10 [00:00<00:00, 360.54it/s]\n",
      "100%|██████████| 10/10 [00:00<00:00, 2162.68it/s]\n",
      "100%|██████████| 10/10 [00:00<00:00, 329.91it/s]\n",
      "100%|██████████| 10/10 [00:00<00:00, 2380.56it/s]\n",
      "100%|██████████| 10/10 [00:00<00:00, 289.85it/s]\n",
      "100%|██████████| 10/10 [00:00<00:00, 1893.08it/s]\n",
      "100%|██████████| 10/10 [00:00<00:00, 326.72it/s]\n",
      "100%|██████████| 10/10 [00:00<00:00, 363.99it/s]\n",
      "100%|██████████| 10/10 [00:00<00:00, 2065.55it/s]\n",
      "100%|██████████| 10/10 [00:00<00:00, 2158.79it/s]\n",
      "  0%|          | 0/10 [00:00<?, ?it/s]"
     ]
    },
    {
     "name": "stdout",
     "output_type": "stream",
     "text": [
      "['20180503', '20180503']\n",
      "['20180424', '20180502']\n",
      "[0.5525902668759811, 352.0, 637]\n",
      "['20180504', '20180504']\n",
      "['20180425', '20180503']\n",
      "[0.6026058631921825, 370.0, 614]\n",
      "['20180505', '20180505']\n",
      "['20180426', '20180504']\n",
      "['20180506', '20180506']\n",
      "['20180427', '20180505']\n"
     ]
    },
    {
     "name": "stderr",
     "output_type": "stream",
     "text": [
      "100%|██████████| 10/10 [00:00<00:00, 443.60it/s]\n",
      "100%|██████████| 10/10 [00:00<00:00, 3088.82it/s]\n",
      "100%|██████████| 10/10 [00:00<00:00, 418.22it/s]\n",
      "100%|██████████| 10/10 [00:00<00:00, 374.64it/s]\n",
      "100%|██████████| 10/10 [00:00<00:00, 2271.12it/s]\n",
      "100%|██████████| 10/10 [00:00<00:00, 2307.99it/s]\n",
      "100%|██████████| 10/10 [00:00<00:00, 328.03it/s]\n",
      "100%|██████████| 10/10 [00:00<00:00, 2360.73it/s]\n"
     ]
    },
    {
     "name": "stdout",
     "output_type": "stream",
     "text": [
      "['20180507', '20180507']\n",
      "['20180428', '20180506']\n",
      "[0.5764895330112721, 358.0, 621]\n",
      "['20180508', '20180508']\n",
      "['20180429', '20180507']\n",
      "[0.5764895330112721, 358.0, 621]\n",
      "['20180509', '20180509']\n",
      "['20180430', '20180508']\n",
      "[0.5522151898734177, 348.99999999999994, 632]\n",
      "['20180510', '20180510']\n",
      "['20180501', '20180509']\n",
      "[0.5749588138385503, 349.00000000000006, 607]\n",
      "['20180511', '20180511']\n",
      "['20180502', '20180510']\n"
     ]
    },
    {
     "name": "stderr",
     "output_type": "stream",
     "text": [
      "100%|██████████| 10/10 [00:00<00:00, 318.07it/s]\n",
      "100%|██████████| 10/10 [00:00<00:00, 2359.66it/s]\n",
      "100%|██████████| 10/10 [00:00<00:00, 297.87it/s]\n",
      "100%|██████████| 10/10 [00:00<00:00, 2246.67it/s]\n"
     ]
    },
    {
     "name": "stdout",
     "output_type": "stream",
     "text": [
      "[0.5548489666136724, 348.99999999999994, 629]\n",
      "['20180512', '20180512']\n",
      "['20180503', '20180511']\n",
      "[0.5749588138385503, 349.00000000000006, 607]\n",
      "['20180513', '20180513']\n",
      "['20180504', '20180512']\n",
      "['20180514', '20180514']\n",
      "['20180505', '20180513']\n",
      "['20180515', '20180515']\n",
      "['20180506', '20180514']\n"
     ]
    },
    {
     "name": "stderr",
     "output_type": "stream",
     "text": [
      "100%|██████████| 10/10 [00:00<00:00, 336.17it/s]\n",
      "100%|██████████| 10/10 [00:00<00:00, 2349.49it/s]\n",
      "100%|██████████| 10/10 [00:00<00:00, 381.97it/s]\n",
      "100%|██████████| 10/10 [00:00<00:00, 2372.61it/s]\n",
      "100%|██████████| 10/10 [00:00<00:00, 379.72it/s]\n",
      "100%|██████████| 10/10 [00:00<00:00, 2463.61it/s]\n",
      "100%|██████████| 10/10 [00:00<00:00, 342.58it/s]\n",
      "100%|██████████| 10/10 [00:00<00:00, 2332.37it/s]\n",
      "  0%|          | 0/10 [00:00<?, ?it/s]"
     ]
    },
    {
     "name": "stdout",
     "output_type": "stream",
     "text": [
      "[0.5617977528089888, 350.0, 623]\n",
      "['20180516', '20180516']\n",
      "['20180507', '20180515']\n",
      "[0.5477707006369427, 344.0, 628]\n",
      "['20180517', '20180517']\n",
      "['20180508', '20180516']\n"
     ]
    },
    {
     "name": "stderr",
     "output_type": "stream",
     "text": [
      "100%|██████████| 10/10 [00:00<00:00, 300.56it/s]\n",
      "100%|██████████| 10/10 [00:00<00:00, 2339.92it/s]\n",
      "100%|██████████| 10/10 [00:00<00:00, 224.80it/s]\n",
      "100%|██████████| 10/10 [00:00<00:00, 2263.15it/s]\n"
     ]
    },
    {
     "name": "stdout",
     "output_type": "stream",
     "text": [
      "[0.5358255451713395, 343.99999999999994, 642]\n",
      "['20180518', '20180518']\n",
      "['20180509', '20180517']\n"
     ]
    },
    {
     "name": "stderr",
     "output_type": "stream",
     "text": [
      "100%|██████████| 10/10 [00:00<00:00, 291.11it/s]\n",
      "100%|██████████| 10/10 [00:00<00:00, 2926.33it/s]\n"
     ]
    },
    {
     "name": "stdout",
     "output_type": "stream",
     "text": [
      "[0.5353846153846153, 348.0, 650]\n",
      "['20180519', '20180519']\n",
      "['20180510', '20180518']\n",
      "[0.5766773162939297, 361.0, 626]\n",
      "['20180520', '20180520']\n",
      "['20180511', '20180519']\n",
      "[0.5538221528861155, 355.0, 641]\n",
      "['20180521', '20180521']\n",
      "['20180512', '20180520']\n",
      "['20180522', '20180522']\n",
      "['20180513', '20180521']\n",
      "['20180523', '20180523']\n",
      "['20180514', '20180522']\n"
     ]
    },
    {
     "name": "stderr",
     "output_type": "stream",
     "text": [
      "100%|██████████| 10/10 [00:00<00:00, 323.90it/s]\n",
      "100%|██████████| 10/10 [00:00<00:00, 2207.41it/s]\n",
      "100%|██████████| 10/10 [00:00<00:00, 290.83it/s]\n",
      "\n",
      "100%|██████████| 10/10 [00:00<00:00, 2327.84it/s]\n",
      "100%|██████████| 10/10 [00:00<00:00, 2119.19it/s]\n",
      "100%|██████████| 10/10 [00:00<00:00, 326.44it/s]\n",
      "100%|██████████| 10/10 [00:00<00:00, 2241.03it/s]\n",
      "100%|██████████| 10/10 [00:00<00:00, 283.88it/s]\n",
      "100%|██████████| 10/10 [00:00<00:00, 2291.09it/s]\n"
     ]
    },
    {
     "name": "stdout",
     "output_type": "stream",
     "text": [
      "[0.610648918469218, 367.0, 601]\n",
      "['20180524', '20180524']\n",
      "['20180515', '20180523']\n",
      "[0.6029411764705882, 369.0, 612]\n",
      "['20180525', '20180525']\n",
      "['20180516', '20180524']\n",
      "[0.6506849315068494, 380.0, 584]\n",
      "['20180526', '20180526']\n",
      "['20180517', '20180525']\n"
     ]
    },
    {
     "name": "stderr",
     "output_type": "stream",
     "text": [
      "100%|██████████| 10/10 [00:00<00:00, 294.39it/s]\n",
      "100%|██████████| 10/10 [00:00<00:00, 2282.61it/s]\n",
      "100%|██████████| 10/10 [00:00<00:00, 291.69it/s]\n",
      "100%|██████████| 10/10 [00:00<00:00, 2109.70it/s]\n",
      "100%|██████████| 10/10 [00:00<00:00, 409.74it/s]\n",
      "100%|██████████| 10/10 [00:00<00:00, 2999.57it/s]\n"
     ]
    },
    {
     "name": "stdout",
     "output_type": "stream",
     "text": [
      "['20180527', '20180527']\n",
      "['20180518', '20180526']\n",
      "[0.6045751633986928, 370.0, 612]\n",
      "['20180528', '20180528']\n",
      "['20180519', '20180527']\n",
      "['20180529', '20180529']\n",
      "['20180520', '20180528']\n",
      "[0.6506849315068494, 380.0, 584]\n",
      "['20180530', '20180530']\n",
      "['20180521', '20180529']\n"
     ]
    },
    {
     "name": "stderr",
     "output_type": "stream",
     "text": [
      "100%|██████████| 10/10 [00:00<00:00, 362.37it/s]\n",
      "100%|██████████| 10/10 [00:00<00:00, 313.27it/s]\n",
      "100%|██████████| 10/10 [00:00<00:00, 2415.24it/s]\n",
      "100%|██████████| 10/10 [00:00<00:00, 2357.01it/s]\n",
      "100%|██████████| 10/10 [00:00<00:00, 323.23it/s]\n",
      "100%|██████████| 10/10 [00:00<00:00, 290.28it/s]\n",
      "100%|██████████| 10/10 [00:00<00:00, 2346.07it/s]\n",
      "100%|██████████| 10/10 [00:00<00:00, 2090.57it/s]\n"
     ]
    },
    {
     "name": "stdout",
     "output_type": "stream",
     "text": [
      "[0.6104746317512275, 373.0, 611]\n",
      "['20180531', '20180531']\n",
      "['20180522', '20180530']\n"
     ]
    },
    {
     "name": "stderr",
     "output_type": "stream",
     "text": [
      "100%|██████████| 10/10 [00:00<00:00, 302.91it/s]\n",
      "100%|██████████| 10/10 [00:00<00:00, 2302.92it/s]\n"
     ]
    },
    {
     "name": "stdout",
     "output_type": "stream",
     "text": [
      "[0.6069078947368421, 369.0, 608]\n",
      "['20180601', '20180601']\n",
      "['20180523', '20180531']\n",
      "[0.6069078947368421, 369.0, 608]\n",
      "['20180602', '20180602']\n",
      "['20180524', '20180601']\n",
      "['20180603', '20180603']\n",
      "['20180525', '20180602']\n"
     ]
    },
    {
     "name": "stderr",
     "output_type": "stream",
     "text": [
      "100%|██████████| 10/10 [00:00<00:00, 309.21it/s]\n",
      "100%|██████████| 10/10 [00:00<00:00, 2319.86it/s]\n",
      "100%|██████████| 10/10 [00:00<00:00, 337.50it/s]\n",
      "100%|██████████| 10/10 [00:00<00:00, 2247.99it/s]\n",
      "100%|██████████| 10/10 [00:00<00:00, 389.81it/s]\n",
      "100%|██████████| 10/10 [00:00<00:00, 2437.56it/s]\n",
      "100%|██████████| 10/10 [00:00<00:00, 339.29it/s]\n",
      "100%|██████████| 10/10 [00:00<00:00, 2333.93it/s]\n",
      "100%|██████████| 10/10 [00:00<00:00, 326.99it/s]\n",
      "100%|██████████| 10/10 [00:00<00:00, 2365.52it/s]\n"
     ]
    },
    {
     "name": "stdout",
     "output_type": "stream",
     "text": [
      "[0.5808, 363.0, 625]\n",
      "['20180604', '20180604']\n",
      "['20180526', '20180603']\n",
      "['20180605', '20180605']\n",
      "['20180527', '20180604']\n"
     ]
    },
    {
     "name": "stderr",
     "output_type": "stream",
     "text": [
      "100%|██████████| 10/10 [00:00<00:00, 289.91it/s]\n",
      "100%|██████████| 10/10 [00:00<00:00, 2264.62it/s]\n",
      "100%|██████████| 10/10 [00:00<00:00, 296.13it/s]\n",
      "100%|██████████| 10/10 [00:00<00:00, 300.94it/s]\n",
      "100%|██████████| 10/10 [00:00<00:00, 2253.31it/s]\n",
      "100%|██████████| 10/10 [00:00<00:00, 2138.97it/s]\n"
     ]
    },
    {
     "name": "stdout",
     "output_type": "stream",
     "text": [
      "[0.5800316957210776, 365.99999999999994, 631]\n",
      "['20180606', '20180606']\n",
      "['20180528', '20180605']\n",
      "[0.5777777777777777, 363.99999999999994, 630]\n",
      "['20180607', '20180607']\n",
      "['20180529', '20180606']\n",
      "[0.6006441223832528, 373.0, 621]\n",
      "['20180608', '20180608']\n",
      "['20180530', '20180607']\n",
      "[0.5687203791469194, 360.0, 633]\n",
      "['20180609', '20180609']\n",
      "['20180531', '20180608']\n",
      "[0.572107765451664, 360.99999999999994, 631]\n",
      "['20180610', '20180610']\n",
      "['20180601', '20180609']\n",
      "['20180611', '20180611']\n",
      "['20180602', '20180610']\n",
      "['20180612', '20180612']\n",
      "['20180603', '20180611']\n",
      "[0.6035598705501618, 373.0, 618]\n",
      "['20180613', '20180613']\n",
      "['20180604', '20180612']\n"
     ]
    },
    {
     "name": "stderr",
     "output_type": "stream",
     "text": [
      "100%|██████████| 10/10 [00:00<00:00, 327.71it/s]\n",
      "100%|██████████| 10/10 [00:00<00:00, 369.66it/s]\n",
      "100%|██████████| 10/10 [00:00<00:00, 2313.59it/s]\n",
      "100%|██████████| 10/10 [00:00<00:00, 2346.86it/s]\n",
      "100%|██████████| 10/10 [00:00<00:00, 370.64it/s]\n",
      "100%|██████████| 10/10 [00:00<00:00, 324.53it/s]\n",
      "100%|██████████| 10/10 [00:00<00:00, 2324.36it/s]\n",
      "100%|██████████| 10/10 [00:00<00:00, 2378.80it/s]\n",
      "100%|██████████| 10/10 [00:00<00:00, 289.95it/s]\n",
      "100%|██████████| 10/10 [00:00<00:00, 2097.78it/s]\n"
     ]
    },
    {
     "name": "stdout",
     "output_type": "stream",
     "text": [
      "[0.6038961038961039, 372.0, 616]\n",
      "['20180614', '20180614']\n",
      "['20180605', '20180613']\n",
      "[0.6231404958677685, 376.99999999999994, 605]\n",
      "['20180615', '20180615']\n",
      "['20180606', '20180614']\n",
      "[0.6035598705501618, 373.0, 618]\n",
      "['20180616', '20180616']\n",
      "['20180607', '20180615']\n",
      "[0.6231404958677685, 376.99999999999994, 605]\n",
      "['20180617', '20180617']\n",
      "['20180608', '20180616']\n"
     ]
    },
    {
     "name": "stderr",
     "output_type": "stream",
     "text": [
      "100%|██████████| 10/10 [00:00<00:00, 299.90it/s]\n",
      "100%|██████████| 10/10 [00:00<00:00, 2149.60it/s]\n",
      "100%|██████████| 10/10 [00:00<00:00, 286.05it/s]\n",
      "100%|██████████| 10/10 [00:00<00:00, 337.85it/s]\n",
      "100%|██████████| 10/10 [00:00<00:00, 2287.97it/s]\n",
      "100%|██████████| 10/10 [00:00<00:00, 2198.39it/s]\n",
      "100%|██████████| 10/10 [00:00<00:00, 377.76it/s]\n",
      "100%|██████████| 10/10 [00:00<00:00, 2230.89it/s]\n",
      "100%|██████████| 10/10 [00:00<00:00, 376.46it/s]\n",
      "100%|██████████| 10/10 [00:00<00:00, 2325.13it/s]\n",
      "100%|██████████| 10/10 [00:00<00:00, 328.52it/s]\n",
      "100%|██████████| 10/10 [00:00<00:00, 2294.35it/s]\n",
      "100%|██████████| 10/10 [00:00<00:00, 289.70it/s]\n",
      "100%|██████████| 10/10 [00:00<00:00, 2296.36it/s]\n"
     ]
    },
    {
     "name": "stdout",
     "output_type": "stream",
     "text": [
      "['20180618', '20180618']\n",
      "['20180609', '20180617']\n",
      "[0.5813586097946287, 368.0, 633]\n",
      "['20180619', '20180619']\n",
      "['20180610', '20180618']\n",
      "['20180620', '20180620']\n",
      "['20180611', '20180619']\n",
      "[0.5772870662460567, 366.0, 634]\n",
      "['20180621', '20180621']\n",
      "['20180612', '20180620']\n",
      "[0.5703001579778831, 361.0, 633]\n",
      "['20180622', '20180622']\n",
      "['20180613', '20180621']\n"
     ]
    },
    {
     "name": "stderr",
     "output_type": "stream",
     "text": [
      "100%|██████████| 10/10 [00:00<00:00, 300.06it/s]\n",
      "100%|██████████| 10/10 [00:00<00:00, 989.29it/s]\n",
      "100%|██████████| 10/10 [00:00<00:00, 256.15it/s]\n",
      "100%|██████████| 10/10 [00:00<00:00, 2144.66it/s]\n"
     ]
    },
    {
     "name": "stdout",
     "output_type": "stream",
     "text": [
      "[0.5935483870967742, 368.0, 620]\n",
      "['20180623', '20180623']\n",
      "['20180614', '20180622']\n",
      "['20180624', '20180624']\n",
      "['20180615', '20180623']\n"
     ]
    },
    {
     "name": "stderr",
     "output_type": "stream",
     "text": [
      "100%|██████████| 10/10 [00:00<00:00, 286.47it/s]\n",
      "100%|██████████| 10/10 [00:00<00:00, 2383.94it/s]\n",
      "100%|██████████| 10/10 [00:00<00:00, 379.27it/s]\n",
      "100%|██████████| 10/10 [00:00<00:00, 2525.32it/s]\n"
     ]
    },
    {
     "name": "stdout",
     "output_type": "stream",
     "text": [
      "['20180625', '20180625']\n",
      "['20180616', '20180624']\n",
      "[0.5935483870967742, 368.0, 620]\n",
      "['20180626', '20180626']\n",
      "['20180617', '20180625']\n",
      "[0.5877616747181964, 364.99999999999994, 621]\n",
      "['20180627', '20180627']\n",
      "['20180618', '20180626']\n"
     ]
    },
    {
     "name": "stderr",
     "output_type": "stream",
     "text": [
      "100%|██████████| 10/10 [00:00<00:00, 320.81it/s]\n",
      "100%|██████████| 10/10 [00:00<00:00, 2352.12it/s]\n",
      "100%|██████████| 10/10 [00:00<00:00, 289.17it/s]\n",
      "100%|██████████| 10/10 [00:00<00:00, 1387.46it/s]\n",
      "100%|██████████| 10/10 [00:00<00:00, 270.04it/s]\n",
      "100%|██████████| 10/10 [00:00<00:00, 2250.53it/s]\n",
      "100%|██████████| 10/10 [00:00<00:00, 266.34it/s]\n",
      "100%|██████████| 10/10 [00:00<00:00, 2091.19it/s]\n"
     ]
    },
    {
     "name": "stdout",
     "output_type": "stream",
     "text": [
      "[0.5801282051282052, 362.00000000000006, 624]\n",
      "['20180628', '20180628']\n",
      "['20180619', '20180627']\n",
      "[0.5662460567823344, 359.0, 634]\n",
      "['20180629', '20180629']\n",
      "['20180620', '20180628']\n"
     ]
    },
    {
     "name": "stderr",
     "output_type": "stream",
     "text": [
      "100%|██████████| 10/10 [00:00<00:00, 264.19it/s]\n",
      "100%|██████████| 10/10 [00:00<00:00, 2090.36it/s]\n",
      "100%|██████████| 10/10 [00:00<00:00, 297.47it/s]\n",
      "100%|██████████| 10/10 [00:00<00:00, 373.66it/s]\n",
      "100%|██████████| 10/10 [00:00<00:00, 2315.50it/s]\n",
      "100%|██████████| 10/10 [00:00<00:00, 2372.48it/s]\n",
      "  0%|          | 0/10 [00:00<?, ?it/s]"
     ]
    },
    {
     "name": "stdout",
     "output_type": "stream",
     "text": [
      "[0.6196721311475409, 378.0, 610]\n",
      "['20180630', '20180630']\n",
      "['20180621', '20180629']\n",
      "[0.6196721311475409, 378.0, 610]\n",
      "['20180701', '20180701']\n",
      "['20180622', '20180630']\n",
      "['20180702', '20180702']\n",
      "['20180623', '20180701']\n",
      "['20180703', '20180703']\n",
      "['20180624', '20180702']\n"
     ]
    },
    {
     "name": "stderr",
     "output_type": "stream",
     "text": [
      "100%|██████████| 10/10 [00:00<00:00, 371.25it/s]\n",
      "100%|██████████| 10/10 [00:00<00:00, 324.54it/s]\n",
      "100%|██████████| 10/10 [00:00<00:00, 2351.59it/s]\n",
      "100%|██████████| 10/10 [00:00<00:00, 2318.70it/s]\n",
      "  0%|          | 0/10 [00:00<?, ?it/s]"
     ]
    },
    {
     "name": "stdout",
     "output_type": "stream",
     "text": [
      "[0.5714285714285714, 364.0, 637]\n",
      "['20180704', '20180704']\n",
      "['20180625', '20180703']\n"
     ]
    },
    {
     "name": "stderr",
     "output_type": "stream",
     "text": [
      "100%|██████████| 10/10 [00:00<00:00, 292.12it/s]\n",
      "100%|██████████| 10/10 [00:00<00:00, 1910.32it/s]\n"
     ]
    },
    {
     "name": "stdout",
     "output_type": "stream",
     "text": [
      "[0.5602503912363067, 358.0, 639]\n",
      "['20180705', '20180705']\n",
      "['20180626', '20180704']\n",
      "[0.5736925515055468, 362.0, 631]\n",
      "['20180706', '20180706']\n",
      "['20180627', '20180705']\n",
      "[0.5622047244094488, 357.0, 635]\n",
      "['20180707', '20180707']\n",
      "['20180628', '20180706']\n"
     ]
    },
    {
     "name": "stderr",
     "output_type": "stream",
     "text": [
      "100%|██████████| 10/10 [00:00<00:00, 305.48it/s]\n",
      "100%|██████████| 10/10 [00:00<00:00, 2135.48it/s]\n",
      "100%|██████████| 10/10 [00:00<00:00, 310.00it/s]\n",
      "100%|██████████| 10/10 [00:00<00:00, 2211.84it/s]\n",
      "100%|██████████| 10/10 [00:00<00:00, 334.31it/s]\n",
      "100%|██████████| 10/10 [00:00<00:00, 2151.48it/s]\n",
      "100%|██████████| 10/10 [00:00<00:00, 388.83it/s]\n",
      "100%|██████████| 10/10 [00:00<00:00, 3266.08it/s]\n",
      "100%|██████████| 10/10 [00:00<00:00, 372.84it/s]\n",
      "100%|██████████| 10/10 [00:00<00:00, 2245.22it/s]\n",
      "100%|██████████| 10/10 [00:00<00:00, 326.51it/s]\n",
      "100%|██████████| 10/10 [00:00<00:00, 334.09it/s]\n",
      "100%|██████████| 10/10 [00:00<00:00, 2234.10it/s]\n",
      "100%|██████████| 10/10 [00:00<00:00, 293.78it/s]\n",
      "100%|██████████| 10/10 [00:00<00:00, 3135.46it/s]\n",
      "100%|██████████| 10/10 [00:00<00:00, 2187.50it/s]\n"
     ]
    },
    {
     "name": "stdout",
     "output_type": "stream",
     "text": [
      "[0.5455950540958269, 353.0, 647]\n",
      "['20180708', '20180708']\n",
      "['20180629', '20180707']\n",
      "[0.5736925515055468, 362.0, 631]\n",
      "['20180709', '20180709']\n",
      "['20180630', '20180708']\n",
      "[0.5489891135303266, 353.00000000000006, 643]\n",
      "['20180710', '20180710']\n",
      "['20180701', '20180709']\n",
      "['20180711', '20180711']\n",
      "['20180702', '20180710']\n",
      "['20180712', '20180712']\n",
      "['20180703', '20180711']\n",
      "[0.5660377358490566, 360.0, 636]\n",
      "['20180713', '20180713']\n",
      "['20180704', '20180712']\n",
      "[0.6189683860232945, 372.0, 601]\n",
      "['20180714', '20180714']\n",
      "['20180705', '20180713']\n",
      "['20180715', '20180715']\n",
      "['20180706', '20180714']\n"
     ]
    },
    {
     "name": "stderr",
     "output_type": "stream",
     "text": [
      "100%|██████████| 10/10 [00:00<00:00, 289.22it/s]\n",
      "100%|██████████| 10/10 [00:00<00:00, 325.58it/s]\n",
      "100%|██████████| 10/10 [00:00<00:00, 2248.11it/s]\n",
      "100%|██████████| 10/10 [00:00<00:00, 2131.69it/s]\n",
      "100%|██████████| 10/10 [00:00<00:00, 375.81it/s]\n",
      "100%|██████████| 10/10 [00:00<00:00, 2362.99it/s]\n"
     ]
    },
    {
     "name": "stdout",
     "output_type": "stream",
     "text": [
      "['20180716', '20180716']\n",
      "['20180707', '20180715']\n",
      "[0.6189683860232945, 372.0, 601]\n",
      "['20180717', '20180717']\n",
      "['20180708', '20180716']\n"
     ]
    },
    {
     "name": "stderr",
     "output_type": "stream",
     "text": [
      "100%|██████████| 10/10 [00:00<00:00, 381.15it/s]\n",
      "100%|██████████| 10/10 [00:00<00:00, 2417.47it/s]\n",
      "100%|██████████| 10/10 [00:00<00:00, 337.48it/s]\n",
      "100%|██████████| 10/10 [00:00<00:00, 2384.08it/s]\n",
      "100%|██████████| 10/10 [00:00<00:00, 170.59it/s]\n",
      "100%|██████████| 10/10 [00:00<00:00, 2170.18it/s]\n"
     ]
    },
    {
     "name": "stdout",
     "output_type": "stream",
     "text": [
      "[0.6048387096774194, 375.0, 620]\n",
      "['20180718', '20180718']\n",
      "['20180709', '20180717']\n"
     ]
    },
    {
     "name": "stderr",
     "output_type": "stream",
     "text": [
      "100%|██████████| 10/10 [00:00<00:00, 275.49it/s]\n",
      "100%|██████████| 10/10 [00:00<00:00, 295.07it/s]\n",
      "100%|██████████| 10/10 [00:00<00:00, 2141.26it/s]\n",
      "100%|██████████| 10/10 [00:00<00:00, 2247.15it/s]\n",
      "100%|██████████| 10/10 [00:00<00:00, 328.02it/s]\n",
      "100%|██████████| 10/10 [00:00<00:00, 2141.04it/s]\n",
      "100%|██████████| 10/10 [00:00<00:00, 379.43it/s]\n",
      "100%|██████████| 10/10 [00:00<00:00, 2152.36it/s]\n",
      "100%|██████████| 10/10 [00:00<00:00, 377.60it/s]\n",
      "  0%|          | 0/10 [00:00<?, ?it/s]"
     ]
    },
    {
     "name": "stdout",
     "output_type": "stream",
     "text": [
      "[0.6524701873935264, 383.0, 587]\n",
      "['20180719', '20180719']\n",
      "['20180710', '20180718']\n",
      "[0.6045016077170418, 376.0, 622]\n",
      "['20180720', '20180720']\n",
      "['20180711', '20180719']\n",
      "[0.5925925925925926, 368.0, 621]\n",
      "['20180721', '20180721']\n",
      "['20180712', '20180720']\n",
      "[0.6524701873935264, 383.0, 587]\n",
      "['20180722', '20180722']\n",
      "['20180713', '20180721']\n",
      "['20180723', '20180723']\n",
      "['20180714', '20180722']\n"
     ]
    },
    {
     "name": "stderr",
     "output_type": "stream",
     "text": [
      "100%|██████████| 10/10 [00:00<00:00, 2898.42it/s]\n",
      "100%|██████████| 10/10 [00:00<00:00, 334.16it/s]\n",
      "100%|██████████| 10/10 [00:00<00:00, 2141.04it/s]\n",
      "100%|██████████| 10/10 [00:00<00:00, 370.07it/s]\n",
      "100%|██████████| 10/10 [00:00<00:00, 2989.53it/s]\n"
     ]
    },
    {
     "name": "stdout",
     "output_type": "stream",
     "text": [
      "['20180724', '20180724']\n",
      "['20180715', '20180723']\n",
      "[0.6194398682042833, 376.0, 607]\n",
      "['20180725', '20180725']\n",
      "['20180716', '20180724']\n",
      "[0.5655608214849921, 358.0, 633]\n",
      "['20180726', '20180726']\n",
      "['20180717', '20180725']\n",
      "[0.5954692556634305, 368.0, 618]\n",
      "['20180727', '20180727']\n",
      "['20180718', '20180726']\n"
     ]
    },
    {
     "name": "stderr",
     "output_type": "stream",
     "text": [
      "100%|██████████| 10/10 [00:00<00:00, 293.91it/s]\n",
      "100%|██████████| 10/10 [00:00<00:00, 2287.47it/s]\n",
      "100%|██████████| 10/10 [00:00<00:00, 293.87it/s]\n",
      "100%|██████████| 10/10 [00:00<00:00, 2252.22it/s]\n",
      "100%|██████████| 10/10 [00:00<00:00, 320.35it/s]\n",
      "100%|██████████| 10/10 [00:00<00:00, 2234.94it/s]\n",
      "100%|██████████| 10/10 [00:00<00:00, 365.14it/s]\n",
      "100%|██████████| 10/10 [00:00<00:00, 2185.56it/s]\n",
      "100%|██████████| 10/10 [00:00<00:00, 365.60it/s]\n",
      "100%|██████████| 10/10 [00:00<00:00, 2350.80it/s]\n",
      "100%|██████████| 10/10 [00:00<00:00, 327.44it/s]\n"
     ]
    },
    {
     "name": "stdout",
     "output_type": "stream",
     "text": [
      "[0.5954692556634305, 368.0, 618]\n",
      "['20180728', '20180728']\n",
      "['20180719', '20180727']\n",
      "[0.6006493506493507, 370.0, 616]\n",
      "['20180729', '20180729']\n",
      "['20180720', '20180728']\n",
      "['20180730', '20180730']\n",
      "['20180721', '20180729']\n",
      "['20180731', '20180731']\n",
      "['20180722', '20180730']\n"
     ]
    },
    {
     "name": "stderr",
     "output_type": "stream",
     "text": [
      "100%|██████████| 10/10 [00:00<00:00, 2245.22it/s]\n",
      "100%|██████████| 10/10 [00:00<00:00, 290.54it/s]\n",
      "100%|██████████| 10/10 [00:00<00:00, 2314.74it/s]\n",
      "  0%|          | 0/10 [00:00<?, ?it/s]"
     ]
    },
    {
     "name": "stdout",
     "output_type": "stream",
     "text": [
      "[0.5964343598055105, 368.0, 617]\n",
      "['20180801', '20180801']\n",
      "['20180723', '20180731']\n",
      "[0.6072607260726073, 368.0, 606]\n",
      "['20180802', '20180802']\n",
      "['20180724', '20180801']\n",
      "[0.5687203791469194, 360.0, 633]\n",
      "['20180803', '20180803']\n",
      "['20180725', '20180802']\n"
     ]
    },
    {
     "name": "stderr",
     "output_type": "stream",
     "text": [
      "100%|██████████| 10/10 [00:00<00:00, 292.25it/s]\n",
      "100%|██████████| 10/10 [00:00<00:00, 2120.91it/s]\n",
      "100%|██████████| 10/10 [00:00<00:00, 283.78it/s]\n",
      "100%|██████████| 10/10 [00:00<00:00, 2338.74it/s]\n"
     ]
    },
    {
     "name": "stdout",
     "output_type": "stream",
     "text": [
      "[0.5585443037974683, 353.0, 632]\n",
      "['20180804', '20180804']\n",
      "['20180726', '20180803']\n",
      "['20180805', '20180805']\n",
      "['20180727', '20180804']\n",
      "[0.6072607260726073, 368.0, 606]\n",
      "['20180806', '20180806']\n",
      "['20180728', '20180805']\n"
     ]
    },
    {
     "name": "stderr",
     "output_type": "stream",
     "text": [
      "100%|██████████| 10/10 [00:00<00:00, 337.24it/s]\n",
      "100%|██████████| 10/10 [00:00<00:00, 2244.74it/s]\n",
      "100%|██████████| 10/10 [00:00<00:00, 375.10it/s]\n",
      "100%|██████████| 10/10 [00:00<00:00, 2441.39it/s]\n",
      "100%|██████████| 10/10 [00:00<00:00, 377.91it/s]\n",
      "100%|██████████| 10/10 [00:00<00:00, 2357.28it/s]\n"
     ]
    },
    {
     "name": "stdout",
     "output_type": "stream",
     "text": [
      "['20180807', '20180807']\n",
      "['20180729', '20180806']\n"
     ]
    },
    {
     "name": "stderr",
     "output_type": "stream",
     "text": [
      "100%|██████████| 10/10 [00:00<00:00, 332.88it/s]\n",
      "100%|██████████| 10/10 [00:00<00:00, 2456.26it/s]\n"
     ]
    },
    {
     "name": "stdout",
     "output_type": "stream",
     "text": [
      "[0.6138613861386139, 372.0, 606]\n",
      "['20180808', '20180808']\n",
      "['20180730', '20180807']\n",
      "[0.5841423948220065, 361.0, 618]\n",
      "['20180809', '20180809']\n",
      "['20180731', '20180808']\n",
      "[0.5787781350482315, 360.0, 622]\n",
      "['20180810', '20180810']\n",
      "['20180801', '20180809']\n",
      "[0.5762439807383628, 359.0, 623]\n",
      "['20180811', '20180811']\n",
      "['20180802', '20180810']\n",
      "['20180812', '20180812']\n",
      "['20180803', '20180811']\n"
     ]
    },
    {
     "name": "stderr",
     "output_type": "stream",
     "text": [
      "100%|██████████| 10/10 [00:00<00:00, 325.66it/s]\n",
      "100%|██████████| 10/10 [00:00<00:00, 3095.20it/s]\n",
      "100%|██████████| 10/10 [00:00<00:00, 283.31it/s]\n",
      "100%|██████████| 10/10 [00:00<00:00, 2231.73it/s]\n",
      "100%|██████████| 10/10 [00:00<00:00, 279.91it/s]\n",
      "100%|██████████| 10/10 [00:00<00:00, 317.80it/s]\n",
      "100%|██████████| 10/10 [00:00<00:00, 2251.61it/s]\n",
      "100%|██████████| 10/10 [00:00<00:00, 2358.34it/s]\n",
      "100%|██████████| 10/10 [00:00<00:00, 379.14it/s]\n",
      "100%|██████████| 10/10 [00:00<00:00, 2439.54it/s]\n",
      "100%|██████████| 10/10 [00:00<00:00, 380.92it/s]\n",
      "100%|██████████| 10/10 [00:00<00:00, 2431.20it/s]\n"
     ]
    },
    {
     "name": "stdout",
     "output_type": "stream",
     "text": [
      "['20180813', '20180813']\n",
      "['20180804', '20180812']\n"
     ]
    },
    {
     "name": "stderr",
     "output_type": "stream",
     "text": [
      "100%|██████████| 10/10 [00:00<00:00, 314.08it/s]\n",
      "100%|██████████| 10/10 [00:00<00:00, 2183.51it/s]\n"
     ]
    },
    {
     "name": "stdout",
     "output_type": "stream",
     "text": [
      "[0.6138613861386139, 372.0, 606]\n",
      "['20180814', '20180814']\n",
      "['20180805', '20180813']\n"
     ]
    },
    {
     "name": "stderr",
     "output_type": "stream",
     "text": [
      "100%|██████████| 10/10 [00:00<00:00, 329.66it/s]\n",
      "100%|██████████| 10/10 [00:00<00:00, 2137.99it/s]\n",
      "100%|██████████| 10/10 [00:00<00:00, 319.52it/s]\n",
      "100%|██████████| 10/10 [00:00<00:00, 2244.86it/s]\n",
      "100%|██████████| 10/10 [00:00<00:00, 223.38it/s]\n",
      "100%|██████████| 10/10 [00:00<00:00, 293.69it/s]\n",
      "100%|██████████| 10/10 [00:00<00:00, 1568.02it/s]\n",
      "100%|██████████| 10/10 [00:00<00:00, 1464.65it/s]\n"
     ]
    },
    {
     "name": "stdout",
     "output_type": "stream",
     "text": [
      "[0.5964343598055105, 368.0, 617]\n",
      "['20180815', '20180815']\n",
      "['20180806', '20180814']\n",
      "[0.5876777251184834, 372.0, 633]\n",
      "['20180816', '20180816']\n",
      "['20180807', '20180815']\n",
      "['20180817', '20180817']\n",
      "['20180808', '20180816']\n",
      "[0.5885167464114832, 369.0, 627]\n",
      "['20180818', '20180818']\n",
      "['20180809', '20180817']\n",
      "[0.5885167464114832, 369.0, 627]\n",
      "['20180819', '20180819']\n",
      "['20180810', '20180818']\n"
     ]
    },
    {
     "name": "stderr",
     "output_type": "stream",
     "text": [
      "100%|██████████| 10/10 [00:00<00:00, 406.91it/s]\n",
      "100%|██████████| 10/10 [00:00<00:00, 2321.53it/s]\n",
      "100%|██████████| 10/10 [00:00<00:00, 356.66it/s]\n",
      "100%|██████████| 10/10 [00:00<00:00, 2486.40it/s]\n",
      "100%|██████████| 10/10 [00:00<00:00, 331.65it/s]\n",
      "100%|██████████| 10/10 [00:00<00:00, 2095.58it/s]\n",
      "100%|██████████| 10/10 [00:00<00:00, 246.24it/s]\n",
      "100%|██████████| 10/10 [00:00<00:00, 2304.06it/s]\n",
      "  0%|          | 0/10 [00:00<?, ?it/s]"
     ]
    },
    {
     "name": "stdout",
     "output_type": "stream",
     "text": [
      "[0.5987158908507223, 373.0, 623]\n",
      "['20180820', '20180820']\n",
      "['20180811', '20180819']\n",
      "['20180821', '20180821']\n",
      "['20180812', '20180820']\n",
      "['20180822', '20180822']\n",
      "['20180813', '20180821']\n",
      "['20180823', '20180823']\n",
      "['20180814', '20180822']\n"
     ]
    },
    {
     "name": "stderr",
     "output_type": "stream",
     "text": [
      "100%|██████████| 10/10 [00:00<00:00, 313.71it/s]\n",
      "100%|██████████| 10/10 [00:00<00:00, 2441.67it/s]\n",
      "100%|██████████| 10/10 [00:00<00:00, 368.76it/s]\n",
      "100%|██████████| 10/10 [00:00<00:00, 3202.49it/s]\n",
      "100%|██████████| 10/10 [00:00<00:00, 280.95it/s]\n",
      "100%|██████████| 10/10 [00:00<00:00, 392.15it/s]\n",
      "100%|██████████| 10/10 [00:00<00:00, 2054.32it/s]\n",
      "  0%|          | 0/10 [00:00<?, ?it/s]"
     ]
    },
    {
     "name": "stdout",
     "output_type": "stream",
     "text": [
      "[0.5409582689335394, 350.0, 647]\n",
      "['20180824', '20180824']\n",
      "['20180815', '20180823']\n",
      "[0.5471406491499228, 354.00000000000006, 647]\n",
      "['20180825', '20180825']\n",
      "['20180816', '20180824']\n",
      "[0.5284178187403994, 344.0, 651]\n",
      "['20180826', '20180826']\n",
      "['20180817', '20180825']\n",
      "['20180827', '20180827']\n",
      "['20180818', '20180826']\n"
     ]
    },
    {
     "name": "stderr",
     "output_type": "stream",
     "text": [
      "100%|██████████| 10/10 [00:00<00:00, 518.42it/s]\n",
      "100%|██████████| 10/10 [00:00<00:00, 352.83it/s]\n",
      "100%|██████████| 10/10 [00:00<00:00, 1973.51it/s]\n",
      "  0%|          | 0/10 [00:00<?, ?it/s]"
     ]
    },
    {
     "name": "stdout",
     "output_type": "stream",
     "text": [
      "['20180828', '20180828']\n",
      "['20180819', '20180827']\n",
      "[0.5641025641025641, 352.0, 624]\n",
      "['20180829', '20180829']\n",
      "['20180820', '20180828']\n",
      "[0.5641025641025641, 352.0, 624]\n",
      "['20180830', '20180830']\n",
      "['20180821', '20180829']\n"
     ]
    },
    {
     "name": "stderr",
     "output_type": "stream",
     "text": [
      "100%|██████████| 10/10 [00:00<00:00, 400.24it/s]\n",
      "100%|██████████| 10/10 [00:00<00:00, 3335.96it/s]\n",
      "100%|██████████| 10/10 [00:00<00:00, 337.72it/s]\n",
      "100%|██████████| 10/10 [00:00<00:00, 2238.04it/s]\n",
      "100%|██████████| 10/10 [00:00<00:00, 327.07it/s]\n",
      "100%|██████████| 10/10 [00:00<00:00, 2333.02it/s]\n"
     ]
    },
    {
     "name": "stdout",
     "output_type": "stream",
     "text": [
      "[0.5455974842767296, 347.00000000000006, 636]\n",
      "['20180831', '20180831']\n",
      "['20180822', '20180830']\n",
      "[0.5383411580594679, 344.0, 639]\n",
      "['20180901', '20180901']\n",
      "['20180823', '20180831']\n",
      "['20180902', '20180902']\n",
      "['20180824', '20180901']\n",
      "[0.5440494590417311, 352.0, 647]\n",
      "['20180903', '20180903']\n",
      "['20180825', '20180902']\n"
     ]
    },
    {
     "name": "stderr",
     "output_type": "stream",
     "text": [
      "100%|██████████| 10/10 [00:00<00:00, 305.94it/s]\n",
      "100%|██████████| 10/10 [00:00<00:00, 2182.49it/s]\n",
      "100%|██████████| 10/10 [00:00<00:00, 319.84it/s]\n",
      "100%|██████████| 10/10 [00:00<00:00, 2202.54it/s]\n",
      "100%|██████████| 10/10 [00:00<00:00, 352.77it/s]\n",
      "100%|██████████| 10/10 [00:00<00:00, 326.58it/s]\n",
      "100%|██████████| 10/10 [00:00<00:00, 2046.40it/s]\n",
      "100%|██████████| 10/10 [00:00<00:00, 2345.02it/s]\n",
      "100%|██████████| 10/10 [00:00<00:00, 327.74it/s]\n",
      "100%|██████████| 10/10 [00:00<00:00, 2152.69it/s]\n",
      "100%|██████████| 10/10 [00:00<00:00, 296.18it/s]\n"
     ]
    },
    {
     "name": "stdout",
     "output_type": "stream",
     "text": [
      "['20180904', '20180904']\n",
      "['20180826', '20180903']\n",
      "[0.5694006309148265, 361.0, 634]\n",
      "['20180905', '20180905']\n",
      "['20180827', '20180904']\n"
     ]
    },
    {
     "name": "stderr",
     "output_type": "stream",
     "text": [
      "100%|██████████| 10/10 [00:00<00:00, 2236.96it/s]\n"
     ]
    },
    {
     "name": "stdout",
     "output_type": "stream",
     "text": [
      "[0.5694006309148265, 361.0, 634]\n",
      "['20180906', '20180906']\n",
      "['20180828', '20180905']\n",
      "[0.5265553869499241, 347.0, 659]\n",
      "['20180907', '20180907']\n",
      "['20180829', '20180906']\n"
     ]
    },
    {
     "name": "stderr",
     "output_type": "stream",
     "text": [
      "100%|██████████| 10/10 [00:00<00:00, 304.05it/s]\n",
      "100%|██████████| 10/10 [00:00<00:00, 2120.16it/s]\n",
      "100%|██████████| 10/10 [00:00<00:00, 298.54it/s]\n",
      "100%|██████████| 10/10 [00:00<00:00, 2011.17it/s]\n"
     ]
    },
    {
     "name": "stdout",
     "output_type": "stream",
     "text": [
      "[0.5550314465408805, 353.0, 636]\n",
      "['20180908', '20180908']\n",
      "['20180830', '20180907']\n",
      "['20180909', '20180909']\n",
      "['20180831', '20180908']\n",
      "['20180910', '20180910']\n",
      "['20180901', '20180909']\n"
     ]
    },
    {
     "name": "stderr",
     "output_type": "stream",
     "text": [
      "100%|██████████| 10/10 [00:00<00:00, 341.29it/s]\n",
      "100%|██████████| 10/10 [00:00<00:00, 2360.20it/s]\n",
      "100%|██████████| 10/10 [00:00<00:00, 391.04it/s]\n",
      "100%|██████████| 10/10 [00:00<00:00, 2433.88it/s]\n",
      "100%|██████████| 10/10 [00:00<00:00, 388.05it/s]\n",
      "100%|██████████| 10/10 [00:00<00:00, 2505.11it/s]\n"
     ]
    },
    {
     "name": "stdout",
     "output_type": "stream",
     "text": [
      "[0.5877616747181964, 364.99999999999994, 621]\n",
      "['20180911', '20180911']\n",
      "['20180902', '20180910']\n",
      "[0.6206322795341098, 373.0, 601]\n",
      "['20180912', '20180912']\n",
      "['20180903', '20180911']\n",
      "[0.627287853577371, 377.0, 601]\n",
      "['20180913', '20180913']\n",
      "['20180904', '20180912']\n",
      "[0.6366666666666667, 382.0, 600]\n",
      "['20180914', '20180914']\n",
      "['20180905', '20180913']\n",
      "[0.6206322795341098, 373.0, 601]\n",
      "['20180915', '20180915']\n",
      "['20180906', '20180914']\n"
     ]
    },
    {
     "name": "stderr",
     "output_type": "stream",
     "text": [
      "100%|██████████| 10/10 [00:00<00:00, 327.09it/s]\n",
      "100%|██████████| 10/10 [00:00<00:00, 2382.59it/s]\n",
      "100%|██████████| 10/10 [00:00<00:00, 299.94it/s]\n",
      "100%|██████████| 10/10 [00:00<00:00, 2123.81it/s]\n",
      "100%|██████████| 10/10 [00:00<00:00, 328.19it/s]\n",
      "100%|██████████| 10/10 [00:00<00:00, 323.02it/s]\n",
      "100%|██████████| 10/10 [00:00<00:00, 2065.45it/s]\n",
      "100%|██████████| 10/10 [00:00<00:00, 359.54it/s]\n",
      "100%|██████████| 10/10 [00:00<00:00, 2161.68it/s]\n",
      "100%|██████████| 10/10 [00:00<00:00, 2343.19it/s]\n",
      "100%|██████████| 10/10 [00:00<00:00, 425.84it/s]\n",
      "100%|██████████| 10/10 [00:00<00:00, 500.16it/s]\n",
      "100%|██████████| 10/10 [00:00<00:00, 2387.47it/s]\n",
      "100%|██████████| 10/10 [00:00<00:00, 3010.99it/s]\n",
      "100%|██████████| 10/10 [00:00<00:00, 354.35it/s]\n",
      "100%|██████████| 10/10 [00:00<00:00, 327.21it/s]\n",
      "100%|██████████| 10/10 [00:00<00:00, 2206.48it/s]\n",
      "100%|██████████| 10/10 [00:00<00:00, 2020.47it/s]\n",
      "100%|██████████| 10/10 [00:00<00:00, 362.65it/s]\n",
      "100%|██████████| 10/10 [00:00<00:00, 2478.32it/s]\n"
     ]
    },
    {
     "name": "stdout",
     "output_type": "stream",
     "text": [
      "[0.6366666666666667, 382.0, 600]\n",
      "['20180916', '20180916']\n",
      "['20180907', '20180915']\n",
      "[0.5983870967741935, 371.0, 620]\n",
      "['20180917', '20180917']\n",
      "['20180908', '20180916']\n",
      "['20180918', '20180918']\n",
      "['20180909', '20180917']\n",
      "['20180919', '20180919']\n",
      "['20180910', '20180918']\n",
      "['20180920', '20180920']\n",
      "['20180911', '20180919']\n",
      "['20180921', '20180921']\n",
      "['20180912', '20180920']\n"
     ]
    },
    {
     "name": "stderr",
     "output_type": "stream",
     "text": [
      "100%|██████████| 10/10 [00:00<00:00, 382.25it/s]\n",
      "100%|██████████| 10/10 [00:00<00:00, 2230.42it/s]\n",
      "100%|██████████| 10/10 [00:00<00:00, 416.66it/s]\n",
      "100%|██████████| 10/10 [00:00<00:00, 2260.84it/s]\n"
     ]
    },
    {
     "name": "stdout",
     "output_type": "stream",
     "text": [
      "[0.582258064516129, 361.0, 620]\n",
      "['20180922', '20180922']\n",
      "['20180913', '20180921']\n",
      "['20180923', '20180923']\n",
      "['20180914', '20180922']\n",
      "[0.5964343598055105, 368.0, 617]\n",
      "['20180924', '20180924']\n",
      "['20180915', '20180923']\n"
     ]
    },
    {
     "name": "stderr",
     "output_type": "stream",
     "text": [
      "100%|██████████| 10/10 [00:00<00:00, 363.96it/s]\n",
      "100%|██████████| 10/10 [00:00<00:00, 2512.76it/s]\n",
      "100%|██████████| 10/10 [00:00<00:00, 333.46it/s]\n",
      "100%|██████████| 10/10 [00:00<00:00, 2276.54it/s]\n",
      "100%|██████████| 10/10 [00:00<00:00, 358.51it/s]\n",
      "100%|██████████| 10/10 [00:00<00:00, 2194.94it/s]\n"
     ]
    },
    {
     "name": "stdout",
     "output_type": "stream",
     "text": [
      "['20180925', '20180925']\n",
      "['20180916', '20180924']\n"
     ]
    },
    {
     "name": "stderr",
     "output_type": "stream",
     "text": [
      "100%|██████████| 10/10 [00:00<00:00, 314.79it/s]\n",
      "100%|██████████| 10/10 [00:00<00:00, 1851.87it/s]\n",
      "100%|██████████| 10/10 [00:00<00:00, 288.71it/s]\n",
      "100%|██████████| 10/10 [00:00<00:00, 2363.79it/s]\n"
     ]
    },
    {
     "name": "stdout",
     "output_type": "stream",
     "text": [
      "[0.5803858520900321, 361.0, 622]\n",
      "['20180926', '20180926']\n",
      "['20180917', '20180925']\n",
      "[0.5498442367601246, 353.0, 642]\n",
      "['20180927', '20180927']\n",
      "['20180918', '20180926']\n",
      "[0.5803858520900321, 361.0, 622]\n",
      "['20180928', '20180928']\n",
      "['20180919', '20180927']\n"
     ]
    },
    {
     "name": "stderr",
     "output_type": "stream",
     "text": [
      "100%|██████████| 10/10 [00:00<00:00, 335.56it/s]\n",
      "100%|██████████| 10/10 [00:00<00:00, 2354.37it/s]\n"
     ]
    },
    {
     "name": "stdout",
     "output_type": "stream",
     "text": [
      "[0.5843949044585988, 367.0, 628]\n",
      "['20180929', '20180929']\n",
      "['20180920', '20180928']\n",
      "['20180930', '20180930']\n",
      "['20180921', '20180929']\n",
      "[0.557632398753894, 357.99999999999994, 642]\n",
      "['20181001', '20181001']\n",
      "['20180922', '20180930']\n",
      "['20181002', '20181002']\n",
      "['20180923', '20181001']\n"
     ]
    },
    {
     "name": "stderr",
     "output_type": "stream",
     "text": [
      "100%|██████████| 10/10 [00:00<00:00, 395.25it/s]\n",
      "100%|██████████| 10/10 [00:00<00:00, 2229.95it/s]\n",
      "100%|██████████| 10/10 [00:00<00:00, 392.89it/s]\n",
      "100%|██████████| 10/10 [00:00<00:00, 381.10it/s]\n",
      "100%|██████████| 10/10 [00:00<00:00, 2198.27it/s]\n",
      "100%|██████████| 10/10 [00:00<00:00, 2287.10it/s]\n",
      "100%|██████████| 10/10 [00:00<00:00, 388.05it/s]\n",
      "100%|██████████| 10/10 [00:00<00:00, 2181.13it/s]\n",
      "100%|██████████| 10/10 [00:00<00:00, 309.65it/s]\n",
      "100%|██████████| 10/10 [00:00<00:00, 1920.38it/s]\n",
      "100%|██████████| 10/10 [00:00<00:00, 332.61it/s]\n",
      "100%|██████████| 10/10 [00:00<00:00, 2297.75it/s]\n"
     ]
    },
    {
     "name": "stdout",
     "output_type": "stream",
     "text": [
      "['20181003', '20181003']\n",
      "['20180924', '20181002']\n",
      "[0.615, 369.0, 600]\n",
      "['20181004', '20181004']\n",
      "['20180925', '20181003']\n",
      "[0.615, 369.0, 600]\n",
      "['20181005', '20181005']\n",
      "['20180926', '20181004']\n"
     ]
    },
    {
     "name": "stderr",
     "output_type": "stream",
     "text": [
      "100%|██████████| 10/10 [00:00<00:00, 341.76it/s]\n",
      "100%|██████████| 10/10 [00:00<00:00, 2369.26it/s]\n",
      "100%|██████████| 10/10 [00:00<00:00, 340.67it/s]\n",
      "100%|██████████| 10/10 [00:00<00:00, 2281.12it/s]\n"
     ]
    },
    {
     "name": "stdout",
     "output_type": "stream",
     "text": [
      "[0.5915721231766613, 365.0, 617]\n",
      "['20181006', '20181006']\n",
      "['20180927', '20181005']\n",
      "['20181007', '20181007']\n",
      "['20180928', '20181006']\n"
     ]
    },
    {
     "name": "stderr",
     "output_type": "stream",
     "text": [
      "100%|██████████| 10/10 [00:00<00:00, 361.21it/s]\n",
      "100%|██████████| 10/10 [00:00<00:00, 2367.52it/s]\n",
      "100%|██████████| 10/10 [00:00<00:00, 507.29it/s]\n",
      "100%|██████████| 10/10 [00:00<00:00, 1898.22it/s]\n",
      "100%|██████████| 10/10 [00:00<00:00, 355.32it/s]\n",
      "100%|██████████| 10/10 [00:00<00:00, 2413.71it/s]\n"
     ]
    },
    {
     "name": "stdout",
     "output_type": "stream",
     "text": [
      "['20181008', '20181008']\n",
      "['20180929', '20181007']\n",
      "[0.591869918699187, 364.0, 615]\n",
      "['20181009', '20181009']\n",
      "['20180930', '20181008']\n",
      "[0.6570458404074703, 387.0, 589]\n",
      "['20181010', '20181010']\n",
      "['20181001', '20181009']\n"
     ]
    },
    {
     "name": "stderr",
     "output_type": "stream",
     "text": [
      "100%|██████████| 10/10 [00:00<00:00, 279.07it/s]\n",
      "100%|██████████| 10/10 [00:00<00:00, 2064.02it/s]\n",
      "100%|██████████| 10/10 [00:00<00:00, 325.11it/s]\n",
      "  0%|          | 0/10 [00:00<?, ?it/s]"
     ]
    },
    {
     "name": "stdout",
     "output_type": "stream",
     "text": [
      "[0.6570458404074703, 387.0, 589]\n",
      "['20181011', '20181011']\n",
      "['20181002', '20181010']\n",
      "[0.6172638436482085, 379.00000000000006, 614]\n",
      "['20181012', '20181012']\n",
      "['20181003', '20181011']\n",
      "[0.6141215106732348, 374.0, 609]\n",
      "['20181013', '20181013']\n",
      "['20181004', '20181012']\n",
      "[0.6190476190476191, 377.0, 609]\n",
      "['20181014', '20181014']\n",
      "['20181005', '20181013']\n",
      "[0.6570945945945946, 389.0, 592]\n",
      "['20181015', '20181015']\n",
      "['20181006', '20181014']\n",
      "['20181016', '20181016']\n",
      "['20181007', '20181015']\n"
     ]
    },
    {
     "name": "stderr",
     "output_type": "stream",
     "text": [
      "100%|██████████| 10/10 [00:00<00:00, 2138.42it/s]\n",
      "100%|██████████| 10/10 [00:00<00:00, 292.12it/s]\n",
      "100%|██████████| 10/10 [00:00<00:00, 293.61it/s]\n",
      "100%|██████████| 10/10 [00:00<00:00, 2266.46it/s]\n",
      "100%|██████████| 10/10 [00:00<00:00, 2400.17it/s]\n",
      "100%|██████████| 10/10 [00:00<00:00, 358.39it/s]\n",
      "100%|██████████| 10/10 [00:00<00:00, 2374.49it/s]\n",
      "100%|██████████| 10/10 [00:00<00:00, 359.23it/s]\n",
      "100%|██████████| 10/10 [00:00<00:00, 305.43it/s]\n",
      "100%|██████████| 10/10 [00:00<00:00, 2344.37it/s]\n",
      "100%|██████████| 10/10 [00:00<00:00, 2333.93it/s]\n"
     ]
    },
    {
     "name": "stdout",
     "output_type": "stream",
     "text": [
      "['20181017', '20181017']\n",
      "['20181008', '20181016']\n",
      "[0.6141215106732348, 374.0, 609]\n",
      "['20181018', '20181018']\n",
      "['20181009', '20181017']\n"
     ]
    },
    {
     "name": "stderr",
     "output_type": "stream",
     "text": [
      "100%|██████████| 10/10 [00:00<00:00, 283.06it/s]\n",
      "100%|██████████| 10/10 [00:00<00:00, 2331.98it/s]\n",
      "100%|██████████| 10/10 [00:00<00:00, 325.74it/s]\n",
      "100%|██████████| 10/10 [00:00<00:00, 2031.53it/s]\n"
     ]
    },
    {
     "name": "stdout",
     "output_type": "stream",
     "text": [
      "['20181019', '20181019']\n",
      "['20181010', '20181018']\n",
      "[0.6570945945945946, 389.0, 592]\n",
      "['20181020', '20181020']\n",
      "['20181011', '20181019']\n",
      "['20181021', '20181021']\n",
      "['20181012', '20181020']\n"
     ]
    },
    {
     "name": "stderr",
     "output_type": "stream",
     "text": [
      "100%|██████████| 10/10 [00:00<00:00, 326.63it/s]\n",
      "100%|██████████| 10/10 [00:00<00:00, 2145.42it/s]\n",
      "100%|██████████| 10/10 [00:00<00:00, 363.97it/s]\n",
      "100%|██████████| 10/10 [00:00<00:00, 2206.60it/s]\n",
      "100%|██████████| 10/10 [00:00<00:00, 361.15it/s]\n",
      "100%|██████████| 10/10 [00:00<00:00, 2327.97it/s]\n",
      "100%|██████████| 10/10 [00:00<00:00, 440.14it/s]\n",
      "100%|██████████| 10/10 [00:00<00:00, 364.63it/s]\n",
      "100%|██████████| 10/10 [00:00<00:00, 2262.42it/s]\n",
      "100%|██████████| 10/10 [00:00<00:00, 2245.95it/s]\n"
     ]
    },
    {
     "name": "stdout",
     "output_type": "stream",
     "text": [
      "['20181022', '20181022']\n",
      "['20181013', '20181021']\n",
      "[0.6341059602649006, 383.0, 604]\n",
      "['20181023', '20181023']\n",
      "['20181014', '20181022']\n",
      "[0.6435643564356436, 390.0, 606]\n",
      "['20181024', '20181024']\n",
      "['20181015', '20181023']\n",
      "[0.6396694214876033, 387.0, 605]\n",
      "['20181025', '20181025']\n",
      "['20181016', '20181024']\n",
      "[0.6233766233766234, 384.0, 616]\n",
      "['20181026', '20181026']\n",
      "['20181017', '20181025']\n"
     ]
    },
    {
     "name": "stderr",
     "output_type": "stream",
     "text": [
      "100%|██████████| 10/10 [00:00<00:00, 310.18it/s]\n",
      "100%|██████████| 10/10 [00:00<00:00, 2298.50it/s]\n",
      "100%|██████████| 10/10 [00:00<00:00, 331.70it/s]\n",
      "100%|██████████| 10/10 [00:00<00:00, 2343.45it/s]\n",
      "100%|██████████| 10/10 [00:00<00:00, 331.15it/s]\n",
      "100%|██████████| 10/10 [00:00<00:00, 2359.27it/s]\n",
      "100%|██████████| 10/10 [00:00<00:00, 375.93it/s]\n",
      "100%|██████████| 10/10 [00:00<00:00, 2385.43it/s]\n",
      "  0%|          | 0/10 [00:00<?, ?it/s]"
     ]
    },
    {
     "name": "stdout",
     "output_type": "stream",
     "text": [
      "[0.6168831168831169, 380.0, 616]\n",
      "['20181027', '20181027']\n",
      "['20181018', '20181026']\n",
      "['20181028', '20181028']\n",
      "['20181019', '20181027']\n",
      "[0.6209150326797386, 380.0, 612]\n",
      "['20181029', '20181029']\n",
      "['20181020', '20181028']\n"
     ]
    },
    {
     "name": "stderr",
     "output_type": "stream",
     "text": [
      "100%|██████████| 10/10 [00:00<00:00, 379.94it/s]\n",
      "100%|██████████| 10/10 [00:00<00:00, 2175.58it/s]\n",
      "100%|██████████| 10/10 [00:00<00:00, 452.80it/s]\n",
      "100%|██████████| 10/10 [00:00<00:00, 2347.12it/s]\n",
      "100%|██████████| 10/10 [00:00<00:00, 318.70it/s]\n",
      "100%|██████████| 10/10 [00:00<00:00, 2117.48it/s]\n",
      "100%|██████████| 10/10 [00:00<00:00, 292.92it/s]\n",
      "100%|██████████| 10/10 [00:00<00:00, 1958.31it/s]\n"
     ]
    },
    {
     "name": "stdout",
     "output_type": "stream",
     "text": [
      "['20181030', '20181030']\n",
      "['20181021', '20181029']\n",
      "[0.6700507614213198, 396.0, 591]\n",
      "['20181031', '20181031']\n",
      "['20181022', '20181030']\n",
      "[0.6700507614213198, 396.0, 591]\n",
      "['20181101', '20181101']\n",
      "['20181023', '20181031']\n"
     ]
    },
    {
     "name": "stderr",
     "output_type": "stream",
     "text": [
      "100%|██████████| 10/10 [00:00<00:00, 279.19it/s]\n",
      "100%|██████████| 10/10 [00:00<00:00, 2273.34it/s]\n",
      "100%|██████████| 10/10 [00:00<00:00, 269.80it/s]\n",
      "100%|██████████| 10/10 [00:00<00:00, 272.82it/s]\n",
      "100%|██████████| 10/10 [00:00<00:00, 2206.72it/s]\n"
     ]
    },
    {
     "name": "stdout",
     "output_type": "stream",
     "text": [
      "[0.5878594249201278, 368.0, 626]\n",
      "['20181102', '20181102']\n",
      "['20181024', '20181101']\n",
      "[0.5763239875389408, 369.99999999999994, 642]\n",
      "['20181103', '20181103']\n",
      "['20181025', '20181102']\n",
      "['20181104', '20181104']\n",
      "['20181026', '20181103']\n"
     ]
    },
    {
     "name": "stderr",
     "output_type": "stream",
     "text": [
      "100%|██████████| 10/10 [00:00<00:00, 2138.10it/s]\n",
      "100%|██████████| 10/10 [00:00<00:00, 333.56it/s]\n",
      "100%|██████████| 10/10 [00:00<00:00, 2269.65it/s]\n",
      "  0%|          | 0/10 [00:00<?, ?it/s]"
     ]
    },
    {
     "name": "stdout",
     "output_type": "stream",
     "text": [
      "['20181105', '20181105']\n",
      "['20181027', '20181104']\n",
      "[0.627677100494234, 381.0, 607]\n",
      "['20181106', '20181106']\n",
      "['20181028', '20181105']\n",
      "[0.6170212765957447, 377.0, 611]\n",
      "['20181107', '20181107']\n",
      "['20181029', '20181106']\n",
      "[0.627677100494234, 381.0, 607]\n",
      "['20181108', '20181108']\n",
      "['20181030', '20181107']\n",
      "[0.5917065390749602, 371.00000000000006, 627]\n",
      "['20181109', '20181109']\n",
      "['20181031', '20181108']\n"
     ]
    },
    {
     "name": "stderr",
     "output_type": "stream",
     "text": [
      "100%|██████████| 10/10 [00:00<00:00, 359.22it/s]\n",
      "100%|██████████| 10/10 [00:00<00:00, 2360.06it/s]\n",
      "100%|██████████| 10/10 [00:00<00:00, 319.20it/s]\n",
      "100%|██████████| 10/10 [00:00<00:00, 2374.63it/s]\n",
      "100%|██████████| 10/10 [00:00<00:00, 265.00it/s]\n",
      "100%|██████████| 10/10 [00:00<00:00, 275.80it/s]\n",
      "100%|██████████| 10/10 [00:00<00:00, 2328.23it/s]\n",
      "100%|██████████| 10/10 [00:00<00:00, 300.83it/s]\n",
      "100%|██████████| 10/10 [00:00<00:00, 2138.31it/s]\n",
      "100%|██████████| 10/10 [00:00<00:00, 2256.09it/s]\n",
      "100%|██████████| 10/10 [00:00<00:00, 353.88it/s]\n",
      "100%|██████████| 10/10 [00:00<00:00, 2419.00it/s]\n",
      "100%|██████████| 10/10 [00:00<00:00, 414.75it/s]\n",
      "100%|██████████| 10/10 [00:00<00:00, 2481.98it/s]\n"
     ]
    },
    {
     "name": "stdout",
     "output_type": "stream",
     "text": [
      "['20181110', '20181110']\n",
      "['20181101', '20181109']\n",
      "['20181111', '20181111']\n",
      "['20181102', '20181110']\n",
      "['20181112', '20181112']\n",
      "['20181103', '20181111']\n"
     ]
    },
    {
     "name": "stderr",
     "output_type": "stream",
     "text": [
      "100%|██████████| 10/10 [00:00<00:00, 427.85it/s]\n",
      "100%|██████████| 10/10 [00:00<00:00, 2458.42it/s]\n",
      "100%|██████████| 10/10 [00:00<00:00, 357.65it/s]\n",
      "  0%|          | 0/10 [00:00<?, ?it/s]"
     ]
    },
    {
     "name": "stdout",
     "output_type": "stream",
     "text": [
      "[0.6288998357963875, 383.0, 609]\n",
      "['20181113', '20181113']\n",
      "['20181104', '20181112']\n",
      "[0.6288998357963875, 383.0, 609]\n",
      "['20181114', '20181114']\n",
      "['20181105', '20181113']\n"
     ]
    },
    {
     "name": "stderr",
     "output_type": "stream",
     "text": [
      "100%|██████████| 10/10 [00:00<00:00, 697.67it/s]\n",
      "100%|██████████| 10/10 [00:00<00:00, 302.54it/s]\n",
      "100%|██████████| 10/10 [00:00<00:00, 2372.61it/s]\n",
      "100%|██████████| 10/10 [00:00<00:00, 308.90it/s]\n",
      "100%|██████████| 10/10 [00:00<00:00, 2299.51it/s]\n",
      "100%|██████████| 10/10 [00:00<00:00, 325.66it/s]\n",
      "100%|██████████| 10/10 [00:00<00:00, 2317.81it/s]\n"
     ]
    },
    {
     "name": "stdout",
     "output_type": "stream",
     "text": [
      "[0.6164817749603804, 389.0, 631]\n",
      "['20181115', '20181115']\n",
      "['20181106', '20181114']\n",
      "[0.6035031847133758, 379.0, 628]\n",
      "['20181116', '20181116']\n",
      "['20181107', '20181115']\n",
      "[0.5980861244019139, 375.0, 627]\n",
      "['20181117', '20181117']\n",
      "['20181108', '20181116']\n",
      "['20181118', '20181118']\n",
      "['20181109', '20181117']\n",
      "[0.5848765432098766, 379.0, 648]\n",
      "['20181119', '20181119']\n",
      "['20181110', '20181118']\n",
      "[0.5891472868217055, 380.00000000000006, 645]\n",
      "['20181120', '20181120']\n",
      "['20181111', '20181119']\n"
     ]
    },
    {
     "name": "stderr",
     "output_type": "stream",
     "text": [
      "100%|██████████| 10/10 [00:00<00:00, 377.52it/s]\n",
      "100%|██████████| 10/10 [00:00<00:00, 2421.65it/s]\n",
      "100%|██████████| 10/10 [00:00<00:00, 404.29it/s]\n",
      "100%|██████████| 10/10 [00:00<00:00, 2236.25it/s]\n",
      "100%|██████████| 10/10 [00:00<00:00, 264.66it/s]\n",
      "100%|██████████| 10/10 [00:00<00:00, 357.57it/s]\n",
      "100%|██████████| 10/10 [00:00<00:00, 2207.30it/s]\n",
      "100%|██████████| 10/10 [00:00<00:00, 3120.30it/s]\n"
     ]
    },
    {
     "name": "stdout",
     "output_type": "stream",
     "text": [
      "['20181121', '20181121']\n",
      "['20181112', '20181120']\n",
      "[0.5857142857142857, 369.0, 630]\n",
      "['20181122', '20181122']\n",
      "['20181113', '20181121']\n",
      "[0.632258064516129, 391.99999999999994, 620]\n",
      "['20181123', '20181123']\n",
      "['20181114', '20181122']\n"
     ]
    },
    {
     "name": "stderr",
     "output_type": "stream",
     "text": [
      "100%|██████████| 10/10 [00:00<00:00, 285.44it/s]\n",
      "100%|██████████| 10/10 [00:00<00:00, 2153.02it/s]\n",
      "100%|██████████| 10/10 [00:00<00:00, 288.70it/s]\n",
      "100%|██████████| 10/10 [00:00<00:00, 2120.80it/s]\n",
      "100%|██████████| 10/10 [00:00<00:00, 324.94it/s]\n",
      "100%|██████████| 10/10 [00:00<00:00, 2111.62it/s]\n"
     ]
    },
    {
     "name": "stdout",
     "output_type": "stream",
     "text": [
      "['20181124', '20181124']\n",
      "['20181115', '20181123']\n",
      "[0.632258064516129, 391.99999999999994, 620]\n",
      "['20181125', '20181125']\n",
      "['20181116', '20181124']\n",
      "[0.5983739837398374, 368.0, 615]\n",
      "['20181126', '20181126']\n",
      "['20181117', '20181125']\n",
      "['20181127', '20181127']\n",
      "['20181118', '20181126']\n",
      "['20181128', '20181128']\n",
      "['20181119', '20181127']\n"
     ]
    },
    {
     "name": "stderr",
     "output_type": "stream",
     "text": [
      "100%|██████████| 10/10 [00:00<00:00, 369.51it/s]\n",
      "100%|██████████| 10/10 [00:00<00:00, 2215.22it/s]\n",
      "100%|██████████| 10/10 [00:00<00:00, 380.86it/s]\n",
      "100%|██████████| 10/10 [00:00<00:00, 415.13it/s]\n",
      "100%|██████████| 10/10 [00:00<00:00, 348.10it/s]\n",
      "100%|██████████| 10/10 [00:00<00:00, 2388.69it/s]\n",
      "100%|██████████| 10/10 [00:00<00:00, 2467.38it/s]\n",
      "100%|██████████| 10/10 [00:00<00:00, 2184.19it/s]\n",
      "100%|██████████| 10/10 [00:00<00:00, 320.77it/s]\n",
      "100%|██████████| 10/10 [00:00<00:00, 2304.18it/s]\n",
      "100%|██████████| 10/10 [00:00<00:00, 292.54it/s]\n",
      "100%|██████████| 10/10 [00:00<00:00, 2282.49it/s]\n",
      "100%|██████████| 10/10 [00:00<00:00, 319.61it/s]\n",
      "100%|██████████| 10/10 [00:00<00:00, 2055.12it/s]\n"
     ]
    },
    {
     "name": "stdout",
     "output_type": "stream",
     "text": [
      "[0.5723076923076923, 372.0, 650]\n",
      "['20181129', '20181129']\n",
      "['20181120', '20181128']\n",
      "[0.5857142857142857, 369.0, 630]\n",
      "['20181130', '20181130']\n",
      "['20181121', '20181129']\n",
      "[0.5548780487804879, 364.00000000000006, 656]\n",
      "['20181201', '20181201']\n",
      "['20181122', '20181130']\n"
     ]
    },
    {
     "name": "stderr",
     "output_type": "stream",
     "text": [
      "100%|██████████| 10/10 [00:00<00:00, 347.53it/s]\n",
      "100%|██████████| 10/10 [00:00<00:00, 2348.96it/s]\n",
      "100%|██████████| 10/10 [00:00<00:00, 398.02it/s]\n",
      "100%|██████████| 10/10 [00:00<00:00, 2375.17it/s]\n",
      "100%|██████████| 10/10 [00:00<00:00, 360.16it/s]\n",
      "  0%|          | 0/10 [00:00<?, ?it/s]"
     ]
    },
    {
     "name": "stdout",
     "output_type": "stream",
     "text": [
      "['20181202', '20181202']\n",
      "['20181123', '20181201']\n",
      "[0.5337331334332833, 356.0, 667]\n",
      "['20181203', '20181203']\n",
      "['20181124', '20181202']\n",
      "['20181204', '20181204']\n",
      "['20181125', '20181203']\n",
      "[0.5983739837398374, 368.0, 615]\n",
      "['20181205', '20181205']\n",
      "['20181126', '20181204']\n"
     ]
    },
    {
     "name": "stderr",
     "output_type": "stream",
     "text": [
      "100%|██████████| 10/10 [00:00<00:00, 2118.87it/s]\n",
      "100%|██████████| 10/10 [00:00<00:00, 288.38it/s]\n",
      "100%|██████████| 10/10 [00:00<00:00, 282.45it/s]\n",
      "100%|██████████| 10/10 [00:00<00:00, 2198.27it/s]\n",
      "100%|██████████| 10/10 [00:00<00:00, 2082.47it/s]\n",
      "100%|██████████| 10/10 [00:00<00:00, 250.21it/s]\n"
     ]
    },
    {
     "name": "stdout",
     "output_type": "stream",
     "text": [
      "[0.5612403100775194, 362.0, 645]\n",
      "['20181206', '20181206']\n",
      "['20181127', '20181205']\n"
     ]
    },
    {
     "name": "stderr",
     "output_type": "stream",
     "text": [
      "100%|██████████| 10/10 [00:00<00:00, 2145.09it/s]\n"
     ]
    },
    {
     "name": "stdout",
     "output_type": "stream",
     "text": [
      "[0.5683229813664596, 366.0, 644]\n",
      "['20181207', '20181207']\n",
      "['20181128', '20181206']\n",
      "[0.5629860031104199, 362.0, 643]\n",
      "['20181208', '20181208']\n",
      "['20181129', '20181207']\n",
      "['20181209', '20181209']\n",
      "['20181130', '20181208']\n"
     ]
    },
    {
     "name": "stderr",
     "output_type": "stream",
     "text": [
      "100%|██████████| 10/10 [00:00<00:00, 296.34it/s]\n",
      "100%|██████████| 10/10 [00:00<00:00, 2275.93it/s]\n",
      "100%|██████████| 10/10 [00:00<00:00, 326.53it/s]\n",
      "100%|██████████| 10/10 [00:00<00:00, 2100.72it/s]\n",
      "100%|██████████| 10/10 [00:00<00:00, 372.82it/s]\n",
      "100%|██████████| 10/10 [00:00<00:00, 2327.07it/s]\n"
     ]
    },
    {
     "name": "stdout",
     "output_type": "stream",
     "text": [
      "[0.5743670886075949, 362.99999999999994, 632]\n",
      "['20181210', '20181210']\n",
      "['20181201', '20181209']\n",
      "[0.5647425897035881, 362.0, 641]\n",
      "['20181211', '20181211']\n",
      "['20181202', '20181210']\n",
      "['20181212', '20181212']\n",
      "['20181203', '20181211']\n",
      "[0.5743670886075949, 362.99999999999994, 632]\n",
      "['20181213', '20181213']\n",
      "['20181204', '20181212']\n",
      "[0.5478395061728395, 355.0, 648]\n",
      "['20181214', '20181214']\n",
      "['20181205', '20181213']\n"
     ]
    },
    {
     "name": "stderr",
     "output_type": "stream",
     "text": [
      "100%|██████████| 10/10 [00:00<00:00, 369.80it/s]\n",
      "100%|██████████| 10/10 [00:00<00:00, 318.05it/s]\n",
      "100%|██████████| 10/10 [00:00<00:00, 2360.33it/s]\n",
      "100%|██████████| 10/10 [00:00<00:00, 2161.57it/s]\n",
      "100%|██████████| 10/10 [00:00<00:00, 265.03it/s]\n",
      "100%|██████████| 10/10 [00:00<00:00, 246.78it/s]\n",
      "100%|██████████| 10/10 [00:00<00:00, 287.98it/s]\n",
      "100%|██████████| 10/10 [00:00<00:00, 2236.84it/s]\n",
      "100%|██████████| 10/10 [00:00<00:00, 2254.52it/s]\n",
      "100%|██████████| 10/10 [00:00<00:00, 1527.70it/s]\n"
     ]
    },
    {
     "name": "stdout",
     "output_type": "stream",
     "text": [
      "[0.5788643533123028, 366.99999999999994, 634]\n",
      "['20181215', '20181215']\n",
      "['20181206', '20181214']\n",
      "[0.5917065390749602, 371.00000000000006, 627]\n",
      "['20181216', '20181216']\n",
      "['20181207', '20181215']\n",
      "[0.5566037735849056, 354.0, 636]\n",
      "['20181217', '20181217']\n",
      "['20181208', '20181216']\n",
      "[0.5854430379746836, 370.0, 632]\n",
      "['20181218', '20181218']\n",
      "['20181209', '20181217']\n",
      "['20181219', '20181219']\n",
      "['20181210', '20181218']\n",
      "['20181220', '20181220']\n",
      "['20181211', '20181219']\n"
     ]
    },
    {
     "name": "stderr",
     "output_type": "stream",
     "text": [
      "100%|██████████| 10/10 [00:00<00:00, 328.04it/s]\n",
      "100%|██████████| 10/10 [00:00<00:00, 365.47it/s]\n",
      "100%|██████████| 10/10 [00:00<00:00, 2167.26it/s]\n",
      "100%|██████████| 10/10 [00:00<00:00, 2388.83it/s]\n",
      "100%|██████████| 10/10 [00:00<00:00, 367.99it/s]\n",
      "100%|██████████| 10/10 [00:00<00:00, 2204.63it/s]\n",
      "100%|██████████| 10/10 [00:00<00:00, 315.33it/s]\n",
      "100%|██████████| 10/10 [00:00<00:00, 282.07it/s]\n",
      "100%|██████████| 10/10 [00:00<00:00, 283.63it/s]\n",
      "100%|██████████| 10/10 [00:00<00:00, 2162.01it/s]\n",
      "100%|██████████| 10/10 [00:00<00:00, 2251.98it/s]\n",
      "100%|██████████| 10/10 [00:00<00:00, 1941.99it/s]\n"
     ]
    },
    {
     "name": "stdout",
     "output_type": "stream",
     "text": [
      "[0.5797101449275363, 360.0, 621]\n",
      "['20181221', '20181221']\n",
      "['20181212', '20181220']\n",
      "[0.6291390728476821, 380.0, 604]\n",
      "['20181222', '20181222']\n",
      "['20181213', '20181221']\n",
      "[0.6291390728476821, 380.0, 604]\n",
      "['20181223', '20181223']\n",
      "['20181214', '20181222']\n",
      "[0.5532915360501567, 352.99999999999994, 638]\n",
      "['20181224', '20181224']\n",
      "['20181215', '20181223']\n",
      "['20181225', '20181225']\n",
      "['20181216', '20181224']\n",
      "['20181226', '20181226']\n",
      "['20181217', '20181225']\n"
     ]
    },
    {
     "name": "stderr",
     "output_type": "stream",
     "text": [
      "100%|██████████| 10/10 [00:00<00:00, 279.06it/s]\n",
      "100%|██████████| 10/10 [00:00<00:00, 311.20it/s]\n",
      "100%|██████████| 10/10 [00:00<00:00, 2023.11it/s]\n",
      "100%|██████████| 10/10 [00:00<00:00, 2051.00it/s]\n",
      "100%|██████████| 10/10 [00:00<00:00, 354.38it/s]\n",
      "100%|██████████| 10/10 [00:00<00:00, 2068.40it/s]\n",
      "100%|██████████| 10/10 [00:00<00:00, 346.80it/s]\n",
      "100%|██████████| 10/10 [00:00<00:00, 2330.43it/s]\n",
      "100%|██████████| 10/10 [00:00<00:00, 360.17it/s]\n",
      "100%|██████████| 10/10 [00:00<00:00, 2362.86it/s]\n",
      "100%|██████████| 10/10 [00:00<00:00, 322.47it/s]\n",
      "100%|██████████| 10/10 [00:00<00:00, 2065.75it/s]\n",
      "100%|██████████| 10/10 [00:00<00:00, 321.69it/s]\n",
      "100%|██████████| 10/10 [00:00<00:00, 2258.65it/s]\n",
      "100%|██████████| 10/10 [00:00<00:00, 324.91it/s]\n",
      "100%|██████████| 10/10 [00:00<00:00, 2203.35it/s]\n"
     ]
    },
    {
     "name": "stdout",
     "output_type": "stream",
     "text": [
      "['20181227', '20181227']\n",
      "['20181218', '20181226']\n",
      "[0.5797101449275363, 360.0, 621]\n",
      "['20181228', '20181228']\n",
      "['20181219', '20181227']\n",
      "[0.6012965964343598, 371.0, 617]\n",
      "['20181229', '20181229']\n",
      "['20181220', '20181228']\n",
      "[0.5491419656786272, 352.0, 641]\n",
      "['20181230', '20181230']\n",
      "['20181221', '20181229']\n",
      "['20181231', '20181231']\n",
      "['20181222', '20181230']\n",
      "['20190101', '20190101']\n",
      "['20181223', '20181231']\n"
     ]
    },
    {
     "name": "stderr",
     "output_type": "stream",
     "text": [
      "100%|██████████| 10/10 [00:00<00:00, 385.41it/s]\n",
      "100%|██████████| 10/10 [00:00<00:00, 2387.06it/s]\n",
      "100%|██████████| 10/10 [00:00<00:00, 434.18it/s]\n",
      "100%|██████████| 10/10 [00:00<00:00, 2369.93it/s]\n",
      "100%|██████████| 10/10 [00:00<00:00, 437.88it/s]\n",
      "100%|██████████| 10/10 [00:00<00:00, 2427.12it/s]\n",
      "100%|██████████| 10/10 [00:00<00:00, 375.23it/s]\n",
      "100%|██████████| 10/10 [00:00<00:00, 2329.78it/s]\n"
     ]
    },
    {
     "name": "stdout",
     "output_type": "stream",
     "text": [
      "[0.582018927444795, 369.00000000000006, 634]\n",
      "['20190102', '20190102']\n",
      "['20181224', '20190101']\n",
      "[0.6012965964343598, 371.0, 617]\n",
      "['20190103', '20190103']\n",
      "['20181225', '20190102']\n"
     ]
    },
    {
     "name": "stderr",
     "output_type": "stream",
     "text": [
      "100%|██████████| 10/10 [00:00<00:00, 417.99it/s]\n",
      "100%|██████████| 10/10 [00:00<00:00, 3016.40it/s]\n",
      "100%|██████████| 10/10 [00:00<00:00, 256.03it/s]\n",
      "100%|██████████| 10/10 [00:00<00:00, 2120.05it/s]\n"
     ]
    },
    {
     "name": "stdout",
     "output_type": "stream",
     "text": [
      "[0.612012987012987, 377.0, 616]\n",
      "['20190104', '20190104']\n",
      "['20181226', '20190103']\n",
      "[0.580952380952381, 366.00000000000006, 630]\n",
      "['20190105', '20190105']\n",
      "['20181227', '20190104']\n",
      "['20190106', '20190106']\n",
      "['20181228', '20190105']\n",
      "[0.5833333333333334, 371.0, 636]\n",
      "['20190107', '20190107']\n",
      "['20181229', '20190106']\n"
     ]
    },
    {
     "name": "stderr",
     "output_type": "stream",
     "text": [
      "100%|██████████| 10/10 [00:00<00:00, 289.75it/s]\n",
      "100%|██████████| 10/10 [00:00<00:00, 263.34it/s]\n",
      "100%|██████████| 10/10 [00:00<00:00, 2164.91it/s]\n",
      "100%|██████████| 10/10 [00:00<00:00, 2113.43it/s]\n",
      "100%|██████████| 10/10 [00:00<00:00, 372.73it/s]\n",
      "100%|██████████| 10/10 [00:00<00:00, 367.67it/s]\n",
      "100%|██████████| 10/10 [00:00<00:00, 2154.46it/s]\n",
      "100%|██████████| 10/10 [00:00<00:00, 2316.27it/s]\n"
     ]
    },
    {
     "name": "stdout",
     "output_type": "stream",
     "text": [
      "['20190108', '20190108']\n",
      "['20181230', '20190107']\n",
      "[0.5276073619631901, 343.99999999999994, 652]\n",
      "['20190109', '20190109']\n",
      "['20181231', '20190108']\n",
      "[0.5451713395638629, 349.99999999999994, 642]\n",
      "['20190110', '20190110']\n",
      "['20190101', '20190109']\n"
     ]
    },
    {
     "name": "stderr",
     "output_type": "stream",
     "text": [
      "100%|██████████| 10/10 [00:00<00:00, 302.65it/s]\n",
      "100%|██████████| 10/10 [00:00<00:00, 2104.52it/s]\n",
      "100%|██████████| 10/10 [00:00<00:00, 361.45it/s]\n",
      "100%|██████████| 10/10 [00:00<00:00, 2108.01it/s]\n",
      "100%|██████████| 10/10 [00:00<00:00, 276.81it/s]\n",
      "100%|██████████| 10/10 [00:00<00:00, 2186.13it/s]\n",
      "100%|██████████| 10/10 [00:00<00:00, 281.04it/s]\n",
      "100%|██████████| 10/10 [00:00<00:00, 2278.65it/s]\n",
      "100%|██████████| 10/10 [00:00<00:00, 312.74it/s]\n",
      "100%|██████████| 10/10 [00:00<00:00, 350.93it/s]\n",
      "100%|██████████| 10/10 [00:00<00:00, 2043.01it/s]\n",
      "100%|██████████| 10/10 [00:00<00:00, 1656.58it/s]\n",
      "100%|██████████| 10/10 [00:00<00:00, 358.13it/s]\n"
     ]
    },
    {
     "name": "stdout",
     "output_type": "stream",
     "text": [
      "[0.5712050078247262, 365.0, 639]\n",
      "['20190111', '20190111']\n",
      "['20190102', '20190110']\n",
      "[0.5574803149606299, 354.0, 635]\n",
      "['20190112', '20190112']\n",
      "['20190103', '20190111']\n",
      "[0.5744, 359.0, 625]\n",
      "['20190113', '20190113']\n",
      "['20190104', '20190112']\n",
      "[0.5583596214511041, 354.0, 634]\n",
      "['20190114', '20190114']\n",
      "['20190105', '20190113']\n",
      "['20190115', '20190115']\n",
      "['20190106', '20190114']\n",
      "['20190116', '20190116']\n",
      "['20190107', '20190115']\n"
     ]
    },
    {
     "name": "stderr",
     "output_type": "stream",
     "text": [
      "100%|██████████| 10/10 [00:00<00:00, 2137.22it/s]\n",
      "100%|██████████| 10/10 [00:00<00:00, 319.33it/s]\n",
      "100%|██████████| 10/10 [00:00<00:00, 266.31it/s]\n",
      "100%|██████████| 10/10 [00:00<00:00, 2102.09it/s]\n",
      "100%|██████████| 10/10 [00:00<00:00, 2175.36it/s]\n",
      "  0%|          | 0/10 [00:00<?, ?it/s]"
     ]
    },
    {
     "name": "stdout",
     "output_type": "stream",
     "text": [
      "[0.612012987012987, 377.0, 616]\n",
      "['20190117', '20190117']\n",
      "['20190108', '20190116']\n",
      "[0.5609375, 359.0, 640]\n",
      "['20190118', '20190118']\n",
      "['20190109', '20190117']\n"
     ]
    },
    {
     "name": "stderr",
     "output_type": "stream",
     "text": [
      "100%|██████████| 10/10 [00:00<00:00, 293.00it/s]\n",
      "100%|██████████| 10/10 [00:00<00:00, 1938.67it/s]\n",
      "100%|██████████| 10/10 [00:00<00:00, 219.02it/s]\n",
      "100%|██████████| 10/10 [00:00<00:00, 2032.81it/s]\n"
     ]
    },
    {
     "name": "stdout",
     "output_type": "stream",
     "text": [
      "[0.62, 372.0, 600]\n",
      "['20190119', '20190119']\n",
      "['20190110', '20190118']\n",
      "['20190120', '20190120']\n",
      "['20190111', '20190119']\n"
     ]
    },
    {
     "name": "stderr",
     "output_type": "stream",
     "text": [
      "100%|██████████| 10/10 [00:00<00:00, 270.84it/s]\n",
      "100%|██████████| 10/10 [00:00<00:00, 2298.12it/s]\n",
      "100%|██████████| 10/10 [00:00<00:00, 342.89it/s]\n",
      "100%|██████████| 10/10 [00:00<00:00, 2306.84it/s]\n"
     ]
    },
    {
     "name": "stdout",
     "output_type": "stream",
     "text": [
      "['20190121', '20190121']\n",
      "['20190112', '20190120']\n"
     ]
    },
    {
     "name": "stderr",
     "output_type": "stream",
     "text": [
      "100%|██████████| 10/10 [00:00<00:00, 371.27it/s]\n",
      "100%|██████████| 10/10 [00:00<00:00, 2424.45it/s]\n"
     ]
    },
    {
     "name": "stdout",
     "output_type": "stream",
     "text": [
      "[0.62, 372.0, 600]\n",
      "['20190122', '20190122']\n",
      "['20190113', '20190121']\n",
      "[0.579454253611557, 361.0, 623]\n",
      "['20190123', '20190123']\n",
      "['20190114', '20190122']\n",
      "[0.5429017160686428, 348.00000000000006, 641]\n",
      "['20190124', '20190124']\n",
      "['20190115', '20190123']\n"
     ]
    },
    {
     "name": "stderr",
     "output_type": "stream",
     "text": [
      "100%|██████████| 10/10 [00:00<00:00, 328.10it/s]\n",
      "100%|██████████| 10/10 [00:00<00:00, 2318.19it/s]\n",
      "100%|██████████| 10/10 [00:00<00:00, 242.95it/s]\n",
      "100%|██████████| 10/10 [00:00<00:00, 286.92it/s]\n",
      "100%|██████████| 10/10 [00:00<00:00, 2218.27it/s]\n",
      "100%|██████████| 10/10 [00:00<00:00, 2083.71it/s]\n"
     ]
    },
    {
     "name": "stdout",
     "output_type": "stream",
     "text": [
      "[0.5755627009646302, 358.0, 622]\n",
      "['20190125', '20190125']\n",
      "['20190116', '20190124']\n"
     ]
    },
    {
     "name": "stderr",
     "output_type": "stream",
     "text": [
      "100%|██████████| 10/10 [00:00<00:00, 279.37it/s]\n",
      "100%|██████████| 10/10 [00:00<00:00, 2259.74it/s]\n"
     ]
    },
    {
     "name": "stdout",
     "output_type": "stream",
     "text": [
      "[0.5818476499189628, 359.0, 617]\n",
      "['20190126', '20190126']\n",
      "['20190117', '20190125']\n",
      "[0.5494505494505495, 350.00000000000006, 637]\n",
      "['20190127', '20190127']\n",
      "['20190118', '20190126']\n",
      "['20190128', '20190128']\n",
      "['20190119', '20190127']\n",
      "['20190129', '20190129']\n",
      "['20190120', '20190128']\n"
     ]
    },
    {
     "name": "stderr",
     "output_type": "stream",
     "text": [
      "100%|██████████| 10/10 [00:00<00:00, 375.82it/s]\n",
      "100%|██████████| 10/10 [00:00<00:00, 2278.15it/s]\n",
      "100%|██████████| 10/10 [00:00<00:00, 426.35it/s]\n",
      "100%|██████████| 10/10 [00:00<00:00, 3079.97it/s]\n",
      "100%|██████████| 10/10 [00:00<00:00, 342.84it/s]\n",
      "100%|██████████| 10/10 [00:00<00:00, 2122.52it/s]\n",
      "100%|██████████| 10/10 [00:00<00:00, 313.58it/s]\n",
      "100%|██████████| 10/10 [00:00<00:00, 2061.29it/s]\n"
     ]
    },
    {
     "name": "stdout",
     "output_type": "stream",
     "text": [
      "[0.5538221528861155, 355.0, 641]\n",
      "['20190130', '20190130']\n",
      "['20190121', '20190129']\n",
      "[0.5550314465408805, 353.0, 636]\n",
      "['20190131', '20190131']\n",
      "['20190122', '20190130']\n",
      "[0.5818476499189628, 359.0, 617]\n",
      "['20190201', '20190201']\n",
      "['20190123', '20190131']\n",
      "[0.5538221528861155, 355.0, 641]\n",
      "['20190202', '20190202']\n",
      "['20190124', '20190201']\n",
      "[0.5592417061611374, 354.0, 633]\n",
      "['20190203', '20190203']\n",
      "['20190125', '20190202']\n",
      "[0.5264750378214826, 348.0, 661]\n",
      "['20190204', '20190204']\n",
      "['20190126', '20190203']\n"
     ]
    },
    {
     "name": "stderr",
     "output_type": "stream",
     "text": [
      "100%|██████████| 10/10 [00:00<00:00, 286.16it/s]\n",
      "100%|██████████| 10/10 [00:00<00:00, 2096.52it/s]\n",
      "100%|██████████| 10/10 [00:00<00:00, 284.37it/s]\n",
      "100%|██████████| 10/10 [00:00<00:00, 2065.14it/s]\n",
      "100%|██████████| 10/10 [00:00<00:00, 283.75it/s]\n",
      "100%|██████████| 10/10 [00:00<00:00, 2077.52it/s]\n",
      "100%|██████████| 10/10 [00:00<00:00, 308.95it/s]\n",
      "100%|██████████| 10/10 [00:00<00:00, 351.97it/s]\n",
      "100%|██████████| 10/10 [00:00<00:00, 2059.36it/s]\n",
      "100%|██████████| 10/10 [00:00<00:00, 357.51it/s]\n",
      "100%|██████████| 10/10 [00:00<00:00, 2241.15it/s]\n",
      "100%|██████████| 10/10 [00:00<00:00, 2211.95it/s]\n",
      "100%|██████████| 10/10 [00:00<00:00, 318.51it/s]\n",
      "100%|██████████| 10/10 [00:00<00:00, 270.80it/s]\n",
      "100%|██████████| 10/10 [00:00<00:00, 2214.87it/s]\n",
      "100%|██████████| 10/10 [00:00<00:00, 1669.71it/s]\n",
      "100%|██████████| 10/10 [00:00<00:00, 253.89it/s]\n",
      "100%|██████████| 10/10 [00:00<00:00, 2208.81it/s]\n"
     ]
    },
    {
     "name": "stdout",
     "output_type": "stream",
     "text": [
      "['20190205', '20190205']\n",
      "['20190127', '20190204']\n",
      "['20190206', '20190206']\n",
      "['20190128', '20190205']\n",
      "[0.5407066052227343, 352.0, 651]\n",
      "['20190207', '20190207']\n",
      "['20190129', '20190206']\n",
      "[0.5402476780185759, 349.0, 646]\n",
      "['20190208', '20190208']\n",
      "['20190130', '20190207']\n"
     ]
    },
    {
     "name": "stderr",
     "output_type": "stream",
     "text": [
      "100%|██████████| 10/10 [00:00<00:00, 231.51it/s]\n",
      "100%|██████████| 10/10 [00:00<00:00, 1741.68it/s]\n"
     ]
    },
    {
     "name": "stdout",
     "output_type": "stream",
     "text": [
      "[0.5816164817749604, 367.0, 631]\n",
      "['20190209', '20190209']\n",
      "['20190131', '20190208']\n",
      "[0.5550387596899224, 358.0, 645]\n",
      "['20190210', '20190210']\n",
      "['20190201', '20190209']\n",
      "['20190211', '20190211']\n",
      "['20190202', '20190210']\n",
      "['20190212', '20190212']\n",
      "['20190203', '20190211']\n",
      "[0.5816164817749604, 367.0, 631]\n",
      "['20190213', '20190213']\n",
      "['20190204', '20190212']\n"
     ]
    },
    {
     "name": "stderr",
     "output_type": "stream",
     "text": [
      "100%|██████████| 10/10 [00:00<00:00, 366.78it/s]\n",
      "100%|██████████| 10/10 [00:00<00:00, 378.29it/s]\n",
      "100%|██████████| 10/10 [00:00<00:00, 3128.21it/s]\n",
      "100%|██████████| 10/10 [00:00<00:00, 2148.39it/s]\n",
      "100%|██████████| 10/10 [00:00<00:00, 363.43it/s]\n",
      "100%|██████████| 10/10 [00:00<00:00, 2280.88it/s]\n",
      "100%|██████████| 10/10 [00:00<00:00, 295.66it/s]\n",
      "100%|██████████| 10/10 [00:00<00:00, 1976.95it/s]\n",
      "100%|██████████| 10/10 [00:00<00:00, 182.17it/s]\n",
      "100%|██████████| 10/10 [00:00<00:00, 1859.34it/s]\n"
     ]
    },
    {
     "name": "stdout",
     "output_type": "stream",
     "text": [
      "[0.597444089456869, 374.0, 626]\n",
      "['20190214', '20190214']\n",
      "['20190205', '20190213']\n",
      "[0.5572755417956656, 360.0, 646]\n",
      "['20190215', '20190215']\n",
      "['20190206', '20190214']\n"
     ]
    },
    {
     "name": "stderr",
     "output_type": "stream",
     "text": [
      "100%|██████████| 10/10 [00:00<00:00, 154.27it/s]\n",
      "100%|██████████| 10/10 [00:00<00:00, 542.69it/s]\n",
      "100%|██████████| 10/10 [00:00<00:00, 337.89it/s]\n",
      "100%|██████████| 10/10 [00:00<00:00, 3020.53it/s]\n",
      "100%|██████████| 10/10 [00:00<00:00, 289.69it/s]\n",
      "100%|██████████| 10/10 [00:00<00:00, 1944.06it/s]\n",
      "100%|██████████| 10/10 [00:00<00:00, 356.95it/s]\n",
      "100%|██████████| 10/10 [00:00<00:00, 2405.82it/s]\n"
     ]
    },
    {
     "name": "stdout",
     "output_type": "stream",
     "text": [
      "[0.5598755832037325, 360.0, 643]\n",
      "['20190216', '20190216']\n",
      "['20190207', '20190215']\n",
      "['20190217', '20190217']\n",
      "['20190208', '20190216']\n",
      "['20190218', '20190218']\n",
      "['20190209', '20190217']\n",
      "[0.5788643533123028, 366.99999999999994, 634]\n",
      "['20190219', '20190219']\n",
      "['20190210', '20190218']\n"
     ]
    },
    {
     "name": "stderr",
     "output_type": "stream",
     "text": [
      "100%|██████████| 10/10 [00:00<00:00, 368.86it/s]\n",
      "100%|██████████| 10/10 [00:00<00:00, 2174.57it/s]\n",
      "  0%|          | 0/10 [00:00<?, ?it/s]"
     ]
    },
    {
     "name": "stdout",
     "output_type": "stream",
     "text": [
      "[0.5857142857142857, 369.0, 630]\n",
      "['20190220', '20190220']\n",
      "['20190211', '20190219']\n",
      "[0.6084142394822006, 376.0, 618]\n",
      "['20190221', '20190221']\n",
      "['20190212', '20190220']\n",
      "[0.5829383886255924, 369.0, 633]\n",
      "['20190222', '20190222']\n",
      "['20190213', '20190221']\n"
     ]
    },
    {
     "name": "stderr",
     "output_type": "stream",
     "text": [
      "100%|██████████| 10/10 [00:00<00:00, 234.48it/s]\n",
      "100%|██████████| 10/10 [00:00<00:00, 2191.84it/s]\n",
      "100%|██████████| 10/10 [00:00<00:00, 251.47it/s]\n",
      "100%|██████████| 10/10 [00:00<00:00, 2001.19it/s]\n",
      "100%|██████████| 10/10 [00:00<00:00, 360.96it/s]\n",
      "100%|██████████| 10/10 [00:00<00:00, 2018.04it/s]\n",
      "100%|██████████| 10/10 [00:00<00:00, 205.40it/s]\n",
      "100%|██████████| 10/10 [00:00<00:00, 2342.66it/s]\n",
      "100%|██████████| 10/10 [00:00<00:00, 325.27it/s]\n",
      "100%|██████████| 10/10 [00:00<00:00, 2292.09it/s]\n",
      "100%|██████████| 10/10 [00:00<00:00, 368.54it/s]\n"
     ]
    },
    {
     "name": "stdout",
     "output_type": "stream",
     "text": [
      "[0.5721003134796239, 365.0, 638]\n",
      "['20190223', '20190223']\n",
      "['20190214', '20190222']\n",
      "[0.6084142394822006, 376.0, 618]\n",
      "['20190224', '20190224']\n",
      "['20190215', '20190223']\n",
      "[0.597444089456869, 374.0, 626]\n",
      "['20190225', '20190225']\n",
      "['20190216', '20190224']\n",
      "['20190226', '20190226']\n",
      "['20190217', '20190225']\n",
      "['20190227', '20190227']\n",
      "['20190218', '20190226']\n",
      "[0.5879556259904913, 371.00000000000006, 631]\n",
      "['20190228', '20190228']\n",
      "['20190219', '20190227']\n"
     ]
    },
    {
     "name": "stderr",
     "output_type": "stream",
     "text": [
      "100%|██████████| 10/10 [00:00<00:00, 2161.68it/s]\n",
      "100%|██████████| 10/10 [00:00<00:00, 310.57it/s]\n",
      "100%|██████████| 10/10 [00:00<00:00, 2199.31it/s]\n",
      "100%|██████████| 10/10 [00:00<00:00, 300.56it/s]\n",
      "100%|██████████| 10/10 [00:00<00:00, 274.56it/s]\n",
      "100%|██████████| 10/10 [00:00<00:00, 2085.68it/s]\n",
      "100%|██████████| 10/10 [00:00<00:00, 230.16it/s]\n",
      "100%|██████████| 10/10 [00:00<00:00, 2094.74it/s]\n",
      "100%|██████████| 10/10 [00:00<00:00, 1425.42it/s]\n"
     ]
    },
    {
     "name": "stdout",
     "output_type": "stream",
     "text": [
      "[0.5725429017160687, 367.00000000000006, 641]\n",
      "['20190301', '20190301']\n",
      "['20190220', '20190228']\n",
      "[0.5854430379746836, 370.0, 632]\n",
      "['20190302', '20190302']\n",
      "['20190221', '20190301']\n",
      "['20190303', '20190303']\n",
      "['20190222', '20190302']\n"
     ]
    },
    {
     "name": "stderr",
     "output_type": "stream",
     "text": [
      "100%|██████████| 10/10 [00:00<00:00, 295.55it/s]\n",
      "100%|██████████| 10/10 [00:00<00:00, 2161.79it/s]\n",
      "100%|██████████| 10/10 [00:00<00:00, 335.83it/s]\n",
      "100%|██████████| 10/10 [00:00<00:00, 2184.19it/s]\n",
      "100%|██████████| 10/10 [00:00<00:00, 382.64it/s]\n",
      "100%|██████████| 10/10 [00:00<00:00, 2216.39it/s]\n",
      "100%|██████████| 10/10 [00:00<00:00, 426.83it/s]\n",
      "100%|██████████| 10/10 [00:00<00:00, 2457.84it/s]\n",
      "100%|██████████| 10/10 [00:00<00:00, 376.40it/s]\n",
      "100%|██████████| 10/10 [00:00<00:00, 325.02it/s]\n",
      "100%|██████████| 10/10 [00:00<00:00, 2379.07it/s]\n"
     ]
    },
    {
     "name": "stdout",
     "output_type": "stream",
     "text": [
      "['20190304', '20190304']\n",
      "['20190223', '20190303']\n",
      "['20190305', '20190305']\n",
      "['20190224', '20190304']\n",
      "[0.549079754601227, 358.00000000000006, 652]\n",
      "['20190306', '20190306']\n",
      "['20190225', '20190305']\n",
      "[0.5854430379746836, 370.0, 632]\n",
      "['20190307', '20190307']\n",
      "['20190226', '20190306']\n"
     ]
    },
    {
     "name": "stderr",
     "output_type": "stream",
     "text": [
      "100%|██████████| 10/10 [00:00<00:00, 2180.22it/s]\n",
      "100%|██████████| 10/10 [00:00<00:00, 326.96it/s]\n",
      "100%|██████████| 10/10 [00:00<00:00, 2328.10it/s]\n"
     ]
    },
    {
     "name": "stdout",
     "output_type": "stream",
     "text": [
      "[0.5405819295558959, 353.0, 653]\n",
      "['20190308', '20190308']\n",
      "['20190227', '20190307']\n"
     ]
    },
    {
     "name": "stderr",
     "output_type": "stream",
     "text": [
      "100%|██████████| 10/10 [00:00<00:00, 323.94it/s]\n",
      "100%|██████████| 10/10 [00:00<00:00, 2198.16it/s]\n"
     ]
    },
    {
     "name": "stdout",
     "output_type": "stream",
     "text": [
      "[0.5357686453576864, 352.0, 657]\n",
      "['20190309', '20190309']\n",
      "['20190228', '20190308']\n",
      "['20190310', '20190310']\n",
      "['20190301', '20190309']\n",
      "[0.5967741935483871, 370.0, 620]\n",
      "['20190311', '20190311']\n",
      "['20190302', '20190310']\n",
      "['20190312', '20190312']\n",
      "['20190303', '20190311']\n"
     ]
    },
    {
     "name": "stderr",
     "output_type": "stream",
     "text": [
      "100%|██████████| 10/10 [00:00<00:00, 370.72it/s]\n",
      "100%|██████████| 10/10 [00:00<00:00, 2334.19it/s]\n",
      "100%|██████████| 10/10 [00:00<00:00, 436.82it/s]\n",
      "100%|██████████| 10/10 [00:00<00:00, 2403.61it/s]\n",
      "100%|██████████| 10/10 [00:00<00:00, 427.50it/s]\n",
      "100%|██████████| 10/10 [00:00<00:00, 2477.44it/s]\n",
      "100%|██████████| 10/10 [00:00<00:00, 368.78it/s]\n",
      "100%|██████████| 10/10 [00:00<00:00, 2387.74it/s]\n",
      "100%|██████████| 10/10 [00:00<00:00, 327.11it/s]\n",
      "100%|██████████| 10/10 [00:00<00:00, 2165.14it/s]\n",
      "100%|██████████| 10/10 [00:00<00:00, 285.04it/s]\n",
      "100%|██████████| 10/10 [00:00<00:00, 290.90it/s]\n",
      "100%|██████████| 10/10 [00:00<00:00, 2159.79it/s]\n",
      "100%|██████████| 10/10 [00:00<00:00, 2074.03it/s]\n"
     ]
    },
    {
     "name": "stdout",
     "output_type": "stream",
     "text": [
      "[0.5705329153605015, 364.0, 638]\n",
      "['20190313', '20190313']\n",
      "['20190304', '20190312']\n",
      "[0.5665101721439749, 362.0, 639]\n",
      "['20190314', '20190314']\n",
      "['20190305', '20190313']\n",
      "[0.5967741935483871, 370.0, 620]\n",
      "['20190315', '20190315']\n",
      "['20190306', '20190314']\n",
      "[0.5799373040752351, 370.0, 638]\n",
      "['20190316', '20190316']\n",
      "['20190307', '20190315']\n",
      "['20190317', '20190317']\n",
      "['20190308', '20190316']\n",
      "['20190318', '20190318']\n",
      "['20190309', '20190317']\n"
     ]
    },
    {
     "name": "stderr",
     "output_type": "stream",
     "text": [
      "100%|██████████| 10/10 [00:00<00:00, 334.91it/s]\n",
      "100%|██████████| 10/10 [00:00<00:00, 3034.29it/s]\n",
      "100%|██████████| 10/10 [00:00<00:00, 402.61it/s]\n",
      "100%|██████████| 10/10 [00:00<00:00, 2858.71it/s]\n",
      "100%|██████████| 10/10 [00:00<00:00, 429.04it/s]\n",
      "100%|██████████| 10/10 [00:00<00:00, 3202.49it/s]\n"
     ]
    },
    {
     "name": "stdout",
     "output_type": "stream",
     "text": [
      "[0.5822784810126582, 368.0, 632]\n",
      "['20190319', '20190319']\n",
      "['20190310', '20190318']\n",
      "[0.5443425076452599, 356.0, 654]\n",
      "['20190320', '20190320']\n",
      "['20190311', '20190319']\n",
      "[0.5822784810126582, 368.0, 632]\n",
      "['20190321', '20190321']\n",
      "['20190312', '20190320']\n",
      "[0.5439137134052389, 353.0, 649]\n",
      "['20190322', '20190322']\n",
      "['20190313', '20190321']\n",
      "['20190323', '20190323']\n",
      "['20190314', '20190322']\n",
      "[0.538109756097561, 353.0, 656]\n",
      "['20190324', '20190324']\n",
      "['20190315', '20190323']\n"
     ]
    },
    {
     "name": "stderr",
     "output_type": "stream",
     "text": [
      "100%|██████████| 10/10 [00:00<00:00, 329.93it/s]\n",
      "100%|██████████| 10/10 [00:00<00:00, 291.82it/s]\n",
      "100%|██████████| 10/10 [00:00<00:00, 2283.48it/s]\n",
      "100%|██████████| 10/10 [00:00<00:00, 2211.25it/s]\n",
      "100%|██████████| 10/10 [00:00<00:00, 324.41it/s]\n",
      "100%|██████████| 10/10 [00:00<00:00, 2137.22it/s]\n",
      "100%|██████████| 10/10 [00:00<00:00, 397.78it/s]\n",
      "100%|██████████| 10/10 [00:00<00:00, 2154.90it/s]\n",
      "100%|██████████| 10/10 [00:00<00:00, 366.65it/s]\n",
      "100%|██████████| 10/10 [00:00<00:00, 428.96it/s]\n",
      "100%|██████████| 10/10 [00:00<00:00, 2114.81it/s]\n",
      "100%|██████████| 10/10 [00:00<00:00, 2323.97it/s]\n"
     ]
    },
    {
     "name": "stdout",
     "output_type": "stream",
     "text": [
      "['20190325', '20190325']\n",
      "['20190316', '20190324']\n",
      "['20190326', '20190326']\n",
      "['20190317', '20190325']\n"
     ]
    },
    {
     "name": "stderr",
     "output_type": "stream",
     "text": [
      "100%|██████████| 10/10 [00:00<00:00, 418.05it/s]\n",
      "100%|██████████| 10/10 [00:00<00:00, 2332.63it/s]\n",
      "100%|██████████| 10/10 [00:00<00:00, 354.74it/s]\n",
      "100%|██████████| 10/10 [00:00<00:00, 2194.59it/s]\n",
      "100%|██████████| 10/10 [00:00<00:00, 329.21it/s]\n",
      "100%|██████████| 10/10 [00:00<00:00, 332.60it/s]\n",
      "100%|██████████| 10/10 [00:00<00:00, 329.00it/s]\n",
      "100%|██████████| 10/10 [00:00<00:00, 2246.31it/s]\n",
      "100%|██████████| 10/10 [00:00<00:00, 2253.43it/s]\n",
      "100%|██████████| 10/10 [00:00<00:00, 2259.74it/s]\n"
     ]
    },
    {
     "name": "stdout",
     "output_type": "stream",
     "text": [
      "[0.6205211726384365, 381.00000000000006, 614]\n",
      "['20190327', '20190327']\n",
      "['20190318', '20190326']\n",
      "[0.6067961165048543, 374.99999999999994, 618]\n",
      "['20190328', '20190328']\n",
      "['20190319', '20190327']\n",
      "[0.6205211726384365, 381.00000000000006, 614]\n",
      "['20190329', '20190329']\n",
      "['20190320', '20190328']\n",
      "[0.5768621236133122, 364.0, 631]\n",
      "['20190330', '20190330']\n",
      "['20190321', '20190329']\n",
      "[0.6019261637239165, 375.0, 623]\n",
      "['20190331', '20190331']\n",
      "['20190322', '20190330']\n",
      "[0.5930047694753577, 373.0, 629]\n",
      "['20190401', '20190401']\n",
      "['20190323', '20190331']\n",
      "['20190402', '20190402']\n",
      "['20190324', '20190401']\n",
      "['20190403', '20190403']\n",
      "['20190325', '20190402']\n"
     ]
    },
    {
     "name": "stderr",
     "output_type": "stream",
     "text": [
      "100%|██████████| 10/10 [00:00<00:00, 361.79it/s]\n",
      "100%|██████████| 10/10 [00:00<00:00, 2147.73it/s]\n",
      "100%|██████████| 10/10 [00:00<00:00, 351.58it/s]\n",
      "100%|██████████| 10/10 [00:00<00:00, 245.35it/s]\n",
      "100%|██████████| 10/10 [00:00<00:00, 2288.47it/s]\n",
      "100%|██████████| 10/10 [00:00<00:00, 2278.27it/s]\n",
      "100%|██████████| 10/10 [00:00<00:00, 324.39it/s]\n",
      "100%|██████████| 10/10 [00:00<00:00, 2096.42it/s]\n",
      "100%|██████████| 10/10 [00:00<00:00, 279.44it/s]\n",
      "100%|██████████| 10/10 [00:00<00:00, 1871.87it/s]\n",
      "100%|██████████| 10/10 [00:00<00:00, 281.92it/s]\n",
      "100%|██████████| 10/10 [00:00<00:00, 2101.14it/s]\n",
      "  0%|          | 0/10 [00:00<?, ?it/s]"
     ]
    },
    {
     "name": "stdout",
     "output_type": "stream",
     "text": [
      "[0.6241830065359477, 382.0, 612]\n",
      "['20190404', '20190404']\n",
      "['20190326', '20190403']\n",
      "[0.5644171779141104, 368.0, 652]\n",
      "['20190405', '20190405']\n",
      "['20190327', '20190404']\n",
      "[0.6241830065359477, 382.0, 612]\n",
      "['20190406', '20190406']\n",
      "['20190328', '20190405']\n"
     ]
    },
    {
     "name": "stderr",
     "output_type": "stream",
     "text": [
      "100%|██████████| 10/10 [00:00<00:00, 279.56it/s]\n",
      "100%|██████████| 10/10 [00:00<00:00, 2254.03it/s]\n",
      "100%|██████████| 10/10 [00:00<00:00, 299.02it/s]\n",
      "100%|██████████| 10/10 [00:00<00:00, 2263.64it/s]\n",
      "100%|██████████| 10/10 [00:00<00:00, 377.37it/s]\n",
      "100%|██████████| 10/10 [00:00<00:00, 2313.08it/s]\n"
     ]
    },
    {
     "name": "stdout",
     "output_type": "stream",
     "text": [
      "['20190407', '20190407']\n",
      "['20190329', '20190406']\n",
      "['20190408', '20190408']\n",
      "['20190330', '20190407']\n"
     ]
    },
    {
     "name": "stderr",
     "output_type": "stream",
     "text": [
      "100%|██████████| 10/10 [00:00<00:00, 218.77it/s]\n",
      "100%|██████████| 10/10 [00:00<00:00, 525.35it/s]\n"
     ]
    },
    {
     "name": "stdout",
     "output_type": "stream",
     "text": [
      "[0.5653495440729484, 372.0, 658]\n",
      "['20190409', '20190409']\n",
      "['20190331', '20190408']\n",
      "[0.5444785276073619, 355.0, 652]\n",
      "['20190410', '20190410']\n",
      "['20190401', '20190409']\n",
      "[0.5386949924127465, 355.0, 659]\n",
      "['20190411', '20190411']\n",
      "['20190402', '20190410']\n"
     ]
    },
    {
     "name": "stderr",
     "output_type": "stream",
     "text": [
      "100%|██████████| 10/10 [00:00<00:00, 292.20it/s]\n",
      "100%|██████████| 10/10 [00:00<00:00, 2027.61it/s]\n",
      "100%|██████████| 10/10 [00:00<00:00, 289.84it/s]\n",
      "100%|██████████| 10/10 [00:00<00:00, 2178.63it/s]\n",
      "100%|██████████| 10/10 [00:00<00:00, 259.58it/s]\n",
      "100%|██████████| 10/10 [00:00<00:00, 2237.44it/s]\n",
      "100%|██████████| 10/10 [00:00<00:00, 401.26it/s]\n",
      "100%|██████████| 10/10 [00:00<00:00, 237.90it/s]\n",
      "100%|██████████| 10/10 [00:00<00:00, 3015.53it/s]\n",
      "100%|██████████| 10/10 [00:00<00:00, 2149.05it/s]\n",
      "100%|██████████| 10/10 [00:00<00:00, 423.32it/s]\n",
      "100%|██████████| 10/10 [00:00<00:00, 2999.79it/s]\n",
      "100%|██████████| 10/10 [00:00<00:00, 371.62it/s]\n",
      "100%|██████████| 10/10 [00:00<00:00, 2190.69it/s]\n",
      "100%|██████████| 10/10 [00:00<00:00, 306.72it/s]\n"
     ]
    },
    {
     "name": "stdout",
     "output_type": "stream",
     "text": [
      "[0.6262295081967213, 382.0, 610]\n",
      "['20190412', '20190412']\n",
      "['20190403', '20190411']\n",
      "[0.5768621236133122, 364.0, 631]\n",
      "['20190413', '20190413']\n",
      "['20190404', '20190412']\n",
      "[0.6262295081967213, 382.0, 610]\n",
      "['20190414', '20190414']\n",
      "['20190405', '20190413']\n",
      "['20190415', '20190415']\n",
      "['20190406', '20190414']\n",
      "['20190416', '20190416']\n",
      "['20190407', '20190415']\n"
     ]
    },
    {
     "name": "stderr",
     "output_type": "stream",
     "text": [
      "100%|██████████| 10/10 [00:00<00:00, 2666.78it/s]\n"
     ]
    },
    {
     "name": "stdout",
     "output_type": "stream",
     "text": [
      "[0.5890850722311396, 366.99999999999994, 623]\n",
      "['20190417', '20190417']\n",
      "['20190408', '20190416']\n",
      "['20190418', '20190418']\n",
      "['20190409', '20190417']\n"
     ]
    },
    {
     "name": "stderr",
     "output_type": "stream",
     "text": [
      "100%|██████████| 10/10 [00:00<00:00, 315.58it/s]\n",
      "100%|██████████| 10/10 [00:00<00:00, 2019.02it/s]\n",
      "100%|██████████| 10/10 [00:00<00:00, 421.39it/s]\n",
      "100%|██████████| 10/10 [00:00<00:00, 1733.68it/s]\n"
     ]
    },
    {
     "name": "stdout",
     "output_type": "stream",
     "text": [
      "[0.5872, 367.00000000000006, 625]\n",
      "['20190419', '20190419']\n",
      "['20190410', '20190418']\n",
      "['20190420', '20190420']\n",
      "['20190411', '20190419']\n"
     ]
    },
    {
     "name": "stderr",
     "output_type": "stream",
     "text": [
      "100%|██████████| 10/10 [00:00<00:00, 377.26it/s]\n",
      "100%|██████████| 10/10 [00:00<00:00, 2308.11it/s]\n",
      "100%|██████████| 10/10 [00:00<00:00, 466.47it/s]\n",
      "100%|██████████| 10/10 [00:00<00:00, 1926.20it/s]\n"
     ]
    },
    {
     "name": "stdout",
     "output_type": "stream",
     "text": [
      "[0.5879556259904913, 371.00000000000006, 631]\n",
      "['20190421', '20190421']\n",
      "['20190412', '20190420']\n",
      "['20190422', '20190422']\n",
      "['20190413', '20190421']\n",
      "['20190423', '20190423']\n",
      "['20190414', '20190422']\n",
      "[0.5489296636085627, 359.0, 654]\n",
      "['20190424', '20190424']\n",
      "['20190415', '20190423']\n",
      "[0.5874799357945425, 366.0, 623]\n",
      "['20190425', '20190425']\n",
      "['20190416', '20190424']\n"
     ]
    },
    {
     "name": "stderr",
     "output_type": "stream",
     "text": [
      "100%|██████████| 10/10 [00:00<00:00, 464.53it/s]\n",
      "100%|██████████| 10/10 [00:00<00:00, 2365.12it/s]\n",
      "100%|██████████| 10/10 [00:00<00:00, 425.29it/s]\n",
      "100%|██████████| 10/10 [00:00<00:00, 2325.13it/s]\n",
      "100%|██████████| 10/10 [00:00<00:00, 364.55it/s]\n",
      "100%|██████████| 10/10 [00:00<00:00, 292.35it/s]\n",
      "100%|██████████| 10/10 [00:00<00:00, 2287.47it/s]\n",
      "100%|██████████| 10/10 [00:00<00:00, 2361.52it/s]\n",
      "100%|██████████| 10/10 [00:00<00:00, 417.62it/s]\n",
      "100%|██████████| 10/10 [00:00<00:00, 2249.92it/s]\n",
      "100%|██████████| 10/10 [00:00<00:00, 409.24it/s]\n",
      "\n",
      "100%|██████████| 10/10 [00:00<00:00, 2368.99it/s]\n",
      "100%|██████████| 10/10 [00:00<00:00, 2012.33it/s]\n",
      "100%|██████████| 10/10 [00:00<00:00, 217.37it/s]\n",
      "  0%|          | 0/10 [00:00<?, ?it/s]"
     ]
    },
    {
     "name": "stdout",
     "output_type": "stream",
     "text": [
      "[0.5874799357945425, 366.0, 623]\n",
      "['20190427', '20190427']\n",
      "['20190418', '20190426']\n",
      "[0.5465648854961832, 358.0, 655]\n",
      "['20190426', '20190426']\n",
      "['20190417', '20190425']\n",
      "[0.559190031152648, 359.0, 642]\n",
      "['20190428', '20190428']\n",
      "['20190419', '20190427']\n",
      "['20190429', '20190429']\n",
      "['20190420', '20190428']\n",
      "['20190430', '20190430']\n",
      "['20190421', '20190429']\n"
     ]
    },
    {
     "name": "stderr",
     "output_type": "stream",
     "text": [
      "100%|██████████| 10/10 [00:00<00:00, 345.24it/s]\n",
      "100%|██████████| 10/10 [00:00<00:00, 306.50it/s]\n",
      "100%|██████████| 10/10 [00:00<00:00, 359.73it/s]\n",
      "100%|██████████| 10/10 [00:00<00:00, 2301.28it/s]\n",
      "100%|██████████| 10/10 [00:00<00:00, 2133.75it/s]\n",
      "100%|██████████| 10/10 [00:00<00:00, 371.89it/s]\n",
      "100%|██████████| 10/10 [00:00<00:00, 2372.34it/s]\n",
      "100%|██████████| 10/10 [00:00<00:00, 381.73it/s]\n"
     ]
    },
    {
     "name": "stdout",
     "output_type": "stream",
     "text": [
      "['20190501', '20190501']\n",
      "['20190422', '20190430']\n",
      "['20190502', '20190502']\n",
      "['20190423', '20190501']\n"
     ]
    },
    {
     "name": "stderr",
     "output_type": "stream",
     "text": [
      "100%|██████████| 10/10 [00:00<00:00, 2221.44it/s]\n",
      "100%|██████████| 10/10 [00:00<00:00, 368.10it/s]\n",
      "100%|██████████| 10/10 [00:00<00:00, 2155.35it/s]\n"
     ]
    },
    {
     "name": "stdout",
     "output_type": "stream",
     "text": [
      "[0.5860979462875198, 371.0, 633]\n",
      "['20190503', '20190503']\n",
      "['20190424', '20190502']\n",
      "[0.5860979462875198, 371.0, 633]\n",
      "['20190504', '20190504']\n",
      "['20190425', '20190503']\n"
     ]
    },
    {
     "name": "stderr",
     "output_type": "stream",
     "text": [
      "100%|██████████| 10/10 [00:00<00:00, 439.73it/s]\n",
      "100%|██████████| 10/10 [00:00<00:00, 2480.96it/s]\n",
      "100%|██████████| 10/10 [00:00<00:00, 518.60it/s]\n",
      "100%|██████████| 10/10 [00:00<00:00, 2437.42it/s]\n",
      "100%|██████████| 10/10 [00:00<00:00, 508.14it/s]\n",
      "100%|██████████| 10/10 [00:00<00:00, 2540.92it/s]\n",
      "100%|██████████| 10/10 [00:00<00:00, 432.19it/s]\n",
      "100%|██████████| 10/10 [00:00<00:00, 2400.31it/s]\n"
     ]
    },
    {
     "name": "stdout",
     "output_type": "stream",
     "text": [
      "['20190505', '20190505']\n",
      "['20190426', '20190504']\n",
      "[0.5725429017160687, 367.00000000000006, 641]\n",
      "['20190506', '20190506']\n",
      "['20190427', '20190505']\n",
      "['20190507', '20190507']\n",
      "['20190428', '20190506']\n",
      "[0.5838607594936709, 369.0, 632]\n",
      "['20190508', '20190508']\n",
      "['20190429', '20190507']\n",
      "[0.5540123456790124, 359.0, 648]\n",
      "['20190509', '20190509']\n",
      "['20190430', '20190508']\n",
      "[0.562111801242236, 362.0, 644]\n",
      "['20190510', '20190510']\n",
      "['20190501', '20190509']\n"
     ]
    },
    {
     "name": "stderr",
     "output_type": "stream",
     "text": [
      "100%|██████████| 10/10 [00:00<00:00, 360.38it/s]\n",
      "100%|██████████| 10/10 [00:00<00:00, 2278.89it/s]\n",
      "100%|██████████| 10/10 [00:00<00:00, 324.91it/s]\n",
      "100%|██████████| 10/10 [00:00<00:00, 312.86it/s]\n",
      "100%|██████████| 10/10 [00:00<00:00, 3004.30it/s]\n",
      "100%|██████████| 10/10 [00:00<00:00, 2145.97it/s]\n"
     ]
    },
    {
     "name": "stdout",
     "output_type": "stream",
     "text": [
      "[0.6, 375.0, 625]\n",
      "['20190511', '20190511']\n",
      "['20190502', '20190510']\n",
      "['20190512', '20190512']\n",
      "['20190503', '20190511']\n"
     ]
    },
    {
     "name": "stderr",
     "output_type": "stream",
     "text": [
      "100%|██████████| 10/10 [00:00<00:00, 325.83it/s]\n",
      "100%|██████████| 10/10 [00:00<00:00, 2178.18it/s]\n",
      "100%|██████████| 10/10 [00:00<00:00, 387.45it/s]\n",
      "100%|██████████| 10/10 [00:00<00:00, 1924.26it/s]\n"
     ]
    },
    {
     "name": "stdout",
     "output_type": "stream",
     "text": [
      "['20190513', '20190513']\n",
      "['20190504', '20190512']\n",
      "[0.6, 375.0, 625]\n",
      "['20190514', '20190514']\n",
      "['20190505', '20190513']\n"
     ]
    },
    {
     "name": "stderr",
     "output_type": "stream",
     "text": [
      "100%|██████████| 10/10 [00:00<00:00, 386.42it/s]\n",
      "100%|██████████| 10/10 [00:00<00:00, 2371.14it/s]\n",
      "100%|██████████| 10/10 [00:00<00:00, 342.17it/s]\n",
      "100%|██████████| 10/10 [00:00<00:00, 2112.15it/s]\n"
     ]
    },
    {
     "name": "stdout",
     "output_type": "stream",
     "text": [
      "[0.6366666666666667, 382.0, 600]\n",
      "['20190515', '20190515']\n",
      "['20190506', '20190514']\n",
      "[0.6885813148788927, 398.0, 578]\n",
      "['20190516', '20190516']\n",
      "['20190507', '20190515']\n"
     ]
    },
    {
     "name": "stderr",
     "output_type": "stream",
     "text": [
      "100%|██████████| 10/10 [00:00<00:00, 298.62it/s]\n",
      "100%|██████████| 10/10 [00:00<00:00, 2267.80it/s]\n",
      "100%|██████████| 10/10 [00:00<00:00, 287.98it/s]\n",
      "100%|██████████| 10/10 [00:00<00:00, 2172.99it/s]\n",
      "100%|██████████| 10/10 [00:00<00:00, 288.68it/s]\n",
      "100%|██████████| 10/10 [00:00<00:00, 327.50it/s]\n",
      "100%|██████████| 10/10 [00:00<00:00, 2353.84it/s]\n",
      "100%|██████████| 10/10 [00:00<00:00, 2290.09it/s]\n",
      "100%|██████████| 10/10 [00:00<00:00, 362.48it/s]\n",
      "100%|██████████| 10/10 [00:00<00:00, 388.16it/s]\n",
      "100%|██████████| 10/10 [00:00<00:00, 2336.01it/s]\n",
      "100%|██████████| 10/10 [00:00<00:00, 3210.83it/s]\n",
      "100%|██████████| 10/10 [00:00<00:00, 316.94it/s]\n",
      "100%|██████████| 10/10 [00:00<00:00, 2295.86it/s]\n"
     ]
    },
    {
     "name": "stdout",
     "output_type": "stream",
     "text": [
      "[0.6885813148788927, 398.0, 578]\n",
      "['20190517', '20190517']\n",
      "['20190508', '20190516']\n",
      "[0.6112026359143328, 371.0, 607]\n",
      "['20190518', '20190518']\n",
      "['20190509', '20190517']\n",
      "[0.7096774193548387, 396.0, 558]\n",
      "['20190519', '20190519']\n",
      "['20190510', '20190518']\n",
      "[0.6128500823723229, 372.0, 607]\n",
      "['20190520', '20190520']\n",
      "['20190511', '20190519']\n",
      "['20190521', '20190521']\n",
      "['20190512', '20190520']\n",
      "['20190522', '20190522']\n",
      "['20190513', '20190521']\n",
      "[0.6626916524701874, 389.0, 587]\n",
      "['20190523', '20190523']\n",
      "['20190514', '20190522']\n"
     ]
    },
    {
     "name": "stderr",
     "output_type": "stream",
     "text": [
      "100%|██████████| 10/10 [00:00<00:00, 269.86it/s]\n",
      "  0%|          | 0/10 [00:00<?, ?it/s]80.16it/s]\n",
      "100%|██████████| 10/10 [00:00<00:00, 2159.34it/s]\n",
      "100%|██████████| 10/10 [00:00<00:00, 2067.38it/s]\n",
      "100%|██████████| 10/10 [00:00<00:00, 285.17it/s]\n",
      "100%|██████████| 10/10 [00:00<00:00, 2058.86it/s]\n",
      "  0%|          | 0/10 [00:00<?, ?it/s]"
     ]
    },
    {
     "name": "stdout",
     "output_type": "stream",
     "text": [
      "[0.7096774193548387, 396.0, 558]\n",
      "['20190524', '20190524']\n",
      "['20190515', '20190523']\n",
      "[0.6724436741767764, 388.0, 577]\n",
      "['20190525', '20190525']\n",
      "['20190516', '20190524']\n",
      "[0.6440677966101694, 379.99999999999994, 590]\n",
      "['20190526', '20190526']\n",
      "['20190517', '20190525']\n",
      "['20190527', '20190527']\n",
      "['20190518', '20190526']\n",
      "['20190528', '20190528']\n",
      "['20190519', '20190527']\n"
     ]
    },
    {
     "name": "stderr",
     "output_type": "stream",
     "text": [
      "100%|██████████| 10/10 [00:00<00:00, 318.07it/s]\n",
      "100%|██████████| 10/10 [00:00<00:00, 361.57it/s]\n",
      "100%|██████████| 10/10 [00:00<00:00, 1931.26it/s]\n",
      "100%|██████████| 10/10 [00:00<00:00, 2065.85it/s]\n",
      "100%|██████████| 10/10 [00:00<00:00, 360.31it/s]\n",
      "100%|██████████| 10/10 [00:00<00:00, 320.05it/s]\n",
      "100%|██████████| 10/10 [00:00<00:00, 2238.28it/s]\n",
      "100%|██████████| 10/10 [00:00<00:00, 2136.79it/s]\n",
      "100%|██████████| 10/10 [00:00<00:00, 281.71it/s]\n",
      "100%|██████████| 10/10 [00:00<00:00, 2082.37it/s]\n",
      "  0%|          | 0/10 [00:00<?, ?it/s]"
     ]
    },
    {
     "name": "stdout",
     "output_type": "stream",
     "text": [
      "[0.6254180602006689, 374.0, 598]\n",
      "['20190529', '20190529']\n",
      "['20190520', '20190528']\n",
      "[0.6231404958677685, 376.99999999999994, 605]\n",
      "['20190530', '20190530']\n",
      "['20190521', '20190529']\n"
     ]
    },
    {
     "name": "stderr",
     "output_type": "stream",
     "text": [
      "100%|██████████| 10/10 [00:00<00:00, 283.87it/s]\n",
      "100%|██████████| 10/10 [00:00<00:00, 2040.33it/s]\n"
     ]
    },
    {
     "name": "stdout",
     "output_type": "stream",
     "text": [
      "[0.6518010291595198, 380.0, 583]\n",
      "['20190531', '20190531']\n",
      "['20190522', '20190530']\n",
      "[0.635, 381.0, 600]\n",
      "['20190601', '20190601']\n",
      "['20190523', '20190531']\n"
     ]
    },
    {
     "name": "stderr",
     "output_type": "stream",
     "text": [
      "100%|██████████| 10/10 [00:00<00:00, 292.27it/s]\n",
      "100%|██████████| 10/10 [00:00<00:00, 2391.55it/s]\n",
      "100%|██████████| 10/10 [00:00<00:00, 339.28it/s]\n",
      "100%|██████████| 10/10 [00:00<00:00, 2349.62it/s]\n"
     ]
    },
    {
     "name": "stdout",
     "output_type": "stream",
     "text": [
      "[0.635, 381.0, 600]\n",
      "['20190602', '20190602']\n",
      "['20190524', '20190601']\n",
      "['20190603', '20190603']\n",
      "['20190525', '20190602']\n",
      "['20190604', '20190604']\n",
      "['20190526', '20190603']\n"
     ]
    },
    {
     "name": "stderr",
     "output_type": "stream",
     "text": [
      "100%|██████████| 10/10 [00:00<00:00, 376.19it/s]\n",
      "100%|██████████| 10/10 [00:00<00:00, 380.08it/s]\n",
      "100%|██████████| 10/10 [00:00<00:00, 2368.99it/s]\n",
      "100%|██████████| 10/10 [00:00<00:00, 2415.52it/s]\n",
      "100%|██████████| 10/10 [00:00<00:00, 323.58it/s]\n",
      "100%|██████████| 10/10 [00:00<00:00, 2322.81it/s]\n",
      "100%|██████████| 10/10 [00:00<00:00, 331.72it/s]\n",
      "100%|██████████| 10/10 [00:00<00:00, 2083.30it/s]\n",
      "100%|██████████| 10/10 [00:00<00:00, 321.40it/s]\n",
      "100%|██████████| 10/10 [00:00<00:00, 320.30it/s]\n",
      "100%|██████████| 10/10 [00:00<00:00, 3072.75it/s]\n",
      "100%|██████████| 10/10 [00:00<00:00, 363.18it/s]]\n",
      "\n",
      "100%|██████████| 10/10 [00:00<00:00, 2138.10it/s]\n"
     ]
    },
    {
     "name": "stdout",
     "output_type": "stream",
     "text": [
      "[0.5980551053484603, 369.0, 617]\n",
      "['20190605', '20190605']\n",
      "['20190527', '20190604']\n",
      "['20190606', '20190606']\n",
      "['20190528', '20190605']\n",
      "[0.5870967741935483, 363.99999999999994, 620]\n",
      "['20190607', '20190607']\n",
      "['20190529', '20190606']\n",
      "[0.5906148867313916, 365.0, 618]\n",
      "['20190608', '20190608']\n",
      "['20190530', '20190607']\n",
      "['20190609', '20190609']\n",
      "['20190531', '20190608']\n",
      "[0.627677100494234, 381.0, 607]\n",
      "['20190610', '20190610']\n",
      "['20190601', '20190609']\n",
      "['20190611', '20190611']\n",
      "['20190602', '20190610']\n",
      "[0.5788643533123028, 366.99999999999994, 634]\n",
      "['20190612', '20190612']\n",
      "['20190603', '20190611']\n",
      "[0.5696400625978091, 364.0, 639]\n",
      "['20190613', '20190613']\n",
      "['20190604', '20190612']\n"
     ]
    },
    {
     "name": "stderr",
     "output_type": "stream",
     "text": [
      "100%|██████████| 10/10 [00:00<00:00, 428.22it/s]\n",
      "100%|██████████| 10/10 [00:00<00:00, 1873.96it/s]\n",
      "100%|██████████| 10/10 [00:00<00:00, 309.68it/s]\n",
      "100%|██████████| 10/10 [00:00<00:00, 2204.05it/s]\n",
      "100%|██████████| 10/10 [00:00<00:00, 296.10it/s]\n",
      "100%|██████████| 10/10 [00:00<00:00, 300.13it/s]\n",
      "100%|██████████| 10/10 [00:00<00:00, 2075.16it/s]\n",
      "100%|██████████| 10/10 [00:00<00:00, 2232.08it/s]\n",
      "100%|██████████| 10/10 [00:00<00:00, 130.22it/s]\n",
      "100%|██████████| 10/10 [00:00<00:00, 285.14it/s]\n",
      "100%|██████████| 10/10 [00:00<00:00, 2095.06it/s]\n",
      "100%|██████████| 10/10 [00:00<00:00, 2219.80it/s]\n",
      "100%|██████████| 10/10 [00:00<00:00, 301.59it/s]\n",
      "100%|██████████| 10/10 [00:00<00:00, 2337.18it/s]\n",
      "100%|██████████| 10/10 [00:00<00:00, 333.88it/s]\n",
      "100%|██████████| 10/10 [00:00<00:00, 1790.07it/s]\n"
     ]
    },
    {
     "name": "stdout",
     "output_type": "stream",
     "text": [
      "[0.627677100494234, 381.0, 607]\n",
      "['20190614', '20190614']\n",
      "['20190605', '20190613']\n",
      "[0.5923566878980892, 372.0, 628]\n",
      "['20190615', '20190615']\n",
      "['20190606', '20190614']\n",
      "[0.6, 369.0, 615]\n",
      "['20190616', '20190616']\n",
      "['20190607', '20190615']\n",
      "['20190617', '20190617']\n",
      "['20190608', '20190616']\n"
     ]
    },
    {
     "name": "stderr",
     "output_type": "stream",
     "text": [
      "100%|██████████| 10/10 [00:00<00:00, 341.07it/s]\n",
      "100%|██████████| 10/10 [00:00<00:00, 2163.02it/s]\n",
      "100%|██████████| 10/10 [00:00<00:00, 199.78it/s]\n",
      "100%|██████████| 10/10 [00:00<00:00, 1831.09it/s]\n"
     ]
    },
    {
     "name": "stdout",
     "output_type": "stream",
     "text": [
      "['20190618', '20190618']\n",
      "['20190609', '20190617']\n",
      "[0.5323076923076923, 345.99999999999994, 650]\n",
      "['20190619', '20190619']\n",
      "['20190610', '20190618']\n",
      "[0.6, 369.0, 615]\n",
      "['20190620', '20190620']\n",
      "['20190611', '20190619']\n"
     ]
    },
    {
     "name": "stderr",
     "output_type": "stream",
     "text": [
      "100%|██████████| 10/10 [00:00<00:00, 311.08it/s]\n",
      "100%|██████████| 10/10 [00:00<00:00, 2108.86it/s]\n",
      "100%|██████████| 10/10 [00:00<00:00, 134.18it/s]\n",
      "100%|██████████| 10/10 [00:00<00:00, 2189.21it/s]\n",
      "100%|██████████| 10/10 [00:00<00:00, 286.44it/s]\n",
      "100%|██████████| 10/10 [00:00<00:00, 2091.82it/s]\n"
     ]
    },
    {
     "name": "stdout",
     "output_type": "stream",
     "text": [
      "[0.541795665634675, 350.0, 646]\n",
      "['20190621', '20190621']\n",
      "['20190612', '20190620']\n",
      "[0.5221374045801527, 342.0, 655]\n",
      "['20190622', '20190622']\n",
      "['20190613', '20190621']\n",
      "['20190623', '20190623']\n",
      "['20190614', '20190622']\n",
      "[0.5639810426540285, 357.00000000000006, 633]\n",
      "['20190624', '20190624']\n",
      "['20190615', '20190623']\n"
     ]
    },
    {
     "name": "stderr",
     "output_type": "stream",
     "text": [
      "100%|██████████| 10/10 [00:00<00:00, 306.81it/s]\n",
      "100%|██████████| 10/10 [00:00<00:00, 1999.67it/s]\n",
      "100%|██████████| 10/10 [00:00<00:00, 372.08it/s]\n",
      "100%|██████████| 10/10 [00:00<00:00, 367.49it/s]\n",
      "100%|██████████| 10/10 [00:00<00:00, 3146.75it/s]\n",
      "100%|██████████| 10/10 [00:00<00:00, 2368.86it/s]\n"
     ]
    },
    {
     "name": "stdout",
     "output_type": "stream",
     "text": [
      "['20190625', '20190625']\n",
      "['20190616', '20190624']\n",
      "[0.5639810426540285, 357.00000000000006, 633]\n",
      "['20190626', '20190626']\n",
      "['20190617', '20190625']\n"
     ]
    },
    {
     "name": "stderr",
     "output_type": "stream",
     "text": [
      "100%|██████████| 10/10 [00:00<00:00, 292.47it/s]\n",
      "100%|██████████| 10/10 [00:00<00:00, 2152.91it/s]\n",
      "100%|██████████| 10/10 [00:00<00:00, 257.60it/s]\n",
      "100%|██████████| 10/10 [00:00<00:00, 2298.37it/s]\n"
     ]
    },
    {
     "name": "stdout",
     "output_type": "stream",
     "text": [
      "[0.5598755832037325, 360.0, 643]\n",
      "['20190627', '20190627']\n",
      "['20190618', '20190626']\n"
     ]
    },
    {
     "name": "stderr",
     "output_type": "stream",
     "text": [
      "100%|██████████| 10/10 [00:00<00:00, 245.65it/s]\n",
      "100%|██████████| 10/10 [00:00<00:00, 2151.70it/s]\n"
     ]
    },
    {
     "name": "stdout",
     "output_type": "stream",
     "text": [
      "[0.6215334420880914, 381.0, 613]\n",
      "['20190628', '20190628']\n",
      "['20190619', '20190627']\n",
      "[0.5907643312101911, 371.0, 628]\n",
      "['20190629', '20190629']\n",
      "['20190620', '20190628']\n"
     ]
    },
    {
     "name": "stderr",
     "output_type": "stream",
     "text": [
      "100%|██████████| 10/10 [00:00<00:00, 264.50it/s]\n",
      "100%|██████████| 10/10 [00:00<00:00, 1989.24it/s]\n",
      "100%|██████████| 10/10 [00:00<00:00, 315.59it/s]\n",
      "100%|██████████| 10/10 [00:00<00:00, 2222.27it/s]\n",
      "100%|██████████| 10/10 [00:00<00:00, 334.41it/s]\n",
      "100%|██████████| 10/10 [00:00<00:00, 2209.39it/s]\n",
      "100%|██████████| 10/10 [00:00<00:00, 363.88it/s]\n",
      "100%|██████████| 10/10 [00:00<00:00, 2224.86it/s]\n",
      "100%|██████████| 10/10 [00:00<00:00, 313.05it/s]\n",
      "100%|██████████| 10/10 [00:00<00:00, 278.00it/s]\n",
      "100%|██████████| 10/10 [00:00<00:00, 2256.82it/s]\n",
      "100%|██████████| 10/10 [00:00<00:00, 2248.11it/s]\n",
      "  0%|          | 0/10 [00:00<?, ?it/s]"
     ]
    },
    {
     "name": "stdout",
     "output_type": "stream",
     "text": [
      "['20190630', '20190630']\n",
      "['20190621', '20190629']\n",
      "[0.6195121951219512, 381.0, 615]\n",
      "['20190701', '20190701']\n",
      "['20190622', '20190630']\n",
      "['20190702', '20190702']\n",
      "['20190623', '20190701']\n",
      "[0.6146341463414634, 378.0, 615]\n",
      "['20190703', '20190703']\n",
      "['20190624', '20190702']\n",
      "[0.6638655462184874, 395.0, 595]\n",
      "['20190704', '20190704']\n",
      "['20190625', '20190703']\n",
      "[0.6305418719211823, 384.0, 609]\n",
      "['20190705', '20190705']\n",
      "['20190626', '20190704']\n",
      "[0.6016, 376.0, 625]\n",
      "['20190706', '20190706']\n",
      "['20190627', '20190705']\n",
      "['20190707', '20190707']\n",
      "['20190628', '20190706']\n",
      "[0.6305418719211823, 384.0, 609]\n",
      "['20190708', '20190708']\n",
      "['20190629', '20190707']\n"
     ]
    },
    {
     "name": "stderr",
     "output_type": "stream",
     "text": [
      "100%|██████████| 10/10 [00:00<00:00, 272.59it/s]\n",
      "100%|██████████| 10/10 [00:00<00:00, 275.90it/s]\n",
      "100%|██████████| 10/10 [00:00<00:00, 2068.91it/s]\n",
      "100%|██████████| 10/10 [00:00<00:00, 308.22it/s]\n",
      "100%|██████████| 10/10 [00:00<00:00, 2014.46it/s]\n",
      "100%|██████████| 10/10 [00:00<00:00, 2194.59it/s]\n",
      "100%|██████████| 10/10 [00:00<00:00, 367.71it/s]\n",
      "100%|██████████| 10/10 [00:00<00:00, 2391.55it/s]\n",
      "100%|██████████| 10/10 [00:00<00:00, 353.48it/s]\n",
      "100%|██████████| 10/10 [00:00<00:00, 2292.97it/s]\n",
      "100%|██████████| 10/10 [00:00<00:00, 309.92it/s]\n",
      "100%|██████████| 10/10 [00:00<00:00, 272.26it/s]\n",
      "100%|██████████| 10/10 [00:00<00:00, 2251.13it/s]\n",
      "100%|██████████| 10/10 [00:00<00:00, 2163.46it/s]\n"
     ]
    },
    {
     "name": "stdout",
     "output_type": "stream",
     "text": [
      "['20190709', '20190709']\n",
      "['20190630', '20190708']\n",
      "[0.5821371610845295, 365.0, 627]\n",
      "['20190710', '20190710']\n",
      "['20190701', '20190709']\n",
      "[0.6638655462184874, 395.0, 595]\n",
      "['20190711', '20190711']\n",
      "['20190702', '20190710']\n",
      "[0.5897435897435898, 368.0, 624]\n",
      "['20190712', '20190712']\n",
      "['20190703', '20190711']\n"
     ]
    },
    {
     "name": "stderr",
     "output_type": "stream",
     "text": [
      "100%|██████████| 10/10 [00:00<00:00, 275.77it/s]\n",
      "100%|██████████| 10/10 [00:00<00:00, 2165.47it/s]\n",
      "100%|██████████| 10/10 [00:00<00:00, 280.28it/s]\n",
      "100%|██████████| 10/10 [00:00<00:00, 2759.59it/s]\n"
     ]
    },
    {
     "name": "stdout",
     "output_type": "stream",
     "text": [
      "[0.6084142394822006, 376.0, 618]\n",
      "['20190713', '20190713']\n",
      "['20190704', '20190712']\n",
      "['20190714', '20190714']\n",
      "['20190705', '20190713']\n",
      "[0.6084142394822006, 376.0, 618]\n",
      "['20190715', '20190715']\n",
      "['20190706', '20190714']\n",
      "['20190716', '20190716']\n",
      "['20190707', '20190715']\n"
     ]
    },
    {
     "name": "stderr",
     "output_type": "stream",
     "text": [
      "100%|██████████| 10/10 [00:00<00:00, 330.86it/s]\n",
      "100%|██████████| 10/10 [00:00<00:00, 2333.15it/s]\n",
      "100%|██████████| 10/10 [00:00<00:00, 377.20it/s]\n",
      "100%|██████████| 10/10 [00:00<00:00, 2398.39it/s]\n",
      "100%|██████████| 10/10 [00:00<00:00, 369.21it/s]\n",
      "100%|██████████| 10/10 [00:00<00:00, 2382.72it/s]\n",
      "100%|██████████| 10/10 [00:00<00:00, 322.58it/s]\n",
      "100%|██████████| 10/10 [00:00<00:00, 2287.72it/s]\n",
      "100%|██████████| 10/10 [00:00<00:00, 297.14it/s]\n",
      "  0%|          | 0/10 [00:00<?, ?it/s]"
     ]
    },
    {
     "name": "stdout",
     "output_type": "stream",
     "text": [
      "[0.5777080062794349, 368.0, 637]\n",
      "['20190717', '20190717']\n",
      "['20190708', '20190716']\n"
     ]
    },
    {
     "name": "stderr",
     "output_type": "stream",
     "text": [
      "100%|██████████| 10/10 [00:00<00:00, 2258.40it/s]\n"
     ]
    },
    {
     "name": "stdout",
     "output_type": "stream",
     "text": [
      "[0.5877742946708464, 375.0, 638]\n",
      "['20190718', '20190718']\n",
      "['20190709', '20190717']\n",
      "[0.5763779527559055, 366.0, 635]\n",
      "['20190719', '20190719']\n",
      "['20190710', '20190718']\n",
      "[0.5877742946708464, 375.0, 638]\n",
      "['20190720', '20190720']\n",
      "['20190711', '20190719']\n"
     ]
    },
    {
     "name": "stderr",
     "output_type": "stream",
     "text": [
      "100%|██████████| 10/10 [00:00<00:00, 366.85it/s]\n",
      "100%|██████████| 10/10 [00:00<00:00, 2998.07it/s]\n",
      "100%|██████████| 10/10 [00:00<00:00, 287.42it/s]\n",
      "100%|██████████| 10/10 [00:00<00:00, 2208.69it/s]\n",
      "100%|██████████| 10/10 [00:00<00:00, 320.76it/s]\n",
      "100%|██████████| 10/10 [00:00<00:00, 2314.61it/s]\n",
      "100%|██████████| 10/10 [00:00<00:00, 359.77it/s]\n",
      "100%|██████████| 10/10 [00:00<00:00, 2343.84it/s]\n",
      "100%|██████████| 10/10 [00:00<00:00, 352.60it/s]\n",
      "100%|██████████| 10/10 [00:00<00:00, 321.68it/s]\n",
      "100%|██████████| 10/10 [00:00<00:00, 2118.87it/s]\n",
      "100%|██████████| 10/10 [00:00<00:00, 2160.56it/s]\n",
      "100%|██████████| 10/10 [00:00<00:00, 273.10it/s]\n",
      "100%|██████████| 10/10 [00:00<00:00, 2203.70it/s]\n"
     ]
    },
    {
     "name": "stdout",
     "output_type": "stream",
     "text": [
      "[0.5873015873015873, 370.0, 630]\n",
      "['20190721', '20190721']\n",
      "['20190712', '20190720']\n",
      "[0.5756630265210608, 369.0, 641]\n",
      "['20190722', '20190722']\n",
      "['20190713', '20190721']\n",
      "['20190723', '20190723']\n",
      "['20190714', '20190722']\n",
      "['20190724', '20190724']\n",
      "['20190715', '20190723']\n",
      "[0.5639445300462249, 365.99999999999994, 649]\n",
      "['20190725', '20190725']\n",
      "['20190716', '20190724']\n",
      "[0.583596214511041, 370.0, 634]\n",
      "['20190726', '20190726']\n",
      "['20190717', '20190725']\n",
      "[0.5555555555555556, 360.0, 648]\n",
      "['20190727', '20190727']\n",
      "['20190718', '20190726']\n",
      "[0.5666156202143952, 370.00000000000006, 653]\n",
      "['20190728', '20190728']\n",
      "['20190719', '20190727']\n",
      "['20190729', '20190729']\n",
      "['20190720', '20190728']\n"
     ]
    },
    {
     "name": "stderr",
     "output_type": "stream",
     "text": [
      "100%|██████████| 10/10 [00:00<00:00, 286.63it/s]\n",
      "100%|██████████| 10/10 [00:00<00:00, 2017.56it/s]\n",
      "100%|██████████| 10/10 [00:00<00:00, 276.67it/s]\n",
      "100%|██████████| 10/10 [00:00<00:00, 309.78it/s]\n",
      "100%|██████████| 10/10 [00:00<00:00, 2043.01it/s]\n",
      "100%|██████████| 10/10 [00:00<00:00, 1961.42it/s]\n",
      "100%|██████████| 10/10 [00:00<00:00, 356.56it/s]\n",
      "100%|██████████| 10/10 [00:00<00:00, 2379.21it/s]\n",
      "100%|██████████| 10/10 [00:00<00:00, 357.01it/s]\n",
      "100%|██████████| 10/10 [00:00<00:00, 2073.62it/s]\n",
      "100%|██████████| 10/10 [00:00<00:00, 314.09it/s]\n",
      "100%|██████████| 10/10 [00:00<00:00, 2064.84it/s]\n",
      "100%|██████████| 10/10 [00:00<00:00, 283.84it/s]\n",
      "100%|██████████| 10/10 [00:00<00:00, 1971.19it/s]\n",
      "  0%|          | 0/10 [00:00<?, ?it/s]"
     ]
    },
    {
     "name": "stdout",
     "output_type": "stream",
     "text": [
      "['20190730', '20190730']\n",
      "['20190721', '20190729']\n",
      "[0.5689922480620155, 367.0, 645]\n",
      "['20190731', '20190731']\n",
      "['20190722', '20190730']\n",
      "[0.5873015873015873, 370.0, 630]\n",
      "['20190801', '20190801']\n",
      "['20190723', '20190731']\n"
     ]
    },
    {
     "name": "stderr",
     "output_type": "stream",
     "text": [
      "100%|██████████| 10/10 [00:00<00:00, 280.75it/s]\n",
      "100%|██████████| 10/10 [00:00<00:00, 2204.28it/s]\n",
      "100%|██████████| 10/10 [00:00<00:00, 285.59it/s]\n",
      "100%|██████████| 10/10 [00:00<00:00, 2191.15it/s]\n"
     ]
    },
    {
     "name": "stdout",
     "output_type": "stream",
     "text": [
      "[0.5790297339593115, 370.0, 639]\n",
      "['20190802', '20190802']\n",
      "['20190724', '20190801']\n",
      "[0.632952691680261, 388.0, 613]\n",
      "['20190803', '20190803']\n",
      "['20190725', '20190802']\n",
      "[0.632952691680261, 388.0, 613]\n",
      "['20190804', '20190804']\n",
      "['20190726', '20190803']\n",
      "['20190805', '20190805']\n",
      "['20190727', '20190804']\n",
      "['20190806', '20190806']\n",
      "['20190728', '20190805']\n"
     ]
    },
    {
     "name": "stderr",
     "output_type": "stream",
     "text": [
      "100%|██████████| 10/10 [00:00<00:00, 251.74it/s]\n",
      "100%|██████████| 10/10 [00:00<00:00, 2241.74it/s]\n",
      "100%|██████████| 10/10 [00:00<00:00, 335.23it/s]\n",
      "100%|██████████| 10/10 [00:00<00:00, 2349.88it/s]\n",
      "100%|██████████| 10/10 [00:00<00:00, 342.79it/s]\n",
      "100%|██████████| 10/10 [00:00<00:00, 2414.96it/s]\n",
      "100%|██████████| 10/10 [00:00<00:00, 327.65it/s]\n",
      "100%|██████████| 10/10 [00:00<00:00, 2364.05it/s]\n"
     ]
    },
    {
     "name": "stdout",
     "output_type": "stream",
     "text": [
      "[0.5863708399366085, 370.0, 631]\n",
      "['20190807', '20190807']\n",
      "['20190729', '20190806']\n",
      "[0.6057233704292527, 380.99999999999994, 629]\n",
      "['20190808', '20190808']\n",
      "['20190730', '20190807']\n",
      "[0.5700787401574803, 362.0, 635]\n",
      "['20190809', '20190809']\n",
      "['20190731', '20190808']\n",
      "[0.572107765451664, 360.99999999999994, 631]\n",
      "['20190810', '20190810']\n",
      "['20190801', '20190809']\n",
      "['20190811', '20190811']\n",
      "['20190802', '20190810']\n"
     ]
    },
    {
     "name": "stderr",
     "output_type": "stream",
     "text": [
      "100%|██████████| 10/10 [00:00<00:00, 291.26it/s]\n",
      "100%|██████████| 10/10 [00:00<00:00, 2283.61it/s]\n",
      "100%|██████████| 10/10 [00:00<00:00, 284.37it/s]\n",
      "100%|██████████| 10/10 [00:00<00:00, 282.12it/s]\n",
      "100%|██████████| 10/10 [00:00<00:00, 2153.13it/s]\n",
      "100%|██████████| 10/10 [00:00<00:00, 386.54it/s]\n",
      "100%|██████████| 10/10 [00:00<00:00, 2211.84it/s]\n",
      "100%|██████████| 10/10 [00:00<00:00, 3023.36it/s]\n",
      "100%|██████████| 10/10 [00:00<00:00, 410.88it/s]\n",
      "100%|██████████| 10/10 [00:00<00:00, 3081.10it/s]\n",
      "100%|██████████| 10/10 [00:00<00:00, 520.87it/s]\n",
      "100%|██████████| 10/10 [00:00<00:00, 3347.94it/s]\n",
      "100%|██████████| 10/10 [00:00<00:00, 386.52it/s]\n",
      "100%|██████████| 10/10 [00:00<00:00, 319.27it/s]\n",
      "100%|██████████| 10/10 [00:00<00:00, 3126.11it/s]\n",
      "100%|██████████| 10/10 [00:00<00:00, 2250.16it/s]\n"
     ]
    },
    {
     "name": "stdout",
     "output_type": "stream",
     "text": [
      "['20190812', '20190812']\n",
      "['20190803', '20190811']\n",
      "['20190813', '20190813']\n",
      "['20190804', '20190812']\n",
      "[0.5977198697068404, 367.0, 614]\n",
      "['20190814', '20190814']\n",
      "['20190805', '20190813']\n",
      "[0.5977198697068404, 367.0, 614]\n",
      "['20190815', '20190815']\n",
      "['20190806', '20190814']\n"
     ]
    },
    {
     "name": "stderr",
     "output_type": "stream",
     "text": [
      "100%|██████████| 10/10 [00:00<00:00, 360.03it/s]\n",
      "100%|██████████| 10/10 [00:00<00:00, 2189.44it/s]\n",
      "100%|██████████| 10/10 [00:00<00:00, 346.23it/s]\n",
      "100%|██████████| 10/10 [00:00<00:00, 2196.89it/s]\n"
     ]
    },
    {
     "name": "stdout",
     "output_type": "stream",
     "text": [
      "['20190816', '20190816']\n",
      "['20190807', '20190815']\n",
      "[0.5734375, 367.0, 640]\n",
      "['20190817', '20190817']\n",
      "['20190808', '20190816']\n",
      "['20190818', '20190818']\n",
      "['20190809', '20190817']\n",
      "[0.5709779179810726, 362.0, 634]\n",
      "['20190819', '20190819']\n",
      "['20190810', '20190818']\n",
      "[0.6193548387096774, 384.0, 620]\n",
      "['20190820', '20190820']\n",
      "['20190811', '20190819']\n",
      "['20190821', '20190821']\n",
      "['20190812', '20190820']\n"
     ]
    },
    {
     "name": "stderr",
     "output_type": "stream",
     "text": [
      "100%|██████████| 10/10 [00:00<00:00, 437.14it/s]\n",
      "100%|██████████| 10/10 [00:00<00:00, 2302.41it/s]\n",
      "100%|██████████| 10/10 [00:00<00:00, 512.26it/s]\n",
      "100%|██████████| 10/10 [00:00<00:00, 508.15it/s]\n",
      "100%|██████████| 10/10 [00:00<00:00, 2550.66it/s]\n",
      "100%|██████████| 10/10 [00:00<00:00, 2351.73it/s]\n",
      "100%|██████████| 10/10 [00:00<00:00, 420.72it/s]\n",
      "100%|██████████| 10/10 [00:00<00:00, 2491.27it/s]\n",
      "100%|██████████| 10/10 [00:00<00:00, 358.25it/s]\n",
      "100%|██████████| 10/10 [00:00<00:00, 2398.80it/s]\n"
     ]
    },
    {
     "name": "stdout",
     "output_type": "stream",
     "text": [
      "[0.5740740740740741, 372.0, 648]\n",
      "['20190822', '20190822']\n",
      "['20190813', '20190821']\n",
      "[0.6193548387096774, 384.0, 620]\n",
      "['20190823', '20190823']\n",
      "['20190814', '20190822']\n"
     ]
    },
    {
     "name": "stderr",
     "output_type": "stream",
     "text": [
      "100%|██████████| 10/10 [00:00<00:00, 266.83it/s]\n",
      "100%|██████████| 10/10 [00:00<00:00, 2249.32it/s]\n",
      "100%|██████████| 10/10 [00:00<00:00, 296.81it/s]\n",
      "100%|██████████| 10/10 [00:00<00:00, 2040.73it/s]\n",
      "100%|██████████| 10/10 [00:00<00:00, 366.07it/s]\n",
      "100%|██████████| 10/10 [00:00<00:00, 366.30it/s]\n",
      "100%|██████████| 10/10 [00:00<00:00, 2271.73it/s]\n",
      "100%|██████████| 10/10 [00:00<00:00, 2351.86it/s]\n"
     ]
    },
    {
     "name": "stdout",
     "output_type": "stream",
     "text": [
      "[0.5716486902927581, 371.0, 649]\n",
      "['20190824', '20190824']\n",
      "['20190815', '20190823']\n",
      "[0.5800933125972006, 373.0, 643]\n",
      "['20190825', '20190825']\n",
      "['20190816', '20190824']\n",
      "[0.6161290322580645, 382.0, 620]\n",
      "['20190826', '20190826']\n",
      "['20190817', '20190825']\n",
      "['20190827', '20190827']\n",
      "['20190818', '20190826']\n",
      "['20190828', '20190828']\n",
      "['20190819', '20190827']\n"
     ]
    },
    {
     "name": "stderr",
     "output_type": "stream",
     "text": [
      "100%|██████████| 10/10 [00:00<00:00, 360.83it/s]\n",
      "100%|██████████| 10/10 [00:00<00:00, 317.45it/s]\n",
      "100%|██████████| 10/10 [00:00<00:00, 281.73it/s]\n",
      "100%|██████████| 10/10 [00:00<00:00, 2137.77it/s]\n",
      "100%|██████████| 10/10 [00:00<00:00, 2221.68it/s]\n",
      "100%|██████████| 10/10 [00:00<00:00, 2212.07it/s]\n"
     ]
    },
    {
     "name": "stdout",
     "output_type": "stream",
     "text": [
      "[0.6161290322580645, 382.0, 620]\n",
      "['20190829', '20190829']\n",
      "['20190820', '20190828']\n",
      "[0.5936507936507937, 374.0, 630]\n",
      "['20190830', '20190830']\n",
      "['20190821', '20190829']\n"
     ]
    },
    {
     "name": "stderr",
     "output_type": "stream",
     "text": [
      "100%|██████████| 10/10 [00:00<00:00, 296.80it/s]\n",
      "100%|██████████| 10/10 [00:00<00:00, 2293.10it/s]\n",
      "100%|██████████| 10/10 [00:00<00:00, 295.74it/s]\n",
      "100%|██████████| 10/10 [00:00<00:00, 2099.57it/s]\n"
     ]
    },
    {
     "name": "stdout",
     "output_type": "stream",
     "text": [
      "[0.584375, 374.0, 640]\n",
      "['20190831', '20190831']\n",
      "['20190822', '20190830']\n",
      "[0.5841269841269842, 368.0, 630]\n",
      "['20190901', '20190901']\n",
      "['20190823', '20190831']\n",
      "['20190902', '20190902']\n",
      "['20190824', '20190901']\n",
      "[0.5841269841269842, 368.0, 630]\n",
      "['20190903', '20190903']\n",
      "['20190825', '20190902']\n",
      "['20190904', '20190904']\n",
      "['20190826', '20190903']\n",
      "[0.58125, 372.0, 640]\n",
      "['20190905', '20190905']\n",
      "['20190827', '20190904']\n",
      "['20190906', '20190906']\n",
      "['20190828', '20190905']\n"
     ]
    },
    {
     "name": "stderr",
     "output_type": "stream",
     "text": [
      "100%|██████████| 10/10 [00:00<00:00, 322.85it/s]\n",
      "100%|██████████| 10/10 [00:00<00:00, 2303.55it/s]\n",
      "100%|██████████| 10/10 [00:00<00:00, 367.31it/s]\n",
      "100%|██████████| 10/10 [00:00<00:00, 2241.15it/s]\n",
      "100%|██████████| 10/10 [00:00<00:00, 417.57it/s]\n",
      "100%|██████████| 10/10 [00:00<00:00, 356.13it/s]\n",
      "100%|██████████| 10/10 [00:00<00:00, 2485.51it/s]\n",
      "100%|██████████| 10/10 [00:00<00:00, 317.41it/s]\n",
      "100%|██████████| 10/10 [00:00<00:00, 2310.27it/s]\n",
      "100%|██████████| 10/10 [00:00<00:00, 2206.02it/s]\n",
      "100%|██████████| 10/10 [00:00<00:00, 315.36it/s]\n",
      "100%|██████████| 10/10 [00:00<00:00, 2339.66it/s]\n",
      "100%|██████████| 10/10 [00:00<00:00, 315.22it/s]\n",
      "100%|██████████| 10/10 [00:00<00:00, 2270.75it/s]\n"
     ]
    },
    {
     "name": "stdout",
     "output_type": "stream",
     "text": [
      "[0.56875, 364.0, 640]\n",
      "['20190907', '20190907']\n",
      "['20190829', '20190906']\n",
      "['20190908', '20190908']\n",
      "['20190830', '20190907']\n",
      "['20190909', '20190909']\n",
      "['20190831', '20190908']\n",
      "[0.6216666666666667, 373.0, 600]\n",
      "['20190910', '20190910']\n",
      "['20190901', '20190909']\n"
     ]
    },
    {
     "name": "stderr",
     "output_type": "stream",
     "text": [
      "100%|██████████| 10/10 [00:00<00:00, 374.68it/s]\n",
      "100%|██████████| 10/10 [00:00<00:00, 2488.02it/s]\n",
      "100%|██████████| 10/10 [00:00<00:00, 430.27it/s]\n",
      "100%|██████████| 10/10 [00:00<00:00, 2616.53it/s]\n",
      "100%|██████████| 10/10 [00:00<00:00, 438.37it/s]\n",
      "100%|██████████| 10/10 [00:00<00:00, 2586.04it/s]\n",
      "100%|██████████| 10/10 [00:00<00:00, 353.93it/s]\n",
      "100%|██████████| 10/10 [00:00<00:00, 2390.33it/s]\n",
      "100%|██████████| 10/10 [00:00<00:00, 367.60it/s]\n",
      "100%|██████████| 10/10 [00:00<00:00, 2386.65it/s]\n"
     ]
    },
    {
     "name": "stdout",
     "output_type": "stream",
     "text": [
      "['20190911', '20190911']\n",
      "['20190902', '20190910']\n",
      "[0.6718213058419243, 390.99999999999994, 582]\n",
      "['20190912', '20190912']\n",
      "['20190903', '20190911']\n",
      "[0.5852090032154341, 364.0, 622]\n",
      "['20190913', '20190913']\n",
      "['20190904', '20190912']\n",
      "[0.6042692939244664, 368.0, 609]\n",
      "['20190914', '20190914']\n",
      "['20190905', '20190913']\n"
     ]
    },
    {
     "name": "stderr",
     "output_type": "stream",
     "text": [
      "100%|██████████| 10/10 [00:00<00:00, 325.76it/s]\n",
      "100%|██████████| 10/10 [00:00<00:00, 2320.12it/s]\n",
      "100%|██████████| 10/10 [00:00<00:00, 320.04it/s]\n",
      "100%|██████████| 10/10 [00:00<00:00, 2128.55it/s]\n",
      "100%|██████████| 10/10 [00:00<00:00, 376.77it/s]\n",
      "100%|██████████| 10/10 [00:00<00:00, 2190.01it/s]\n",
      "100%|██████████| 10/10 [00:00<00:00, 451.28it/s]\n",
      "100%|██████████| 10/10 [00:00<00:00, 426.68it/s]\n",
      "100%|██████████| 10/10 [00:00<00:00, 2376.91it/s]\n",
      "100%|██████████| 10/10 [00:00<00:00, 2483.75it/s]\n",
      "100%|██████████| 10/10 [00:00<00:00, 366.43it/s]\n",
      "100%|██████████| 10/10 [00:00<00:00, 2174.23it/s]\n",
      "100%|██████████| 10/10 [00:00<00:00, 408.31it/s]\n",
      "100%|██████████| 10/10 [00:00<00:00, 2995.08it/s]\n"
     ]
    },
    {
     "name": "stdout",
     "output_type": "stream",
     "text": [
      "[0.6208609271523179, 375.0, 604]\n",
      "['20190915', '20190915']\n",
      "['20190906', '20190914']\n",
      "[0.6718213058419243, 390.99999999999994, 582]\n",
      "['20190916', '20190916']\n",
      "['20190907', '20190915']\n",
      "['20190917', '20190917']\n",
      "['20190908', '20190916']\n",
      "['20190918', '20190918']\n",
      "['20190909', '20190917']\n",
      "[0.6208609271523179, 375.0, 604]\n",
      "['20190919', '20190919']\n",
      "['20190910', '20190918']\n",
      "[0.592948717948718, 370.0, 624]\n",
      "['20190920', '20190920']\n",
      "['20190911', '20190919']\n",
      "[0.5819935691318328, 362.0, 622]\n",
      "['20190921', '20190921']\n",
      "['20190912', '20190920']\n"
     ]
    },
    {
     "name": "stderr",
     "output_type": "stream",
     "text": [
      "100%|██████████| 10/10 [00:00<00:00, 321.00it/s]\n",
      "100%|██████████| 10/10 [00:00<00:00, 2263.89it/s]\n",
      "100%|██████████| 10/10 [00:00<00:00, 285.01it/s]\n",
      "100%|██████████| 10/10 [00:00<00:00, 2258.40it/s]\n",
      "100%|██████████| 10/10 [00:00<00:00, 331.94it/s]\n",
      "100%|██████████| 10/10 [00:00<00:00, 2297.75it/s]\n"
     ]
    },
    {
     "name": "stdout",
     "output_type": "stream",
     "text": [
      "['20190922', '20190922']\n",
      "['20190913', '20190921']\n",
      "['20190923', '20190923']\n",
      "['20190914', '20190922']\n"
     ]
    },
    {
     "name": "stderr",
     "output_type": "stream",
     "text": [
      "100%|██████████| 10/10 [00:00<00:00, 508.38it/s]\n",
      "100%|██████████| 10/10 [00:00<00:00, 3162.41it/s]\n",
      "100%|██████████| 10/10 [00:00<00:00, 492.32it/s]\n",
      "100%|██████████| 10/10 [00:00<00:00, 3251.15it/s]\n"
     ]
    },
    {
     "name": "stdout",
     "output_type": "stream",
     "text": [
      "[0.5910543130990416, 370.0, 626]\n",
      "['20190924', '20190924']\n",
      "['20190915', '20190923']\n",
      "[0.6048780487804878, 372.0, 615]\n",
      "['20190925', '20190925']\n",
      "['20190916', '20190924']\n"
     ]
    },
    {
     "name": "stderr",
     "output_type": "stream",
     "text": [
      "100%|██████████| 10/10 [00:00<00:00, 338.01it/s]\n",
      "100%|██████████| 10/10 [00:00<00:00, 2161.68it/s]\n",
      "100%|██████████| 10/10 [00:00<00:00, 293.07it/s]\n",
      "100%|██████████| 10/10 [00:00<00:00, 2040.83it/s]\n",
      "100%|██████████| 10/10 [00:00<00:00, 286.19it/s]\n",
      "100%|██████████| 10/10 [00:00<00:00, 2251.25it/s]\n"
     ]
    },
    {
     "name": "stdout",
     "output_type": "stream",
     "text": [
      "[0.6121112929623568, 374.0, 611]\n",
      "['20190926', '20190926']\n",
      "['20190917', '20190925']\n",
      "[0.6084828711256117, 373.0, 613]\n",
      "['20190927', '20190927']\n",
      "['20190918', '20190926']\n",
      "[0.6048780487804878, 372.0, 615]\n",
      "['20190928', '20190928']\n",
      "['20190919', '20190927']\n",
      "[0.6375838926174496, 380.0, 596]\n",
      "['20190929', '20190929']\n",
      "['20190920', '20190928']\n",
      "[0.5948136142625607, 367.0, 617]\n",
      "['20190930', '20190930']\n",
      "['20190921', '20190929']\n",
      "['20191001', '20191001']\n",
      "['20190922', '20190930']\n"
     ]
    },
    {
     "name": "stderr",
     "output_type": "stream",
     "text": [
      "100%|██████████| 10/10 [00:00<00:00, 285.66it/s]\n",
      "100%|██████████| 10/10 [00:00<00:00, 2205.09it/s]\n",
      "100%|██████████| 10/10 [00:00<00:00, 320.10it/s]\n",
      "100%|██████████| 10/10 [00:00<00:00, 2111.51it/s]\n",
      "100%|██████████| 10/10 [00:00<00:00, 369.17it/s]\n",
      "100%|██████████| 10/10 [00:00<00:00, 363.78it/s]\n",
      "100%|██████████| 10/10 [00:00<00:00, 2319.86it/s]\n",
      "100%|██████████| 10/10 [00:00<00:00, 3051.07it/s]\n",
      "100%|██████████| 10/10 [00:00<00:00, 316.20it/s]\n",
      "100%|██████████| 10/10 [00:00<00:00, 2111.30it/s]\n"
     ]
    },
    {
     "name": "stdout",
     "output_type": "stream",
     "text": [
      "['20191002', '20191002']\n",
      "['20190923', '20191001']\n",
      "['20191003', '20191003']\n",
      "['20190924', '20191002']\n"
     ]
    },
    {
     "name": "stderr",
     "output_type": "stream",
     "text": [
      "100%|██████████| 10/10 [00:00<00:00, 324.02it/s]\n",
      "100%|██████████| 10/10 [00:00<00:00, 2157.01it/s]\n",
      "100%|██████████| 10/10 [00:00<00:00, 333.64it/s]\n",
      "100%|██████████| 10/10 [00:00<00:00, 2322.04it/s]\n"
     ]
    },
    {
     "name": "stdout",
     "output_type": "stream",
     "text": [
      "[0.6274834437086093, 379.0, 604]\n",
      "['20191004', '20191004']\n",
      "['20190925', '20191003']\n",
      "[0.6274834437086093, 379.0, 604]\n",
      "['20191005', '20191005']\n",
      "['20190926', '20191004']\n",
      "[0.5948136142625607, 367.0, 617]\n",
      "['20191006', '20191006']\n",
      "['20190927', '20191005']\n",
      "['20191007', '20191007']\n",
      "['20190928', '20191006']\n",
      "['20191008', '20191008']\n",
      "['20190929', '20191007']\n"
     ]
    },
    {
     "name": "stderr",
     "output_type": "stream",
     "text": [
      "100%|██████████| 10/10 [00:00<00:00, 321.41it/s]\n",
      "100%|██████████| 10/10 [00:00<00:00, 2231.96it/s]\n",
      "100%|██████████| 10/10 [00:00<00:00, 358.65it/s]\n",
      "100%|██████████| 10/10 [00:00<00:00, 2127.14it/s]\n",
      "100%|██████████| 10/10 [00:00<00:00, 430.53it/s]\n",
      "100%|██████████| 10/10 [00:00<00:00, 2244.38it/s]\n",
      "100%|██████████| 10/10 [00:00<00:00, 428.90it/s]\n",
      "100%|██████████| 10/10 [00:00<00:00, 2277.53it/s]\n",
      "100%|██████████| 10/10 [00:00<00:00, 429.00it/s]\n",
      "100%|██████████| 10/10 [00:00<00:00, 2154.68it/s]\n",
      "100%|██████████| 10/10 [00:00<00:00, 365.68it/s]\n",
      "100%|██████████| 10/10 [00:00<00:00, 2279.27it/s]\n",
      "100%|██████████| 10/10 [00:00<00:00, 367.05it/s]\n",
      "100%|██████████| 10/10 [00:00<00:00, 2229.35it/s]\n",
      "  0%|          | 0/10 [00:00<?, ?it/s]"
     ]
    },
    {
     "name": "stdout",
     "output_type": "stream",
     "text": [
      "[0.5825396825396826, 367.0, 630]\n",
      "['20191009', '20191009']\n",
      "['20190930', '20191008']\n",
      "['20191010', '20191010']\n",
      "['20191001', '20191009']\n",
      "[0.5769230769230769, 359.99999999999994, 624]\n",
      "['20191011', '20191011']\n",
      "['20191002', '20191010']\n"
     ]
    },
    {
     "name": "stderr",
     "output_type": "stream",
     "text": [
      "100%|██████████| 10/10 [00:00<00:00, 374.24it/s]\n",
      "100%|██████████| 10/10 [00:00<00:00, 2137.22it/s]\n"
     ]
    },
    {
     "name": "stdout",
     "output_type": "stream",
     "text": [
      "[0.5418569254185692, 356.0, 657]\n",
      "['20191012', '20191012']\n",
      "['20191003', '20191011']\n",
      "[0.5712050078247262, 365.0, 639]\n",
      "['20191013', '20191013']\n",
      "['20191004', '20191012']\n",
      "['20191014', '20191014']\n",
      "['20191005', '20191013']\n",
      "['20191015', '20191015']\n",
      "['20191006', '20191014']\n",
      "[0.5885167464114832, 369.0, 627]\n",
      "['20191016', '20191016']\n",
      "['20191007', '20191015']\n"
     ]
    },
    {
     "name": "stderr",
     "output_type": "stream",
     "text": [
      "100%|██████████| 10/10 [00:00<00:00, 368.28it/s]\n",
      "100%|██████████| 10/10 [00:00<00:00, 2397.43it/s]\n",
      "100%|██████████| 10/10 [00:00<00:00, 432.95it/s]\n",
      "100%|██████████| 10/10 [00:00<00:00, 2370.20it/s]\n",
      "100%|██████████| 10/10 [00:00<00:00, 427.58it/s]\n",
      "100%|██████████| 10/10 [00:00<00:00, 2401.69it/s]\n",
      "100%|██████████| 10/10 [00:00<00:00, 363.06it/s]\n",
      "100%|██████████| 10/10 [00:00<00:00, 321.01it/s]\n",
      "100%|██████████| 10/10 [00:00<00:00, 2325.78it/s]\n",
      "100%|██████████| 10/10 [00:00<00:00, 2232.08it/s]\n"
     ]
    },
    {
     "name": "stdout",
     "output_type": "stream",
     "text": [
      "[0.5778491171749599, 360.0, 623]\n",
      "['20191017', '20191017']\n",
      "['20191008', '20191016']\n",
      "[0.5885167464114832, 369.0, 627]\n",
      "['20191018', '20191018']\n",
      "['20191009', '20191017']\n"
     ]
    },
    {
     "name": "stderr",
     "output_type": "stream",
     "text": [
      "100%|██████████| 10/10 [00:00<00:00, 402.09it/s]\n",
      "100%|██████████| 10/10 [00:00<00:00, 3088.59it/s]\n",
      "100%|██████████| 10/10 [00:00<00:00, 300.83it/s]\n",
      "100%|██████████| 10/10 [00:00<00:00, 2131.58it/s]\n",
      "100%|██████████| 10/10 [00:00<00:00, 331.62it/s]\n",
      "100%|██████████| 10/10 [00:00<00:00, 2190.92it/s]\n",
      "100%|██████████| 10/10 [00:00<00:00, 382.41it/s]\n",
      "100%|██████████| 10/10 [00:00<00:00, 2224.86it/s]\n"
     ]
    },
    {
     "name": "stdout",
     "output_type": "stream",
     "text": [
      "[0.5506134969325154, 359.0, 652]\n",
      "['20191019', '20191019']\n",
      "['20191010', '20191018']\n",
      "['20191020', '20191020']\n",
      "['20191011', '20191019']\n",
      "['20191021', '20191021']\n",
      "['20191012', '20191020']\n",
      "['20191022', '20191022']\n",
      "['20191013', '20191021']\n",
      "[0.5421133231240429, 354.00000000000006, 653]\n",
      "['20191023', '20191023']\n",
      "['20191014', '20191022']\n"
     ]
    },
    {
     "name": "stderr",
     "output_type": "stream",
     "text": [
      "100%|██████████| 10/10 [00:00<00:00, 429.72it/s]\n",
      "100%|██████████| 10/10 [00:00<00:00, 2239.59it/s]\n",
      "100%|██████████| 10/10 [00:00<00:00, 388.33it/s]\n",
      "100%|██████████| 10/10 [00:00<00:00, 2407.48it/s]\n",
      "100%|██████████| 10/10 [00:00<00:00, 336.76it/s]\n",
      "100%|██████████| 10/10 [00:00<00:00, 2387.60it/s]\n",
      "  0%|          | 0/10 [00:00<?, ?it/s]"
     ]
    },
    {
     "name": "stdout",
     "output_type": "stream",
     "text": [
      "[0.5517774343122102, 357.0, 647]\n",
      "['20191024', '20191024']\n",
      "['20191015', '20191023']\n"
     ]
    },
    {
     "name": "stderr",
     "output_type": "stream",
     "text": [
      "100%|██████████| 10/10 [00:00<00:00, 336.28it/s]\n",
      "100%|██████████| 10/10 [00:00<00:00, 2372.48it/s]\n",
      "  0%|          | 0/10 [00:00<?, ?it/s]"
     ]
    },
    {
     "name": "stdout",
     "output_type": "stream",
     "text": [
      "[0.5778491171749599, 360.0, 623]\n",
      "['20191025', '20191025']\n",
      "['20191016', '20191024']\n",
      "[0.5698412698412698, 359.0, 630]\n",
      "['20191026', '20191026']\n",
      "['20191017', '20191025']\n"
     ]
    },
    {
     "name": "stderr",
     "output_type": "stream",
     "text": [
      "100%|██████████| 10/10 [00:00<00:00, 329.87it/s]\n",
      "100%|██████████| 10/10 [00:00<00:00, 2367.92it/s]\n",
      "100%|██████████| 10/10 [00:00<00:00, 386.77it/s]\n",
      "100%|██████████| 10/10 [00:00<00:00, 2386.65it/s]"
     ]
    },
    {
     "name": "stdout",
     "output_type": "stream",
     "text": [
      "[0.6081967213114754, 371.0, 610]\n",
      "['20191027', '20191027']\n",
      "['20191018', '20191026']\n",
      "['20191028', '20191028']\n",
      "['20191019', '20191027']\n",
      "['20191029', '20191029']\n",
      "['20191020', '20191028']\n",
      "['20191030', '20191030']\n",
      "['20191021', '20191029']\n",
      "[0.6723259762308998, 396.0, 589]\n",
      "['20191031', '20191031']\n",
      "['20191022', '20191030']\n",
      "[0.6728499156829679, 399.0, 593]\n",
      "['20191101', '20191101']\n",
      "['20191023', '20191031']\n"
     ]
    },
    {
     "name": "stderr",
     "output_type": "stream",
     "text": [
      "\n",
      "100%|██████████| 10/10 [00:00<00:00, 427.47it/s]\n",
      "100%|██████████| 10/10 [00:00<00:00, 2443.95it/s]\n",
      "100%|██████████| 10/10 [00:00<00:00, 512.47it/s]\n",
      "100%|██████████| 10/10 [00:00<00:00, 2517.59it/s]\n",
      "100%|██████████| 10/10 [00:00<00:00, 420.60it/s]\n",
      "100%|██████████| 10/10 [00:00<00:00, 2385.30it/s]\n",
      "100%|██████████| 10/10 [00:00<00:00, 361.33it/s]\n",
      "100%|██████████| 10/10 [00:00<00:00, 2413.99it/s]\n",
      "100%|██████████| 10/10 [00:00<00:00, 326.30it/s]\n",
      "100%|██████████| 10/10 [00:00<00:00, 379.45it/s]\n",
      "100%|██████████| 10/10 [00:00<00:00, 2111.72it/s]\n",
      "100%|██████████| 10/10 [00:00<00:00, 3086.77it/s]\n",
      "100%|██████████| 10/10 [00:00<00:00, 379.04it/s]\n",
      "100%|██████████| 10/10 [00:00<00:00, 2177.50it/s]\n",
      "100%|██████████| 10/10 [00:00<00:00, 440.88it/s]\n",
      "100%|██████████| 10/10 [00:00<00:00, 2274.69it/s]\n",
      "100%|██████████| 10/10 [00:00<00:00, 436.83it/s]\n"
     ]
    },
    {
     "name": "stdout",
     "output_type": "stream",
     "text": [
      "[0.6381578947368421, 388.0, 608]\n",
      "['20191102', '20191102']\n",
      "['20191024', '20191101']\n",
      "[0.655, 393.0, 600]\n",
      "['20191103', '20191103']\n",
      "['20191025', '20191102']\n",
      "['20191104', '20191104']\n",
      "['20191026', '20191103']\n",
      "['20191105', '20191105']\n",
      "['20191027', '20191104']\n"
     ]
    },
    {
     "name": "stderr",
     "output_type": "stream",
     "text": [
      "100%|██████████| 10/10 [00:00<00:00, 2221.09it/s]\n",
      "100%|██████████| 10/10 [00:00<00:00, 366.86it/s]\n",
      "100%|██████████| 10/10 [00:00<00:00, 2350.28it/s]\n"
     ]
    },
    {
     "name": "stdout",
     "output_type": "stream",
     "text": [
      "[0.6751700680272109, 397.0, 588]\n",
      "['20191106', '20191106']\n",
      "['20191028', '20191105']\n",
      "[0.6895368782161235, 402.0, 583]\n",
      "['20191107', '20191107']\n",
      "['20191029', '20191106']\n"
     ]
    },
    {
     "name": "stderr",
     "output_type": "stream",
     "text": [
      "100%|██████████| 10/10 [00:00<00:00, 333.67it/s]\n",
      "100%|██████████| 10/10 [00:00<00:00, 2193.79it/s]\n",
      "100%|██████████| 10/10 [00:00<00:00, 288.47it/s]\n",
      "100%|██████████| 10/10 [00:00<00:00, 2241.74it/s]\n"
     ]
    },
    {
     "name": "stdout",
     "output_type": "stream",
     "text": [
      "[0.6895368782161235, 402.0, 583]\n",
      "['20191108', '20191108']\n",
      "['20191030', '20191107']\n",
      "[0.641914191419142, 389.00000000000006, 606]\n",
      "['20191109', '20191109']\n",
      "['20191031', '20191108']\n"
     ]
    },
    {
     "name": "stderr",
     "output_type": "stream",
     "text": [
      "100%|██████████| 10/10 [00:00<00:00, 292.09it/s]\n",
      "100%|██████████| 10/10 [00:00<00:00, 2217.33it/s]\n",
      "100%|██████████| 10/10 [00:00<00:00, 329.47it/s]\n",
      "100%|██████████| 10/10 [00:00<00:00, 2260.59it/s]\n",
      "100%|██████████| 10/10 [00:00<00:00, 373.34it/s]\n",
      "100%|██████████| 10/10 [00:00<00:00, 2347.38it/s]\n",
      "100%|██████████| 10/10 [00:00<00:00, 370.85it/s]\n",
      "100%|██████████| 10/10 [00:00<00:00, 2322.81it/s]\n",
      "100%|██████████| 10/10 [00:00<00:00, 369.32it/s]\n"
     ]
    },
    {
     "name": "stdout",
     "output_type": "stream",
     "text": [
      "['20191110', '20191110']\n",
      "['20191101', '20191109']\n",
      "[0.5942947702060222, 375.0, 631]\n",
      "['20191111', '20191111']\n",
      "['20191102', '20191110']\n",
      "['20191112', '20191112']\n",
      "['20191103', '20191111']\n",
      "['20191113', '20191113']\n",
      "['20191104', '20191112']\n"
     ]
    },
    {
     "name": "stderr",
     "output_type": "stream",
     "text": [
      "100%|██████████| 10/10 [00:00<00:00, 2365.65it/s]\n",
      "100%|██████████| 10/10 [00:00<00:00, 326.10it/s]\n",
      "100%|██████████| 10/10 [00:00<00:00, 2309.64it/s]\n"
     ]
    },
    {
     "name": "stdout",
     "output_type": "stream",
     "text": [
      "[0.6094003241491086, 376.0, 617]\n",
      "['20191114', '20191114']\n",
      "['20191105', '20191113']\n",
      "[0.6094003241491086, 376.0, 617]\n",
      "['20191115', '20191115']\n",
      "['20191106', '20191114']\n",
      "[0.5854838709677419, 363.0, 620]\n",
      "['20191116', '20191116']\n",
      "['20191107', '20191115']\n"
     ]
    },
    {
     "name": "stderr",
     "output_type": "stream",
     "text": [
      "100%|██████████| 10/10 [00:00<00:00, 409.45it/s]\n",
      "100%|██████████| 10/10 [00:00<00:00, 2930.62it/s]\n",
      "100%|██████████| 10/10 [00:00<00:00, 331.48it/s]\n",
      "100%|██████████| 10/10 [00:00<00:00, 2290.59it/s]\n",
      "100%|██████████| 10/10 [00:00<00:00, 382.59it/s]\n",
      "100%|██████████| 10/10 [00:00<00:00, 2331.08it/s]\n",
      "100%|██████████| 10/10 [00:00<00:00, 415.98it/s]\n",
      "100%|██████████| 10/10 [00:00<00:00, 2224.86it/s]\n",
      "100%|██████████| 10/10 [00:00<00:00, 432.29it/s]\n",
      "100%|██████████| 10/10 [00:00<00:00, 2192.87it/s]\n"
     ]
    },
    {
     "name": "stdout",
     "output_type": "stream",
     "text": [
      "['20191117', '20191117']\n",
      "['20191108', '20191116']\n",
      "['20191118', '20191118']\n",
      "['20191109', '20191117']\n",
      "[0.6074313408723748, 376.0, 619]\n",
      "['20191119', '20191119']\n",
      "['20191110', '20191118']\n",
      "[0.6225165562913907, 376.0, 604]\n",
      "['20191120', '20191120']\n",
      "['20191111', '20191119']\n"
     ]
    },
    {
     "name": "stderr",
     "output_type": "stream",
     "text": [
      "100%|██████████| 10/10 [00:00<00:00, 375.76it/s]\n",
      "100%|██████████| 10/10 [00:00<00:00, 2233.63it/s]\n",
      "100%|██████████| 10/10 [00:00<00:00, 341.43it/s]\n",
      "100%|██████████| 10/10 [00:00<00:00, 2100.93it/s]\n"
     ]
    },
    {
     "name": "stdout",
     "output_type": "stream",
     "text": [
      "[0.6172638436482085, 379.00000000000006, 614]\n",
      "['20191121', '20191121']\n",
      "['20191112', '20191120']\n"
     ]
    },
    {
     "name": "stderr",
     "output_type": "stream",
     "text": [
      "100%|██████████| 10/10 [00:00<00:00, 328.36it/s]\n",
      "100%|██████████| 10/10 [00:00<00:00, 2347.91it/s]\n"
     ]
    },
    {
     "name": "stdout",
     "output_type": "stream",
     "text": [
      "[0.6132231404958678, 371.0, 605]\n",
      "['20191122', '20191122']\n",
      "['20191113', '20191121']\n",
      "[0.6225165562913907, 376.0, 604]\n",
      "['20191123', '20191123']\n",
      "['20191114', '20191122']\n",
      "['20191124', '20191124']\n",
      "['20191115', '20191123']\n",
      "[0.5843949044585988, 367.0, 628]\n",
      "['20191125', '20191125']\n",
      "['20191116', '20191124']\n"
     ]
    },
    {
     "name": "stderr",
     "output_type": "stream",
     "text": [
      "100%|██████████| 10/10 [00:00<00:00, 300.56it/s]\n",
      "100%|██████████| 10/10 [00:00<00:00, 2265.84it/s]\n",
      "100%|██████████| 10/10 [00:00<00:00, 334.32it/s]\n",
      "100%|██████████| 10/10 [00:00<00:00, 2225.80it/s]\n",
      "100%|██████████| 10/10 [00:00<00:00, 387.05it/s]\n",
      "100%|██████████| 10/10 [00:00<00:00, 2216.16it/s]\n",
      "100%|██████████| 10/10 [00:00<00:00, 379.35it/s]\n",
      "100%|██████████| 10/10 [00:00<00:00, 2128.76it/s]\n",
      "100%|██████████| 10/10 [00:00<00:00, 388.55it/s]\n",
      "100%|██████████| 10/10 [00:00<00:00, 3138.98it/s]\n",
      "100%|██████████| 10/10 [00:00<00:00, 284.13it/s]\n",
      "100%|██████████| 10/10 [00:00<00:00, 2271.73it/s]\n",
      "  0%|          | 0/10 [00:00<?, ?it/s]"
     ]
    },
    {
     "name": "stdout",
     "output_type": "stream",
     "text": [
      "['20191126', '20191126']\n",
      "['20191117', '20191125']\n",
      "[0.6564102564102564, 384.0, 585]\n",
      "['20191127', '20191127']\n",
      "['20191118', '20191126']\n",
      "[0.5625, 360.0, 640]\n",
      "['20191128', '20191128']\n",
      "['20191119', '20191127']\n"
     ]
    },
    {
     "name": "stderr",
     "output_type": "stream",
     "text": [
      "100%|██████████| 10/10 [00:00<00:00, 294.41it/s]\n",
      "100%|██████████| 10/10 [00:00<00:00, 2233.98it/s]\n",
      "100%|██████████| 10/10 [00:00<00:00, 293.46it/s]\n",
      "100%|██████████| 10/10 [00:00<00:00, 2002.91it/s]\n"
     ]
    },
    {
     "name": "stdout",
     "output_type": "stream",
     "text": [
      "[0.6564102564102564, 384.0, 585]\n",
      "['20191129', '20191129']\n",
      "['20191120', '20191128']\n",
      "[0.5583203732503889, 359.00000000000006, 643]\n",
      "['20191130', '20191130']\n",
      "['20191121', '20191129']\n",
      "[0.592891760904685, 367.0, 619]\n",
      "['20191201', '20191201']\n",
      "['20191122', '20191130']\n",
      "['20191202', '20191202']\n",
      "['20191123', '20191201']\n",
      "['20191203', '20191203']\n",
      "['20191124', '20191202']\n"
     ]
    },
    {
     "name": "stderr",
     "output_type": "stream",
     "text": [
      "100%|██████████| 10/10 [00:00<00:00, 332.58it/s]\n",
      "100%|██████████| 10/10 [00:00<00:00, 377.61it/s]\n",
      "100%|██████████| 10/10 [00:00<00:00, 2278.52it/s]\n",
      "100%|██████████| 10/10 [00:00<00:00, 2144.55it/s]\n",
      "100%|██████████| 10/10 [00:00<00:00, 377.17it/s]\n",
      "100%|██████████| 10/10 [00:00<00:00, 333.02it/s]\n",
      "100%|██████████| 10/10 [00:00<00:00, 2361.26it/s]\n",
      "100%|██████████| 10/10 [00:00<00:00, 2347.12it/s]\n"
     ]
    },
    {
     "name": "stdout",
     "output_type": "stream",
     "text": [
      "[0.5550387596899224, 358.0, 645]\n",
      "['20191204', '20191204']\n",
      "['20191125', '20191203']\n",
      "[0.580952380952381, 366.00000000000006, 630]\n",
      "['20191205', '20191205']\n",
      "['20191126', '20191204']\n",
      "[0.5828025477707006, 366.0, 628]\n",
      "['20191206', '20191206']\n",
      "['20191127', '20191205']\n"
     ]
    },
    {
     "name": "stderr",
     "output_type": "stream",
     "text": [
      "100%|██████████| 10/10 [00:00<00:00, 300.71it/s]\n",
      "100%|██████████| 10/10 [00:00<00:00, 298.54it/s]\n",
      "100%|██████████| 10/10 [00:00<00:00, 2125.31it/s]\n",
      "100%|██████████| 10/10 [00:00<00:00, 2255.49it/s]\n",
      "100%|██████████| 10/10 [00:00<00:00, 293.41it/s]\n",
      "100%|██████████| 10/10 [00:00<00:00, 2293.22it/s]\n",
      "100%|██████████| 10/10 [00:00<00:00, 332.01it/s]\n",
      "100%|██████████| 10/10 [00:00<00:00, 2099.46it/s]\n",
      "100%|██████████| 10/10 [00:00<00:00, 387.01it/s]\n",
      "100%|██████████| 10/10 [00:00<00:00, 2148.72it/s]\n",
      "100%|██████████| 10/10 [00:00<00:00, 372.91it/s]\n",
      "100%|██████████| 10/10 [00:00<00:00, 2399.62it/s]\n"
     ]
    },
    {
     "name": "stdout",
     "output_type": "stream",
     "text": [
      "[0.6247933884297521, 378.0, 605]\n",
      "['20191207', '20191207']\n",
      "['20191128', '20191206']\n",
      "['20191208', '20191208']\n",
      "['20191129', '20191207']\n",
      "[0.5798722044728435, 363.0, 626]\n",
      "['20191209', '20191209']\n",
      "['20191130', '20191208']\n",
      "['20191210', '20191210']\n",
      "['20191201', '20191209']\n",
      "[0.5884244372990354, 366.0, 622]\n",
      "['20191211', '20191211']\n",
      "['20191202', '20191210']\n",
      "[0.600326264274062, 368.0, 613]\n",
      "['20191212', '20191212']\n",
      "['20191203', '20191211']\n"
     ]
    },
    {
     "name": "stderr",
     "output_type": "stream",
     "text": [
      "100%|██████████| 10/10 [00:00<00:00, 332.34it/s]\n",
      "100%|██████████| 10/10 [00:00<00:00, 2142.47it/s]\n",
      "100%|██████████| 10/10 [00:00<00:00, 294.05it/s]\n",
      "100%|██████████| 10/10 [00:00<00:00, 2259.13it/s]\n",
      "100%|██████████| 10/10 [00:00<00:00, 352.18it/s]\n",
      "100%|██████████| 10/10 [00:00<00:00, 2135.05it/s]\n",
      "100%|██████████| 10/10 [00:00<00:00, 297.92it/s]\n",
      "100%|██████████| 10/10 [00:00<00:00, 2158.56it/s]\n"
     ]
    },
    {
     "name": "stdout",
     "output_type": "stream",
     "text": [
      "[0.6247933884297521, 378.0, 605]\n",
      "['20191213', '20191213']\n",
      "['20191204', '20191212']\n",
      "[0.5743670886075949, 362.99999999999994, 632]\n",
      "['20191214', '20191214']\n",
      "['20191205', '20191213']\n",
      "[0.5613207547169812, 357.0, 636]\n",
      "['20191215', '20191215']\n",
      "['20191206', '20191214']\n",
      "[0.5691573926868044, 358.0, 629]\n",
      "['20191216', '20191216']\n",
      "['20191207', '20191215']\n",
      "['20191217', '20191217']\n",
      "['20191208', '20191216']\n",
      "['20191218', '20191218']\n",
      "['20191209', '20191217']\n",
      "[0.600326264274062, 368.0, 613]\n",
      "['20191219', '20191219']\n",
      "['20191210', '20191218']\n"
     ]
    },
    {
     "name": "stderr",
     "output_type": "stream",
     "text": [
      "100%|██████████| 10/10 [00:00<00:00, 323.80it/s]\n",
      "100%|██████████| 10/10 [00:00<00:00, 371.64it/s]\n",
      "100%|██████████| 10/10 [00:00<00:00, 2265.72it/s]\n",
      "100%|██████████| 10/10 [00:00<00:00, 2253.79it/s]\n",
      "100%|██████████| 10/10 [00:00<00:00, 360.39it/s]\n",
      "100%|██████████| 10/10 [00:00<00:00, 2454.96it/s]\n",
      "100%|██████████| 10/10 [00:00<00:00, 324.83it/s]\n",
      "100%|██████████| 10/10 [00:00<00:00, 291.41it/s]\n",
      "100%|██████████| 10/10 [00:00<00:00, 2178.75it/s]\n",
      "100%|██████████| 10/10 [00:00<00:00, 2181.13it/s]\n",
      "100%|██████████| 10/10 [00:00<00:00, 283.37it/s]\n",
      "100%|██████████| 10/10 [00:00<00:00, 2080.30it/s]\n",
      "100%|██████████| 10/10 [00:00<00:00, 295.03it/s]\n"
     ]
    },
    {
     "name": "stdout",
     "output_type": "stream",
     "text": [
      "[0.6386138613861386, 387.0, 606]\n",
      "['20191220', '20191220']\n",
      "['20191211', '20191219']\n"
     ]
    },
    {
     "name": "stderr",
     "output_type": "stream",
     "text": [
      "100%|██████████| 10/10 [00:00<00:00, 2005.60it/s]\n",
      "  0%|          | 0/10 [00:00<?, ?it/s]"
     ]
    },
    {
     "name": "stdout",
     "output_type": "stream",
     "text": [
      "[0.5776, 361.0, 625]\n",
      "['20191221', '20191221']\n",
      "['20191212', '20191220']\n",
      "['20191222', '20191222']\n",
      "['20191213', '20191221']\n",
      "['20191223', '20191223']\n",
      "['20191214', '20191222']\n"
     ]
    },
    {
     "name": "stderr",
     "output_type": "stream",
     "text": [
      "100%|██████████| 10/10 [00:00<00:00, 323.68it/s]\n",
      "100%|██████████| 10/10 [00:00<00:00, 2291.59it/s]\n",
      "100%|██████████| 10/10 [00:00<00:00, 369.53it/s]\n",
      "100%|██████████| 10/10 [00:00<00:00, 2268.79it/s]\n",
      "100%|██████████| 10/10 [00:00<00:00, 374.26it/s]\n",
      "100%|██████████| 10/10 [00:00<00:00, 2283.61it/s]\n",
      "100%|██████████| 10/10 [00:00<00:00, 328.21it/s]\n",
      "100%|██████████| 10/10 [00:00<00:00, 2114.06it/s]\n"
     ]
    },
    {
     "name": "stdout",
     "output_type": "stream",
     "text": [
      "[0.6064516129032258, 376.0, 620]\n",
      "['20191224', '20191224']\n",
      "['20191215', '20191223']\n",
      "[0.6386138613861386, 387.0, 606]\n",
      "['20191225', '20191225']\n",
      "['20191216', '20191224']\n",
      "['20191226', '20191226']\n",
      "['20191217', '20191225']\n",
      "[0.6012861736334405, 374.0, 622]\n",
      "['20191227', '20191227']\n",
      "['20191218', '20191226']\n"
     ]
    },
    {
     "name": "stderr",
     "output_type": "stream",
     "text": [
      "100%|██████████| 10/10 [00:00<00:00, 326.60it/s]\n",
      "100%|██████████| 10/10 [00:00<00:00, 2251.73it/s]\n",
      "100%|██████████| 10/10 [00:00<00:00, 330.69it/s]\n",
      "100%|██████████| 10/10 [00:00<00:00, 2307.48it/s]\n",
      "100%|██████████| 10/10 [00:00<00:00, 318.60it/s]\n",
      "100%|██████████| 10/10 [00:00<00:00, 2251.13it/s]\n",
      "100%|██████████| 10/10 [00:00<00:00, 451.95it/s]\n",
      "100%|██████████| 10/10 [00:00<00:00, 3197.12it/s]\n",
      "100%|██████████| 10/10 [00:00<00:00, 452.73it/s]\n",
      "100%|██████████| 10/10 [00:00<00:00, 3161.46it/s]\n",
      "100%|██████████| 10/10 [00:00<00:00, 420.73it/s]\n",
      "100%|██████████| 10/10 [00:00<00:00, 2259.01it/s]\n",
      "100%|██████████| 10/10 [00:00<00:00, 431.79it/s]\n",
      "100%|██████████| 10/10 [00:00<00:00, 3057.96it/s]\n"
     ]
    },
    {
     "name": "stdout",
     "output_type": "stream",
     "text": [
      "[0.592, 370.0, 625]\n",
      "['20191228', '20191228']\n",
      "['20191219', '20191227']\n",
      "['20191229', '20191229']\n",
      "['20191220', '20191228']\n",
      "[0.6371100164203612, 388.0, 609]\n",
      "['20191230', '20191230']\n",
      "['20191221', '20191229']\n",
      "['20191231', '20191231']\n",
      "['20191222', '20191230']\n",
      "[0.6371100164203612, 388.0, 609]\n",
      "['20200101', '20200101']\n",
      "['20191223', '20191231']\n",
      "[0.6022364217252396, 377.0, 626]\n",
      "['20200102', '20200102']\n",
      "['20191224', '20200101']\n"
     ]
    },
    {
     "name": "stderr",
     "output_type": "stream",
     "text": [
      "100%|██████████| 10/10 [00:00<00:00, 318.17it/s]\n",
      "100%|██████████| 10/10 [00:00<00:00, 2103.15it/s]\n",
      "100%|██████████| 10/10 [00:00<00:00, 294.20it/s]\n",
      "100%|██████████| 10/10 [00:00<00:00, 2159.79it/s]\n"
     ]
    },
    {
     "name": "stdout",
     "output_type": "stream",
     "text": [
      "[0.5952380952380952, 375.0, 630]\n",
      "['20200103', '20200103']\n",
      "['20191225', '20200102']\n",
      "[0.5926517571884984, 371.0, 626]\n",
      "['20200104', '20200104']\n",
      "['20191226', '20200103']\n",
      "['20200105', '20200105']\n",
      "['20191227', '20200104']\n"
     ]
    },
    {
     "name": "stderr",
     "output_type": "stream",
     "text": [
      "100%|██████████| 10/10 [00:00<00:00, 411.80it/s]\n",
      "100%|██████████| 10/10 [00:00<00:00, 3044.65it/s]\n",
      "100%|██████████| 10/10 [00:00<00:00, 317.70it/s]\n",
      "100%|██████████| 10/10 [00:00<00:00, 2188.29it/s]\n",
      "100%|██████████| 10/10 [00:00<00:00, 383.44it/s]\n",
      "100%|██████████| 10/10 [00:00<00:00, 2229.12it/s]\n"
     ]
    },
    {
     "name": "stdout",
     "output_type": "stream",
     "text": [
      "['20200106', '20200106']\n",
      "['20191228', '20200105']\n",
      "[0.5805946791862285, 371.00000000000006, 639]\n",
      "['20200107', '20200107']\n",
      "['20191229', '20200106']\n",
      "[0.5581395348837209, 360.0, 645]\n",
      "['20200108', '20200108']\n",
      "['20191230', '20200107']\n"
     ]
    },
    {
     "name": "stderr",
     "output_type": "stream",
     "text": [
      "100%|██████████| 10/10 [00:00<00:00, 341.34it/s]\n",
      "100%|██████████| 10/10 [00:00<00:00, 2251.73it/s]\n",
      "100%|██████████| 10/10 [00:00<00:00, 406.75it/s]\n",
      "100%|██████████| 10/10 [00:00<00:00, 2590.84it/s]\n",
      "100%|██████████| 10/10 [00:00<00:00, 296.90it/s]\n",
      "100%|██████████| 10/10 [00:00<00:00, 2075.67it/s]\n"
     ]
    },
    {
     "name": "stdout",
     "output_type": "stream",
     "text": [
      "[0.566358024691358, 367.0, 648]\n",
      "['20200109', '20200109']\n",
      "['20191231', '20200108']\n",
      "[0.5687789799072643, 368.0, 647]\n",
      "['20200110', '20200110']\n",
      "['20200101', '20200109']\n"
     ]
    },
    {
     "name": "stderr",
     "output_type": "stream",
     "text": [
      "100%|██████████| 10/10 [00:00<00:00, 304.94it/s]\n",
      "100%|██████████| 10/10 [00:00<00:00, 2146.41it/s]\n",
      "100%|██████████| 10/10 [00:00<00:00, 418.92it/s]\n",
      "100%|██████████| 10/10 [00:00<00:00, 3094.97it/s]\n",
      "100%|██████████| 10/10 [00:00<00:00, 334.67it/s]\n",
      "100%|██████████| 10/10 [00:00<00:00, 2175.69it/s]\n",
      "100%|██████████| 10/10 [00:00<00:00, 375.71it/s]\n",
      "100%|██████████| 10/10 [00:00<00:00, 2241.74it/s]\n"
     ]
    },
    {
     "name": "stdout",
     "output_type": "stream",
     "text": [
      "[0.5952380952380952, 375.0, 630]\n",
      "['20200111', '20200111']\n",
      "['20200102', '20200110']\n",
      "['20200112', '20200112']\n",
      "['20200103', '20200111']\n",
      "['20200113', '20200113']\n",
      "['20200104', '20200112']\n"
     ]
    },
    {
     "name": "stderr",
     "output_type": "stream",
     "text": [
      "100%|██████████| 10/10 [00:00<00:00, 378.39it/s]\n",
      "100%|██████████| 10/10 [00:00<00:00, 2237.08it/s]\n",
      "100%|██████████| 10/10 [00:00<00:00, 325.69it/s]\n",
      "100%|██████████| 10/10 [00:00<00:00, 2266.58it/s]\n",
      "100%|██████████| 10/10 [00:00<00:00, 295.00it/s]\n",
      "100%|██████████| 10/10 [00:00<00:00, 2187.27it/s]\n"
     ]
    },
    {
     "name": "stdout",
     "output_type": "stream",
     "text": [
      "[0.5888, 368.0, 625]\n",
      "['20200114', '20200114']\n",
      "['20200105', '20200113']\n",
      "[0.5888, 368.0, 625]\n",
      "['20200115', '20200115']\n",
      "['20200106', '20200114']\n",
      "[0.6061588330632091, 374.0, 617]\n",
      "['20200116', '20200116']\n",
      "['20200107', '20200115']\n"
     ]
    },
    {
     "name": "stderr",
     "output_type": "stream",
     "text": [
      "100%|██████████| 10/10 [00:00<00:00, 366.56it/s]\n",
      "100%|██████████| 10/10 [00:00<00:00, 2947.51it/s]\n"
     ]
    },
    {
     "name": "stdout",
     "output_type": "stream",
     "text": [
      "[0.5692068429237948, 366.0, 643]\n",
      "['20200117', '20200117']\n",
      "['20200108', '20200116']\n",
      "[0.5543478260869565, 357.0, 644]\n",
      "['20200118', '20200118']\n",
      "['20200109', '20200117']\n",
      "[0.55, 352.0, 640]\n",
      "['20200119', '20200119']\n",
      "['20200110', '20200118']\n",
      "[0.6061588330632091, 374.0, 617]\n",
      "['20200120', '20200120']\n",
      "['20200111', '20200119']\n",
      "[0.5993589743589743, 374.0, 624]\n",
      "['20200121', '20200121']\n",
      "['20200112', '20200120']\n"
     ]
    },
    {
     "name": "stderr",
     "output_type": "stream",
     "text": [
      "100%|██████████| 10/10 [00:00<00:00, 295.48it/s]\n",
      "100%|██████████| 10/10 [00:00<00:00, 2115.02it/s]\n",
      "100%|██████████| 10/10 [00:00<00:00, 367.85it/s]\n",
      "100%|██████████| 10/10 [00:00<00:00, 322.84it/s]\n",
      "100%|██████████| 10/10 [00:00<00:00, 2186.93it/s]\n",
      "100%|██████████| 10/10 [00:00<00:00, 363.68it/s]]\n",
      "\n",
      "100%|██████████| 10/10 [00:00<00:00, 2190.12it/s]\n",
      "100%|██████████| 10/10 [00:00<00:00, 324.81it/s]\n",
      "100%|██████████| 10/10 [00:00<00:00, 2095.58it/s]\n",
      "100%|██████████| 10/10 [00:00<00:00, 288.57it/s]\n",
      "100%|██████████| 10/10 [00:00<00:00, 284.59it/s]\n",
      "100%|██████████| 10/10 [00:00<00:00, 1976.77it/s]\n",
      "100%|██████████| 10/10 [00:00<00:00, 2177.39it/s]\n"
     ]
    },
    {
     "name": "stdout",
     "output_type": "stream",
     "text": [
      "['20200122', '20200122']\n",
      "['20200113', '20200121']\n",
      "['20200123', '20200123']\n",
      "['20200114', '20200122']\n",
      "[0.5545023696682464, 350.99999999999994, 633]\n",
      "['20200124', '20200124']\n",
      "['20200115', '20200123']\n",
      "[0.5383411580594679, 344.0, 639]\n",
      "['20200125', '20200125']\n",
      "['20200116', '20200124']\n",
      "[0.5471406491499228, 354.00000000000006, 647]\n",
      "['20200126', '20200126']\n",
      "['20200117', '20200125']\n",
      "[0.5383411580594679, 344.0, 639]\n",
      "['20200127', '20200127']\n",
      "['20200118', '20200126']\n",
      "['20200128', '20200128']\n",
      "['20200119', '20200127']\n",
      "['20200129', '20200129']\n",
      "['20200120', '20200128']\n",
      "[0.518348623853211, 339.0, 654]\n",
      "['20200130', '20200130']\n",
      "['20200121', '20200129']\n"
     ]
    },
    {
     "name": "stderr",
     "output_type": "stream",
     "text": [
      "100%|██████████| 10/10 [00:00<00:00, 284.64it/s]\n",
      "100%|██████████| 10/10 [00:00<00:00, 2134.18it/s]\n",
      "100%|██████████| 10/10 [00:00<00:00, 318.42it/s]\n",
      "100%|██████████| 10/10 [00:00<00:00, 358.53it/s]\n",
      "100%|██████████| 10/10 [00:00<00:00, 2143.78it/s]\n",
      "100%|██████████| 10/10 [00:00<00:00, 2318.58it/s]\n",
      "100%|██████████| 10/10 [00:00<00:00, 368.81it/s]\n",
      "100%|██████████| 10/10 [00:00<00:00, 2275.31it/s]\n",
      "100%|██████████| 10/10 [00:00<00:00, 314.65it/s]\n",
      "100%|██████████| 10/10 [00:00<00:00, 281.48it/s]\n",
      "100%|██████████| 10/10 [00:00<00:00, 2045.80it/s]\n",
      "100%|██████████| 10/10 [00:00<00:00, 279.61it/s]\n",
      "100%|██████████| 10/10 [00:00<00:00, 2281.00it/s]\n",
      "100%|██████████| 10/10 [00:00<00:00, 2094.22it/s]\n",
      "100%|██████████| 10/10 [00:00<00:00, 283.10it/s]\n",
      "100%|██████████| 10/10 [00:00<00:00, 2151.92it/s]\n",
      "100%|██████████| 10/10 [00:00<00:00, 315.39it/s]\n",
      "100%|██████████| 10/10 [00:00<00:00, 2085.16it/s]\n",
      "  0%|          | 0/10 [00:00<?, ?it/s]"
     ]
    },
    {
     "name": "stdout",
     "output_type": "stream",
     "text": [
      "[0.5187406296851574, 346.0, 667]\n",
      "['20200131', '20200131']\n",
      "['20200122', '20200130']\n",
      "[0.536923076923077, 349.0, 650]\n",
      "['20200201', '20200201']\n",
      "['20200123', '20200131']\n",
      "['20200202', '20200202']\n",
      "['20200124', '20200201']\n"
     ]
    },
    {
     "name": "stderr",
     "output_type": "stream",
     "text": [
      "100%|██████████| 10/10 [00:00<00:00, 373.04it/s]\n",
      "100%|██████████| 10/10 [00:00<00:00, 2199.77it/s]\n",
      "100%|██████████| 10/10 [00:00<00:00, 376.16it/s]\n",
      "100%|██████████| 10/10 [00:00<00:00, 2194.82it/s]\n",
      "100%|██████████| 10/10 [00:00<00:00, 332.86it/s]\n",
      "100%|██████████| 10/10 [00:00<00:00, 2303.42it/s]\n"
     ]
    },
    {
     "name": "stdout",
     "output_type": "stream",
     "text": [
      "['20200203', '20200203']\n",
      "['20200125', '20200202']\n",
      "[0.5859872611464968, 368.0, 628]\n",
      "['20200204', '20200204']\n",
      "['20200126', '20200203']\n",
      "[0.5859872611464968, 368.0, 628]\n",
      "['20200205', '20200205']\n",
      "['20200127', '20200204']\n"
     ]
    },
    {
     "name": "stderr",
     "output_type": "stream",
     "text": [
      "100%|██████████| 10/10 [00:00<00:00, 371.57it/s]\n",
      "100%|██████████| 10/10 [00:00<00:00, 2973.63it/s]\n"
     ]
    },
    {
     "name": "stdout",
     "output_type": "stream",
     "text": [
      "[0.5390505359877489, 352.0, 653]\n",
      "['20200206', '20200206']\n",
      "['20200128', '20200205']\n"
     ]
    },
    {
     "name": "stderr",
     "output_type": "stream",
     "text": [
      "100%|██████████| 10/10 [00:00<00:00, 297.08it/s]\n",
      "100%|██████████| 10/10 [00:00<00:00, 2144.00it/s]\n",
      "100%|██████████| 10/10 [00:00<00:00, 293.65it/s]\n",
      "100%|██████████| 10/10 [00:00<00:00, 2260.96it/s]\n",
      "100%|██████████| 10/10 [00:00<00:00, 407.00it/s]\n",
      "100%|██████████| 10/10 [00:00<00:00, 3029.25it/s]\n",
      "  0%|          | 0/10 [00:00<?, ?it/s]"
     ]
    },
    {
     "name": "stdout",
     "output_type": "stream",
     "text": [
      "[0.5472868217054263, 352.99999999999994, 645]\n",
      "['20200207', '20200207']\n",
      "['20200129', '20200206']\n",
      "[0.5312024353120244, 349.0, 657]\n",
      "['20200208', '20200208']\n",
      "['20200130', '20200207']\n",
      "[0.5104477611940299, 342.00000000000006, 670]\n",
      "['20200209', '20200209']\n",
      "['20200131', '20200208']\n",
      "['20200210', '20200210']\n",
      "['20200201', '20200209']\n"
     ]
    },
    {
     "name": "stderr",
     "output_type": "stream",
     "text": [
      "100%|██████████| 10/10 [00:00<00:00, 375.71it/s]\n",
      "100%|██████████| 10/10 [00:00<00:00, 2157.12it/s]\n",
      "100%|██████████| 10/10 [00:00<00:00, 368.34it/s]\n",
      "100%|██████████| 10/10 [00:00<00:00, 2258.40it/s]\n",
      "100%|██████████| 10/10 [00:00<00:00, 371.01it/s]\n",
      "100%|██████████| 10/10 [00:00<00:00, 292.50it/s]\n",
      "100%|██████████| 10/10 [00:00<00:00, 3015.75it/s]\n",
      "100%|██████████| 10/10 [00:00<00:00, 2087.03it/s]\n"
     ]
    },
    {
     "name": "stdout",
     "output_type": "stream",
     "text": [
      "[0.5472868217054263, 352.99999999999994, 645]\n",
      "['20200211', '20200211']\n",
      "['20200202', '20200210']\n",
      "['20200212', '20200212']\n",
      "['20200203', '20200211']\n",
      "[0.5351681957186545, 350.00000000000006, 654]\n",
      "['20200213', '20200213']\n",
      "['20200204', '20200212']\n",
      "[0.5990338164251208, 372.0, 621]\n",
      "['20200214', '20200214']\n",
      "['20200205', '20200213']\n"
     ]
    },
    {
     "name": "stderr",
     "output_type": "stream",
     "text": [
      "100%|██████████| 10/10 [00:00<00:00, 289.45it/s]\n",
      "100%|██████████| 10/10 [00:00<00:00, 2033.40it/s]\n",
      "100%|██████████| 10/10 [00:00<00:00, 275.38it/s]\n",
      "100%|██████████| 10/10 [00:00<00:00, 2194.48it/s]\n",
      "100%|██████████| 10/10 [00:00<00:00, 322.86it/s]\n",
      "100%|██████████| 10/10 [00:00<00:00, 2280.50it/s]\n",
      "100%|██████████| 10/10 [00:00<00:00, 369.40it/s]\n",
      "100%|██████████| 10/10 [00:00<00:00, 2417.05it/s]\n",
      "100%|██████████| 10/10 [00:00<00:00, 368.36it/s]\n",
      "100%|██████████| 10/10 [00:00<00:00, 2176.26it/s]\n"
     ]
    },
    {
     "name": "stdout",
     "output_type": "stream",
     "text": [
      "[0.5297709923664122, 347.0, 655]\n",
      "['20200215', '20200215']\n",
      "['20200206', '20200214']\n",
      "['20200216', '20200216']\n",
      "['20200207', '20200215']\n",
      "[0.5667189952904239, 361.00000000000006, 637]\n",
      "['20200217', '20200217']\n",
      "['20200208', '20200216']\n",
      "['20200218', '20200218']\n",
      "['20200209', '20200217']\n"
     ]
    },
    {
     "name": "stderr",
     "output_type": "stream",
     "text": [
      "100%|██████████| 10/10 [00:00<00:00, 330.24it/s]\n",
      "100%|██████████| 10/10 [00:00<00:00, 2380.02it/s]\n",
      "100%|██████████| 10/10 [00:00<00:00, 302.06it/s]\n",
      "100%|██████████| 10/10 [00:00<00:00, 2128.55it/s]\n"
     ]
    },
    {
     "name": "stdout",
     "output_type": "stream",
     "text": [
      "[0.5990338164251208, 372.0, 621]\n",
      "['20200219', '20200219']\n",
      "['20200210', '20200218']\n"
     ]
    },
    {
     "name": "stderr",
     "output_type": "stream",
     "text": [
      "100%|██████████| 10/10 [00:00<00:00, 297.92it/s]\n",
      "100%|██████████| 10/10 [00:00<00:00, 2181.58it/s]\n",
      "100%|██████████| 10/10 [00:00<00:00, 322.39it/s]\n",
      "100%|██████████| 10/10 [00:00<00:00, 2167.04it/s]\n",
      "100%|██████████| 10/10 [00:00<00:00, 360.47it/s]\n",
      "100%|██████████| 10/10 [00:00<00:00, 2333.28it/s]\n",
      "100%|██████████| 10/10 [00:00<00:00, 419.39it/s]\n",
      "  0%|          | 0/10 [00:00<?, ?it/s]"
     ]
    },
    {
     "name": "stdout",
     "output_type": "stream",
     "text": [
      "[0.6303630363036303, 382.0, 606]\n",
      "['20200220', '20200220']\n",
      "['20200211', '20200219']\n",
      "[0.5678233438485805, 360.0, 634]\n",
      "['20200221', '20200221']\n",
      "['20200212', '20200220']\n",
      "[0.6112903225806452, 379.0, 620]\n",
      "['20200222', '20200222']\n",
      "['20200213', '20200221']\n",
      "['20200223', '20200223']\n",
      "['20200214', '20200222']\n",
      "['20200224', '20200224']\n",
      "['20200215', '20200223']\n"
     ]
    },
    {
     "name": "stderr",
     "output_type": "stream",
     "text": [
      "100%|██████████| 10/10 [00:00<00:00, 2276.54it/s]\n",
      "100%|██████████| 10/10 [00:00<00:00, 422.60it/s]\n",
      "100%|██████████| 10/10 [00:00<00:00, 2458.27it/s]\n",
      "100%|██████████| 10/10 [00:00<00:00, 366.75it/s]\n",
      "100%|██████████| 10/10 [00:00<00:00, 2092.97it/s]\n",
      "100%|██████████| 10/10 [00:00<00:00, 314.98it/s]\n",
      "100%|██████████| 10/10 [00:00<00:00, 2254.52it/s]\n"
     ]
    },
    {
     "name": "stdout",
     "output_type": "stream",
     "text": [
      "[0.5834658187599364, 367.0, 629]\n",
      "['20200225', '20200225']\n",
      "['20200216', '20200224']\n",
      "['20200226', '20200226']\n",
      "['20200217', '20200225']\n",
      "[0.6077170418006431, 378.0, 622]\n",
      "['20200227', '20200227']\n",
      "['20200218', '20200226']\n",
      "[0.6303630363036303, 382.0, 606]\n",
      "['20200228', '20200228']\n",
      "['20200219', '20200227']\n"
     ]
    },
    {
     "name": "stderr",
     "output_type": "stream",
     "text": [
      "100%|██████████| 10/10 [00:00<00:00, 292.85it/s]\n",
      "100%|██████████| 10/10 [00:00<00:00, 2107.16it/s]\n",
      "100%|██████████| 10/10 [00:00<00:00, 401.63it/s]\n",
      "100%|██████████| 10/10 [00:00<00:00, 3070.73it/s]\n"
     ]
    },
    {
     "name": "stdout",
     "output_type": "stream",
     "text": [
      "[0.5581395348837209, 360.0, 645]\n",
      "['20200229', '20200229']\n",
      "['20200220', '20200228']\n",
      "['20200301', '20200301']\n",
      "['20200221', '20200229']\n",
      "['20200302', '20200302']\n",
      "['20200222', '20200301']\n"
     ]
    },
    {
     "name": "stderr",
     "output_type": "stream",
     "text": [
      "100%|██████████| 10/10 [00:00<00:00, 370.55it/s]\n",
      "100%|██████████| 10/10 [00:00<00:00, 2374.09it/s]\n",
      "100%|██████████| 10/10 [00:00<00:00, 436.92it/s]\n",
      "100%|██████████| 10/10 [00:00<00:00, 2432.89it/s]\n",
      "100%|██████████| 10/10 [00:00<00:00, 375.90it/s]\n",
      "100%|██████████| 10/10 [00:00<00:00, 2405.54it/s]\n",
      "100%|██████████| 10/10 [00:00<00:00, 328.14it/s]\n",
      "100%|██████████| 10/10 [00:00<00:00, 2291.22it/s]\n"
     ]
    },
    {
     "name": "stdout",
     "output_type": "stream",
     "text": [
      "[0.6096774193548387, 377.99999999999994, 620]\n",
      "['20200303', '20200303']\n",
      "['20200223', '20200302']\n",
      "[0.6096774193548387, 377.99999999999994, 620]\n",
      "['20200304', '20200304']\n",
      "['20200224', '20200303']\n",
      "[0.6022187004754358, 380.0, 631]\n",
      "['20200305', '20200305']\n",
      "['20200225', '20200304']\n",
      "[0.5815047021943573, 371.0, 638]\n",
      "['20200306', '20200306']\n",
      "['20200226', '20200305']\n"
     ]
    },
    {
     "name": "stderr",
     "output_type": "stream",
     "text": [
      "100%|██████████| 10/10 [00:00<00:00, 232.75it/s]\n",
      "100%|██████████| 10/10 [00:00<00:00, 2074.74it/s]\n",
      "100%|██████████| 10/10 [00:00<00:00, 284.95it/s]\n",
      "100%|██████████| 10/10 [00:00<00:00, 2226.75it/s]\n",
      "100%|██████████| 10/10 [00:00<00:00, 287.82it/s]\n",
      "100%|██████████| 10/10 [00:00<00:00, 2072.90it/s]\n"
     ]
    },
    {
     "name": "stdout",
     "output_type": "stream",
     "text": [
      "[0.5529953917050692, 360.00000000000006, 651]\n",
      "['20200307', '20200307']\n",
      "['20200227', '20200306']\n",
      "['20200308', '20200308']\n",
      "['20200228', '20200307']\n",
      "[0.554531490015361, 361.0, 651]\n",
      "['20200309', '20200309']\n",
      "['20200229', '20200308']\n",
      "['20200310', '20200310']\n",
      "['20200301', '20200309']\n"
     ]
    },
    {
     "name": "stderr",
     "output_type": "stream",
     "text": [
      "100%|██████████| 10/10 [00:00<00:00, 331.67it/s]\n",
      "100%|██████████| 10/10 [00:00<00:00, 2390.33it/s]\n",
      "100%|██████████| 10/10 [00:00<00:00, 375.83it/s]\n",
      "100%|██████████| 10/10 [00:00<00:00, 2432.19it/s]\n",
      "100%|██████████| 10/10 [00:00<00:00, 364.69it/s]\n",
      "100%|██████████| 10/10 [00:00<00:00, 2071.16it/s]\n",
      "100%|██████████| 10/10 [00:00<00:00, 356.86it/s]\n",
      "100%|██████████| 10/10 [00:00<00:00, 2235.05it/s]\n",
      "100%|██████████| 10/10 [00:00<00:00, 319.00it/s]\n",
      "100%|██████████| 10/10 [00:00<00:00, 389.61it/s]\n",
      "100%|██████████| 10/10 [00:00<00:00, 2237.32it/s]\n",
      "100%|██████████| 10/10 [00:00<00:00, 2303.55it/s]\n",
      "100%|██████████| 10/10 [00:00<00:00, 306.66it/s]\n",
      "100%|██████████| 10/10 [00:00<00:00, 2076.08it/s]\n"
     ]
    },
    {
     "name": "stdout",
     "output_type": "stream",
     "text": [
      "['20200311', '20200311']\n",
      "['20200302', '20200310']\n",
      "[0.5591397849462365, 363.99999999999994, 651]\n",
      "['20200312', '20200312']\n",
      "['20200303', '20200311']\n",
      "[0.5815047021943573, 371.0, 638]\n",
      "['20200313', '20200313']\n",
      "['20200304', '20200312']\n",
      "[0.684931506849315, 400.0, 584]\n",
      "['20200314', '20200314']\n",
      "['20200305', '20200313']\n",
      "['20200315', '20200315']\n",
      "['20200306', '20200314']\n",
      "[0.6483333333333333, 389.0, 600]\n",
      "['20200316', '20200316']\n",
      "['20200307', '20200315']\n",
      "[0.5729984301412873, 365.0, 637]\n",
      "['20200317', '20200317']\n",
      "['20200308', '20200316']\n",
      "['20200318', '20200318']\n",
      "['20200309', '20200317']\n",
      "[0.6389351081530782, 384.0, 601]\n",
      "['20200319', '20200319']\n",
      "['20200310', '20200318']\n"
     ]
    },
    {
     "name": "stderr",
     "output_type": "stream",
     "text": [
      "100%|██████████| 10/10 [00:00<00:00, 357.84it/s]\n",
      "100%|██████████| 10/10 [00:00<00:00, 2367.52it/s]\n",
      "100%|██████████| 10/10 [00:00<00:00, 415.79it/s]\n",
      "100%|██████████| 10/10 [00:00<00:00, 2415.24it/s]\n",
      "100%|██████████| 10/10 [00:00<00:00, 408.89it/s]\n",
      "100%|██████████| 10/10 [00:00<00:00, 2281.37it/s]\n",
      "100%|██████████| 10/10 [00:00<00:00, 343.99it/s]\n",
      "100%|██████████| 10/10 [00:00<00:00, 299.85it/s]\n",
      "100%|██████████| 10/10 [00:00<00:00, 2332.37it/s]\n",
      "100%|██████████| 10/10 [00:00<00:00, 299.60it/s]\n",
      "100%|██████████| 10/10 [00:00<00:00, 2201.16it/s]\n",
      "100%|██████████| 10/10 [00:00<00:00, 2301.53it/s]\n",
      "100%|██████████| 10/10 [00:00<00:00, 270.42it/s]\n",
      "100%|██████████| 10/10 [00:00<00:00, 2135.38it/s]\n",
      "100%|██████████| 10/10 [00:00<00:00, 388.29it/s]\n",
      "100%|██████████| 10/10 [00:00<00:00, 3006.89it/s]\n"
     ]
    },
    {
     "name": "stdout",
     "output_type": "stream",
     "text": [
      "[0.684931506849315, 400.0, 584]\n",
      "['20200320', '20200320']\n",
      "['20200311', '20200319']\n",
      "[0.6521008403361345, 388.0, 595]\n",
      "['20200321', '20200321']\n",
      "['20200312', '20200320']\n"
     ]
    },
    {
     "name": "stderr",
     "output_type": "stream",
     "text": [
      "100%|██████████| 10/10 [00:00<00:00, 361.74it/s]\n",
      "100%|██████████| 10/10 [00:00<00:00, 2195.05it/s]\n",
      "100%|██████████| 10/10 [00:00<00:00, 342.35it/s]\n",
      "100%|██████████| 10/10 [00:00<00:00, 2302.54it/s]\n"
     ]
    },
    {
     "name": "stdout",
     "output_type": "stream",
     "text": [
      "['20200322', '20200322']\n",
      "['20200313', '20200321']\n",
      "['20200323', '20200323']\n",
      "['20200314', '20200322']\n",
      "[0.654300168634064, 388.0, 593]\n",
      "['20200324', '20200324']\n",
      "['20200315', '20200323']\n",
      "[0.6577181208053692, 392.00000000000006, 596]\n",
      "['20200325', '20200325']\n",
      "['20200316', '20200324']\n"
     ]
    },
    {
     "name": "stderr",
     "output_type": "stream",
     "text": [
      "100%|██████████| 10/10 [00:00<00:00, 319.17it/s]\n",
      "100%|██████████| 10/10 [00:00<00:00, 2265.23it/s]\n",
      "100%|██████████| 10/10 [00:00<00:00, 282.21it/s]\n",
      "100%|██████████| 10/10 [00:00<00:00, 2165.81it/s]\n",
      "100%|██████████| 10/10 [00:00<00:00, 282.12it/s]\n",
      "100%|██████████| 10/10 [00:00<00:00, 2254.64it/s]\n",
      "100%|██████████| 10/10 [00:00<00:00, 355.48it/s]\n",
      "100%|██████████| 10/10 [00:00<00:00, 2910.89it/s]\n"
     ]
    },
    {
     "name": "stdout",
     "output_type": "stream",
     "text": [
      "[0.654300168634064, 388.0, 593]\n",
      "['20200326', '20200326']\n",
      "['20200317', '20200325']\n",
      "[0.6757679180887372, 395.99999999999994, 586]\n",
      "['20200327', '20200327']\n",
      "['20200318', '20200326']\n",
      "[0.6396694214876033, 387.0, 605]\n",
      "['20200328', '20200328']\n",
      "['20200319', '20200327']\n",
      "['20200329', '20200329']\n",
      "['20200320', '20200328']\n",
      "[0.6495016611295681, 391.0, 602]\n",
      "['20200330', '20200330']\n",
      "['20200321', '20200329']\n",
      "[0.6803418803418804, 398.0, 585]\n",
      "['20200331', '20200331']\n",
      "['20200322', '20200330']\n"
     ]
    },
    {
     "name": "stderr",
     "output_type": "stream",
     "text": [
      "100%|██████████| 10/10 [00:00<00:00, 320.57it/s]\n",
      "100%|██████████| 10/10 [00:00<00:00, 2134.61it/s]\n",
      "100%|██████████| 10/10 [00:00<00:00, 354.97it/s]\n",
      "100%|██████████| 10/10 [00:00<00:00, 354.88it/s]\n",
      "100%|██████████| 10/10 [00:00<00:00, 317.74it/s]\n",
      "100%|██████████| 10/10 [00:00<00:00, 2105.79it/s]\n",
      "100%|██████████| 10/10 [00:00<00:00, 2264.01it/s]\n",
      "100%|██████████| 10/10 [00:00<00:00, 2098.20it/s]\n"
     ]
    },
    {
     "name": "stdout",
     "output_type": "stream",
     "text": [
      "['20200401', '20200401']\n",
      "['20200323', '20200331']\n",
      "[0.6803418803418804, 398.0, 585]\n",
      "['20200402', '20200402']\n",
      "['20200324', '20200401']\n"
     ]
    },
    {
     "name": "stderr",
     "output_type": "stream",
     "text": [
      "100%|██████████| 10/10 [00:00<00:00, 283.05it/s]\n",
      "100%|██████████| 10/10 [00:00<00:00, 2068.40it/s]\n",
      "100%|██████████| 10/10 [00:00<00:00, 324.56it/s]\n",
      "100%|██████████| 10/10 [00:00<00:00, 2238.75it/s]\n"
     ]
    },
    {
     "name": "stdout",
     "output_type": "stream",
     "text": [
      "['20200403', '20200403']\n",
      "['20200325', '20200402']\n"
     ]
    },
    {
     "name": "stderr",
     "output_type": "stream",
     "text": [
      "100%|██████████| 10/10 [00:00<00:00, 433.45it/s]\n",
      "100%|██████████| 10/10 [00:00<00:00, 3015.75it/s]\n"
     ]
    },
    {
     "name": "stdout",
     "output_type": "stream",
     "text": [
      "[0.6582491582491582, 390.99999999999994, 594]\n",
      "['20200404', '20200404']\n",
      "['20200326', '20200403']\n",
      "['20200405', '20200405']\n",
      "['20200327', '20200404']\n",
      "['20200406', '20200406']\n",
      "['20200328', '20200405']\n"
     ]
    },
    {
     "name": "stderr",
     "output_type": "stream",
     "text": [
      "100%|██████████| 10/10 [00:00<00:00, 371.10it/s]\n",
      "100%|██████████| 10/10 [00:00<00:00, 2339.92it/s]\n",
      "100%|██████████| 10/10 [00:00<00:00, 434.44it/s]\n",
      "100%|██████████| 10/10 [00:00<00:00, 2337.83it/s]\n",
      "100%|██████████| 10/10 [00:00<00:00, 470.70it/s]\n",
      "100%|██████████| 10/10 [00:00<00:00, 2213.59it/s]\n",
      "100%|██████████| 10/10 [00:00<00:00, 433.05it/s]\n",
      "100%|██████████| 10/10 [00:00<00:00, 2361.92it/s]\n",
      "100%|██████████| 10/10 [00:00<00:00, 384.81it/s]\n",
      "100%|██████████| 10/10 [00:00<00:00, 363.93it/s]\n",
      "100%|██████████| 10/10 [00:00<00:00, 3213.78it/s]\n",
      "100%|██████████| 10/10 [00:00<00:00, 2303.93it/s]\n"
     ]
    },
    {
     "name": "stdout",
     "output_type": "stream",
     "text": [
      "['20200407', '20200407']\n",
      "['20200329', '20200406']\n",
      "[0.6972318339100346, 403.0, 578]\n",
      "['20200408', '20200408']\n",
      "['20200330', '20200407']\n",
      "[0.6757679180887372, 395.99999999999994, 586]\n",
      "['20200409', '20200409']\n",
      "['20200331', '20200408']\n",
      "[0.7300177619893428, 411.0, 563]\n",
      "['20200410', '20200410']\n",
      "['20200401', '20200409']\n"
     ]
    },
    {
     "name": "stderr",
     "output_type": "stream",
     "text": [
      "100%|██████████| 10/10 [00:00<00:00, 423.17it/s]\n",
      "100%|██████████| 10/10 [00:00<00:00, 2365.52it/s]\n",
      "100%|██████████| 10/10 [00:00<00:00, 510.30it/s]\n",
      "100%|██████████| 10/10 [00:00<00:00, 2468.98it/s]\n",
      "100%|██████████| 10/10 [00:00<00:00, 496.10it/s]\n",
      "100%|██████████| 10/10 [00:00<00:00, 2424.59it/s]\n",
      "100%|██████████| 10/10 [00:00<00:00, 489.48it/s]\n",
      "100%|██████████| 10/10 [00:00<00:00, 2401.41it/s]\n",
      "100%|██████████| 10/10 [00:00<00:00, 501.09it/s]\n",
      "100%|██████████| 10/10 [00:00<00:00, 2439.68it/s]\n"
     ]
    },
    {
     "name": "stdout",
     "output_type": "stream",
     "text": [
      "[0.6994818652849741, 405.0, 579]\n",
      "['20200411', '20200411']\n",
      "['20200402', '20200410']\n",
      "['20200412', '20200412']\n",
      "['20200403', '20200411']\n",
      "['20200413', '20200413']\n",
      "['20200404', '20200412']\n",
      "['20200414', '20200414']\n",
      "['20200405', '20200413']\n",
      "['20200415', '20200415']\n",
      "['20200406', '20200414']\n"
     ]
    },
    {
     "name": "stderr",
     "output_type": "stream",
     "text": [
      "100%|██████████| 10/10 [00:00<00:00, 430.75it/s]\n",
      "100%|██████████| 10/10 [00:00<00:00, 2368.19it/s]\n",
      "100%|██████████| 10/10 [00:00<00:00, 371.37it/s]\n",
      "100%|██████████| 10/10 [00:00<00:00, 2365.25it/s]\n",
      "100%|██████████| 10/10 [00:00<00:00, 371.15it/s]\n",
      "100%|██████████| 10/10 [00:00<00:00, 2380.02it/s]\n",
      "100%|██████████| 10/10 [00:00<00:00, 436.59it/s]\n",
      "100%|██████████| 10/10 [00:00<00:00, 2385.97it/s]\n",
      "  0%|          | 0/10 [00:00<?, ?it/s]"
     ]
    },
    {
     "name": "stdout",
     "output_type": "stream",
     "text": [
      "[0.7300177619893428, 411.0, 563]\n",
      "['20200416', '20200416']\n",
      "['20200407', '20200415']\n",
      "[0.6605351170568562, 395.0, 598]\n",
      "['20200417', '20200417']\n",
      "['20200408', '20200416']\n",
      "[0.7253521126760564, 412.0, 568]\n",
      "['20200418', '20200418']\n",
      "['20200409', '20200417']\n",
      "[0.7253521126760564, 412.0, 568]\n",
      "['20200419', '20200419']\n",
      "['20200410', '20200418']\n"
     ]
    },
    {
     "name": "stderr",
     "output_type": "stream",
     "text": [
      "100%|██████████| 10/10 [00:00<00:00, 504.11it/s]\n",
      "100%|██████████| 10/10 [00:00<00:00, 2494.53it/s]\n",
      "100%|██████████| 10/10 [00:00<00:00, 412.39it/s]\n",
      "100%|██████████| 10/10 [00:00<00:00, 354.81it/s]\n",
      "100%|██████████| 10/10 [00:00<00:00, 2355.16it/s]\n",
      "100%|██████████| 10/10 [00:00<00:00, 2343.97it/s]\n",
      "100%|██████████| 10/10 [00:00<00:00, 313.45it/s]\n",
      "100%|██████████| 10/10 [00:00<00:00, 2261.32it/s]\n"
     ]
    },
    {
     "name": "stdout",
     "output_type": "stream",
     "text": [
      "['20200420', '20200420']\n",
      "['20200411', '20200419']\n",
      "[0.673469387755102, 396.0, 588]\n",
      "['20200421', '20200421']\n",
      "['20200412', '20200420']\n",
      "['20200422', '20200422']\n",
      "['20200413', '20200421']\n",
      "[0.6621621621621622, 392.0, 592]\n",
      "['20200423', '20200423']\n",
      "['20200414', '20200422']\n",
      "[0.6700507614213198, 396.0, 591]\n",
      "['20200424', '20200424']\n",
      "['20200415', '20200423']\n",
      "[0.6621621621621622, 392.0, 592]\n",
      "['20200425', '20200425']\n",
      "['20200416', '20200424']\n",
      "[0.6729131175468483, 395.0, 587]\n",
      "['20200426', '20200426']\n",
      "['20200417', '20200425']\n",
      "[0.6307947019867549, 380.99999999999994, 604]\n",
      "['20200427', '20200427']\n",
      "['20200418', '20200426']\n",
      "['20200428', '20200428']\n",
      "['20200419', '20200427']\n"
     ]
    },
    {
     "name": "stderr",
     "output_type": "stream",
     "text": [
      "100%|██████████| 10/10 [00:00<00:00, 294.49it/s]\n",
      "100%|██████████| 10/10 [00:00<00:00, 2155.01it/s]\n",
      "100%|██████████| 10/10 [00:00<00:00, 294.60it/s]\n",
      "100%|██████████| 10/10 [00:00<00:00, 2249.80it/s]\n",
      "100%|██████████| 10/10 [00:00<00:00, 321.60it/s]\n",
      "100%|██████████| 10/10 [00:00<00:00, 2110.87it/s]\n",
      "100%|██████████| 10/10 [00:00<00:00, 334.54it/s]\n",
      "100%|██████████| 10/10 [00:00<00:00, 369.99it/s]\n",
      "100%|██████████| 10/10 [00:00<00:00, 2212.65it/s]\n",
      "100%|██████████| 10/10 [00:00<00:00, 2233.75it/s]\n",
      "100%|██████████| 10/10 [00:00<00:00, 325.36it/s]\n",
      "100%|██████████| 10/10 [00:00<00:00, 2212.30it/s]\n",
      "100%|██████████| 10/10 [00:00<00:00, 296.04it/s]\n",
      "100%|██████████| 10/10 [00:00<00:00, 2213.59it/s]\n",
      "100%|██████████| 10/10 [00:00<00:00, 302.23it/s]\n",
      "100%|██████████| 10/10 [00:00<00:00, 2300.27it/s]\n"
     ]
    },
    {
     "name": "stdout",
     "output_type": "stream",
     "text": [
      "['20200429', '20200429']\n",
      "['20200420', '20200428']\n",
      "[0.6138933764135702, 379.99999999999994, 619]\n",
      "['20200430', '20200430']\n",
      "['20200421', '20200429']\n",
      "[0.6729131175468483, 395.0, 587]\n",
      "['20200501', '20200501']\n",
      "['20200422', '20200430']\n",
      "['20200502', '20200502']\n",
      "['20200423', '20200501']\n",
      "[0.6926994906621392, 408.0, 589]\n",
      "['20200503', '20200503']\n",
      "['20200424', '20200502']\n",
      "['20200504', '20200504']\n",
      "['20200425', '20200503']\n",
      "['20200505', '20200505']\n",
      "['20200426', '20200504']\n"
     ]
    },
    {
     "name": "stderr",
     "output_type": "stream",
     "text": [
      "100%|██████████| 10/10 [00:00<00:00, 349.61it/s]\n",
      "100%|██████████| 10/10 [00:00<00:00, 2286.60it/s]\n",
      "100%|██████████| 10/10 [00:00<00:00, 392.16it/s]\n",
      "100%|██████████| 10/10 [00:00<00:00, 452.14it/s]\n",
      "100%|██████████| 10/10 [00:00<00:00, 2367.52it/s]\n",
      "100%|██████████| 10/10 [00:00<00:00, 2499.14it/s]\n",
      "100%|██████████| 10/10 [00:00<00:00, 409.16it/s]\n",
      "100%|██████████| 10/10 [00:00<00:00, 389.29it/s]\n",
      "100%|██████████| 10/10 [00:00<00:00, 2454.82it/s]\n",
      "100%|██████████| 10/10 [00:00<00:00, 2397.43it/s]\n",
      "100%|██████████| 10/10 [00:00<00:00, 339.96it/s]\n",
      "100%|██████████| 10/10 [00:00<00:00, 2337.05it/s]\n"
     ]
    },
    {
     "name": "stdout",
     "output_type": "stream",
     "text": [
      "[0.6841216216216216, 405.0, 592]\n",
      "['20200506', '20200506']\n",
      "['20200427', '20200505']\n",
      "[0.6193548387096774, 384.0, 620]\n",
      "['20200507', '20200507']\n",
      "['20200428', '20200506']\n",
      "[0.6746166950596252, 396.0, 587]\n",
      "['20200508', '20200508']\n",
      "['20200429', '20200507']\n",
      "[0.7354497354497355, 417.0, 567]\n",
      "['20200509', '20200509']\n",
      "['20200430', '20200508']\n",
      "[0.668918918918919, 396.00000000000006, 592]\n",
      "['20200510', '20200510']\n",
      "['20200501', '20200509']\n",
      "['20200511', '20200511']\n",
      "['20200502', '20200510']\n",
      "['20200512', '20200512']\n",
      "['20200503', '20200511']\n"
     ]
    },
    {
     "name": "stderr",
     "output_type": "stream",
     "text": [
      "100%|██████████| 10/10 [00:00<00:00, 329.62it/s]\n",
      "100%|██████████| 10/10 [00:00<00:00, 2195.63it/s]\n",
      "100%|██████████| 10/10 [00:00<00:00, 380.27it/s]\n",
      "100%|██████████| 10/10 [00:00<00:00, 375.20it/s]\n",
      "100%|██████████| 10/10 [00:00<00:00, 3082.69it/s]\n",
      "100%|██████████| 10/10 [00:00<00:00, 433.55it/s]\n",
      "100%|██████████| 10/10 [00:00<00:00, 2329.26it/s]\n",
      "100%|██████████| 10/10 [00:00<00:00, 2384.08it/s]\n",
      "100%|██████████| 10/10 [00:00<00:00, 384.36it/s]\n",
      "100%|██████████| 10/10 [00:00<00:00, 337.98it/s]\n",
      "100%|██████████| 10/10 [00:00<00:00, 2368.86it/s]\n",
      "100%|██████████| 10/10 [00:00<00:00, 2295.48it/s]\n"
     ]
    },
    {
     "name": "stdout",
     "output_type": "stream",
     "text": [
      "[0.6841216216216216, 405.0, 592]\n",
      "['20200513', '20200513']\n",
      "['20200504', '20200512']\n",
      "[0.5610510046367851, 363.0, 647]\n",
      "['20200514', '20200514']\n",
      "['20200505', '20200513']\n",
      "[0.5886075949367089, 372.0, 632]\n",
      "['20200515', '20200515']\n",
      "['20200506', '20200514']\n",
      "[0.6185064935064936, 381.00000000000006, 616]\n",
      "['20200516', '20200516']\n",
      "['20200507', '20200515']\n",
      "[0.5874015748031496, 373.0, 635]\n",
      "['20200517', '20200517']\n",
      "['20200508', '20200516']\n"
     ]
    },
    {
     "name": "stderr",
     "output_type": "stream",
     "text": [
      "100%|██████████| 10/10 [00:00<00:00, 292.09it/s]\n",
      "100%|██████████| 10/10 [00:00<00:00, 2161.34it/s]\n",
      "100%|██████████| 10/10 [00:00<00:00, 288.31it/s]\n",
      "100%|██████████| 10/10 [00:00<00:00, 293.55it/s]\n",
      "100%|██████████| 10/10 [00:00<00:00, 1982.00it/s]\n",
      "100%|██████████| 10/10 [00:00<00:00, 2196.78it/s]\n",
      "100%|██████████| 10/10 [00:00<00:00, 328.92it/s]\n",
      "100%|██████████| 10/10 [00:00<00:00, 2136.79it/s]\n",
      "100%|██████████| 10/10 [00:00<00:00, 368.97it/s]\n",
      "100%|██████████| 10/10 [00:00<00:00, 2101.14it/s]\n",
      "100%|██████████| 10/10 [00:00<00:00, 364.52it/s]\n",
      "100%|██████████| 10/10 [00:00<00:00, 2253.06it/s]\n",
      "100%|██████████| 10/10 [00:00<00:00, 318.02it/s]\n",
      "100%|██████████| 10/10 [00:00<00:00, 288.31it/s]\n",
      "100%|██████████| 10/10 [00:00<00:00, 2296.49it/s]\n",
      "100%|██████████| 10/10 [00:00<00:00, 1973.42it/s]\n",
      "  0%|          | 0/10 [00:00<?, ?it/s]"
     ]
    },
    {
     "name": "stdout",
     "output_type": "stream",
     "text": [
      "['20200518', '20200518']\n",
      "['20200509', '20200517']\n",
      "[0.6746166950596252, 396.0, 587]\n",
      "['20200519', '20200519']\n",
      "['20200510', '20200518']\n",
      "['20200520', '20200520']\n",
      "['20200511', '20200519']\n",
      "[0.5729984301412873, 365.0, 637]\n",
      "['20200521', '20200521']\n",
      "['20200512', '20200520']\n"
     ]
    },
    {
     "name": "stderr",
     "output_type": "stream",
     "text": [
      "100%|██████████| 10/10 [00:00<00:00, 298.82it/s]\n",
      "100%|██████████| 10/10 [00:00<00:00, 2231.49it/s]\n"
     ]
    },
    {
     "name": "stdout",
     "output_type": "stream",
     "text": [
      "[0.5886075949367089, 372.0, 632]\n",
      "['20200522', '20200522']\n",
      "['20200513', '20200521']\n"
     ]
    },
    {
     "name": "stderr",
     "output_type": "stream",
     "text": [
      "100%|██████████| 10/10 [00:00<00:00, 302.90it/s]\n",
      "100%|██████████| 10/10 [00:00<00:00, 2099.78it/s]\n"
     ]
    },
    {
     "name": "stdout",
     "output_type": "stream",
     "text": [
      "[0.6819727891156463, 401.0, 588]\n",
      "['20200523', '20200523']\n",
      "['20200514', '20200522']\n",
      "[0.6473509933774835, 391.0, 604]\n",
      "['20200524', '20200524']\n",
      "['20200515', '20200523']\n",
      "['20200525', '20200525']\n",
      "['20200516', '20200524']\n",
      "['20200526', '20200526']\n",
      "['20200517', '20200525']\n",
      "['20200527', '20200527']\n",
      "['20200518', '20200526']\n"
     ]
    },
    {
     "name": "stderr",
     "output_type": "stream",
     "text": [
      "100%|██████████| 10/10 [00:00<00:00, 350.68it/s]\n",
      "100%|██████████| 10/10 [00:00<00:00, 2342.79it/s]\n",
      "100%|██████████| 10/10 [00:00<00:00, 385.33it/s]\n",
      "100%|██████████| 10/10 [00:00<00:00, 2392.78it/s]\n",
      "100%|██████████| 10/10 [00:00<00:00, 453.90it/s]\n",
      "100%|██████████| 10/10 [00:00<00:00, 2388.01it/s]\n",
      "100%|██████████| 10/10 [00:00<00:00, 391.64it/s]\n",
      "100%|██████████| 10/10 [00:00<00:00, 2396.88it/s]\n",
      "100%|██████████| 10/10 [00:00<00:00, 343.97it/s]\n",
      "100%|██████████| 10/10 [00:00<00:00, 2276.91it/s]\n"
     ]
    },
    {
     "name": "stdout",
     "output_type": "stream",
     "text": [
      "[0.6819727891156463, 401.0, 588]\n",
      "['20200528', '20200528']\n",
      "['20200519', '20200527']\n",
      "[0.6179775280898876, 385.0, 623]\n",
      "['20200529', '20200529']\n",
      "['20200520', '20200528']\n",
      "[0.6655518394648829, 398.0, 598]\n",
      "['20200530', '20200530']\n",
      "['20200521', '20200529']\n"
     ]
    },
    {
     "name": "stderr",
     "output_type": "stream",
     "text": [
      "100%|██████████| 10/10 [00:00<00:00, 337.14it/s]\n",
      "100%|██████████| 10/10 [00:00<00:00, 2221.79it/s]\n",
      "100%|██████████| 10/10 [00:00<00:00, 414.77it/s]\n",
      "100%|██████████| 10/10 [00:00<00:00, 3113.81it/s]\n",
      "100%|██████████| 10/10 [00:00<00:00, 373.39it/s]\n",
      "100%|██████████| 10/10 [00:00<00:00, 2287.47it/s]\n",
      "100%|██████████| 10/10 [00:00<00:00, 420.94it/s]\n",
      "100%|██████████| 10/10 [00:00<00:00, 2355.03it/s]\n",
      "100%|██████████| 10/10 [00:00<00:00, 426.95it/s]\n",
      "100%|██████████| 10/10 [00:00<00:00, 2313.84it/s]\n",
      "100%|██████████| 10/10 [00:00<00:00, 353.93it/s]\n",
      "  0%|          | 0/10 [00:00<?, ?it/s]"
     ]
    },
    {
     "name": "stdout",
     "output_type": "stream",
     "text": [
      "['20200531', '20200531']\n",
      "['20200522', '20200530']\n",
      "[0.645, 387.0, 600]\n",
      "['20200601', '20200601']\n",
      "['20200523', '20200531']\n",
      "['20200602', '20200602']\n",
      "['20200524', '20200601']\n",
      "[0.654485049833887, 394.0, 602]\n",
      "['20200603', '20200603']\n",
      "['20200525', '20200602']\n"
     ]
    },
    {
     "name": "stderr",
     "output_type": "stream",
     "text": [
      "100%|██████████| 10/10 [00:00<00:00, 2284.35it/s]\n",
      "100%|██████████| 10/10 [00:00<00:00, 307.12it/s]\n",
      "100%|██████████| 10/10 [00:00<00:00, 2209.39it/s]\n",
      "  0%|          | 0/10 [00:00<?, ?it/s]"
     ]
    },
    {
     "name": "stdout",
     "output_type": "stream",
     "text": [
      "[0.6181229773462783, 382.0, 618]\n",
      "['20200604', '20200604']\n",
      "['20200526', '20200603']\n",
      "[0.6339869281045751, 388.0, 612]\n",
      "['20200605', '20200605']\n",
      "['20200527', '20200604']\n",
      "[0.6644518272425249, 400.0, 602]\n",
      "['20200606', '20200606']\n",
      "['20200528', '20200605']\n",
      "[0.6209677419354839, 385.0, 620]\n",
      "['20200607', '20200607']\n",
      "['20200529', '20200606']\n",
      "[0.645, 387.0, 600]\n",
      "['20200608', '20200608']\n",
      "['20200530', '20200607']\n",
      "[0.654485049833887, 394.0, 602]\n",
      "['20200609', '20200609']\n",
      "['20200531', '20200608']\n",
      "['20200610', '20200610']\n",
      "['20200601', '20200609']\n",
      "['20200611', '20200611']\n",
      "['20200602', '20200610']\n"
     ]
    },
    {
     "name": "stderr",
     "output_type": "stream",
     "text": [
      "100%|██████████| 10/10 [00:00<00:00, 280.16it/s]\n",
      "100%|██████████| 10/10 [00:00<00:00, 281.72it/s]\n",
      "100%|██████████| 10/10 [00:00<00:00, 2076.29it/s]\n",
      "100%|██████████| 10/10 [00:00<00:00, 2059.97it/s]\n",
      "100%|██████████| 10/10 [00:00<00:00, 304.49it/s]\n",
      "100%|██████████| 10/10 [00:00<00:00, 348.58it/s]\n",
      "100%|██████████| 10/10 [00:00<00:00, 2035.77it/s]\n",
      "100%|██████████| 10/10 [00:00<00:00, 348.76it/s]\n",
      "100%|██████████| 10/10 [00:00<00:00, 2138.21it/s]\n",
      "100%|██████████| 10/10 [00:00<00:00, 2033.90it/s]\n",
      "100%|██████████| 10/10 [00:00<00:00, 303.16it/s]\n",
      "100%|██████████| 10/10 [00:00<00:00, 2257.07it/s]\n",
      "100%|██████████| 10/10 [00:00<00:00, 276.82it/s]\n",
      "100%|██████████| 10/10 [00:00<00:00, 274.99it/s]\n",
      "100%|██████████| 10/10 [00:00<00:00, 1909.54it/s]\n",
      "100%|██████████| 10/10 [00:00<00:00, 1897.36it/s]\n"
     ]
    },
    {
     "name": "stdout",
     "output_type": "stream",
     "text": [
      "[0.6363636363636364, 385.0, 605]\n",
      "['20200612', '20200612']\n",
      "['20200603', '20200611']\n",
      "[0.6445182724252492, 388.0, 602]\n",
      "['20200613', '20200613']\n",
      "['20200604', '20200612']\n"
     ]
    },
    {
     "name": "stderr",
     "output_type": "stream",
     "text": [
      "100%|██████████| 10/10 [00:00<00:00, 282.37it/s]\n",
      "100%|██████████| 10/10 [00:00<00:00, 2188.52it/s]\n",
      "100%|██████████| 10/10 [00:00<00:00, 319.50it/s]\n",
      "100%|██████████| 10/10 [00:00<00:00, 2342.40it/s]\n"
     ]
    },
    {
     "name": "stdout",
     "output_type": "stream",
     "text": [
      "['20200614', '20200614']\n",
      "['20200605', '20200613']\n",
      "['20200615', '20200615']\n",
      "['20200606', '20200614']\n"
     ]
    },
    {
     "name": "stderr",
     "output_type": "stream",
     "text": [
      "100%|██████████| 10/10 [00:00<00:00, 351.39it/s]\n",
      "100%|██████████| 10/10 [00:00<00:00, 2276.42it/s]\n",
      "100%|██████████| 10/10 [00:00<00:00, 371.15it/s]\n",
      "100%|██████████| 10/10 [00:00<00:00, 2320.63it/s]\n"
     ]
    },
    {
     "name": "stdout",
     "output_type": "stream",
     "text": [
      "[0.6336633663366337, 384.0, 606]\n",
      "['20200616', '20200616']\n",
      "['20200607', '20200615']\n"
     ]
    },
    {
     "name": "stderr",
     "output_type": "stream",
     "text": [
      "100%|██████████| 10/10 [00:00<00:00, 333.47it/s]\n",
      "100%|██████████| 10/10 [00:00<00:00, 2158.56it/s]\n"
     ]
    },
    {
     "name": "stdout",
     "output_type": "stream",
     "text": [
      "[0.6582491582491582, 390.99999999999994, 594]\n",
      "['20200617', '20200617']\n",
      "['20200608', '20200616']\n"
     ]
    },
    {
     "name": "stderr",
     "output_type": "stream",
     "text": [
      "100%|██████████| 10/10 [00:00<00:00, 368.72it/s]\n",
      "100%|██████████| 10/10 [00:00<00:00, 2973.21it/s]\n"
     ]
    },
    {
     "name": "stdout",
     "output_type": "stream",
     "text": [
      "[0.6820512820512821, 399.0, 585]\n",
      "['20200618', '20200618']\n",
      "['20200609', '20200617']\n",
      "[0.6820512820512821, 399.0, 585]\n",
      "['20200619', '20200619']\n",
      "['20200610', '20200618']\n",
      "[0.5967479674796748, 367.00000000000006, 615]\n",
      "['20200620', '20200620']\n",
      "['20200611', '20200619']\n",
      "[0.6314907872696818, 377.0, 597]\n",
      "['20200621', '20200621']\n",
      "['20200612', '20200620']\n",
      "[0.5660964230171073, 364.0, 643]\n",
      "['20200622', '20200622']\n",
      "['20200613', '20200621']\n"
     ]
    },
    {
     "name": "stderr",
     "output_type": "stream",
     "text": [
      "100%|██████████| 10/10 [00:00<00:00, 291.57it/s]\n",
      "100%|██████████| 10/10 [00:00<00:00, 2139.51it/s]\n",
      "100%|██████████| 10/10 [00:00<00:00, 295.56it/s]\n",
      "100%|██████████| 10/10 [00:00<00:00, 2013.30it/s]\n",
      "100%|██████████| 10/10 [00:00<00:00, 322.38it/s]\n",
      "100%|██████████| 10/10 [00:00<00:00, 365.42it/s]\n",
      "100%|██████████| 10/10 [00:00<00:00, 2137.55it/s]\n",
      "100%|██████████| 10/10 [00:00<00:00, 2330.17it/s]\n",
      "100%|██████████| 10/10 [00:00<00:00, 376.33it/s]\n",
      "100%|██████████| 10/10 [00:00<00:00, 2161.57it/s]\n",
      "100%|██████████| 10/10 [00:00<00:00, 323.47it/s]\n",
      "100%|██████████| 10/10 [00:00<00:00, 292.80it/s]\n",
      "100%|██████████| 10/10 [00:00<00:00, 2166.26it/s]\n",
      "100%|██████████| 10/10 [00:00<00:00, 2238.51it/s]\n",
      "100%|██████████| 10/10 [00:00<00:00, 292.95it/s]\n",
      "100%|██████████| 10/10 [00:00<00:00, 2237.56it/s]\n"
     ]
    },
    {
     "name": "stdout",
     "output_type": "stream",
     "text": [
      "['20200623', '20200623']\n",
      "['20200614', '20200622']\n",
      "['20200624', '20200624']\n",
      "['20200615', '20200623']\n",
      "[0.6314907872696818, 377.0, 597]\n",
      "['20200625', '20200625']\n",
      "['20200616', '20200624']\n",
      "[0.540785498489426, 358.00000000000006, 662]\n",
      "['20200626', '20200626']\n",
      "['20200617', '20200625']\n",
      "[0.5533536585365854, 363.0, 656]\n",
      "['20200627', '20200627']\n",
      "['20200618', '20200626']\n"
     ]
    },
    {
     "name": "stderr",
     "output_type": "stream",
     "text": [
      "100%|██████████| 10/10 [00:00<00:00, 303.74it/s]\n",
      "100%|██████████| 10/10 [00:00<00:00, 2186.47it/s]\n",
      "100%|██████████| 10/10 [00:00<00:00, 338.21it/s]\n",
      "100%|██████████| 10/10 [00:00<00:00, 2086.72it/s]\n"
     ]
    },
    {
     "name": "stdout",
     "output_type": "stream",
     "text": [
      "['20200628', '20200628']\n",
      "['20200619', '20200627']\n",
      "[0.5622047244094488, 357.0, 635]\n",
      "['20200629', '20200629']\n",
      "['20200620', '20200628']\n",
      "['20200630', '20200630']\n",
      "['20200621', '20200629']\n",
      "[0.5660964230171073, 364.0, 643]\n",
      "['20200701', '20200701']\n",
      "['20200622', '20200630']\n"
     ]
    },
    {
     "name": "stderr",
     "output_type": "stream",
     "text": [
      "100%|██████████| 10/10 [00:00<00:00, 359.31it/s]\n",
      "100%|██████████| 10/10 [00:00<00:00, 2101.78it/s]\n",
      "100%|██████████| 10/10 [00:00<00:00, 378.00it/s]\n",
      "100%|██████████| 10/10 [00:00<00:00, 335.05it/s]\n",
      "100%|██████████| 10/10 [00:00<00:00, 2226.87it/s]\n",
      "100%|██████████| 10/10 [00:00<00:00, 2082.26it/s]\n",
      "100%|██████████| 10/10 [00:00<00:00, 295.01it/s]\n",
      "100%|██████████| 10/10 [00:00<00:00, 2016.10it/s]\n",
      "100%|██████████| 10/10 [00:00<00:00, 298.61it/s]\n",
      "100%|██████████| 10/10 [00:00<00:00, 300.32it/s]\n",
      "100%|██████████| 10/10 [00:00<00:00, 2132.88it/s]\n",
      "100%|██████████| 10/10 [00:00<00:00, 2193.90it/s]\n"
     ]
    },
    {
     "name": "stdout",
     "output_type": "stream",
     "text": [
      "[0.5483383685800605, 363.0, 662]\n",
      "['20200702', '20200702']\n",
      "['20200623', '20200701']\n",
      "[0.5472868217054263, 352.99999999999994, 645]\n",
      "['20200703', '20200703']\n",
      "['20200624', '20200702']\n",
      "[0.6130573248407644, 385.0, 628]\n",
      "['20200704', '20200704']\n",
      "['20200625', '20200703']\n",
      "['20200705', '20200705']\n",
      "['20200626', '20200704']\n"
     ]
    },
    {
     "name": "stderr",
     "output_type": "stream",
     "text": [
      "100%|██████████| 10/10 [00:00<00:00, 332.32it/s]\n",
      "100%|██████████| 10/10 [00:00<00:00, 2085.99it/s]\n",
      "100%|██████████| 10/10 [00:00<00:00, 392.07it/s]\n",
      "100%|██████████| 10/10 [00:00<00:00, 2088.48it/s]\n"
     ]
    },
    {
     "name": "stdout",
     "output_type": "stream",
     "text": [
      "['20200706', '20200706']\n",
      "['20200627', '20200705']\n",
      "[0.6130573248407644, 385.0, 628]\n",
      "['20200707', '20200707']\n",
      "['20200628', '20200706']\n"
     ]
    },
    {
     "name": "stderr",
     "output_type": "stream",
     "text": [
      "100%|██████████| 10/10 [00:00<00:00, 382.53it/s]\n",
      "100%|██████████| 10/10 [00:00<00:00, 2359.27it/s]\n",
      "100%|██████████| 10/10 [00:00<00:00, 354.89it/s]\n",
      "100%|██████████| 10/10 [00:00<00:00, 2208.81it/s]\n"
     ]
    },
    {
     "name": "stdout",
     "output_type": "stream",
     "text": [
      "[0.5903426791277259, 379.0, 642]\n",
      "['20200708', '20200708']\n",
      "['20200629', '20200707']\n",
      "[0.5237388724035609, 353.00000000000006, 674]\n",
      "['20200709', '20200709']\n",
      "['20200630', '20200708']\n"
     ]
    },
    {
     "name": "stderr",
     "output_type": "stream",
     "text": [
      "100%|██████████| 10/10 [00:00<00:00, 304.88it/s]\n",
      "100%|██████████| 10/10 [00:00<00:00, 308.67it/s]\n",
      "100%|██████████| 10/10 [00:00<00:00, 2152.47it/s]\n",
      "100%|██████████| 10/10 [00:00<00:00, 2308.49it/s]\n"
     ]
    },
    {
     "name": "stdout",
     "output_type": "stream",
     "text": [
      "[0.5696400625978091, 364.0, 639]\n",
      "['20200710', '20200710']\n",
      "['20200701', '20200709']\n",
      "[0.5864779874213837, 373.0, 636]\n",
      "['20200711', '20200711']\n",
      "['20200702', '20200710']\n",
      "['20200712', '20200712']\n",
      "['20200703', '20200711']\n"
     ]
    },
    {
     "name": "stderr",
     "output_type": "stream",
     "text": [
      "100%|██████████| 10/10 [00:00<00:00, 347.06it/s]\n",
      "100%|██████████| 10/10 [00:00<00:00, 345.33it/s]\n",
      "100%|██████████| 10/10 [00:00<00:00, 3083.82it/s]\n",
      "100%|██████████| 10/10 [00:00<00:00, 2280.50it/s]\n",
      "100%|██████████| 10/10 [00:00<00:00, 396.29it/s]\n",
      "100%|██████████| 10/10 [00:00<00:00, 2271.12it/s]\n",
      "100%|██████████| 10/10 [00:00<00:00, 398.28it/s]\n",
      "100%|██████████| 10/10 [00:00<00:00, 379.96it/s]\n",
      "100%|██████████| 10/10 [00:00<00:00, 2206.02it/s]\n",
      "100%|██████████| 10/10 [00:00<00:00, 2051.00it/s]\n",
      "100%|██████████| 10/10 [00:00<00:00, 331.88it/s]\n",
      "100%|██████████| 10/10 [00:00<00:00, 333.48it/s]\n",
      "100%|██████████| 10/10 [00:00<00:00, 2024.38it/s]\n",
      "100%|██████████| 10/10 [00:00<00:00, 2076.29it/s]\n",
      "100%|██████████| 10/10 [00:00<00:00, 356.76it/s]\n",
      "100%|██████████| 10/10 [00:00<00:00, 381.39it/s]\n",
      "100%|██████████| 10/10 [00:00<00:00, 2940.07it/s]\n",
      "100%|██████████| 10/10 [00:00<00:00, 2301.15it/s]\n"
     ]
    },
    {
     "name": "stdout",
     "output_type": "stream",
     "text": [
      "['20200713', '20200713']\n",
      "['20200704', '20200712']\n",
      "[0.5696400625978091, 364.0, 639]\n",
      "['20200714', '20200714']\n",
      "['20200705', '20200713']\n",
      "[0.5161290322580645, 352.0, 682]\n",
      "['20200715', '20200715']\n",
      "['20200706', '20200714']\n",
      "['20200716', '20200716']\n",
      "['20200707', '20200715']\n",
      "[0.5807453416149069, 374.0, 644]\n",
      "['20200717', '20200717']\n",
      "['20200708', '20200716']\n",
      "[0.5382308845577212, 359.0, 667]\n",
      "['20200718', '20200718']\n",
      "['20200709', '20200717']\n",
      "['20200719', '20200719']\n",
      "['20200710', '20200718']\n",
      "[0.5965463108320251, 380.0, 637]\n",
      "['20200720', '20200720']\n",
      "['20200711', '20200719']\n",
      "['20200721', '20200721']\n",
      "['20200712', '20200720']\n"
     ]
    },
    {
     "name": "stderr",
     "output_type": "stream",
     "text": [
      "100%|██████████| 10/10 [00:00<00:00, 384.03it/s]\n",
      "100%|██████████| 10/10 [00:00<00:00, 459.05it/s]\n",
      "100%|██████████| 10/10 [00:00<00:00, 2382.86it/s]\n",
      "100%|██████████| 10/10 [00:00<00:00, 2210.79it/s]\n",
      "100%|██████████| 10/10 [00:00<00:00, 400.84it/s]\n",
      "100%|██████████| 10/10 [00:00<00:00, 2179.54it/s]\n"
     ]
    },
    {
     "name": "stdout",
     "output_type": "stream",
     "text": [
      "[0.5581039755351682, 365.0, 654]\n",
      "['20200722', '20200722']\n",
      "['20200713', '20200721']\n",
      "[0.5538694992412747, 365.00000000000006, 659]\n",
      "['20200723', '20200723']\n",
      "['20200714', '20200722']\n"
     ]
    },
    {
     "name": "stderr",
     "output_type": "stream",
     "text": [
      "100%|██████████| 10/10 [00:00<00:00, 343.68it/s]\n",
      "100%|██████████| 10/10 [00:00<00:00, 2067.48it/s]\n",
      "100%|██████████| 10/10 [00:00<00:00, 306.61it/s]\n",
      "100%|██████████| 10/10 [00:00<00:00, 2236.37it/s]\n",
      "  0%|          | 0/10 [00:00<?, ?it/s]"
     ]
    },
    {
     "name": "stdout",
     "output_type": "stream",
     "text": [
      "[0.5807453416149069, 374.0, 644]\n",
      "['20200724', '20200724']\n",
      "['20200715', '20200723']\n",
      "[0.5767441860465117, 372.00000000000006, 645]\n",
      "['20200725', '20200725']\n",
      "['20200716', '20200724']\n"
     ]
    },
    {
     "name": "stderr",
     "output_type": "stream",
     "text": [
      "100%|██████████| 10/10 [00:00<00:00, 310.40it/s]\n",
      "100%|██████████| 10/10 [00:00<00:00, 2200.12it/s]\n",
      "100%|██████████| 10/10 [00:00<00:00, 348.71it/s]\n",
      "100%|██████████| 10/10 [00:00<00:00, 2388.28it/s]\n",
      "  0%|          | 0/10 [00:00<?, ?it/s]"
     ]
    },
    {
     "name": "stdout",
     "output_type": "stream",
     "text": [
      "['20200726', '20200726']\n",
      "['20200717', '20200725']\n",
      "[0.5829383886255924, 369.0, 633]\n",
      "['20200727', '20200727']\n",
      "['20200718', '20200726']\n",
      "['20200728', '20200728']\n",
      "['20200719', '20200727']\n"
     ]
    },
    {
     "name": "stderr",
     "output_type": "stream",
     "text": [
      "100%|██████████| 10/10 [00:00<00:00, 400.84it/s]\n",
      "100%|██████████| 10/10 [00:00<00:00, 2418.58it/s]\n",
      "100%|██████████| 10/10 [00:00<00:00, 396.43it/s]\n",
      "100%|██████████| 10/10 [00:00<00:00, 350.64it/s]\n",
      "100%|██████████| 10/10 [00:00<00:00, 2122.84it/s]\n",
      "100%|██████████| 10/10 [00:00<00:00, 2377.72it/s]\n"
     ]
    },
    {
     "name": "stdout",
     "output_type": "stream",
     "text": [
      "[0.5829383886255924, 369.0, 633]\n",
      "['20200729', '20200729']\n",
      "['20200720', '20200728']\n",
      "[0.5601217656012176, 368.0, 657]\n",
      "['20200730', '20200730']\n",
      "['20200721', '20200729']\n"
     ]
    },
    {
     "name": "stderr",
     "output_type": "stream",
     "text": [
      "100%|██████████| 10/10 [00:00<00:00, 321.45it/s]\n",
      "100%|██████████| 10/10 [00:00<00:00, 2091.09it/s]\n",
      "100%|██████████| 10/10 [00:00<00:00, 313.86it/s]\n",
      "100%|██████████| 10/10 [00:00<00:00, 2310.78it/s]\n"
     ]
    },
    {
     "name": "stdout",
     "output_type": "stream",
     "text": [
      "[0.5572519083969466, 365.0, 655]\n",
      "['20200731', '20200731']\n",
      "['20200722', '20200730']\n",
      "[0.558282208588957, 364.0, 652]\n",
      "['20200801', '20200801']\n",
      "['20200723', '20200731']\n",
      "[0.6079365079365079, 382.99999999999994, 630]\n",
      "['20200802', '20200802']\n",
      "['20200724', '20200801']\n",
      "['20200803', '20200803']\n",
      "['20200725', '20200802']\n",
      "[0.6876061120543294, 405.00000000000006, 589]\n",
      "['20200804', '20200804']\n",
      "['20200726', '20200803']\n"
     ]
    },
    {
     "name": "stderr",
     "output_type": "stream",
     "text": [
      "100%|██████████| 10/10 [00:00<00:00, 304.71it/s]\n",
      "100%|██████████| 10/10 [00:00<00:00, 2264.74it/s]\n",
      "100%|██████████| 10/10 [00:00<00:00, 338.47it/s]\n",
      "100%|██████████| 10/10 [00:00<00:00, 2209.16it/s]\n",
      "100%|██████████| 10/10 [00:00<00:00, 389.98it/s]\n",
      "100%|██████████| 10/10 [00:00<00:00, 387.73it/s]\n",
      "100%|██████████| 10/10 [00:00<00:00, 2200.12it/s]\n",
      "100%|██████████| 10/10 [00:00<00:00, 2204.51it/s]\n",
      "  0%|          | 0/10 [00:00<?, ?it/s]"
     ]
    },
    {
     "name": "stdout",
     "output_type": "stream",
     "text": [
      "[0.6201923076923077, 387.0, 624]\n",
      "['20200805', '20200805']\n",
      "['20200727', '20200804']\n",
      "['20200806', '20200806']\n",
      "['20200728', '20200805']\n"
     ]
    },
    {
     "name": "stderr",
     "output_type": "stream",
     "text": [
      "100%|██████████| 10/10 [00:00<00:00, 300.94it/s]\n",
      "100%|██████████| 10/10 [00:00<00:00, 2206.37it/s]\n",
      "100%|██████████| 10/10 [00:00<00:00, 297.33it/s]\n",
      "100%|██████████| 10/10 [00:00<00:00, 2114.70it/s]\n",
      "100%|██████████| 10/10 [00:00<00:00, 301.89it/s]\n",
      "100%|██████████| 10/10 [00:00<00:00, 2103.15it/s]\n"
     ]
    },
    {
     "name": "stdout",
     "output_type": "stream",
     "text": [
      "[0.6876061120543294, 405.00000000000006, 589]\n",
      "['20200807', '20200807']\n",
      "['20200729', '20200806']\n",
      "[0.6502463054187192, 396.0, 609]\n",
      "['20200808', '20200808']\n",
      "['20200730', '20200807']\n"
     ]
    },
    {
     "name": "stderr",
     "output_type": "stream",
     "text": [
      "100%|██████████| 10/10 [00:00<00:00, 313.58it/s]\n",
      "100%|██████████| 10/10 [00:00<00:00, 2221.44it/s]\n",
      "100%|██████████| 10/10 [00:00<00:00, 347.12it/s]\n",
      "100%|██████████| 10/10 [00:00<00:00, 2181.35it/s]\n"
     ]
    },
    {
     "name": "stdout",
     "output_type": "stream",
     "text": [
      "[0.6201923076923077, 387.0, 624]\n",
      "['20200809', '20200809']\n",
      "['20200731', '20200808']\n",
      "['20200810', '20200810']\n",
      "['20200801', '20200809']\n",
      "[0.6035031847133758, 379.0, 628]\n",
      "['20200811', '20200811']\n",
      "['20200802', '20200810']\n",
      "['20200812', '20200812']\n",
      "['20200803', '20200811']\n",
      "[0.6157556270096463, 382.99999999999994, 622]\n",
      "['20200813', '20200813']\n",
      "['20200804', '20200812']\n"
     ]
    },
    {
     "name": "stderr",
     "output_type": "stream",
     "text": [
      "100%|██████████| 10/10 [00:00<00:00, 379.62it/s]\n",
      "100%|██████████| 10/10 [00:00<00:00, 2321.66it/s]\n",
      "100%|██████████| 10/10 [00:00<00:00, 389.52it/s]\n",
      "100%|██████████| 10/10 [00:00<00:00, 2125.85it/s]\n",
      "100%|██████████| 10/10 [00:00<00:00, 341.95it/s]\n",
      "100%|██████████| 10/10 [00:00<00:00, 2261.81it/s]\n",
      "100%|██████████| 10/10 [00:00<00:00, 303.71it/s]\n",
      "100%|██████████| 10/10 [00:00<00:00, 2213.47it/s]\n",
      "100%|██████████| 10/10 [00:00<00:00, 307.96it/s]\n",
      "100%|██████████| 10/10 [00:00<00:00, 2026.33it/s]\n"
     ]
    },
    {
     "name": "stdout",
     "output_type": "stream",
     "text": [
      "[0.595879556259905, 376.00000000000006, 631]\n",
      "['20200814', '20200814']\n",
      "['20200805', '20200813']\n",
      "[0.6293245469522241, 382.0, 607]\n",
      "['20200815', '20200815']\n",
      "['20200806', '20200814']\n",
      "['20200816', '20200816']\n",
      "['20200807', '20200815']\n"
     ]
    },
    {
     "name": "stderr",
     "output_type": "stream",
     "text": [
      "100%|██████████| 10/10 [00:00<00:00, 308.32it/s]\n",
      "100%|██████████| 10/10 [00:00<00:00, 2184.42it/s]\n",
      "100%|██████████| 10/10 [00:00<00:00, 342.47it/s]\n",
      "100%|██████████| 10/10 [00:00<00:00, 2291.59it/s]\n",
      "100%|██████████| 10/10 [00:00<00:00, 398.55it/s]\n",
      "100%|██████████| 10/10 [00:00<00:00, 2313.33it/s]\n",
      "100%|██████████| 10/10 [00:00<00:00, 403.31it/s]\n",
      "100%|██████████| 10/10 [00:00<00:00, 2248.96it/s]\n",
      "100%|██████████| 10/10 [00:00<00:00, 349.43it/s]\n",
      "100%|██████████| 10/10 [00:00<00:00, 2212.65it/s]\n",
      "  0%|          | 0/10 [00:00<?, ?it/s]"
     ]
    },
    {
     "name": "stdout",
     "output_type": "stream",
     "text": [
      "['20200817', '20200817']\n",
      "['20200808', '20200816']\n",
      "[0.5926517571884984, 371.0, 626]\n",
      "['20200818', '20200818']\n",
      "['20200809', '20200817']\n",
      "[0.6006493506493507, 370.0, 616]\n",
      "['20200819', '20200819']\n",
      "['20200810', '20200818']\n"
     ]
    },
    {
     "name": "stderr",
     "output_type": "stream",
     "text": [
      "100%|██████████| 10/10 [00:00<00:00, 303.53it/s]\n",
      "100%|██████████| 10/10 [00:00<00:00, 2295.48it/s]\n"
     ]
    },
    {
     "name": "stdout",
     "output_type": "stream",
     "text": [
      "[0.6293245469522241, 382.0, 607]\n",
      "['20200820', '20200820']\n",
      "['20200811', '20200819']\n",
      "[0.6012965964343598, 371.0, 617]\n",
      "['20200821', '20200821']\n",
      "['20200812', '20200820']\n",
      "[0.6054313099041534, 379.0, 626]\n",
      "['20200822', '20200822']\n",
      "['20200813', '20200821']\n"
     ]
    },
    {
     "name": "stderr",
     "output_type": "stream",
     "text": [
      "100%|██████████| 10/10 [00:00<00:00, 302.21it/s]\n",
      "100%|██████████| 10/10 [00:00<00:00, 2312.31it/s]\n",
      "100%|██████████| 10/10 [00:00<00:00, 289.83it/s]\n",
      "100%|██████████| 10/10 [00:00<00:00, 325.13it/s]\n",
      "100%|██████████| 10/10 [00:00<00:00, 2215.46it/s]\n",
      "100%|██████████| 10/10 [00:00<00:00, 2199.08it/s]\n"
     ]
    },
    {
     "name": "stdout",
     "output_type": "stream",
     "text": [
      "['20200823', '20200823']\n",
      "['20200814', '20200822']\n",
      "['20200824', '20200824']\n",
      "['20200815', '20200823']\n",
      "[0.6348684210526315, 385.99999999999994, 608]\n",
      "['20200825', '20200825']\n",
      "['20200816', '20200824']\n"
     ]
    },
    {
     "name": "stderr",
     "output_type": "stream",
     "text": [
      "100%|██████████| 10/10 [00:00<00:00, 481.16it/s]\n",
      "100%|██████████| 10/10 [00:00<00:00, 3145.81it/s]\n",
      "100%|██████████| 10/10 [00:00<00:00, 438.84it/s]\n",
      "100%|██████████| 10/10 [00:00<00:00, 2243.06it/s]\n",
      "100%|██████████| 10/10 [00:00<00:00, 310.26it/s]\n",
      "100%|██████████| 10/10 [00:00<00:00, 2223.56it/s]\n",
      "  0%|          | 0/10 [00:00<?, ?it/s]"
     ]
    },
    {
     "name": "stdout",
     "output_type": "stream",
     "text": [
      "[0.5968253968253968, 376.0, 630]\n",
      "['20200826', '20200826']\n",
      "['20200817', '20200825']\n",
      "[0.5977564102564102, 373.0, 624]\n",
      "['20200827', '20200827']\n",
      "['20200818', '20200826']\n",
      "[0.6348684210526315, 385.99999999999994, 608]\n",
      "['20200828', '20200828']\n",
      "['20200819', '20200827']\n"
     ]
    },
    {
     "name": "stderr",
     "output_type": "stream",
     "text": [
      "100%|██████████| 10/10 [00:00<00:00, 274.01it/s]\n",
      "100%|██████████| 10/10 [00:00<00:00, 2056.43it/s]\n",
      "100%|██████████| 10/10 [00:00<00:00, 277.43it/s]\n",
      "100%|██████████| 10/10 [00:00<00:00, 2026.82it/s]\n",
      "100%|██████████| 10/10 [00:00<00:00, 269.94it/s]\n",
      "100%|██████████| 10/10 [00:00<00:00, 2153.47it/s]\n"
     ]
    },
    {
     "name": "stdout",
     "output_type": "stream",
     "text": [
      "[0.5977564102564102, 373.0, 624]\n",
      "['20200829', '20200829']\n",
      "['20200820', '20200828']\n",
      "[0.5460122699386503, 356.0, 652]\n",
      "['20200830', '20200830']\n",
      "['20200821', '20200829']\n",
      "[0.5855572998430141, 372.99999999999994, 637]\n",
      "['20200831', '20200831']\n",
      "['20200822', '20200830']\n",
      "['20200901', '20200901']\n",
      "['20200823', '20200831']\n",
      "['20200902', '20200902']\n",
      "['20200824', '20200901']\n"
     ]
    },
    {
     "name": "stderr",
     "output_type": "stream",
     "text": [
      "100%|██████████| 10/10 [00:00<00:00, 302.55it/s]\n",
      "100%|██████████| 10/10 [00:00<00:00, 2224.27it/s]\n",
      "100%|██████████| 10/10 [00:00<00:00, 418.81it/s]\n",
      "100%|██████████| 10/10 [00:00<00:00, 3028.60it/s]\n",
      "100%|██████████| 10/10 [00:00<00:00, 342.74it/s]\n",
      "100%|██████████| 10/10 [00:00<00:00, 2258.04it/s]\n",
      "100%|██████████| 10/10 [00:00<00:00, 304.14it/s]\n",
      "100%|██████████| 10/10 [00:00<00:00, 347.62it/s]\n",
      "100%|██████████| 10/10 [00:00<00:00, 2193.33it/s]\n",
      "100%|██████████| 10/10 [00:00<00:00, 2912.31it/s]\n"
     ]
    },
    {
     "name": "stdout",
     "output_type": "stream",
     "text": [
      "[0.5565891472868217, 359.0, 645]\n",
      "['20200903', '20200903']\n",
      "['20200825', '20200902']\n"
     ]
    },
    {
     "name": "stderr",
     "output_type": "stream",
     "text": [
      "100%|██████████| 10/10 [00:00<00:00, 276.80it/s]\n",
      "100%|██████████| 10/10 [00:00<00:00, 2046.30it/s]\n"
     ]
    },
    {
     "name": "stdout",
     "output_type": "stream",
     "text": [
      "[0.5330330330330331, 355.0, 666]\n",
      "['20200904', '20200904']\n",
      "['20200826', '20200903']\n",
      "[0.5424242424242425, 358.00000000000006, 660]\n",
      "['20200905', '20200905']\n",
      "['20200827', '20200904']\n"
     ]
    },
    {
     "name": "stderr",
     "output_type": "stream",
     "text": [
      "100%|██████████| 10/10 [00:00<00:00, 284.31it/s]\n",
      "100%|██████████| 10/10 [00:00<00:00, 2247.87it/s]\n",
      "100%|██████████| 10/10 [00:00<00:00, 320.69it/s]\n",
      "100%|██████████| 10/10 [00:00<00:00, 2348.30it/s]\n"
     ]
    },
    {
     "name": "stdout",
     "output_type": "stream",
     "text": [
      "[0.5712050078247262, 365.0, 639]\n",
      "['20200906', '20200906']\n",
      "['20200828', '20200905']\n",
      "['20200907', '20200907']\n",
      "['20200829', '20200906']\n",
      "[0.5712050078247262, 365.0, 639]\n",
      "['20200908', '20200908']\n",
      "['20200830', '20200907']\n",
      "['20200909', '20200909']\n",
      "['20200831', '20200908']\n",
      "[0.5172932330827068, 344.0, 665]\n",
      "['20200910', '20200910']\n",
      "['20200901', '20200909']\n"
     ]
    },
    {
     "name": "stderr",
     "output_type": "stream",
     "text": [
      "100%|██████████| 10/10 [00:00<00:00, 361.04it/s]\n",
      "100%|██████████| 10/10 [00:00<00:00, 2213.82it/s]\n",
      "100%|██████████| 10/10 [00:00<00:00, 357.24it/s]\n",
      "100%|██████████| 10/10 [00:00<00:00, 2393.05it/s]\n",
      "100%|██████████| 10/10 [00:00<00:00, 213.87it/s]\n",
      "100%|██████████| 10/10 [00:00<00:00, 290.91it/s]\n",
      "100%|██████████| 10/10 [00:00<00:00, 2229.95it/s]\n",
      "100%|██████████| 10/10 [00:00<00:00, 2861.25it/s]\n",
      "100%|██████████| 10/10 [00:00<00:00, 278.37it/s]\n",
      "100%|██████████| 10/10 [00:00<00:00, 2145.31it/s]\n"
     ]
    },
    {
     "name": "stdout",
     "output_type": "stream",
     "text": [
      "[0.5073746312684366, 344.00000000000006, 678]\n",
      "['20200911', '20200911']\n",
      "['20200902', '20200910']\n",
      "[0.49557522123893805, 336.0, 678]\n",
      "['20200912', '20200912']\n",
      "['20200903', '20200911']\n",
      "[0.5278195488721804, 351.0, 665]\n",
      "['20200913', '20200913']\n",
      "['20200904', '20200912']\n",
      "[0.5278195488721804, 351.0, 665]\n",
      "['20200914', '20200914']\n",
      "['20200905', '20200913']\n",
      "['20200915', '20200915']\n",
      "['20200906', '20200914']\n"
     ]
    },
    {
     "name": "stderr",
     "output_type": "stream",
     "text": [
      "100%|██████████| 10/10 [00:00<00:00, 283.87it/s]\n",
      "100%|██████████| 10/10 [00:00<00:00, 2065.45it/s]\n",
      "100%|██████████| 10/10 [00:00<00:00, 299.69it/s]\n",
      "100%|██████████| 10/10 [00:00<00:00, 346.65it/s]\n",
      "100%|██████████| 10/10 [00:00<00:00, 2188.18it/s]\n",
      "100%|██████████| 10/10 [00:00<00:00, 345.42it/s]\n",
      "100%|██████████| 10/10 [00:00<00:00, 2294.73it/s]\n",
      "100%|██████████| 10/10 [00:00<00:00, 2225.09it/s]\n",
      "  0%|          | 0/10 [00:00<?, ?it/s]"
     ]
    },
    {
     "name": "stdout",
     "output_type": "stream",
     "text": [
      "['20200916', '20200916']\n",
      "['20200907', '20200915']\n",
      "[0.48546511627906974, 334.0, 688]\n",
      "['20200917', '20200917']\n",
      "['20200908', '20200916']\n",
      "[0.51698670605613, 350.0, 677]\n",
      "['20200918', '20200918']\n",
      "['20200909', '20200917']\n",
      "[0.4897360703812317, 334.0, 682]\n",
      "['20200919', '20200919']\n",
      "['20200910', '20200918']\n"
     ]
    },
    {
     "name": "stderr",
     "output_type": "stream",
     "text": [
      "100%|██████████| 10/10 [00:00<00:00, 303.81it/s]\n",
      "100%|██████████| 10/10 [00:00<00:00, 295.01it/s]\n",
      "100%|██████████| 10/10 [00:00<00:00, 2199.89it/s]\n",
      "100%|██████████| 10/10 [00:00<00:00, 2957.48it/s]\n",
      "100%|██████████| 10/10 [00:00<00:00, 276.02it/s]\n",
      "100%|██████████| 10/10 [00:00<00:00, 2009.25it/s]\n",
      "100%|██████████| 10/10 [00:00<00:00, 310.68it/s]\n",
      "100%|██████████| 10/10 [00:00<00:00, 277.68it/s]\n",
      "100%|██████████| 10/10 [00:00<00:00, 2093.70it/s]\n",
      "100%|██████████| 10/10 [00:00<00:00, 2093.80it/s]\n"
     ]
    },
    {
     "name": "stdout",
     "output_type": "stream",
     "text": [
      "['20200920', '20200920']\n",
      "['20200911', '20200919']\n",
      "['20200921', '20200921']\n",
      "['20200912', '20200920']\n",
      "[0.5347432024169184, 354.0, 662]\n",
      "['20200922', '20200922']\n",
      "['20200913', '20200921']\n"
     ]
    },
    {
     "name": "stderr",
     "output_type": "stream",
     "text": [
      "100%|██████████| 10/10 [00:00<00:00, 354.69it/s]\n",
      "100%|██████████| 10/10 [00:00<00:00, 2297.75it/s]\n",
      "100%|██████████| 10/10 [00:00<00:00, 357.25it/s]\n",
      "100%|██████████| 10/10 [00:00<00:00, 2302.41it/s]\n",
      "100%|██████████| 10/10 [00:00<00:00, 311.42it/s]\n",
      "100%|██████████| 10/10 [00:00<00:00, 2246.91it/s]\n"
     ]
    },
    {
     "name": "stdout",
     "output_type": "stream",
     "text": [
      "[0.5347432024169184, 354.0, 662]\n",
      "['20200923', '20200923']\n",
      "['20200914', '20200922']\n"
     ]
    },
    {
     "name": "stderr",
     "output_type": "stream",
     "text": [
      "100%|██████████| 10/10 [00:00<00:00, 284.19it/s]\n",
      "100%|██████████| 10/10 [00:00<00:00, 2214.40it/s]\n"
     ]
    },
    {
     "name": "stdout",
     "output_type": "stream",
     "text": [
      "[0.546969696969697, 361.0, 660]\n",
      "['20200924', '20200924']\n",
      "['20200915', '20200923']\n"
     ]
    },
    {
     "name": "stderr",
     "output_type": "stream",
     "text": [
      "100%|██████████| 10/10 [00:00<00:00, 286.31it/s]\n",
      "100%|██████████| 10/10 [00:00<00:00, 2191.38it/s]\n"
     ]
    },
    {
     "name": "stdout",
     "output_type": "stream",
     "text": [
      "[0.559322033898305, 362.99999999999994, 649]\n",
      "['20200925', '20200925']\n",
      "['20200916', '20200924']\n",
      "[0.6221864951768489, 387.0, 622]\n",
      "['20200926', '20200926']\n",
      "['20200917', '20200925']\n",
      "[0.656093489148581, 393.0, 599]\n",
      "['20200927', '20200927']\n",
      "['20200918', '20200926']\n",
      "['20200928', '20200928']\n",
      "['20200919', '20200927']\n"
     ]
    },
    {
     "name": "stderr",
     "output_type": "stream",
     "text": [
      "100%|██████████| 10/10 [00:00<00:00, 287.33it/s]\n",
      "100%|██████████| 10/10 [00:00<00:00, 2196.20it/s]\n",
      "100%|██████████| 10/10 [00:00<00:00, 310.55it/s]\n",
      "100%|██████████| 10/10 [00:00<00:00, 2204.98it/s]\n",
      "100%|██████████| 10/10 [00:00<00:00, 352.50it/s]\n",
      "100%|██████████| 10/10 [00:00<00:00, 2330.95it/s]\n",
      "  0%|          | 0/10 [00:00<?, ?it/s]"
     ]
    },
    {
     "name": "stdout",
     "output_type": "stream",
     "text": [
      "['20200929', '20200929']\n",
      "['20200920', '20200928']\n",
      "[0.6268174474959612, 388.0, 619]\n",
      "['20200930', '20200930']\n",
      "['20200921', '20200929']\n",
      "[0.656093489148581, 393.0, 599]\n",
      "['20201001', '20201001']\n",
      "['20200922', '20200930']\n"
     ]
    },
    {
     "name": "stderr",
     "output_type": "stream",
     "text": [
      "100%|██████████| 10/10 [00:00<00:00, 360.61it/s]\n",
      "100%|██████████| 10/10 [00:00<00:00, 2289.97it/s]\n",
      "100%|██████████| 10/10 [00:00<00:00, 294.84it/s]\n",
      "100%|██████████| 10/10 [00:00<00:00, 2136.57it/s]\n",
      "100%|██████████| 10/10 [00:00<00:00, 277.10it/s]\n",
      "100%|██████████| 10/10 [00:00<00:00, 2267.07it/s]\n",
      "  0%|          | 0/10 [00:00<?, ?it/s]"
     ]
    },
    {
     "name": "stdout",
     "output_type": "stream",
     "text": [
      "[0.5891472868217055, 380.00000000000006, 645]\n",
      "['20201002', '20201002']\n",
      "['20200923', '20201001']\n",
      "['20201003', '20201003']\n",
      "['20200924', '20201002']\n"
     ]
    },
    {
     "name": "stderr",
     "output_type": "stream",
     "text": [
      "100%|██████████| 10/10 [00:00<00:00, 286.93it/s]\n",
      "100%|██████████| 10/10 [00:00<00:00, 308.91it/s]\n",
      "100%|██████████| 10/10 [00:00<00:00, 1960.69it/s]\n",
      "100%|██████████| 10/10 [00:00<00:00, 2241.03it/s]\n",
      "100%|██████████| 10/10 [00:00<00:00, 365.08it/s]\n",
      "100%|██████████| 10/10 [00:00<00:00, 2207.64it/s]\n"
     ]
    },
    {
     "name": "stdout",
     "output_type": "stream",
     "text": [
      "['20201004', '20201004']\n",
      "['20200925', '20201003']\n",
      "[0.5924170616113744, 375.0, 633]\n",
      "['20201005', '20201005']\n",
      "['20200926', '20201004']\n",
      "['20201006', '20201006']\n",
      "['20200927', '20201005']\n",
      "[0.6162420382165605, 387.0, 628]\n",
      "['20201007', '20201007']\n",
      "['20200928', '20201006']\n"
     ]
    },
    {
     "name": "stderr",
     "output_type": "stream",
     "text": [
      "100%|██████████| 10/10 [00:00<00:00, 428.69it/s]\n",
      "100%|██████████| 10/10 [00:00<00:00, 2271.86it/s]\n",
      "100%|██████████| 10/10 [00:00<00:00, 417.41it/s]\n",
      "100%|██████████| 10/10 [00:00<00:00, 2430.35it/s]\n",
      "100%|██████████| 10/10 [00:00<00:00, 356.64it/s]\n",
      "100%|██████████| 10/10 [00:00<00:00, 391.10it/s]\n",
      "100%|██████████| 10/10 [00:00<00:00, 3224.16it/s]\n",
      "100%|██████████| 10/10 [00:00<00:00, 2313.84it/s]\n"
     ]
    },
    {
     "name": "stdout",
     "output_type": "stream",
     "text": [
      "[0.5807453416149069, 374.0, 644]\n",
      "['20201008', '20201008']\n",
      "['20200929', '20201007']\n",
      "[0.5654853620955316, 367.0, 649]\n",
      "['20201009', '20201009']\n",
      "['20200930', '20201008']\n"
     ]
    },
    {
     "name": "stderr",
     "output_type": "stream",
     "text": [
      "100%|██████████| 10/10 [00:00<00:00, 316.51it/s]\n",
      "100%|██████████| 10/10 [00:00<00:00, 2205.90it/s]\n",
      "100%|██████████| 10/10 [00:00<00:00, 394.75it/s]\n",
      "100%|██████████| 10/10 [00:00<00:00, 2978.49it/s]\n"
     ]
    },
    {
     "name": "stdout",
     "output_type": "stream",
     "text": [
      "[0.6286173633440515, 391.00000000000006, 622]\n",
      "['20201010', '20201010']\n",
      "['20201001', '20201009']\n",
      "[0.5924170616113744, 375.0, 633]\n",
      "['20201011', '20201011']\n",
      "['20201002', '20201010']\n",
      "['20201012', '20201012']\n",
      "['20201003', '20201011']\n",
      "['20201013', '20201013']\n",
      "['20201004', '20201012']\n"
     ]
    },
    {
     "name": "stderr",
     "output_type": "stream",
     "text": [
      "100%|██████████| 10/10 [00:00<00:00, 368.24it/s]\n",
      "100%|██████████| 10/10 [00:00<00:00, 2262.06it/s]\n",
      "100%|██████████| 10/10 [00:00<00:00, 410.63it/s]\n",
      "100%|██████████| 10/10 [00:00<00:00, 2255.00it/s]\n",
      "100%|██████████| 10/10 [00:00<00:00, 354.81it/s]\n",
      "100%|██████████| 10/10 [00:00<00:00, 2143.01it/s]\n",
      "100%|██████████| 10/10 [00:00<00:00, 315.50it/s]\n",
      "100%|██████████| 10/10 [00:00<00:00, 2131.25it/s]\n"
     ]
    },
    {
     "name": "stdout",
     "output_type": "stream",
     "text": [
      "[0.6286173633440515, 391.00000000000006, 622]\n",
      "['20201014', '20201014']\n",
      "['20201005', '20201013']\n"
     ]
    },
    {
     "name": "stderr",
     "output_type": "stream",
     "text": [
      "100%|██████████| 10/10 [00:00<00:00, 279.99it/s]\n",
      "100%|██████████| 10/10 [00:00<00:00, 2176.03it/s]\n"
     ]
    },
    {
     "name": "stdout",
     "output_type": "stream",
     "text": [
      "[0.5867507886435331, 372.0, 634]\n",
      "['20201015', '20201015']\n",
      "['20201006', '20201014']\n",
      "[0.7110726643598616, 411.0, 578]\n",
      "['20201016', '20201016']\n",
      "['20201007', '20201015']\n",
      "[0.5698757763975155, 367.0, 644]\n",
      "['20201017', '20201017']\n",
      "['20201008', '20201016']\n"
     ]
    },
    {
     "name": "stderr",
     "output_type": "stream",
     "text": [
      "100%|██████████| 10/10 [00:00<00:00, 285.08it/s]\n",
      "100%|██████████| 10/10 [00:00<00:00, 2123.48it/s]\n",
      "100%|██████████| 10/10 [00:00<00:00, 314.14it/s]\n",
      "100%|██████████| 10/10 [00:00<00:00, 281.70it/s]\n",
      "100%|██████████| 10/10 [00:00<00:00, 2088.69it/s]\n",
      "100%|██████████| 10/10 [00:00<00:00, 2029.96it/s]\n"
     ]
    },
    {
     "name": "stdout",
     "output_type": "stream",
     "text": [
      "['20201018', '20201018']\n",
      "['20201009', '20201017']\n",
      "['20201019', '20201019']\n",
      "['20201010', '20201018']\n",
      "[0.6172638436482085, 379.00000000000006, 614]\n",
      "['20201020', '20201020']\n",
      "['20201011', '20201019']\n"
     ]
    },
    {
     "name": "stderr",
     "output_type": "stream",
     "text": [
      "100%|██████████| 10/10 [00:00<00:00, 447.00it/s]\n",
      "100%|██████████| 10/10 [00:00<00:00, 3140.62it/s]\n",
      "100%|██████████| 10/10 [00:00<00:00, 449.01it/s]\n",
      "100%|██████████| 10/10 [00:00<00:00, 3135.93it/s]\n",
      "100%|██████████| 10/10 [00:00<00:00, 319.56it/s]\n",
      "100%|██████████| 10/10 [00:00<00:00, 2224.98it/s]\n",
      "  0%|          | 0/10 [00:00<?, ?it/s]"
     ]
    },
    {
     "name": "stdout",
     "output_type": "stream",
     "text": [
      "[0.7110726643598616, 411.0, 578]\n",
      "['20201021', '20201021']\n",
      "['20201012', '20201020']\n",
      "[0.6644295302013423, 396.0, 596]\n",
      "['20201022', '20201022']\n",
      "['20201013', '20201021']\n"
     ]
    },
    {
     "name": "stderr",
     "output_type": "stream",
     "text": [
      "100%|██████████| 10/10 [00:00<00:00, 280.03it/s]\n",
      "100%|██████████| 10/10 [00:00<00:00, 2203.12it/s]\n",
      "100%|██████████| 10/10 [00:00<00:00, 283.59it/s]\n",
      "100%|██████████| 10/10 [00:00<00:00, 2124.56it/s]\n"
     ]
    },
    {
     "name": "stdout",
     "output_type": "stream",
     "text": [
      "[0.6038647342995169, 375.0, 621]\n",
      "['20201023', '20201023']\n",
      "['20201014', '20201022']\n",
      "[0.6460767946577629, 387.0, 599]\n",
      "['20201024', '20201024']\n",
      "['20201015', '20201023']\n",
      "[0.6511627906976745, 392.0, 602]\n",
      "['20201025', '20201025']\n",
      "['20201016', '20201024']\n",
      "['20201026', '20201026']\n",
      "['20201017', '20201025']\n",
      "['20201027', '20201027']\n",
      "['20201018', '20201026']\n"
     ]
    },
    {
     "name": "stderr",
     "output_type": "stream",
     "text": [
      "100%|██████████| 10/10 [00:00<00:00, 290.19it/s]\n",
      "100%|██████████| 10/10 [00:00<00:00, 2322.94it/s]\n",
      "100%|██████████| 10/10 [00:00<00:00, 322.96it/s]\n",
      "100%|██████████| 10/10 [00:00<00:00, 2187.15it/s]\n",
      "100%|██████████| 10/10 [00:00<00:00, 443.49it/s]\n",
      "100%|██████████| 10/10 [00:00<00:00, 3171.50it/s]\n",
      "100%|██████████| 10/10 [00:00<00:00, 393.86it/s]\n",
      "100%|██████████| 10/10 [00:00<00:00, 317.61it/s]\n",
      "100%|██████████| 10/10 [00:00<00:00, 2386.79it/s]\n",
      "100%|██████████| 10/10 [00:00<00:00, 2164.80it/s]\n",
      "100%|██████████| 10/10 [00:00<00:00, 274.55it/s]\n",
      "  0%|          | 0/10 [00:00<?, ?it/s]"
     ]
    },
    {
     "name": "stdout",
     "output_type": "stream",
     "text": [
      "[0.6511627906976745, 392.0, 602]\n",
      "['20201028', '20201028']\n",
      "['20201019', '20201027']\n",
      "[0.5958132045088567, 370.0, 621]\n",
      "['20201029', '20201029']\n",
      "['20201020', '20201028']\n",
      "[0.6035313001605136, 375.99999999999994, 623]\n",
      "['20201030', '20201030']\n",
      "['20201021', '20201029']\n",
      "[0.601957585644372, 369.0, 613]\n",
      "['20201031', '20201031']\n",
      "['20201022', '20201030']\n"
     ]
    },
    {
     "name": "stderr",
     "output_type": "stream",
     "text": [
      "100%|██████████| 10/10 [00:00<00:00, 1990.18it/s]\n",
      "100%|██████████| 10/10 [00:00<00:00, 273.13it/s]\n",
      "100%|██████████| 10/10 [00:00<00:00, 277.59it/s]\n",
      "100%|██████████| 10/10 [00:00<00:00, 1980.41it/s]\n",
      "100%|██████████| 10/10 [00:00<00:00, 2108.54it/s]\n",
      "100%|██████████| 10/10 [00:00<00:00, 333.03it/s]\n",
      "100%|██████████| 10/10 [00:00<00:00, 3021.83it/s]\n"
     ]
    },
    {
     "name": "stdout",
     "output_type": "stream",
     "text": [
      "['20201101', '20201101']\n",
      "['20201023', '20201031']\n",
      "['20201102', '20201102']\n",
      "['20201024', '20201101']\n",
      "[0.601957585644372, 369.0, 613]\n",
      "['20201103', '20201103']\n",
      "['20201025', '20201102']\n"
     ]
    },
    {
     "name": "stderr",
     "output_type": "stream",
     "text": [
      "100%|██████████| 10/10 [00:00<00:00, 407.55it/s]\n",
      "100%|██████████| 10/10 [00:00<00:00, 3037.37it/s]\n",
      "100%|██████████| 10/10 [00:00<00:00, 451.94it/s]\n",
      "100%|██████████| 10/10 [00:00<00:00, 3077.03it/s]\n",
      "100%|██████████| 10/10 [00:00<00:00, 311.73it/s]\n",
      "100%|██████████| 10/10 [00:00<00:00, 2090.57it/s]\n"
     ]
    },
    {
     "name": "stdout",
     "output_type": "stream",
     "text": [
      "[0.6470588235294118, 385.0, 595]\n",
      "['20201104', '20201104']\n",
      "['20201026', '20201103']\n",
      "[0.5773524720893142, 362.0, 627]\n",
      "['20201105', '20201105']\n",
      "['20201027', '20201104']\n"
     ]
    },
    {
     "name": "stderr",
     "output_type": "stream",
     "text": [
      "100%|██████████| 10/10 [00:00<00:00, 280.34it/s]\n",
      "100%|██████████| 10/10 [00:00<00:00, 2211.02it/s]\n",
      "100%|██████████| 10/10 [00:00<00:00, 280.54it/s]\n",
      "100%|██████████| 10/10 [00:00<00:00, 2176.60it/s]\n"
     ]
    },
    {
     "name": "stdout",
     "output_type": "stream",
     "text": [
      "[0.5764331210191083, 362.0, 628]\n",
      "['20201106', '20201106']\n",
      "['20201028', '20201105']\n",
      "[0.5778491171749599, 360.0, 623]\n",
      "['20201107', '20201107']\n",
      "['20201029', '20201106']\n",
      "['20201108', '20201108']\n",
      "['20201030', '20201107']\n"
     ]
    },
    {
     "name": "stderr",
     "output_type": "stream",
     "text": [
      "100%|██████████| 10/10 [00:00<00:00, 289.71it/s]\n",
      "100%|██████████| 10/10 [00:00<00:00, 1997.10it/s]\n",
      "100%|██████████| 10/10 [00:00<00:00, 323.05it/s]\n",
      "100%|██████████| 10/10 [00:00<00:00, 2373.96it/s]\n",
      "100%|██████████| 10/10 [00:00<00:00, 366.70it/s]\n",
      "100%|██████████| 10/10 [00:00<00:00, 2428.38it/s]\n",
      "100%|██████████| 10/10 [00:00<00:00, 370.94it/s]\n",
      "100%|██████████| 10/10 [00:00<00:00, 2408.86it/s]\n"
     ]
    },
    {
     "name": "stdout",
     "output_type": "stream",
     "text": [
      "['20201109', '20201109']\n",
      "['20201031', '20201108']\n",
      "[0.6470588235294118, 385.0, 595]\n",
      "['20201110', '20201110']\n",
      "['20201101', '20201109']\n",
      "[0.5887096774193549, 365.0, 620]\n",
      "['20201111', '20201111']\n",
      "['20201102', '20201110']\n"
     ]
    },
    {
     "name": "stderr",
     "output_type": "stream",
     "text": [
      "100%|██████████| 10/10 [00:00<00:00, 317.27it/s]\n",
      "100%|██████████| 10/10 [00:00<00:00, 283.48it/s]\n",
      "100%|██████████| 10/10 [00:00<00:00, 2255.61it/s]\n",
      "100%|██████████| 10/10 [00:00<00:00, 2047.30it/s]\n"
     ]
    },
    {
     "name": "stdout",
     "output_type": "stream",
     "text": [
      "[0.5983739837398374, 368.0, 615]\n",
      "['20201112', '20201112']\n",
      "['20201103', '20201111']\n",
      "[0.5817307692307693, 363.0, 624]\n",
      "['20201113', '20201113']\n",
      "['20201104', '20201112']\n",
      "[0.5853269537480064, 367.0, 627]\n",
      "['20201114', '20201114']\n",
      "['20201105', '20201113']\n",
      "[0.5817307692307693, 363.0, 624]\n",
      "['20201115', '20201115']\n",
      "['20201106', '20201114']\n"
     ]
    },
    {
     "name": "stderr",
     "output_type": "stream",
     "text": [
      "100%|██████████| 10/10 [00:00<00:00, 256.80it/s]\n",
      "100%|██████████| 10/10 [00:00<00:00, 2216.04it/s]\n",
      "100%|██████████| 10/10 [00:00<00:00, 350.69it/s]\n",
      "100%|██████████| 10/10 [00:00<00:00, 2955.40it/s]\n",
      "100%|██████████| 10/10 [00:00<00:00, 305.39it/s]\n",
      "100%|██████████| 10/10 [00:00<00:00, 2083.51it/s]\n",
      "100%|██████████| 10/10 [00:00<00:00, 300.51it/s]\n",
      "100%|██████████| 10/10 [00:00<00:00, 2346.73it/s]\n",
      "100%|██████████| 10/10 [00:00<00:00, 362.45it/s]\n",
      "100%|██████████| 10/10 [00:00<00:00, 1797.28it/s]\n",
      "100%|██████████| 10/10 [00:00<00:00, 322.59it/s]\n",
      "100%|██████████| 10/10 [00:00<00:00, 2151.81it/s]\n",
      "  0%|          | 0/10 [00:00<?, ?it/s]"
     ]
    },
    {
     "name": "stdout",
     "output_type": "stream",
     "text": [
      "['20201116', '20201116']\n",
      "['20201107', '20201115']\n",
      "['20201117', '20201117']\n",
      "['20201108', '20201116']\n",
      "['20201118', '20201118']\n",
      "['20201109', '20201117']\n",
      "[0.6254125412541254, 379.0, 606]\n",
      "['20201119', '20201119']\n",
      "['20201110', '20201118']\n",
      "[0.5467289719626168, 351.0, 642]\n",
      "['20201120', '20201120']\n",
      "['20201111', '20201119']\n"
     ]
    },
    {
     "name": "stderr",
     "output_type": "stream",
     "text": [
      "100%|██████████| 10/10 [00:00<00:00, 285.04it/s]\n",
      "100%|██████████| 10/10 [00:00<00:00, 2288.59it/s]\n",
      "100%|██████████| 10/10 [00:00<00:00, 257.45it/s]\n",
      "100%|██████████| 10/10 [00:00<00:00, 2082.06it/s]\n",
      "100%|██████████| 10/10 [00:00<00:00, 283.55it/s]\n",
      "100%|██████████| 10/10 [00:00<00:00, 2259.38it/s]\n",
      "100%|██████████| 10/10 [00:00<00:00, 335.37it/s]\n",
      "100%|██████████| 10/10 [00:00<00:00, 2109.70it/s]\n",
      "  0%|          | 0/10 [00:00<?, ?it/s]"
     ]
    },
    {
     "name": "stdout",
     "output_type": "stream",
     "text": [
      "[0.55625, 356.0, 640]\n",
      "['20201121', '20201121']\n",
      "['20201112', '20201120']\n",
      "['20201122', '20201122']\n",
      "['20201113', '20201121']\n"
     ]
    },
    {
     "name": "stderr",
     "output_type": "stream",
     "text": [
      "100%|██████████| 10/10 [00:00<00:00, 388.49it/s]\n",
      "100%|██████████| 10/10 [00:00<00:00, 2138.97it/s]\n",
      "100%|██████████| 10/10 [00:00<00:00, 288.00it/s]\n",
      "100%|██████████| 10/10 [00:00<00:00, 1130.66it/s]\n",
      "100%|██████████| 10/10 [00:00<00:00, 326.61it/s]\n",
      "100%|██████████| 10/10 [00:00<00:00, 2264.13it/s]\n"
     ]
    },
    {
     "name": "stdout",
     "output_type": "stream",
     "text": [
      "['20201123', '20201123']\n",
      "['20201114', '20201122']\n",
      "[0.5536547433903577, 356.0, 643]\n",
      "['20201124', '20201124']\n",
      "['20201115', '20201123']\n",
      "[0.5990338164251208, 372.0, 621]\n",
      "['20201125', '20201125']\n",
      "['20201116', '20201124']\n"
     ]
    },
    {
     "name": "stderr",
     "output_type": "stream",
     "text": [
      "100%|██████████| 10/10 [00:00<00:00, 299.89it/s]\n",
      "100%|██████████| 10/10 [00:00<00:00, 2237.32it/s]\n"
     ]
    },
    {
     "name": "stdout",
     "output_type": "stream",
     "text": [
      "[0.6254125412541254, 379.0, 606]\n",
      "['20201126', '20201126']\n",
      "['20201117', '20201125']\n",
      "[0.6078431372549019, 371.99999999999994, 612]\n",
      "['20201127', '20201127']\n",
      "['20201118', '20201126']\n",
      "[0.6171617161716172, 374.0, 606]\n",
      "['20201128', '20201128']\n",
      "['20201119', '20201127']\n"
     ]
    },
    {
     "name": "stderr",
     "output_type": "stream",
     "text": [
      "100%|██████████| 10/10 [00:00<00:00, 275.01it/s]\n",
      "100%|██████████| 10/10 [00:00<00:00, 2214.87it/s]\n",
      "100%|██████████| 10/10 [00:00<00:00, 164.64it/s]\n",
      "100%|██████████| 10/10 [00:00<00:00, 671.03it/s]\n",
      "100%|██████████| 10/10 [00:00<00:00, 245.72it/s]\n",
      "100%|██████████| 10/10 [00:00<00:00, 2223.09it/s]\n",
      "100%|██████████| 10/10 [00:00<00:00, 338.32it/s]\n",
      "100%|██████████| 10/10 [00:00<00:00, 2345.68it/s]\n"
     ]
    },
    {
     "name": "stdout",
     "output_type": "stream",
     "text": [
      "['20201129', '20201129']\n",
      "['20201120', '20201128']\n",
      "['20201130', '20201130']\n",
      "['20201121', '20201129']\n",
      "[0.5852090032154341, 364.0, 622]\n",
      "['20201201', '20201201']\n",
      "['20201122', '20201130']\n",
      "[0.6051779935275081, 374.0, 618]\n",
      "['20201202', '20201202']\n",
      "['20201123', '20201201']\n",
      "['20201203', '20201203']\n",
      "['20201124', '20201202']\n"
     ]
    },
    {
     "name": "stderr",
     "output_type": "stream",
     "text": [
      "100%|██████████| 10/10 [00:00<00:00, 402.64it/s]\n",
      "100%|██████████| 10/10 [00:00<00:00, 2333.02it/s]\n",
      "100%|██████████| 10/10 [00:00<00:00, 350.44it/s]\n",
      "100%|██████████| 10/10 [00:00<00:00, 299.71it/s]\n",
      "100%|██████████| 10/10 [00:00<00:00, 2239.83it/s]\n",
      "100%|██████████| 10/10 [00:00<00:00, 294.29it/s]\n",
      "100%|██████████| 10/10 [00:00<00:00, 2209.85it/s]\n",
      "100%|██████████| 10/10 [00:00<00:00, 2302.41it/s]\n",
      "  0%|          | 0/10 [00:00<?, ?it/s]"
     ]
    },
    {
     "name": "stdout",
     "output_type": "stream",
     "text": [
      "[0.5520504731861199, 350.0, 634]\n",
      "['20201204', '20201204']\n",
      "['20201125', '20201203']\n"
     ]
    },
    {
     "name": "stderr",
     "output_type": "stream",
     "text": [
      "100%|██████████| 10/10 [00:00<00:00, 302.76it/s]\n",
      "100%|██████████| 10/10 [00:00<00:00, 2393.19it/s]\n",
      "100%|██████████| 10/10 [00:00<00:00, 343.98it/s]\n",
      "100%|██████████| 10/10 [00:00<00:00, 2210.90it/s]\n",
      "100%|██████████| 10/10 [00:00<00:00, 393.43it/s]\n",
      "100%|██████████| 10/10 [00:00<00:00, 2425.29it/s]\n",
      "100%|██████████| 10/10 [00:00<00:00, 390.52it/s]\n",
      "100%|██████████| 10/10 [00:00<00:00, 339.00it/s]\n",
      "100%|██████████| 10/10 [00:00<00:00, 2220.38it/s]\n",
      "100%|██████████| 10/10 [00:00<00:00, 2154.24it/s]\n",
      "100%|██████████| 10/10 [00:00<00:00, 298.44it/s]\n",
      "100%|██████████| 10/10 [00:00<00:00, 2216.04it/s]\n"
     ]
    },
    {
     "name": "stdout",
     "output_type": "stream",
     "text": [
      "[0.5634920634920635, 355.0, 630]\n",
      "['20201205', '20201205']\n",
      "['20201126', '20201204']\n",
      "[0.6171617161716172, 374.0, 606]\n",
      "['20201206', '20201206']\n",
      "['20201127', '20201205']\n",
      "['20201207', '20201207']\n",
      "['20201128', '20201206']\n",
      "['20201208', '20201208']\n",
      "['20201129', '20201207']\n",
      "[0.54375, 348.0, 640]\n",
      "['20201209', '20201209']\n",
      "['20201130', '20201208']\n",
      "[0.5481832543443917, 347.0, 633]\n",
      "['20201210', '20201210']\n",
      "['20201201', '20201209']\n",
      "[0.54375, 348.0, 640]\n",
      "['20201211', '20201211']\n",
      "['20201202', '20201210']\n",
      "[0.5787781350482315, 360.0, 622]\n",
      "['20201212', '20201212']\n",
      "['20201203', '20201211']\n",
      "[0.5420560747663551, 347.99999999999994, 642]\n",
      "['20201213', '20201213']\n",
      "['20201204', '20201212']\n"
     ]
    },
    {
     "name": "stderr",
     "output_type": "stream",
     "text": [
      "100%|██████████| 10/10 [00:00<00:00, 270.29it/s]\n",
      "100%|██████████| 10/10 [00:00<00:00, 1983.78it/s]\n",
      "100%|██████████| 10/10 [00:00<00:00, 270.71it/s]\n",
      "100%|██████████| 10/10 [00:00<00:00, 300.72it/s]\n",
      "100%|██████████| 10/10 [00:00<00:00, 2013.59it/s]\n",
      "100%|██████████| 10/10 [00:00<00:00, 2046.80it/s]\n",
      "  0%|          | 0/10 [00:00<?, ?it/s]"
     ]
    },
    {
     "name": "stdout",
     "output_type": "stream",
     "text": [
      "['20201214', '20201214']\n",
      "['20201205', '20201213']\n",
      "['20201215', '20201215']\n",
      "['20201206', '20201214']\n"
     ]
    },
    {
     "name": "stderr",
     "output_type": "stream",
     "text": [
      "100%|██████████| 10/10 [00:00<00:00, 339.51it/s]\n",
      "100%|██████████| 10/10 [00:00<00:00, 2234.82it/s]\n",
      "100%|██████████| 10/10 [00:00<00:00, 333.07it/s]\n",
      "100%|██████████| 10/10 [00:00<00:00, 1897.79it/s]\n",
      "100%|██████████| 10/10 [00:00<00:00, 287.24it/s]\n",
      "100%|██████████| 10/10 [00:00<00:00, 2042.42it/s]\n"
     ]
    },
    {
     "name": "stdout",
     "output_type": "stream",
     "text": [
      "[0.5787781350482315, 360.0, 622]\n",
      "['20201216', '20201216']\n",
      "['20201207', '20201215']\n",
      "[0.5022488755622189, 335.0, 667]\n",
      "['20201217', '20201217']\n",
      "['20201208', '20201216']\n",
      "[0.5014970059880239, 335.0, 668]\n",
      "['20201218', '20201218']\n",
      "['20201209', '20201217']\n"
     ]
    },
    {
     "name": "stderr",
     "output_type": "stream",
     "text": [
      "100%|██████████| 10/10 [00:00<00:00, 268.83it/s]\n",
      "100%|██████████| 10/10 [00:00<00:00, 2152.58it/s]\n",
      "100%|██████████| 10/10 [00:00<00:00, 272.64it/s]\n",
      "100%|██████████| 10/10 [00:00<00:00, 2205.67it/s]\n",
      "100%|██████████| 10/10 [00:00<00:00, 356.24it/s]\n",
      "100%|██████████| 10/10 [00:00<00:00, 2957.07it/s]\n"
     ]
    },
    {
     "name": "stdout",
     "output_type": "stream",
     "text": [
      "[0.5464396284829721, 353.0, 646]\n",
      "['20201219', '20201219']\n",
      "['20201210', '20201218']\n",
      "[0.5377503852080123, 349.0, 649]\n",
      "['20201220', '20201220']\n",
      "['20201211', '20201219']\n",
      "[0.5408320493066255, 351.0, 649]\n",
      "['20201221', '20201221']\n",
      "['20201212', '20201220']\n",
      "[0.5464396284829721, 353.0, 646]\n",
      "['20201222', '20201222']\n",
      "['20201213', '20201221']\n",
      "['20201223', '20201223']\n",
      "['20201214', '20201222']\n",
      "[0.5376344086021505, 350.0, 651]\n",
      "['20201224', '20201224']\n",
      "['20201215', '20201223']\n"
     ]
    },
    {
     "name": "stderr",
     "output_type": "stream",
     "text": [
      "100%|██████████| 10/10 [00:00<00:00, 239.74it/s]\n",
      "100%|██████████| 10/10 [00:00<00:00, 1287.35it/s]\n",
      "100%|██████████| 10/10 [00:00<00:00, 326.32it/s]\n",
      "100%|██████████| 10/10 [00:00<00:00, 271.16it/s]\n",
      "100%|██████████| 10/10 [00:00<00:00, 2236.13it/s]\n",
      "100%|██████████| 10/10 [00:00<00:00, 278.66it/s]\n",
      "100%|██████████| 10/10 [00:00<00:00, 1191.53it/s]\n",
      "100%|██████████| 10/10 [00:00<00:00, 2253.31it/s]\n",
      "100%|██████████| 10/10 [00:00<00:00, 283.05it/s]\n",
      "100%|██████████| 10/10 [00:00<00:00, 1611.15it/s]\n",
      "100%|██████████| 10/10 [00:00<00:00, 123.08it/s]\n",
      "100%|██████████| 10/10 [00:00<00:00, 1742.98it/s]\n",
      "100%|██████████| 10/10 [00:00<00:00, 288.83it/s]\n",
      "100%|██████████| 10/10 [00:00<00:00, 1619.61it/s]\n",
      "100%|██████████| 10/10 [00:00<00:00, 368.39it/s]\n",
      "100%|██████████| 10/10 [00:00<00:00, 2325.90it/s]\n"
     ]
    },
    {
     "name": "stdout",
     "output_type": "stream",
     "text": [
      "['20201225', '20201225']\n",
      "['20201216', '20201224']\n",
      "['20201226', '20201226']\n",
      "['20201217', '20201225']\n",
      "['20201227', '20201227']\n",
      "['20201218', '20201226']\n",
      "[0.5964052287581699, 365.0, 612]\n",
      "['20201228', '20201228']\n",
      "['20201219', '20201227']\n",
      "['20201229', '20201229']\n",
      "['20201220', '20201228']\n"
     ]
    },
    {
     "name": "stderr",
     "output_type": "stream",
     "text": [
      "100%|██████████| 10/10 [00:00<00:00, 427.83it/s]\n",
      "100%|██████████| 10/10 [00:00<00:00, 2166.59it/s]\n",
      "100%|██████████| 10/10 [00:00<00:00, 419.15it/s]\n",
      "100%|██████████| 10/10 [00:00<00:00, 2425.43it/s]\n",
      "100%|██████████| 10/10 [00:00<00:00, 358.87it/s]\n",
      "100%|██████████| 10/10 [00:00<00:00, 2200.00it/s]\n"
     ]
    },
    {
     "name": "stdout",
     "output_type": "stream",
     "text": [
      "[0.513595166163142, 340.00000000000006, 662]\n",
      "['20201230', '20201230']\n",
      "['20201221', '20201229']\n",
      "[0.5372670807453416, 346.0, 644]\n",
      "['20201231', '20201231']\n",
      "['20201222', '20201230']\n",
      "[0.5964052287581699, 365.0, 612]\n",
      "['20210101', '20210101']\n",
      "['20201223', '20201231']\n"
     ]
    },
    {
     "name": "stderr",
     "output_type": "stream",
     "text": [
      "100%|██████████| 10/10 [00:00<00:00, 322.69it/s]\n",
      "100%|██████████| 10/10 [00:00<00:00, 2319.22it/s]\n",
      "100%|██████████| 10/10 [00:00<00:00, 300.49it/s]\n",
      "100%|██████████| 10/10 [00:00<00:00, 310.50it/s]\n",
      "100%|██████████| 10/10 [00:00<00:00, 1891.54it/s]\n",
      "100%|██████████| 10/10 [00:00<00:00, 2025.84it/s]\n"
     ]
    },
    {
     "name": "stdout",
     "output_type": "stream",
     "text": [
      "[0.5045045045045045, 335.99999999999994, 666]\n",
      "['20210102', '20210102']\n",
      "['20201224', '20210101']\n",
      "[0.5434782608695652, 350.0, 644]\n",
      "['20210103', '20210103']\n",
      "['20201225', '20210102']\n",
      "['20210104', '20210104']\n",
      "['20201226', '20210103']\n",
      "['20210105', '20210105']\n",
      "['20201227', '20210104']\n"
     ]
    },
    {
     "name": "stderr",
     "output_type": "stream",
     "text": [
      "100%|██████████| 10/10 [00:00<00:00, 283.56it/s]\n",
      "100%|██████████| 10/10 [00:00<00:00, 1932.68it/s]\n",
      "100%|██████████| 10/10 [00:00<00:00, 416.41it/s]\n",
      "100%|██████████| 10/10 [00:00<00:00, 2467.82it/s]\n",
      "100%|██████████| 10/10 [00:00<00:00, 359.28it/s]\n",
      "100%|██████████| 10/10 [00:00<00:00, 2367.66it/s]\n",
      "100%|██████████| 10/10 [00:00<00:00, 292.07it/s]\n"
     ]
    },
    {
     "name": "stdout",
     "output_type": "stream",
     "text": [
      "[0.5044642857142857, 339.0, 672]\n",
      "['20210106', '20210106']\n",
      "['20201228', '20210105']\n",
      "[0.5434782608695652, 350.0, 644]\n",
      "['20210107', '20210107']\n",
      "['20201229', '20210106']\n"
     ]
    },
    {
     "name": "stderr",
     "output_type": "stream",
     "text": [
      "100%|██████████| 10/10 [00:00<00:00, 2271.12it/s]\n",
      "100%|██████████| 10/10 [00:00<00:00, 199.48it/s]\n",
      "100%|██████████| 10/10 [00:00<00:00, 1663.75it/s]\n",
      "100%|██████████| 10/10 [00:00<00:00, 217.48it/s]\n",
      "100%|██████████| 10/10 [00:00<00:00, 2030.65it/s]\n"
     ]
    },
    {
     "name": "stdout",
     "output_type": "stream",
     "text": [
      "[0.5111441307578009, 344.0, 673]\n",
      "['20210108', '20210108']\n",
      "['20201230', '20210107']\n"
     ]
    },
    {
     "name": "stderr",
     "output_type": "stream",
     "text": [
      "100%|██████████| 10/10 [00:00<00:00, 292.42it/s]\n",
      "100%|██████████| 10/10 [00:00<00:00, 2180.67it/s]\n",
      "100%|██████████| 10/10 [00:00<00:00, 351.89it/s]\n",
      "100%|██████████| 10/10 [00:00<00:00, 272.42it/s]\n",
      "100%|██████████| 10/10 [00:00<00:00, 2243.06it/s]\n",
      "100%|██████████| 10/10 [00:00<00:00, 1868.12it/s]\n",
      "100%|██████████| 10/10 [00:00<00:00, 350.08it/s]\n",
      "100%|██████████| 10/10 [00:00<00:00, 288.67it/s]\n",
      "100%|██████████| 10/10 [00:00<00:00, 2319.60it/s]\n",
      "100%|██████████| 10/10 [00:00<00:00, 2259.50it/s]\n"
     ]
    },
    {
     "name": "stdout",
     "output_type": "stream",
     "text": [
      "[0.5226586102719033, 346.0, 662]\n",
      "['20210109', '20210109']\n",
      "['20201231', '20210108']\n",
      "[0.5366614664586583, 344.0, 641]\n",
      "['20210110', '20210110']\n",
      "['20210101', '20210109']\n",
      "['20210111', '20210111']\n",
      "['20210102', '20210110']\n",
      "['20210112', '20210112']\n",
      "['20210103', '20210111']\n",
      "[0.5366614664586583, 344.0, 641]\n",
      "['20210113', '20210113']\n",
      "['20210104', '20210112']\n",
      "[0.553125, 354.0, 640]\n",
      "['20210114', '20210114']\n",
      "['20210105', '20210113']\n"
     ]
    },
    {
     "name": "stderr",
     "output_type": "stream",
     "text": [
      "100%|██████████| 10/10 [00:00<00:00, 285.77it/s]\n",
      "100%|██████████| 10/10 [00:00<00:00, 292.68it/s]\n",
      "100%|██████████| 10/10 [00:00<00:00, 2147.18it/s]\n",
      "100%|██████████| 10/10 [00:00<00:00, 2155.57it/s]\n"
     ]
    },
    {
     "name": "stdout",
     "output_type": "stream",
     "text": [
      "[0.517557251908397, 339.0, 655]\n",
      "['20210115', '20210115']\n",
      "['20210106', '20210114']\n",
      "[0.6462585034013606, 380.00000000000006, 588]\n",
      "['20210116', '20210116']\n",
      "['20210107', '20210115']\n"
     ]
    },
    {
     "name": "stderr",
     "output_type": "stream",
     "text": [
      "100%|██████████| 10/10 [00:00<00:00, 249.34it/s]\n",
      "100%|██████████| 10/10 [00:00<00:00, 1687.37it/s]\n",
      "100%|██████████| 10/10 [00:00<00:00, 445.07it/s]\n",
      "100%|██████████| 10/10 [00:00<00:00, 2230.78it/s]\n",
      "  0%|          | 0/10 [00:00<?, ?it/s]"
     ]
    },
    {
     "name": "stdout",
     "output_type": "stream",
     "text": [
      "[0.5467289719626168, 351.0, 642]\n",
      "['20210117', '20210117']\n",
      "['20210108', '20210116']\n",
      "['20210118', '20210118']\n",
      "['20210109', '20210117']\n",
      "[0.5286821705426357, 341.0, 645]\n",
      "['20210119', '20210119']\n",
      "['20210110', '20210118']\n",
      "[0.6462585034013606, 380.00000000000006, 588]\n",
      "['20210120', '20210120']\n",
      "['20210111', '20210119']\n",
      "['20210121', '20210121']\n",
      "['20210112', '20210120']\n"
     ]
    },
    {
     "name": "stderr",
     "output_type": "stream",
     "text": [
      "100%|██████████| 10/10 [00:00<00:00, 262.93it/s]\n",
      "100%|██████████| 10/10 [00:00<00:00, 301.93it/s]\n",
      "100%|██████████| 10/10 [00:00<00:00, 1632.15it/s]\n",
      "100%|██████████| 10/10 [00:00<00:00, 175.68it/s]\n",
      "100%|██████████| 10/10 [00:00<00:00, 2216.51it/s]\n",
      "100%|██████████| 10/10 [00:00<00:00, 1781.10it/s]\n",
      "100%|██████████| 10/10 [00:00<00:00, 208.44it/s]\n",
      "100%|██████████| 10/10 [00:00<00:00, 1621.80it/s]\n",
      "100%|██████████| 10/10 [00:00<00:00, 285.26it/s]\n",
      "100%|██████████| 10/10 [00:00<00:00, 2112.15it/s]\n",
      "  0%|          | 0/10 [00:00<?, ?it/s]"
     ]
    },
    {
     "name": "stdout",
     "output_type": "stream",
     "text": [
      "[0.5879478827361564, 361.0, 614]\n",
      "['20210122', '20210122']\n",
      "['20210113', '20210121']\n",
      "[0.5467289719626168, 351.0, 642]\n",
      "['20210123', '20210123']\n",
      "['20210114', '20210122']\n",
      "['20210124', '20210124']\n",
      "['20210115', '20210123']\n"
     ]
    },
    {
     "name": "stderr",
     "output_type": "stream",
     "text": [
      "100%|██████████| 10/10 [00:00<00:00, 290.10it/s]\n",
      "100%|██████████| 10/10 [00:00<00:00, 2098.31it/s]\n",
      "100%|██████████| 10/10 [00:00<00:00, 301.00it/s]\n",
      "100%|██████████| 10/10 [00:00<00:00, 2120.69it/s]\n",
      "100%|██████████| 10/10 [00:00<00:00, 324.90it/s]\n"
     ]
    },
    {
     "name": "stdout",
     "output_type": "stream",
     "text": [
      "[0.5515055467511886, 348.0, 631]\n",
      "['20210125', '20210125']\n",
      "['20210116', '20210124']\n",
      "['20210126', '20210126']\n",
      "['20210117', '20210125']\n",
      "[0.5075301204819277, 337.0, 664]\n",
      "['20210127', '20210127']\n",
      "['20210118', '20210126']\n",
      "['20210128', '20210128']\n",
      "['20210119', '20210127']\n"
     ]
    },
    {
     "name": "stderr",
     "output_type": "stream",
     "text": [
      "100%|██████████| 10/10 [00:00<00:00, 342.67it/s]\n",
      "100%|██████████| 10/10 [00:00<00:00, 2268.29it/s]\n",
      "100%|██████████| 10/10 [00:00<00:00, 1957.67it/s]\n",
      "100%|██████████| 10/10 [00:00<00:00, 359.82it/s]\n",
      "100%|██████████| 10/10 [00:00<00:00, 2053.11it/s]\n",
      "100%|██████████| 10/10 [00:00<00:00, 321.58it/s]\n",
      "100%|██████████| 10/10 [00:00<00:00, 2047.70it/s]\n",
      "100%|██████████| 10/10 [00:00<00:00, 318.48it/s]\n",
      "100%|██████████| 10/10 [00:00<00:00, 2190.01it/s]\n"
     ]
    },
    {
     "name": "stdout",
     "output_type": "stream",
     "text": [
      "[0.4947526236881559, 330.0, 667]\n",
      "['20210129', '20210129']\n",
      "['20210120', '20210128']\n"
     ]
    },
    {
     "name": "stderr",
     "output_type": "stream",
     "text": [
      "100%|██████████| 10/10 [00:00<00:00, 329.09it/s]\n",
      "100%|██████████| 10/10 [00:00<00:00, 2252.22it/s]\n",
      "100%|██████████| 10/10 [00:00<00:00, 170.32it/s]\n",
      "100%|██████████| 10/10 [00:00<00:00, 2379.88it/s]\n",
      "100%|██████████| 10/10 [00:00<00:00, 429.28it/s]\n",
      "100%|██████████| 10/10 [00:00<00:00, 434.94it/s]\n",
      "100%|██████████| 10/10 [00:00<00:00, 2394.69it/s]\n",
      "100%|██████████| 10/10 [00:00<00:00, 2362.06it/s]\n"
     ]
    },
    {
     "name": "stdout",
     "output_type": "stream",
     "text": [
      "[0.4948453608247423, 336.0, 679]\n",
      "['20210130', '20210130']\n",
      "['20210121', '20210129']\n",
      "[0.49851632047477745, 336.0, 674]\n",
      "['20210131', '20210131']\n",
      "['20210122', '20210130']\n",
      "['20210201', '20210201']\n",
      "['20210123', '20210131']\n",
      "['20210202', '20210202']\n",
      "['20210124', '20210201']\n",
      "[0.5233082706766917, 348.0, 665]\n",
      "['20210203', '20210203']\n",
      "['20210125', '20210202']\n"
     ]
    },
    {
     "name": "stderr",
     "output_type": "stream",
     "text": [
      "100%|██████████| 10/10 [00:00<00:00, 331.97it/s]\n",
      "100%|██████████| 10/10 [00:00<00:00, 2285.60it/s]\n",
      "100%|██████████| 10/10 [00:00<00:00, 272.69it/s]\n",
      "100%|██████████| 10/10 [00:00<00:00, 1631.77it/s]\n",
      "100%|██████████| 10/10 [00:00<00:00, 321.81it/s]\n",
      "100%|██████████| 10/10 [00:00<00:00, 153.97it/s]\n",
      "100%|██████████| 10/10 [00:00<00:00, 2048.30it/s]\n",
      "100%|██████████| 10/10 [00:00<00:00, 2283.36it/s]\n"
     ]
    },
    {
     "name": "stdout",
     "output_type": "stream",
     "text": [
      "[0.4970674486803519, 339.0, 682]\n",
      "['20210204', '20210204']\n",
      "['20210126', '20210203']\n",
      "[0.5233082706766917, 348.0, 665]\n",
      "['20210205', '20210205']\n",
      "['20210127', '20210204']\n"
     ]
    },
    {
     "name": "stderr",
     "output_type": "stream",
     "text": [
      "100%|██████████| 10/10 [00:00<00:00, 328.29it/s]\n",
      "100%|██████████| 10/10 [00:00<00:00, 2362.06it/s]\n",
      "100%|██████████| 10/10 [00:00<00:00, 376.24it/s]\n",
      "100%|██████████| 10/10 [00:00<00:00, 2413.57it/s]\n",
      "  0%|          | 0/10 [00:00<?, ?it/s]"
     ]
    },
    {
     "name": "stdout",
     "output_type": "stream",
     "text": [
      "[0.518796992481203, 345.0, 665]\n",
      "['20210206', '20210206']\n",
      "['20210128', '20210205']\n",
      "['20210207', '20210207']\n",
      "['20210129', '20210206']\n",
      "['20210208', '20210208']\n",
      "['20210130', '20210207']\n"
     ]
    },
    {
     "name": "stderr",
     "output_type": "stream",
     "text": [
      "100%|██████████| 10/10 [00:00<00:00, 351.80it/s]\n",
      "100%|██████████| 10/10 [00:00<00:00, 2311.93it/s]\n",
      "100%|██████████| 10/10 [00:00<00:00, 308.46it/s]\n",
      "100%|██████████| 10/10 [00:00<00:00, 2310.15it/s]\n",
      "100%|██████████| 10/10 [00:00<00:00, 277.77it/s]\n",
      "100%|██████████| 10/10 [00:00<00:00, 2034.79it/s]\n"
     ]
    },
    {
     "name": "stdout",
     "output_type": "stream",
     "text": [
      "[0.5766773162939297, 361.0, 626]\n",
      "['20210209', '20210209']\n",
      "['20210131', '20210208']\n",
      "[0.5766773162939297, 361.0, 626]\n",
      "['20210210', '20210210']\n",
      "['20210201', '20210209']\n",
      "[0.5609375, 359.0, 640]\n",
      "['20210211', '20210211']\n",
      "['20210202', '20210210']\n",
      "[0.5567651632970451, 358.0, 643]\n",
      "['20210212', '20210212']\n",
      "['20210203', '20210211']\n"
     ]
    },
    {
     "name": "stderr",
     "output_type": "stream",
     "text": [
      "100%|██████████| 10/10 [00:00<00:00, 279.66it/s]\n",
      "100%|██████████| 10/10 [00:00<00:00, 278.07it/s]\n",
      "100%|██████████| 10/10 [00:00<00:00, 2054.32it/s]\n",
      "100%|██████████| 10/10 [00:00<00:00, 2247.75it/s]\n"
     ]
    },
    {
     "name": "stdout",
     "output_type": "stream",
     "text": [
      "[0.598694942903752, 367.0, 613]\n",
      "['20210213', '20210213']\n",
      "['20210204', '20210212']\n",
      "[0.5707472178060413, 359.0, 629]\n",
      "['20210214', '20210214']\n",
      "['20210205', '20210213']\n",
      "['20210215', '20210215']\n",
      "['20210206', '20210214']\n",
      "['20210216', '20210216']\n",
      "['20210207', '20210215']\n",
      "[0.6003236245954693, 371.0, 618]\n",
      "['20210217', '20210217']\n",
      "['20210208', '20210216']\n",
      "[0.5579937304075235, 356.0, 638]\n",
      "['20210218', '20210218']\n",
      "['20210209', '20210217']\n"
     ]
    },
    {
     "name": "stderr",
     "output_type": "stream",
     "text": [
      "100%|██████████| 10/10 [00:00<00:00, 381.53it/s]\n",
      "100%|██████████| 10/10 [00:00<00:00, 2996.15it/s]\n",
      "100%|██████████| 10/10 [00:00<00:00, 353.02it/s]\n",
      "100%|██████████| 10/10 [00:00<00:00, 2209.39it/s]\n",
      "100%|██████████| 10/10 [00:00<00:00, 414.67it/s]\n",
      "100%|██████████| 10/10 [00:00<00:00, 1995.48it/s]\n",
      "100%|██████████| 10/10 [00:00<00:00, 313.03it/s]\n",
      "100%|██████████| 10/10 [00:00<00:00, 2162.68it/s]\n",
      "100%|██████████| 10/10 [00:00<00:00, 226.92it/s]\n",
      "100%|██████████| 10/10 [00:00<00:00, 250.01it/s]\n",
      "100%|██████████| 10/10 [00:00<00:00, 2004.25it/s]\n",
      "100%|██████████| 10/10 [00:00<00:00, 2070.65it/s]\n",
      "100%|██████████| 10/10 [00:00<00:00, 276.75it/s]\n",
      "100%|██████████| 10/10 [00:00<00:00, 2192.64it/s]\n"
     ]
    },
    {
     "name": "stdout",
     "output_type": "stream",
     "text": [
      "[0.5945072697899838, 368.0, 619]\n",
      "['20210219', '20210219']\n",
      "['20210210', '20210218']\n",
      "[0.6615646258503401, 389.0, 588]\n",
      "['20210220', '20210220']\n",
      "['20210211', '20210219']\n",
      "['20210221', '20210221']\n",
      "['20210212', '20210220']\n"
     ]
    },
    {
     "name": "stderr",
     "output_type": "stream",
     "text": [
      "100%|██████████| 10/10 [00:00<00:00, 309.15it/s]\n",
      "100%|██████████| 10/10 [00:00<00:00, 2241.15it/s]\n",
      "100%|██████████| 10/10 [00:00<00:00, 337.08it/s]\n",
      "100%|██████████| 10/10 [00:00<00:00, 1829.10it/s]\n",
      "100%|██████████| 10/10 [00:00<00:00, 323.94it/s]\n",
      "100%|██████████| 10/10 [00:00<00:00, 307.57it/s]\n",
      "100%|██████████| 10/10 [00:00<00:00, 1903.30it/s]\n",
      "100%|██████████| 10/10 [00:00<00:00, 2236.49it/s]\n",
      "100%|██████████| 10/10 [00:00<00:00, 235.18it/s]\n",
      "100%|██████████| 10/10 [00:00<00:00, 2004.64it/s]\n"
     ]
    },
    {
     "name": "stdout",
     "output_type": "stream",
     "text": [
      "[0.6118421052631579, 372.0, 608]\n",
      "['20210222', '20210222']\n",
      "['20210213', '20210221']\n",
      "['20210223', '20210223']\n",
      "['20210214', '20210222']\n",
      "[0.5646687697160884, 358.0, 634]\n",
      "['20210224', '20210224']\n",
      "['20210215', '20210223']\n",
      "[0.5770440251572327, 367.0, 636]\n",
      "['20210225', '20210225']\n",
      "['20210216', '20210224']\n",
      "[0.6615646258503401, 389.0, 588]\n",
      "['20210226', '20210226']\n",
      "['20210217', '20210225']\n",
      "[0.6038961038961039, 372.0, 616]\n",
      "['20210227', '20210227']\n",
      "['20210218', '20210226']\n",
      "['20210228', '20210228']\n",
      "['20210219', '20210227']\n"
     ]
    },
    {
     "name": "stderr",
     "output_type": "stream",
     "text": [
      "100%|██████████| 10/10 [00:00<00:00, 275.09it/s]\n",
      "100%|██████████| 10/10 [00:00<00:00, 266.96it/s]\n",
      "100%|██████████| 10/10 [00:00<00:00, 2114.28it/s]\n",
      "100%|██████████| 10/10 [00:00<00:00, 2038.25it/s]\n",
      "100%|██████████| 10/10 [00:00<00:00, 301.70it/s]\n",
      "100%|██████████| 10/10 [00:00<00:00, 2267.93it/s]\n",
      "100%|██████████| 10/10 [00:00<00:00, 352.47it/s]\n",
      "100%|██████████| 10/10 [00:00<00:00, 2290.47it/s]\n",
      "100%|██████████| 10/10 [00:00<00:00, 344.10it/s]\n",
      "100%|██████████| 10/10 [00:00<00:00, 308.39it/s]\n",
      "100%|██████████| 10/10 [00:00<00:00, 2262.79it/s]\n",
      "100%|██████████| 10/10 [00:00<00:00, 2085.58it/s]\n",
      "  0%|          | 0/10 [00:00<?, ?it/s]"
     ]
    },
    {
     "name": "stdout",
     "output_type": "stream",
     "text": [
      "[0.5770440251572327, 367.0, 636]\n",
      "['20210301', '20210301']\n",
      "['20210220', '20210228']\n",
      "['20210302', '20210302']\n",
      "['20210221', '20210301']\n",
      "[0.5483870967741935, 357.0, 651]\n",
      "['20210303', '20210303']\n",
      "['20210222', '20210302']\n"
     ]
    },
    {
     "name": "stderr",
     "output_type": "stream",
     "text": [
      "100%|██████████| 10/10 [00:00<00:00, 292.05it/s]\n",
      "100%|██████████| 10/10 [00:00<00:00, 1993.87it/s]\n",
      "100%|██████████| 10/10 [00:00<00:00, 241.36it/s]\n",
      "100%|██████████| 10/10 [00:00<00:00, 1680.28it/s]\n",
      "  0%|          | 0/10 [00:00<?, ?it/s]"
     ]
    },
    {
     "name": "stdout",
     "output_type": "stream",
     "text": [
      "[0.5536277602523659, 351.0, 634]\n",
      "['20210304', '20210304']\n",
      "['20210223', '20210303']\n",
      "[0.536697247706422, 351.0, 654]\n",
      "['20210305', '20210305']\n",
      "['20210224', '20210304']\n"
     ]
    },
    {
     "name": "stderr",
     "output_type": "stream",
     "text": [
      "100%|██████████| 10/10 [00:00<00:00, 188.02it/s]\n",
      "100%|██████████| 10/10 [00:00<00:00, 1862.40it/s]\n"
     ]
    },
    {
     "name": "stdout",
     "output_type": "stream",
     "text": [
      "[0.5536277602523659, 351.0, 634]\n",
      "['20210306', '20210306']\n",
      "['20210225', '20210305']\n",
      "[0.5314900153609831, 345.99999999999994, 651]\n",
      "['20210307', '20210307']\n",
      "['20210226', '20210306']\n",
      "['20210308', '20210308']\n",
      "['20210227', '20210307']\n",
      "['20210309', '20210309']\n",
      "['20210228', '20210308']\n"
     ]
    },
    {
     "name": "stderr",
     "output_type": "stream",
     "text": [
      "100%|██████████| 10/10 [00:00<00:00, 310.51it/s]\n",
      "100%|██████████| 10/10 [00:00<00:00, 2019.31it/s]\n",
      "100%|██████████| 10/10 [00:00<00:00, 351.79it/s]\n",
      "100%|██████████| 10/10 [00:00<00:00, 2305.20it/s]\n",
      "100%|██████████| 10/10 [00:00<00:00, 348.16it/s]\n",
      "100%|██████████| 10/10 [00:00<00:00, 2125.10it/s]\n",
      "100%|██████████| 10/10 [00:00<00:00, 300.49it/s]\n",
      "100%|██████████| 10/10 [00:00<00:00, 2176.26it/s]\n",
      "100%|██████████| 10/10 [00:00<00:00, 337.89it/s]\n",
      "100%|██████████| 10/10 [00:00<00:00, 2946.06it/s]\n",
      "100%|██████████| 10/10 [00:00<00:00, 311.72it/s]\n",
      "100%|██████████| 10/10 [00:00<00:00, 2251.01it/s]\n",
      "  0%|          | 0/10 [00:00<?, ?it/s]"
     ]
    },
    {
     "name": "stdout",
     "output_type": "stream",
     "text": [
      "[0.5268817204301075, 343.0, 651]\n",
      "['20210310', '20210310']\n",
      "['20210301', '20210309']\n",
      "[0.5319148936170213, 350.0, 658]\n",
      "['20210311', '20210311']\n",
      "['20210302', '20210310']\n",
      "[0.5276073619631901, 343.99999999999994, 652]\n",
      "['20210312', '20210312']\n",
      "['20210303', '20210311']\n",
      "['20210313', '20210313']\n",
      "['20210304', '20210312']\n"
     ]
    },
    {
     "name": "stderr",
     "output_type": "stream",
     "text": [
      "100%|██████████| 10/10 [00:00<00:00, 383.40it/s]\n",
      "100%|██████████| 10/10 [00:00<00:00, 2159.34it/s]\n",
      "100%|██████████| 10/10 [00:00<00:00, 342.06it/s]\n",
      "100%|██████████| 10/10 [00:00<00:00, 2297.62it/s]\n",
      "100%|██████████| 10/10 [00:00<00:00, 407.82it/s]\n",
      "100%|██████████| 10/10 [00:00<00:00, 2150.59it/s]\n"
     ]
    },
    {
     "name": "stdout",
     "output_type": "stream",
     "text": [
      "['20210314', '20210314']\n",
      "['20210305', '20210313']\n",
      "['20210315', '20210315']\n",
      "['20210306', '20210314']\n"
     ]
    },
    {
     "name": "stderr",
     "output_type": "stream",
     "text": [
      "100%|██████████| 10/10 [00:00<00:00, 420.02it/s]\n",
      "100%|██████████| 10/10 [00:00<00:00, 2181.13it/s]\n"
     ]
    },
    {
     "name": "stdout",
     "output_type": "stream",
     "text": [
      "[0.5624012638230648, 356.0, 633]\n",
      "['20210316', '20210316']\n",
      "['20210307', '20210315']\n",
      "[0.5624012638230648, 356.0, 633]\n",
      "['20210317', '20210317']\n",
      "['20210308', '20210316']\n"
     ]
    },
    {
     "name": "stderr",
     "output_type": "stream",
     "text": [
      "100%|██████████| 10/10 [00:00<00:00, 311.86it/s]\n",
      "100%|██████████| 10/10 [00:00<00:00, 2357.81it/s]\n",
      "100%|██████████| 10/10 [00:00<00:00, 260.35it/s]\n",
      "100%|██████████| 10/10 [00:00<00:00, 1953.93it/s]\n",
      "100%|██████████| 10/10 [00:00<00:00, 296.39it/s]\n",
      "100%|██████████| 10/10 [00:00<00:00, 2324.49it/s]\n",
      "100%|██████████| 10/10 [00:00<00:00, 308.32it/s]\n",
      "  0%|          | 0/10 [00:00<?, ?it/s]"
     ]
    },
    {
     "name": "stdout",
     "output_type": "stream",
     "text": [
      "[0.5743670886075949, 362.99999999999994, 632]\n",
      "['20210318', '20210318']\n",
      "['20210309', '20210317']\n",
      "[0.5390505359877489, 352.0, 653]\n",
      "['20210319', '20210319']\n",
      "['20210310', '20210318']\n",
      "[0.5409582689335394, 350.0, 647]\n",
      "['20210320', '20210320']\n",
      "['20210311', '20210319']\n"
     ]
    },
    {
     "name": "stderr",
     "output_type": "stream",
     "text": [
      "100%|██████████| 10/10 [00:00<00:00, 1847.63it/s]\n",
      "100%|██████████| 10/10 [00:00<00:00, 311.79it/s]\n",
      "100%|██████████| 10/10 [00:00<00:00, 2138.75it/s]\n",
      "100%|██████████| 10/10 [00:00<00:00, 356.69it/s]\n",
      "100%|██████████| 10/10 [00:00<00:00, 353.52it/s]\n",
      "  0%|          | 0/10 [00:00<?, ?it/s]"
     ]
    },
    {
     "name": "stdout",
     "output_type": "stream",
     "text": [
      "[0.5369532428355958, 356.0, 663]\n",
      "['20210321', '20210321']\n",
      "['20210312', '20210320']\n",
      "['20210322', '20210322']\n",
      "['20210313', '20210321']\n",
      "[0.5254237288135594, 341.0, 649]\n",
      "['20210323', '20210323']\n",
      "['20210314', '20210322']\n",
      "['20210324', '20210324']\n",
      "['20210315', '20210323']\n"
     ]
    },
    {
     "name": "stderr",
     "output_type": "stream",
     "text": [
      "100%|██████████| 10/10 [00:00<00:00, 2119.94it/s]\n",
      "100%|██████████| 10/10 [00:00<00:00, 2305.70it/s]\n",
      "100%|██████████| 10/10 [00:00<00:00, 310.48it/s]\n",
      "100%|██████████| 10/10 [00:00<00:00, 2259.62it/s]\n",
      "100%|██████████| 10/10 [00:00<00:00, 277.56it/s]\n",
      "100%|██████████| 10/10 [00:00<00:00, 2255.49it/s]\n"
     ]
    },
    {
     "name": "stdout",
     "output_type": "stream",
     "text": [
      "[0.5743670886075949, 362.99999999999994, 632]\n",
      "['20210325', '20210325']\n",
      "['20210316', '20210324']\n",
      "[0.5164179104477612, 346.0, 670]\n",
      "['20210326', '20210326']\n",
      "['20210317', '20210325']\n",
      "[0.5216095380029806, 350.0, 671]\n",
      "['20210327', '20210327']\n",
      "['20210318', '20210326']\n",
      "[0.5662460567823344, 359.0, 634]\n",
      "['20210328', '20210328']\n",
      "['20210319', '20210327']\n",
      "[0.5662460567823344, 359.0, 634]\n",
      "['20210329', '20210329']\n",
      "['20210320', '20210328']\n",
      "['20210330', '20210330']\n",
      "['20210321', '20210329']\n"
     ]
    },
    {
     "name": "stderr",
     "output_type": "stream",
     "text": [
      "100%|██████████| 10/10 [00:00<00:00, 266.73it/s]\n",
      "100%|██████████| 10/10 [00:00<00:00, 233.18it/s]\n",
      "100%|██████████| 10/10 [00:00<00:00, 2132.44it/s]\n",
      "100%|██████████| 10/10 [00:00<00:00, 1538.07it/s]\n",
      "100%|██████████| 10/10 [00:00<00:00, 301.82it/s]\n",
      "100%|██████████| 10/10 [00:00<00:00, 2680.24it/s]\n",
      "100%|██████████| 10/10 [00:00<00:00, 280.24it/s]\n",
      "100%|██████████| 10/10 [00:00<00:00, 2299.63it/s]\n",
      "100%|██████████| 10/10 [00:00<00:00, 380.51it/s]\n",
      "100%|██████████| 10/10 [00:00<00:00, 2192.76it/s]\n",
      "100%|██████████| 10/10 [00:00<00:00, 405.68it/s]\n",
      "100%|██████████| 10/10 [00:00<00:00, 3051.07it/s]\n",
      "100%|██████████| 10/10 [00:00<00:00, 256.46it/s]\n",
      "100%|██████████| 10/10 [00:00<00:00, 304.00it/s]\n",
      "100%|██████████| 10/10 [00:00<00:00, 2999.36it/s]\n",
      "100%|██████████| 10/10 [00:00<00:00, 2101.78it/s]\n"
     ]
    },
    {
     "name": "stdout",
     "output_type": "stream",
     "text": [
      "['20210331', '20210331']\n",
      "['20210322', '20210330']\n",
      "['20210401', '20210401']\n",
      "['20210323', '20210331']\n",
      "[0.5328244274809161, 349.00000000000006, 655]\n",
      "['20210402', '20210402']\n",
      "['20210324', '20210401']\n",
      "[0.5502318392581144, 356.0, 647]\n",
      "['20210403', '20210403']\n",
      "['20210325', '20210402']\n",
      "['20210404', '20210404']\n",
      "['20210326', '20210403']\n",
      "['20210405', '20210405']\n",
      "['20210327', '20210404']\n",
      "['20210406', '20210406']\n",
      "['20210328', '20210405']\n"
     ]
    },
    {
     "name": "stderr",
     "output_type": "stream",
     "text": [
      "100%|██████████| 10/10 [00:00<00:00, 361.58it/s]\n",
      "100%|██████████| 10/10 [00:00<00:00, 2327.58it/s]\n",
      "100%|██████████| 10/10 [00:00<00:00, 416.07it/s]\n",
      "100%|██████████| 10/10 [00:00<00:00, 2302.92it/s]\n",
      "100%|██████████| 10/10 [00:00<00:00, 500.07it/s]\n",
      "100%|██████████| 10/10 [00:00<00:00, 2508.86it/s]\n",
      "100%|██████████| 10/10 [00:00<00:00, 484.13it/s]\n",
      "100%|██████████| 10/10 [00:00<00:00, 2385.16it/s]\n",
      "100%|██████████| 10/10 [00:00<00:00, 410.86it/s]\n",
      "100%|██████████| 10/10 [00:00<00:00, 2331.72it/s]\n"
     ]
    },
    {
     "name": "stdout",
     "output_type": "stream",
     "text": [
      "[0.6227347611202636, 378.0, 607]\n",
      "['20210407', '20210407']\n",
      "['20210329', '20210406']\n"
     ]
    },
    {
     "name": "stderr",
     "output_type": "stream",
     "text": [
      "100%|██████████| 10/10 [00:00<00:00, 362.83it/s]\n",
      "100%|██████████| 10/10 [00:00<00:00, 2362.19it/s]\n"
     ]
    },
    {
     "name": "stdout",
     "output_type": "stream",
     "text": [
      "[0.5741626794258373, 360.0, 627]\n",
      "['20210408', '20210408']\n",
      "['20210330', '20210407']\n"
     ]
    },
    {
     "name": "stderr",
     "output_type": "stream",
     "text": [
      "100%|██████████| 10/10 [00:00<00:00, 294.99it/s]\n",
      "100%|██████████| 10/10 [00:00<00:00, 2156.34it/s]\n"
     ]
    },
    {
     "name": "stdout",
     "output_type": "stream",
     "text": [
      "[0.5893719806763285, 365.99999999999994, 621]\n",
      "['20210409', '20210409']\n",
      "['20210331', '20210408']\n",
      "[0.5812101910828026, 365.0, 628]\n",
      "['20210410', '20210410']\n",
      "['20210401', '20210409']\n",
      "['20210411', '20210411']\n",
      "['20210402', '20210410']\n",
      "['20210412', '20210412']\n",
      "['20210403', '20210411']\n"
     ]
    },
    {
     "name": "stderr",
     "output_type": "stream",
     "text": [
      "100%|██████████| 10/10 [00:00<00:00, 316.98it/s]\n",
      "100%|██████████| 10/10 [00:00<00:00, 2140.39it/s]\n",
      "100%|██████████| 10/10 [00:00<00:00, 359.88it/s]\n",
      "100%|██████████| 10/10 [00:00<00:00, 2438.27it/s]\n",
      "100%|██████████| 10/10 [00:00<00:00, 503.48it/s]\n",
      "100%|██████████| 10/10 [00:00<00:00, 2930.21it/s]\n",
      "100%|██████████| 10/10 [00:00<00:00, 455.78it/s]\n",
      "100%|██████████| 10/10 [00:00<00:00, 3101.15it/s]\n",
      "100%|██████████| 10/10 [00:00<00:00, 266.03it/s]\n",
      "100%|██████████| 10/10 [00:00<00:00, 315.10it/s]\n",
      "100%|██████████| 10/10 [00:00<00:00, 1889.75it/s]\n",
      "100%|██████████| 10/10 [00:00<00:00, 313.60it/s]\n"
     ]
    },
    {
     "name": "stdout",
     "output_type": "stream",
     "text": [
      "[0.6101141924959217, 374.0, 613]\n",
      "['20210413', '20210413']\n",
      "['20210404', '20210412']\n",
      "[0.6227347611202636, 378.0, 607]\n",
      "['20210414', '20210414']\n",
      "['20210405', '20210413']\n",
      "[0.6354679802955665, 387.0, 609]\n",
      "['20210415', '20210415']\n",
      "['20210406', '20210414']\n",
      "['20210416', '20210416']\n",
      "['20210407', '20210415']\n"
     ]
    },
    {
     "name": "stderr",
     "output_type": "stream",
     "text": [
      "100%|██████████| 10/10 [00:00<00:00, 2255.12it/s]\n",
      "100%|██████████| 10/10 [00:00<00:00, 2378.13it/s]\n",
      "100%|██████████| 10/10 [00:00<00:00, 315.36it/s]\n",
      "100%|██████████| 10/10 [00:00<00:00, 2034.19it/s]\n"
     ]
    },
    {
     "name": "stdout",
     "output_type": "stream",
     "text": [
      "[0.6354679802955665, 387.0, 609]\n",
      "['20210417', '20210417']\n",
      "['20210408', '20210416']\n",
      "['20210418', '20210418']\n",
      "['20210409', '20210417']\n",
      "[0.5750394944707741, 364.0, 633]\n",
      "['20210419', '20210419']\n",
      "['20210410', '20210418']\n",
      "[0.5910543130990416, 370.0, 626]\n",
      "['20210420', '20210420']\n",
      "['20210411', '20210419']\n",
      "['20210421', '20210421']\n",
      "['20210412', '20210420']\n"
     ]
    },
    {
     "name": "stderr",
     "output_type": "stream",
     "text": [
      "100%|██████████| 10/10 [00:00<00:00, 320.51it/s]\n",
      "100%|██████████| 10/10 [00:00<00:00, 2185.67it/s]\n",
      "100%|██████████| 10/10 [00:00<00:00, 412.91it/s]\n",
      "100%|██████████| 10/10 [00:00<00:00, 2402.10it/s]\n",
      "100%|██████████| 10/10 [00:00<00:00, 412.73it/s]\n",
      "100%|██████████| 10/10 [00:00<00:00, 2326.94it/s]\n",
      "100%|██████████| 10/10 [00:00<00:00, 345.10it/s]\n",
      "100%|██████████| 10/10 [00:00<00:00, 2103.78it/s]\n",
      "100%|██████████| 10/10 [00:00<00:00, 344.35it/s]\n",
      "100%|██████████| 10/10 [00:00<00:00, 2364.19it/s]\n",
      "100%|██████████| 10/10 [00:00<00:00, 347.43it/s]\n",
      "100%|██████████| 10/10 [00:00<00:00, 2147.18it/s]\n",
      "100%|██████████| 10/10 [00:00<00:00, 344.95it/s]\n",
      "100%|██████████| 10/10 [00:00<00:00, 2393.74it/s]\n"
     ]
    },
    {
     "name": "stdout",
     "output_type": "stream",
     "text": [
      "[0.6101141924959217, 374.0, 613]\n",
      "['20210422', '20210422']\n",
      "['20210413', '20210421']\n",
      "['20210423', '20210423']\n",
      "['20210414', '20210422']\n",
      "[0.6098360655737705, 372.0, 610]\n",
      "['20210424', '20210424']\n",
      "['20210415', '20210423']\n",
      "[0.5800316957210776, 365.99999999999994, 631]\n",
      "['20210425', '20210425']\n",
      "['20210416', '20210424']\n",
      "[0.7163120567375887, 404.0, 564]\n",
      "['20210426', '20210426']\n",
      "['20210417', '20210425']\n",
      "['20210427', '20210427']\n",
      "['20210418', '20210426']\n",
      "['20210428', '20210428']\n",
      "['20210419', '20210427']\n",
      "[0.6501706484641638, 381.0, 586]\n",
      "['20210429', '20210429']\n",
      "['20210420', '20210428']\n"
     ]
    },
    {
     "name": "stderr",
     "output_type": "stream",
     "text": [
      "100%|██████████| 10/10 [00:00<00:00, 354.63it/s]\n",
      "100%|██████████| 10/10 [00:00<00:00, 407.23it/s]\n",
      "100%|██████████| 10/10 [00:00<00:00, 2142.47it/s]\n",
      "100%|██████████| 10/10 [00:00<00:00, 1389.90it/s]\n",
      "100%|██████████| 10/10 [00:00<00:00, 397.27it/s]\n",
      "100%|██████████| 10/10 [00:00<00:00, 2387.74it/s]\n",
      "100%|██████████| 10/10 [00:00<00:00, 343.23it/s]\n",
      "100%|██████████| 10/10 [00:00<00:00, 2243.06it/s]\n",
      "100%|██████████| 10/10 [00:00<00:00, 297.04it/s]\n",
      "100%|██████████| 10/10 [00:00<00:00, 2090.46it/s]\n",
      "100%|██████████| 10/10 [00:00<00:00, 337.75it/s]\n",
      "100%|██████████| 10/10 [00:00<00:00, 2739.58it/s]\n",
      "100%|██████████| 10/10 [00:00<00:00, 304.30it/s]\n",
      "100%|██████████| 10/10 [00:00<00:00, 2280.75it/s]\n"
     ]
    },
    {
     "name": "stdout",
     "output_type": "stream",
     "text": [
      "[0.7163120567375887, 404.0, 564]\n",
      "['20210430', '20210430']\n",
      "['20210421', '20210429']\n",
      "[0.5846905537459284, 359.0, 614]\n",
      "['20210501', '20210501']\n",
      "['20210422', '20210430']\n",
      "[0.5297805642633229, 338.0, 638]\n",
      "['20210502', '20210502']\n",
      "['20210423', '20210501']\n",
      "['20210503', '20210503']\n",
      "['20210424', '20210502']\n",
      "['20210504', '20210504']\n",
      "['20210425', '20210503']\n"
     ]
    },
    {
     "name": "stderr",
     "output_type": "stream",
     "text": [
      "100%|██████████| 10/10 [00:00<00:00, 286.68it/s]\n",
      "100%|██████████| 10/10 [00:00<00:00, 400.97it/s]\n",
      "100%|██████████| 10/10 [00:00<00:00, 2261.81it/s]\n",
      "100%|██████████| 10/10 [00:00<00:00, 2494.53it/s]\n",
      "100%|██████████| 10/10 [00:00<00:00, 314.52it/s]\n",
      "100%|██████████| 10/10 [00:00<00:00, 298.68it/s]\n",
      "100%|██████████| 10/10 [00:00<00:00, 1694.19it/s]\n",
      "100%|██████████| 10/10 [00:00<00:00, 2293.98it/s]\n"
     ]
    },
    {
     "name": "stdout",
     "output_type": "stream",
     "text": [
      "[0.5297805642633229, 338.0, 638]\n",
      "['20210505', '20210505']\n",
      "['20210426', '20210504']\n",
      "[0.5774193548387097, 358.0, 620]\n",
      "['20210506', '20210506']\n",
      "['20210427', '20210505']\n",
      "[0.52099533437014, 335.0, 643]\n",
      "['20210507', '20210507']\n",
      "['20210428', '20210506']\n"
     ]
    },
    {
     "name": "stderr",
     "output_type": "stream",
     "text": [
      "100%|██████████| 10/10 [00:00<00:00, 258.63it/s]\n",
      "100%|██████████| 10/10 [00:00<00:00, 2245.83it/s]\n",
      "100%|██████████| 10/10 [00:00<00:00, 265.61it/s]\n",
      "100%|██████████| 10/10 [00:00<00:00, 2095.37it/s]\n",
      "100%|██████████| 10/10 [00:00<00:00, 260.94it/s]\n",
      "100%|██████████| 10/10 [00:00<00:00, 2187.50it/s]\n"
     ]
    },
    {
     "name": "stdout",
     "output_type": "stream",
     "text": [
      "[0.5640194489465153, 347.99999999999994, 617]\n",
      "['20210508', '20210508']\n",
      "['20210429', '20210507']\n",
      "['20210509', '20210509']\n",
      "['20210430', '20210508']\n"
     ]
    },
    {
     "name": "stderr",
     "output_type": "stream",
     "text": [
      "100%|██████████| 10/10 [00:00<00:00, 276.19it/s]\n",
      "100%|██████████| 10/10 [00:00<00:00, 2217.10it/s]\n",
      "100%|██████████| 10/10 [00:00<00:00, 343.11it/s]\n",
      "100%|██████████| 10/10 [00:00<00:00, 2177.16it/s]\n"
     ]
    },
    {
     "name": "stdout",
     "output_type": "stream",
     "text": [
      "['20210510', '20210510']\n",
      "['20210501', '20210509']\n"
     ]
    },
    {
     "name": "stderr",
     "output_type": "stream",
     "text": [
      "100%|██████████| 10/10 [00:00<00:00, 335.93it/s]\n",
      "100%|██████████| 10/10 [00:00<00:00, 2371.14it/s]\n"
     ]
    },
    {
     "name": "stdout",
     "output_type": "stream",
     "text": [
      "[0.6626506024096386, 385.0, 581]\n",
      "['20210511', '20210511']\n",
      "['20210502', '20210510']\n",
      "[0.6626506024096386, 385.0, 581]\n",
      "['20210512', '20210512']\n",
      "['20210503', '20210511']\n",
      "[0.6183333333333333, 371.0, 600]\n",
      "['20210513', '20210513']\n",
      "['20210504', '20210512']\n"
     ]
    },
    {
     "name": "stderr",
     "output_type": "stream",
     "text": [
      "100%|██████████| 10/10 [00:00<00:00, 295.50it/s]\n",
      "100%|██████████| 10/10 [00:00<00:00, 2258.16it/s]\n",
      "100%|██████████| 10/10 [00:00<00:00, 257.85it/s]\n",
      "100%|██████████| 10/10 [00:00<00:00, 2001.10it/s]\n",
      "100%|██████████| 10/10 [00:00<00:00, 274.06it/s]\n",
      "100%|██████████| 10/10 [00:00<00:00, 2141.70it/s]\n"
     ]
    },
    {
     "name": "stdout",
     "output_type": "stream",
     "text": [
      "['20210514', '20210514']\n",
      "['20210505', '20210513']\n",
      "[0.6666666666666666, 384.0, 576]\n",
      "['20210515', '20210515']\n",
      "['20210506', '20210514']\n",
      "[0.5793780687397708, 354.0, 611]\n",
      "['20210516', '20210516']\n",
      "['20210507', '20210515']\n",
      "[0.6262798634812287, 367.0, 586]\n",
      "['20210517', '20210517']\n",
      "['20210508', '20210516']\n",
      "[0.5657051282051282, 353.0, 624]\n",
      "['20210518', '20210518']\n",
      "['20210509', '20210517']\n",
      "['20210519', '20210519']\n",
      "['20210510', '20210518']\n",
      "['20210520', '20210520']\n",
      "['20210511', '20210519']\n"
     ]
    },
    {
     "name": "stderr",
     "output_type": "stream",
     "text": [
      "100%|██████████| 10/10 [00:00<00:00, 234.17it/s]\n",
      "100%|██████████| 10/10 [00:00<00:00, 316.68it/s]\n",
      "100%|██████████| 10/10 [00:00<00:00, 2086.51it/s]\n",
      "100%|██████████| 10/10 [00:00<00:00, 901.32it/s]\n",
      "100%|██████████| 10/10 [00:00<00:00, 268.84it/s]\n",
      "100%|██████████| 10/10 [00:00<00:00, 347.31it/s]\n",
      "100%|██████████| 10/10 [00:00<00:00, 2248.47it/s]\n",
      "100%|██████████| 10/10 [00:00<00:00, 2172.65it/s]\n",
      "100%|██████████| 10/10 [00:00<00:00, 337.39it/s]\n",
      "100%|██████████| 10/10 [00:00<00:00, 3127.51it/s]\n",
      "100%|██████████| 10/10 [00:00<00:00, 235.60it/s]\n",
      "100%|██████████| 10/10 [00:00<00:00, 281.86it/s]\n",
      "100%|██████████| 10/10 [00:00<00:00, 2119.30it/s]\n",
      "100%|██████████| 10/10 [00:00<00:00, 2065.75it/s]\n",
      "100%|██████████| 10/10 [00:00<00:00, 288.28it/s]\n",
      "100%|██████████| 10/10 [00:00<00:00, 2133.75it/s]\n",
      "  0%|          | 0/10 [00:00<?, ?it/s]"
     ]
    },
    {
     "name": "stdout",
     "output_type": "stream",
     "text": [
      "[0.6262798634812287, 367.0, 586]\n",
      "['20210521', '20210521']\n",
      "['20210512', '20210520']\n",
      "[0.5723577235772358, 352.0, 615]\n",
      "['20210522', '20210522']\n",
      "['20210513', '20210521']\n"
     ]
    },
    {
     "name": "stderr",
     "output_type": "stream",
     "text": [
      "100%|██████████| 10/10 [00:00<00:00, 325.24it/s]\n",
      "100%|██████████| 10/10 [00:00<00:00, 2333.54it/s]\n",
      "100%|██████████| 10/10 [00:00<00:00, 330.79it/s]\n",
      "100%|██████████| 10/10 [00:00<00:00, 2144.00it/s]\n",
      "  0%|          | 0/10 [00:00<?, ?it/s]"
     ]
    },
    {
     "name": "stdout",
     "output_type": "stream",
     "text": [
      "['20210523', '20210523']\n",
      "['20210514', '20210522']\n",
      "['20210524', '20210524']\n",
      "['20210515', '20210523']\n"
     ]
    },
    {
     "name": "stderr",
     "output_type": "stream",
     "text": [
      "100%|██████████| 10/10 [00:00<00:00, 334.59it/s]\n",
      "100%|██████████| 10/10 [00:00<00:00, 2182.15it/s]\n",
      "100%|██████████| 10/10 [00:00<00:00, 229.55it/s]\n",
      "100%|██████████| 10/10 [00:00<00:00, 2178.18it/s]\n",
      "  0%|          | 0/10 [00:00<?, ?it/s]"
     ]
    },
    {
     "name": "stdout",
     "output_type": "stream",
     "text": [
      "[0.5500794912559619, 346.00000000000006, 629]\n",
      "['20210525', '20210525']\n",
      "['20210516', '20210524']\n",
      "[0.5061349693251533, 330.0, 652]\n",
      "['20210526', '20210526']\n",
      "['20210517', '20210525']\n",
      "[0.5500794912559619, 346.00000000000006, 629]\n",
      "['20210527', '20210527']\n",
      "['20210518', '20210526']\n"
     ]
    },
    {
     "name": "stderr",
     "output_type": "stream",
     "text": [
      "100%|██████████| 10/10 [00:00<00:00, 262.14it/s]\n",
      "100%|██████████| 10/10 [00:00<00:00, 2057.04it/s]\n",
      "100%|██████████| 10/10 [00:00<00:00, 250.32it/s]\n",
      "100%|██████████| 10/10 [00:00<00:00, 2108.22it/s]\n",
      "  0%|          | 0/10 [00:00<?, ?it/s]"
     ]
    },
    {
     "name": "stdout",
     "output_type": "stream",
     "text": [
      "[0.5045731707317073, 330.99999999999994, 656]\n",
      "['20210528', '20210528']\n",
      "['20210519', '20210527']\n",
      "[0.49696969696969695, 328.0, 660]\n",
      "['20210529', '20210529']\n",
      "['20210520', '20210528']\n",
      "['20210530', '20210530']\n",
      "['20210521', '20210529']\n"
     ]
    },
    {
     "name": "stderr",
     "output_type": "stream",
     "text": [
      "100%|██████████| 10/10 [00:00<00:00, 203.78it/s]\n",
      "100%|██████████| 10/10 [00:00<00:00, 190.99it/s]\n",
      "100%|██████████| 10/10 [00:00<00:00, 2193.33it/s]\n",
      "100%|██████████| 10/10 [00:00<00:00, 1451.87it/s]\n",
      "100%|██████████| 10/10 [00:00<00:00, 321.58it/s]\n",
      "100%|██████████| 10/10 [00:00<00:00, 2367.26it/s]\n"
     ]
    },
    {
     "name": "stdout",
     "output_type": "stream",
     "text": [
      "['20210531', '20210531']\n",
      "['20210522', '20210530']\n"
     ]
    },
    {
     "name": "stderr",
     "output_type": "stream",
     "text": [
      "100%|██████████| 10/10 [00:00<00:00, 194.08it/s]\n",
      "100%|██████████| 10/10 [00:00<00:00, 1330.93it/s]\n",
      "100%|██████████| 10/10 [00:00<00:00, 272.36it/s]\n",
      "100%|██████████| 10/10 [00:00<00:00, 2088.28it/s]\n",
      "100%|██████████| 10/10 [00:00<00:00, 266.49it/s]\n",
      "100%|██████████| 10/10 [00:00<00:00, 2041.92it/s]\n"
     ]
    },
    {
     "name": "stdout",
     "output_type": "stream",
     "text": [
      "[0.5320813771517997, 340.0, 639]\n",
      "['20210601', '20210601']\n",
      "['20210523', '20210531']\n",
      "[0.5320813771517997, 340.0, 639]\n",
      "['20210602', '20210602']\n",
      "['20210524', '20210601']\n",
      "[0.4977238239757208, 328.0, 659]\n",
      "['20210603', '20210603']\n",
      "['20210525', '20210602']\n",
      "[0.6026272577996716, 367.0, 609]\n",
      "['20210604', '20210604']\n",
      "['20210526', '20210603']\n"
     ]
    },
    {
     "name": "stderr",
     "output_type": "stream",
     "text": [
      "100%|██████████| 10/10 [00:00<00:00, 261.94it/s]\n",
      "100%|██████████| 10/10 [00:00<00:00, 2017.66it/s]\n",
      "100%|██████████| 10/10 [00:00<00:00, 292.08it/s]\n",
      "100%|██████████| 10/10 [00:00<00:00, 2711.07it/s]\n",
      "100%|██████████| 10/10 [00:00<00:00, 294.91it/s]\n",
      "100%|██████████| 10/10 [00:00<00:00, 1630.12it/s]\n",
      "100%|██████████| 10/10 [00:00<00:00, 349.39it/s]\n",
      "100%|██████████| 10/10 [00:00<00:00, 2086.20it/s]\n"
     ]
    },
    {
     "name": "stdout",
     "output_type": "stream",
     "text": [
      "[0.5231481481481481, 339.0, 648]\n",
      "['20210605', '20210605']\n",
      "['20210527', '20210604']\n",
      "['20210606', '20210606']\n",
      "['20210528', '20210605']\n",
      "[0.4894894894894895, 326.0, 666]\n",
      "['20210607', '20210607']\n",
      "['20210529', '20210606']\n",
      "[0.5474339035769828, 352.0, 643]\n",
      "['20210608', '20210608']\n",
      "['20210530', '20210607']\n"
     ]
    },
    {
     "name": "stderr",
     "output_type": "stream",
     "text": [
      "100%|██████████| 10/10 [00:00<00:00, 334.55it/s]\n",
      "100%|██████████| 10/10 [00:00<00:00, 2314.99it/s]\n",
      "100%|██████████| 10/10 [00:00<00:00, 301.23it/s]\n",
      "100%|██████████| 10/10 [00:00<00:00, 2095.27it/s]\n",
      "100%|██████████| 10/10 [00:00<00:00, 259.94it/s]\n",
      "100%|██████████| 10/10 [00:00<00:00, 2092.65it/s]\n",
      "100%|██████████| 10/10 [00:00<00:00, 267.44it/s]\n",
      "100%|██████████| 10/10 [00:00<00:00, 2136.35it/s]\n",
      "  0%|          | 0/10 [00:00<?, ?it/s]"
     ]
    },
    {
     "name": "stdout",
     "output_type": "stream",
     "text": [
      "['20210609', '20210609']\n",
      "['20210531', '20210608']\n",
      "[0.503793626707132, 332.0, 659]\n",
      "['20210610', '20210610']\n",
      "['20210601', '20210609']\n",
      "[0.6026272577996716, 367.0, 609]\n",
      "['20210611', '20210611']\n",
      "['20210602', '20210610']\n",
      "[0.5302325581395348, 342.0, 645]\n",
      "['20210612', '20210612']\n",
      "['20210603', '20210611']\n"
     ]
    },
    {
     "name": "stderr",
     "output_type": "stream",
     "text": [
      "100%|██████████| 10/10 [00:00<00:00, 267.39it/s]\n",
      "100%|██████████| 10/10 [00:00<00:00, 1952.84it/s]\n",
      "100%|██████████| 10/10 [00:00<00:00, 291.00it/s]\n",
      "100%|██████████| 10/10 [00:00<00:00, 2137.22it/s]\n",
      "100%|██████████| 10/10 [00:00<00:00, 341.08it/s]\n",
      "100%|██████████| 10/10 [00:00<00:00, 2120.16it/s]\n",
      "100%|██████████| 10/10 [00:00<00:00, 257.05it/s]\n",
      "  0%|          | 0/10 [00:00<?, ?it/s]"
     ]
    },
    {
     "name": "stdout",
     "output_type": "stream",
     "text": [
      "[0.45179856115107914, 314.0, 695]\n",
      "['20210613', '20210613']\n",
      "['20210604', '20210612']\n",
      "['20210614', '20210614']\n",
      "['20210605', '20210613']\n",
      "[0.503793626707132, 332.0, 659]\n",
      "['20210615', '20210615']\n",
      "['20210606', '20210614']\n",
      "['20210616', '20210616']\n",
      "['20210607', '20210615']\n",
      "[0.46511627906976744, 320.0, 688]\n",
      "['20210617', '20210617']\n",
      "['20210608', '20210616']\n"
     ]
    },
    {
     "name": "stderr",
     "output_type": "stream",
     "text": [
      "100%|██████████| 10/10 [00:00<00:00, 2984.42it/s]\n",
      "100%|██████████| 10/10 [00:00<00:00, 202.45it/s]\n",
      "100%|██████████| 10/10 [00:00<00:00, 2005.12it/s]\n",
      "100%|██████████| 10/10 [00:00<00:00, 263.67it/s]\n",
      "100%|██████████| 10/10 [00:00<00:00, 1755.38it/s]\n",
      "100%|██████████| 10/10 [00:00<00:00, 252.80it/s]\n",
      "100%|██████████| 10/10 [00:00<00:00, 1992.16it/s]\n"
     ]
    },
    {
     "name": "stdout",
     "output_type": "stream",
     "text": [
      "[0.46870451237263466, 322.0, 687]\n",
      "['20210618', '20210618']\n",
      "['20210609', '20210617']\n"
     ]
    },
    {
     "name": "stderr",
     "output_type": "stream",
     "text": [
      "100%|██████████| 10/10 [00:00<00:00, 272.44it/s]\n",
      "100%|██████████| 10/10 [00:00<00:00, 2018.53it/s]\n"
     ]
    },
    {
     "name": "stdout",
     "output_type": "stream",
     "text": [
      "[0.47928994082840237, 324.0, 676]\n",
      "['20210619', '20210619']\n",
      "['20210610', '20210618']\n",
      "['20210620', '20210620']\n",
      "['20210611', '20210619']\n"
     ]
    },
    {
     "name": "stderr",
     "output_type": "stream",
     "text": [
      "100%|██████████| 10/10 [00:00<00:00, 344.07it/s]\n",
      "100%|██████████| 10/10 [00:00<00:00, 2139.95it/s]\n",
      "100%|██████████| 10/10 [00:00<00:00, 243.69it/s]\n",
      "100%|██████████| 10/10 [00:00<00:00, 2193.79it/s]\n",
      "100%|██████████| 10/10 [00:00<00:00, 291.18it/s]\n",
      "100%|██████████| 10/10 [00:00<00:00, 1732.75it/s]\n",
      "100%|██████████| 10/10 [00:00<00:00, 198.19it/s]\n",
      "100%|██████████| 10/10 [00:00<00:00, 2251.61it/s]\n",
      "100%|██████████| 10/10 [00:00<00:00, 271.96it/s]\n",
      "100%|██████████| 10/10 [00:00<00:00, 2184.65it/s]\n"
     ]
    },
    {
     "name": "stdout",
     "output_type": "stream",
     "text": [
      "[0.4460227272727273, 314.0, 704]\n",
      "['20210621', '20210621']\n",
      "['20210612', '20210620']\n",
      "['20210622', '20210622']\n",
      "['20210613', '20210621']\n",
      "[0.47928994082840237, 324.0, 676]\n",
      "['20210623', '20210623']\n",
      "['20210614', '20210622']\n",
      "[0.45558739255014324, 318.0, 698]\n",
      "['20210624', '20210624']\n",
      "['20210615', '20210623']\n",
      "[0.460431654676259, 320.0, 695]\n",
      "['20210625', '20210625']\n",
      "['20210616', '20210624']\n"
     ]
    },
    {
     "name": "stderr",
     "output_type": "stream",
     "text": [
      "100%|██████████| 10/10 [00:00<00:00, 289.83it/s]\n",
      "100%|██████████| 10/10 [00:00<00:00, 2109.70it/s]\n",
      "100%|██████████| 10/10 [00:00<00:00, 291.11it/s]\n",
      "100%|██████████| 10/10 [00:00<00:00, 2131.58it/s]\n",
      "100%|██████████| 10/10 [00:00<00:00, 319.76it/s]\n",
      "100%|██████████| 10/10 [00:00<00:00, 2087.96it/s]\n",
      "100%|██████████| 10/10 [00:00<00:00, 356.48it/s]\n",
      "100%|██████████| 10/10 [00:00<00:00, 2327.71it/s]\n",
      "100%|██████████| 10/10 [00:00<00:00, 365.71it/s]\n",
      "100%|██████████| 10/10 [00:00<00:00, 2143.34it/s]\n",
      "100%|██████████| 10/10 [00:00<00:00, 316.50it/s]\n",
      "100%|██████████| 10/10 [00:00<00:00, 280.13it/s]\n",
      "  0%|          | 0/10 [00:00<?, ?it/s]"
     ]
    },
    {
     "name": "stdout",
     "output_type": "stream",
     "text": [
      "[0.4918759231905465, 333.0, 677]\n",
      "['20210626', '20210626']\n",
      "['20210617', '20210625']\n",
      "[0.4918759231905465, 333.0, 677]\n",
      "['20210627', '20210627']\n",
      "['20210618', '20210626']\n",
      "['20210628', '20210628']\n",
      "['20210619', '20210627']\n",
      "['20210629', '20210629']\n",
      "['20210620', '20210628']\n",
      "[0.46438746438746437, 326.0, 702]\n",
      "['20210630', '20210630']\n",
      "['20210621', '20210629']\n"
     ]
    },
    {
     "name": "stderr",
     "output_type": "stream",
     "text": [
      "100%|██████████| 10/10 [00:00<00:00, 2167.82it/s]\n",
      "100%|██████████| 10/10 [00:00<00:00, 2108.75it/s]\n",
      "100%|██████████| 10/10 [00:00<00:00, 280.89it/s]\n",
      "100%|██████████| 10/10 [00:00<00:00, 2027.12it/s]\n"
     ]
    },
    {
     "name": "stdout",
     "output_type": "stream",
     "text": [
      "[0.45544554455445546, 322.0, 707]\n",
      "['20210701', '20210701']\n",
      "['20210622', '20210630']\n"
     ]
    },
    {
     "name": "stderr",
     "output_type": "stream",
     "text": [
      "100%|██████████| 10/10 [00:00<00:00, 290.76it/s]\n",
      "100%|██████████| 10/10 [00:00<00:00, 2184.42it/s]\n",
      "100%|██████████| 10/10 [00:00<00:00, 319.48it/s]\n",
      "100%|██████████| 10/10 [00:00<00:00, 2170.18it/s]\n",
      "100%|██████████| 10/10 [00:00<00:00, 325.89it/s]\n",
      "100%|██████████| 10/10 [00:00<00:00, 2038.64it/s]\n"
     ]
    },
    {
     "name": "stdout",
     "output_type": "stream",
     "text": [
      "[0.45403111739745405, 321.0, 707]\n",
      "['20210702', '20210702']\n",
      "['20210623', '20210701']\n",
      "[0.4450704225352113, 316.0, 710]\n",
      "['20210703', '20210703']\n",
      "['20210624', '20210702']\n",
      "[0.463519313304721, 324.0, 699]\n",
      "['20210704', '20210704']\n",
      "['20210625', '20210703']\n",
      "[0.4831130690161527, 329.0, 681]\n",
      "['20210705', '20210705']\n",
      "['20210626', '20210704']\n"
     ]
    },
    {
     "name": "stderr",
     "output_type": "stream",
     "text": [
      "100%|██████████| 10/10 [00:00<00:00, 352.99it/s]\n",
      "100%|██████████| 10/10 [00:00<00:00, 2230.54it/s]\n",
      "100%|██████████| 10/10 [00:00<00:00, 312.28it/s]\n",
      "100%|██████████| 10/10 [00:00<00:00, 2162.90it/s]\n",
      "100%|██████████| 10/10 [00:00<00:00, 280.95it/s]\n",
      "100%|██████████| 10/10 [00:00<00:00, 1998.24it/s]\n",
      "100%|██████████| 10/10 [00:00<00:00, 289.77it/s]\n",
      "100%|██████████| 10/10 [00:00<00:00, 2019.11it/s]\n"
     ]
    },
    {
     "name": "stdout",
     "output_type": "stream",
     "text": [
      "['20210706', '20210706']\n",
      "['20210627', '20210705']\n",
      "['20210707', '20210707']\n",
      "['20210628', '20210706']\n",
      "[0.4831130690161527, 329.0, 681]\n",
      "['20210708', '20210708']\n",
      "['20210629', '20210707']\n",
      "[0.47353361945636624, 331.0, 699]\n",
      "['20210709', '20210709']\n",
      "['20210630', '20210708']\n",
      "[0.5333333333333333, 352.0, 660]\n",
      "['20210710', '20210710']\n",
      "['20210701', '20210709']\n",
      "['20210711', '20210711']\n",
      "['20210702', '20210710']\n"
     ]
    },
    {
     "name": "stderr",
     "output_type": "stream",
     "text": [
      "100%|██████████| 10/10 [00:00<00:00, 291.52it/s]\n",
      "100%|██████████| 10/10 [00:00<00:00, 2012.33it/s]\n",
      "100%|██████████| 10/10 [00:00<00:00, 402.07it/s]\n",
      "100%|██████████| 10/10 [00:00<00:00, 2824.64it/s]\n",
      "100%|██████████| 10/10 [00:00<00:00, 408.40it/s]\n",
      "100%|██████████| 10/10 [00:00<00:00, 3084.95it/s]\n",
      "100%|██████████| 10/10 [00:00<00:00, 446.52it/s]\n",
      "100%|██████████| 10/10 [00:00<00:00, 3176.54it/s]\n",
      "  0%|          | 0/10 [00:00<?, ?it/s]"
     ]
    },
    {
     "name": "stdout",
     "output_type": "stream",
     "text": [
      "['20210712', '20210712']\n",
      "['20210703', '20210711']\n",
      "[0.5570987654320988, 361.0, 648]\n",
      "['20210713', '20210713']\n",
      "['20210704', '20210712']\n"
     ]
    },
    {
     "name": "stderr",
     "output_type": "stream",
     "text": [
      "100%|██████████| 10/10 [00:00<00:00, 325.65it/s]\n",
      "100%|██████████| 10/10 [00:00<00:00, 2063.31it/s]\n",
      "100%|██████████| 10/10 [00:00<00:00, 297.70it/s]\n",
      "  0%|          | 0/10 [00:00<?, ?it/s]"
     ]
    },
    {
     "name": "stdout",
     "output_type": "stream",
     "text": [
      "[0.5570987654320988, 361.0, 648]\n",
      "['20210714', '20210714']\n",
      "['20210705', '20210713']\n",
      "[0.5211480362537765, 345.00000000000006, 662]\n",
      "['20210715', '20210715']\n",
      "['20210706', '20210714']\n",
      "[0.5211480362537765, 345.00000000000006, 662]\n",
      "['20210716', '20210716']\n",
      "['20210707', '20210715']\n"
     ]
    },
    {
     "name": "stderr",
     "output_type": "stream",
     "text": [
      "100%|██████████| 10/10 [00:00<00:00, 2195.51it/s]\n",
      "100%|██████████| 10/10 [00:00<00:00, 289.72it/s]\n",
      "100%|██████████| 10/10 [00:00<00:00, 2007.80it/s]\n",
      "100%|██████████| 10/10 [00:00<00:00, 295.43it/s]\n",
      "100%|██████████| 10/10 [00:00<00:00, 2053.01it/s]\n",
      "100%|██████████| 10/10 [00:00<00:00, 327.11it/s]\n",
      "100%|██████████| 10/10 [00:00<00:00, 2387.60it/s]\n",
      "100%|██████████| 10/10 [00:00<00:00, 370.65it/s]\n",
      "100%|██████████| 10/10 [00:00<00:00, 2402.79it/s]\n"
     ]
    },
    {
     "name": "stdout",
     "output_type": "stream",
     "text": [
      "[0.49251497005988026, 329.0, 668]\n",
      "['20210717', '20210717']\n",
      "['20210708', '20210716']\n",
      "['20210718', '20210718']\n",
      "['20210709', '20210717']\n"
     ]
    },
    {
     "name": "stderr",
     "output_type": "stream",
     "text": [
      "100%|██████████| 10/10 [00:00<00:00, 367.69it/s]\n",
      "100%|██████████| 10/10 [00:00<00:00, 2176.48it/s]\n",
      "100%|██████████| 10/10 [00:00<00:00, 325.66it/s]\n",
      "100%|██████████| 10/10 [00:00<00:00, 2306.21it/s]\n",
      "  0%|          | 0/10 [00:00<?, ?it/s]"
     ]
    },
    {
     "name": "stdout",
     "output_type": "stream",
     "text": [
      "['20210719', '20210719']\n",
      "['20210710', '20210718']\n",
      "[0.5128205128205128, 339.99999999999994, 663]\n",
      "['20210720', '20210720']\n",
      "['20210711', '20210719']\n",
      "[0.5474339035769828, 352.0, 643]\n",
      "['20210721', '20210721']\n",
      "['20210712', '20210720']\n",
      "[0.5474339035769828, 352.0, 643]\n",
      "['20210722', '20210722']\n",
      "['20210713', '20210721']\n"
     ]
    },
    {
     "name": "stderr",
     "output_type": "stream",
     "text": [
      "100%|██████████| 10/10 [00:00<00:00, 312.67it/s]\n",
      "100%|██████████| 10/10 [00:00<00:00, 315.17it/s]\n",
      "100%|██████████| 10/10 [00:00<00:00, 2190.12it/s]\n",
      "100%|██████████| 10/10 [00:00<00:00, 2246.55it/s]\n",
      "100%|██████████| 10/10 [00:00<00:00, 306.97it/s]\n",
      "100%|██████████| 10/10 [00:00<00:00, 2187.61it/s]\n",
      "100%|██████████| 10/10 [00:00<00:00, 355.52it/s]\n",
      "100%|██████████| 10/10 [00:00<00:00, 406.39it/s]\n",
      "100%|██████████| 10/10 [00:00<00:00, 2278.40it/s]\n",
      "100%|██████████| 10/10 [00:00<00:00, 2349.09it/s]\n",
      "  0%|          | 0/10 [00:00<?, ?it/s]"
     ]
    },
    {
     "name": "stdout",
     "output_type": "stream",
     "text": [
      "[0.5153846153846153, 334.99999999999994, 650]\n",
      "['20210723', '20210723']\n",
      "['20210714', '20210722']\n",
      "['20210724', '20210724']\n",
      "['20210715', '20210723']\n",
      "[0.4746268656716418, 318.0, 670]\n",
      "['20210725', '20210725']\n",
      "['20210716', '20210724']\n",
      "['20210726', '20210726']\n",
      "['20210717', '20210725']\n",
      "['20210727', '20210727']\n",
      "['20210718', '20210726']\n"
     ]
    },
    {
     "name": "stderr",
     "output_type": "stream",
     "text": [
      "100%|██████████| 10/10 [00:00<00:00, 411.69it/s]\n",
      "100%|██████████| 10/10 [00:00<00:00, 354.08it/s]\n",
      "100%|██████████| 10/10 [00:00<00:00, 2353.71it/s]\n",
      "100%|██████████| 10/10 [00:00<00:00, 2256.09it/s]\n",
      "100%|██████████| 10/10 [00:00<00:00, 319.27it/s]\n",
      "100%|██████████| 10/10 [00:00<00:00, 2108.75it/s]\n",
      "  0%|          | 0/10 [00:00<?, ?it/s]"
     ]
    },
    {
     "name": "stdout",
     "output_type": "stream",
     "text": [
      "[0.4570596797671033, 314.0, 687]\n",
      "['20210728', '20210728']\n",
      "['20210719', '20210727']\n",
      "[0.4683357879234168, 318.0, 679]\n",
      "['20210729', '20210729']\n",
      "['20210720', '20210728']\n"
     ]
    },
    {
     "name": "stderr",
     "output_type": "stream",
     "text": [
      "100%|██████████| 10/10 [00:00<00:00, 370.25it/s]\n",
      "100%|██████████| 10/10 [00:00<00:00, 2956.86it/s]\n",
      "  0%|          | 0/10 [00:00<?, ?it/s]"
     ]
    },
    {
     "name": "stdout",
     "output_type": "stream",
     "text": [
      "[0.5153846153846153, 334.99999999999994, 650]\n",
      "['20210730', '20210730']\n",
      "['20210721', '20210729']\n",
      "[0.44668587896253603, 310.0, 694]\n",
      "['20210731', '20210731']\n",
      "['20210722', '20210730']\n",
      "[0.47703703703703704, 322.0, 675]\n",
      "['20210801', '20210801']\n",
      "['20210723', '20210731']\n",
      "['20210802', '20210802']\n",
      "['20210724', '20210801']\n",
      "['20210803', '20210803']\n",
      "['20210725', '20210802']\n"
     ]
    },
    {
     "name": "stderr",
     "output_type": "stream",
     "text": [
      "100%|██████████| 10/10 [00:00<00:00, 312.63it/s]\n",
      "100%|██████████| 10/10 [00:00<00:00, 2913.12it/s]\n",
      "100%|██████████| 10/10 [00:00<00:00, 268.44it/s]\n",
      "100%|██████████| 10/10 [00:00<00:00, 344.26it/s]\n",
      "100%|██████████| 10/10 [00:00<00:00, 2158.79it/s]\n",
      "100%|██████████| 10/10 [00:00<00:00, 2131.90it/s]\n",
      "100%|██████████| 10/10 [00:00<00:00, 358.19it/s]\n",
      "100%|██████████| 10/10 [00:00<00:00, 317.89it/s]\n",
      "100%|██████████| 10/10 [00:00<00:00, 2216.04it/s]\n",
      "100%|██████████| 10/10 [00:00<00:00, 2262.54it/s]\n"
     ]
    },
    {
     "name": "stdout",
     "output_type": "stream",
     "text": [
      "[0.43204577968526464, 302.0, 699]\n",
      "['20210804', '20210804']\n",
      "['20210726', '20210803']\n",
      "[0.4423631123919308, 307.0, 694]\n",
      "['20210805', '20210805']\n",
      "['20210727', '20210804']\n"
     ]
    },
    {
     "name": "stderr",
     "output_type": "stream",
     "text": [
      "100%|██████████| 10/10 [00:00<00:00, 356.37it/s]\n",
      "100%|██████████| 10/10 [00:00<00:00, 2842.82it/s]\n",
      "100%|██████████| 10/10 [00:00<00:00, 273.18it/s]\n",
      "100%|██████████| 10/10 [00:00<00:00, 2055.23it/s]\n",
      "100%|██████████| 10/10 [00:00<00:00, 277.12it/s]\n",
      "100%|██████████| 10/10 [00:00<00:00, 312.21it/s]\n",
      "100%|██████████| 10/10 [00:00<00:00, 2279.64it/s]\n",
      "100%|██████████| 10/10 [00:00<00:00, 2248.84it/s]\n",
      "100%|██████████| 10/10 [00:00<00:00, 365.15it/s]\n",
      "100%|██████████| 10/10 [00:00<00:00, 2401.27it/s]\n"
     ]
    },
    {
     "name": "stdout",
     "output_type": "stream",
     "text": [
      "[0.4339080459770115, 302.0, 696]\n",
      "['20210806', '20210806']\n",
      "['20210728', '20210805']\n",
      "[0.47703703703703704, 322.0, 675]\n",
      "['20210807', '20210807']\n",
      "['20210729', '20210806']\n",
      "['20210808', '20210808']\n",
      "['20210730', '20210807']\n",
      "['20210809', '20210809']\n",
      "['20210731', '20210808']\n"
     ]
    },
    {
     "name": "stderr",
     "output_type": "stream",
     "text": [
      "100%|██████████| 10/10 [00:00<00:00, 292.12it/s]\n",
      "100%|██████████| 10/10 [00:00<00:00, 2451.66it/s]\n"
     ]
    },
    {
     "name": "stdout",
     "output_type": "stream",
     "text": [
      "[0.500763358778626, 328.0, 655]\n",
      "['20210810', '20210810']\n",
      "['20210801', '20210809']\n",
      "[0.49698795180722893, 330.0, 664]\n",
      "['20210811', '20210811']\n",
      "['20210802', '20210810']\n",
      "[0.5457413249211357, 346.00000000000006, 634]\n",
      "['20210812', '20210812']\n",
      "['20210803', '20210811']\n"
     ]
    },
    {
     "name": "stderr",
     "output_type": "stream",
     "text": [
      "100%|██████████| 10/10 [00:00<00:00, 318.94it/s]\n",
      "100%|██████████| 10/10 [00:00<00:00, 354.37it/s]\n",
      "100%|██████████| 10/10 [00:00<00:00, 2107.06it/s]\n",
      "100%|██████████| 10/10 [00:00<00:00, 2995.29it/s]\n",
      "100%|██████████| 10/10 [00:00<00:00, 291.48it/s]\n",
      "100%|██████████| 10/10 [00:00<00:00, 2241.15it/s]\n",
      "  0%|          | 0/10 [00:00<?, ?it/s]"
     ]
    },
    {
     "name": "stdout",
     "output_type": "stream",
     "text": [
      "[0.6, 363.0, 605]\n",
      "['20210813', '20210813']\n",
      "['20210804', '20210812']\n",
      "[0.5470219435736677, 349.0, 638]\n",
      "['20210814', '20210814']\n",
      "['20210805', '20210813']\n",
      "[0.5522151898734177, 348.99999999999994, 632]\n",
      "['20210815', '20210815']\n",
      "['20210806', '20210814']\n"
     ]
    },
    {
     "name": "stderr",
     "output_type": "stream",
     "text": [
      "100%|██████████| 10/10 [00:00<00:00, 279.27it/s]\n",
      "100%|██████████| 10/10 [00:00<00:00, 2209.62it/s]\n",
      "100%|██████████| 10/10 [00:00<00:00, 351.76it/s]\n",
      "100%|██████████| 10/10 [00:00<00:00, 312.42it/s]\n",
      "100%|██████████| 10/10 [00:00<00:00, 2298.50it/s]\n",
      "100%|██████████| 10/10 [00:00<00:00, 2129.09it/s]\n"
     ]
    },
    {
     "name": "stdout",
     "output_type": "stream",
     "text": [
      "['20210816', '20210816']\n",
      "['20210807', '20210815']\n",
      "['20210817', '20210817']\n",
      "['20210808', '20210816']\n",
      "[0.5522151898734177, 348.99999999999994, 632]\n",
      "['20210818', '20210818']\n",
      "['20210809', '20210817']\n",
      "[0.6, 363.0, 605]\n",
      "['20210819', '20210819']\n",
      "['20210810', '20210818']\n",
      "[0.500763358778626, 328.0, 655]\n",
      "['20210820', '20210820']\n",
      "['20210811', '20210819']\n",
      "[0.5169230769230769, 336.0, 650]\n",
      "['20210821', '20210821']\n",
      "['20210812', '20210820']\n"
     ]
    },
    {
     "name": "stderr",
     "output_type": "stream",
     "text": [
      "100%|██████████| 10/10 [00:00<00:00, 334.18it/s]\n",
      "100%|██████████| 10/10 [00:00<00:00, 308.00it/s]\n",
      "100%|██████████| 10/10 [00:00<00:00, 2336.40it/s]\n",
      "100%|██████████| 10/10 [00:00<00:00, 2082.78it/s]\n",
      "100%|██████████| 10/10 [00:00<00:00, 278.60it/s]\n",
      "100%|██████████| 10/10 [00:00<00:00, 2027.31it/s]\n",
      "100%|██████████| 10/10 [00:00<00:00, 306.36it/s]\n",
      "100%|██████████| 10/10 [00:00<00:00, 388.85it/s]\n",
      "100%|██████████| 10/10 [00:00<00:00, 2048.00it/s]\n",
      "100%|██████████| 10/10 [00:00<00:00, 2578.10it/s]\n",
      "100%|██████████| 10/10 [00:00<00:00, 344.48it/s]\n",
      "100%|██████████| 10/10 [00:00<00:00, 2017.07it/s]\n",
      "100%|██████████| 10/10 [00:00<00:00, 415.15it/s]\n",
      "100%|██████████| 10/10 [00:00<00:00, 2286.10it/s]\n",
      "100%|██████████| 10/10 [00:00<00:00, 409.94it/s]\n",
      "100%|██████████| 10/10 [00:00<00:00, 2135.92it/s]\n",
      "100%|██████████| 10/10 [00:00<00:00, 350.08it/s]\n",
      "100%|██████████| 10/10 [00:00<00:00, 2312.95it/s]\n"
     ]
    },
    {
     "name": "stdout",
     "output_type": "stream",
     "text": [
      "['20210822', '20210822']\n",
      "['20210813', '20210821']\n",
      "['20210823', '20210823']\n",
      "['20210814', '20210822']\n",
      "['20210824', '20210824']\n",
      "['20210815', '20210823']\n",
      "[0.4726735598227474, 320.0, 677]\n",
      "['20210825', '20210825']\n",
      "['20210816', '20210824']\n",
      "[0.46097201767304863, 313.0, 679]\n",
      "['20210826', '20210826']\n",
      "['20210817', '20210825']\n",
      "[0.5169230769230769, 336.0, 650]\n",
      "['20210827', '20210827']\n",
      "['20210818', '20210826']\n",
      "[0.46971935007385524, 318.0, 677]\n",
      "['20210828', '20210828']\n",
      "['20210819', '20210827']\n"
     ]
    },
    {
     "name": "stderr",
     "output_type": "stream",
     "text": [
      "100%|██████████| 10/10 [00:00<00:00, 307.59it/s]\n",
      "100%|██████████| 10/10 [00:00<00:00, 2185.44it/s]\n",
      "100%|██████████| 10/10 [00:00<00:00, 310.35it/s]\n",
      "100%|██████████| 10/10 [00:00<00:00, 307.21it/s]\n",
      "100%|██████████| 10/10 [00:00<00:00, 2178.07it/s]\n",
      "100%|██████████| 10/10 [00:00<00:00, 2199.66it/s]\n",
      "100%|██████████| 10/10 [00:00<00:00, 348.12it/s]\n",
      "100%|██████████| 10/10 [00:00<00:00, 2128.66it/s]\n",
      "100%|██████████| 10/10 [00:00<00:00, 361.40it/s]\n",
      "100%|██████████| 10/10 [00:00<00:00, 2341.88it/s]\n",
      "100%|██████████| 10/10 [00:00<00:00, 364.39it/s]\n"
     ]
    },
    {
     "name": "stdout",
     "output_type": "stream",
     "text": [
      "['20210829', '20210829']\n",
      "['20210820', '20210828']\n",
      "['20210830', '20210830']\n",
      "['20210821', '20210829']\n"
     ]
    },
    {
     "name": "stderr",
     "output_type": "stream",
     "text": [
      "100%|██████████| 10/10 [00:00<00:00, 2325.39it/s]\n",
      "  0%|          | 0/10 [00:00<?, ?it/s]"
     ]
    },
    {
     "name": "stdout",
     "output_type": "stream",
     "text": [
      "[0.5290423861852434, 337.0, 637]\n",
      "['20210831', '20210831']\n",
      "['20210822', '20210830']\n"
     ]
    },
    {
     "name": "stderr",
     "output_type": "stream",
     "text": [
      "100%|██████████| 10/10 [00:00<00:00, 314.78it/s]\n",
      "100%|██████████| 10/10 [00:00<00:00, 2346.86it/s]\n",
      "100%|██████████| 10/10 [00:00<00:00, 341.54it/s]\n"
     ]
    },
    {
     "name": "stdout",
     "output_type": "stream",
     "text": [
      "[0.49325337331334335, 329.0, 667]\n",
      "['20210901', '20210901']\n",
      "['20210823', '20210831']\n",
      "[0.5290423861852434, 337.0, 637]\n",
      "['20210902', '20210902']\n",
      "['20210824', '20210901']\n"
     ]
    },
    {
     "name": "stderr",
     "output_type": "stream",
     "text": [
      "100%|██████████| 10/10 [00:00<00:00, 285.19it/s]\n",
      "100%|██████████| 10/10 [00:00<00:00, 2082.68it/s]\n",
      "100%|██████████| 10/10 [00:00<00:00, 2247.03it/s]\n"
     ]
    },
    {
     "name": "stdout",
     "output_type": "stream",
     "text": [
      "[0.509009009009009, 339.0, 666]\n",
      "['20210903', '20210903']\n",
      "['20210825', '20210902']\n",
      "[0.5372670807453416, 346.0, 644]\n",
      "['20210904', '20210904']\n",
      "['20210826', '20210903']\n"
     ]
    },
    {
     "name": "stderr",
     "output_type": "stream",
     "text": [
      "100%|██████████| 10/10 [00:00<00:00, 286.99it/s]\n",
      "100%|██████████| 10/10 [00:00<00:00, 2206.14it/s]\n",
      "100%|██████████| 10/10 [00:00<00:00, 294.09it/s]\n",
      "100%|██████████| 10/10 [00:00<00:00, 2289.84it/s]\n",
      "100%|██████████| 10/10 [00:00<00:00, 364.41it/s]\n",
      "100%|██████████| 10/10 [00:00<00:00, 2360.20it/s]\n",
      "100%|██████████| 10/10 [00:00<00:00, 366.03it/s]\n",
      "100%|██████████| 10/10 [00:00<00:00, 2333.02it/s]\n",
      "100%|██████████| 10/10 [00:00<00:00, 318.37it/s]\n",
      "100%|██████████| 10/10 [00:00<00:00, 2273.95it/s]\n"
     ]
    },
    {
     "name": "stdout",
     "output_type": "stream",
     "text": [
      "[0.54, 351.0, 650]\n",
      "['20210905', '20210905']\n",
      "['20210827', '20210904']\n",
      "['20210906', '20210906']\n",
      "['20210828', '20210905']\n",
      "['20210907', '20210907']\n",
      "['20210829', '20210906']\n",
      "[0.5299539170506913, 345.0, 651]\n",
      "['20210908', '20210908']\n",
      "['20210830', '20210907']\n"
     ]
    },
    {
     "name": "stderr",
     "output_type": "stream",
     "text": [
      "100%|██████████| 10/10 [00:00<00:00, 364.88it/s]\n",
      "100%|██████████| 10/10 [00:00<00:00, 2901.23it/s]\n"
     ]
    },
    {
     "name": "stdout",
     "output_type": "stream",
     "text": [
      "[0.5158850226928896, 341.00000000000006, 661]\n",
      "['20210909', '20210909']\n",
      "['20210831', '20210908']\n",
      "[0.6030150753768844, 359.99999999999994, 597]\n",
      "['20210910', '20210910']\n",
      "['20210901', '20210909']\n",
      "[0.5372670807453416, 346.0, 644]\n",
      "['20210911', '20210911']\n",
      "['20210902', '20210910']\n",
      "[0.601639344262295, 367.0, 610]\n",
      "['20210912', '20210912']\n",
      "['20210903', '20210911']\n",
      "['20210913', '20210913']\n",
      "['20210904', '20210912']\n"
     ]
    },
    {
     "name": "stderr",
     "output_type": "stream",
     "text": [
      "100%|██████████| 10/10 [00:00<00:00, 262.68it/s]\n",
      "100%|██████████| 10/10 [00:00<00:00, 1995.58it/s]\n",
      "100%|██████████| 10/10 [00:00<00:00, 306.58it/s]\n",
      "100%|██████████| 10/10 [00:00<00:00, 367.20it/s]\n",
      "100%|██████████| 10/10 [00:00<00:00, 400.51it/s]\n",
      "100%|██████████| 10/10 [00:00<00:00, 3057.30it/s]\n",
      "100%|██████████| 10/10 [00:00<00:00, 2157.67it/s]\n",
      "100%|██████████| 10/10 [00:00<00:00, 2317.81it/s]\n",
      "  0%|          | 0/10 [00:00<?, ?it/s]"
     ]
    },
    {
     "name": "stdout",
     "output_type": "stream",
     "text": [
      "['20210914', '20210914']\n",
      "['20210905', '20210913']\n",
      "['20210915', '20210915']\n",
      "['20210906', '20210914']\n",
      "[0.6345177664974619, 375.0, 591]\n",
      "['20210916', '20210916']\n",
      "['20210907', '20210915']\n",
      "[0.6345177664974619, 375.0, 591]\n",
      "['20210917', '20210917']\n",
      "['20210908', '20210916']\n"
     ]
    },
    {
     "name": "stderr",
     "output_type": "stream",
     "text": [
      "100%|██████████| 10/10 [00:00<00:00, 437.27it/s]\n",
      "100%|██████████| 10/10 [00:00<00:00, 2275.56it/s]\n",
      "100%|██████████| 10/10 [00:00<00:00, 354.42it/s]\n",
      "100%|██████████| 10/10 [00:00<00:00, 305.73it/s]\n",
      "100%|██████████| 10/10 [00:00<00:00, 2044.90it/s]\n",
      "100%|██████████| 10/10 [00:00<00:00, 2155.57it/s]\n",
      "100%|██████████| 10/10 [00:00<00:00, 305.09it/s]\n",
      "100%|██████████| 10/10 [00:00<00:00, 304.96it/s]\n",
      "100%|██████████| 10/10 [00:00<00:00, 2319.47it/s]\n",
      "100%|██████████| 10/10 [00:00<00:00, 2057.34it/s]\n",
      "100%|██████████| 10/10 [00:00<00:00, 342.58it/s]\n",
      "100%|██████████| 10/10 [00:00<00:00, 2150.59it/s]\n",
      "100%|██████████| 10/10 [00:00<00:00, 411.25it/s]\n",
      "100%|██████████| 10/10 [00:00<00:00, 2367.39it/s]\n"
     ]
    },
    {
     "name": "stdout",
     "output_type": "stream",
     "text": [
      "[0.6214405360134003, 371.0, 597]\n",
      "['20210918', '20210918']\n",
      "['20210909', '20210917']\n",
      "['20210919', '20210919']\n",
      "['20210910', '20210918']\n",
      "['20210920', '20210920']\n",
      "['20210911', '20210919']\n"
     ]
    },
    {
     "name": "stderr",
     "output_type": "stream",
     "text": [
      "100%|██████████| 10/10 [00:00<00:00, 353.61it/s]\n",
      "100%|██████████| 10/10 [00:00<00:00, 2344.37it/s]\n",
      "  0%|          | 0/10 [00:00<?, ?it/s]"
     ]
    },
    {
     "name": "stdout",
     "output_type": "stream",
     "text": [
      "[0.5907590759075908, 358.0, 606]\n",
      "['20210921', '20210921']\n",
      "['20210912', '20210920']\n",
      "[0.5907590759075908, 358.0, 606]\n",
      "['20210922', '20210922']\n",
      "['20210913', '20210921']\n"
     ]
    },
    {
     "name": "stderr",
     "output_type": "stream",
     "text": [
      "100%|██████████| 10/10 [00:00<00:00, 314.09it/s]\n",
      "100%|██████████| 10/10 [00:00<00:00, 2075.77it/s]\n",
      "100%|██████████| 10/10 [00:00<00:00, 281.17it/s]\n",
      "100%|██████████| 10/10 [00:00<00:00, 2446.37it/s]\n"
     ]
    },
    {
     "name": "stdout",
     "output_type": "stream",
     "text": [
      "[0.5569823434991974, 347.0, 623]\n",
      "['20210923', '20210923']\n",
      "['20210914', '20210922']\n",
      "[0.5461783439490446, 343.0, 628]\n",
      "['20210924', '20210924']\n",
      "['20210915', '20210923']\n",
      "[0.5659777424483307, 356.0, 629]\n",
      "['20210925', '20210925']\n",
      "['20210916', '20210924']\n"
     ]
    },
    {
     "name": "stderr",
     "output_type": "stream",
     "text": [
      "100%|██████████| 10/10 [00:00<00:00, 286.64it/s]\n",
      "100%|██████████| 10/10 [00:00<00:00, 2054.12it/s]\n",
      "100%|██████████| 10/10 [00:00<00:00, 313.22it/s]\n",
      "100%|██████████| 10/10 [00:00<00:00, 3024.01it/s]\n",
      "100%|██████████| 10/10 [00:00<00:00, 309.13it/s]\n",
      "100%|██████████| 10/10 [00:00<00:00, 2252.58it/s]\n",
      "100%|██████████| 10/10 [00:00<00:00, 348.86it/s]\n",
      "100%|██████████| 10/10 [00:00<00:00, 356.93it/s]\n",
      "100%|██████████| 10/10 [00:00<00:00, 2324.62it/s]\n",
      "100%|██████████| 10/10 [00:00<00:00, 2384.08it/s]\n",
      "100%|██████████| 10/10 [00:00<00:00, 317.95it/s]\n",
      "100%|██████████| 10/10 [00:00<00:00, 2114.49it/s]\n"
     ]
    },
    {
     "name": "stdout",
     "output_type": "stream",
     "text": [
      "['20210926', '20210926']\n",
      "['20210917', '20210925']\n",
      "[0.5659777424483307, 356.0, 629]\n",
      "['20210927', '20210927']\n",
      "['20210918', '20210926']\n",
      "['20210928', '20210928']\n",
      "['20210919', '20210927']\n",
      "[0.524390243902439, 344.0, 656]\n",
      "['20210929', '20210929']\n",
      "['20210920', '20210928']\n"
     ]
    },
    {
     "name": "stderr",
     "output_type": "stream",
     "text": [
      "100%|██████████| 10/10 [00:00<00:00, 277.71it/s]\n",
      "100%|██████████| 10/10 [00:00<00:00, 2185.22it/s]\n",
      "100%|██████████| 10/10 [00:00<00:00, 275.88it/s]\n",
      "100%|██████████| 10/10 [00:00<00:00, 2149.49it/s]\n",
      "100%|██████████| 10/10 [00:00<00:00, 276.77it/s]\n",
      "100%|██████████| 10/10 [00:00<00:00, 2017.56it/s]\n",
      "100%|██████████| 10/10 [00:00<00:00, 296.56it/s]\n",
      "100%|██████████| 10/10 [00:00<00:00, 414.60it/s]\n",
      "100%|██████████| 10/10 [00:00<00:00, 2183.17it/s]\n",
      "100%|██████████| 10/10 [00:00<00:00, 2974.89it/s]\n"
     ]
    },
    {
     "name": "stdout",
     "output_type": "stream",
     "text": [
      "[0.5492063492063493, 346.00000000000006, 630]\n",
      "['20210930', '20210930']\n",
      "['20210921', '20210929']\n",
      "[0.5338461538461539, 347.0, 650]\n",
      "['20211001', '20211001']\n",
      "['20210922', '20210930']\n",
      "[0.5015290519877675, 327.99999999999994, 654]\n",
      "['20211002', '20211002']\n",
      "['20210923', '20211001']\n",
      "[0.5341614906832298, 344.0, 644]\n",
      "['20211003', '20211003']\n",
      "['20210924', '20211002']\n",
      "[0.5230061349693251, 341.0, 652]\n",
      "['20211004', '20211004']\n",
      "['20210925', '20211003']\n",
      "['20211005', '20211005']\n",
      "['20210926', '20211004']\n",
      "['20211006', '20211006']\n",
      "['20210927', '20211005']\n",
      "[0.6026272577996716, 367.0, 609]\n",
      "['20211007', '20211007']\n",
      "['20210928', '20211006']\n",
      "[0.6026272577996716, 367.0, 609]\n",
      "['20211008', '20211008']\n",
      "['20210929', '20211007']\n"
     ]
    },
    {
     "name": "stderr",
     "output_type": "stream",
     "text": [
      "100%|██████████| 10/10 [00:00<00:00, 333.40it/s]\n",
      "100%|██████████| 10/10 [00:00<00:00, 2268.79it/s]\n",
      "100%|██████████| 10/10 [00:00<00:00, 272.36it/s]\n",
      "100%|██████████| 10/10 [00:00<00:00, 273.52it/s]\n",
      "100%|██████████| 10/10 [00:00<00:00, 2846.49it/s]\n",
      "100%|██████████| 10/10 [00:00<00:00, 2124.77it/s]\n",
      "100%|██████████| 10/10 [00:00<00:00, 257.04it/s]\n",
      "100%|██████████| 10/10 [00:00<00:00, 2112.25it/s]\n",
      "100%|██████████| 10/10 [00:00<00:00, 256.48it/s]\n",
      "100%|██████████| 10/10 [00:00<00:00, 2216.86it/s]\n"
     ]
    },
    {
     "name": "stdout",
     "output_type": "stream",
     "text": [
      "[0.5282131661442007, 337.0, 638]\n",
      "['20211009', '20211009']\n",
      "['20210930', '20211008']\n",
      "[0.5282131661442007, 337.0, 638]\n",
      "['20211010', '20211010']\n",
      "['20211001', '20211009']\n",
      "['20211011', '20211011']\n",
      "['20211002', '20211010']\n",
      "['20211012', '20211012']\n",
      "['20211003', '20211011']\n"
     ]
    },
    {
     "name": "stderr",
     "output_type": "stream",
     "text": [
      "100%|██████████| 10/10 [00:00<00:00, 308.98it/s]\n",
      "100%|██████████| 10/10 [00:00<00:00, 2064.13it/s]\n",
      "100%|██████████| 10/10 [00:00<00:00, 345.07it/s]\n",
      "100%|██████████| 10/10 [00:00<00:00, 2096.84it/s]\n",
      "100%|██████████| 10/10 [00:00<00:00, 331.04it/s]\n",
      "100%|██████████| 10/10 [00:00<00:00, 2130.60it/s]\n",
      "100%|██████████| 10/10 [00:00<00:00, 284.52it/s]\n",
      "100%|██████████| 10/10 [00:00<00:00, 1846.25it/s]\n",
      "  0%|          | 0/10 [00:00<?, ?it/s]"
     ]
    },
    {
     "name": "stdout",
     "output_type": "stream",
     "text": [
      "[0.5, 327.0, 654]\n",
      "['20211013', '20211013']\n",
      "['20211004', '20211012']\n",
      "[0.5218068535825545, 335.0, 642]\n",
      "['20211014', '20211014']\n",
      "['20211005', '20211013']\n",
      "[0.5455974842767296, 347.00000000000006, 636]\n",
      "['20211015', '20211015']\n",
      "['20211006', '20211014']\n"
     ]
    },
    {
     "name": "stderr",
     "output_type": "stream",
     "text": [
      "100%|██████████| 10/10 [00:00<00:00, 273.56it/s]\n",
      "100%|██████████| 10/10 [00:00<00:00, 2222.15it/s]\n",
      "100%|██████████| 10/10 [00:00<00:00, 267.91it/s]\n",
      "100%|██████████| 10/10 [00:00<00:00, 290.69it/s]\n",
      "100%|██████████| 10/10 [00:00<00:00, 2172.54it/s]\n",
      "100%|██████████| 10/10 [00:00<00:00, 2329.65it/s]\n",
      "100%|██████████| 10/10 [00:00<00:00, 340.35it/s]\n",
      "100%|██████████| 10/10 [00:00<00:00, 2297.87it/s]\n",
      "100%|██████████| 10/10 [00:00<00:00, 388.60it/s]\n",
      "100%|██████████| 10/10 [00:00<00:00, 2411.21it/s]\n",
      "100%|██████████| 10/10 [00:00<00:00, 385.40it/s]\n",
      "100%|██████████| 10/10 [00:00<00:00, 2459.28it/s]\n",
      "100%|██████████| 10/10 [00:00<00:00, 334.32it/s]\n"
     ]
    },
    {
     "name": "stdout",
     "output_type": "stream",
     "text": [
      "[0.5705024311183144, 352.0, 617]\n",
      "['20211016', '20211016']\n",
      "['20211007', '20211015']\n",
      "['20211017', '20211017']\n",
      "['20211008', '20211016']\n",
      "['20211018', '20211018']\n",
      "['20211009', '20211017']\n",
      "['20211019', '20211019']\n",
      "['20211010', '20211018']\n"
     ]
    },
    {
     "name": "stderr",
     "output_type": "stream",
     "text": [
      "100%|██████████| 10/10 [00:00<00:00, 2346.60it/s]\n"
     ]
    },
    {
     "name": "stdout",
     "output_type": "stream",
     "text": [
      "[0.5705024311183144, 352.0, 617]\n",
      "['20211020', '20211020']\n",
      "['20211011', '20211019']\n",
      "[0.539906103286385, 345.0, 639]\n",
      "['20211021', '20211021']\n",
      "['20211012', '20211020']\n",
      "[0.540625, 346.0, 640]\n",
      "['20211022', '20211022']\n",
      "['20211013', '20211021']\n"
     ]
    },
    {
     "name": "stderr",
     "output_type": "stream",
     "text": [
      "100%|██████████| 10/10 [00:00<00:00, 288.00it/s]\n",
      "100%|██████████| 10/10 [00:00<00:00, 2200.93it/s]\n",
      "100%|██████████| 10/10 [00:00<00:00, 286.76it/s]\n",
      "100%|██████████| 10/10 [00:00<00:00, 369.56it/s]\n",
      "100%|██████████| 10/10 [00:00<00:00, 2213.59it/s]\n",
      "100%|██████████| 10/10 [00:00<00:00, 2970.89it/s]\n"
     ]
    },
    {
     "name": "stdout",
     "output_type": "stream",
     "text": [
      "[0.5, 335.0, 670]\n",
      "['20211023', '20211023']\n",
      "['20211014', '20211022']\n",
      "['20211024', '20211024']\n",
      "['20211015', '20211023']\n",
      "['20211025', '20211025']\n",
      "['20211016', '20211024']\n",
      "[0.49700598802395207, 332.0, 668]\n",
      "['20211026', '20211026']\n",
      "['20211017', '20211025']\n",
      "[0.5261538461538462, 342.0, 650]\n",
      "['20211027', '20211027']\n",
      "['20211018', '20211026']\n"
     ]
    },
    {
     "name": "stderr",
     "output_type": "stream",
     "text": [
      "100%|██████████| 10/10 [00:00<00:00, 461.35it/s]\n",
      "100%|██████████| 10/10 [00:00<00:00, 3155.75it/s]\n",
      "100%|██████████| 10/10 [00:00<00:00, 474.20it/s]\n",
      "100%|██████████| 10/10 [00:00<00:00, 3241.35it/s]\n",
      "100%|██████████| 10/10 [00:00<00:00, 402.15it/s]\n",
      "100%|██████████| 10/10 [00:00<00:00, 2215.69it/s]\n",
      "100%|██████████| 10/10 [00:00<00:00, 286.41it/s]\n",
      "100%|██████████| 10/10 [00:00<00:00, 2249.56it/s]\n",
      "100%|██████████| 10/10 [00:00<00:00, 249.96it/s]\n",
      "100%|██████████| 10/10 [00:00<00:00, 2105.15it/s]\n",
      "100%|██████████| 10/10 [00:00<00:00, 248.83it/s]\n",
      "100%|██████████| 10/10 [00:00<00:00, 1991.22it/s]\n",
      "  0%|          | 0/10 [00:00<?, ?it/s]"
     ]
    },
    {
     "name": "stdout",
     "output_type": "stream",
     "text": [
      "[0.5128593040847201, 339.0, 661]\n",
      "['20211028', '20211028']\n",
      "['20211019', '20211027']\n",
      "[0.5059880239520959, 338.00000000000006, 668]\n",
      "['20211029', '20211029']\n",
      "['20211020', '20211028']\n",
      "[0.540625, 346.0, 640]\n",
      "['20211030', '20211030']\n",
      "['20211021', '20211029']\n"
     ]
    },
    {
     "name": "stderr",
     "output_type": "stream",
     "text": [
      "100%|██████████| 10/10 [00:00<00:00, 257.36it/s]\n",
      "100%|██████████| 10/10 [00:00<00:00, 2150.26it/s]\n",
      "100%|██████████| 10/10 [00:00<00:00, 290.87it/s]\n",
      "100%|██████████| 10/10 [00:00<00:00, 2135.38it/s]\n",
      "  0%|          | 0/10 [00:00<?, ?it/s]"
     ]
    },
    {
     "name": "stdout",
     "output_type": "stream",
     "text": [
      "[0.53125, 340.0, 640]\n",
      "['20211031', '20211031']\n",
      "['20211022', '20211030']\n",
      "['20211101', '20211101']\n",
      "['20211023', '20211031']\n",
      "['20211102', '20211102']\n",
      "['20211024', '20211101']\n"
     ]
    },
    {
     "name": "stderr",
     "output_type": "stream",
     "text": [
      "100%|██████████| 10/10 [00:00<00:00, 356.42it/s]\n",
      "100%|██████████| 10/10 [00:00<00:00, 315.01it/s]\n",
      "100%|██████████| 10/10 [00:00<00:00, 3110.12it/s]\n",
      "100%|██████████| 10/10 [00:00<00:00, 2181.81it/s]\n",
      "100%|██████████| 10/10 [00:00<00:00, 367.18it/s]\n",
      "100%|██████████| 10/10 [00:00<00:00, 2890.43it/s]\n",
      "100%|██████████| 10/10 [00:00<00:00, 260.71it/s]\n",
      "100%|██████████| 10/10 [00:00<00:00, 2183.74it/s]\n",
      "100%|██████████| 10/10 [00:00<00:00, 252.06it/s]\n",
      "100%|██████████| 10/10 [00:00<00:00, 283.86it/s]\n",
      "100%|██████████| 10/10 [00:00<00:00, 2096.10it/s]\n",
      "100%|██████████| 10/10 [00:00<00:00, 2264.01it/s]\n",
      "  0%|          | 0/10 [00:00<?, ?it/s]"
     ]
    },
    {
     "name": "stdout",
     "output_type": "stream",
     "text": [
      "[0.53125, 340.0, 640]\n",
      "['20211103', '20211103']\n",
      "['20211025', '20211102']\n",
      "[0.4842105263157895, 322.0, 665]\n",
      "['20211104', '20211104']\n",
      "['20211026', '20211103']\n",
      "[0.5015197568389058, 330.0, 658]\n",
      "['20211105', '20211105']\n",
      "['20211027', '20211104']\n",
      "['20211106', '20211106']\n",
      "['20211028', '20211105']\n"
     ]
    },
    {
     "name": "stderr",
     "output_type": "stream",
     "text": [
      "100%|██████████| 10/10 [00:00<00:00, 335.88it/s]\n",
      "100%|██████████| 10/10 [00:00<00:00, 2363.12it/s]\n",
      "100%|██████████| 10/10 [00:00<00:00, 390.57it/s]\n",
      "100%|██████████| 10/10 [00:00<00:00, 2387.06it/s]\n",
      "100%|██████████| 10/10 [00:00<00:00, 383.14it/s]\n",
      "100%|██████████| 10/10 [00:00<00:00, 2462.02it/s]\n",
      "100%|██████████| 10/10 [00:00<00:00, 337.84it/s]\n"
     ]
    },
    {
     "name": "stdout",
     "output_type": "stream",
     "text": [
      "['20211107', '20211107']\n",
      "['20211029', '20211106']\n",
      "[0.5718901453957996, 354.0, 619]\n",
      "['20211108', '20211108']\n",
      "['20211030', '20211107']\n",
      "['20211109', '20211109']\n",
      "['20211031', '20211108']\n",
      "[0.5718901453957996, 354.0, 619]\n",
      "['20211110', '20211110']\n",
      "['20211101', '20211109']\n"
     ]
    },
    {
     "name": "stderr",
     "output_type": "stream",
     "text": [
      "100%|██████████| 10/10 [00:00<00:00, 2317.17it/s]\n",
      "100%|██████████| 10/10 [00:00<00:00, 281.95it/s]\n",
      "100%|██████████| 10/10 [00:00<00:00, 2372.75it/s]\n"
     ]
    },
    {
     "name": "stdout",
     "output_type": "stream",
     "text": [
      "[0.5273010920436817, 337.99999999999994, 641]\n",
      "['20211111', '20211111']\n",
      "['20211102', '20211110']\n"
     ]
    },
    {
     "name": "stderr",
     "output_type": "stream",
     "text": [
      "100%|██████████| 10/10 [00:00<00:00, 345.08it/s]\n",
      "100%|██████████| 10/10 [00:00<00:00, 3045.09it/s]\n",
      "  0%|          | 0/10 [00:00<?, ?it/s]"
     ]
    },
    {
     "name": "stdout",
     "output_type": "stream",
     "text": [
      "[0.5664, 354.0, 625]\n",
      "['20211112', '20211112']\n",
      "['20211103', '20211111']\n",
      "[0.5445859872611465, 342.0, 628]\n",
      "['20211113', '20211113']\n",
      "['20211104', '20211112']\n",
      "['20211114', '20211114']\n",
      "['20211105', '20211113']\n"
     ]
    },
    {
     "name": "stderr",
     "output_type": "stream",
     "text": [
      "100%|██████████| 10/10 [00:00<00:00, 298.65it/s]\n",
      "100%|██████████| 10/10 [00:00<00:00, 2105.15it/s]\n",
      "100%|██████████| 10/10 [00:00<00:00, 338.23it/s]\n",
      "100%|██████████| 10/10 [00:00<00:00, 2199.89it/s]\n",
      "100%|██████████| 10/10 [00:00<00:00, 328.01it/s]\n",
      "100%|██████████| 10/10 [00:00<00:00, 2283.73it/s]\n",
      "100%|██████████| 10/10 [00:00<00:00, 340.72it/s]\n",
      "100%|██████████| 10/10 [00:00<00:00, 2320.37it/s]\n"
     ]
    },
    {
     "name": "stdout",
     "output_type": "stream",
     "text": [
      "['20211115', '20211115']\n",
      "['20211106', '20211114']\n"
     ]
    },
    {
     "name": "stderr",
     "output_type": "stream",
     "text": [
      "100%|██████████| 10/10 [00:00<00:00, 301.44it/s]\n",
      "100%|██████████| 10/10 [00:00<00:00, 2278.77it/s]\n"
     ]
    },
    {
     "name": "stdout",
     "output_type": "stream",
     "text": [
      "[0.5338582677165354, 339.0, 635]\n",
      "['20211116', '20211116']\n",
      "['20211107', '20211115']\n",
      "[0.5591054313099042, 350.00000000000006, 626]\n",
      "['20211117', '20211117']\n",
      "['20211108', '20211116']\n",
      "[0.5518341307814992, 346.0, 627]\n",
      "['20211118', '20211118']\n",
      "['20211109', '20211117']\n",
      "[0.5667752442996743, 348.0, 614]\n",
      "['20211119', '20211119']\n",
      "['20211110', '20211118']\n",
      "[0.5927750410509032, 361.00000000000006, 609]\n",
      "['20211120', '20211120']\n",
      "['20211111', '20211119']\n",
      "[0.5927750410509032, 361.00000000000006, 609]\n",
      "['20211121', '20211121']\n",
      "['20211112', '20211120']\n",
      "['20211122', '20211122']\n",
      "['20211113', '20211121']\n",
      "['20211123', '20211123']\n",
      "['20211114', '20211122']\n",
      "['20211124', '20211124']\n",
      "['20211115', '20211123']\n"
     ]
    },
    {
     "name": "stderr",
     "output_type": "stream",
     "text": [
      "100%|██████████| 10/10 [00:00<00:00, 253.29it/s]\n",
      "100%|██████████| 10/10 [00:00<00:00, 284.39it/s]\n",
      "100%|██████████| 10/10 [00:00<00:00, 252.10it/s]\n",
      "100%|██████████| 10/10 [00:00<00:00, 2063.52it/s]\n",
      "100%|██████████| 10/10 [00:00<00:00, 2285.85it/s]\n",
      "100%|██████████| 10/10 [00:00<00:00, 2196.09it/s]\n",
      "100%|██████████| 10/10 [00:00<00:00, 321.71it/s]\n",
      "100%|██████████| 10/10 [00:00<00:00, 2318.19it/s]\n",
      "100%|██████████| 10/10 [00:00<00:00, 369.84it/s]\n",
      "100%|██████████| 10/10 [00:00<00:00, 2113.32it/s]\n",
      "100%|██████████| 10/10 [00:00<00:00, 371.92it/s]\n",
      "100%|██████████| 10/10 [00:00<00:00, 2380.83it/s]\n",
      "100%|██████████| 10/10 [00:00<00:00, 326.75it/s]\n",
      "100%|██████████| 10/10 [00:00<00:00, 2329.52it/s]\n",
      "100%|██████████| 10/10 [00:00<00:00, 281.91it/s]\n",
      "100%|██████████| 10/10 [00:00<00:00, 2082.06it/s]\n",
      "100%|██████████| 10/10 [00:00<00:00, 296.30it/s]\n",
      "100%|██████████| 10/10 [00:00<00:00, 2079.27it/s]\n"
     ]
    },
    {
     "name": "stdout",
     "output_type": "stream",
     "text": [
      "[0.5667752442996743, 348.0, 614]\n",
      "['20211125', '20211125']\n",
      "['20211116', '20211124']\n",
      "[0.5276461295418642, 334.0, 633]\n",
      "['20211126', '20211126']\n",
      "['20211117', '20211125']\n",
      "[0.5259026687598116, 335.0, 637]\n",
      "['20211127', '20211127']\n",
      "['20211118', '20211126']\n",
      "[0.584717607973422, 352.00000000000006, 602]\n",
      "['20211128', '20211128']\n",
      "['20211119', '20211127']\n",
      "[0.584717607973422, 352.00000000000006, 602]\n",
      "['20211129', '20211129']\n",
      "['20211120', '20211128']\n"
     ]
    },
    {
     "name": "stderr",
     "output_type": "stream",
     "text": [
      "100%|██████████| 10/10 [00:00<00:00, 289.23it/s]\n",
      "100%|██████████| 10/10 [00:00<00:00, 2078.14it/s]\n",
      "100%|██████████| 10/10 [00:00<00:00, 327.77it/s]\n",
      "100%|██████████| 10/10 [00:00<00:00, 384.09it/s]\n",
      "100%|██████████| 10/10 [00:00<00:00, 2069.42it/s]\n",
      "100%|██████████| 10/10 [00:00<00:00, 324.59it/s]\n",
      "100%|██████████| 10/10 [00:00<00:00, 2173.21it/s]\n",
      "100%|██████████| 10/10 [00:00<00:00, 1988.01it/s]\n",
      "100%|██████████| 10/10 [00:00<00:00, 280.59it/s]\n",
      "100%|██████████| 10/10 [00:00<00:00, 250.12it/s]\n",
      "100%|██████████| 10/10 [00:00<00:00, 246.27it/s]\n",
      "100%|██████████| 10/10 [00:00<00:00, 2281.50it/s]\n",
      "100%|██████████| 10/10 [00:00<00:00, 2195.40it/s]\n",
      "100%|██████████| 10/10 [00:00<00:00, 2148.94it/s]\n"
     ]
    },
    {
     "name": "stdout",
     "output_type": "stream",
     "text": [
      "[0.5441412520064205, 338.99999999999994, 623]\n",
      "['20211130', '20211130']\n",
      "['20211121', '20211129']\n",
      "['20211201', '20211201']\n",
      "['20211122', '20211130']\n",
      "['20211202', '20211202']\n",
      "['20211123', '20211201']\n",
      "[0.5390749601275917, 338.0, 627]\n",
      "['20211203', '20211203']\n",
      "['20211124', '20211202']\n"
     ]
    },
    {
     "name": "stderr",
     "output_type": "stream",
     "text": [
      "100%|██████████| 10/10 [00:00<00:00, 263.12it/s]\n",
      "100%|██████████| 10/10 [00:00<00:00, 2021.35it/s]\n"
     ]
    },
    {
     "name": "stdout",
     "output_type": "stream",
     "text": [
      "[0.5244865718799369, 332.00000000000006, 633]\n",
      "['20211204', '20211204']\n",
      "['20211125', '20211203']\n",
      "['20211205', '20211205']\n",
      "['20211126', '20211204']\n"
     ]
    },
    {
     "name": "stderr",
     "output_type": "stream",
     "text": [
      "100%|██████████| 10/10 [00:00<00:00, 299.68it/s]\n",
      "100%|██████████| 10/10 [00:00<00:00, 2242.70it/s]\n",
      "100%|██████████| 10/10 [00:00<00:00, 338.21it/s]\n",
      "100%|██████████| 10/10 [00:00<00:00, 2301.28it/s]\n"
     ]
    },
    {
     "name": "stdout",
     "output_type": "stream",
     "text": [
      "['20211206', '20211206']\n",
      "['20211127', '20211205']\n",
      "[0.5161787365177196, 335.00000000000006, 649]\n",
      "['20211207', '20211207']\n",
      "['20211128', '20211206']\n",
      "[0.5161787365177196, 335.00000000000006, 649]\n",
      "['20211208', '20211208']\n",
      "['20211129', '20211207']\n"
     ]
    },
    {
     "name": "stderr",
     "output_type": "stream",
     "text": [
      "100%|██████████| 10/10 [00:00<00:00, 338.06it/s]\n",
      "100%|██████████| 10/10 [00:00<00:00, 2340.83it/s]\n",
      "100%|██████████| 10/10 [00:00<00:00, 293.20it/s]\n",
      "100%|██████████| 10/10 [00:00<00:00, 2264.13it/s]\n",
      "100%|██████████| 10/10 [00:00<00:00, 286.68it/s]\n",
      "100%|██████████| 10/10 [00:00<00:00, 2204.86it/s]\n",
      "100%|██████████| 10/10 [00:00<00:00, 349.72it/s]\n",
      "100%|██████████| 10/10 [00:00<00:00, 2043.41it/s]\n",
      "  0%|          | 0/10 [00:00<?, ?it/s]"
     ]
    },
    {
     "name": "stdout",
     "output_type": "stream",
     "text": [
      "[0.48721804511278194, 324.0, 665]\n",
      "['20211209', '20211209']\n",
      "['20211130', '20211208']\n",
      "[0.49101796407185627, 328.0, 668]\n",
      "['20211210', '20211210']\n",
      "['20211201', '20211209']\n"
     ]
    },
    {
     "name": "stderr",
     "output_type": "stream",
     "text": [
      "100%|██████████| 10/10 [00:00<00:00, 211.68it/s]\n",
      "100%|██████████| 10/10 [00:00<00:00, 2047.60it/s]\n",
      "100%|██████████| 10/10 [00:00<00:00, 292.21it/s]\n",
      "100%|██████████| 10/10 [00:00<00:00, 337.75it/s]\n",
      "100%|██████████| 10/10 [00:00<00:00, 2194.25it/s]\n",
      "100%|██████████| 10/10 [00:00<00:00, 2159.34it/s]\n",
      "100%|██████████| 10/10 [00:00<00:00, 218.87it/s]\n",
      "100%|██████████| 10/10 [00:00<00:00, 221.77it/s]\n",
      "100%|██████████| 10/10 [00:00<00:00, 214.46it/s]\n",
      "100%|██████████| 10/10 [00:00<00:00, 2074.33it/s]\n",
      "100%|██████████| 10/10 [00:00<00:00, 2107.06it/s]\n",
      "100%|██████████| 10/10 [00:00<00:00, 2082.68it/s]\n"
     ]
    },
    {
     "name": "stdout",
     "output_type": "stream",
     "text": [
      "[0.6260720411663808, 365.0, 583]\n",
      "['20211211', '20211211']\n",
      "['20211202', '20211210']\n",
      "[0.6073825503355704, 362.0, 596]\n",
      "['20211212', '20211212']\n",
      "['20211203', '20211211']\n",
      "['20211213', '20211213']\n",
      "['20211204', '20211212']\n",
      "['20211214', '20211214']\n",
      "['20211205', '20211213']\n",
      "[0.6010016694490818, 360.0, 599]\n",
      "['20211215', '20211215']\n",
      "['20211206', '20211214']\n",
      "[0.6050420168067226, 360.0, 595]\n",
      "['20211216', '20211216']\n",
      "['20211207', '20211215']\n"
     ]
    },
    {
     "name": "stderr",
     "output_type": "stream",
     "text": [
      "100%|██████████| 10/10 [00:00<00:00, 333.46it/s]\n",
      "100%|██████████| 10/10 [00:00<00:00, 2982.51it/s]\n"
     ]
    },
    {
     "name": "stdout",
     "output_type": "stream",
     "text": [
      "[0.5966386554621849, 355.0, 595]\n",
      "['20211217', '20211217']\n",
      "['20211208', '20211216']\n",
      "[0.6260720411663808, 365.0, 583]\n",
      "['20211218', '20211218']\n",
      "['20211209', '20211217']\n",
      "[0.5658536585365853, 347.99999999999994, 615]\n",
      "['20211219', '20211219']\n",
      "['20211210', '20211218']\n",
      "[0.5966386554621849, 355.0, 595]\n",
      "['20211220', '20211220']\n",
      "['20211211', '20211219']\n",
      "['20211221', '20211221']\n",
      "['20211212', '20211220']\n",
      "[0.5646481178396072, 345.0, 611]\n",
      "['20211222', '20211222']\n",
      "['20211213', '20211221']\n",
      "['20211223', '20211223']\n",
      "['20211214', '20211222']\n"
     ]
    },
    {
     "name": "stderr",
     "output_type": "stream",
     "text": [
      "100%|██████████| 10/10 [00:00<00:00, 259.66it/s]\n",
      "100%|██████████| 10/10 [00:00<00:00, 300.81it/s]\n",
      "100%|██████████| 10/10 [00:00<00:00, 2085.27it/s]\n",
      "100%|██████████| 10/10 [00:00<00:00, 2090.25it/s]\n",
      "100%|██████████| 10/10 [00:00<00:00, 325.77it/s]\n",
      "100%|██████████| 10/10 [00:00<00:00, 2273.95it/s]\n",
      "100%|██████████| 10/10 [00:00<00:00, 327.91it/s]\n",
      "100%|██████████| 10/10 [00:00<00:00, 2190.58it/s]\n",
      "100%|██████████| 10/10 [00:00<00:00, 291.26it/s]\n",
      "  0%|          | 0/10 [00:00<?, ?it/s]"
     ]
    },
    {
     "name": "stdout",
     "output_type": "stream",
     "text": [
      "[0.5686274509803921, 348.0, 612]\n",
      "['20211224', '20211224']\n",
      "['20211215', '20211223']\n"
     ]
    },
    {
     "name": "stderr",
     "output_type": "stream",
     "text": [
      "100%|██████████| 10/10 [00:00<00:00, 2139.30it/s]\n",
      "100%|██████████| 10/10 [00:00<00:00, 248.74it/s]\n",
      "100%|██████████| 10/10 [00:00<00:00, 249.03it/s]\n",
      "100%|██████████| 10/10 [00:00<00:00, 2123.91it/s]\n",
      "100%|██████████| 10/10 [00:00<00:00, 253.91it/s]\n",
      "100%|██████████| 10/10 [00:00<00:00, 2053.11it/s]\n",
      "100%|██████████| 10/10 [00:00<00:00, 2185.90it/s]\n"
     ]
    },
    {
     "name": "stdout",
     "output_type": "stream",
     "text": [
      "[0.5379746835443038, 340.0, 632]\n",
      "['20211225', '20211225']\n",
      "['20211216', '20211224']\n",
      "['20211226', '20211226']\n",
      "['20211217', '20211225']\n",
      "['20211227', '20211227']\n",
      "['20211218', '20211226']\n",
      "[0.5718954248366013, 350.0, 612]\n",
      "['20211228', '20211228']\n",
      "['20211219', '20211227']\n"
     ]
    },
    {
     "name": "stderr",
     "output_type": "stream",
     "text": [
      "100%|██████████| 10/10 [00:00<00:00, 374.25it/s]\n",
      "100%|██████████| 10/10 [00:00<00:00, 2898.02it/s]\n",
      "100%|██████████| 10/10 [00:00<00:00, 449.15it/s]\n",
      "100%|██████████| 10/10 [00:00<00:00, 3093.37it/s]\n",
      "100%|██████████| 10/10 [00:00<00:00, 365.49it/s]\n",
      "100%|██████████| 10/10 [00:00<00:00, 3028.38it/s]\n",
      "100%|██████████| 10/10 [00:00<00:00, 285.64it/s]\n",
      "100%|██████████| 10/10 [00:00<00:00, 2256.82it/s]\n",
      "100%|██████████| 10/10 [00:00<00:00, 261.06it/s]\n",
      "100%|██████████| 10/10 [00:00<00:00, 2059.26it/s]\n"
     ]
    },
    {
     "name": "stdout",
     "output_type": "stream",
     "text": [
      "[0.5718954248366013, 350.0, 612]\n",
      "['20211229', '20211229']\n",
      "['20211220', '20211228']\n",
      "[0.5184615384615384, 337.0, 650]\n",
      "['20211230', '20211230']\n",
      "['20211221', '20211229']\n",
      "[0.5360501567398119, 342.0, 638]\n",
      "['20211231', '20211231']\n",
      "['20211222', '20211230']\n",
      "[0.5290423861852434, 337.0, 637]\n",
      "['20220101', '20220101']\n",
      "['20211223', '20211231']\n",
      "[0.503793626707132, 332.0, 659]\n",
      "['20220102', '20220102']\n",
      "['20211224', '20220101']\n"
     ]
    },
    {
     "name": "stderr",
     "output_type": "stream",
     "text": [
      "100%|██████████| 10/10 [00:00<00:00, 246.56it/s]\n",
      "100%|██████████| 10/10 [00:00<00:00, 2064.94it/s]\n",
      "100%|██████████| 10/10 [00:00<00:00, 323.44it/s]\n",
      "100%|██████████| 10/10 [00:00<00:00, 2945.44it/s]\n",
      "100%|██████████| 10/10 [00:00<00:00, 279.82it/s]\n",
      "100%|██████████| 10/10 [00:00<00:00, 2259.62it/s]\n",
      "100%|██████████| 10/10 [00:00<00:00, 327.11it/s]\n",
      "100%|██████████| 10/10 [00:00<00:00, 2240.19it/s]\n"
     ]
    },
    {
     "name": "stdout",
     "output_type": "stream",
     "text": [
      "['20220103', '20220103']\n",
      "['20211225', '20220102']\n",
      "['20220104', '20220104']\n",
      "['20211226', '20220103']\n",
      "[0.5123456790123457, 332.00000000000006, 648]\n",
      "['20220105', '20220105']\n",
      "['20211227', '20220104']\n",
      "[0.5290423861852434, 337.0, 637]\n",
      "['20220106', '20220106']\n",
      "['20211228', '20220105']\n"
     ]
    },
    {
     "name": "stderr",
     "output_type": "stream",
     "text": [
      "100%|██████████| 10/10 [00:00<00:00, 308.90it/s]\n",
      "100%|██████████| 10/10 [00:00<00:00, 2139.95it/s]\n",
      "100%|██████████| 10/10 [00:00<00:00, 282.62it/s]\n",
      "100%|██████████| 10/10 [00:00<00:00, 2127.36it/s]\n",
      "100%|██████████| 10/10 [00:00<00:00, 255.89it/s]\n",
      "100%|██████████| 10/10 [00:00<00:00, 2232.91it/s]\n",
      "100%|██████████| 10/10 [00:00<00:00, 233.98it/s]\n",
      "100%|██████████| 10/10 [00:00<00:00, 2064.53it/s]\n",
      "100%|██████████| 10/10 [00:00<00:00, 260.23it/s]\n",
      "100%|██████████| 10/10 [00:00<00:00, 2029.86it/s]\n"
     ]
    },
    {
     "name": "stdout",
     "output_type": "stream",
     "text": [
      "[0.4877675840978593, 319.0, 654]\n",
      "['20220107', '20220107']\n",
      "['20211229', '20220106']\n",
      "[0.5766666666666667, 346.0, 600]\n",
      "['20220108', '20220108']\n",
      "['20211230', '20220107']\n",
      "['20220109', '20220109']\n",
      "['20211231', '20220108']\n",
      "[0.5390749601275917, 338.0, 627]\n",
      "['20220110', '20220110']\n",
      "['20220101', '20220109']\n"
     ]
    },
    {
     "name": "stderr",
     "output_type": "stream",
     "text": [
      "100%|██████████| 10/10 [00:00<00:00, 289.67it/s]\n",
      "100%|██████████| 10/10 [00:00<00:00, 2112.79it/s]\n",
      "100%|██████████| 10/10 [00:00<00:00, 327.33it/s]\n",
      "100%|██████████| 10/10 [00:00<00:00, 343.94it/s]\n",
      "100%|██████████| 10/10 [00:00<00:00, 2224.03it/s]\n",
      "100%|██████████| 10/10 [00:00<00:00, 1975.56it/s]\n",
      "  0%|          | 0/10 [00:00<?, ?it/s]"
     ]
    },
    {
     "name": "stdout",
     "output_type": "stream",
     "text": [
      "['20220111', '20220111']\n",
      "['20220102', '20220110']\n",
      "[0.5442834138486312, 338.0, 621]\n",
      "['20220112', '20220112']\n",
      "['20220103', '20220111']\n",
      "[0.5766666666666667, 346.0, 600]\n",
      "['20220113', '20220113']\n",
      "['20220104', '20220112']\n",
      "[0.5419968304278923, 342.0, 631]\n",
      "['20220114', '20220114']\n",
      "['20220105', '20220113']\n"
     ]
    },
    {
     "name": "stderr",
     "output_type": "stream",
     "text": [
      "100%|██████████| 10/10 [00:00<00:00, 278.05it/s]\n",
      "100%|██████████| 10/10 [00:00<00:00, 236.35it/s]\n",
      "100%|██████████| 10/10 [00:00<00:00, 2301.28it/s]\n",
      "100%|██████████| 10/10 [00:00<00:00, 2125.10it/s]\n",
      "100%|██████████| 10/10 [00:00<00:00, 258.45it/s]\n",
      "100%|██████████| 10/10 [00:00<00:00, 2295.36it/s]\n",
      "100%|██████████| 10/10 [00:00<00:00, 272.74it/s]\n",
      "100%|██████████| 10/10 [00:00<00:00, 2101.14it/s]\n"
     ]
    },
    {
     "name": "stdout",
     "output_type": "stream",
     "text": [
      "[0.5735294117647058, 351.0, 612]\n",
      "['20220115', '20220115']\n",
      "['20220106', '20220114']\n",
      "[0.5387045813586098, 341.0, 633]\n",
      "['20220116', '20220116']\n",
      "['20220107', '20220115']\n",
      "['20220117', '20220117']\n",
      "['20220108', '20220116']\n",
      "['20220118', '20220118']\n",
      "['20220109', '20220117']\n"
     ]
    },
    {
     "name": "stderr",
     "output_type": "stream",
     "text": [
      "100%|██████████| 10/10 [00:00<00:00, 293.51it/s]\n",
      "100%|██████████| 10/10 [00:00<00:00, 2279.14it/s]\n",
      "100%|██████████| 10/10 [00:00<00:00, 328.29it/s]\n",
      "100%|██████████| 10/10 [00:00<00:00, 2150.70it/s]\n",
      "100%|██████████| 10/10 [00:00<00:00, 320.26it/s]\n",
      "100%|██████████| 10/10 [00:00<00:00, 2322.94it/s]\n",
      "100%|██████████| 10/10 [00:00<00:00, 283.14it/s]\n",
      "100%|██████████| 10/10 [00:00<00:00, 2057.34it/s]\n",
      "  0%|          | 0/10 [00:00<?, ?it/s]"
     ]
    },
    {
     "name": "stdout",
     "output_type": "stream",
     "text": [
      "[0.5735294117647058, 351.0, 612]\n",
      "['20220119', '20220119']\n",
      "['20220110', '20220118']\n",
      "[0.5008, 313.0, 625]\n",
      "['20220120', '20220120']\n",
      "['20220111', '20220119']\n"
     ]
    },
    {
     "name": "stderr",
     "output_type": "stream",
     "text": [
      "100%|██████████| 10/10 [00:00<00:00, 260.22it/s]\n",
      "100%|██████████| 10/10 [00:00<00:00, 2198.73it/s]\n",
      "100%|██████████| 10/10 [00:00<00:00, 261.34it/s]\n",
      "100%|██████████| 10/10 [00:00<00:00, 2249.92it/s]\n"
     ]
    },
    {
     "name": "stdout",
     "output_type": "stream",
     "text": [
      "[0.5140625, 329.0, 640]\n",
      "['20220121', '20220121']\n",
      "['20220112', '20220120']\n",
      "[0.49921752738654146, 319.0, 639]\n",
      "['20220122', '20220122']\n",
      "['20220113', '20220121']\n",
      "['20220123', '20220123']\n",
      "['20220114', '20220122']\n",
      "[0.5008, 313.0, 625]\n",
      "['20220124', '20220124']\n",
      "['20220115', '20220123']\n"
     ]
    },
    {
     "name": "stderr",
     "output_type": "stream",
     "text": [
      "100%|██████████| 10/10 [00:00<00:00, 258.64it/s]\n",
      "100%|██████████| 10/10 [00:00<00:00, 2091.40it/s]\n",
      "100%|██████████| 10/10 [00:00<00:00, 282.03it/s]\n",
      "100%|██████████| 10/10 [00:00<00:00, 2192.64it/s]\n",
      "100%|██████████| 10/10 [00:00<00:00, 328.23it/s]\n",
      "100%|██████████| 10/10 [00:00<00:00, 392.83it/s]\n"
     ]
    },
    {
     "name": "stdout",
     "output_type": "stream",
     "text": [
      "[0.4607250755287009, 305.0, 662]\n",
      "['20220125', '20220125']\n",
      "['20220116', '20220124']\n",
      "['20220126', '20220126']\n",
      "['20220117', '20220125']\n",
      "[0.44970414201183434, 304.0, 676]\n",
      "['20220127', '20220127']\n",
      "['20220118', '20220126']\n",
      "['20220128', '20220128']\n",
      "['20220119', '20220127']\n"
     ]
    },
    {
     "name": "stderr",
     "output_type": "stream",
     "text": [
      "100%|██████████| 10/10 [00:00<00:00, 2176.37it/s]\n",
      "100%|██████████| 10/10 [00:00<00:00, 2105.15it/s]\n",
      "100%|██████████| 10/10 [00:00<00:00, 284.13it/s]\n",
      "100%|██████████| 10/10 [00:00<00:00, 2086.82it/s]\n",
      "100%|██████████| 10/10 [00:00<00:00, 287.91it/s]\n",
      "100%|██████████| 10/10 [00:00<00:00, 2240.55it/s]\n",
      "100%|██████████| 10/10 [00:00<00:00, 284.50it/s]\n",
      "100%|██████████| 10/10 [00:00<00:00, 2258.16it/s]\n",
      "  0%|          | 0/10 [00:00<?, ?it/s]"
     ]
    },
    {
     "name": "stdout",
     "output_type": "stream",
     "text": [
      "[0.4442815249266862, 303.0, 682]\n",
      "['20220129', '20220129']\n",
      "['20220120', '20220128']\n",
      "['20220130', '20220130']\n",
      "['20220121', '20220129']\n"
     ]
    },
    {
     "name": "stderr",
     "output_type": "stream",
     "text": [
      "100%|██████████| 10/10 [00:00<00:00, 277.85it/s]\n",
      "100%|██████████| 10/10 [00:00<00:00, 2227.93it/s]\n",
      "100%|██████████| 10/10 [00:00<00:00, 277.81it/s]\n",
      "100%|██████████| 10/10 [00:00<00:00, 2243.06it/s]\n",
      "100%|██████████| 10/10 [00:00<00:00, 388.28it/s]\n",
      "100%|██████████| 10/10 [00:00<00:00, 2143.89it/s]\n"
     ]
    },
    {
     "name": "stdout",
     "output_type": "stream",
     "text": [
      "['20220131', '20220131']\n",
      "['20220122', '20220130']\n",
      "[0.49149922720247297, 318.0, 647]\n",
      "['20220201', '20220201']\n",
      "['20220123', '20220131']\n",
      "[0.49149922720247297, 318.0, 647]\n",
      "['20220202', '20220202']\n",
      "['20220124', '20220201']\n",
      "[0.4562962962962963, 308.0, 675]\n",
      "['20220203', '20220203']\n",
      "['20220125', '20220202']\n"
     ]
    },
    {
     "name": "stderr",
     "output_type": "stream",
     "text": [
      "100%|██████████| 10/10 [00:00<00:00, 386.73it/s]\n",
      "100%|██████████| 10/10 [00:00<00:00, 2168.72it/s]\n",
      "100%|██████████| 10/10 [00:00<00:00, 317.88it/s]\n",
      "100%|██████████| 10/10 [00:00<00:00, 2272.72it/s]\n",
      "100%|██████████| 10/10 [00:00<00:00, 287.74it/s]\n",
      "100%|██████████| 10/10 [00:00<00:00, 2071.36it/s]\n",
      "100%|██████████| 10/10 [00:00<00:00, 284.93it/s]\n",
      "100%|██████████| 10/10 [00:00<00:00, 2079.37it/s]\n",
      "100%|██████████| 10/10 [00:00<00:00, 288.15it/s]\n",
      "100%|██████████| 10/10 [00:00<00:00, 2292.72it/s]\n",
      "100%|██████████| 10/10 [00:00<00:00, 381.16it/s]\n",
      "100%|██████████| 10/10 [00:00<00:00, 3016.62it/s]\n"
     ]
    },
    {
     "name": "stdout",
     "output_type": "stream",
     "text": [
      "[0.47218045112781953, 314.0, 665]\n",
      "['20220204', '20220204']\n",
      "['20220126', '20220203']\n",
      "[0.4817073170731707, 316.0, 656]\n",
      "['20220205', '20220205']\n",
      "['20220127', '20220204']\n",
      "['20220206', '20220206']\n",
      "['20220128', '20220205']\n"
     ]
    },
    {
     "name": "stderr",
     "output_type": "stream",
     "text": [
      "100%|██████████| 10/10 [00:00<00:00, 390.12it/s]\n",
      "100%|██████████| 10/10 [00:00<00:00, 3141.09it/s]\n",
      "100%|██████████| 10/10 [00:00<00:00, 419.66it/s]\n",
      "100%|██████████| 10/10 [00:00<00:00, 3111.27it/s]\n",
      "  0%|          | 0/10 [00:00<?, ?it/s]"
     ]
    },
    {
     "name": "stdout",
     "output_type": "stream",
     "text": [
      "['20220207', '20220207']\n",
      "['20220129', '20220206']\n",
      "[0.49768875192604006, 323.0, 649]\n",
      "['20220208', '20220208']\n",
      "['20220130', '20220207']\n"
     ]
    },
    {
     "name": "stderr",
     "output_type": "stream",
     "text": [
      "100%|██████████| 10/10 [00:00<00:00, 290.32it/s]\n",
      "100%|██████████| 10/10 [00:00<00:00, 2299.76it/s]\n",
      "100%|██████████| 10/10 [00:00<00:00, 233.28it/s]\n",
      "100%|██████████| 10/10 [00:00<00:00, 2060.48it/s]\n",
      "100%|██████████| 10/10 [00:00<00:00, 256.18it/s]\n",
      "  0%|          | 0/10 [00:00<?, ?it/s]"
     ]
    },
    {
     "name": "stdout",
     "output_type": "stream",
     "text": [
      "[0.49768875192604006, 323.0, 649]\n",
      "['20220209', '20220209']\n",
      "['20220131', '20220208']\n",
      "[0.4565537555228277, 310.0, 679]\n",
      "['20220210', '20220210']\n",
      "['20220201', '20220209']\n"
     ]
    },
    {
     "name": "stderr",
     "output_type": "stream",
     "text": [
      "100%|██████████| 10/10 [00:00<00:00, 2228.88it/s]\n"
     ]
    },
    {
     "name": "stdout",
     "output_type": "stream",
     "text": [
      "[0.4623338257016248, 313.0, 677]\n",
      "['20220211', '20220211']\n",
      "['20220202', '20220210']\n",
      "[0.4788519637462236, 317.0, 662]\n",
      "['20220212', '20220212']\n",
      "['20220203', '20220211']\n",
      "['20220213', '20220213']\n",
      "['20220204', '20220212']\n"
     ]
    },
    {
     "name": "stderr",
     "output_type": "stream",
     "text": [
      "100%|██████████| 10/10 [00:00<00:00, 256.96it/s]\n",
      "100%|██████████| 10/10 [00:00<00:00, 2219.56it/s]\n",
      "100%|██████████| 10/10 [00:00<00:00, 293.32it/s]\n",
      "100%|██████████| 10/10 [00:00<00:00, 2214.40it/s]\n",
      "100%|██████████| 10/10 [00:00<00:00, 370.87it/s]\n",
      "100%|██████████| 10/10 [00:00<00:00, 329.69it/s]\n",
      "100%|██████████| 10/10 [00:00<00:00, 3078.39it/s]\n",
      "100%|██████████| 10/10 [00:00<00:00, 2100.62it/s]\n",
      "100%|██████████| 10/10 [00:00<00:00, 376.99it/s]\n",
      "100%|██████████| 10/10 [00:00<00:00, 3034.95it/s]\n",
      "100%|██████████| 10/10 [00:00<00:00, 257.30it/s]\n",
      "100%|██████████| 10/10 [00:00<00:00, 2143.12it/s]\n"
     ]
    },
    {
     "name": "stdout",
     "output_type": "stream",
     "text": [
      "[0.5363489499192245, 332.0, 619]\n",
      "['20220214', '20220214']\n",
      "['20220205', '20220213']\n",
      "['20220215', '20220215']\n",
      "['20220206', '20220214']\n",
      "[0.5340729001584786, 337.0, 631]\n",
      "['20220216', '20220216']\n",
      "['20220207', '20220215']\n",
      "[0.5363489499192245, 332.0, 619]\n",
      "['20220217', '20220217']\n",
      "['20220208', '20220216']\n",
      "[0.5683690280065898, 345.00000000000006, 607]\n",
      "['20220218', '20220218']\n",
      "['20220209', '20220217']\n",
      "[0.543859649122807, 341.0, 627]\n",
      "['20220219', '20220219']\n",
      "['20220210', '20220218']\n"
     ]
    },
    {
     "name": "stderr",
     "output_type": "stream",
     "text": [
      "100%|██████████| 10/10 [00:00<00:00, 255.99it/s]\n",
      "100%|██████████| 10/10 [00:00<00:00, 256.32it/s]\n",
      "100%|██████████| 10/10 [00:00<00:00, 1915.29it/s]\n",
      "100%|██████████| 10/10 [00:00<00:00, 2017.85it/s]\n",
      "100%|██████████| 10/10 [00:00<00:00, 294.33it/s]\n",
      "100%|██████████| 10/10 [00:00<00:00, 2296.86it/s]\n"
     ]
    },
    {
     "name": "stdout",
     "output_type": "stream",
     "text": [
      "['20220220', '20220220']\n",
      "['20220211', '20220219']\n",
      "['20220221', '20220221']\n",
      "['20220212', '20220220']\n",
      "[0.640625, 369.0, 576]\n",
      "['20220222', '20220222']\n",
      "['20220213', '20220221']\n"
     ]
    },
    {
     "name": "stderr",
     "output_type": "stream",
     "text": [
      "100%|██████████| 10/10 [00:00<00:00, 322.43it/s]\n",
      "100%|██████████| 10/10 [00:00<00:00, 1763.13it/s]\n",
      "100%|██████████| 10/10 [00:00<00:00, 315.42it/s]\n",
      "100%|██████████| 10/10 [00:00<00:00, 2331.98it/s]\n",
      "100%|██████████| 10/10 [00:00<00:00, 279.75it/s]\n",
      "100%|██████████| 10/10 [00:00<00:00, 2079.06it/s]\n",
      "100%|██████████| 10/10 [00:00<00:00, 260.50it/s]\n",
      "100%|██████████| 10/10 [00:00<00:00, 2055.73it/s]\n",
      "  0%|          | 0/10 [00:00<?, ?it/s]"
     ]
    },
    {
     "name": "stdout",
     "output_type": "stream",
     "text": [
      "[0.5768595041322314, 349.0, 605]\n",
      "['20220223', '20220223']\n",
      "['20220214', '20220222']\n",
      "[0.5651465798045603, 347.0, 614]\n",
      "['20220224', '20220224']\n",
      "['20220215', '20220223']\n"
     ]
    },
    {
     "name": "stderr",
     "output_type": "stream",
     "text": [
      "100%|██████████| 10/10 [00:00<00:00, 256.86it/s]\n",
      "100%|██████████| 10/10 [00:00<00:00, 2053.82it/s]\n",
      "100%|██████████| 10/10 [00:00<00:00, 263.06it/s]\n",
      "100%|██████████| 10/10 [00:00<00:00, 2019.21it/s]\n",
      "100%|██████████| 10/10 [00:00<00:00, 287.44it/s]\n"
     ]
    },
    {
     "name": "stdout",
     "output_type": "stream",
     "text": [
      "[0.4947049924357035, 327.0, 661]\n",
      "['20220225', '20220225']\n",
      "['20220216', '20220224']\n",
      "[0.640625, 369.0, 576]\n",
      "['20220226', '20220226']\n",
      "['20220217', '20220225']\n",
      "['20220227', '20220227']\n",
      "['20220218', '20220226']\n",
      "[0.5321821036106751, 339.0, 637]\n",
      "['20220228', '20220228']\n",
      "['20220219', '20220227']\n"
     ]
    },
    {
     "name": "stderr",
     "output_type": "stream",
     "text": [
      "100%|██████████| 10/10 [00:00<00:00, 2133.42it/s]\n",
      "100%|██████████| 10/10 [00:00<00:00, 336.15it/s]\n",
      "100%|██████████| 10/10 [00:00<00:00, 333.13it/s]\n",
      "100%|██████████| 10/10 [00:00<00:00, 2248.35it/s]\n",
      "100%|██████████| 10/10 [00:00<00:00, 2168.72it/s]\n",
      "100%|██████████| 10/10 [00:00<00:00, 323.79it/s]\n",
      "  0%|          | 0/10 [00:00<?, ?it/s]"
     ]
    },
    {
     "name": "stdout",
     "output_type": "stream",
     "text": [
      "[0.5321821036106751, 339.0, 637]\n",
      "['20220301', '20220301']\n",
      "['20220220', '20220228']\n",
      "['20220302', '20220302']\n",
      "['20220221', '20220301']\n",
      "[0.5015197568389058, 330.0, 658]\n",
      "['20220303', '20220303']\n",
      "['20220222', '20220302']\n",
      "['20220304', '20220304']\n",
      "['20220223', '20220303']\n"
     ]
    },
    {
     "name": "stderr",
     "output_type": "stream",
     "text": [
      "100%|██████████| 10/10 [00:00<00:00, 297.76it/s]\n",
      "100%|██████████| 10/10 [00:00<00:00, 1483.66it/s]\n",
      "100%|██████████| 10/10 [00:00<00:00, 287.07it/s]\n",
      "100%|██████████| 10/10 [00:00<00:00, 2122.41it/s]\n",
      "100%|██████████| 10/10 [00:00<00:00, 2322.43it/s]\n",
      "100%|██████████| 10/10 [00:00<00:00, 289.00it/s]\n",
      "100%|██████████| 10/10 [00:00<00:00, 2340.57it/s]\n"
     ]
    },
    {
     "name": "stdout",
     "output_type": "stream",
     "text": [
      "[0.5184615384615384, 337.0, 650]\n",
      "['20220305', '20220305']\n",
      "['20220224', '20220304']\n",
      "[0.5045592705167173, 332.0, 658]\n",
      "['20220306', '20220306']\n",
      "['20220225', '20220305']\n",
      "['20220307', '20220307']\n",
      "['20220226', '20220306']\n",
      "['20220308', '20220308']\n",
      "['20220227', '20220307']\n"
     ]
    },
    {
     "name": "stderr",
     "output_type": "stream",
     "text": [
      "100%|██████████| 10/10 [00:00<00:00, 398.74it/s]\n",
      "100%|██████████| 10/10 [00:00<00:00, 3059.30it/s]\n",
      "100%|██████████| 10/10 [00:00<00:00, 384.06it/s]\n",
      "100%|██████████| 10/10 [00:00<00:00, 2196.89it/s]\n",
      "100%|██████████| 10/10 [00:00<00:00, 481.10it/s]\n",
      "100%|██████████| 10/10 [00:00<00:00, 3223.41it/s]\n",
      "100%|██████████| 10/10 [00:00<00:00, 334.36it/s]\n",
      "100%|██████████| 10/10 [00:00<00:00, 2175.92it/s]\n"
     ]
    },
    {
     "name": "stdout",
     "output_type": "stream",
     "text": [
      "[0.5377358490566038, 342.0, 636]\n",
      "['20220309', '20220309']\n",
      "['20220228', '20220308']\n",
      "[0.5248447204968945, 338.00000000000006, 644]\n",
      "['20220310', '20220310']\n",
      "['20220301', '20220309']\n",
      "[0.5377358490566038, 342.0, 636]\n",
      "['20220311', '20220311']\n",
      "['20220302', '20220310']\n"
     ]
    },
    {
     "name": "stderr",
     "output_type": "stream",
     "text": [
      "100%|██████████| 10/10 [00:00<00:00, 259.33it/s]\n",
      "100%|██████████| 10/10 [00:00<00:00, 1846.00it/s]\n",
      "100%|██████████| 10/10 [00:00<00:00, 292.34it/s]\n",
      "100%|██████████| 10/10 [00:00<00:00, 2101.25it/s]\n",
      "100%|██████████| 10/10 [00:00<00:00, 261.41it/s]\n",
      "100%|██████████| 10/10 [00:00<00:00, 1995.01it/s]\n",
      "100%|██████████| 10/10 [00:00<00:00, 291.72it/s]\n",
      "100%|██████████| 10/10 [00:00<00:00, 2082.68it/s]\n"
     ]
    },
    {
     "name": "stdout",
     "output_type": "stream",
     "text": [
      "[0.53125, 340.0, 640]\n",
      "['20220312', '20220312']\n",
      "['20220303', '20220311']\n",
      "['20220313', '20220313']\n",
      "['20220304', '20220312']\n"
     ]
    },
    {
     "name": "stderr",
     "output_type": "stream",
     "text": [
      "100%|██████████| 10/10 [00:00<00:00, 332.19it/s]\n",
      "100%|██████████| 10/10 [00:00<00:00, 2254.52it/s]\n",
      "100%|██████████| 10/10 [00:00<00:00, 327.67it/s]\n",
      "100%|██████████| 10/10 [00:00<00:00, 287.11it/s]\n",
      "100%|██████████| 10/10 [00:00<00:00, 2115.24it/s]\n",
      "100%|██████████| 10/10 [00:00<00:00, 2254.88it/s]\n",
      "100%|██████████| 10/10 [00:00<00:00, 252.38it/s]\n",
      "100%|██████████| 10/10 [00:00<00:00, 2211.37it/s]\n"
     ]
    },
    {
     "name": "stdout",
     "output_type": "stream",
     "text": [
      "[0.5907590759075908, 358.0, 606]\n",
      "['20220314', '20220314']\n",
      "['20220305', '20220313']\n",
      "['20220315', '20220315']\n",
      "['20220306', '20220314']\n",
      "[0.560702875399361, 351.0, 626]\n",
      "['20220316', '20220316']\n",
      "['20220307', '20220315']\n",
      "[0.5907590759075908, 358.0, 606]\n",
      "['20220317', '20220317']\n",
      "['20220308', '20220316']\n"
     ]
    },
    {
     "name": "stderr",
     "output_type": "stream",
     "text": [
      "100%|██████████| 10/10 [00:00<00:00, 261.35it/s]\n",
      "100%|██████████| 10/10 [00:00<00:00, 2050.30it/s]\n"
     ]
    },
    {
     "name": "stdout",
     "output_type": "stream",
     "text": [
      "[0.5582137161084529, 350.0, 627]\n",
      "['20220318', '20220318']\n",
      "['20220309', '20220317']\n",
      "['20220319', '20220319']\n",
      "['20220310', '20220318']\n",
      "[0.5645933014354066, 353.99999999999994, 627]\n",
      "['20220320', '20220320']\n",
      "['20220311', '20220319']\n"
     ]
    },
    {
     "name": "stderr",
     "output_type": "stream",
     "text": [
      "100%|██████████| 10/10 [00:00<00:00, 285.52it/s]\n",
      "100%|██████████| 10/10 [00:00<00:00, 2256.22it/s]\n",
      "100%|██████████| 10/10 [00:00<00:00, 334.26it/s]\n",
      "100%|██████████| 10/10 [00:00<00:00, 369.23it/s]\n",
      "100%|██████████| 10/10 [00:00<00:00, 2317.04it/s]\n",
      "100%|██████████| 10/10 [00:00<00:00, 2332.63it/s]\n"
     ]
    },
    {
     "name": "stdout",
     "output_type": "stream",
     "text": [
      "['20220321', '20220321']\n",
      "['20220312', '20220320']\n",
      "['20220322', '20220322']\n",
      "['20220313', '20220321']\n",
      "[0.6128500823723229, 372.0, 607]\n",
      "['20220323', '20220323']\n",
      "['20220314', '20220322']\n",
      "[0.6062091503267973, 371.0, 612]\n",
      "['20220324', '20220324']\n",
      "['20220315', '20220323']\n"
     ]
    },
    {
     "name": "stderr",
     "output_type": "stream",
     "text": [
      "100%|██████████| 10/10 [00:00<00:00, 387.09it/s]\n",
      "100%|██████████| 10/10 [00:00<00:00, 2400.45it/s]\n",
      "100%|██████████| 10/10 [00:00<00:00, 331.15it/s]\n",
      "100%|██████████| 10/10 [00:00<00:00, 2292.97it/s]\n",
      "100%|██████████| 10/10 [00:00<00:00, 289.33it/s]\n",
      "100%|██████████| 10/10 [00:00<00:00, 2054.32it/s]\n",
      "100%|██████████| 10/10 [00:00<00:00, 276.38it/s]\n",
      "100%|██████████| 10/10 [00:00<00:00, 2264.13it/s]\n"
     ]
    },
    {
     "name": "stdout",
     "output_type": "stream",
     "text": [
      "[0.5854838709677419, 363.0, 620]\n",
      "['20220325', '20220325']\n",
      "['20220316', '20220324']\n",
      "[0.6179401993355482, 372.00000000000006, 602]\n",
      "['20220326', '20220326']\n",
      "['20220317', '20220325']\n",
      "['20220327', '20220327']\n",
      "['20220318', '20220326']\n"
     ]
    },
    {
     "name": "stderr",
     "output_type": "stream",
     "text": [
      "100%|██████████| 10/10 [00:00<00:00, 282.41it/s]\n",
      "100%|██████████| 10/10 [00:00<00:00, 2024.08it/s]\n",
      "100%|██████████| 10/10 [00:00<00:00, 333.47it/s]\n",
      "100%|██████████| 10/10 [00:00<00:00, 2390.60it/s]\n",
      "100%|██████████| 10/10 [00:00<00:00, 394.34it/s]\n",
      "100%|██████████| 10/10 [00:00<00:00, 2460.58it/s]\n"
     ]
    },
    {
     "name": "stdout",
     "output_type": "stream",
     "text": [
      "['20220328', '20220328']\n",
      "['20220319', '20220327']\n"
     ]
    },
    {
     "name": "stderr",
     "output_type": "stream",
     "text": [
      "100%|██████████| 10/10 [00:00<00:00, 340.59it/s]\n",
      "100%|██████████| 10/10 [00:00<00:00, 2363.39it/s]\n",
      "100%|██████████| 10/10 [00:00<00:00, 366.74it/s]\n",
      "100%|██████████| 10/10 [00:00<00:00, 2996.36it/s]\n",
      "100%|██████████| 10/10 [00:00<00:00, 257.61it/s]\n",
      "100%|██████████| 10/10 [00:00<00:00, 2212.07it/s]\n"
     ]
    },
    {
     "name": "stdout",
     "output_type": "stream",
     "text": [
      "[0.6260434056761269, 375.00000000000006, 599]\n",
      "['20220329', '20220329']\n",
      "['20220320', '20220328']\n",
      "[0.6260434056761269, 375.00000000000006, 599]\n",
      "['20220330', '20220330']\n",
      "['20220321', '20220329']\n"
     ]
    },
    {
     "name": "stderr",
     "output_type": "stream",
     "text": [
      "100%|██████████| 10/10 [00:00<00:00, 249.01it/s]\n",
      "100%|██████████| 10/10 [00:00<00:00, 2026.92it/s]\n"
     ]
    },
    {
     "name": "stdout",
     "output_type": "stream",
     "text": [
      "[0.600326264274062, 368.0, 613]\n",
      "['20220331', '20220331']\n",
      "['20220322', '20220330']\n",
      "[0.5853269537480064, 367.0, 627]\n",
      "['20220401', '20220401']\n",
      "['20220323', '20220331']\n",
      "[0.6188118811881188, 375.0, 606]\n",
      "['20220402', '20220402']\n",
      "['20220324', '20220401']\n",
      "['20220403', '20220403']\n",
      "['20220325', '20220402']\n"
     ]
    },
    {
     "name": "stderr",
     "output_type": "stream",
     "text": [
      "100%|██████████| 10/10 [00:00<00:00, 254.05it/s]\n",
      "100%|██████████| 10/10 [00:00<00:00, 280.11it/s]\n",
      "100%|██████████| 10/10 [00:00<00:00, 2138.42it/s]\n",
      "100%|██████████| 10/10 [00:00<00:00, 2111.30it/s]\n",
      "100%|██████████| 10/10 [00:00<00:00, 326.15it/s]\n",
      "100%|██████████| 10/10 [00:00<00:00, 2182.15it/s]\n"
     ]
    },
    {
     "name": "stdout",
     "output_type": "stream",
     "text": [
      "[0.6153846153846154, 376.0, 611]\n",
      "['20220404', '20220404']\n",
      "['20220326', '20220403']\n",
      "['20220405', '20220405']\n",
      "['20220327', '20220404']\n"
     ]
    },
    {
     "name": "stderr",
     "output_type": "stream",
     "text": [
      "100%|██████████| 10/10 [00:00<00:00, 312.18it/s]\n",
      "100%|██████████| 10/10 [00:00<00:00, 273.57it/s]\n",
      "100%|██████████| 10/10 [00:00<00:00, 2203.82it/s]\n",
      "100%|██████████| 10/10 [00:00<00:00, 2206.37it/s]\n",
      "100%|██████████| 10/10 [00:00<00:00, 214.80it/s]\n",
      "100%|██████████| 10/10 [00:00<00:00, 1534.58it/s]\n",
      "100%|██████████| 10/10 [00:00<00:00, 238.95it/s]\n",
      "100%|██████████| 10/10 [00:00<00:00, 2049.30it/s]\n",
      "  0%|          | 0/10 [00:00<?, ?it/s]"
     ]
    },
    {
     "name": "stdout",
     "output_type": "stream",
     "text": [
      "[0.5791139240506329, 366.0, 632]\n",
      "['20220406', '20220406']\n",
      "['20220328', '20220405']\n",
      "[0.6153846153846154, 376.0, 611]\n",
      "['20220407', '20220407']\n",
      "['20220329', '20220406']\n",
      "[0.5750394944707741, 364.0, 633]\n",
      "['20220408', '20220408']\n",
      "['20220330', '20220407']\n"
     ]
    },
    {
     "name": "stderr",
     "output_type": "stream",
     "text": [
      "100%|██████████| 10/10 [00:00<00:00, 228.39it/s]\n",
      "100%|██████████| 10/10 [00:00<00:00, 2242.82it/s]\n",
      "100%|██████████| 10/10 [00:00<00:00, 241.51it/s]\n",
      "100%|██████████| 10/10 [00:00<00:00, 1805.79it/s]\n"
     ]
    },
    {
     "name": "stdout",
     "output_type": "stream",
     "text": [
      "[0.5487421383647799, 349.0, 636]\n",
      "['20220409', '20220409']\n",
      "['20220331', '20220408']\n",
      "['20220410', '20220410']\n",
      "['20220401', '20220409']\n",
      "[0.5993377483443708, 361.99999999999994, 604]\n",
      "['20220411', '20220411']\n",
      "['20220402', '20220410']\n"
     ]
    },
    {
     "name": "stderr",
     "output_type": "stream",
     "text": [
      "100%|██████████| 10/10 [00:00<00:00, 314.71it/s]\n",
      "100%|██████████| 10/10 [00:00<00:00, 311.37it/s]\n",
      "100%|██████████| 10/10 [00:00<00:00, 2308.88it/s]\n",
      "100%|██████████| 10/10 [00:00<00:00, 2272.84it/s]\n",
      "100%|██████████| 10/10 [00:00<00:00, 243.29it/s]\n",
      "100%|██████████| 10/10 [00:00<00:00, 232.40it/s]\n",
      "100%|██████████| 10/10 [00:00<00:00, 1170.78it/s]\n",
      "100%|██████████| 10/10 [00:00<00:00, 2694.70it/s]\n"
     ]
    },
    {
     "name": "stdout",
     "output_type": "stream",
     "text": [
      "['20220412', '20220412']\n",
      "['20220403', '20220411']\n",
      "[0.54375, 348.0, 640]\n",
      "['20220413', '20220413']\n",
      "['20220404', '20220412']\n",
      "[0.5648, 353.0, 625]\n",
      "['20220414', '20220414']\n",
      "['20220405', '20220413']\n",
      "[0.5993377483443708, 361.99999999999994, 604]\n",
      "['20220415', '20220415']\n",
      "['20220406', '20220414']\n"
     ]
    },
    {
     "name": "stderr",
     "output_type": "stream",
     "text": [
      "100%|██████████| 10/10 [00:00<00:00, 197.39it/s]\n",
      "100%|██████████| 10/10 [00:00<00:00, 282.43it/s]\n",
      "100%|██████████| 10/10 [00:00<00:00, 2050.20it/s]\n",
      "100%|██████████| 10/10 [00:00<00:00, 2069.93it/s]\n",
      "100%|██████████| 10/10 [00:00<00:00, 430.56it/s]\n",
      "100%|██████████| 10/10 [00:00<00:00, 2239.95it/s]\n",
      "100%|██████████| 10/10 [00:00<00:00, 356.26it/s]\n"
     ]
    },
    {
     "name": "stdout",
     "output_type": "stream",
     "text": [
      "['20220417', '20220417']\n",
      "['20220408', '20220416']\n",
      "['20220416', '20220416']\n",
      "['20220407', '20220415']\n",
      "['20220418', '20220418']\n",
      "['20220409', '20220417']\n",
      "[0.5560747663551402, 357.0, 642]\n",
      "['20220419', '20220419']\n",
      "['20220410', '20220418']\n",
      "['20220420', '20220420']\n",
      "['20220411', '20220419']\n"
     ]
    },
    {
     "name": "stderr",
     "output_type": "stream",
     "text": [
      "100%|██████████| 10/10 [00:00<00:00, 2104.94it/s]\n",
      "100%|██████████| 10/10 [00:00<00:00, 339.89it/s]\n",
      "100%|██████████| 10/10 [00:00<00:00, 261.71it/s]\n",
      "100%|██████████| 10/10 [00:00<00:00, 2317.04it/s]\n",
      "100%|██████████| 10/10 [00:00<00:00, 2088.38it/s]\n",
      "100%|██████████| 10/10 [00:00<00:00, 291.71it/s]\n",
      "100%|██████████| 10/10 [00:00<00:00, 2061.69it/s]\n",
      "100%|██████████| 10/10 [00:00<00:00, 281.28it/s]\n",
      "100%|██████████| 10/10 [00:00<00:00, 1908.50it/s]\n"
     ]
    },
    {
     "name": "stdout",
     "output_type": "stream",
     "text": [
      "[0.5560747663551402, 357.0, 642]\n",
      "['20220421', '20220421']\n",
      "['20220412', '20220420']\n",
      "[0.5280728376327769, 348.0, 659]\n",
      "['20220422', '20220422']\n",
      "['20220413', '20220421']\n"
     ]
    },
    {
     "name": "stderr",
     "output_type": "stream",
     "text": [
      "100%|██████████| 10/10 [00:00<00:00, 290.63it/s]\n",
      "100%|██████████| 10/10 [00:00<00:00, 2291.97it/s]\n",
      "100%|██████████| 10/10 [00:00<00:00, 291.08it/s]\n",
      "100%|██████████| 10/10 [00:00<00:00, 2149.60it/s]\n",
      "100%|██████████| 10/10 [00:00<00:00, 442.75it/s]\n",
      "100%|██████████| 10/10 [00:00<00:00, 3177.26it/s]\n",
      "100%|██████████| 10/10 [00:00<00:00, 202.77it/s]\n",
      "100%|██████████| 10/10 [00:00<00:00, 202.01it/s]\n"
     ]
    },
    {
     "name": "stdout",
     "output_type": "stream",
     "text": [
      "[0.5326251896813353, 351.0, 659]\n",
      "['20220423', '20220423']\n",
      "['20220414', '20220422']\n",
      "[0.5388127853881278, 354.0, 657]\n",
      "['20220424', '20220424']\n",
      "['20220415', '20220423']\n",
      "['20220425', '20220425']\n",
      "['20220416', '20220424']\n",
      "['20220426', '20220426']\n",
      "['20220417', '20220425']\n"
     ]
    },
    {
     "name": "stderr",
     "output_type": "stream",
     "text": [
      "100%|██████████| 10/10 [00:00<00:00, 1979.66it/s]\n",
      "100%|██████████| 10/10 [00:00<00:00, 2192.18it/s]\n",
      "100%|██████████| 10/10 [00:00<00:00, 136.27it/s]\n",
      "100%|██████████| 10/10 [00:00<00:00, 2097.47it/s]\n"
     ]
    },
    {
     "name": "stdout",
     "output_type": "stream",
     "text": [
      "[0.565625, 362.0, 640]\n",
      "['20220427', '20220427']\n",
      "['20220418', '20220426']\n"
     ]
    },
    {
     "name": "stderr",
     "output_type": "stream",
     "text": [
      "100%|██████████| 10/10 [00:00<00:00, 246.74it/s]\n",
      "100%|██████████| 10/10 [00:00<00:00, 2184.76it/s]\n",
      "100%|██████████| 10/10 [00:00<00:00, 244.67it/s]\n",
      "100%|██████████| 10/10 [00:00<00:00, 2294.48it/s]\n"
     ]
    },
    {
     "name": "stdout",
     "output_type": "stream",
     "text": [
      "[0.5299401197604791, 354.0, 668]\n",
      "['20220428', '20220428']\n",
      "['20220419', '20220427']\n",
      "[0.4977843426883309, 337.0, 677]\n",
      "['20220429', '20220429']\n",
      "['20220420', '20220428']\n",
      "[0.5139911634756995, 348.99999999999994, 679]\n",
      "['20220430', '20220430']\n",
      "['20220421', '20220429']\n",
      "[0.565625, 362.0, 640]\n",
      "['20220501', '20220501']\n",
      "['20220422', '20220430']\n",
      "['20220502', '20220502']\n",
      "['20220423', '20220501']\n",
      "[0.5278195488721804, 351.0, 665]\n",
      "['20220503', '20220503']\n",
      "['20220424', '20220502']\n",
      "['20220504', '20220504']\n",
      "['20220425', '20220503']\n"
     ]
    },
    {
     "name": "stderr",
     "output_type": "stream",
     "text": [
      "100%|██████████| 10/10 [00:00<00:00, 325.18it/s]\n",
      "100%|██████████| 10/10 [00:00<00:00, 190.87it/s]\n",
      "100%|██████████| 10/10 [00:00<00:00, 1712.45it/s]\n",
      "100%|██████████| 10/10 [00:00<00:00, 1683.78it/s]\n",
      "100%|██████████| 10/10 [00:00<00:00, 267.39it/s]\n",
      "100%|██████████| 10/10 [00:00<00:00, 300.65it/s]\n",
      "100%|██████████| 10/10 [00:00<00:00, 2169.50it/s]\n",
      "100%|██████████| 10/10 [00:00<00:00, 1591.65it/s]\n",
      "100%|██████████| 10/10 [00:00<00:00, 196.34it/s]\n",
      "100%|██████████| 10/10 [00:00<00:00, 2237.56it/s]\n",
      "100%|██████████| 10/10 [00:00<00:00, 235.30it/s]\n",
      "100%|██████████| 10/10 [00:00<00:00, 2161.12it/s]\n"
     ]
    },
    {
     "name": "stdout",
     "output_type": "stream",
     "text": [
      "['20220505', '20220505']\n",
      "['20220426', '20220504']\n",
      "[0.5385802469135802, 348.99999999999994, 648]\n",
      "['20220506', '20220506']\n",
      "['20220427', '20220505']\n",
      "[0.5385802469135802, 348.99999999999994, 648]\n",
      "['20220507', '20220507']\n",
      "['20220428', '20220506']\n",
      "[0.5764895330112721, 358.0, 621]\n",
      "['20220508', '20220508']\n",
      "['20220429', '20220507']\n"
     ]
    },
    {
     "name": "stderr",
     "output_type": "stream",
     "text": [
      "100%|██████████| 10/10 [00:00<00:00, 261.69it/s]\n",
      "100%|██████████| 10/10 [00:00<00:00, 1848.28it/s]\n",
      "100%|██████████| 10/10 [00:00<00:00, 296.19it/s]\n",
      "100%|██████████| 10/10 [00:00<00:00, 293.21it/s]\n",
      "100%|██████████| 10/10 [00:00<00:00, 2320.50it/s]\n",
      "100%|██████████| 10/10 [00:00<00:00, 2536.62it/s]\n",
      "100%|██████████| 10/10 [00:00<00:00, 339.65it/s]\n",
      "100%|██████████| 10/10 [00:00<00:00, 286.02it/s]\n",
      "100%|██████████| 10/10 [00:00<00:00, 1966.11it/s]\n",
      "100%|██████████| 10/10 [00:00<00:00, 2154.13it/s]\n",
      "100%|██████████| 10/10 [00:00<00:00, 195.44it/s]\n",
      "100%|██████████| 10/10 [00:00<00:00, 2192.87it/s]\n",
      "  0%|          | 0/10 [00:00<?, ?it/s]"
     ]
    },
    {
     "name": "stdout",
     "output_type": "stream",
     "text": [
      "['20220509', '20220509']\n",
      "['20220430', '20220508']\n",
      "['20220510', '20220510']\n",
      "['20220501', '20220509']\n",
      "[0.6427350427350428, 376.0, 585]\n",
      "['20220511', '20220511']\n",
      "['20220502', '20220510']\n",
      "[0.5872756933115824, 360.0, 613]\n",
      "['20220512', '20220512']\n",
      "['20220503', '20220511']\n"
     ]
    },
    {
     "name": "stderr",
     "output_type": "stream",
     "text": [
      "100%|██████████| 10/10 [00:00<00:00, 252.47it/s]\n",
      "100%|██████████| 10/10 [00:00<00:00, 2174.45it/s]\n"
     ]
    },
    {
     "name": "stdout",
     "output_type": "stream",
     "text": [
      "[0.6427350427350428, 376.0, 585]\n",
      "['20220513', '20220513']\n",
      "['20220504', '20220512']\n",
      "[0.6072013093289689, 371.0, 611]\n",
      "['20220514', '20220514']\n",
      "['20220505', '20220513']\n"
     ]
    },
    {
     "name": "stderr",
     "output_type": "stream",
     "text": [
      "100%|██████████| 10/10 [00:00<00:00, 233.71it/s]\n",
      "100%|██████████| 10/10 [00:00<00:00, 2126.93it/s]\n",
      "100%|██████████| 10/10 [00:00<00:00, 196.56it/s]\n",
      "100%|██████████| 10/10 [00:00<00:00, 643.47it/s]\n"
     ]
    },
    {
     "name": "stdout",
     "output_type": "stream",
     "text": [
      "['20220516', '20220516']\n",
      "['20220507', '20220515']\n",
      "[0.5617088607594937, 355.0, 632]\n",
      "['20220515', '20220515']\n",
      "['20220506', '20220514']\n",
      "[0.5617088607594937, 355.0, 632]\n",
      "['20220517', '20220517']\n",
      "['20220508', '20220516']\n",
      "['20220518', '20220518']\n",
      "['20220509', '20220517']\n"
     ]
    },
    {
     "name": "stderr",
     "output_type": "stream",
     "text": [
      "100%|██████████| 10/10 [00:00<00:00, 277.20it/s]\n",
      "100%|██████████| 10/10 [00:00<00:00, 198.98it/s]\n",
      "100%|██████████| 10/10 [00:00<00:00, 1845.27it/s]\n",
      "100%|██████████| 10/10 [00:00<00:00, 1864.63it/s]\n",
      "100%|██████████| 10/10 [00:00<00:00, 247.54it/s]\n",
      "100%|██████████| 10/10 [00:00<00:00, 2195.63it/s]\n",
      "100%|██████████| 10/10 [00:00<00:00, 238.20it/s]\n",
      "100%|██████████| 10/10 [00:00<00:00, 2073.00it/s]\n",
      "100%|██████████| 10/10 [00:00<00:00, 240.66it/s]\n",
      "100%|██████████| 10/10 [00:00<00:00, 2045.60it/s]\n",
      "100%|██████████| 10/10 [00:00<00:00, 240.69it/s]\n",
      "  0%|          | 0/10 [00:00<?, ?it/s]"
     ]
    },
    {
     "name": "stdout",
     "output_type": "stream",
     "text": [
      "[0.5383435582822086, 351.0, 652]\n",
      "['20220519', '20220519']\n",
      "['20220510', '20220518']\n",
      "[0.5245398773006135, 342.0, 652]\n",
      "['20220520', '20220520']\n",
      "['20220511', '20220519']\n"
     ]
    },
    {
     "name": "stderr",
     "output_type": "stream",
     "text": [
      "100%|██████████| 10/10 [00:00<00:00, 2163.35it/s]\n"
     ]
    },
    {
     "name": "stdout",
     "output_type": "stream",
     "text": [
      "[0.533026113671275, 347.0, 651]\n",
      "['20220521', '20220521']\n",
      "['20220512', '20220520']\n",
      "['20220522', '20220522']\n",
      "['20220513', '20220521']\n"
     ]
    },
    {
     "name": "stderr",
     "output_type": "stream",
     "text": [
      "100%|██████████| 10/10 [00:00<00:00, 274.11it/s]\n",
      "100%|██████████| 10/10 [00:00<00:00, 2152.25it/s]\n",
      "100%|██████████| 10/10 [00:00<00:00, 297.00it/s]\n",
      "100%|██████████| 10/10 [00:00<00:00, 2131.14it/s]\n"
     ]
    },
    {
     "name": "stdout",
     "output_type": "stream",
     "text": [
      "[0.5746031746031746, 362.0, 630]\n",
      "['20220523', '20220523']\n",
      "['20220514', '20220522']\n",
      "['20220524', '20220524']\n",
      "['20220515', '20220523']\n"
     ]
    },
    {
     "name": "stderr",
     "output_type": "stream",
     "text": [
      "100%|██████████| 10/10 [00:00<00:00, 300.43it/s]\n",
      "100%|██████████| 10/10 [00:00<00:00, 2263.64it/s]\n",
      "100%|██████████| 10/10 [00:00<00:00, 261.36it/s]\n",
      "100%|██████████| 10/10 [00:00<00:00, 2133.09it/s]\n"
     ]
    },
    {
     "name": "stdout",
     "output_type": "stream",
     "text": [
      "[0.559748427672956, 356.0, 636]\n",
      "['20220525', '20220525']\n",
      "['20220516', '20220524']\n",
      "[0.5312024353120244, 349.0, 657]\n",
      "['20220526', '20220526']\n",
      "['20220517', '20220525']\n",
      "[0.5748407643312102, 361.0, 628]\n",
      "['20220527', '20220527']\n",
      "['20220518', '20220526']\n"
     ]
    },
    {
     "name": "stderr",
     "output_type": "stream",
     "text": [
      "100%|██████████| 10/10 [00:00<00:00, 231.66it/s]\n",
      "100%|██████████| 10/10 [00:00<00:00, 231.94it/s]\n",
      "100%|██████████| 10/10 [00:00<00:00, 2008.57it/s]\n",
      "100%|██████████| 10/10 [00:00<00:00, 2124.67it/s]\n",
      "100%|██████████| 10/10 [00:00<00:00, 237.07it/s]\n",
      "100%|██████████| 10/10 [00:00<00:00, 1898.30it/s]\n"
     ]
    },
    {
     "name": "stdout",
     "output_type": "stream",
     "text": [
      "[0.6305418719211823, 384.0, 609]\n",
      "['20220528', '20220528']\n",
      "['20220519', '20220527']\n",
      "['20220529', '20220529']\n",
      "['20220520', '20220528']\n"
     ]
    },
    {
     "name": "stderr",
     "output_type": "stream",
     "text": [
      "100%|██████████| 10/10 [00:00<00:00, 231.49it/s]\n",
      "100%|██████████| 10/10 [00:00<00:00, 2144.00it/s]\n",
      "100%|██████████| 10/10 [00:00<00:00, 280.77it/s]\n",
      "100%|██████████| 10/10 [00:00<00:00, 1664.80it/s]\n",
      "100%|██████████| 10/10 [00:00<00:00, 300.10it/s]\n",
      "100%|██████████| 10/10 [00:00<00:00, 2207.53it/s]\n",
      "100%|██████████| 10/10 [00:00<00:00, 249.91it/s]\n",
      "100%|██████████| 10/10 [00:00<00:00, 2163.02it/s]\n"
     ]
    },
    {
     "name": "stdout",
     "output_type": "stream",
     "text": [
      "[0.6057692307692307, 378.0, 624]\n",
      "['20220530', '20220530']\n",
      "['20220521', '20220529']\n",
      "['20220531', '20220531']\n",
      "['20220522', '20220530']\n",
      "[0.6305418719211823, 384.0, 609]\n",
      "['20220601', '20220601']\n",
      "['20220523', '20220531']\n"
     ]
    },
    {
     "name": "stderr",
     "output_type": "stream",
     "text": [
      "100%|██████████| 10/10 [00:00<00:00, 218.92it/s]\n",
      "100%|██████████| 10/10 [00:00<00:00, 1032.90it/s]\n",
      "100%|██████████| 10/10 [00:00<00:00, 227.73it/s]\n",
      "100%|██████████| 10/10 [00:00<00:00, 2138.53it/s]\n"
     ]
    },
    {
     "name": "stdout",
     "output_type": "stream",
     "text": [
      "[0.5863708399366085, 370.0, 631]\n",
      "['20220602', '20220602']\n",
      "['20220524', '20220601']\n",
      "[0.5681114551083591, 367.0, 646]\n",
      "['20220603', '20220603']\n",
      "['20220525', '20220602']\n"
     ]
    },
    {
     "name": "stderr",
     "output_type": "stream",
     "text": [
      "100%|██████████| 10/10 [00:00<00:00, 239.44it/s]\n",
      "100%|██████████| 10/10 [00:00<00:00, 2195.63it/s]\n",
      "  0%|          | 0/10 [00:00<?, ?it/s]"
     ]
    },
    {
     "name": "stdout",
     "output_type": "stream",
     "text": [
      "[0.608130081300813, 374.0, 615]\n",
      "['20220604', '20220604']\n",
      "['20220526', '20220603']\n",
      "['20220605', '20220605']\n",
      "['20220527', '20220604']\n"
     ]
    },
    {
     "name": "stderr",
     "output_type": "stream",
     "text": [
      "100%|██████████| 10/10 [00:00<00:00, 155.28it/s]\n",
      "100%|██████████| 10/10 [00:00<00:00, 2138.53it/s]\n",
      "100%|██████████| 10/10 [00:00<00:00, 237.54it/s]\n",
      "100%|██████████| 10/10 [00:00<00:00, 2349.09it/s]\n",
      "100%|██████████| 10/10 [00:00<00:00, 289.88it/s]\n",
      "100%|██████████| 10/10 [00:00<00:00, 2180.33it/s]\n",
      "100%|██████████| 10/10 [00:00<00:00, 265.81it/s]\n",
      "100%|██████████| 10/10 [00:00<00:00, 2061.59it/s]\n",
      "  0%|          | 0/10 [00:00<?, ?it/s]"
     ]
    },
    {
     "name": "stdout",
     "output_type": "stream",
     "text": [
      "[0.608130081300813, 374.0, 615]\n",
      "['20220606', '20220606']\n",
      "['20220528', '20220605']\n",
      "['20220607', '20220607']\n",
      "['20220529', '20220606']\n",
      "[0.5876777251184834, 372.0, 633]\n",
      "['20220608', '20220608']\n",
      "['20220530', '20220607']\n"
     ]
    },
    {
     "name": "stderr",
     "output_type": "stream",
     "text": [
      "100%|██████████| 10/10 [00:00<00:00, 241.03it/s]\n",
      "100%|██████████| 10/10 [00:00<00:00, 1997.86it/s]\n",
      "100%|██████████| 10/10 [00:00<00:00, 223.04it/s]\n",
      "100%|██████████| 10/10 [00:00<00:00, 2123.48it/s]\n",
      "100%|██████████| 10/10 [00:00<00:00, 237.82it/s]\n",
      "100%|██████████| 10/10 [00:00<00:00, 2171.30it/s]\n"
     ]
    },
    {
     "name": "stdout",
     "output_type": "stream",
     "text": [
      "[0.5854430379746836, 370.0, 632]\n",
      "['20220609', '20220609']\n",
      "['20220531', '20220608']\n",
      "[0.5794392523364486, 371.99999999999994, 642]\n",
      "['20220610', '20220610']\n",
      "['20220601', '20220609']\n",
      "[0.5467075038284839, 356.99999999999994, 653]\n",
      "['20220611', '20220611']\n",
      "['20220602', '20220610']\n",
      "['20220612', '20220612']\n",
      "['20220603', '20220611']\n",
      "[0.5462822458270106, 359.99999999999994, 659]\n",
      "['20220613', '20220613']\n",
      "['20220604', '20220612']\n"
     ]
    },
    {
     "name": "stderr",
     "output_type": "stream",
     "text": [
      "100%|██████████| 10/10 [00:00<00:00, 266.45it/s]\n",
      "100%|██████████| 10/10 [00:00<00:00, 2074.44it/s]\n",
      "100%|██████████| 10/10 [00:00<00:00, 300.92it/s]\n",
      "100%|██████████| 10/10 [00:00<00:00, 2217.45it/s]\n",
      "100%|██████████| 10/10 [00:00<00:00, 308.55it/s]\n",
      "100%|██████████| 10/10 [00:00<00:00, 2265.84it/s]\n",
      "100%|██████████| 10/10 [00:00<00:00, 269.53it/s]\n",
      "100%|██████████| 10/10 [00:00<00:00, 2194.48it/s]\n",
      "100%|██████████| 10/10 [00:00<00:00, 247.14it/s]\n",
      "100%|██████████| 10/10 [00:00<00:00, 1984.72it/s]\n",
      "  0%|          | 0/10 [00:00<?, ?it/s]"
     ]
    },
    {
     "name": "stdout",
     "output_type": "stream",
     "text": [
      "['20220614', '20220614']\n",
      "['20220605', '20220613']\n",
      "[0.5805946791862285, 371.00000000000006, 639]\n",
      "['20220615', '20220615']\n",
      "['20220606', '20220614']\n",
      "[0.5805946791862285, 371.00000000000006, 639]\n",
      "['20220616', '20220616']\n",
      "['20220607', '20220615']\n"
     ]
    },
    {
     "name": "stderr",
     "output_type": "stream",
     "text": [
      "100%|██████████| 10/10 [00:00<00:00, 207.77it/s]\n",
      "100%|██████████| 10/10 [00:00<00:00, 2116.52it/s]\n",
      "100%|██████████| 10/10 [00:00<00:00, 234.61it/s]\n",
      "100%|██████████| 10/10 [00:00<00:00, 1978.63it/s]\n"
     ]
    },
    {
     "name": "stdout",
     "output_type": "stream",
     "text": [
      "[0.5729984301412873, 365.0, 637]\n",
      "['20220617', '20220617']\n",
      "['20220608', '20220616']\n",
      "[0.5424242424242425, 358.00000000000006, 660]\n",
      "['20220618', '20220618']\n",
      "['20220609', '20220617']\n",
      "[0.5511450381679389, 361.0, 655]\n",
      "['20220619', '20220619']\n",
      "['20220610', '20220618']\n",
      "[0.5370650529500757, 355.0, 661]\n",
      "['20220620', '20220620']\n",
      "['20220611', '20220619']\n",
      "[0.5443425076452599, 356.0, 654]\n",
      "['20220621', '20220621']\n",
      "['20220612', '20220620']\n"
     ]
    },
    {
     "name": "stderr",
     "output_type": "stream",
     "text": [
      "100%|██████████| 10/10 [00:00<00:00, 76.29it/s]\n",
      "100%|██████████| 10/10 [00:00<00:00, 281.16it/s]\n",
      "100%|██████████| 10/10 [00:00<00:00, 231.78it/s]\n",
      "100%|██████████| 10/10 [00:00<00:00, 2076.39it/s]\n",
      "100%|██████████| 10/10 [00:00<00:00, 1819.26it/s]\n",
      "100%|██████████| 10/10 [00:00<00:00, 743.72it/s]\n",
      "100%|██████████| 10/10 [00:00<00:00, 193.00it/s]\n",
      "100%|██████████| 10/10 [00:00<00:00, 2126.17it/s]\n",
      "100%|██████████| 10/10 [00:00<00:00, 219.59it/s]\n",
      "100%|██████████| 10/10 [00:00<00:00, 213.96it/s]\n",
      "100%|██████████| 10/10 [00:00<00:00, 1891.97it/s]\n",
      "100%|██████████| 10/10 [00:00<00:00, 2207.18it/s]\n"
     ]
    },
    {
     "name": "stdout",
     "output_type": "stream",
     "text": [
      "[0.5729984301412873, 365.0, 637]\n",
      "['20220622', '20220622']\n",
      "['20220613', '20220621']\n",
      "['20220623', '20220623']\n",
      "['20220614', '20220622']\n",
      "['20220624', '20220624']\n",
      "['20220615', '20220623']\n",
      "[0.5850556438791733, 368.0, 629]\n",
      "['20220625', '20220625']\n",
      "['20220616', '20220624']\n"
     ]
    },
    {
     "name": "stderr",
     "output_type": "stream",
     "text": [
      "100%|██████████| 10/10 [00:00<00:00, 136.68it/s]\n",
      "100%|██████████| 10/10 [00:00<00:00, 2076.70it/s]\n",
      "100%|██████████| 10/10 [00:00<00:00, 247.02it/s]\n",
      "100%|██████████| 10/10 [00:00<00:00, 2039.14it/s]\n"
     ]
    },
    {
     "name": "stdout",
     "output_type": "stream",
     "text": [
      "['20220626', '20220626']\n",
      "['20220617', '20220625']\n",
      "[0.5421875, 347.0, 640]\n",
      "['20220627', '20220627']\n",
      "['20220618', '20220626']\n",
      "[0.551617873651772, 358.0, 649]\n",
      "['20220628', '20220628']\n",
      "['20220619', '20220627']\n",
      "['20220629', '20220629']\n",
      "['20220620', '20220628']\n"
     ]
    },
    {
     "name": "stderr",
     "output_type": "stream",
     "text": [
      "100%|██████████| 10/10 [00:00<00:00, 171.42it/s]\n",
      "100%|██████████| 10/10 [00:00<00:00, 290.70it/s]\n",
      "100%|██████████| 10/10 [00:00<00:00, 1908.76it/s]\n",
      "100%|██████████| 10/10 [00:00<00:00, 1822.98it/s]\n",
      "100%|██████████| 10/10 [00:00<00:00, 153.66it/s]\n",
      "100%|██████████| 10/10 [00:00<00:00, 2070.65it/s]\n",
      "100%|██████████| 10/10 [00:00<00:00, 114.53it/s]\n",
      "100%|██████████| 10/10 [00:00<00:00, 1857.53it/s]\n"
     ]
    },
    {
     "name": "stdout",
     "output_type": "stream",
     "text": [
      "[0.5850556438791733, 368.0, 629]\n",
      "['20220630', '20220630']\n",
      "['20220621', '20220629']\n",
      "[0.5464396284829721, 353.0, 646]\n",
      "['20220701', '20220701']\n",
      "['20220622', '20220630']\n"
     ]
    },
    {
     "name": "stderr",
     "output_type": "stream",
     "text": [
      "100%|██████████| 10/10 [00:00<00:00, 233.53it/s]\n",
      "100%|██████████| 10/10 [00:00<00:00, 182.27it/s]\n",
      "100%|██████████| 10/10 [00:00<00:00, 2073.10it/s]\n",
      "100%|██████████| 10/10 [00:00<00:00, 1800.98it/s]\n"
     ]
    },
    {
     "name": "stdout",
     "output_type": "stream",
     "text": [
      "[0.5676100628930818, 361.0, 636]\n",
      "['20220702', '20220702']\n",
      "['20220623', '20220701']\n",
      "[0.5739549839228296, 357.0, 622]\n",
      "['20220703', '20220703']\n",
      "['20220624', '20220702']\n",
      "['20220704', '20220704']\n",
      "['20220625', '20220703']\n",
      "['20220705', '20220705']\n",
      "['20220626', '20220704']\n"
     ]
    },
    {
     "name": "stderr",
     "output_type": "stream",
     "text": [
      "100%|██████████| 10/10 [00:00<00:00, 187.46it/s]\n",
      "100%|██████████| 10/10 [00:00<00:00, 184.31it/s]\n",
      "100%|██████████| 10/10 [00:00<00:00, 2205.32it/s]\n",
      "100%|██████████| 10/10 [00:00<00:00, 2187.61it/s]\n",
      "100%|██████████| 10/10 [00:00<00:00, 280.48it/s]\n",
      "100%|██████████| 10/10 [00:00<00:00, 251.74it/s]\n",
      "100%|██████████| 10/10 [00:00<00:00, 2203.47it/s]\n",
      "100%|██████████| 10/10 [00:00<00:00, 1330.38it/s]\n"
     ]
    },
    {
     "name": "stdout",
     "output_type": "stream",
     "text": [
      "[0.5739549839228296, 357.0, 622]\n",
      "['20220706', '20220706']\n",
      "['20220627', '20220705']\n",
      "[0.5572998430141287, 355.0, 637]\n",
      "['20220707', '20220707']\n",
      "['20220628', '20220706']\n"
     ]
    },
    {
     "name": "stderr",
     "output_type": "stream",
     "text": [
      "100%|██████████| 10/10 [00:00<00:00, 186.24it/s]\n",
      "100%|██████████| 10/10 [00:00<00:00, 2037.65it/s]\n",
      "100%|██████████| 10/10 [00:00<00:00, 219.54it/s]\n",
      "100%|██████████| 10/10 [00:00<00:00, 2151.15it/s]\n"
     ]
    },
    {
     "name": "stdout",
     "output_type": "stream",
     "text": [
      "[0.5712050078247262, 365.0, 639]\n",
      "['20220708', '20220708']\n",
      "['20220629', '20220707']\n",
      "[0.6227347611202636, 378.0, 607]\n",
      "['20220709', '20220709']\n",
      "['20220630', '20220708']\n"
     ]
    },
    {
     "name": "stderr",
     "output_type": "stream",
     "text": [
      "100%|██████████| 10/10 [00:00<00:00, 232.63it/s]\n",
      "100%|██████████| 10/10 [00:00<00:00, 1995.29it/s]\n",
      "100%|██████████| 10/10 [00:00<00:00, 270.40it/s]\n",
      "100%|██████████| 10/10 [00:00<00:00, 2024.77it/s]\n",
      "100%|██████████| 10/10 [00:00<00:00, 237.34it/s]\n",
      "100%|██████████| 10/10 [00:00<00:00, 2278.52it/s]\n"
     ]
    },
    {
     "name": "stdout",
     "output_type": "stream",
     "text": [
      "['20220710', '20220710']\n",
      "['20220701', '20220709']\n",
      "['20220711', '20220711']\n",
      "['20220702', '20220710']\n"
     ]
    },
    {
     "name": "stderr",
     "output_type": "stream",
     "text": [
      "100%|██████████| 10/10 [00:00<00:00, 220.42it/s]\n",
      "100%|██████████| 10/10 [00:00<00:00, 2187.61it/s]\n",
      "100%|██████████| 10/10 [00:00<00:00, 240.35it/s]\n",
      "100%|██████████| 10/10 [00:00<00:00, 2190.58it/s]\n"
     ]
    },
    {
     "name": "stdout",
     "output_type": "stream",
     "text": [
      "[0.5955414012738853, 374.0, 628]\n",
      "['20220712', '20220712']\n",
      "['20220703', '20220711']\n",
      "[0.5838607594936709, 369.0, 632]\n",
      "['20220713', '20220713']\n",
      "['20220704', '20220712']\n",
      "[0.5980707395498392, 372.0, 622]\n",
      "['20220714', '20220714']\n",
      "['20220705', '20220713']\n"
     ]
    },
    {
     "name": "stderr",
     "output_type": "stream",
     "text": [
      "100%|██████████| 10/10 [00:00<00:00, 259.13it/s]\n",
      "100%|██████████| 10/10 [00:00<00:00, 1339.65it/s]\n",
      "100%|██████████| 10/10 [00:00<00:00, 226.53it/s]\n",
      "100%|██████████| 10/10 [00:00<00:00, 2028.68it/s]\n",
      "  0%|          | 0/10 [00:00<?, ?it/s]"
     ]
    },
    {
     "name": "stdout",
     "output_type": "stream",
     "text": [
      "[0.6282894736842105, 382.0, 608]\n",
      "['20220715', '20220715']\n",
      "['20220706', '20220714']\n",
      "[0.6227347611202636, 378.0, 607]\n",
      "['20220716', '20220716']\n",
      "['20220707', '20220715']\n",
      "[0.5696400625978091, 364.0, 639]\n",
      "['20220717', '20220717']\n",
      "['20220708', '20220716']\n",
      "['20220718', '20220718']\n",
      "['20220709', '20220717']\n"
     ]
    },
    {
     "name": "stderr",
     "output_type": "stream",
     "text": [
      "100%|██████████| 10/10 [00:00<00:00, 249.93it/s]\n",
      "100%|██████████| 10/10 [00:00<00:00, 236.78it/s]\n",
      "100%|██████████| 10/10 [00:00<00:00, 2109.07it/s]\n",
      "100%|██████████| 10/10 [00:00<00:00, 2092.13it/s]\n",
      "100%|██████████| 10/10 [00:00<00:00, 223.69it/s]\n",
      "100%|██████████| 10/10 [00:00<00:00, 1223.36it/s]\n",
      "100%|██████████| 10/10 [00:00<00:00, 235.12it/s]\n",
      "100%|██████████| 10/10 [00:00<00:00, 2241.27it/s]\n",
      "  0%|          | 0/10 [00:00<?, ?it/s]"
     ]
    },
    {
     "name": "stdout",
     "output_type": "stream",
     "text": [
      "['20220719', '20220719']\n",
      "['20220710', '20220718']\n"
     ]
    },
    {
     "name": "stderr",
     "output_type": "stream",
     "text": [
      "100%|██████████| 10/10 [00:00<00:00, 234.85it/s]\n",
      "100%|██████████| 10/10 [00:00<00:00, 1963.17it/s]\n"
     ]
    },
    {
     "name": "stdout",
     "output_type": "stream",
     "text": [
      "[0.5806962025316456, 367.0, 632]\n",
      "['20220720', '20220720']\n",
      "['20220711', '20220719']\n",
      "[0.553680981595092, 361.0, 652]\n",
      "['20220721', '20220721']\n",
      "['20220712', '20220720']\n",
      "[0.56656346749226, 366.0, 646]\n",
      "['20220722', '20220722']\n",
      "['20220713', '20220721']\n"
     ]
    },
    {
     "name": "stderr",
     "output_type": "stream",
     "text": [
      "100%|██████████| 10/10 [00:00<00:00, 228.99it/s]\n",
      "100%|██████████| 10/10 [00:00<00:00, 1882.37it/s]\n",
      "100%|██████████| 10/10 [00:00<00:00, 226.30it/s]\n",
      "100%|██████████| 10/10 [00:00<00:00, 1771.47it/s]\n",
      "100%|██████████| 10/10 [00:00<00:00, 217.80it/s]\n",
      "100%|██████████| 10/10 [00:00<00:00, 2168.05it/s]\n",
      "100%|██████████| 10/10 [00:00<00:00, 204.99it/s]\n",
      "100%|██████████| 10/10 [00:00<00:00, 2013.39it/s]\n",
      "100%|██████████| 10/10 [00:00<00:00, 270.85it/s]\n",
      "100%|██████████| 10/10 [00:00<00:00, 2350.94it/s]\n"
     ]
    },
    {
     "name": "stdout",
     "output_type": "stream",
     "text": [
      "[0.6282894736842105, 382.0, 608]\n",
      "['20220723', '20220723']\n",
      "['20220714', '20220722']\n",
      "['20220724', '20220724']\n",
      "['20220715', '20220723']\n",
      "['20220725', '20220725']\n",
      "['20220716', '20220724']\n"
     ]
    },
    {
     "name": "stderr",
     "output_type": "stream",
     "text": [
      "100%|██████████| 10/10 [00:00<00:00, 291.82it/s]\n",
      "100%|██████████| 10/10 [00:00<00:00, 2282.86it/s]\n"
     ]
    },
    {
     "name": "stdout",
     "output_type": "stream",
     "text": [
      "[0.54337899543379, 357.0, 657]\n",
      "['20220726', '20220726']\n",
      "['20220717', '20220725']\n",
      "[0.5370650529500757, 355.0, 661]\n",
      "['20220727', '20220727']\n",
      "['20220718', '20220726']\n",
      "[0.5806962025316456, 367.0, 632]\n",
      "['20220728', '20220728']\n",
      "['20220719', '20220727']\n"
     ]
    },
    {
     "name": "stderr",
     "output_type": "stream",
     "text": [
      "100%|██████████| 10/10 [00:00<00:00, 258.66it/s]\n",
      "100%|██████████| 10/10 [00:00<00:00, 2233.51it/s]\n",
      "100%|██████████| 10/10 [00:00<00:00, 230.44it/s]\n",
      "100%|██████████| 10/10 [00:00<00:00, 2150.59it/s]\n",
      "100%|██████████| 10/10 [00:00<00:00, 226.37it/s]\n",
      "100%|██████████| 10/10 [00:00<00:00, 2037.16it/s]\n",
      "  0%|          | 0/10 [00:00<?, ?it/s]"
     ]
    },
    {
     "name": "stdout",
     "output_type": "stream",
     "text": [
      "[0.5435114503816794, 356.0, 655]\n",
      "['20220729', '20220729']\n",
      "['20220720', '20220728']\n"
     ]
    },
    {
     "name": "stderr",
     "output_type": "stream",
     "text": [
      "100%|██████████| 10/10 [00:00<00:00, 208.60it/s]\n",
      "100%|██████████| 10/10 [00:00<00:00, 2807.62it/s]\n"
     ]
    },
    {
     "name": "stdout",
     "output_type": "stream",
     "text": [
      "[0.5669781931464174, 363.99999999999994, 642]\n",
      "['20220730', '20220730']\n",
      "['20220721', '20220729']\n",
      "[0.5403348554033486, 355.0, 657]\n",
      "['20220731', '20220731']\n",
      "['20220722', '20220730']\n",
      "[0.5436447166921899, 355.00000000000006, 653]\n",
      "['20220801', '20220801']\n",
      "['20220723', '20220731']\n",
      "[0.5669781931464174, 363.99999999999994, 642]\n",
      "['20220802', '20220802']\n",
      "['20220724', '20220801']\n",
      "['20220803', '20220803']\n",
      "['20220725', '20220802']\n",
      "['20220804', '20220804']\n",
      "['20220726', '20220803']\n"
     ]
    },
    {
     "name": "stderr",
     "output_type": "stream",
     "text": [
      "100%|██████████| 10/10 [00:00<00:00, 201.20it/s]\n",
      "100%|██████████| 10/10 [00:00<00:00, 362.57it/s]\n",
      "100%|██████████| 10/10 [00:00<00:00, 2175.47it/s]\n",
      "100%|██████████| 10/10 [00:00<00:00, 2260.71it/s]\n",
      "100%|██████████| 10/10 [00:00<00:00, 300.79it/s]\n",
      "100%|██████████| 10/10 [00:00<00:00, 2104.83it/s]\n",
      "100%|██████████| 10/10 [00:00<00:00, 229.83it/s]\n",
      "100%|██████████| 10/10 [00:00<00:00, 229.86it/s]\n",
      "100%|██████████| 10/10 [00:00<00:00, 1915.38it/s]\n",
      "100%|██████████| 10/10 [00:00<00:00, 1935.36it/s]\n",
      "100%|██████████| 10/10 [00:00<00:00, 248.30it/s]\n",
      "100%|██████████| 10/10 [00:00<00:00, 2102.83it/s]\n"
     ]
    },
    {
     "name": "stdout",
     "output_type": "stream",
     "text": [
      "[0.5330330330330331, 355.0, 666]\n",
      "['20220805', '20220805']\n",
      "['20220727', '20220804']\n",
      "[0.5692068429237948, 366.0, 643]\n",
      "['20220806', '20220806']\n",
      "['20220728', '20220805']\n"
     ]
    },
    {
     "name": "stderr",
     "output_type": "stream",
     "text": [
      "100%|██████████| 10/10 [00:00<00:00, 198.24it/s]\n",
      "100%|██████████| 10/10 [00:00<00:00, 2118.76it/s]\n",
      "100%|██████████| 10/10 [00:00<00:00, 195.61it/s]\n",
      "100%|██████████| 10/10 [00:00<00:00, 2154.24it/s]\n",
      "100%|██████████| 10/10 [00:00<00:00, 255.02it/s]\n",
      "100%|██████████| 10/10 [00:00<00:00, 2021.25it/s]\n",
      "100%|██████████| 10/10 [00:00<00:00, 298.90it/s]\n",
      "100%|██████████| 10/10 [00:00<00:00, 2055.02it/s]\n",
      "  0%|          | 0/10 [00:00<?, ?it/s]"
     ]
    },
    {
     "name": "stdout",
     "output_type": "stream",
     "text": [
      "[0.5692068429237948, 366.0, 643]\n",
      "['20220807', '20220807']\n",
      "['20220729', '20220806']\n",
      "['20220808', '20220808']\n",
      "['20220730', '20220807']\n",
      "['20220809', '20220809']\n",
      "['20220731', '20220808']\n"
     ]
    },
    {
     "name": "stderr",
     "output_type": "stream",
     "text": [
      "100%|██████████| 10/10 [00:00<00:00, 247.52it/s]\n",
      "100%|██████████| 10/10 [00:00<00:00, 2119.83it/s]\n",
      "100%|██████████| 10/10 [00:00<00:00, 250.48it/s]\n",
      "100%|██████████| 10/10 [00:00<00:00, 256.68it/s]\n",
      "100%|██████████| 10/10 [00:00<00:00, 217.58it/s]\n",
      "100%|██████████| 10/10 [00:00<00:00, 1990.18it/s]\n",
      "100%|██████████| 10/10 [00:00<00:00, 2841.28it/s]\n",
      "100%|██████████| 10/10 [00:00<00:00, 1976.21it/s]\n"
     ]
    },
    {
     "name": "stdout",
     "output_type": "stream",
     "text": [
      "[0.5429864253393665, 360.0, 663]\n",
      "['20220810', '20220810']\n",
      "['20220801', '20220809']\n",
      "['20220811', '20220811']\n",
      "['20220802', '20220810']\n",
      "[0.5800316957210776, 365.99999999999994, 631]\n",
      "['20220812', '20220812']\n",
      "['20220803', '20220811']\n",
      "[0.530827067669173, 353.00000000000006, 665]\n",
      "['20220813', '20220813']\n",
      "['20220804', '20220812']\n"
     ]
    },
    {
     "name": "stderr",
     "output_type": "stream",
     "text": [
      "100%|██████████| 10/10 [00:00<00:00, 261.64it/s]\n",
      "100%|██████████| 10/10 [00:00<00:00, 2124.45it/s]\n",
      "100%|██████████| 10/10 [00:00<00:00, 329.00it/s]\n",
      "100%|██████████| 10/10 [00:00<00:00, 2267.56it/s]\n",
      "100%|██████████| 10/10 [00:00<00:00, 358.50it/s]\n",
      "100%|██████████| 10/10 [00:00<00:00, 2264.74it/s]\n"
     ]
    },
    {
     "name": "stdout",
     "output_type": "stream",
     "text": [
      "[0.5301204819277109, 352.0, 664]\n",
      "['20220814', '20220814']\n",
      "['20220805', '20220813']\n",
      "['20220815', '20220815']\n",
      "['20220806', '20220814']\n",
      "['20220816', '20220816']\n",
      "['20220807', '20220815']\n",
      "['20220817', '20220817']\n",
      "['20220808', '20220816']\n",
      "[0.5800316957210776, 365.99999999999994, 631]\n",
      "['20220818', '20220818']\n",
      "['20220809', '20220817']\n"
     ]
    },
    {
     "name": "stderr",
     "output_type": "stream",
     "text": [
      "100%|██████████| 10/10 [00:00<00:00, 336.25it/s]\n",
      "100%|██████████| 10/10 [00:00<00:00, 2301.78it/s]\n",
      "100%|██████████| 10/10 [00:00<00:00, 210.29it/s]\n",
      "100%|██████████| 10/10 [00:00<00:00, 337.00it/s]\n",
      "100%|██████████| 10/10 [00:00<00:00, 2210.32it/s]\n",
      "100%|██████████| 10/10 [00:00<00:00, 2493.94it/s]\n",
      "100%|██████████| 10/10 [00:00<00:00, 267.93it/s]\n",
      "100%|██████████| 10/10 [00:00<00:00, 1350.34it/s]\n",
      "100%|██████████| 10/10 [00:00<00:00, 192.27it/s]\n",
      "100%|██████████| 10/10 [00:00<00:00, 328.85it/s]\n",
      "100%|██████████| 10/10 [00:00<00:00, 2312.70it/s]\n",
      "100%|██████████| 10/10 [00:00<00:00, 2144.22it/s]\n",
      "  0%|          | 0/10 [00:00<?, ?it/s]"
     ]
    },
    {
     "name": "stdout",
     "output_type": "stream",
     "text": [
      "[0.5540334855403348, 364.0, 657]\n",
      "['20220819', '20220819']\n",
      "['20220810', '20220818']\n",
      "[0.559322033898305, 362.99999999999994, 649]\n",
      "['20220820', '20220820']\n",
      "['20220811', '20220819']\n",
      "[0.5497702909647779, 359.0, 653]\n",
      "['20220821', '20220821']\n",
      "['20220812', '20220820']\n",
      "['20220822', '20220822']\n",
      "['20220813', '20220821']\n",
      "['20220823', '20220823']\n",
      "['20220814', '20220822']\n"
     ]
    },
    {
     "name": "stderr",
     "output_type": "stream",
     "text": [
      "100%|██████████| 10/10 [00:00<00:00, 308.75it/s]\n",
      "100%|██████████| 10/10 [00:00<00:00, 290.94it/s]\n",
      "100%|██████████| 10/10 [00:00<00:00, 2087.55it/s]\n",
      "100%|██████████| 10/10 [00:00<00:00, 2073.92it/s]\n"
     ]
    },
    {
     "name": "stdout",
     "output_type": "stream",
     "text": [
      "[0.557427258805513, 364.0, 653]\n",
      "['20220824', '20220824']\n",
      "['20220815', '20220823']\n"
     ]
    },
    {
     "name": "stderr",
     "output_type": "stream",
     "text": [
      "100%|██████████| 10/10 [00:00<00:00, 243.59it/s]\n",
      "100%|██████████| 10/10 [00:00<00:00, 1524.20it/s]\n"
     ]
    },
    {
     "name": "stdout",
     "output_type": "stream",
     "text": [
      "[0.5503048780487805, 361.0, 656]\n",
      "['20220825', '20220825']\n",
      "['20220816', '20220824']\n",
      "[0.6016, 376.0, 625]\n",
      "['20220826', '20220826']\n",
      "['20220817', '20220825']\n",
      "[0.6016, 376.0, 625]\n",
      "['20220827', '20220827']\n",
      "['20220818', '20220826']\n"
     ]
    },
    {
     "name": "stderr",
     "output_type": "stream",
     "text": [
      "100%|██████████| 10/10 [00:00<00:00, 238.28it/s]\n",
      "100%|██████████| 10/10 [00:00<00:00, 2139.30it/s]\n",
      "100%|██████████| 10/10 [00:00<00:00, 229.98it/s]\n",
      "100%|██████████| 10/10 [00:00<00:00, 1884.57it/s]\n",
      "100%|██████████| 10/10 [00:00<00:00, 224.26it/s]\n",
      "100%|██████████| 10/10 [00:00<00:00, 2126.17it/s]\n",
      "  0%|          | 0/10 [00:00<?, ?it/s]"
     ]
    },
    {
     "name": "stdout",
     "output_type": "stream",
     "text": [
      "['20220828', '20220828']\n",
      "['20220819', '20220827']\n",
      "['20220830', '20220830']\n",
      "['20220821', '20220829']\n",
      "[0.5347432024169184, 354.0, 662]\n",
      "['20220829', '20220829']\n",
      "['20220820', '20220828']\n"
     ]
    },
    {
     "name": "stderr",
     "output_type": "stream",
     "text": [
      "100%|██████████| 10/10 [00:00<00:00, 276.86it/s]\n",
      "100%|██████████| 10/10 [00:00<00:00, 2222.27it/s]\n",
      "100%|██████████| 10/10 [00:00<00:00, 264.74it/s]\n",
      "100%|██████████| 10/10 [00:00<00:00, 241.64it/s]\n",
      "100%|██████████| 10/10 [00:00<00:00, 2255.97it/s]\n",
      "100%|██████████| 10/10 [00:00<00:00, 2009.54it/s]\n"
     ]
    },
    {
     "name": "stdout",
     "output_type": "stream",
     "text": [
      "[0.543247344461305, 357.99999999999994, 659]\n",
      "['20220831', '20220831']\n",
      "['20220822', '20220830']\n",
      "[0.5363636363636364, 354.0, 660]\n",
      "['20220901', '20220901']\n",
      "['20220823', '20220831']\n",
      "['20220902', '20220902']\n",
      "['20220824', '20220901']\n",
      "[0.5238095238095238, 352.0, 672]\n",
      "['20220903', '20220903']\n",
      "['20220825', '20220902']\n"
     ]
    },
    {
     "name": "stderr",
     "output_type": "stream",
     "text": [
      "100%|██████████| 10/10 [00:00<00:00, 259.69it/s]\n",
      "100%|██████████| 10/10 [00:00<00:00, 2225.45it/s]\n",
      "100%|██████████| 10/10 [00:00<00:00, 262.71it/s]\n",
      "100%|██████████| 10/10 [00:00<00:00, 2059.26it/s]\n",
      "100%|██████████| 10/10 [00:00<00:00, 267.27it/s]\n",
      "100%|██████████| 10/10 [00:00<00:00, 1978.91it/s]\n",
      "100%|██████████| 10/10 [00:00<00:00, 294.65it/s]\n",
      "100%|██████████| 10/10 [00:00<00:00, 2515.17it/s]\n",
      "100%|██████████| 10/10 [00:00<00:00, 348.95it/s]\n",
      "100%|██████████| 10/10 [00:00<00:00, 265.65it/s]\n",
      "100%|██████████| 10/10 [00:00<00:00, 2073.00it/s]\n",
      "100%|██████████| 10/10 [00:00<00:00, 2574.46it/s]\n",
      "  0%|          | 0/10 [00:00<?, ?it/s]"
     ]
    },
    {
     "name": "stdout",
     "output_type": "stream",
     "text": [
      "[0.5110456553755522, 347.0, 679]\n",
      "['20220904', '20220904']\n",
      "['20220826', '20220903']\n",
      "['20220905', '20220905']\n",
      "['20220827', '20220904']\n",
      "['20220906', '20220906']\n",
      "['20220828', '20220905']\n",
      "[0.5882352941176471, 360.0, 612]\n",
      "['20220907', '20220907']\n",
      "['20220829', '20220906']\n",
      "[0.5780998389694042, 359.0, 621]\n",
      "['20220908', '20220908']\n",
      "['20220830', '20220907']\n"
     ]
    },
    {
     "name": "stderr",
     "output_type": "stream",
     "text": [
      "100%|██████████| 10/10 [00:00<00:00, 294.08it/s]\n",
      "100%|██████████| 10/10 [00:00<00:00, 1500.06it/s]\n",
      "100%|██████████| 10/10 [00:00<00:00, 256.03it/s]\n",
      "100%|██████████| 10/10 [00:00<00:00, 254.63it/s]\n",
      "100%|██████████| 10/10 [00:00<00:00, 2074.64it/s]\n",
      "100%|██████████| 10/10 [00:00<00:00, 2128.12it/s]\n"
     ]
    },
    {
     "name": "stdout",
     "output_type": "stream",
     "text": [
      "[0.5780998389694042, 359.0, 621]\n",
      "['20220909', '20220909']\n",
      "['20220831', '20220908']\n",
      "[0.536547433903577, 345.0, 643]\n",
      "['20220910', '20220910']\n",
      "['20220901', '20220909']\n",
      "['20220911', '20220911']\n",
      "['20220902', '20220910']\n"
     ]
    },
    {
     "name": "stderr",
     "output_type": "stream",
     "text": [
      "100%|██████████| 10/10 [00:00<00:00, 214.24it/s]\n",
      "100%|██████████| 10/10 [00:00<00:00, 2245.46it/s]\n",
      "100%|██████████| 10/10 [00:00<00:00, 257.96it/s]\n",
      "100%|██████████| 10/10 [00:00<00:00, 2130.06it/s]\n",
      "100%|██████████| 10/10 [00:00<00:00, 254.43it/s]\n",
      "100%|██████████| 10/10 [00:00<00:00, 2261.08it/s]\n",
      "100%|██████████| 10/10 [00:00<00:00, 293.65it/s]\n",
      "100%|██████████| 10/10 [00:00<00:00, 2186.70it/s]\n",
      "100%|██████████| 10/10 [00:00<00:00, 248.53it/s]\n",
      "100%|██████████| 10/10 [00:00<00:00, 2221.32it/s]\n",
      "100%|██████████| 10/10 [00:00<00:00, 218.69it/s]\n",
      "100%|██████████| 10/10 [00:00<00:00, 1966.76it/s]\n"
     ]
    },
    {
     "name": "stdout",
     "output_type": "stream",
     "text": [
      "[0.5841423948220065, 361.0, 618]\n",
      "['20220912', '20220912']\n",
      "['20220903', '20220911']\n",
      "['20220913', '20220913']\n",
      "['20220904', '20220912']\n",
      "[0.5841423948220065, 361.0, 618]\n",
      "['20220914', '20220914']\n",
      "['20220905', '20220913']\n",
      "[0.5313935681470138, 347.0, 653]\n",
      "['20220915', '20220915']\n",
      "['20220906', '20220914']\n",
      "[0.554858934169279, 354.0, 638]\n",
      "['20220916', '20220916']\n",
      "['20220907', '20220915']\n"
     ]
    },
    {
     "name": "stderr",
     "output_type": "stream",
     "text": [
      "100%|██████████| 10/10 [00:00<00:00, 208.10it/s]\n",
      "100%|██████████| 10/10 [00:00<00:00, 1932.95it/s]\n",
      "100%|██████████| 10/10 [00:00<00:00, 194.65it/s]\n",
      "100%|██████████| 10/10 [00:00<00:00, 1670.11it/s]\n"
     ]
    },
    {
     "name": "stdout",
     "output_type": "stream",
     "text": [
      "[0.5284178187403994, 344.0, 651]\n",
      "['20220917', '20220917']\n",
      "['20220908', '20220916']\n",
      "[0.5336391437308868, 349.0, 654]\n",
      "['20220918', '20220918']\n",
      "['20220909', '20220917']\n",
      "['20220919', '20220919']\n",
      "['20220910', '20220918']\n",
      "[0.49266862170087977, 336.0, 682]\n",
      "['20220920', '20220920']\n",
      "['20220911', '20220919']\n"
     ]
    },
    {
     "name": "stderr",
     "output_type": "stream",
     "text": [
      "100%|██████████| 10/10 [00:00<00:00, 234.70it/s]\n",
      "100%|██████████| 10/10 [00:00<00:00, 2085.89it/s]\n",
      "100%|██████████| 10/10 [00:00<00:00, 308.33it/s]\n",
      "100%|██████████| 10/10 [00:00<00:00, 2316.40it/s]\n",
      "100%|██████████| 10/10 [00:00<00:00, 299.64it/s]\n",
      "100%|██████████| 10/10 [00:00<00:00, 2146.63it/s]\n",
      "100%|██████████| 10/10 [00:00<00:00, 356.93it/s]\n",
      "100%|██████████| 10/10 [00:00<00:00, 2201.27it/s]\n",
      "100%|██████████| 10/10 [00:00<00:00, 240.01it/s]\n",
      "100%|██████████| 10/10 [00:00<00:00, 2101.25it/s]\n"
     ]
    },
    {
     "name": "stdout",
     "output_type": "stream",
     "text": [
      "['20220921', '20220921']\n",
      "['20220912', '20220920']\n",
      "[0.5336391437308868, 349.0, 654]\n",
      "['20220922', '20220922']\n",
      "['20220913', '20220921']\n",
      "[0.5212765957446809, 343.0, 658]\n",
      "['20220923', '20220923']\n",
      "['20220914', '20220922']\n",
      "[0.5075075075075075, 338.0, 666]\n",
      "['20220924', '20220924']\n",
      "['20220915', '20220923']\n",
      "[0.511380880121396, 337.0, 659]\n",
      "['20220925', '20220925']\n",
      "['20220916', '20220924']\n",
      "['20220926', '20220926']\n",
      "['20220917', '20220925']\n",
      "['20220927', '20220927']\n",
      "['20220918', '20220926']\n"
     ]
    },
    {
     "name": "stderr",
     "output_type": "stream",
     "text": [
      "100%|██████████| 10/10 [00:00<00:00, 236.96it/s]\n",
      "100%|██████████| 10/10 [00:00<00:00, 306.86it/s]\n",
      "100%|██████████| 10/10 [00:00<00:00, 2004.73it/s]\n",
      "100%|██████████| 10/10 [00:00<00:00, 2211.49it/s]\n",
      "100%|██████████| 10/10 [00:00<00:00, 262.98it/s]\n",
      "100%|██████████| 10/10 [00:00<00:00, 307.07it/s]\n",
      "100%|██████████| 10/10 [00:00<00:00, 2147.62it/s]\n",
      "100%|██████████| 10/10 [00:00<00:00, 2136.57it/s]\n",
      "100%|██████████| 10/10 [00:00<00:00, 304.49it/s]\n",
      "100%|██████████| 10/10 [00:00<00:00, 255.24it/s]\n",
      "100%|██████████| 10/10 [00:00<00:00, 2087.13it/s]\n",
      "100%|██████████| 10/10 [00:00<00:00, 2077.11it/s]\n",
      "100%|██████████| 10/10 [00:00<00:00, 226.21it/s]\n",
      "100%|██████████| 10/10 [00:00<00:00, 2192.99it/s]\n"
     ]
    },
    {
     "name": "stdout",
     "output_type": "stream",
     "text": [
      "[0.5825242718446602, 360.0, 618]\n",
      "['20220928', '20220928']\n",
      "['20220919', '20220927']\n",
      "[0.509009009009009, 339.0, 666]\n",
      "['20220929', '20220929']\n",
      "['20220920', '20220928']\n"
     ]
    },
    {
     "name": "stderr",
     "output_type": "stream",
     "text": [
      "100%|██████████| 10/10 [00:00<00:00, 232.72it/s]\n",
      "100%|██████████| 10/10 [00:00<00:00, 2145.31it/s]\n"
     ]
    },
    {
     "name": "stdout",
     "output_type": "stream",
     "text": [
      "[0.5172932330827068, 344.0, 665]\n",
      "['20220930', '20220930']\n",
      "['20220921', '20220929']\n",
      "[0.5825242718446602, 360.0, 618]\n",
      "['20221001', '20221001']\n",
      "['20220922', '20220930']\n"
     ]
    },
    {
     "name": "stderr",
     "output_type": "stream",
     "text": [
      "100%|██████████| 10/10 [00:00<00:00, 217.19it/s]\n",
      "100%|██████████| 10/10 [00:00<00:00, 2046.90it/s]\n",
      "100%|██████████| 10/10 [00:00<00:00, 228.12it/s]\n",
      "100%|██████████| 10/10 [00:00<00:00, 2222.74it/s]\n"
     ]
    },
    {
     "name": "stdout",
     "output_type": "stream",
     "text": [
      "['20221003', '20221003']\n",
      "['20220924', '20221002']\n",
      "[0.4792560801144492, 335.0, 699]\n",
      "['20221002', '20221002']\n",
      "['20220923', '20221001']\n"
     ]
    },
    {
     "name": "stderr",
     "output_type": "stream",
     "text": [
      "100%|██████████| 10/10 [00:00<00:00, 284.83it/s]\n",
      "100%|██████████| 10/10 [00:00<00:00, 1989.52it/s]\n",
      "100%|██████████| 10/10 [00:00<00:00, 156.22it/s]\n",
      "100%|██████████| 10/10 [00:00<00:00, 1082.46it/s]\n",
      "100%|██████████| 10/10 [00:00<00:00, 206.42it/s]\n",
      "100%|██████████| 10/10 [00:00<00:00, 187.29it/s]\n",
      "100%|██████████| 10/10 [00:00<00:00, 1555.23it/s]\n",
      "100%|██████████| 10/10 [00:00<00:00, 1202.05it/s]\n",
      "100%|██████████| 10/10 [00:00<00:00, 237.92it/s]\n",
      "100%|██████████| 10/10 [00:00<00:00, 2224.98it/s]\n",
      "100%|██████████| 10/10 [00:00<00:00, 240.12it/s]\n"
     ]
    },
    {
     "name": "stdout",
     "output_type": "stream",
     "text": [
      "[0.5172932330827068, 344.0, 665]\n",
      "['20221004', '20221004']\n",
      "['20220925', '20221003']\n",
      "['20221005', '20221005']\n",
      "['20220926', '20221004']\n",
      "[0.4710860366713681, 334.0, 709]\n",
      "['20221006', '20221006']\n",
      "['20220927', '20221005']\n",
      "['20221007', '20221007']\n",
      "['20220928', '20221006']\n"
     ]
    },
    {
     "name": "stderr",
     "output_type": "stream",
     "text": [
      "100%|██████████| 10/10 [00:00<00:00, 2005.31it/s]\n",
      "100%|██████████| 10/10 [00:00<00:00, 290.76it/s]\n",
      "100%|██████████| 10/10 [00:00<00:00, 2961.03it/s]\n",
      "  0%|          | 0/10 [00:00<?, ?it/s]"
     ]
    },
    {
     "name": "stdout",
     "output_type": "stream",
     "text": [
      "[0.4772727272727273, 336.0, 704]\n",
      "['20221008', '20221008']\n",
      "['20220929', '20221007']\n",
      "[0.5, 339.0, 678]\n",
      "['20221009', '20221009']\n",
      "['20220930', '20221008']\n",
      "['20221010', '20221010']\n",
      "['20221001', '20221009']\n",
      "['20221011', '20221011']\n",
      "['20221002', '20221010']\n"
     ]
    },
    {
     "name": "stderr",
     "output_type": "stream",
     "text": [
      "100%|██████████| 10/10 [00:00<00:00, 353.20it/s]\n",
      "100%|██████████| 10/10 [00:00<00:00, 2308.49it/s]\n",
      "100%|██████████| 10/10 [00:00<00:00, 346.99it/s]\n",
      "100%|██████████| 10/10 [00:00<00:00, 2399.62it/s]\n",
      "100%|██████████| 10/10 [00:00<00:00, 352.41it/s]\n",
      "100%|██████████| 10/10 [00:00<00:00, 2288.97it/s]\n"
     ]
    },
    {
     "name": "stdout",
     "output_type": "stream",
     "text": [
      "[0.4827089337175792, 335.0, 694]\n",
      "['20221012', '20221012']\n",
      "['20221003', '20221011']\n",
      "[0.5, 339.0, 678]\n",
      "['20221013', '20221013']\n",
      "['20221004', '20221012']\n"
     ]
    },
    {
     "name": "stderr",
     "output_type": "stream",
     "text": [
      "100%|██████████| 10/10 [00:00<00:00, 276.65it/s]\n",
      "100%|██████████| 10/10 [00:00<00:00, 1885.08it/s]\n",
      "100%|██████████| 10/10 [00:00<00:00, 260.76it/s]\n",
      "100%|██████████| 10/10 [00:00<00:00, 2171.41it/s]\n",
      "100%|██████████| 10/10 [00:00<00:00, 246.42it/s]\n",
      "100%|██████████| 10/10 [00:00<00:00, 222.01it/s]\n",
      "100%|██████████| 10/10 [00:00<00:00, 2044.71it/s]\n",
      "100%|██████████| 10/10 [00:00<00:00, 1984.06it/s]\n",
      "100%|██████████| 10/10 [00:00<00:00, 250.63it/s]\n",
      "100%|██████████| 10/10 [00:00<00:00, 267.67it/s]\n",
      "100%|██████████| 10/10 [00:00<00:00, 1985.94it/s]\n"
     ]
    },
    {
     "name": "stdout",
     "output_type": "stream",
     "text": [
      "[0.49343065693430654, 338.0, 685]\n",
      "['20221014', '20221014']\n",
      "['20221005', '20221013']\n",
      "[0.5607476635514018, 359.99999999999994, 642]\n",
      "['20221015', '20221015']\n",
      "['20221006', '20221014']\n",
      "[0.5607476635514018, 359.99999999999994, 642]\n",
      "['20221016', '20221016']\n",
      "['20221007', '20221015']\n",
      "['20221017', '20221017']\n",
      "['20221008', '20221016']\n"
     ]
    },
    {
     "name": "stderr",
     "output_type": "stream",
     "text": [
      "100%|██████████| 10/10 [00:00<00:00, 2024.57it/s]\n",
      "100%|██████████| 10/10 [00:00<00:00, 241.66it/s]\n",
      "100%|██████████| 10/10 [00:00<00:00, 1951.93it/s]\n",
      "100%|██████████| 10/10 [00:00<00:00, 223.82it/s]\n",
      "100%|██████████| 10/10 [00:00<00:00, 2170.29it/s]\n"
     ]
    },
    {
     "name": "stdout",
     "output_type": "stream",
     "text": [
      "[0.5422427035330261, 352.99999999999994, 651]\n",
      "['20221018', '20221018']\n",
      "['20221009', '20221017']\n",
      "['20221019', '20221019']\n",
      "['20221010', '20221018']\n"
     ]
    },
    {
     "name": "stderr",
     "output_type": "stream",
     "text": [
      "100%|██████████| 10/10 [00:00<00:00, 186.88it/s]\n",
      "100%|██████████| 10/10 [00:00<00:00, 1948.48it/s]\n"
     ]
    },
    {
     "name": "stdout",
     "output_type": "stream",
     "text": [
      "[0.5428134556574924, 355.0, 654]\n",
      "['20221020', '20221020']\n",
      "['20221011', '20221019']\n",
      "[0.5524691358024691, 358.0, 648]\n",
      "['20221021', '20221021']\n",
      "['20221012', '20221020']\n",
      "[0.4992679355783309, 341.0, 683]\n",
      "['20221022', '20221022']\n",
      "['20221013', '20221021']\n"
     ]
    },
    {
     "name": "stderr",
     "output_type": "stream",
     "text": [
      "100%|██████████| 10/10 [00:00<00:00, 235.06it/s]\n",
      "100%|██████████| 10/10 [00:00<00:00, 2013.88it/s]\n",
      "100%|██████████| 10/10 [00:00<00:00, 262.72it/s]\n",
      "100%|██████████| 10/10 [00:00<00:00, 2137.22it/s]\n"
     ]
    },
    {
     "name": "stdout",
     "output_type": "stream",
     "text": [
      "['20221023', '20221023']\n",
      "['20221014', '20221022']\n",
      "['20221024', '20221024']\n",
      "['20221015', '20221023']\n"
     ]
    },
    {
     "name": "stderr",
     "output_type": "stream",
     "text": [
      "100%|██████████| 10/10 [00:00<00:00, 277.74it/s]\n",
      "100%|██████████| 10/10 [00:00<00:00, 2203.47it/s]\n",
      "100%|██████████| 10/10 [00:00<00:00, 295.36it/s]\n",
      "100%|██████████| 10/10 [00:00<00:00, 2201.50it/s]\n"
     ]
    },
    {
     "name": "stdout",
     "output_type": "stream",
     "text": [
      "[0.5428134556574924, 355.0, 654]\n",
      "['20221025', '20221025']\n",
      "['20221016', '20221024']\n"
     ]
    },
    {
     "name": "stderr",
     "output_type": "stream",
     "text": [
      "100%|██████████| 10/10 [00:00<00:00, 249.32it/s]\n",
      "100%|██████████| 10/10 [00:00<00:00, 2142.03it/s]\n"
     ]
    },
    {
     "name": "stdout",
     "output_type": "stream",
     "text": [
      "[0.5616224648985959, 360.0, 641]\n",
      "['20221026', '20221026']\n",
      "['20221017', '20221025']\n",
      "[0.5862619808306709, 367.0, 626]\n",
      "['20221027', '20221027']\n",
      "['20221018', '20221026']\n",
      "['20221028', '20221028']\n",
      "['20221019', '20221027']\n",
      "[0.5862619808306709, 367.0, 626]\n",
      "['20221029', '20221029']\n",
      "['20221020', '20221028']\n"
     ]
    },
    {
     "name": "stderr",
     "output_type": "stream",
     "text": [
      "100%|██████████| 10/10 [00:00<00:00, 258.53it/s]\n",
      "100%|██████████| 10/10 [00:00<00:00, 2133.75it/s]\n",
      "100%|██████████| 10/10 [00:00<00:00, 256.74it/s]\n",
      "100%|██████████| 10/10 [00:00<00:00, 2195.86it/s]\n",
      "100%|██████████| 10/10 [00:00<00:00, 249.51it/s]\n",
      "100%|██████████| 10/10 [00:00<00:00, 2192.30it/s]\n",
      "100%|██████████| 10/10 [00:00<00:00, 281.05it/s]\n",
      "100%|██████████| 10/10 [00:00<00:00, 2068.81it/s]\n",
      "100%|██████████| 10/10 [00:00<00:00, 319.86it/s]\n",
      "100%|██████████| 10/10 [00:00<00:00, 2164.58it/s]\n",
      "100%|██████████| 10/10 [00:00<00:00, 341.39it/s]\n",
      "100%|██████████| 10/10 [00:00<00:00, 2346.60it/s]\n"
     ]
    },
    {
     "name": "stdout",
     "output_type": "stream",
     "text": [
      "['20221030', '20221030']\n",
      "['20221021', '20221029']\n",
      "[0.6101141924959217, 374.0, 613]\n",
      "['20221031', '20221031']\n",
      "['20221022', '20221030']\n",
      "['20221101', '20221101']\n",
      "['20221023', '20221031']\n"
     ]
    },
    {
     "name": "stderr",
     "output_type": "stream",
     "text": [
      "100%|██████████| 10/10 [00:00<00:00, 290.40it/s]\n",
      "100%|██████████| 10/10 [00:00<00:00, 2248.23it/s]\n",
      "100%|██████████| 10/10 [00:00<00:00, 257.80it/s]\n",
      "100%|██████████| 10/10 [00:00<00:00, 207.50it/s]\n",
      "100%|██████████| 10/10 [00:00<00:00, 1678.19it/s]\n",
      "100%|██████████| 10/10 [00:00<00:00, 1902.78it/s]\n"
     ]
    },
    {
     "name": "stdout",
     "output_type": "stream",
     "text": [
      "[0.5709779179810726, 362.0, 634]\n",
      "['20221102', '20221102']\n",
      "['20221024', '20221101']\n",
      "[0.567398119122257, 362.0, 638]\n",
      "['20221103', '20221103']\n",
      "['20221025', '20221102']\n",
      "[0.6101141924959217, 374.0, 613]\n",
      "['20221104', '20221104']\n",
      "['20221026', '20221103']\n",
      "[0.5780254777070064, 363.0, 628]\n",
      "['20221105', '20221105']\n",
      "['20221027', '20221104']\n",
      "['20221106', '20221106']\n",
      "['20221028', '20221105']\n"
     ]
    },
    {
     "name": "stderr",
     "output_type": "stream",
     "text": [
      "100%|██████████| 10/10 [00:00<00:00, 158.71it/s]\n",
      "100%|██████████| 10/10 [00:00<00:00, 192.66it/s]\n",
      "100%|██████████| 10/10 [00:00<00:00, 1525.76it/s]\n",
      "100%|██████████| 10/10 [00:00<00:00, 1410.42it/s]\n",
      "100%|██████████| 10/10 [00:00<00:00, 246.68it/s]\n",
      "100%|██████████| 10/10 [00:00<00:00, 1794.66it/s]\n",
      "100%|██████████| 10/10 [00:00<00:00, 297.92it/s]\n",
      "100%|██████████| 10/10 [00:00<00:00, 2274.20it/s]\n"
     ]
    },
    {
     "name": "stdout",
     "output_type": "stream",
     "text": [
      "['20221107', '20221107']\n",
      "['20221029', '20221106']\n",
      "[0.5768621236133122, 364.0, 631]\n",
      "['20221108', '20221108']\n",
      "['20221030', '20221107']\n"
     ]
    },
    {
     "name": "stderr",
     "output_type": "stream",
     "text": [
      "100%|██████████| 10/10 [00:00<00:00, 279.20it/s]\n",
      "100%|██████████| 10/10 [00:00<00:00, 2101.57it/s]\n",
      "100%|██████████| 10/10 [00:00<00:00, 251.68it/s]\n",
      "100%|██████████| 10/10 [00:00<00:00, 2040.73it/s]\n"
     ]
    },
    {
     "name": "stdout",
     "output_type": "stream",
     "text": [
      "['20221109', '20221109']\n",
      "['20221031', '20221108']\n",
      "[0.5269645608628659, 342.0, 649]\n",
      "['20221110', '20221110']\n",
      "['20221101', '20221109']\n"
     ]
    },
    {
     "name": "stderr",
     "output_type": "stream",
     "text": [
      "100%|██████████| 10/10 [00:00<00:00, 251.66it/s]\n",
      "100%|██████████| 10/10 [00:00<00:00, 2340.57it/s]\n"
     ]
    }
   ],
   "source": [
    "######################################\n",
    "## modeling / design choices\n",
    "#####################################\n",
    "\n",
    "use_eigen_portfolio_resid_version = False\n",
    "rolling_reg_window_size = 20    ## for rolling residualization of raw returns for the PCA returns. \n",
    "                                     ## Note: this parameter should be usually smaller than the 'window_size' param.\n",
    "rolling_pca_window_size = 3*rolling_reg_window_size   ## for rolling PCA calculation\n",
    "n_signif_eigvecs = 5\n",
    "\n",
    "\n",
    "## the time series size for which Time Series Clustering is performed\n",
    "#lb_days = int(365*0.025)\n",
    "lb_days = int(365*0.025)\n",
    "\n",
    "#ret_to_use_in_monetization = 'next_open2open_leading_1dret'\n",
    "#ret_to_use_in_monetization = 'open2open_leading_1dret'\n",
    "#ret_to_use_in_monetization = 'next_intraday_ret'\n",
    "ret_to_use_in_monetization = 'intraday_ret'\n",
    "\n",
    "\n",
    "#ret_to_use_in_monetization_train = 'open2open_lagging_1dret'\n",
    "ret_to_use_in_monetization_train = 'open2open_lagging_1dret_mktadj'\n",
    "\n",
    "\n",
    "#ret_to_use_for_clustering = 'open2open_lagging_1dret_robust' ##<-------------------\n",
    "ret_to_use_for_clustering = 'open2open_lagging_1dret_mktadj_robust'\n",
    "\n",
    "\n",
    "\n",
    "\n",
    "pct_invalid_threshold    = 0.05  ## 0.05\n",
    "demean_timeseries        = True ## False\n",
    "standardize_timeseries   = True  ## True\n",
    "cumsum_timeseries        = False  ## True\n",
    "smoothen_timeseries      = False\n",
    "n_clusters               = 20\n",
    "\n",
    "#market_beta_for_pcr = \"prev_\" + ret_to_use_in_monetization_train + \"_market_beta\"\n",
    "market_beta_for_pcr = None\n",
    "\n",
    "\n",
    "\n",
    "def run(start_date, next_start_date, lb_days=365):\n",
    "    \n",
    "    ####################################################################\n",
    "    ## define proper time contexts for the 'train' and 'test' datasets\n",
    "    ## and load them into memory.\n",
    "    ####################################################################\n",
    "    \n",
    "    month_start = start_date\n",
    "    month_end = (datetime.datetime.strptime(next_start_date, '%Y%m%d') - datetime.timedelta(days=1)).strftime(\"%Y%m%d\")\n",
    "    \n",
    "    if month_end < month_start:\n",
    "        month_end = month_start\n",
    "    \n",
    "    print([month_start, month_end])  ## no longer an appropriate nomenclature.\n",
    "    \n",
    "    if use_eigen_portfolio_resid_version:\n",
    "        learning_range_start = (datetime.datetime.strptime(month_start, \"%Y%m%d\") - datetime.timedelta(days=(lb_days+2*rolling_pca_window_size) )).strftime('%Y%m%d')\n",
    "    else:\n",
    "        learning_range_start = (datetime.datetime.strptime(month_start, \"%Y%m%d\") - datetime.timedelta(days=lb_days )).strftime('%Y%m%d')\n",
    "        \n",
    "    learning_range_end = (datetime.datetime.strptime(month_start, \"%Y%m%d\") - datetime.timedelta(days=1)).strftime('%Y%m%d')\n",
    "\n",
    "    print([learning_range_start, learning_range_end])\n",
    "    \n",
    "    \n",
    "    ## get 'train' and 'test' datasets\n",
    "    \n",
    "    \n",
    "    df_data = get_panel(sd=learning_range_start, ed=month_end)\n",
    "    \n",
    "    beta_cols = [c for c in df_data.columns if c.endswith(\"_market_beta\")]\n",
    "    df_data = tu.shift(df_inp=df_data, keys=[\"SYMBOL\"], cols=beta_cols, periods=1, prefix=\"prev_\")\n",
    "    \n",
    "\n",
    "    df_train = df_data[df_data.index <= learning_range_end]\n",
    "    df_test  = df_data[df_data.index >= month_start]\n",
    "\n",
    "    \n",
    "    if len(df_train) == 0 or len(df_test) == 0:\n",
    "        return [ [], [], [], [] ]\n",
    "    \n",
    "    \n",
    "    \n",
    "    \n",
    "    \n",
    "    ##########################################################\n",
    "    ## Get the eigen portfolio residualized returns.\n",
    "    ##\n",
    "    ##########################################################\n",
    "    if use_eigen_portfolio_resid_version:\n",
    "        pca_pct_invalid_threshold = 0.1\n",
    "        \n",
    "        ret = get_eigen_portfolio_residualized_returns(df_arg=df_train, \\\n",
    "                                                     ret_type=ret_to_use_for_clustering, \\\n",
    "                                                     secid_key='SYMBOL', \\\n",
    "                                                     cov_or_corr = \"cov\",\\\n",
    "                                                     window_size=rolling_pca_window_size, \\\n",
    "                                                     reg_window_size=rolling_reg_window_size,\\\n",
    "                                                     strict_lookback=False,\\\n",
    "                                                     n_signif_eigvecs = n_signif_eigvecs, \\\n",
    "                                                     pct_invalid_threshold=pca_pct_invalid_threshold)\n",
    "\n",
    "        df_ret = ret[0]\n",
    "        df_ev_rets = ret[1]\n",
    "\n",
    "        df_train = df_ret\n",
    "        \n",
    "        timeseries_to_cluster = ret_to_use_for_clustering + \"_residpcas\"\n",
    "        \n",
    "        \n",
    "        ## removing the extended period that was needed to perform the rolling PCA calculations.\n",
    "        df_train = df_train.iloc[rolling_pca_window_size:]\n",
    "    \n",
    "    else:\n",
    "        \n",
    "        timeseries_to_cluster = ret_to_use_for_clustering\n",
    "    \n",
    "    \n",
    "    \n",
    "    \n",
    "    \n",
    "    #########################\n",
    "    ## Train the model - \n",
    "    #########################\n",
    "    \n",
    "    retmat, col_names = get_time_series_matrix(df_arg=df_train, key_col=\"SYMBOL\",\\\n",
    "                    timeseries_to_cluster=timeseries_to_cluster,\\\n",
    "                    pct_invalid_threshold=pct_invalid_threshold)\n",
    "    \n",
    "    col_names = np.array(col_names)\n",
    "\n",
    "    ## set Nans to Zeros.\n",
    "    retmat = np.nan_to_num(retmat, 0)\n",
    "    \n",
    "    if demean_timeseries:\n",
    "        retmat = retmat - np.mean(retmat, axis=0)\n",
    "\n",
    "    if standardize_timeseries:\n",
    "        ## normalize each column in 'retmat' so that it has a std of 1.0\n",
    "        retmat = retmat / np.std(retmat, axis=0)\n",
    "        \n",
    "        ## if any of the columns in 'retmat' contains Inf, then drop the entire column and also update the list 'col_names'.\n",
    "        is_inf = np.isneginf(retmat) | np.isposinf(retmat) | np.isnan(retmat)\n",
    "        cols_with_atleast_one_inf = np.any(is_inf, axis=0)\n",
    "        indices_to_keep = list(np.logical_not( cols_with_atleast_one_inf ))\n",
    "        \n",
    "        retmat = retmat[:, indices_to_keep]\n",
    "        col_names = col_names[indices_to_keep]\n",
    "        \n",
    "        if len(col_names) == 0:\n",
    "            return [ [], [], [], [] ]\n",
    "    \n",
    "        \n",
    "\n",
    "    if cumsum_timeseries:\n",
    "        retmat = np.cumsum(retmat, axis=0)\n",
    "\n",
    "    if smoothen_timeseries:\n",
    "        retmat_lowess = np.hstack([ get_smoothed_series(retmat[:,colIdx])[:,np.newaxis]\\\n",
    "                                   for colIdx in range(retmat.shape[1])])\n",
    "        \n",
    "    else:\n",
    "        retmat_lowess = retmat\n",
    "    \n",
    "    \n",
    "    ## Do time series clustering.\n",
    "    \n",
    "    ## Note: TimeSeriesKMeans can be used to do a correlation based clustering of \n",
    "    ##       collection of time series if you subtract their sample means and then\n",
    "    ##       divide it their sample standard deviations; then, use the Euclidean\n",
    "    ##       distance measure in the clustering algorithm.\n",
    "    ##\n",
    "    ##       Here is how - \n",
    "    ##\n",
    "    ##       Let x, y be two \"normalized\" time series of equal length\n",
    "    ##   \n",
    "    ##       Correlation(x[:], y[:]) \n",
    "    ##               = rho(x, y)\n",
    "    ##               = (1/n) *  \\Sum_{i: 1->n} (x[i]-mean(x[:]))*(y[i]-mean(y[:])) / (stdev(x[:]) * stdev(y[:]))\n",
    "    ##\n",
    "    ##       EuclideanDistance(x[:], y[:])\n",
    "    ##               = euclid(x,y) \n",
    "    ##               = \\Sum_{i: 1->n} [ (x[i]-mean(x[:]))/stdev(x[:]) - (y[i]-mean(y[:]))/stdev(y[:]) ]^2\n",
    "    ##               = {\\Sum_{i: 1->n} [(x[i]-mean(x[:]))/stdev(x[:])]^2} \n",
    "    ##                   + {\\Sum_{i: 1->n} [(y[i]-mean(y[:]))/stdev(y[:])]^2}\n",
    "    ##                   - 2 * {\\Sum_{i: 1->n} (x[i]-mean(x[:]))*(y[i]-mean(y[:])) / (stdev(x[:]) * stdev(y[:]))} \n",
    "    ##               = {n*std(x[:])/std(x[:])} + {n*std(y[:])/std(y[:])} - 2 * n * rho(x[:], y[:])\n",
    "    ##               = 2*n - 2*n*rho(x[:], y[:])\n",
    "    ##               = 2 * n * ( 1- rho(x[:], y[:]))\n",
    "    ##\n",
    "    ##       Or, euclid(x, y) = 2*n*(1 - rho(x,y)) ---- (1)\n",
    "    ##       \n",
    "    ##       From Eq (1), we can see that higher the correlation b/w two \"normalized\" time series, smaller is the\n",
    "    ##       Euclidean distance between them.\n",
    "    ##                                                  \n",
    "    \n",
    "    if False:\n",
    "        if True:\n",
    "            model = TimeSeriesKMeans(n_clusters=n_clusters, metric=\"euclidean\",\n",
    "                                     max_iter=1000, random_state=0, \n",
    "                                     n_jobs=1)\n",
    "        elif False:\n",
    "            model = TimeSeriesKMeans(n_clusters=n_clusters, metric=\"dtw\",\n",
    "                                     max_iter=1000, random_state=0, \n",
    "                                     n_jobs=1)\n",
    "        elif False:\n",
    "            model = KShape(n_clusters=n_clusters, \n",
    "                                     max_iter=1000, random_state=0)\n",
    "\n",
    "        X_train = retmat_lowess.T ## each of the rows in X_train denotes one time series.\n",
    "\n",
    "        try:\n",
    "            model.fit(X_train)\n",
    "        except Exception as exception:\n",
    "            print(\"X_train.shape -> \", X_train.shape)\n",
    "            raise(exception)\n",
    "\n",
    "        unique_cluster_labels = list(set(list(model.labels_)))\n",
    "        \n",
    "        df_clusters = pd.DataFrame(dict(zip(unique_cluster_labels, [  [ list( col_names[[i for i in range(len(model.labels_)) if model.labels_[i] == l ]]) ] for l in unique_cluster_labels]  )))\n",
    "        df_clusters.columns.name = 'cluster'\n",
    "        df_clusters = df_clusters.transpose().reset_index().rename(columns={0: \"SYMBOL\"})\n",
    "        df_clusters['size'] = df_clusters['SYMBOL'].apply(lambda v: len(v))\n",
    "        df_clusters = df_clusters.explode(\"SYMBOL\")\n",
    "        df_clusters = df_clusters.astype({'cluster' : str})\n",
    "        \n",
    "    else:\n",
    "        #import tslearn\n",
    "        from pyclustering.cluster.kmedoids import kmedoids\n",
    "        from pyclustering.cluster.xmeans import xmeans, splitting_type\n",
    "        from pyclustering.utils.metric import distance_metric, type_metric\n",
    "\n",
    "        start_medoids = np.random.choice(np.arange(retmat_lowess.T.shape[0]), size=n_clusters)\n",
    "        \n",
    "        \n",
    "        if 0:\n",
    "            user_function = lambda ts1, ts2: 1.0 - tslearn_metrics_lcss(ts1, ts2)\n",
    "            metric = distance_metric(type_metric.USER_DEFINED, func=user_function)\n",
    "            model = kmedoids(data=retmat_lowess.T, initial_index_medoids=start_medoids, metric=metric)\n",
    "        \n",
    "        if 1:\n",
    "            model = kmedoids(data=retmat_lowess.T, initial_index_medoids=start_medoids, metric=distance_metric(type_metric.EUCLIDEAN))\n",
    "        \n",
    "        res = model.process()\n",
    "        clusters = model.get_clusters()\n",
    "\n",
    "        _k = [i for i in range(len(clusters))]\n",
    "        _v = [ [list(np.array(col_names)[clusters[i]])] for i in range(len(clusters)) ]\n",
    "        df_clusters = pd.DataFrame(dict(zip( _k, _v )))\n",
    "        df_clusters.columns.name = 'cluster'\n",
    "        df_clusters = df_clusters.transpose().reset_index().rename(columns={0: \"SYMBOL\"})\n",
    "        df_clusters['size'] = df_clusters['SYMBOL'].apply(lambda v: len(v))\n",
    "        df_clusters = df_clusters.explode(\"SYMBOL\")\n",
    "        df_clusters = df_clusters.astype({'cluster' : str})\n",
    "    \n",
    "    \n",
    "    \n",
    "    #display(df_clusters)\n",
    "    \n",
    "    ## add cluster label to each instrumet in the 'train' dataset\n",
    "    df_train = df_train.reset_index('timestamp').merge(df_clusters, how='left', left_on='SYMBOL', right_on=\"SYMBOL\").set_index('timestamp').sort_index()\n",
    "    df_train['cluster'] = df_train['cluster'].fillna('NA')\n",
    "    \n",
    "    \n",
    "    \n",
    "    ###############################\n",
    "    ### Monetize the model - \n",
    "    ###############################\n",
    "    \n",
    "    \n",
    "    df_test = df_test.reset_index('timestamp').merge(df_clusters, how='left', left_on='SYMBOL', right_on=\"SYMBOL\").set_index('timestamp').sort_index()\n",
    "    df_test['cluster'] = df_test['cluster'].fillna('NA')\n",
    "    \n",
    "    \n",
    "    ## (1)\n",
    "    ## - get the sharpe of each cluster using unsmoothed returns\n",
    "    ## - cross sectionally z-score the cluster sharpes, or, could use the sharpes as well.\n",
    "    ## - equal-weight, (1/vol)-weight, (rootadv/vol)-weight all the stocks in a cluster and then multiply these weights \n",
    "    ##   by the cluster's sharpe (over the 'train' period) to get the forecast for a SYMBOL.\n",
    "    \n",
    "    ## We compute the Sharpe ratio for each cluster using the sum of equal weighted returns of stocks in that cluster.\n",
    "    ## We drop all those stocks in the 'test' dataset that do not have a cluster assigned to them (perhaps because \n",
    "    ## they were not included in the time series clustering step due to having too many invalid entries in their timeseries)\n",
    "    df_cluster_pnl_train = df_train.dropna(axis=0, subset=['cluster']).groupby(['timestamp','cluster'])[[ret_to_use_in_monetization_train]].sum() \n",
    "    df_cluster_pnl_train = df_cluster_pnl_train.reset_index().pivot(index='timestamp', columns='cluster', values=ret_to_use_in_monetization_train)\n",
    "    df_cluster_shapes_train = df_cluster_pnl_train.describe().transpose()\n",
    "    df_cluster_shapes_train['annSharpe'] = np.sqrt(252) * df_cluster_shapes_train['mean'] / df_cluster_shapes_train['std']\n",
    "    \n",
    "    ## cross sectionally z-score the sharpes\n",
    "    df_cluster_shapes_train['annSharpe_z'] = (df_cluster_shapes_train['annSharpe'] \n",
    "                                              - df_cluster_shapes_train['annSharpe'].median()) \\\n",
    "                                                / abs(df_cluster_shapes_train['annSharpe'] \\\n",
    "                                                - df_cluster_shapes_train['annSharpe'].median()) \\\n",
    "                                            .median()\n",
    "    \n",
    "    ## compute forecast for the 'test' dataset\n",
    "    df_test['cluster_sharpe'] = df_test['cluster'].apply(lambda v: df_cluster_shapes_train.loc[v]['annSharpe'] if v != 'NA' else np.nan)\n",
    "    df_test['cluster_sharpe_z'] = df_test['cluster'].apply(lambda v: df_cluster_shapes_train.loc[v]['annSharpe_z'] if v!= 'NA' else np.nan)\n",
    "    \n",
    "    ## equal weight being used to compute the position proxy\n",
    "    df_test['pos_proxy'] = 1\n",
    "    df_test['fcst_mon1_v1'] = df_test['cluster_sharpe']\n",
    "    df_test['fcst_mon1_v2'] = df_test['cluster_sharpe_z']\n",
    "    \n",
    "    df_test['pnl_mon1_v1'] = df_test['pos_proxy'] * df_test['fcst_mon1_v1'] * df_test[ret_to_use_in_monetization]\n",
    "    df_test['pnl_mon1_v2'] = df_test['pos_proxy'] * df_test['fcst_mon1_v2'] * df_test[ret_to_use_in_monetization]\n",
    "    \n",
    "    \n",
    "    ## (2)\n",
    "    ## a sector-momentum like strategy.\n",
    "    ## - get cluster mean returns, (equal weighted)\n",
    "    ## - score stocks based on their distance from their cluster mean, \n",
    "    ## - go long low score stocks and short high score stocks\n",
    "    \n",
    "    df_cluster_pnl_train = df_train.dropna(axis=0, subset=['cluster']).groupby(['timestamp','cluster'])[[ret_to_use_in_monetization_train]].mean() ## notice the mean\n",
    "    df_cluster_cumret_train = df_cluster_pnl_train.groupby('cluster')[ret_to_use_in_monetization_train].sum()\n",
    "    df_inst_cumret_train = df_train.reset_index().pivot(index='timestamp', columns='SYMBOL', values=ret_to_use_in_monetization_train).sum()\n",
    "    \n",
    "    df_test['train_cumret'] = df_test['SYMBOL'].apply(lambda v: df_inst_cumret_train.loc[v] if v in df_inst_cumret_train.index else np.nan)\n",
    "    df_test['train_cluster_cumret'] = df_test['cluster'].apply(lambda v: df_cluster_cumret_train.loc[v] if v != 'NA' else np.nan)\n",
    "    df_test['diff'] = df_test['train_cumret'] - df_test['train_cluster_cumret']\n",
    "    \n",
    "    df_diff_csz_stats_test = df_test.dropna(axis=0, subset=['cluster']).groupby(['timestamp', 'cluster'])[['diff']].agg(['mean', 'std']).droplevel(axis=1, level=0).reset_index(1)\n",
    "    \n",
    "    df_test = tu.left_join(df_left=df_test, df_right=df_diff_csz_stats_test, keys=['cluster'], strict_lookback=False)\n",
    "    \n",
    "    df_test['fcst_mon2_v1'] = -1* (df_test['diff'] - df_test['mean'])\n",
    "    df_test['fcst_mon2_v2'] = -1* (df_test['diff'])\n",
    "    \n",
    "    df_test['pnl_mon2_v1'] = df_test['pos_proxy'] * df_test['fcst_mon2_v1'] * df_test[ret_to_use_in_monetization]\n",
    "    df_test['pnl_mon2_v2'] = df_test['pos_proxy'] * df_test['fcst_mon2_v2'] * df_test[ret_to_use_in_monetization]\n",
    "    \n",
    "    if market_beta_for_pcr is not None:\n",
    "        df_test = ru.resid_pc(df_inp=df_test, \\\n",
    "                      secid_colname=\"SYMBOL\", \\\n",
    "                      cols_to_residualize=[\"fcst_mon2_v1\", \"fcst_mon2_v2\"],\\\n",
    "                      cols_to_residualize_for=[market_beta_for_pcr], \\\n",
    "                      keys=[], \\\n",
    "                      use_intercept=True,\\\n",
    "                     suffix=\"_pcr\"\n",
    "                    )\n",
    "        df_test['pnl_mon2_v1_pcr'] = df_test['pos_proxy'] * df_test['fcst_mon2_v1_pcr'] * df_test[ret_to_use_in_monetization]\n",
    "        df_test['pnl_mon2_v2_pcr'] = df_test['pos_proxy'] * df_test['fcst_mon2_v2_pcr'] * df_test[ret_to_use_in_monetization]\n",
    "        \n",
    "    else:\n",
    "        df_test['fcst_mon2_v1_pcr'] = df_test['fcst_mon2_v1']\n",
    "        df_test['pnl_mon2_v1_pcr'] = df_test['pos_proxy'] * df_test['fcst_mon2_v1_pcr'] * df_test[ret_to_use_in_monetization]\n",
    "        \n",
    "        df_test['fcst_mon2_v2_pcr'] = df_test['fcst_mon2_v2']\n",
    "        df_test['pnl_mon2_v2_pcr'] = df_test['pos_proxy'] * df_test['fcst_mon2_v2_pcr'] * df_test[ret_to_use_in_monetization]\n",
    "    \n",
    "    \n",
    "    \n",
    "    ## compute forecast vectors to use during the 'test': timestamp | SYMBOL | cluster_id | fcst\n",
    "    \n",
    "    fcst_cols = ['fcst_mon1_v1', 'fcst_mon1_v2', 'fcst_mon2_v1', 'fcst_mon2_v1_pcr', 'fcst_mon2_v2', 'fcst_mon2_v2_pcr']\n",
    "    pnl_cols  = ['pnl_mon1_v1', 'pnl_mon1_v2', 'pnl_mon2_v1', 'pnl_mon2_v1_pcr', 'pnl_mon2_v2', 'pnl_mon2_v2_pcr']\n",
    "    \n",
    "    df_test = df_test[ ['SYMBOL', 'cluster'] + fcst_cols + pnl_cols]\n",
    "    \n",
    "        \n",
    "    return [df_clusters, df_test, fcst_cols, pnl_cols]\n",
    "\n",
    "\n",
    "\n",
    "sim_start_date = '20160601'\n",
    "sim_end_date = '20221111'\n",
    "freq = '1d'\n",
    "date_list = list(map(lambda d: d.strftime('%Y%m%d'), pd.date_range(sim_start_date, sim_end_date, freq=freq)))\n",
    "if freq != '1d':\n",
    "    date_list = [sim_start_date] + date_list\n",
    "#print(date_list)\n",
    "\n",
    "\n",
    "\n",
    "#x = run(\"20181025\", \"20181026\")\n",
    "\n",
    "if False:\n",
    "    ret_list = []\n",
    "    for idx in range(len(date_list)-1):\n",
    "    #for idx in [0]:\n",
    "        print('----------------------------------------------------')\n",
    "        df = run(date_list[idx], date_list[idx+1], lb_days=lb_days)\n",
    "        ret_list.append(df)            \n",
    "elif True:\n",
    "    args_list = []\n",
    "    for idx in range(len(date_list)-1):\n",
    "        args_list.append( (date_list[idx], date_list[idx+1],) )\n",
    "    \n",
    "    from joblib import Parallel, delayed\n",
    "    ret_list = Parallel(n_jobs=15)(delayed(run)(args[0], args[1], lb_days) for args in args_list)\n",
    "\n",
    "\n",
    "##ret_list\n",
    "\n",
    "df_fcst = pd.concat([ ele[1] for ele in ret_list if len(ele[1]) > 0], axis=0).sort_index()\n",
    "\n",
    "\n",
    "'''\n",
    "    TODO: Constrain the forecast to instruments in the trading universe. (currently, we have used the \"staging\" universe.)\n",
    "'''\n",
    "\n",
    "df_pnl = df_fcst.groupby('timestamp')[ [c for c in df_fcst.columns if c.startswith(\"pnl_\")] ].sum()\n",
    "\n",
    "'''\n",
    "    TODO: Do vol conditioning of the forecast.\n",
    "'''\n",
    "\n",
    "df_pnl['mean'] = df_pnl['pnl_mon2_v1_pcr'].rolling(10, min_periods=5).mean()\n",
    "df_pnl['vol'] = df_pnl['pnl_mon2_v1_pcr'].rolling(10, min_periods=5).std()\n",
    "df_pnl['sr'] = df_pnl['mean'] / df_pnl['vol']\n",
    "df_pnl['sr_demean'] = df_pnl['sr'] - df_pnl['sr'].rolling(10, min_periods=5).mean()\n",
    "df_pnl['sr_demean'] = df_pnl['sr_demean'].shift(periods=1)\n",
    "df_pnl['pnl_srcond'] = df_pnl['pnl_mon2_v1_pcr'] * (1 + df_pnl['sr_demean'].apply(lambda v:  v))\n",
    "\n",
    "df_fcst['fcst_mon2_v1_pcr'] *= (1 + df_pnl['sr_demean'].apply(lambda v:  v))\n",
    "\n",
    "\n",
    "## <df>_insample = get_insample(<df>)\n",
    "df_fcst_insample = get_insample(df_fcst)\n",
    "df_pnl_insample = get_insample(df_pnl)"
   ]
  },
  {
   "cell_type": "code",
   "execution_count": 29,
   "id": "c8e57d38-1e78-405d-af8a-2196d3c5f9ec",
   "metadata": {
    "tags": []
   },
   "outputs": [
    {
     "data": {
      "text/html": [
       "<div>\n",
       "<style scoped>\n",
       "    .dataframe tbody tr th:only-of-type {\n",
       "        vertical-align: middle;\n",
       "    }\n",
       "\n",
       "    .dataframe tbody tr th {\n",
       "        vertical-align: top;\n",
       "    }\n",
       "\n",
       "    .dataframe thead th {\n",
       "        text-align: right;\n",
       "    }\n",
       "</style>\n",
       "<table border=\"1\" class=\"dataframe\">\n",
       "  <thead>\n",
       "    <tr style=\"text-align: right;\">\n",
       "      <th></th>\n",
       "      <th>count</th>\n",
       "      <th>mean</th>\n",
       "      <th>std</th>\n",
       "      <th>min</th>\n",
       "      <th>25%</th>\n",
       "      <th>50%</th>\n",
       "      <th>75%</th>\n",
       "      <th>max</th>\n",
       "      <th>asr</th>\n",
       "    </tr>\n",
       "  </thead>\n",
       "  <tbody>\n",
       "    <tr>\n",
       "      <th>pnl_mon1_v1</th>\n",
       "      <td>808.0</td>\n",
       "      <td>-1.653478</td>\n",
       "      <td>18.642099</td>\n",
       "      <td>-116.435750</td>\n",
       "      <td>-6.788076</td>\n",
       "      <td>-0.551294</td>\n",
       "      <td>4.268667</td>\n",
       "      <td>114.378370</td>\n",
       "      <td>-1.408004</td>\n",
       "    </tr>\n",
       "    <tr>\n",
       "      <th>pnl_mon1_v2</th>\n",
       "      <td>808.0</td>\n",
       "      <td>0.005417</td>\n",
       "      <td>1.448512</td>\n",
       "      <td>-6.741502</td>\n",
       "      <td>-0.693552</td>\n",
       "      <td>-0.032977</td>\n",
       "      <td>0.579186</td>\n",
       "      <td>11.321104</td>\n",
       "      <td>0.059364</td>\n",
       "    </tr>\n",
       "    <tr>\n",
       "      <th>pnl_mon2_v1</th>\n",
       "      <td>808.0</td>\n",
       "      <td>0.007710</td>\n",
       "      <td>0.061303</td>\n",
       "      <td>-0.242297</td>\n",
       "      <td>-0.025959</td>\n",
       "      <td>0.005455</td>\n",
       "      <td>0.034448</td>\n",
       "      <td>0.400705</td>\n",
       "      <td>1.996432</td>\n",
       "    </tr>\n",
       "    <tr>\n",
       "      <th>pnl_mon2_v1_pcr</th>\n",
       "      <td>808.0</td>\n",
       "      <td>0.007710</td>\n",
       "      <td>0.061303</td>\n",
       "      <td>-0.242297</td>\n",
       "      <td>-0.025959</td>\n",
       "      <td>0.005455</td>\n",
       "      <td>0.034448</td>\n",
       "      <td>0.400705</td>\n",
       "      <td>1.996432</td>\n",
       "    </tr>\n",
       "    <tr>\n",
       "      <th>pnl_srcond</th>\n",
       "      <td>799.0</td>\n",
       "      <td>0.008045</td>\n",
       "      <td>0.062882</td>\n",
       "      <td>-0.244640</td>\n",
       "      <td>-0.024140</td>\n",
       "      <td>0.004659</td>\n",
       "      <td>0.034618</td>\n",
       "      <td>0.419452</td>\n",
       "      <td>2.030976</td>\n",
       "    </tr>\n",
       "    <tr>\n",
       "      <th>pnl_mon2_v2</th>\n",
       "      <td>808.0</td>\n",
       "      <td>0.007826</td>\n",
       "      <td>0.061305</td>\n",
       "      <td>-0.239165</td>\n",
       "      <td>-0.025960</td>\n",
       "      <td>0.004858</td>\n",
       "      <td>0.035014</td>\n",
       "      <td>0.404022</td>\n",
       "      <td>2.026567</td>\n",
       "    </tr>\n",
       "    <tr>\n",
       "      <th>pnl_mon2_v2_pcr</th>\n",
       "      <td>808.0</td>\n",
       "      <td>0.007826</td>\n",
       "      <td>0.061305</td>\n",
       "      <td>-0.239165</td>\n",
       "      <td>-0.025960</td>\n",
       "      <td>0.004858</td>\n",
       "      <td>0.035014</td>\n",
       "      <td>0.404022</td>\n",
       "      <td>2.026567</td>\n",
       "    </tr>\n",
       "  </tbody>\n",
       "</table>\n",
       "</div>"
      ],
      "text/plain": [
       "                 count      mean        std         min       25%       50%  \\\n",
       "pnl_mon1_v1      808.0 -1.653478  18.642099 -116.435750 -6.788076 -0.551294   \n",
       "pnl_mon1_v2      808.0  0.005417   1.448512   -6.741502 -0.693552 -0.032977   \n",
       "pnl_mon2_v1      808.0  0.007710   0.061303   -0.242297 -0.025959  0.005455   \n",
       "pnl_mon2_v1_pcr  808.0  0.007710   0.061303   -0.242297 -0.025959  0.005455   \n",
       "pnl_srcond       799.0  0.008045   0.062882   -0.244640 -0.024140  0.004659   \n",
       "pnl_mon2_v2      808.0  0.007826   0.061305   -0.239165 -0.025960  0.004858   \n",
       "pnl_mon2_v2_pcr  808.0  0.007826   0.061305   -0.239165 -0.025960  0.004858   \n",
       "\n",
       "                      75%         max       asr  \n",
       "pnl_mon1_v1      4.268667  114.378370 -1.408004  \n",
       "pnl_mon1_v2      0.579186   11.321104  0.059364  \n",
       "pnl_mon2_v1      0.034448    0.400705  1.996432  \n",
       "pnl_mon2_v1_pcr  0.034448    0.400705  1.996432  \n",
       "pnl_srcond       0.034618    0.419452  2.030976  \n",
       "pnl_mon2_v2      0.035014    0.404022  2.026567  \n",
       "pnl_mon2_v2_pcr  0.035014    0.404022  2.026567  "
      ]
     },
     "execution_count": 29,
     "metadata": {},
     "output_type": "execute_result"
    },
    {
     "data": {
      "image/png": "[encoded data removed]",
      "text/plain": [
       "<Figure size 640x480 with 1 Axes>"
      ]
     },
     "metadata": {},
     "output_type": "display_data"
    }
   ],
   "source": [
    "\"\"\"\n",
    "    k-medoids  (non-cumulated returns., unsmoothed, euclidean distance)\n",
    "\"\"\"\n",
    "df_pnl_insample[['pnl_mon2_v1', 'pnl_mon2_v1_pcr', 'pnl_srcond', 'pnl_mon2_v2', 'pnl_mon2_v2_pcr']].cumsum().plot()\n",
    "d = df_pnl_insample[['pnl_mon1_v1', 'pnl_mon1_v2', 'pnl_mon2_v1', 'pnl_mon2_v1_pcr', 'pnl_srcond', 'pnl_mon2_v2', 'pnl_mon2_v2_pcr']].describe().transpose()\n",
    "d['asr'] = np.sqrt(252) * d['mean'] / d['std']\n",
    "d"
   ]
  },
  {
   "cell_type": "code",
   "execution_count": 5,
   "id": "2350a6ce-3140-491f-ade7-30370036f324",
   "metadata": {},
   "outputs": [
    {
     "data": {
      "text/html": [
       "<div>\n",
       "<style scoped>\n",
       "    .dataframe tbody tr th:only-of-type {\n",
       "        vertical-align: middle;\n",
       "    }\n",
       "\n",
       "    .dataframe tbody tr th {\n",
       "        vertical-align: top;\n",
       "    }\n",
       "\n",
       "    .dataframe thead th {\n",
       "        text-align: right;\n",
       "    }\n",
       "</style>\n",
       "<table border=\"1\" class=\"dataframe\">\n",
       "  <thead>\n",
       "    <tr style=\"text-align: right;\">\n",
       "      <th></th>\n",
       "      <th>count</th>\n",
       "      <th>mean</th>\n",
       "      <th>std</th>\n",
       "      <th>min</th>\n",
       "      <th>25%</th>\n",
       "      <th>50%</th>\n",
       "      <th>75%</th>\n",
       "      <th>max</th>\n",
       "      <th>asr</th>\n",
       "    </tr>\n",
       "  </thead>\n",
       "  <tbody>\n",
       "    <tr>\n",
       "      <th>pnl_mon1_v1</th>\n",
       "      <td>794.0</td>\n",
       "      <td>0.055287</td>\n",
       "      <td>9.636535</td>\n",
       "      <td>-50.332458</td>\n",
       "      <td>-3.120973</td>\n",
       "      <td>-0.228511</td>\n",
       "      <td>2.894954</td>\n",
       "      <td>68.162203</td>\n",
       "      <td>0.091076</td>\n",
       "    </tr>\n",
       "    <tr>\n",
       "      <th>pnl_mon1_v2</th>\n",
       "      <td>794.0</td>\n",
       "      <td>0.000928</td>\n",
       "      <td>1.255578</td>\n",
       "      <td>-6.458518</td>\n",
       "      <td>-0.627258</td>\n",
       "      <td>0.004144</td>\n",
       "      <td>0.586085</td>\n",
       "      <td>6.928321</td>\n",
       "      <td>0.011728</td>\n",
       "    </tr>\n",
       "    <tr>\n",
       "      <th>pnl_mon2_v1</th>\n",
       "      <td>794.0</td>\n",
       "      <td>0.008150</td>\n",
       "      <td>0.057954</td>\n",
       "      <td>-0.211654</td>\n",
       "      <td>-0.023685</td>\n",
       "      <td>0.004847</td>\n",
       "      <td>0.033424</td>\n",
       "      <td>0.389356</td>\n",
       "      <td>2.232404</td>\n",
       "    </tr>\n",
       "    <tr>\n",
       "      <th>pnl_mon2_v1_pcr</th>\n",
       "      <td>794.0</td>\n",
       "      <td>0.008150</td>\n",
       "      <td>0.057954</td>\n",
       "      <td>-0.211654</td>\n",
       "      <td>-0.023685</td>\n",
       "      <td>0.004847</td>\n",
       "      <td>0.033424</td>\n",
       "      <td>0.389356</td>\n",
       "      <td>2.232404</td>\n",
       "    </tr>\n",
       "    <tr>\n",
       "      <th>pnl_srcond</th>\n",
       "      <td>785.0</td>\n",
       "      <td>0.008996</td>\n",
       "      <td>0.060314</td>\n",
       "      <td>-0.200523</td>\n",
       "      <td>-0.021182</td>\n",
       "      <td>0.004456</td>\n",
       "      <td>0.034622</td>\n",
       "      <td>0.362843</td>\n",
       "      <td>2.367611</td>\n",
       "    </tr>\n",
       "    <tr>\n",
       "      <th>pnl_mon2_v2</th>\n",
       "      <td>794.0</td>\n",
       "      <td>0.008220</td>\n",
       "      <td>0.057756</td>\n",
       "      <td>-0.208590</td>\n",
       "      <td>-0.022964</td>\n",
       "      <td>0.004586</td>\n",
       "      <td>0.033306</td>\n",
       "      <td>0.389766</td>\n",
       "      <td>2.259236</td>\n",
       "    </tr>\n",
       "    <tr>\n",
       "      <th>pnl_mon2_v2_pcr</th>\n",
       "      <td>794.0</td>\n",
       "      <td>0.008220</td>\n",
       "      <td>0.057756</td>\n",
       "      <td>-0.208590</td>\n",
       "      <td>-0.022964</td>\n",
       "      <td>0.004586</td>\n",
       "      <td>0.033306</td>\n",
       "      <td>0.389766</td>\n",
       "      <td>2.259236</td>\n",
       "    </tr>\n",
       "  </tbody>\n",
       "</table>\n",
       "</div>"
      ],
      "text/plain": [
       "                 count      mean       std        min       25%       50%  \\\n",
       "pnl_mon1_v1      794.0  0.055287  9.636535 -50.332458 -3.120973 -0.228511   \n",
       "pnl_mon1_v2      794.0  0.000928  1.255578  -6.458518 -0.627258  0.004144   \n",
       "pnl_mon2_v1      794.0  0.008150  0.057954  -0.211654 -0.023685  0.004847   \n",
       "pnl_mon2_v1_pcr  794.0  0.008150  0.057954  -0.211654 -0.023685  0.004847   \n",
       "pnl_srcond       785.0  0.008996  0.060314  -0.200523 -0.021182  0.004456   \n",
       "pnl_mon2_v2      794.0  0.008220  0.057756  -0.208590 -0.022964  0.004586   \n",
       "pnl_mon2_v2_pcr  794.0  0.008220  0.057756  -0.208590 -0.022964  0.004586   \n",
       "\n",
       "                      75%        max       asr  \n",
       "pnl_mon1_v1      2.894954  68.162203  0.091076  \n",
       "pnl_mon1_v2      0.586085   6.928321  0.011728  \n",
       "pnl_mon2_v1      0.033424   0.389356  2.232404  \n",
       "pnl_mon2_v1_pcr  0.033424   0.389356  2.232404  \n",
       "pnl_srcond       0.034622   0.362843  2.367611  \n",
       "pnl_mon2_v2      0.033306   0.389766  2.259236  \n",
       "pnl_mon2_v2_pcr  0.033306   0.389766  2.259236  "
      ]
     },
     "execution_count": 5,
     "metadata": {},
     "output_type": "execute_result"
    },
    {
     "data": {
      "image/png": "[encoded data removed]",
      "text/plain": [
       "<Figure size 640x480 with 1 Axes>"
      ]
     },
     "metadata": {},
     "output_type": "display_data"
    },
    {
     "name": "stdout",
     "output_type": "stream",
     "text": [
      "[0.5509259259259259, 357.0, 648]\n",
      "[0.536547433903577, 345.0, 643]\n",
      "[0.5768621236133122, 364.0, 631]\n",
      "[0.536547433903577, 345.0, 643]\n",
      "[0.5414110429447853, 353.0, 652]\n",
      "[0.5233644859813084, 335.99999999999994, 642]\n",
      "[0.5822368421052632, 354.0, 608]\n",
      "[0.5822368421052632, 354.0, 608]\n",
      "[0.49019607843137253, 325.0, 663]\n",
      "[0.5470219435736677, 349.0, 638]\n",
      "[0.5636942675159236, 354.0, 628]\n",
      "[0.5345911949685535, 340.0, 636]\n",
      "[0.5266362252663622, 346.0, 657]\n",
      "[0.49633967789165445, 339.0, 683]\n"
     ]
    }
   ],
   "source": [
    "\"\"\"\n",
    "    k-medoids (non-cumulated returns (mktadj), unsmoothed, euclidean distance)\n",
    "\"\"\"\n",
    "df_pnl_insample[['pnl_mon2_v1', 'pnl_mon2_v1_pcr', 'pnl_srcond', 'pnl_mon2_v2', 'pnl_mon2_v2_pcr']].cumsum().plot()\n",
    "d = df_pnl_insample[['pnl_mon1_v1', 'pnl_mon1_v2', 'pnl_mon2_v1', 'pnl_mon2_v1_pcr', 'pnl_srcond', 'pnl_mon2_v2', 'pnl_mon2_v2_pcr']].describe().transpose()\n",
    "d['asr'] = np.sqrt(252) * d['mean'] / d['std']\n",
    "d"
   ]
  },
  {
   "cell_type": "code",
   "execution_count": null,
   "id": "abf64f88-0bb7-42a1-ac99-0334f5dabb37",
   "metadata": {},
   "outputs": [],
   "source": []
  },
  {
   "cell_type": "code",
   "execution_count": null,
   "id": "df3c0739-a8f3-4cf5-8cc5-1185e607aef1",
   "metadata": {},
   "outputs": [],
   "source": []
  },
  {
   "cell_type": "code",
   "execution_count": null,
   "id": "93c57f78-5d30-4779-8981-bd33300aac23",
   "metadata": {},
   "outputs": [],
   "source": []
  },
  {
   "cell_type": "code",
   "execution_count": null,
   "id": "b15378e4-3530-4132-b19e-590618169516",
   "metadata": {},
   "outputs": [],
   "source": [
    "df_pnl_insample[['pnl_mon1_v1']].cumsum().plot()"
   ]
  },
  {
   "cell_type": "code",
   "execution_count": null,
   "id": "2f8cd56c-5627-4f4c-aee7-89094172cf2f",
   "metadata": {},
   "outputs": [],
   "source": [
    "df_pnl_insample.corr()"
   ]
  },
  {
   "cell_type": "code",
   "execution_count": null,
   "id": "5d24c11e-a7c4-41d3-818e-b3f3670b7ff3",
   "metadata": {},
   "outputs": [],
   "source": [
    "df_pnl_insample_mktadj = df_pnl_insample[['pnl_mon2_v1_pcr', 'pnl_srcond']]\n",
    "df_pnl_insample_mktadj"
   ]
  },
  {
   "cell_type": "code",
   "execution_count": null,
   "id": "44c23928-0692-40c1-8061-14b198bf4fce",
   "metadata": {},
   "outputs": [],
   "source": [
    "df_pnl_insample_raw = df_pnl_insample[['pnl_mon2_v1_pcr', 'pnl_srcond']]\n",
    "df_pnl_insample_raw"
   ]
  },
  {
   "cell_type": "code",
   "execution_count": null,
   "id": "a0e2dd2a-4c2d-4497-b3a1-ff9e2fc4f3e7",
   "metadata": {},
   "outputs": [],
   "source": [
    "dfz = tu.left_join(df_pnl_insample_mktadj, df_pnl_insample_raw, left_alias='_mktadj', right_alias='_raw')\n",
    "dfz.corr()"
   ]
  },
  {
   "cell_type": "code",
   "execution_count": null,
   "id": "5d634322-0ab1-4262-9755-d2f7655e2802",
   "metadata": {},
   "outputs": [],
   "source": []
  },
  {
   "cell_type": "code",
   "execution_count": null,
   "id": "e43ba99c-f1f2-4e3e-9648-8b29cae136a2",
   "metadata": {},
   "outputs": [],
   "source": []
  },
  {
   "cell_type": "code",
   "execution_count": null,
   "id": "4cd5e05f-6bbd-482d-8b60-92c6caee7ff4",
   "metadata": {},
   "outputs": [],
   "source": []
  },
  {
   "cell_type": "code",
   "execution_count": null,
   "id": "0474dfaa-f659-4902-a07a-32361e2df38f",
   "metadata": {},
   "outputs": [],
   "source": [
    "fcst_col = 'fcst_mon2_v1_pcr'\n",
    "dff = df_fcst_insample[['SYMBOL', fcst_col]]\n",
    "display(dff[[fcst_col]].describe().transpose())\n",
    "\n",
    "dff[[fcst_col]].plot.hist(bins=50)"
   ]
  },
  {
   "cell_type": "code",
   "execution_count": null,
   "id": "b8206284-31df-40fa-aa92-016528933b3b",
   "metadata": {},
   "outputs": [],
   "source": [
    "ru.get_forecast_acf(df_fcst, secid=\"SYMBOL\", fcst_colname=\"fcst_mon2_v1_pcr\", max_lags=10)"
   ]
  },
  {
   "cell_type": "code",
   "execution_count": null,
   "id": "2f9f7bc7-b8c2-47e8-81d2-4fbb8f25ff60",
   "metadata": {},
   "outputs": [],
   "source": []
  },
  {
   "cell_type": "code",
   "execution_count": null,
   "id": "c29a131c-5e0f-4200-a7cd-0ce2b7f4a663",
   "metadata": {},
   "outputs": [],
   "source": []
  },
  {
   "cell_type": "code",
   "execution_count": null,
   "id": "9e162bf7-ab94-4ae7-90a8-0cd468575a3c",
   "metadata": {},
   "outputs": [],
   "source": []
  },
  {
   "cell_type": "code",
   "execution_count": null,
   "id": "2be79de4-fd72-4a8c-bbdf-13a64de4ce31",
   "metadata": {},
   "outputs": [],
   "source": []
  },
  {
   "cell_type": "code",
   "execution_count": null,
   "id": "bcce8e80-fe89-4954-996b-b0f20ab0445f",
   "metadata": {},
   "outputs": [],
   "source": []
  },
  {
   "cell_type": "code",
   "execution_count": null,
   "id": "e468db04-e8c2-4a83-8a2e-474ae7139bdb",
   "metadata": {},
   "outputs": [],
   "source": []
  },
  {
   "cell_type": "code",
   "execution_count": null,
   "id": "0ae128cf-bd7e-4677-82f5-782c6da1e035",
   "metadata": {},
   "outputs": [],
   "source": []
  },
  {
   "cell_type": "markdown",
   "id": "3aac8e73-a8e2-4629-8064-554806030420",
   "metadata": {
    "jp-MarkdownHeadingCollapsed": true,
    "tags": [],
    "toc-hr-collapsed": true
   },
   "source": [
    "#### test"
   ]
  },
  {
   "cell_type": "code",
   "execution_count": null,
   "id": "2cad9184-7717-4e5d-8023-7fb2ebc5676d",
   "metadata": {},
   "outputs": [],
   "source": [
    "m1 = np.random.normal(10, 5, 100)\n",
    "m2 = np.random.normal(0, 3, 200)\n",
    "\n",
    "m = np.hstack([m1, m2])\n",
    "\n",
    "C = np.zeros((m.shape[0], m.shape[0]))\n",
    "for i in range(C.shape[0]):\n",
    "    for j in range(C.shape[1]):\n",
    "        C[i, j] = abs(m[i] - m[j])\n",
    "\n",
    "C = C.flatten()\n",
    "C = C[abs(C) > 0.0000001]\n",
    "plt.hist(C)\n",
    "\n"
   ]
  },
  {
   "cell_type": "markdown",
   "id": "41ef1ced-34a5-43cd-9a24-9924ba792835",
   "metadata": {
    "jp-MarkdownHeadingCollapsed": true,
    "tags": [],
    "toc-hr-collapsed": true
   },
   "source": [
    "#### test2"
   ]
  },
  {
   "cell_type": "code",
   "execution_count": null,
   "id": "edc9e684-946d-47bd-94f8-84dccf83ebba",
   "metadata": {
    "tags": []
   },
   "outputs": [],
   "source": [
    "import numpy as np\n",
    "\n",
    "from sklearn.cluster import DBSCAN\n",
    "from sklearn import metrics\n",
    "from sklearn.datasets import make_blobs\n",
    "from sklearn.preprocessing import StandardScaler\n",
    "\n",
    "\n",
    "centers = [[1, 1], [-1, -1], [1, -1]]\n",
    "X, labels_true = make_blobs(\n",
    "    n_samples=750, centers=centers, cluster_std=0.3, random_state=0\n",
    ")\n",
    "\n",
    "X = StandardScaler().fit_transform(X)\n",
    "display(X)\n",
    "\n",
    "C = np.zeros((X.shape[0], X.shape[0]))\n",
    "for i in range(X.shape[0]):\n",
    "    for j in range(X.shape[0]):\n",
    "        d_i = X[i,:]\n",
    "        d_j = X[j,:]\n",
    "        C[i,j] = np.sum((d_i - d_j) ** 2)\n",
    "        \n",
    "C = np.triu(C, k=0)\n",
    "C = C.flatten()\n",
    "C = C[abs(C) > 0.000000000000001]\n",
    "plt.hist(C, bins=50)"
   ]
  },
  {
   "cell_type": "code",
   "execution_count": null,
   "id": "a8f53343-c5a9-4243-9657-2604f2723e05",
   "metadata": {},
   "outputs": [],
   "source": []
  },
  {
   "cell_type": "code",
   "execution_count": null,
   "id": "39e0d78e-d8ef-49c4-a565-fbd7af935e43",
   "metadata": {},
   "outputs": [],
   "source": []
  },
  {
   "cell_type": "code",
   "execution_count": null,
   "id": "fd4a3805-2200-4b8e-824b-ad527c89c243",
   "metadata": {},
   "outputs": [],
   "source": []
  },
  {
   "cell_type": "code",
   "execution_count": null,
   "id": "c8530c63-aa07-498b-b5b7-491389689edb",
   "metadata": {},
   "outputs": [],
   "source": [
    "db = DBSCAN(eps=0.3, min_samples=10).fit(X)\n",
    "core_samples_mask = np.zeros_like(db.labels_, dtype=bool)\n",
    "core_samples_mask[db.core_sample_indices_] = True\n",
    "labels = db.labels_\n",
    "\n",
    "# Number of clusters in labels, ignoring noise if present.\n",
    "n_clusters_ = len(set(labels)) - (1 if -1 in labels else 0)\n",
    "n_noise_ = list(labels).count(-1)\n",
    "\n",
    "print(\"Estimated number of clusters: %d\" % n_clusters_)\n",
    "print(\"Estimated number of noise points: %d\" % n_noise_)\n",
    "print(\"Homogeneity: %0.3f\" % metrics.homogeneity_score(labels_true, labels))\n",
    "print(\"Completeness: %0.3f\" % metrics.completeness_score(labels_true, labels))\n",
    "print(\"V-measure: %0.3f\" % metrics.v_measure_score(labels_true, labels))\n",
    "print(\"Adjusted Rand Index: %0.3f\" % metrics.adjusted_rand_score(labels_true, labels))\n",
    "print(\n",
    "    \"Adjusted Mutual Information: %0.3f\"\n",
    "    % metrics.adjusted_mutual_info_score(labels_true, labels)\n",
    ")\n",
    "print(\"Silhouette Coefficient: %0.3f\" % metrics.silhouette_score(X, labels))"
   ]
  },
  {
   "cell_type": "code",
   "execution_count": null,
   "id": "163bf221-a059-4363-97d5-c27ddce0c607",
   "metadata": {},
   "outputs": [],
   "source": [
    "import matplotlib.pyplot as plt\n",
    "\n",
    "# Black removed and is used for noise instead.\n",
    "unique_labels = set(labels)\n",
    "colors = [plt.cm.Spectral(each) for each in np.linspace(0, 1, len(unique_labels))]\n",
    "for k, col in zip(unique_labels, colors):\n",
    "    if k == -1:\n",
    "        # Black used for noise.\n",
    "        col = [0, 0, 0, 1]\n",
    "\n",
    "    class_member_mask = labels == k\n",
    "\n",
    "    xy = X[class_member_mask & core_samples_mask]\n",
    "    plt.plot(\n",
    "        xy[:, 0],\n",
    "        xy[:, 1],\n",
    "        \"o\",\n",
    "        markerfacecolor=tuple(col),\n",
    "        markeredgecolor=\"k\",\n",
    "        markersize=14,\n",
    "    )\n",
    "\n",
    "    xy = X[class_member_mask & ~core_samples_mask]\n",
    "    plt.plot(\n",
    "        xy[:, 0],\n",
    "        xy[:, 1],\n",
    "        \"o\",\n",
    "        markerfacecolor=tuple(col),\n",
    "        markeredgecolor=\"k\",\n",
    "        markersize=6,\n",
    "    )\n",
    "\n",
    "plt.title(\"Estimated number of clusters: %d\" % n_clusters_)\n",
    "plt.show()"
   ]
  }
 ],
 "metadata": {
  "kernelspec": {
   "display_name": "Python 3 (ipykernel)",
   "language": "python",
   "name": "python3"
  },
  "language_info": {
   "codemirror_mode": {
    "name": "ipython",
    "version": 3
   },
   "file_extension": ".py",
   "mimetype": "text/x-python",
   "name": "python",
   "nbconvert_exporter": "python",
   "pygments_lexer": "ipython3",
   "version": "3.9.13"
  }
 },
 "nbformat": 4,
 "nbformat_minor": 5
}
